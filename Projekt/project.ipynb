{
 "cells": [
  {
   "cell_type": "markdown",
   "metadata": {},
   "source": [
    "Pobranie wszystkich bibliotek potrzebnych do analizy"
   ]
  },
  {
   "cell_type": "code",
   "execution_count": 1004,
   "metadata": {},
   "outputs": [],
   "source": [
    "import pandas as pd\n",
    "import numpy as np\n",
    "from sklearn.model_selection import train_test_split\n",
    "from sklearn.metrics import accuracy_score, classification_report, confusion_matrix\n",
    "from sklearn.preprocessing import LabelEncoder\n",
    "from sklearn.utils import resample\n",
    "from sklearn.linear_model import LogisticRegression\n",
    "from sklearn.ensemble import RandomForestClassifier\n",
    "from sklearn.pipeline import Pipeline\n",
    "from sklearn.tree import DecisionTreeClassifier\n",
    "from imblearn.over_sampling import RandomOverSampler\n",
    "import matplotlib.pyplot as plt\n",
    "import dalex as dx\n",
    "\n",
    "from sklearn.compose import ColumnTransformer\n",
    "from sklearn.preprocessing import OneHotEncoder, StandardScaler\n",
    "\n",
    "import warnings\n",
    "warnings.filterwarnings('ignore')"
   ]
  },
  {
   "cell_type": "markdown",
   "metadata": {},
   "source": [
    "Zaimportowanie danych wraz z krótką analizą"
   ]
  },
  {
   "cell_type": "code",
   "execution_count": 1005,
   "metadata": {},
   "outputs": [
    {
     "data": {
      "text/html": [
       "<div>\n",
       "<style scoped>\n",
       "    .dataframe tbody tr th:only-of-type {\n",
       "        vertical-align: middle;\n",
       "    }\n",
       "\n",
       "    .dataframe tbody tr th {\n",
       "        vertical-align: top;\n",
       "    }\n",
       "\n",
       "    .dataframe thead th {\n",
       "        text-align: right;\n",
       "    }\n",
       "</style>\n",
       "<table border=\"1\" class=\"dataframe\">\n",
       "  <thead>\n",
       "    <tr style=\"text-align: right;\">\n",
       "      <th></th>\n",
       "      <th>city_development_index</th>\n",
       "      <th>gender</th>\n",
       "      <th>relevent_experience</th>\n",
       "      <th>enrolled_university</th>\n",
       "      <th>education_level</th>\n",
       "      <th>major_discipline</th>\n",
       "      <th>experience</th>\n",
       "      <th>company_size</th>\n",
       "      <th>company_type</th>\n",
       "      <th>last_new_job</th>\n",
       "      <th>training_hours</th>\n",
       "      <th>target</th>\n",
       "    </tr>\n",
       "  </thead>\n",
       "  <tbody>\n",
       "    <tr>\n",
       "      <th>1586</th>\n",
       "      <td>0.920</td>\n",
       "      <td>Female</td>\n",
       "      <td>Has relevent experience</td>\n",
       "      <td>no_enrollment</td>\n",
       "      <td>Graduate</td>\n",
       "      <td>STEM</td>\n",
       "      <td>2</td>\n",
       "      <td>50-99</td>\n",
       "      <td>Pvt Ltd</td>\n",
       "      <td>1</td>\n",
       "      <td>43</td>\n",
       "      <td>0.0</td>\n",
       "    </tr>\n",
       "    <tr>\n",
       "      <th>6725</th>\n",
       "      <td>0.920</td>\n",
       "      <td>NaN</td>\n",
       "      <td>Has relevent experience</td>\n",
       "      <td>no_enrollment</td>\n",
       "      <td>Graduate</td>\n",
       "      <td>STEM</td>\n",
       "      <td>15</td>\n",
       "      <td>50-99</td>\n",
       "      <td>Pvt Ltd</td>\n",
       "      <td>1</td>\n",
       "      <td>79</td>\n",
       "      <td>0.0</td>\n",
       "    </tr>\n",
       "    <tr>\n",
       "      <th>11514</th>\n",
       "      <td>0.926</td>\n",
       "      <td>NaN</td>\n",
       "      <td>No relevent experience</td>\n",
       "      <td>no_enrollment</td>\n",
       "      <td>Phd</td>\n",
       "      <td>STEM</td>\n",
       "      <td>&gt;20</td>\n",
       "      <td>10000+</td>\n",
       "      <td>Pvt Ltd</td>\n",
       "      <td>&gt;4</td>\n",
       "      <td>18</td>\n",
       "      <td>1.0</td>\n",
       "    </tr>\n",
       "    <tr>\n",
       "      <th>6312</th>\n",
       "      <td>0.843</td>\n",
       "      <td>NaN</td>\n",
       "      <td>Has relevent experience</td>\n",
       "      <td>no_enrollment</td>\n",
       "      <td>Graduate</td>\n",
       "      <td>STEM</td>\n",
       "      <td>9</td>\n",
       "      <td>100-500</td>\n",
       "      <td>NGO</td>\n",
       "      <td>1</td>\n",
       "      <td>130</td>\n",
       "      <td>0.0</td>\n",
       "    </tr>\n",
       "    <tr>\n",
       "      <th>11364</th>\n",
       "      <td>0.804</td>\n",
       "      <td>NaN</td>\n",
       "      <td>Has relevent experience</td>\n",
       "      <td>Part time course</td>\n",
       "      <td>Graduate</td>\n",
       "      <td>STEM</td>\n",
       "      <td>8</td>\n",
       "      <td>10/49</td>\n",
       "      <td>Pvt Ltd</td>\n",
       "      <td>1</td>\n",
       "      <td>17</td>\n",
       "      <td>0.0</td>\n",
       "    </tr>\n",
       "    <tr>\n",
       "      <th>...</th>\n",
       "      <td>...</td>\n",
       "      <td>...</td>\n",
       "      <td>...</td>\n",
       "      <td>...</td>\n",
       "      <td>...</td>\n",
       "      <td>...</td>\n",
       "      <td>...</td>\n",
       "      <td>...</td>\n",
       "      <td>...</td>\n",
       "      <td>...</td>\n",
       "      <td>...</td>\n",
       "      <td>...</td>\n",
       "    </tr>\n",
       "    <tr>\n",
       "      <th>3646</th>\n",
       "      <td>0.550</td>\n",
       "      <td>Male</td>\n",
       "      <td>Has relevent experience</td>\n",
       "      <td>Part time course</td>\n",
       "      <td>Graduate</td>\n",
       "      <td>STEM</td>\n",
       "      <td>2</td>\n",
       "      <td>10/49</td>\n",
       "      <td>Early Stage Startup</td>\n",
       "      <td>1</td>\n",
       "      <td>41</td>\n",
       "      <td>0.0</td>\n",
       "    </tr>\n",
       "    <tr>\n",
       "      <th>10342</th>\n",
       "      <td>0.920</td>\n",
       "      <td>Male</td>\n",
       "      <td>No relevent experience</td>\n",
       "      <td>Full time course</td>\n",
       "      <td>Graduate</td>\n",
       "      <td>STEM</td>\n",
       "      <td>14</td>\n",
       "      <td>NaN</td>\n",
       "      <td>NaN</td>\n",
       "      <td>never</td>\n",
       "      <td>88</td>\n",
       "      <td>0.0</td>\n",
       "    </tr>\n",
       "    <tr>\n",
       "      <th>664</th>\n",
       "      <td>0.804</td>\n",
       "      <td>NaN</td>\n",
       "      <td>Has relevent experience</td>\n",
       "      <td>NaN</td>\n",
       "      <td>Graduate</td>\n",
       "      <td>STEM</td>\n",
       "      <td>12</td>\n",
       "      <td>5000-9999</td>\n",
       "      <td>Pvt Ltd</td>\n",
       "      <td>1</td>\n",
       "      <td>182</td>\n",
       "      <td>0.0</td>\n",
       "    </tr>\n",
       "    <tr>\n",
       "      <th>10580</th>\n",
       "      <td>0.884</td>\n",
       "      <td>Male</td>\n",
       "      <td>Has relevent experience</td>\n",
       "      <td>no_enrollment</td>\n",
       "      <td>Masters</td>\n",
       "      <td>STEM</td>\n",
       "      <td>9</td>\n",
       "      <td>50-99</td>\n",
       "      <td>Public Sector</td>\n",
       "      <td>3</td>\n",
       "      <td>166</td>\n",
       "      <td>0.0</td>\n",
       "    </tr>\n",
       "    <tr>\n",
       "      <th>7359</th>\n",
       "      <td>0.767</td>\n",
       "      <td>Male</td>\n",
       "      <td>Has relevent experience</td>\n",
       "      <td>no_enrollment</td>\n",
       "      <td>High School</td>\n",
       "      <td>NaN</td>\n",
       "      <td>1</td>\n",
       "      <td>&lt;10</td>\n",
       "      <td>Pvt Ltd</td>\n",
       "      <td>never</td>\n",
       "      <td>41</td>\n",
       "      <td>0.0</td>\n",
       "    </tr>\n",
       "  </tbody>\n",
       "</table>\n",
       "<p>958 rows × 12 columns</p>\n",
       "</div>"
      ],
      "text/plain": [
       "       city_development_index  gender      relevent_experience  \\\n",
       "1586                    0.920  Female  Has relevent experience   \n",
       "6725                    0.920     NaN  Has relevent experience   \n",
       "11514                   0.926     NaN   No relevent experience   \n",
       "6312                    0.843     NaN  Has relevent experience   \n",
       "11364                   0.804     NaN  Has relevent experience   \n",
       "...                       ...     ...                      ...   \n",
       "3646                    0.550    Male  Has relevent experience   \n",
       "10342                   0.920    Male   No relevent experience   \n",
       "664                     0.804     NaN  Has relevent experience   \n",
       "10580                   0.884    Male  Has relevent experience   \n",
       "7359                    0.767    Male  Has relevent experience   \n",
       "\n",
       "      enrolled_university education_level major_discipline experience  \\\n",
       "1586        no_enrollment        Graduate             STEM          2   \n",
       "6725        no_enrollment        Graduate             STEM         15   \n",
       "11514       no_enrollment             Phd             STEM        >20   \n",
       "6312        no_enrollment        Graduate             STEM          9   \n",
       "11364    Part time course        Graduate             STEM          8   \n",
       "...                   ...             ...              ...        ...   \n",
       "3646     Part time course        Graduate             STEM          2   \n",
       "10342    Full time course        Graduate             STEM         14   \n",
       "664                   NaN        Graduate             STEM         12   \n",
       "10580       no_enrollment         Masters             STEM          9   \n",
       "7359        no_enrollment     High School              NaN          1   \n",
       "\n",
       "      company_size         company_type last_new_job  training_hours  target  \n",
       "1586         50-99              Pvt Ltd            1              43     0.0  \n",
       "6725         50-99              Pvt Ltd            1              79     0.0  \n",
       "11514       10000+              Pvt Ltd           >4              18     1.0  \n",
       "6312       100-500                  NGO            1             130     0.0  \n",
       "11364        10/49              Pvt Ltd            1              17     0.0  \n",
       "...            ...                  ...          ...             ...     ...  \n",
       "3646         10/49  Early Stage Startup            1              41     0.0  \n",
       "10342          NaN                  NaN        never              88     0.0  \n",
       "664      5000-9999              Pvt Ltd            1             182     0.0  \n",
       "10580        50-99        Public Sector            3             166     0.0  \n",
       "7359           <10              Pvt Ltd        never              41     0.0  \n",
       "\n",
       "[958 rows x 12 columns]"
      ]
     },
     "metadata": {},
     "output_type": "display_data"
    }
   ],
   "source": [
    "df = pd.read_csv('aug_train.csv', sep=',', decimal='.')\n",
    "sampled_df = df.drop(['enrollee_id', 'city'], axis=1).sample(frac=0.05)\n",
    "display(sampled_df)"
   ]
  },
  {
   "cell_type": "code",
   "execution_count": 1006,
   "metadata": {},
   "outputs": [
    {
     "data": {
      "text/html": [
       "<div>\n",
       "<style scoped>\n",
       "    .dataframe tbody tr th:only-of-type {\n",
       "        vertical-align: middle;\n",
       "    }\n",
       "\n",
       "    .dataframe tbody tr th {\n",
       "        vertical-align: top;\n",
       "    }\n",
       "\n",
       "    .dataframe thead th {\n",
       "        text-align: right;\n",
       "    }\n",
       "</style>\n",
       "<table border=\"1\" class=\"dataframe\">\n",
       "  <thead>\n",
       "    <tr style=\"text-align: right;\">\n",
       "      <th></th>\n",
       "      <th>city_development_index</th>\n",
       "      <th>gender</th>\n",
       "      <th>relevent_experience</th>\n",
       "      <th>enrolled_university</th>\n",
       "      <th>education_level</th>\n",
       "      <th>major_discipline</th>\n",
       "      <th>experience</th>\n",
       "      <th>company_size</th>\n",
       "      <th>company_type</th>\n",
       "      <th>last_new_job</th>\n",
       "      <th>training_hours</th>\n",
       "      <th>target</th>\n",
       "    </tr>\n",
       "  </thead>\n",
       "  <tbody>\n",
       "    <tr>\n",
       "      <th>1586</th>\n",
       "      <td>0.920</td>\n",
       "      <td>Female</td>\n",
       "      <td>Has relevent experience</td>\n",
       "      <td>no_enrollment</td>\n",
       "      <td>Graduate</td>\n",
       "      <td>STEM</td>\n",
       "      <td>2</td>\n",
       "      <td>50-99</td>\n",
       "      <td>Pvt Ltd</td>\n",
       "      <td>1</td>\n",
       "      <td>43</td>\n",
       "      <td>0.0</td>\n",
       "    </tr>\n",
       "    <tr>\n",
       "      <th>6725</th>\n",
       "      <td>0.920</td>\n",
       "      <td>NaN</td>\n",
       "      <td>Has relevent experience</td>\n",
       "      <td>no_enrollment</td>\n",
       "      <td>Graduate</td>\n",
       "      <td>STEM</td>\n",
       "      <td>15</td>\n",
       "      <td>50-99</td>\n",
       "      <td>Pvt Ltd</td>\n",
       "      <td>1</td>\n",
       "      <td>79</td>\n",
       "      <td>0.0</td>\n",
       "    </tr>\n",
       "    <tr>\n",
       "      <th>11514</th>\n",
       "      <td>0.926</td>\n",
       "      <td>NaN</td>\n",
       "      <td>No relevent experience</td>\n",
       "      <td>no_enrollment</td>\n",
       "      <td>Phd</td>\n",
       "      <td>STEM</td>\n",
       "      <td>&gt;20</td>\n",
       "      <td>10000+</td>\n",
       "      <td>Pvt Ltd</td>\n",
       "      <td>&gt;4</td>\n",
       "      <td>18</td>\n",
       "      <td>1.0</td>\n",
       "    </tr>\n",
       "    <tr>\n",
       "      <th>6312</th>\n",
       "      <td>0.843</td>\n",
       "      <td>NaN</td>\n",
       "      <td>Has relevent experience</td>\n",
       "      <td>no_enrollment</td>\n",
       "      <td>Graduate</td>\n",
       "      <td>STEM</td>\n",
       "      <td>9</td>\n",
       "      <td>100-500</td>\n",
       "      <td>NGO</td>\n",
       "      <td>1</td>\n",
       "      <td>130</td>\n",
       "      <td>0.0</td>\n",
       "    </tr>\n",
       "    <tr>\n",
       "      <th>11364</th>\n",
       "      <td>0.804</td>\n",
       "      <td>NaN</td>\n",
       "      <td>Has relevent experience</td>\n",
       "      <td>Part time course</td>\n",
       "      <td>Graduate</td>\n",
       "      <td>STEM</td>\n",
       "      <td>8</td>\n",
       "      <td>10/49</td>\n",
       "      <td>Pvt Ltd</td>\n",
       "      <td>1</td>\n",
       "      <td>17</td>\n",
       "      <td>0.0</td>\n",
       "    </tr>\n",
       "  </tbody>\n",
       "</table>\n",
       "</div>"
      ],
      "text/plain": [
       "       city_development_index  gender      relevent_experience  \\\n",
       "1586                    0.920  Female  Has relevent experience   \n",
       "6725                    0.920     NaN  Has relevent experience   \n",
       "11514                   0.926     NaN   No relevent experience   \n",
       "6312                    0.843     NaN  Has relevent experience   \n",
       "11364                   0.804     NaN  Has relevent experience   \n",
       "\n",
       "      enrolled_university education_level major_discipline experience  \\\n",
       "1586        no_enrollment        Graduate             STEM          2   \n",
       "6725        no_enrollment        Graduate             STEM         15   \n",
       "11514       no_enrollment             Phd             STEM        >20   \n",
       "6312        no_enrollment        Graduate             STEM          9   \n",
       "11364    Part time course        Graduate             STEM          8   \n",
       "\n",
       "      company_size company_type last_new_job  training_hours  target  \n",
       "1586         50-99      Pvt Ltd            1              43     0.0  \n",
       "6725         50-99      Pvt Ltd            1              79     0.0  \n",
       "11514       10000+      Pvt Ltd           >4              18     1.0  \n",
       "6312       100-500          NGO            1             130     0.0  \n",
       "11364        10/49      Pvt Ltd            1              17     0.0  "
      ]
     },
     "execution_count": 1006,
     "metadata": {},
     "output_type": "execute_result"
    }
   ],
   "source": [
    "sampled_df.head()"
   ]
  },
  {
   "cell_type": "code",
   "execution_count": 1007,
   "metadata": {},
   "outputs": [
    {
     "data": {
      "text/plain": [
       "city_development_index    float64\n",
       "gender                     object\n",
       "relevent_experience        object\n",
       "enrolled_university        object\n",
       "education_level            object\n",
       "major_discipline           object\n",
       "experience                 object\n",
       "company_size               object\n",
       "company_type               object\n",
       "last_new_job               object\n",
       "training_hours              int64\n",
       "target                    float64\n",
       "dtype: object"
      ]
     },
     "execution_count": 1007,
     "metadata": {},
     "output_type": "execute_result"
    }
   ],
   "source": [
    "sampled_df.dtypes"
   ]
  },
  {
   "cell_type": "code",
   "execution_count": 1008,
   "metadata": {},
   "outputs": [
    {
     "data": {
      "text/html": [
       "<div>\n",
       "<style scoped>\n",
       "    .dataframe tbody tr th:only-of-type {\n",
       "        vertical-align: middle;\n",
       "    }\n",
       "\n",
       "    .dataframe tbody tr th {\n",
       "        vertical-align: top;\n",
       "    }\n",
       "\n",
       "    .dataframe thead th {\n",
       "        text-align: right;\n",
       "    }\n",
       "</style>\n",
       "<table border=\"1\" class=\"dataframe\">\n",
       "  <thead>\n",
       "    <tr style=\"text-align: right;\">\n",
       "      <th></th>\n",
       "      <th>city_development_index</th>\n",
       "      <th>training_hours</th>\n",
       "      <th>target</th>\n",
       "    </tr>\n",
       "  </thead>\n",
       "  <tbody>\n",
       "    <tr>\n",
       "      <th>count</th>\n",
       "      <td>958.000000</td>\n",
       "      <td>958.000000</td>\n",
       "      <td>958.000000</td>\n",
       "    </tr>\n",
       "    <tr>\n",
       "      <th>mean</th>\n",
       "      <td>0.825101</td>\n",
       "      <td>68.824635</td>\n",
       "      <td>0.278706</td>\n",
       "    </tr>\n",
       "    <tr>\n",
       "      <th>std</th>\n",
       "      <td>0.125529</td>\n",
       "      <td>61.698821</td>\n",
       "      <td>0.448597</td>\n",
       "    </tr>\n",
       "    <tr>\n",
       "      <th>min</th>\n",
       "      <td>0.479000</td>\n",
       "      <td>2.000000</td>\n",
       "      <td>0.000000</td>\n",
       "    </tr>\n",
       "    <tr>\n",
       "      <th>25%</th>\n",
       "      <td>0.738000</td>\n",
       "      <td>24.000000</td>\n",
       "      <td>0.000000</td>\n",
       "    </tr>\n",
       "    <tr>\n",
       "      <th>50%</th>\n",
       "      <td>0.897000</td>\n",
       "      <td>52.000000</td>\n",
       "      <td>0.000000</td>\n",
       "    </tr>\n",
       "    <tr>\n",
       "      <th>75%</th>\n",
       "      <td>0.920000</td>\n",
       "      <td>94.000000</td>\n",
       "      <td>1.000000</td>\n",
       "    </tr>\n",
       "    <tr>\n",
       "      <th>max</th>\n",
       "      <td>0.949000</td>\n",
       "      <td>332.000000</td>\n",
       "      <td>1.000000</td>\n",
       "    </tr>\n",
       "  </tbody>\n",
       "</table>\n",
       "</div>"
      ],
      "text/plain": [
       "       city_development_index  training_hours      target\n",
       "count              958.000000      958.000000  958.000000\n",
       "mean                 0.825101       68.824635    0.278706\n",
       "std                  0.125529       61.698821    0.448597\n",
       "min                  0.479000        2.000000    0.000000\n",
       "25%                  0.738000       24.000000    0.000000\n",
       "50%                  0.897000       52.000000    0.000000\n",
       "75%                  0.920000       94.000000    1.000000\n",
       "max                  0.949000      332.000000    1.000000"
      ]
     },
     "execution_count": 1008,
     "metadata": {},
     "output_type": "execute_result"
    }
   ],
   "source": [
    "sampled_df.describe()"
   ]
  },
  {
   "cell_type": "markdown",
   "metadata": {},
   "source": [
    "Sprawdzenie ilości brakujących danych"
   ]
  },
  {
   "cell_type": "code",
   "execution_count": 1009,
   "metadata": {},
   "outputs": [
    {
     "data": {
      "text/plain": [
       "city_development_index      0\n",
       "gender                    258\n",
       "relevent_experience         0\n",
       "enrolled_university        19\n",
       "education_level            25\n",
       "major_discipline          169\n",
       "experience                  4\n",
       "company_size              315\n",
       "company_type              312\n",
       "last_new_job               20\n",
       "training_hours              0\n",
       "target                      0\n",
       "dtype: int64"
      ]
     },
     "execution_count": 1009,
     "metadata": {},
     "output_type": "execute_result"
    }
   ],
   "source": [
    "sampled_df.isna().sum()"
   ]
  },
  {
   "cell_type": "markdown",
   "metadata": {},
   "source": [
    "Zastąpienie braków danych nową kolumną 'No data'"
   ]
  },
  {
   "cell_type": "code",
   "execution_count": 1010,
   "metadata": {},
   "outputs": [],
   "source": [
    "sampled_df['gender'].fillna('No data', inplace=True)\n",
    "sampled_df['enrolled_university'].fillna('No data', inplace=True)\n",
    "sampled_df['education_level'].fillna('No data', inplace=True)\n",
    "sampled_df['major_discipline'].fillna('No data', inplace=True)\n",
    "sampled_df['experience'].fillna('No data', inplace=True)\n",
    "sampled_df['company_size'].fillna('No data', inplace=True)\n",
    "sampled_df['company_type'].fillna('No data', inplace=True)\n",
    "sampled_df['last_new_job'].fillna('No data', inplace=True)"
   ]
  },
  {
   "cell_type": "markdown",
   "metadata": {},
   "source": [
    "Wyświetlanie zmiennych unikalnych dla każdej wartości"
   ]
  },
  {
   "cell_type": "code",
   "execution_count": 1011,
   "metadata": {},
   "outputs": [
    {
     "data": {
      "text/html": [
       "<div>\n",
       "<style scoped>\n",
       "    .dataframe tbody tr th:only-of-type {\n",
       "        vertical-align: middle;\n",
       "    }\n",
       "\n",
       "    .dataframe tbody tr th {\n",
       "        vertical-align: top;\n",
       "    }\n",
       "\n",
       "    .dataframe thead th {\n",
       "        text-align: right;\n",
       "    }\n",
       "</style>\n",
       "<table border=\"1\" class=\"dataframe\">\n",
       "  <thead>\n",
       "    <tr style=\"text-align: right;\">\n",
       "      <th></th>\n",
       "      <th>gender</th>\n",
       "      <th>relevent_experience</th>\n",
       "      <th>enrolled_university</th>\n",
       "      <th>education_level</th>\n",
       "      <th>major_discipline</th>\n",
       "      <th>experience</th>\n",
       "      <th>company_size</th>\n",
       "      <th>company_type</th>\n",
       "      <th>last_new_job</th>\n",
       "    </tr>\n",
       "  </thead>\n",
       "  <tbody>\n",
       "    <tr>\n",
       "      <th>count</th>\n",
       "      <td>958</td>\n",
       "      <td>958</td>\n",
       "      <td>958</td>\n",
       "      <td>958</td>\n",
       "      <td>958</td>\n",
       "      <td>958</td>\n",
       "      <td>958</td>\n",
       "      <td>958</td>\n",
       "      <td>958</td>\n",
       "    </tr>\n",
       "    <tr>\n",
       "      <th>unique</th>\n",
       "      <td>4</td>\n",
       "      <td>2</td>\n",
       "      <td>4</td>\n",
       "      <td>6</td>\n",
       "      <td>7</td>\n",
       "      <td>23</td>\n",
       "      <td>9</td>\n",
       "      <td>7</td>\n",
       "      <td>7</td>\n",
       "    </tr>\n",
       "    <tr>\n",
       "      <th>top</th>\n",
       "      <td>Male</td>\n",
       "      <td>Has relevent experience</td>\n",
       "      <td>no_enrollment</td>\n",
       "      <td>Graduate</td>\n",
       "      <td>STEM</td>\n",
       "      <td>&gt;20</td>\n",
       "      <td>No data</td>\n",
       "      <td>Pvt Ltd</td>\n",
       "      <td>1</td>\n",
       "    </tr>\n",
       "    <tr>\n",
       "      <th>freq</th>\n",
       "      <td>647</td>\n",
       "      <td>672</td>\n",
       "      <td>670</td>\n",
       "      <td>571</td>\n",
       "      <td>699</td>\n",
       "      <td>151</td>\n",
       "      <td>315</td>\n",
       "      <td>483</td>\n",
       "      <td>424</td>\n",
       "    </tr>\n",
       "  </tbody>\n",
       "</table>\n",
       "</div>"
      ],
      "text/plain": [
       "       gender      relevent_experience enrolled_university education_level  \\\n",
       "count     958                      958                 958             958   \n",
       "unique      4                        2                   4               6   \n",
       "top      Male  Has relevent experience       no_enrollment        Graduate   \n",
       "freq      647                      672                 670             571   \n",
       "\n",
       "       major_discipline experience company_size company_type last_new_job  \n",
       "count               958        958          958          958          958  \n",
       "unique                7         23            9            7            7  \n",
       "top                STEM        >20      No data      Pvt Ltd            1  \n",
       "freq                699        151          315          483          424  "
      ]
     },
     "execution_count": 1011,
     "metadata": {},
     "output_type": "execute_result"
    }
   ],
   "source": [
    "sampled_df.describe(include=['object'])"
   ]
  },
  {
   "cell_type": "code",
   "execution_count": 1012,
   "metadata": {},
   "outputs": [
    {
     "data": {
      "text/plain": [
       "Male       647\n",
       "No data    258\n",
       "Female      45\n",
       "Other        8\n",
       "Name: gender, dtype: int64"
      ]
     },
     "execution_count": 1012,
     "metadata": {},
     "output_type": "execute_result"
    }
   ],
   "source": [
    "sampled_df['gender'].value_counts()"
   ]
  },
  {
   "cell_type": "code",
   "execution_count": 1013,
   "metadata": {},
   "outputs": [
    {
     "data": {
      "text/plain": [
       "no_enrollment       670\n",
       "Full time course    198\n",
       "Part time course     71\n",
       "No data              19\n",
       "Name: enrolled_university, dtype: int64"
      ]
     },
     "execution_count": 1013,
     "metadata": {},
     "output_type": "execute_result"
    }
   ],
   "source": [
    "sampled_df['enrolled_university'].value_counts()"
   ]
  },
  {
   "cell_type": "code",
   "execution_count": 1014,
   "metadata": {},
   "outputs": [
    {
     "data": {
      "text/plain": [
       "Graduate          571\n",
       "Masters           205\n",
       "High School       128\n",
       "No data            25\n",
       "Primary School     15\n",
       "Phd                14\n",
       "Name: education_level, dtype: int64"
      ]
     },
     "execution_count": 1014,
     "metadata": {},
     "output_type": "execute_result"
    }
   ],
   "source": [
    "sampled_df['education_level'].value_counts()"
   ]
  },
  {
   "cell_type": "code",
   "execution_count": 1015,
   "metadata": {},
   "outputs": [
    {
     "data": {
      "text/plain": [
       "STEM               699\n",
       "No data            169\n",
       "Humanities          28\n",
       "Other               22\n",
       "Business Degree     20\n",
       "No Major            10\n",
       "Arts                10\n",
       "Name: major_discipline, dtype: int64"
      ]
     },
     "execution_count": 1015,
     "metadata": {},
     "output_type": "execute_result"
    }
   ],
   "source": [
    "sampled_df['major_discipline'].value_counts()"
   ]
  },
  {
   "cell_type": "code",
   "execution_count": 1016,
   "metadata": {},
   "outputs": [
    {
     "data": {
      "text/plain": [
       ">20        151\n",
       "5           80\n",
       "4           77\n",
       "3           71\n",
       "2           65\n",
       "10          60\n",
       "7           56\n",
       "9           50\n",
       "6           46\n",
       "1           35\n",
       "8           34\n",
       "14          29\n",
       "11          28\n",
       "15          26\n",
       "16          26\n",
       "12          23\n",
       "<1          22\n",
       "17          20\n",
       "13          20\n",
       "19          14\n",
       "20          12\n",
       "18           9\n",
       "No data      4\n",
       "Name: experience, dtype: int64"
      ]
     },
     "execution_count": 1016,
     "metadata": {},
     "output_type": "execute_result"
    }
   ],
   "source": [
    "sampled_df['experience'].value_counts()"
   ]
  },
  {
   "cell_type": "code",
   "execution_count": 1017,
   "metadata": {},
   "outputs": [
    {
     "data": {
      "text/plain": [
       "No data      315\n",
       "50-99        150\n",
       "100-500      131\n",
       "10000+        98\n",
       "1000-4999     74\n",
       "<10           73\n",
       "10/49         63\n",
       "500-999       31\n",
       "5000-9999     23\n",
       "Name: company_size, dtype: int64"
      ]
     },
     "execution_count": 1017,
     "metadata": {},
     "output_type": "execute_result"
    }
   ],
   "source": [
    "sampled_df['company_size'].value_counts()"
   ]
  },
  {
   "cell_type": "code",
   "execution_count": 1018,
   "metadata": {},
   "outputs": [
    {
     "data": {
      "text/plain": [
       "Pvt Ltd                483\n",
       "No data                312\n",
       "Public Sector           52\n",
       "Early Stage Startup     37\n",
       "Funded Startup          36\n",
       "NGO                     28\n",
       "Other                   10\n",
       "Name: company_type, dtype: int64"
      ]
     },
     "execution_count": 1018,
     "metadata": {},
     "output_type": "execute_result"
    }
   ],
   "source": [
    "sampled_df['company_type'].value_counts()"
   ]
  },
  {
   "cell_type": "code",
   "execution_count": 1019,
   "metadata": {},
   "outputs": [
    {
     "data": {
      "text/plain": [
       "1          424\n",
       ">4         145\n",
       "2          145\n",
       "never      141\n",
       "4           42\n",
       "3           41\n",
       "No data     20\n",
       "Name: last_new_job, dtype: int64"
      ]
     },
     "execution_count": 1019,
     "metadata": {},
     "output_type": "execute_result"
    }
   ],
   "source": [
    "sampled_df['last_new_job'].value_counts()"
   ]
  },
  {
   "cell_type": "code",
   "execution_count": 1020,
   "metadata": {},
   "outputs": [
    {
     "data": {
      "text/plain": [
       "city_development_index    0\n",
       "gender                    0\n",
       "relevent_experience       0\n",
       "enrolled_university       0\n",
       "education_level           0\n",
       "major_discipline          0\n",
       "experience                0\n",
       "company_size              0\n",
       "company_type              0\n",
       "last_new_job              0\n",
       "training_hours            0\n",
       "target                    0\n",
       "dtype: int64"
      ]
     },
     "execution_count": 1020,
     "metadata": {},
     "output_type": "execute_result"
    }
   ],
   "source": [
    "sampled_df.isna().sum()"
   ]
  },
  {
   "cell_type": "code",
   "execution_count": 1021,
   "metadata": {},
   "outputs": [
    {
     "data": {
      "text/plain": [
       "0.0    691\n",
       "1.0    267\n",
       "Name: target, dtype: int64"
      ]
     },
     "execution_count": 1021,
     "metadata": {},
     "output_type": "execute_result"
    }
   ],
   "source": [
    "sampled_df['target'].value_counts()"
   ]
  },
  {
   "cell_type": "markdown",
   "metadata": {},
   "source": [
    "Przydzielenie zmiennych numerycznych i kategorycznych do odzielnych grup wraz z enkodowaniem zmiennych kategorycznych oraz standaryzacją zmiennych numerycznych"
   ]
  },
  {
   "cell_type": "code",
   "execution_count": 1022,
   "metadata": {},
   "outputs": [],
   "source": [
    "categorical_columns = ['gender', 'relevent_experience', 'enrolled_university', 'education_level', 'major_discipline', 'experience', 'company_size', 'company_type', 'last_new_job']\n",
    "numerical_columns = [col for col in sampled_df.columns if col not in categorical_columns + ['target']]\n",
    "x_numeric = sampled_df[numerical_columns]\n",
    "x_categorical = sampled_df[categorical_columns]\n",
    "\n",
    "encoder = LabelEncoder()\n",
    "x_categorical_encoded = x_categorical.apply(encoder.fit_transform)\n",
    "\n",
    "scaler = StandardScaler()\n",
    "x_numeric_standardized = pd.DataFrame(scaler.fit_transform(x_numeric), columns=x_numeric.columns)\n",
    "\n",
    "X = pd.concat([x_numeric, x_categorical_encoded], axis=1)\n",
    "sampled_df.drop(['target'], axis=1)\n",
    "y = sampled_df['target']"
   ]
  },
  {
   "cell_type": "markdown",
   "metadata": {},
   "source": [
    "Wyznaczenie zmiennych do zbioru uczącego"
   ]
  },
  {
   "cell_type": "code",
   "execution_count": 1023,
   "metadata": {},
   "outputs": [],
   "source": [
    "X_train, X_test, y_train, y_test = train_test_split(X, y, test_size=0.2, random_state=42)"
   ]
  },
  {
   "cell_type": "code",
   "execution_count": 1024,
   "metadata": {},
   "outputs": [
    {
     "name": "stdout",
     "output_type": "stream",
     "text": [
      "Udział negatywny: 0.7206\n",
      "Udział pozytywny: 0.2794\n"
     ]
    }
   ],
   "source": [
    "udzial_pozytywny_train = y_train.sum() / len(y_train)\n",
    "udzial_negatywny_train = 1 - udzial_pozytywny_train\n",
    "print(f'Udział negatywny: {udzial_negatywny_train:.4f}')\n",
    "print(f'Udział pozytywny: {udzial_pozytywny_train:.4f}')"
   ]
  },
  {
   "cell_type": "markdown",
   "metadata": {},
   "source": [
    "Wykorzystanie modelu regresji logistycznej do predykcji wyników z wykorzystaniem oversamplingu"
   ]
  },
  {
   "cell_type": "code",
   "execution_count": 1025,
   "metadata": {},
   "outputs": [
    {
     "name": "stdout",
     "output_type": "stream",
     "text": [
      "Dokładność po oversamplingu 75.00%\n",
      "Raport klasyfikacyjny po oversamplingu:               precision    recall  f1-score   support\n",
      "\n",
      "         0.0       0.90      0.74      0.81       139\n",
      "         1.0       0.53      0.77      0.63        53\n",
      "\n",
      "    accuracy                           0.75       192\n",
      "   macro avg       0.71      0.76      0.72       192\n",
      "weighted avg       0.80      0.75      0.76       192\n",
      "\n",
      "Specificity: 0.7410071942446043\n",
      "Sensitivity: 0.7735849056603774\n"
     ]
    }
   ],
   "source": [
    "logistic_regression_over = LogisticRegression(random_state=42, max_iter=1000)\n",
    "oversample = RandomOverSampler(sampling_strategy={1: (50*len(y_train)), 0: (50*len(y_train))})\n",
    "X_train_over, y_train_over = oversample.fit_resample(X_train, y_train)\n",
    "\n",
    "logistic_regression_over.fit(X_train_over, y_train_over)\n",
    "y_pred_over = logistic_regression_over.predict(X_test)\n",
    "accuracy_over = accuracy_score(y_test, y_pred_over)\n",
    "print(f'Dokładność po oversamplingu {accuracy_over:.2%}')\n",
    "print(f'Raport klasyfikacyjny po oversamplingu: {classification_report(y_test, y_pred_over)}')\n",
    "\n",
    "conf_matrix = confusion_matrix(y_test, y_pred_over)\n",
    "true_negatives = conf_matrix[0, 0]\n",
    "false_positives = conf_matrix[0, 1]\n",
    "\n",
    "specificity = true_negatives / (true_negatives + false_positives)\n",
    "print(f'Specificity: {specificity}')\n",
    "\n",
    "true_positives = conf_matrix[1, 1]\n",
    "false_negatives = conf_matrix[1, 0]\n",
    "\n",
    "sensitivity = true_positives / (true_positives + false_negatives)\n",
    "print(f'Sensitivity: {sensitivity}')"
   ]
  },
  {
   "cell_type": "markdown",
   "metadata": {},
   "source": [
    "Wykorzystanie modelu drzew decyzyjnych do predykcji wyników z wykorzystaniem oversamplingu"
   ]
  },
  {
   "cell_type": "code",
   "execution_count": 1026,
   "metadata": {},
   "outputs": [
    {
     "name": "stdout",
     "output_type": "stream",
     "text": [
      "Dokładność po oversamplingu 77.60%\n",
      "Raport klasyfikacyjny po oversamplingu:               precision    recall  f1-score   support\n",
      "\n",
      "         0.0       0.82      0.89      0.85       139\n",
      "         1.0       0.62      0.47      0.54        53\n",
      "\n",
      "    accuracy                           0.78       192\n",
      "   macro avg       0.72      0.68      0.69       192\n",
      "weighted avg       0.76      0.78      0.77       192\n",
      "\n",
      "Specificity: 0.8920863309352518\n",
      "Sensitivity: 0.4716981132075472\n"
     ]
    }
   ],
   "source": [
    "random_forest_over = DecisionTreeClassifier(max_depth=1)\n",
    "oversample = RandomOverSampler(sampling_strategy = {1: (50*len(y_train)), 0: (50*len(y_train))})\n",
    "X_train_over, y_train_over = oversample.fit_resample(X_train, y_train)\n",
    "\n",
    "random_forest_over.fit(X_train_over, y_train_over)\n",
    "y_pred_over = random_forest_over.predict(X_test)\n",
    "accuracy_over = accuracy_score(y_test, y_pred_over)\n",
    "print(f'Dokładność po oversamplingu {accuracy_over:.2%}')\n",
    "print(f'Raport klasyfikacyjny po oversamplingu: {classification_report(y_test, y_pred_over)}')\n",
    "\n",
    "conf_matrix = confusion_matrix(y_test, y_pred_over)\n",
    "true_negatives = conf_matrix[0, 0]\n",
    "false_positives = conf_matrix[0, 1]\n",
    "\n",
    "specificity = true_negatives / (true_negatives + false_positives)\n",
    "print(f'Specificity: {specificity}')\n",
    "\n",
    "true_positives = conf_matrix[1, 1]\n",
    "false_negatives = conf_matrix[1, 0]\n",
    "\n",
    "sensitivity = true_positives / (true_positives + false_negatives)\n",
    "print(f'Sensitivity: {sensitivity}')"
   ]
  },
  {
   "cell_type": "markdown",
   "metadata": {},
   "source": [
    "Wykorzystanie modelu lasów losowych do predykcji wyników z wykorzystaniem oversamplingu"
   ]
  },
  {
   "cell_type": "code",
   "execution_count": 1027,
   "metadata": {},
   "outputs": [
    {
     "name": "stdout",
     "output_type": "stream",
     "text": [
      "Dokładność po oversamplingu 75.52%\n",
      "Raport klasyfikacyjny po oversamplingu:               precision    recall  f1-score   support\n",
      "\n",
      "         0.0       0.80      0.88      0.84       139\n",
      "         1.0       0.57      0.43      0.49        53\n",
      "\n",
      "    accuracy                           0.76       192\n",
      "   macro avg       0.69      0.66      0.67       192\n",
      "weighted avg       0.74      0.76      0.74       192\n",
      "\n",
      "Specificity: 0.8776978417266187\n",
      "Sensitivity: 0.4339622641509434\n"
     ]
    }
   ],
   "source": [
    "random_forest_over = RandomForestClassifier(n_estimators=350, max_features=5, random_state=42)\n",
    "oversample = RandomOverSampler(sampling_strategy = {1: (50*len(y_train)), 0: (50*len(y_train))})\n",
    "X_train_over, y_train_over = oversample.fit_resample(X_train, y_train)\n",
    "\n",
    "random_forest_over.fit(X_train_over, y_train_over)\n",
    "y_pred_over = random_forest_over.predict(X_test)\n",
    "accuracy_over = accuracy_score(y_test, y_pred_over)\n",
    "print(f'Dokładność po oversamplingu {accuracy_over:.2%}')\n",
    "print(f'Raport klasyfikacyjny po oversamplingu: {classification_report(y_test, y_pred_over)}')\n",
    "\n",
    "conf_matrix = confusion_matrix(y_test, y_pred_over)\n",
    "true_negatives = conf_matrix[0, 0]\n",
    "false_positives = conf_matrix[0, 1]\n",
    "\n",
    "specificity = true_negatives / (true_negatives + false_positives)\n",
    "print(f'Specificity: {specificity}')\n",
    "\n",
    "true_positives = conf_matrix[1, 1]\n",
    "false_negatives = conf_matrix[1, 0]\n",
    "\n",
    "sensitivity = true_positives / (true_positives + false_negatives)\n",
    "print(f'Sensitivity: {sensitivity}')"
   ]
  },
  {
   "cell_type": "markdown",
   "metadata": {},
   "source": [
    "Interpretowalność"
   ]
  },
  {
   "cell_type": "code",
   "execution_count": 1028,
   "metadata": {},
   "outputs": [],
   "source": [
    "categorical_features = sampled_df.select_dtypes(exclude=np.number).columns.tolist()\n",
    "\n",
    "numeric_transformer = Pipeline(steps=[\n",
    "    ('scaler', StandardScaler())])\n",
    "\n",
    "categorical_transformer = Pipeline(steps=[\n",
    "    ('onehot', OneHotEncoder(handle_unknown='ignore'))])\n",
    "\n",
    "preprocessor = ColumnTransformer(\n",
    "    transformers=[\n",
    "        ('num', numeric_transformer, [\"city_development_index\", \"training_hours\"]),\n",
    "        ('cat', categorical_transformer, categorical_features)])"
   ]
  },
  {
   "cell_type": "code",
   "execution_count": 1029,
   "metadata": {},
   "outputs": [
    {
     "data": {
      "text/html": [
       "<style>#sk-container-id-26 {color: black;}#sk-container-id-26 pre{padding: 0;}#sk-container-id-26 div.sk-toggleable {background-color: white;}#sk-container-id-26 label.sk-toggleable__label {cursor: pointer;display: block;width: 100%;margin-bottom: 0;padding: 0.3em;box-sizing: border-box;text-align: center;}#sk-container-id-26 label.sk-toggleable__label-arrow:before {content: \"▸\";float: left;margin-right: 0.25em;color: #696969;}#sk-container-id-26 label.sk-toggleable__label-arrow:hover:before {color: black;}#sk-container-id-26 div.sk-estimator:hover label.sk-toggleable__label-arrow:before {color: black;}#sk-container-id-26 div.sk-toggleable__content {max-height: 0;max-width: 0;overflow: hidden;text-align: left;background-color: #f0f8ff;}#sk-container-id-26 div.sk-toggleable__content pre {margin: 0.2em;color: black;border-radius: 0.25em;background-color: #f0f8ff;}#sk-container-id-26 input.sk-toggleable__control:checked~div.sk-toggleable__content {max-height: 200px;max-width: 100%;overflow: auto;}#sk-container-id-26 input.sk-toggleable__control:checked~label.sk-toggleable__label-arrow:before {content: \"▾\";}#sk-container-id-26 div.sk-estimator input.sk-toggleable__control:checked~label.sk-toggleable__label {background-color: #d4ebff;}#sk-container-id-26 div.sk-label input.sk-toggleable__control:checked~label.sk-toggleable__label {background-color: #d4ebff;}#sk-container-id-26 input.sk-hidden--visually {border: 0;clip: rect(1px 1px 1px 1px);clip: rect(1px, 1px, 1px, 1px);height: 1px;margin: -1px;overflow: hidden;padding: 0;position: absolute;width: 1px;}#sk-container-id-26 div.sk-estimator {font-family: monospace;background-color: #f0f8ff;border: 1px dotted black;border-radius: 0.25em;box-sizing: border-box;margin-bottom: 0.5em;}#sk-container-id-26 div.sk-estimator:hover {background-color: #d4ebff;}#sk-container-id-26 div.sk-parallel-item::after {content: \"\";width: 100%;border-bottom: 1px solid gray;flex-grow: 1;}#sk-container-id-26 div.sk-label:hover label.sk-toggleable__label {background-color: #d4ebff;}#sk-container-id-26 div.sk-serial::before {content: \"\";position: absolute;border-left: 1px solid gray;box-sizing: border-box;top: 0;bottom: 0;left: 50%;z-index: 0;}#sk-container-id-26 div.sk-serial {display: flex;flex-direction: column;align-items: center;background-color: white;padding-right: 0.2em;padding-left: 0.2em;position: relative;}#sk-container-id-26 div.sk-item {position: relative;z-index: 1;}#sk-container-id-26 div.sk-parallel {display: flex;align-items: stretch;justify-content: center;background-color: white;position: relative;}#sk-container-id-26 div.sk-item::before, #sk-container-id-26 div.sk-parallel-item::before {content: \"\";position: absolute;border-left: 1px solid gray;box-sizing: border-box;top: 0;bottom: 0;left: 50%;z-index: -1;}#sk-container-id-26 div.sk-parallel-item {display: flex;flex-direction: column;z-index: 1;position: relative;background-color: white;}#sk-container-id-26 div.sk-parallel-item:first-child::after {align-self: flex-end;width: 50%;}#sk-container-id-26 div.sk-parallel-item:last-child::after {align-self: flex-start;width: 50%;}#sk-container-id-26 div.sk-parallel-item:only-child::after {width: 0;}#sk-container-id-26 div.sk-dashed-wrapped {border: 1px dashed gray;margin: 0 0.4em 0.5em 0.4em;box-sizing: border-box;padding-bottom: 0.4em;background-color: white;}#sk-container-id-26 div.sk-label label {font-family: monospace;font-weight: bold;display: inline-block;line-height: 1.2em;}#sk-container-id-26 div.sk-label-container {text-align: center;}#sk-container-id-26 div.sk-container {/* jupyter's `normalize.less` sets `[hidden] { display: none; }` but bootstrap.min.css set `[hidden] { display: none !important; }` so we also need the `!important` here to be able to override the default hidden behavior on the sphinx rendered scikit-learn.org. See: https://github.com/scikit-learn/scikit-learn/issues/21755 */display: inline-block !important;position: relative;}#sk-container-id-26 div.sk-text-repr-fallback {display: none;}</style><div id=\"sk-container-id-26\" class=\"sk-top-container\"><div class=\"sk-text-repr-fallback\"><pre>Pipeline(steps=[(&#x27;preprocessor&#x27;,\n",
       "                 ColumnTransformer(transformers=[(&#x27;num&#x27;,\n",
       "                                                  Pipeline(steps=[(&#x27;scaler&#x27;,\n",
       "                                                                   StandardScaler())]),\n",
       "                                                  [&#x27;city_development_index&#x27;,\n",
       "                                                   &#x27;training_hours&#x27;]),\n",
       "                                                 (&#x27;cat&#x27;,\n",
       "                                                  Pipeline(steps=[(&#x27;onehot&#x27;,\n",
       "                                                                   OneHotEncoder(handle_unknown=&#x27;ignore&#x27;))]),\n",
       "                                                  [&#x27;gender&#x27;,\n",
       "                                                   &#x27;relevent_experience&#x27;,\n",
       "                                                   &#x27;enrolled_university&#x27;,\n",
       "                                                   &#x27;education_level&#x27;,\n",
       "                                                   &#x27;major_discipline&#x27;,\n",
       "                                                   &#x27;experience&#x27;, &#x27;company_size&#x27;,\n",
       "                                                   &#x27;company_type&#x27;,\n",
       "                                                   &#x27;last_new_job&#x27;])])),\n",
       "                (&#x27;classifier&#x27;, LogisticRegression(max_iter=1000))])</pre><b>In a Jupyter environment, please rerun this cell to show the HTML representation or trust the notebook. <br />On GitHub, the HTML representation is unable to render, please try loading this page with nbviewer.org.</b></div><div class=\"sk-container\" hidden><div class=\"sk-item sk-dashed-wrapped\"><div class=\"sk-label-container\"><div class=\"sk-label sk-toggleable\"><input class=\"sk-toggleable__control sk-hidden--visually\" id=\"sk-estimator-id-176\" type=\"checkbox\" ><label for=\"sk-estimator-id-176\" class=\"sk-toggleable__label sk-toggleable__label-arrow\">Pipeline</label><div class=\"sk-toggleable__content\"><pre>Pipeline(steps=[(&#x27;preprocessor&#x27;,\n",
       "                 ColumnTransformer(transformers=[(&#x27;num&#x27;,\n",
       "                                                  Pipeline(steps=[(&#x27;scaler&#x27;,\n",
       "                                                                   StandardScaler())]),\n",
       "                                                  [&#x27;city_development_index&#x27;,\n",
       "                                                   &#x27;training_hours&#x27;]),\n",
       "                                                 (&#x27;cat&#x27;,\n",
       "                                                  Pipeline(steps=[(&#x27;onehot&#x27;,\n",
       "                                                                   OneHotEncoder(handle_unknown=&#x27;ignore&#x27;))]),\n",
       "                                                  [&#x27;gender&#x27;,\n",
       "                                                   &#x27;relevent_experience&#x27;,\n",
       "                                                   &#x27;enrolled_university&#x27;,\n",
       "                                                   &#x27;education_level&#x27;,\n",
       "                                                   &#x27;major_discipline&#x27;,\n",
       "                                                   &#x27;experience&#x27;, &#x27;company_size&#x27;,\n",
       "                                                   &#x27;company_type&#x27;,\n",
       "                                                   &#x27;last_new_job&#x27;])])),\n",
       "                (&#x27;classifier&#x27;, LogisticRegression(max_iter=1000))])</pre></div></div></div><div class=\"sk-serial\"><div class=\"sk-item sk-dashed-wrapped\"><div class=\"sk-label-container\"><div class=\"sk-label sk-toggleable\"><input class=\"sk-toggleable__control sk-hidden--visually\" id=\"sk-estimator-id-177\" type=\"checkbox\" ><label for=\"sk-estimator-id-177\" class=\"sk-toggleable__label sk-toggleable__label-arrow\">preprocessor: ColumnTransformer</label><div class=\"sk-toggleable__content\"><pre>ColumnTransformer(transformers=[(&#x27;num&#x27;,\n",
       "                                 Pipeline(steps=[(&#x27;scaler&#x27;, StandardScaler())]),\n",
       "                                 [&#x27;city_development_index&#x27;, &#x27;training_hours&#x27;]),\n",
       "                                (&#x27;cat&#x27;,\n",
       "                                 Pipeline(steps=[(&#x27;onehot&#x27;,\n",
       "                                                  OneHotEncoder(handle_unknown=&#x27;ignore&#x27;))]),\n",
       "                                 [&#x27;gender&#x27;, &#x27;relevent_experience&#x27;,\n",
       "                                  &#x27;enrolled_university&#x27;, &#x27;education_level&#x27;,\n",
       "                                  &#x27;major_discipline&#x27;, &#x27;experience&#x27;,\n",
       "                                  &#x27;company_size&#x27;, &#x27;company_type&#x27;,\n",
       "                                  &#x27;last_new_job&#x27;])])</pre></div></div></div><div class=\"sk-parallel\"><div class=\"sk-parallel-item\"><div class=\"sk-item\"><div class=\"sk-label-container\"><div class=\"sk-label sk-toggleable\"><input class=\"sk-toggleable__control sk-hidden--visually\" id=\"sk-estimator-id-178\" type=\"checkbox\" ><label for=\"sk-estimator-id-178\" class=\"sk-toggleable__label sk-toggleable__label-arrow\">num</label><div class=\"sk-toggleable__content\"><pre>[&#x27;city_development_index&#x27;, &#x27;training_hours&#x27;]</pre></div></div></div><div class=\"sk-serial\"><div class=\"sk-item\"><div class=\"sk-serial\"><div class=\"sk-item\"><div class=\"sk-estimator sk-toggleable\"><input class=\"sk-toggleable__control sk-hidden--visually\" id=\"sk-estimator-id-179\" type=\"checkbox\" ><label for=\"sk-estimator-id-179\" class=\"sk-toggleable__label sk-toggleable__label-arrow\">StandardScaler</label><div class=\"sk-toggleable__content\"><pre>StandardScaler()</pre></div></div></div></div></div></div></div></div><div class=\"sk-parallel-item\"><div class=\"sk-item\"><div class=\"sk-label-container\"><div class=\"sk-label sk-toggleable\"><input class=\"sk-toggleable__control sk-hidden--visually\" id=\"sk-estimator-id-180\" type=\"checkbox\" ><label for=\"sk-estimator-id-180\" class=\"sk-toggleable__label sk-toggleable__label-arrow\">cat</label><div class=\"sk-toggleable__content\"><pre>[&#x27;gender&#x27;, &#x27;relevent_experience&#x27;, &#x27;enrolled_university&#x27;, &#x27;education_level&#x27;, &#x27;major_discipline&#x27;, &#x27;experience&#x27;, &#x27;company_size&#x27;, &#x27;company_type&#x27;, &#x27;last_new_job&#x27;]</pre></div></div></div><div class=\"sk-serial\"><div class=\"sk-item\"><div class=\"sk-serial\"><div class=\"sk-item\"><div class=\"sk-estimator sk-toggleable\"><input class=\"sk-toggleable__control sk-hidden--visually\" id=\"sk-estimator-id-181\" type=\"checkbox\" ><label for=\"sk-estimator-id-181\" class=\"sk-toggleable__label sk-toggleable__label-arrow\">OneHotEncoder</label><div class=\"sk-toggleable__content\"><pre>OneHotEncoder(handle_unknown=&#x27;ignore&#x27;)</pre></div></div></div></div></div></div></div></div></div></div><div class=\"sk-item\"><div class=\"sk-estimator sk-toggleable\"><input class=\"sk-toggleable__control sk-hidden--visually\" id=\"sk-estimator-id-182\" type=\"checkbox\" ><label for=\"sk-estimator-id-182\" class=\"sk-toggleable__label sk-toggleable__label-arrow\">LogisticRegression</label><div class=\"sk-toggleable__content\"><pre>LogisticRegression(max_iter=1000)</pre></div></div></div></div></div></div></div>"
      ],
      "text/plain": [
       "Pipeline(steps=[('preprocessor',\n",
       "                 ColumnTransformer(transformers=[('num',\n",
       "                                                  Pipeline(steps=[('scaler',\n",
       "                                                                   StandardScaler())]),\n",
       "                                                  ['city_development_index',\n",
       "                                                   'training_hours']),\n",
       "                                                 ('cat',\n",
       "                                                  Pipeline(steps=[('onehot',\n",
       "                                                                   OneHotEncoder(handle_unknown='ignore'))]),\n",
       "                                                  ['gender',\n",
       "                                                   'relevent_experience',\n",
       "                                                   'enrolled_university',\n",
       "                                                   'education_level',\n",
       "                                                   'major_discipline',\n",
       "                                                   'experience', 'company_size',\n",
       "                                                   'company_type',\n",
       "                                                   'last_new_job'])])),\n",
       "                ('classifier', LogisticRegression(max_iter=1000))])"
      ]
     },
     "execution_count": 1029,
     "metadata": {},
     "output_type": "execute_result"
    }
   ],
   "source": [
    "X = sampled_df.drop(['target'], axis=1)\n",
    "y = sampled_df['target']\n",
    "X_train, X_test, y_train, y_test = train_test_split(X, y, test_size=0.2, random_state=42)\n",
    "\n",
    "model = Pipeline(steps=[('preprocessor', preprocessor),\n",
    "                        ('classifier', LogisticRegression(max_iter=1000))])  # Zwiększenie liczby iteracji, jeśli to konieczne\n",
    "model.fit(X_train, y_train)"
   ]
  },
  {
   "cell_type": "markdown",
   "metadata": {},
   "source": [
    "Profile ceteris-paribus (PCP)"
   ]
  },
  {
   "cell_type": "code",
   "execution_count": 1030,
   "metadata": {},
   "outputs": [
    {
     "name": "stdout",
     "output_type": "stream",
     "text": [
      "Preparation of a new explainer is initiated\n",
      "\n",
      "  -> data              : 766 rows 11 cols\n",
      "  -> target variable   : Parameter 'y' was a pandas.Series. Converted to a numpy.ndarray.\n",
      "  -> target variable   : 766 values\n",
      "  -> model_class       : sklearn.linear_model._logistic.LogisticRegression (default)\n",
      "  -> label             : Logistic Regression\n",
      "  -> predict function  : <function yhat_proba_default at 0x000001C7654D28C0> will be used (default)\n",
      "  -> predict function  : Accepts only pandas.DataFrame, numpy.ndarray causes problems.\n",
      "  -> predicted values  : min = 0.00554, mean = 0.279, max = 0.949\n",
      "  -> model type        : classification will be used (default)\n",
      "  -> residual function : difference between y and yhat (default)\n",
      "  -> residuals         : min = -0.919, mean = -6.41e-07, max = 0.953\n",
      "  -> model_info        : package sklearn\n",
      "\n",
      "A new explainer has been created!\n"
     ]
    },
    {
     "name": "stderr",
     "output_type": "stream",
     "text": [
      "Calculating ceteris paribus:   0%|          | 0/11 [00:00<?, ?it/s]"
     ]
    },
    {
     "name": "stderr",
     "output_type": "stream",
     "text": [
      "Calculating ceteris paribus: 100%|██████████| 11/11 [00:00<00:00, 129.42it/s]\n"
     ]
    },
    {
     "data": {
      "application/vnd.plotly.v1+json": {
       "config": {
        "displaylogo": false,
        "modeBarButtonsToRemove": [
         "sendDataToCloud",
         "lasso2d",
         "autoScale2d",
         "select2d",
         "zoom2d",
         "pan2d",
         "zoomIn2d",
         "zoomOut2d",
         "resetScale2d",
         "toggleSpikelines",
         "hoverCompareCartesian",
         "hoverClosestCartesian"
        ],
        "plotlyServerURL": "https://plot.ly",
        "staticPlot": false,
        "toImageButtonOptions": {
         "height": null,
         "width": null
        }
       },
       "data": [
        {
         "customdata": [
          [
           "</br>id: 4268</br>prediction: 0.949</br>city_development_index: 0.479</br></br>gender: Male</br>relevent_experience: No relevent experience</br>enrolled_university: no_enrollment</br>education_level: Graduate</br>major_discipline: Business Degree</br>experience: 1</br>company_size: 5000-9999</br>company_type: Pvt Ltd</br>last_new_job: 1</br>training_hours: 48.0</br>_original_yhat_: 0.5457825454538547</br>"
          ],
          [
           "</br>id: 4268</br>prediction: 0.947</br>city_development_index: 0.48369999999999996</br></br>gender: Male</br>relevent_experience: No relevent experience</br>enrolled_university: no_enrollment</br>education_level: Graduate</br>major_discipline: Business Degree</br>experience: 1</br>company_size: 5000-9999</br>company_type: Pvt Ltd</br>last_new_job: 1</br>training_hours: 48.0</br>_original_yhat_: 0.5457825454538547</br>"
          ],
          [
           "</br>id: 4268</br>prediction: 0.946</br>city_development_index: 0.4884</br></br>gender: Male</br>relevent_experience: No relevent experience</br>enrolled_university: no_enrollment</br>education_level: Graduate</br>major_discipline: Business Degree</br>experience: 1</br>company_size: 5000-9999</br>company_type: Pvt Ltd</br>last_new_job: 1</br>training_hours: 48.0</br>_original_yhat_: 0.5457825454538547</br>"
          ],
          [
           "</br>id: 4268</br>prediction: 0.944</br>city_development_index: 0.4931</br></br>gender: Male</br>relevent_experience: No relevent experience</br>enrolled_university: no_enrollment</br>education_level: Graduate</br>major_discipline: Business Degree</br>experience: 1</br>company_size: 5000-9999</br>company_type: Pvt Ltd</br>last_new_job: 1</br>training_hours: 48.0</br>_original_yhat_: 0.5457825454538547</br>"
          ],
          [
           "</br>id: 4268</br>prediction: 0.943</br>city_development_index: 0.49779999999999996</br></br>gender: Male</br>relevent_experience: No relevent experience</br>enrolled_university: no_enrollment</br>education_level: Graduate</br>major_discipline: Business Degree</br>experience: 1</br>company_size: 5000-9999</br>company_type: Pvt Ltd</br>last_new_job: 1</br>training_hours: 48.0</br>_original_yhat_: 0.5457825454538547</br>"
          ],
          [
           "</br>id: 4268</br>prediction: 0.941</br>city_development_index: 0.5025</br></br>gender: Male</br>relevent_experience: No relevent experience</br>enrolled_university: no_enrollment</br>education_level: Graduate</br>major_discipline: Business Degree</br>experience: 1</br>company_size: 5000-9999</br>company_type: Pvt Ltd</br>last_new_job: 1</br>training_hours: 48.0</br>_original_yhat_: 0.5457825454538547</br>"
          ],
          [
           "</br>id: 4268</br>prediction: 0.94</br>city_development_index: 0.5072</br></br>gender: Male</br>relevent_experience: No relevent experience</br>enrolled_university: no_enrollment</br>education_level: Graduate</br>major_discipline: Business Degree</br>experience: 1</br>company_size: 5000-9999</br>company_type: Pvt Ltd</br>last_new_job: 1</br>training_hours: 48.0</br>_original_yhat_: 0.5457825454538547</br>"
          ],
          [
           "</br>id: 4268</br>prediction: 0.938</br>city_development_index: 0.5119</br></br>gender: Male</br>relevent_experience: No relevent experience</br>enrolled_university: no_enrollment</br>education_level: Graduate</br>major_discipline: Business Degree</br>experience: 1</br>company_size: 5000-9999</br>company_type: Pvt Ltd</br>last_new_job: 1</br>training_hours: 48.0</br>_original_yhat_: 0.5457825454538547</br>"
          ],
          [
           "</br>id: 4268</br>prediction: 0.936</br>city_development_index: 0.5166</br></br>gender: Male</br>relevent_experience: No relevent experience</br>enrolled_university: no_enrollment</br>education_level: Graduate</br>major_discipline: Business Degree</br>experience: 1</br>company_size: 5000-9999</br>company_type: Pvt Ltd</br>last_new_job: 1</br>training_hours: 48.0</br>_original_yhat_: 0.5457825454538547</br>"
          ],
          [
           "</br>id: 4268</br>prediction: 0.934</br>city_development_index: 0.5213</br></br>gender: Male</br>relevent_experience: No relevent experience</br>enrolled_university: no_enrollment</br>education_level: Graduate</br>major_discipline: Business Degree</br>experience: 1</br>company_size: 5000-9999</br>company_type: Pvt Ltd</br>last_new_job: 1</br>training_hours: 48.0</br>_original_yhat_: 0.5457825454538547</br>"
          ],
          [
           "</br>id: 4268</br>prediction: 0.933</br>city_development_index: 0.526</br></br>gender: Male</br>relevent_experience: No relevent experience</br>enrolled_university: no_enrollment</br>education_level: Graduate</br>major_discipline: Business Degree</br>experience: 1</br>company_size: 5000-9999</br>company_type: Pvt Ltd</br>last_new_job: 1</br>training_hours: 48.0</br>_original_yhat_: 0.5457825454538547</br>"
          ],
          [
           "</br>id: 4268</br>prediction: 0.931</br>city_development_index: 0.5307</br></br>gender: Male</br>relevent_experience: No relevent experience</br>enrolled_university: no_enrollment</br>education_level: Graduate</br>major_discipline: Business Degree</br>experience: 1</br>company_size: 5000-9999</br>company_type: Pvt Ltd</br>last_new_job: 1</br>training_hours: 48.0</br>_original_yhat_: 0.5457825454538547</br>"
          ],
          [
           "</br>id: 4268</br>prediction: 0.929</br>city_development_index: 0.5354</br></br>gender: Male</br>relevent_experience: No relevent experience</br>enrolled_university: no_enrollment</br>education_level: Graduate</br>major_discipline: Business Degree</br>experience: 1</br>company_size: 5000-9999</br>company_type: Pvt Ltd</br>last_new_job: 1</br>training_hours: 48.0</br>_original_yhat_: 0.5457825454538547</br>"
          ],
          [
           "</br>id: 4268</br>prediction: 0.927</br>city_development_index: 0.5401</br></br>gender: Male</br>relevent_experience: No relevent experience</br>enrolled_university: no_enrollment</br>education_level: Graduate</br>major_discipline: Business Degree</br>experience: 1</br>company_size: 5000-9999</br>company_type: Pvt Ltd</br>last_new_job: 1</br>training_hours: 48.0</br>_original_yhat_: 0.5457825454538547</br>"
          ],
          [
           "</br>id: 4268</br>prediction: 0.925</br>city_development_index: 0.5448</br></br>gender: Male</br>relevent_experience: No relevent experience</br>enrolled_university: no_enrollment</br>education_level: Graduate</br>major_discipline: Business Degree</br>experience: 1</br>company_size: 5000-9999</br>company_type: Pvt Ltd</br>last_new_job: 1</br>training_hours: 48.0</br>_original_yhat_: 0.5457825454538547</br>"
          ],
          [
           "</br>id: 4268</br>prediction: 0.923</br>city_development_index: 0.5495</br></br>gender: Male</br>relevent_experience: No relevent experience</br>enrolled_university: no_enrollment</br>education_level: Graduate</br>major_discipline: Business Degree</br>experience: 1</br>company_size: 5000-9999</br>company_type: Pvt Ltd</br>last_new_job: 1</br>training_hours: 48.0</br>_original_yhat_: 0.5457825454538547</br>"
          ],
          [
           "</br>id: 4268</br>prediction: 0.921</br>city_development_index: 0.5542</br></br>gender: Male</br>relevent_experience: No relevent experience</br>enrolled_university: no_enrollment</br>education_level: Graduate</br>major_discipline: Business Degree</br>experience: 1</br>company_size: 5000-9999</br>company_type: Pvt Ltd</br>last_new_job: 1</br>training_hours: 48.0</br>_original_yhat_: 0.5457825454538547</br>"
          ],
          [
           "</br>id: 4268</br>prediction: 0.919</br>city_development_index: 0.5589</br></br>gender: Male</br>relevent_experience: No relevent experience</br>enrolled_university: no_enrollment</br>education_level: Graduate</br>major_discipline: Business Degree</br>experience: 1</br>company_size: 5000-9999</br>company_type: Pvt Ltd</br>last_new_job: 1</br>training_hours: 48.0</br>_original_yhat_: 0.5457825454538547</br>"
          ],
          [
           "</br>id: 4268</br>prediction: 0.916</br>city_development_index: 0.5636</br></br>gender: Male</br>relevent_experience: No relevent experience</br>enrolled_university: no_enrollment</br>education_level: Graduate</br>major_discipline: Business Degree</br>experience: 1</br>company_size: 5000-9999</br>company_type: Pvt Ltd</br>last_new_job: 1</br>training_hours: 48.0</br>_original_yhat_: 0.5457825454538547</br>"
          ],
          [
           "</br>id: 4268</br>prediction: 0.914</br>city_development_index: 0.5683</br></br>gender: Male</br>relevent_experience: No relevent experience</br>enrolled_university: no_enrollment</br>education_level: Graduate</br>major_discipline: Business Degree</br>experience: 1</br>company_size: 5000-9999</br>company_type: Pvt Ltd</br>last_new_job: 1</br>training_hours: 48.0</br>_original_yhat_: 0.5457825454538547</br>"
          ],
          [
           "</br>id: 4268</br>prediction: 0.912</br>city_development_index: 0.573</br></br>gender: Male</br>relevent_experience: No relevent experience</br>enrolled_university: no_enrollment</br>education_level: Graduate</br>major_discipline: Business Degree</br>experience: 1</br>company_size: 5000-9999</br>company_type: Pvt Ltd</br>last_new_job: 1</br>training_hours: 48.0</br>_original_yhat_: 0.5457825454538547</br>"
          ],
          [
           "</br>id: 4268</br>prediction: 0.909</br>city_development_index: 0.5777</br></br>gender: Male</br>relevent_experience: No relevent experience</br>enrolled_university: no_enrollment</br>education_level: Graduate</br>major_discipline: Business Degree</br>experience: 1</br>company_size: 5000-9999</br>company_type: Pvt Ltd</br>last_new_job: 1</br>training_hours: 48.0</br>_original_yhat_: 0.5457825454538547</br>"
          ],
          [
           "</br>id: 4268</br>prediction: 0.907</br>city_development_index: 0.5824</br></br>gender: Male</br>relevent_experience: No relevent experience</br>enrolled_university: no_enrollment</br>education_level: Graduate</br>major_discipline: Business Degree</br>experience: 1</br>company_size: 5000-9999</br>company_type: Pvt Ltd</br>last_new_job: 1</br>training_hours: 48.0</br>_original_yhat_: 0.5457825454538547</br>"
          ],
          [
           "</br>id: 4268</br>prediction: 0.905</br>city_development_index: 0.5871</br></br>gender: Male</br>relevent_experience: No relevent experience</br>enrolled_university: no_enrollment</br>education_level: Graduate</br>major_discipline: Business Degree</br>experience: 1</br>company_size: 5000-9999</br>company_type: Pvt Ltd</br>last_new_job: 1</br>training_hours: 48.0</br>_original_yhat_: 0.5457825454538547</br>"
          ],
          [
           "</br>id: 4268</br>prediction: 0.902</br>city_development_index: 0.5918</br></br>gender: Male</br>relevent_experience: No relevent experience</br>enrolled_university: no_enrollment</br>education_level: Graduate</br>major_discipline: Business Degree</br>experience: 1</br>company_size: 5000-9999</br>company_type: Pvt Ltd</br>last_new_job: 1</br>training_hours: 48.0</br>_original_yhat_: 0.5457825454538547</br>"
          ],
          [
           "</br>id: 4268</br>prediction: 0.899</br>city_development_index: 0.5964999999999999</br></br>gender: Male</br>relevent_experience: No relevent experience</br>enrolled_university: no_enrollment</br>education_level: Graduate</br>major_discipline: Business Degree</br>experience: 1</br>company_size: 5000-9999</br>company_type: Pvt Ltd</br>last_new_job: 1</br>training_hours: 48.0</br>_original_yhat_: 0.5457825454538547</br>"
          ],
          [
           "</br>id: 4268</br>prediction: 0.897</br>city_development_index: 0.6012</br></br>gender: Male</br>relevent_experience: No relevent experience</br>enrolled_university: no_enrollment</br>education_level: Graduate</br>major_discipline: Business Degree</br>experience: 1</br>company_size: 5000-9999</br>company_type: Pvt Ltd</br>last_new_job: 1</br>training_hours: 48.0</br>_original_yhat_: 0.5457825454538547</br>"
          ],
          [
           "</br>id: 4268</br>prediction: 0.894</br>city_development_index: 0.6059</br></br>gender: Male</br>relevent_experience: No relevent experience</br>enrolled_university: no_enrollment</br>education_level: Graduate</br>major_discipline: Business Degree</br>experience: 1</br>company_size: 5000-9999</br>company_type: Pvt Ltd</br>last_new_job: 1</br>training_hours: 48.0</br>_original_yhat_: 0.5457825454538547</br>"
          ],
          [
           "</br>id: 4268</br>prediction: 0.891</br>city_development_index: 0.6106</br></br>gender: Male</br>relevent_experience: No relevent experience</br>enrolled_university: no_enrollment</br>education_level: Graduate</br>major_discipline: Business Degree</br>experience: 1</br>company_size: 5000-9999</br>company_type: Pvt Ltd</br>last_new_job: 1</br>training_hours: 48.0</br>_original_yhat_: 0.5457825454538547</br>"
          ],
          [
           "</br>id: 4268</br>prediction: 0.888</br>city_development_index: 0.6153</br></br>gender: Male</br>relevent_experience: No relevent experience</br>enrolled_university: no_enrollment</br>education_level: Graduate</br>major_discipline: Business Degree</br>experience: 1</br>company_size: 5000-9999</br>company_type: Pvt Ltd</br>last_new_job: 1</br>training_hours: 48.0</br>_original_yhat_: 0.5457825454538547</br>"
          ],
          [
           "</br>id: 4268</br>prediction: 0.885</br>city_development_index: 0.62</br></br>gender: Male</br>relevent_experience: No relevent experience</br>enrolled_university: no_enrollment</br>education_level: Graduate</br>major_discipline: Business Degree</br>experience: 1</br>company_size: 5000-9999</br>company_type: Pvt Ltd</br>last_new_job: 1</br>training_hours: 48.0</br>_original_yhat_: 0.5457825454538547</br>"
          ],
          [
           "</br>id: 4268</br>prediction: 0.882</br>city_development_index: 0.6246999999999999</br></br>gender: Male</br>relevent_experience: No relevent experience</br>enrolled_university: no_enrollment</br>education_level: Graduate</br>major_discipline: Business Degree</br>experience: 1</br>company_size: 5000-9999</br>company_type: Pvt Ltd</br>last_new_job: 1</br>training_hours: 48.0</br>_original_yhat_: 0.5457825454538547</br>"
          ],
          [
           "</br>id: 4268</br>prediction: 0.879</br>city_development_index: 0.6294</br></br>gender: Male</br>relevent_experience: No relevent experience</br>enrolled_university: no_enrollment</br>education_level: Graduate</br>major_discipline: Business Degree</br>experience: 1</br>company_size: 5000-9999</br>company_type: Pvt Ltd</br>last_new_job: 1</br>training_hours: 48.0</br>_original_yhat_: 0.5457825454538547</br>"
          ],
          [
           "</br>id: 4268</br>prediction: 0.876</br>city_development_index: 0.6341</br></br>gender: Male</br>relevent_experience: No relevent experience</br>enrolled_university: no_enrollment</br>education_level: Graduate</br>major_discipline: Business Degree</br>experience: 1</br>company_size: 5000-9999</br>company_type: Pvt Ltd</br>last_new_job: 1</br>training_hours: 48.0</br>_original_yhat_: 0.5457825454538547</br>"
          ],
          [
           "</br>id: 4268</br>prediction: 0.873</br>city_development_index: 0.6387999999999999</br></br>gender: Male</br>relevent_experience: No relevent experience</br>enrolled_university: no_enrollment</br>education_level: Graduate</br>major_discipline: Business Degree</br>experience: 1</br>company_size: 5000-9999</br>company_type: Pvt Ltd</br>last_new_job: 1</br>training_hours: 48.0</br>_original_yhat_: 0.5457825454538547</br>"
          ],
          [
           "</br>id: 4268</br>prediction: 0.87</br>city_development_index: 0.6435</br></br>gender: Male</br>relevent_experience: No relevent experience</br>enrolled_university: no_enrollment</br>education_level: Graduate</br>major_discipline: Business Degree</br>experience: 1</br>company_size: 5000-9999</br>company_type: Pvt Ltd</br>last_new_job: 1</br>training_hours: 48.0</br>_original_yhat_: 0.5457825454538547</br>"
          ],
          [
           "</br>id: 4268</br>prediction: 0.866</br>city_development_index: 0.6481999999999999</br></br>gender: Male</br>relevent_experience: No relevent experience</br>enrolled_university: no_enrollment</br>education_level: Graduate</br>major_discipline: Business Degree</br>experience: 1</br>company_size: 5000-9999</br>company_type: Pvt Ltd</br>last_new_job: 1</br>training_hours: 48.0</br>_original_yhat_: 0.5457825454538547</br>"
          ],
          [
           "</br>id: 4268</br>prediction: 0.863</br>city_development_index: 0.6528999999999999</br></br>gender: Male</br>relevent_experience: No relevent experience</br>enrolled_university: no_enrollment</br>education_level: Graduate</br>major_discipline: Business Degree</br>experience: 1</br>company_size: 5000-9999</br>company_type: Pvt Ltd</br>last_new_job: 1</br>training_hours: 48.0</br>_original_yhat_: 0.5457825454538547</br>"
          ],
          [
           "</br>id: 4268</br>prediction: 0.86</br>city_development_index: 0.6576</br></br>gender: Male</br>relevent_experience: No relevent experience</br>enrolled_university: no_enrollment</br>education_level: Graduate</br>major_discipline: Business Degree</br>experience: 1</br>company_size: 5000-9999</br>company_type: Pvt Ltd</br>last_new_job: 1</br>training_hours: 48.0</br>_original_yhat_: 0.5457825454538547</br>"
          ],
          [
           "</br>id: 4268</br>prediction: 0.856</br>city_development_index: 0.6622999999999999</br></br>gender: Male</br>relevent_experience: No relevent experience</br>enrolled_university: no_enrollment</br>education_level: Graduate</br>major_discipline: Business Degree</br>experience: 1</br>company_size: 5000-9999</br>company_type: Pvt Ltd</br>last_new_job: 1</br>training_hours: 48.0</br>_original_yhat_: 0.5457825454538547</br>"
          ],
          [
           "</br>id: 4268</br>prediction: 0.852</br>city_development_index: 0.6669999999999999</br></br>gender: Male</br>relevent_experience: No relevent experience</br>enrolled_university: no_enrollment</br>education_level: Graduate</br>major_discipline: Business Degree</br>experience: 1</br>company_size: 5000-9999</br>company_type: Pvt Ltd</br>last_new_job: 1</br>training_hours: 48.0</br>_original_yhat_: 0.5457825454538547</br>"
          ],
          [
           "</br>id: 4268</br>prediction: 0.849</br>city_development_index: 0.6717</br></br>gender: Male</br>relevent_experience: No relevent experience</br>enrolled_university: no_enrollment</br>education_level: Graduate</br>major_discipline: Business Degree</br>experience: 1</br>company_size: 5000-9999</br>company_type: Pvt Ltd</br>last_new_job: 1</br>training_hours: 48.0</br>_original_yhat_: 0.5457825454538547</br>"
          ],
          [
           "</br>id: 4268</br>prediction: 0.845</br>city_development_index: 0.6763999999999999</br></br>gender: Male</br>relevent_experience: No relevent experience</br>enrolled_university: no_enrollment</br>education_level: Graduate</br>major_discipline: Business Degree</br>experience: 1</br>company_size: 5000-9999</br>company_type: Pvt Ltd</br>last_new_job: 1</br>training_hours: 48.0</br>_original_yhat_: 0.5457825454538547</br>"
          ],
          [
           "</br>id: 4268</br>prediction: 0.841</br>city_development_index: 0.6810999999999999</br></br>gender: Male</br>relevent_experience: No relevent experience</br>enrolled_university: no_enrollment</br>education_level: Graduate</br>major_discipline: Business Degree</br>experience: 1</br>company_size: 5000-9999</br>company_type: Pvt Ltd</br>last_new_job: 1</br>training_hours: 48.0</br>_original_yhat_: 0.5457825454538547</br>"
          ],
          [
           "</br>id: 4268</br>prediction: 0.837</br>city_development_index: 0.6858</br></br>gender: Male</br>relevent_experience: No relevent experience</br>enrolled_university: no_enrollment</br>education_level: Graduate</br>major_discipline: Business Degree</br>experience: 1</br>company_size: 5000-9999</br>company_type: Pvt Ltd</br>last_new_job: 1</br>training_hours: 48.0</br>_original_yhat_: 0.5457825454538547</br>"
          ],
          [
           "</br>id: 4268</br>prediction: 0.833</br>city_development_index: 0.6904999999999999</br></br>gender: Male</br>relevent_experience: No relevent experience</br>enrolled_university: no_enrollment</br>education_level: Graduate</br>major_discipline: Business Degree</br>experience: 1</br>company_size: 5000-9999</br>company_type: Pvt Ltd</br>last_new_job: 1</br>training_hours: 48.0</br>_original_yhat_: 0.5457825454538547</br>"
          ],
          [
           "</br>id: 4268</br>prediction: 0.829</br>city_development_index: 0.6951999999999999</br></br>gender: Male</br>relevent_experience: No relevent experience</br>enrolled_university: no_enrollment</br>education_level: Graduate</br>major_discipline: Business Degree</br>experience: 1</br>company_size: 5000-9999</br>company_type: Pvt Ltd</br>last_new_job: 1</br>training_hours: 48.0</br>_original_yhat_: 0.5457825454538547</br>"
          ],
          [
           "</br>id: 4268</br>prediction: 0.825</br>city_development_index: 0.6999</br></br>gender: Male</br>relevent_experience: No relevent experience</br>enrolled_university: no_enrollment</br>education_level: Graduate</br>major_discipline: Business Degree</br>experience: 1</br>company_size: 5000-9999</br>company_type: Pvt Ltd</br>last_new_job: 1</br>training_hours: 48.0</br>_original_yhat_: 0.5457825454538547</br>"
          ],
          [
           "</br>id: 4268</br>prediction: 0.821</br>city_development_index: 0.7045999999999999</br></br>gender: Male</br>relevent_experience: No relevent experience</br>enrolled_university: no_enrollment</br>education_level: Graduate</br>major_discipline: Business Degree</br>experience: 1</br>company_size: 5000-9999</br>company_type: Pvt Ltd</br>last_new_job: 1</br>training_hours: 48.0</br>_original_yhat_: 0.5457825454538547</br>"
          ],
          [
           "</br>id: 4268</br>prediction: 0.816</br>city_development_index: 0.7092999999999999</br></br>gender: Male</br>relevent_experience: No relevent experience</br>enrolled_university: no_enrollment</br>education_level: Graduate</br>major_discipline: Business Degree</br>experience: 1</br>company_size: 5000-9999</br>company_type: Pvt Ltd</br>last_new_job: 1</br>training_hours: 48.0</br>_original_yhat_: 0.5457825454538547</br>"
          ],
          [
           "</br>id: 4268</br>prediction: 0.812</br>city_development_index: 0.714</br></br>gender: Male</br>relevent_experience: No relevent experience</br>enrolled_university: no_enrollment</br>education_level: Graduate</br>major_discipline: Business Degree</br>experience: 1</br>company_size: 5000-9999</br>company_type: Pvt Ltd</br>last_new_job: 1</br>training_hours: 48.0</br>_original_yhat_: 0.5457825454538547</br>"
          ],
          [
           "</br>id: 4268</br>prediction: 0.807</br>city_development_index: 0.7186999999999999</br></br>gender: Male</br>relevent_experience: No relevent experience</br>enrolled_university: no_enrollment</br>education_level: Graduate</br>major_discipline: Business Degree</br>experience: 1</br>company_size: 5000-9999</br>company_type: Pvt Ltd</br>last_new_job: 1</br>training_hours: 48.0</br>_original_yhat_: 0.5457825454538547</br>"
          ],
          [
           "</br>id: 4268</br>prediction: 0.803</br>city_development_index: 0.7233999999999999</br></br>gender: Male</br>relevent_experience: No relevent experience</br>enrolled_university: no_enrollment</br>education_level: Graduate</br>major_discipline: Business Degree</br>experience: 1</br>company_size: 5000-9999</br>company_type: Pvt Ltd</br>last_new_job: 1</br>training_hours: 48.0</br>_original_yhat_: 0.5457825454538547</br>"
          ],
          [
           "</br>id: 4268</br>prediction: 0.798</br>city_development_index: 0.7281</br></br>gender: Male</br>relevent_experience: No relevent experience</br>enrolled_university: no_enrollment</br>education_level: Graduate</br>major_discipline: Business Degree</br>experience: 1</br>company_size: 5000-9999</br>company_type: Pvt Ltd</br>last_new_job: 1</br>training_hours: 48.0</br>_original_yhat_: 0.5457825454538547</br>"
          ],
          [
           "</br>id: 4268</br>prediction: 0.793</br>city_development_index: 0.7327999999999999</br></br>gender: Male</br>relevent_experience: No relevent experience</br>enrolled_university: no_enrollment</br>education_level: Graduate</br>major_discipline: Business Degree</br>experience: 1</br>company_size: 5000-9999</br>company_type: Pvt Ltd</br>last_new_job: 1</br>training_hours: 48.0</br>_original_yhat_: 0.5457825454538547</br>"
          ],
          [
           "</br>id: 4268</br>prediction: 0.789</br>city_development_index: 0.7374999999999999</br></br>gender: Male</br>relevent_experience: No relevent experience</br>enrolled_university: no_enrollment</br>education_level: Graduate</br>major_discipline: Business Degree</br>experience: 1</br>company_size: 5000-9999</br>company_type: Pvt Ltd</br>last_new_job: 1</br>training_hours: 48.0</br>_original_yhat_: 0.5457825454538547</br>"
          ],
          [
           "</br>id: 4268</br>prediction: 0.784</br>city_development_index: 0.7422</br></br>gender: Male</br>relevent_experience: No relevent experience</br>enrolled_university: no_enrollment</br>education_level: Graduate</br>major_discipline: Business Degree</br>experience: 1</br>company_size: 5000-9999</br>company_type: Pvt Ltd</br>last_new_job: 1</br>training_hours: 48.0</br>_original_yhat_: 0.5457825454538547</br>"
          ],
          [
           "</br>id: 4268</br>prediction: 0.779</br>city_development_index: 0.7468999999999999</br></br>gender: Male</br>relevent_experience: No relevent experience</br>enrolled_university: no_enrollment</br>education_level: Graduate</br>major_discipline: Business Degree</br>experience: 1</br>company_size: 5000-9999</br>company_type: Pvt Ltd</br>last_new_job: 1</br>training_hours: 48.0</br>_original_yhat_: 0.5457825454538547</br>"
          ],
          [
           "</br>id: 4268</br>prediction: 0.774</br>city_development_index: 0.7515999999999999</br></br>gender: Male</br>relevent_experience: No relevent experience</br>enrolled_university: no_enrollment</br>education_level: Graduate</br>major_discipline: Business Degree</br>experience: 1</br>company_size: 5000-9999</br>company_type: Pvt Ltd</br>last_new_job: 1</br>training_hours: 48.0</br>_original_yhat_: 0.5457825454538547</br>"
          ],
          [
           "</br>id: 4268</br>prediction: 0.768</br>city_development_index: 0.7563</br></br>gender: Male</br>relevent_experience: No relevent experience</br>enrolled_university: no_enrollment</br>education_level: Graduate</br>major_discipline: Business Degree</br>experience: 1</br>company_size: 5000-9999</br>company_type: Pvt Ltd</br>last_new_job: 1</br>training_hours: 48.0</br>_original_yhat_: 0.5457825454538547</br>"
          ],
          [
           "</br>id: 4268</br>prediction: 0.763</br>city_development_index: 0.7609999999999999</br></br>gender: Male</br>relevent_experience: No relevent experience</br>enrolled_university: no_enrollment</br>education_level: Graduate</br>major_discipline: Business Degree</br>experience: 1</br>company_size: 5000-9999</br>company_type: Pvt Ltd</br>last_new_job: 1</br>training_hours: 48.0</br>_original_yhat_: 0.5457825454538547</br>"
          ],
          [
           "</br>id: 4268</br>prediction: 0.758</br>city_development_index: 0.7656999999999999</br></br>gender: Male</br>relevent_experience: No relevent experience</br>enrolled_university: no_enrollment</br>education_level: Graduate</br>major_discipline: Business Degree</br>experience: 1</br>company_size: 5000-9999</br>company_type: Pvt Ltd</br>last_new_job: 1</br>training_hours: 48.0</br>_original_yhat_: 0.5457825454538547</br>"
          ],
          [
           "</br>id: 4268</br>prediction: 0.752</br>city_development_index: 0.7704</br></br>gender: Male</br>relevent_experience: No relevent experience</br>enrolled_university: no_enrollment</br>education_level: Graduate</br>major_discipline: Business Degree</br>experience: 1</br>company_size: 5000-9999</br>company_type: Pvt Ltd</br>last_new_job: 1</br>training_hours: 48.0</br>_original_yhat_: 0.5457825454538547</br>"
          ],
          [
           "</br>id: 4268</br>prediction: 0.747</br>city_development_index: 0.7750999999999999</br></br>gender: Male</br>relevent_experience: No relevent experience</br>enrolled_university: no_enrollment</br>education_level: Graduate</br>major_discipline: Business Degree</br>experience: 1</br>company_size: 5000-9999</br>company_type: Pvt Ltd</br>last_new_job: 1</br>training_hours: 48.0</br>_original_yhat_: 0.5457825454538547</br>"
          ],
          [
           "</br>id: 4268</br>prediction: 0.741</br>city_development_index: 0.7797999999999999</br></br>gender: Male</br>relevent_experience: No relevent experience</br>enrolled_university: no_enrollment</br>education_level: Graduate</br>major_discipline: Business Degree</br>experience: 1</br>company_size: 5000-9999</br>company_type: Pvt Ltd</br>last_new_job: 1</br>training_hours: 48.0</br>_original_yhat_: 0.5457825454538547</br>"
          ],
          [
           "</br>id: 4268</br>prediction: 0.736</br>city_development_index: 0.7845</br></br>gender: Male</br>relevent_experience: No relevent experience</br>enrolled_university: no_enrollment</br>education_level: Graduate</br>major_discipline: Business Degree</br>experience: 1</br>company_size: 5000-9999</br>company_type: Pvt Ltd</br>last_new_job: 1</br>training_hours: 48.0</br>_original_yhat_: 0.5457825454538547</br>"
          ],
          [
           "</br>id: 4268</br>prediction: 0.73</br>city_development_index: 0.7891999999999999</br></br>gender: Male</br>relevent_experience: No relevent experience</br>enrolled_university: no_enrollment</br>education_level: Graduate</br>major_discipline: Business Degree</br>experience: 1</br>company_size: 5000-9999</br>company_type: Pvt Ltd</br>last_new_job: 1</br>training_hours: 48.0</br>_original_yhat_: 0.5457825454538547</br>"
          ],
          [
           "</br>id: 4268</br>prediction: 0.724</br>city_development_index: 0.7938999999999999</br></br>gender: Male</br>relevent_experience: No relevent experience</br>enrolled_university: no_enrollment</br>education_level: Graduate</br>major_discipline: Business Degree</br>experience: 1</br>company_size: 5000-9999</br>company_type: Pvt Ltd</br>last_new_job: 1</br>training_hours: 48.0</br>_original_yhat_: 0.5457825454538547</br>"
          ],
          [
           "</br>id: 4268</br>prediction: 0.718</br>city_development_index: 0.7986</br></br>gender: Male</br>relevent_experience: No relevent experience</br>enrolled_university: no_enrollment</br>education_level: Graduate</br>major_discipline: Business Degree</br>experience: 1</br>company_size: 5000-9999</br>company_type: Pvt Ltd</br>last_new_job: 1</br>training_hours: 48.0</br>_original_yhat_: 0.5457825454538547</br>"
          ],
          [
           "</br>id: 4268</br>prediction: 0.713</br>city_development_index: 0.8032999999999999</br></br>gender: Male</br>relevent_experience: No relevent experience</br>enrolled_university: no_enrollment</br>education_level: Graduate</br>major_discipline: Business Degree</br>experience: 1</br>company_size: 5000-9999</br>company_type: Pvt Ltd</br>last_new_job: 1</br>training_hours: 48.0</br>_original_yhat_: 0.5457825454538547</br>"
          ],
          [
           "</br>id: 4268</br>prediction: 0.707</br>city_development_index: 0.8079999999999999</br></br>gender: Male</br>relevent_experience: No relevent experience</br>enrolled_university: no_enrollment</br>education_level: Graduate</br>major_discipline: Business Degree</br>experience: 1</br>company_size: 5000-9999</br>company_type: Pvt Ltd</br>last_new_job: 1</br>training_hours: 48.0</br>_original_yhat_: 0.5457825454538547</br>"
          ],
          [
           "</br>id: 4268</br>prediction: 0.7</br>city_development_index: 0.8127</br></br>gender: Male</br>relevent_experience: No relevent experience</br>enrolled_university: no_enrollment</br>education_level: Graduate</br>major_discipline: Business Degree</br>experience: 1</br>company_size: 5000-9999</br>company_type: Pvt Ltd</br>last_new_job: 1</br>training_hours: 48.0</br>_original_yhat_: 0.5457825454538547</br>"
          ],
          [
           "</br>id: 4268</br>prediction: 0.694</br>city_development_index: 0.8173999999999999</br></br>gender: Male</br>relevent_experience: No relevent experience</br>enrolled_university: no_enrollment</br>education_level: Graduate</br>major_discipline: Business Degree</br>experience: 1</br>company_size: 5000-9999</br>company_type: Pvt Ltd</br>last_new_job: 1</br>training_hours: 48.0</br>_original_yhat_: 0.5457825454538547</br>"
          ],
          [
           "</br>id: 4268</br>prediction: 0.688</br>city_development_index: 0.8220999999999999</br></br>gender: Male</br>relevent_experience: No relevent experience</br>enrolled_university: no_enrollment</br>education_level: Graduate</br>major_discipline: Business Degree</br>experience: 1</br>company_size: 5000-9999</br>company_type: Pvt Ltd</br>last_new_job: 1</br>training_hours: 48.0</br>_original_yhat_: 0.5457825454538547</br>"
          ],
          [
           "</br>id: 4268</br>prediction: 0.682</br>city_development_index: 0.8268</br></br>gender: Male</br>relevent_experience: No relevent experience</br>enrolled_university: no_enrollment</br>education_level: Graduate</br>major_discipline: Business Degree</br>experience: 1</br>company_size: 5000-9999</br>company_type: Pvt Ltd</br>last_new_job: 1</br>training_hours: 48.0</br>_original_yhat_: 0.5457825454538547</br>"
          ],
          [
           "</br>id: 4268</br>prediction: 0.675</br>city_development_index: 0.8314999999999999</br></br>gender: Male</br>relevent_experience: No relevent experience</br>enrolled_university: no_enrollment</br>education_level: Graduate</br>major_discipline: Business Degree</br>experience: 1</br>company_size: 5000-9999</br>company_type: Pvt Ltd</br>last_new_job: 1</br>training_hours: 48.0</br>_original_yhat_: 0.5457825454538547</br>"
          ],
          [
           "</br>id: 4268</br>prediction: 0.669</br>city_development_index: 0.8361999999999999</br></br>gender: Male</br>relevent_experience: No relevent experience</br>enrolled_university: no_enrollment</br>education_level: Graduate</br>major_discipline: Business Degree</br>experience: 1</br>company_size: 5000-9999</br>company_type: Pvt Ltd</br>last_new_job: 1</br>training_hours: 48.0</br>_original_yhat_: 0.5457825454538547</br>"
          ],
          [
           "</br>id: 4268</br>prediction: 0.662</br>city_development_index: 0.8409</br></br>gender: Male</br>relevent_experience: No relevent experience</br>enrolled_university: no_enrollment</br>education_level: Graduate</br>major_discipline: Business Degree</br>experience: 1</br>company_size: 5000-9999</br>company_type: Pvt Ltd</br>last_new_job: 1</br>training_hours: 48.0</br>_original_yhat_: 0.5457825454538547</br>"
          ],
          [
           "</br>id: 4268</br>prediction: 0.656</br>city_development_index: 0.8455999999999999</br></br>gender: Male</br>relevent_experience: No relevent experience</br>enrolled_university: no_enrollment</br>education_level: Graduate</br>major_discipline: Business Degree</br>experience: 1</br>company_size: 5000-9999</br>company_type: Pvt Ltd</br>last_new_job: 1</br>training_hours: 48.0</br>_original_yhat_: 0.5457825454538547</br>"
          ],
          [
           "</br>id: 4268</br>prediction: 0.649</br>city_development_index: 0.8503</br></br>gender: Male</br>relevent_experience: No relevent experience</br>enrolled_university: no_enrollment</br>education_level: Graduate</br>major_discipline: Business Degree</br>experience: 1</br>company_size: 5000-9999</br>company_type: Pvt Ltd</br>last_new_job: 1</br>training_hours: 48.0</br>_original_yhat_: 0.5457825454538547</br>"
          ],
          [
           "</br>id: 4268</br>prediction: 0.643</br>city_development_index: 0.855</br></br>gender: Male</br>relevent_experience: No relevent experience</br>enrolled_university: no_enrollment</br>education_level: Graduate</br>major_discipline: Business Degree</br>experience: 1</br>company_size: 5000-9999</br>company_type: Pvt Ltd</br>last_new_job: 1</br>training_hours: 48.0</br>_original_yhat_: 0.5457825454538547</br>"
          ],
          [
           "</br>id: 4268</br>prediction: 0.636</br>city_development_index: 0.8596999999999999</br></br>gender: Male</br>relevent_experience: No relevent experience</br>enrolled_university: no_enrollment</br>education_level: Graduate</br>major_discipline: Business Degree</br>experience: 1</br>company_size: 5000-9999</br>company_type: Pvt Ltd</br>last_new_job: 1</br>training_hours: 48.0</br>_original_yhat_: 0.5457825454538547</br>"
          ],
          [
           "</br>id: 4268</br>prediction: 0.629</br>city_development_index: 0.8644</br></br>gender: Male</br>relevent_experience: No relevent experience</br>enrolled_university: no_enrollment</br>education_level: Graduate</br>major_discipline: Business Degree</br>experience: 1</br>company_size: 5000-9999</br>company_type: Pvt Ltd</br>last_new_job: 1</br>training_hours: 48.0</br>_original_yhat_: 0.5457825454538547</br>"
          ],
          [
           "</br>id: 4268</br>prediction: 0.622</br>city_development_index: 0.8691</br></br>gender: Male</br>relevent_experience: No relevent experience</br>enrolled_university: no_enrollment</br>education_level: Graduate</br>major_discipline: Business Degree</br>experience: 1</br>company_size: 5000-9999</br>company_type: Pvt Ltd</br>last_new_job: 1</br>training_hours: 48.0</br>_original_yhat_: 0.5457825454538547</br>"
          ],
          [
           "</br>id: 4268</br>prediction: 0.615</br>city_development_index: 0.8737999999999999</br></br>gender: Male</br>relevent_experience: No relevent experience</br>enrolled_university: no_enrollment</br>education_level: Graduate</br>major_discipline: Business Degree</br>experience: 1</br>company_size: 5000-9999</br>company_type: Pvt Ltd</br>last_new_job: 1</br>training_hours: 48.0</br>_original_yhat_: 0.5457825454538547</br>"
          ],
          [
           "</br>id: 4268</br>prediction: 0.609</br>city_development_index: 0.8785</br></br>gender: Male</br>relevent_experience: No relevent experience</br>enrolled_university: no_enrollment</br>education_level: Graduate</br>major_discipline: Business Degree</br>experience: 1</br>company_size: 5000-9999</br>company_type: Pvt Ltd</br>last_new_job: 1</br>training_hours: 48.0</br>_original_yhat_: 0.5457825454538547</br>"
          ],
          [
           "</br>id: 4268</br>prediction: 0.602</br>city_development_index: 0.8832</br></br>gender: Male</br>relevent_experience: No relevent experience</br>enrolled_university: no_enrollment</br>education_level: Graduate</br>major_discipline: Business Degree</br>experience: 1</br>company_size: 5000-9999</br>company_type: Pvt Ltd</br>last_new_job: 1</br>training_hours: 48.0</br>_original_yhat_: 0.5457825454538547</br>"
          ],
          [
           "</br>id: 4268</br>prediction: 0.595</br>city_development_index: 0.8878999999999999</br></br>gender: Male</br>relevent_experience: No relevent experience</br>enrolled_university: no_enrollment</br>education_level: Graduate</br>major_discipline: Business Degree</br>experience: 1</br>company_size: 5000-9999</br>company_type: Pvt Ltd</br>last_new_job: 1</br>training_hours: 48.0</br>_original_yhat_: 0.5457825454538547</br>"
          ],
          [
           "</br>id: 4268</br>prediction: 0.588</br>city_development_index: 0.8926</br></br>gender: Male</br>relevent_experience: No relevent experience</br>enrolled_university: no_enrollment</br>education_level: Graduate</br>major_discipline: Business Degree</br>experience: 1</br>company_size: 5000-9999</br>company_type: Pvt Ltd</br>last_new_job: 1</br>training_hours: 48.0</br>_original_yhat_: 0.5457825454538547</br>"
          ],
          [
           "</br>id: 4268</br>prediction: 0.58</br>city_development_index: 0.8973</br></br>gender: Male</br>relevent_experience: No relevent experience</br>enrolled_university: no_enrollment</br>education_level: Graduate</br>major_discipline: Business Degree</br>experience: 1</br>company_size: 5000-9999</br>company_type: Pvt Ltd</br>last_new_job: 1</br>training_hours: 48.0</br>_original_yhat_: 0.5457825454538547</br>"
          ],
          [
           "</br>id: 4268</br>prediction: 0.573</br>city_development_index: 0.9019999999999999</br></br>gender: Male</br>relevent_experience: No relevent experience</br>enrolled_university: no_enrollment</br>education_level: Graduate</br>major_discipline: Business Degree</br>experience: 1</br>company_size: 5000-9999</br>company_type: Pvt Ltd</br>last_new_job: 1</br>training_hours: 48.0</br>_original_yhat_: 0.5457825454538547</br>"
          ],
          [
           "</br>id: 4268</br>prediction: 0.566</br>city_development_index: 0.9066999999999998</br></br>gender: Male</br>relevent_experience: No relevent experience</br>enrolled_university: no_enrollment</br>education_level: Graduate</br>major_discipline: Business Degree</br>experience: 1</br>company_size: 5000-9999</br>company_type: Pvt Ltd</br>last_new_job: 1</br>training_hours: 48.0</br>_original_yhat_: 0.5457825454538547</br>"
          ],
          [
           "</br>id: 4268</br>prediction: 0.559</br>city_development_index: 0.9114</br></br>gender: Male</br>relevent_experience: No relevent experience</br>enrolled_university: no_enrollment</br>education_level: Graduate</br>major_discipline: Business Degree</br>experience: 1</br>company_size: 5000-9999</br>company_type: Pvt Ltd</br>last_new_job: 1</br>training_hours: 48.0</br>_original_yhat_: 0.5457825454538547</br>"
          ],
          [
           "</br>id: 4268</br>prediction: 0.552</br>city_development_index: 0.9160999999999999</br></br>gender: Male</br>relevent_experience: No relevent experience</br>enrolled_university: no_enrollment</br>education_level: Graduate</br>major_discipline: Business Degree</br>experience: 1</br>company_size: 5000-9999</br>company_type: Pvt Ltd</br>last_new_job: 1</br>training_hours: 48.0</br>_original_yhat_: 0.5457825454538547</br>"
          ],
          [
           "</br>id: 4268</br>prediction: 0.546</br>city_development_index: 0.92</br></br>gender: Male</br>relevent_experience: No relevent experience</br>enrolled_university: no_enrollment</br>education_level: Graduate</br>major_discipline: Business Degree</br>experience: 1</br>company_size: 5000-9999</br>company_type: Pvt Ltd</br>last_new_job: 1</br>training_hours: 48.0</br>_original_yhat_: 0.5457825454538547</br>"
          ],
          [
           "</br>id: 4268</br>prediction: 0.545</br>city_development_index: 0.9207999999999998</br></br>gender: Male</br>relevent_experience: No relevent experience</br>enrolled_university: no_enrollment</br>education_level: Graduate</br>major_discipline: Business Degree</br>experience: 1</br>company_size: 5000-9999</br>company_type: Pvt Ltd</br>last_new_job: 1</br>training_hours: 48.0</br>_original_yhat_: 0.5457825454538547</br>"
          ],
          [
           "</br>id: 4268</br>prediction: 0.537</br>city_development_index: 0.9255</br></br>gender: Male</br>relevent_experience: No relevent experience</br>enrolled_university: no_enrollment</br>education_level: Graduate</br>major_discipline: Business Degree</br>experience: 1</br>company_size: 5000-9999</br>company_type: Pvt Ltd</br>last_new_job: 1</br>training_hours: 48.0</br>_original_yhat_: 0.5457825454538547</br>"
          ],
          [
           "</br>id: 4268</br>prediction: 0.53</br>city_development_index: 0.9301999999999999</br></br>gender: Male</br>relevent_experience: No relevent experience</br>enrolled_university: no_enrollment</br>education_level: Graduate</br>major_discipline: Business Degree</br>experience: 1</br>company_size: 5000-9999</br>company_type: Pvt Ltd</br>last_new_job: 1</br>training_hours: 48.0</br>_original_yhat_: 0.5457825454538547</br>"
          ],
          [
           "</br>id: 4268</br>prediction: 0.523</br>city_development_index: 0.9348999999999998</br></br>gender: Male</br>relevent_experience: No relevent experience</br>enrolled_university: no_enrollment</br>education_level: Graduate</br>major_discipline: Business Degree</br>experience: 1</br>company_size: 5000-9999</br>company_type: Pvt Ltd</br>last_new_job: 1</br>training_hours: 48.0</br>_original_yhat_: 0.5457825454538547</br>"
          ],
          [
           "</br>id: 4268</br>prediction: 0.516</br>city_development_index: 0.9396</br></br>gender: Male</br>relevent_experience: No relevent experience</br>enrolled_university: no_enrollment</br>education_level: Graduate</br>major_discipline: Business Degree</br>experience: 1</br>company_size: 5000-9999</br>company_type: Pvt Ltd</br>last_new_job: 1</br>training_hours: 48.0</br>_original_yhat_: 0.5457825454538547</br>"
          ],
          [
           "</br>id: 4268</br>prediction: 0.508</br>city_development_index: 0.9442999999999999</br></br>gender: Male</br>relevent_experience: No relevent experience</br>enrolled_university: no_enrollment</br>education_level: Graduate</br>major_discipline: Business Degree</br>experience: 1</br>company_size: 5000-9999</br>company_type: Pvt Ltd</br>last_new_job: 1</br>training_hours: 48.0</br>_original_yhat_: 0.5457825454538547</br>"
          ],
          [
           "</br>id: 4268</br>prediction: 0.501</br>city_development_index: 0.949</br></br>gender: Male</br>relevent_experience: No relevent experience</br>enrolled_university: no_enrollment</br>education_level: Graduate</br>major_discipline: Business Degree</br>experience: 1</br>company_size: 5000-9999</br>company_type: Pvt Ltd</br>last_new_job: 1</br>training_hours: 48.0</br>_original_yhat_: 0.5457825454538547</br>"
          ]
         ],
         "hovertemplate": "%{customdata[0]}<extra></extra>",
         "legendgroup": "Logistic Regression",
         "line": {
          "color": "#46bac2",
          "dash": "solid",
          "width": 2
         },
         "marker": {
          "symbol": "circle"
         },
         "mode": "lines",
         "name": "Logistic Regression",
         "opacity": 1,
         "orientation": "v",
         "showlegend": true,
         "type": "scatter",
         "x": [
          0.479,
          0.48369999999999996,
          0.4884,
          0.4931,
          0.49779999999999996,
          0.5025,
          0.5072,
          0.5119,
          0.5166,
          0.5213,
          0.526,
          0.5307,
          0.5354,
          0.5401,
          0.5448,
          0.5495,
          0.5542,
          0.5589,
          0.5636,
          0.5683,
          0.573,
          0.5777,
          0.5824,
          0.5871,
          0.5918,
          0.5964999999999999,
          0.6012,
          0.6059,
          0.6106,
          0.6153,
          0.62,
          0.6246999999999999,
          0.6294,
          0.6341,
          0.6387999999999999,
          0.6435,
          0.6481999999999999,
          0.6528999999999999,
          0.6576,
          0.6622999999999999,
          0.6669999999999999,
          0.6717,
          0.6763999999999999,
          0.6810999999999999,
          0.6858,
          0.6904999999999999,
          0.6951999999999999,
          0.6999,
          0.7045999999999999,
          0.7092999999999999,
          0.714,
          0.7186999999999999,
          0.7233999999999999,
          0.7281,
          0.7327999999999999,
          0.7374999999999999,
          0.7422,
          0.7468999999999999,
          0.7515999999999999,
          0.7563,
          0.7609999999999999,
          0.7656999999999999,
          0.7704,
          0.7750999999999999,
          0.7797999999999999,
          0.7845,
          0.7891999999999999,
          0.7938999999999999,
          0.7986,
          0.8032999999999999,
          0.8079999999999999,
          0.8127,
          0.8173999999999999,
          0.8220999999999999,
          0.8268,
          0.8314999999999999,
          0.8361999999999999,
          0.8409,
          0.8455999999999999,
          0.8503,
          0.855,
          0.8596999999999999,
          0.8644,
          0.8691,
          0.8737999999999999,
          0.8785,
          0.8832,
          0.8878999999999999,
          0.8926,
          0.8973,
          0.9019999999999999,
          0.9066999999999998,
          0.9114,
          0.9160999999999999,
          0.92,
          0.9207999999999998,
          0.9255,
          0.9301999999999999,
          0.9348999999999998,
          0.9396,
          0.9442999999999999,
          0.949
         ],
         "xaxis": "x",
         "y": [
          0.9488170784597025,
          0.9473822513898972,
          0.9459094944029679,
          0.9443979346668722,
          0.9428466866178313,
          0.941254852214902,
          0.9396215212277862,
          0.9379457715595091,
          0.9362266696056204,
          0.9344632706515942,
          0.9326546193101306,
          0.9307997500000675,
          0.9288976874686279,
          0.9269474473587295,
          0.9249480368230819,
          0.9228984551867883,
          0.9207976946601524,
          0.9186447411033666,
          0.9164385748447261,
          0.9141781715539724,
          0.9118625031723131,
          0.9094905389006102,
          0.9070612462471473,
          0.9045735921363084,
          0.9020265440793914,
          0.899419071408684,
          0.8967501465757861,
          0.8940187465150354,
          0.8912238540727344,
          0.8883644595026999,
          0.8854395620284784,
          0.8824481714723601,
          0.8793893099511034,
          0.8762620136380491,
          0.8730653345910397,
          0.8697983426452935,
          0.8664601273700857,
          0.8630498000877853,
          0.8595664959534692,
          0.8560093760929901,
          0.852377629797022,
          0.848670476768227,
          0.8448871694183051,
          0.8410269952112811,
          0.8370892790489752,
          0.8330733856941765,
          0.828978722226605,
          0.8248047405263154,
          0.8205509397787452,
          0.8162168689951689,
          0.8118021295418745,
          0.8073063776709403,
          0.8027293270450493,
          0.7980707512483688,
          0.793330486275094,
          0.7885084329868818,
          0.7836045595300152,
          0.7786189037028033,
          0.7735515752633951,
          0.7684027581679189,
          0.7631727127285938,
          0.7578617776812767,
          0.7524703721517381,
          0.746998997509863,
          0.7414482391009133,
          0.7358187678430032,
          0.7301113416799987,
          0.7243268068791908,
          0.7184660991632885,
          0.7125302446665516,
          0.7065203607052174,
          0.7004376563528071,
          0.6942834328113661,
          0.688059083570279,
          0.6817660943449223,
          0.6754060427881445,
          0.6689805979683326,
          0.6624915196086955,
          0.6559406570832937,
          0.6493299481663457,
          0.6426614175323628,
          0.6359371750057669,
          0.6291594135597682,
          0.62233040706547,
          0.6154525077933514,
          0.6085281436705238,
          0.6015598152983919,
          0.5945500927365911,
          0.5875016120603263,
          0.580417071699456,
          0.5732992285688773,
          0.566150894000932,
          0.5589749294916897,
          0.5517742422740337,
          0.5457825454538547,
          0.5445517807314834,
          0.5373105296676428,
          0.5300535054470153,
          0.5227837510236948,
          0.5155043308751419,
          0.508218325858818,
          0.5009288280099199
         ],
         "yaxis": "y"
        },
        {
         "customdata": [
          [
           "</br>id: 4268</br>prediction: 0.538</br>training_hours: 2.0</br></br>city_development_index: 0.92</br>gender: Male</br>relevent_experience: No relevent experience</br>enrolled_university: no_enrollment</br>education_level: Graduate</br>major_discipline: Business Degree</br>experience: 1</br>company_size: 5000-9999</br>company_type: Pvt Ltd</br>last_new_job: 1</br>_original_yhat_: 0.5457825454538547</br>"
          ],
          [
           "</br>id: 4268</br>prediction: 0.539</br>training_hours: 5.3</br></br>city_development_index: 0.92</br>gender: Male</br>relevent_experience: No relevent experience</br>enrolled_university: no_enrollment</br>education_level: Graduate</br>major_discipline: Business Degree</br>experience: 1</br>company_size: 5000-9999</br>company_type: Pvt Ltd</br>last_new_job: 1</br>_original_yhat_: 0.5457825454538547</br>"
          ],
          [
           "</br>id: 4268</br>prediction: 0.539</br>training_hours: 8.6</br></br>city_development_index: 0.92</br>gender: Male</br>relevent_experience: No relevent experience</br>enrolled_university: no_enrollment</br>education_level: Graduate</br>major_discipline: Business Degree</br>experience: 1</br>company_size: 5000-9999</br>company_type: Pvt Ltd</br>last_new_job: 1</br>_original_yhat_: 0.5457825454538547</br>"
          ],
          [
           "</br>id: 4268</br>prediction: 0.54</br>training_hours: 11.899999999999999</br></br>city_development_index: 0.92</br>gender: Male</br>relevent_experience: No relevent experience</br>enrolled_university: no_enrollment</br>education_level: Graduate</br>major_discipline: Business Degree</br>experience: 1</br>company_size: 5000-9999</br>company_type: Pvt Ltd</br>last_new_job: 1</br>_original_yhat_: 0.5457825454538547</br>"
          ],
          [
           "</br>id: 4268</br>prediction: 0.54</br>training_hours: 15.2</br></br>city_development_index: 0.92</br>gender: Male</br>relevent_experience: No relevent experience</br>enrolled_university: no_enrollment</br>education_level: Graduate</br>major_discipline: Business Degree</br>experience: 1</br>company_size: 5000-9999</br>company_type: Pvt Ltd</br>last_new_job: 1</br>_original_yhat_: 0.5457825454538547</br>"
          ],
          [
           "</br>id: 4268</br>prediction: 0.541</br>training_hours: 18.5</br></br>city_development_index: 0.92</br>gender: Male</br>relevent_experience: No relevent experience</br>enrolled_university: no_enrollment</br>education_level: Graduate</br>major_discipline: Business Degree</br>experience: 1</br>company_size: 5000-9999</br>company_type: Pvt Ltd</br>last_new_job: 1</br>_original_yhat_: 0.5457825454538547</br>"
          ],
          [
           "</br>id: 4268</br>prediction: 0.541</br>training_hours: 21.799999999999997</br></br>city_development_index: 0.92</br>gender: Male</br>relevent_experience: No relevent experience</br>enrolled_university: no_enrollment</br>education_level: Graduate</br>major_discipline: Business Degree</br>experience: 1</br>company_size: 5000-9999</br>company_type: Pvt Ltd</br>last_new_job: 1</br>_original_yhat_: 0.5457825454538547</br>"
          ],
          [
           "</br>id: 4268</br>prediction: 0.542</br>training_hours: 25.099999999999998</br></br>city_development_index: 0.92</br>gender: Male</br>relevent_experience: No relevent experience</br>enrolled_university: no_enrollment</br>education_level: Graduate</br>major_discipline: Business Degree</br>experience: 1</br>company_size: 5000-9999</br>company_type: Pvt Ltd</br>last_new_job: 1</br>_original_yhat_: 0.5457825454538547</br>"
          ],
          [
           "</br>id: 4268</br>prediction: 0.543</br>training_hours: 28.4</br></br>city_development_index: 0.92</br>gender: Male</br>relevent_experience: No relevent experience</br>enrolled_university: no_enrollment</br>education_level: Graduate</br>major_discipline: Business Degree</br>experience: 1</br>company_size: 5000-9999</br>company_type: Pvt Ltd</br>last_new_job: 1</br>_original_yhat_: 0.5457825454538547</br>"
          ],
          [
           "</br>id: 4268</br>prediction: 0.543</br>training_hours: 31.7</br></br>city_development_index: 0.92</br>gender: Male</br>relevent_experience: No relevent experience</br>enrolled_university: no_enrollment</br>education_level: Graduate</br>major_discipline: Business Degree</br>experience: 1</br>company_size: 5000-9999</br>company_type: Pvt Ltd</br>last_new_job: 1</br>_original_yhat_: 0.5457825454538547</br>"
          ],
          [
           "</br>id: 4268</br>prediction: 0.544</br>training_hours: 35.0</br></br>city_development_index: 0.92</br>gender: Male</br>relevent_experience: No relevent experience</br>enrolled_university: no_enrollment</br>education_level: Graduate</br>major_discipline: Business Degree</br>experience: 1</br>company_size: 5000-9999</br>company_type: Pvt Ltd</br>last_new_job: 1</br>_original_yhat_: 0.5457825454538547</br>"
          ],
          [
           "</br>id: 4268</br>prediction: 0.544</br>training_hours: 38.3</br></br>city_development_index: 0.92</br>gender: Male</br>relevent_experience: No relevent experience</br>enrolled_university: no_enrollment</br>education_level: Graduate</br>major_discipline: Business Degree</br>experience: 1</br>company_size: 5000-9999</br>company_type: Pvt Ltd</br>last_new_job: 1</br>_original_yhat_: 0.5457825454538547</br>"
          ],
          [
           "</br>id: 4268</br>prediction: 0.545</br>training_hours: 41.599999999999994</br></br>city_development_index: 0.92</br>gender: Male</br>relevent_experience: No relevent experience</br>enrolled_university: no_enrollment</br>education_level: Graduate</br>major_discipline: Business Degree</br>experience: 1</br>company_size: 5000-9999</br>company_type: Pvt Ltd</br>last_new_job: 1</br>_original_yhat_: 0.5457825454538547</br>"
          ],
          [
           "</br>id: 4268</br>prediction: 0.545</br>training_hours: 44.9</br></br>city_development_index: 0.92</br>gender: Male</br>relevent_experience: No relevent experience</br>enrolled_university: no_enrollment</br>education_level: Graduate</br>major_discipline: Business Degree</br>experience: 1</br>company_size: 5000-9999</br>company_type: Pvt Ltd</br>last_new_job: 1</br>_original_yhat_: 0.5457825454538547</br>"
          ],
          [
           "</br>id: 4268</br>prediction: 0.546</br>training_hours: 48.0</br></br>city_development_index: 0.92</br>gender: Male</br>relevent_experience: No relevent experience</br>enrolled_university: no_enrollment</br>education_level: Graduate</br>major_discipline: Business Degree</br>experience: 1</br>company_size: 5000-9999</br>company_type: Pvt Ltd</br>last_new_job: 1</br>_original_yhat_: 0.5457825454538547</br>"
          ],
          [
           "</br>id: 4268</br>prediction: 0.546</br>training_hours: 48.199999999999996</br></br>city_development_index: 0.92</br>gender: Male</br>relevent_experience: No relevent experience</br>enrolled_university: no_enrollment</br>education_level: Graduate</br>major_discipline: Business Degree</br>experience: 1</br>company_size: 5000-9999</br>company_type: Pvt Ltd</br>last_new_job: 1</br>_original_yhat_: 0.5457825454538547</br>"
          ],
          [
           "</br>id: 4268</br>prediction: 0.546</br>training_hours: 51.5</br></br>city_development_index: 0.92</br>gender: Male</br>relevent_experience: No relevent experience</br>enrolled_university: no_enrollment</br>education_level: Graduate</br>major_discipline: Business Degree</br>experience: 1</br>company_size: 5000-9999</br>company_type: Pvt Ltd</br>last_new_job: 1</br>_original_yhat_: 0.5457825454538547</br>"
          ],
          [
           "</br>id: 4268</br>prediction: 0.547</br>training_hours: 54.8</br></br>city_development_index: 0.92</br>gender: Male</br>relevent_experience: No relevent experience</br>enrolled_university: no_enrollment</br>education_level: Graduate</br>major_discipline: Business Degree</br>experience: 1</br>company_size: 5000-9999</br>company_type: Pvt Ltd</br>last_new_job: 1</br>_original_yhat_: 0.5457825454538547</br>"
          ],
          [
           "</br>id: 4268</br>prediction: 0.547</br>training_hours: 58.099999999999994</br></br>city_development_index: 0.92</br>gender: Male</br>relevent_experience: No relevent experience</br>enrolled_university: no_enrollment</br>education_level: Graduate</br>major_discipline: Business Degree</br>experience: 1</br>company_size: 5000-9999</br>company_type: Pvt Ltd</br>last_new_job: 1</br>_original_yhat_: 0.5457825454538547</br>"
          ],
          [
           "</br>id: 4268</br>prediction: 0.548</br>training_hours: 61.4</br></br>city_development_index: 0.92</br>gender: Male</br>relevent_experience: No relevent experience</br>enrolled_university: no_enrollment</br>education_level: Graduate</br>major_discipline: Business Degree</br>experience: 1</br>company_size: 5000-9999</br>company_type: Pvt Ltd</br>last_new_job: 1</br>_original_yhat_: 0.5457825454538547</br>"
          ],
          [
           "</br>id: 4268</br>prediction: 0.549</br>training_hours: 64.69999999999999</br></br>city_development_index: 0.92</br>gender: Male</br>relevent_experience: No relevent experience</br>enrolled_university: no_enrollment</br>education_level: Graduate</br>major_discipline: Business Degree</br>experience: 1</br>company_size: 5000-9999</br>company_type: Pvt Ltd</br>last_new_job: 1</br>_original_yhat_: 0.5457825454538547</br>"
          ],
          [
           "</br>id: 4268</br>prediction: 0.549</br>training_hours: 68.0</br></br>city_development_index: 0.92</br>gender: Male</br>relevent_experience: No relevent experience</br>enrolled_university: no_enrollment</br>education_level: Graduate</br>major_discipline: Business Degree</br>experience: 1</br>company_size: 5000-9999</br>company_type: Pvt Ltd</br>last_new_job: 1</br>_original_yhat_: 0.5457825454538547</br>"
          ],
          [
           "</br>id: 4268</br>prediction: 0.55</br>training_hours: 71.3</br></br>city_development_index: 0.92</br>gender: Male</br>relevent_experience: No relevent experience</br>enrolled_university: no_enrollment</br>education_level: Graduate</br>major_discipline: Business Degree</br>experience: 1</br>company_size: 5000-9999</br>company_type: Pvt Ltd</br>last_new_job: 1</br>_original_yhat_: 0.5457825454538547</br>"
          ],
          [
           "</br>id: 4268</br>prediction: 0.55</br>training_hours: 74.6</br></br>city_development_index: 0.92</br>gender: Male</br>relevent_experience: No relevent experience</br>enrolled_university: no_enrollment</br>education_level: Graduate</br>major_discipline: Business Degree</br>experience: 1</br>company_size: 5000-9999</br>company_type: Pvt Ltd</br>last_new_job: 1</br>_original_yhat_: 0.5457825454538547</br>"
          ],
          [
           "</br>id: 4268</br>prediction: 0.551</br>training_hours: 77.89999999999999</br></br>city_development_index: 0.92</br>gender: Male</br>relevent_experience: No relevent experience</br>enrolled_university: no_enrollment</br>education_level: Graduate</br>major_discipline: Business Degree</br>experience: 1</br>company_size: 5000-9999</br>company_type: Pvt Ltd</br>last_new_job: 1</br>_original_yhat_: 0.5457825454538547</br>"
          ],
          [
           "</br>id: 4268</br>prediction: 0.551</br>training_hours: 81.19999999999999</br></br>city_development_index: 0.92</br>gender: Male</br>relevent_experience: No relevent experience</br>enrolled_university: no_enrollment</br>education_level: Graduate</br>major_discipline: Business Degree</br>experience: 1</br>company_size: 5000-9999</br>company_type: Pvt Ltd</br>last_new_job: 1</br>_original_yhat_: 0.5457825454538547</br>"
          ],
          [
           "</br>id: 4268</br>prediction: 0.552</br>training_hours: 84.5</br></br>city_development_index: 0.92</br>gender: Male</br>relevent_experience: No relevent experience</br>enrolled_university: no_enrollment</br>education_level: Graduate</br>major_discipline: Business Degree</br>experience: 1</br>company_size: 5000-9999</br>company_type: Pvt Ltd</br>last_new_job: 1</br>_original_yhat_: 0.5457825454538547</br>"
          ],
          [
           "</br>id: 4268</br>prediction: 0.552</br>training_hours: 87.8</br></br>city_development_index: 0.92</br>gender: Male</br>relevent_experience: No relevent experience</br>enrolled_university: no_enrollment</br>education_level: Graduate</br>major_discipline: Business Degree</br>experience: 1</br>company_size: 5000-9999</br>company_type: Pvt Ltd</br>last_new_job: 1</br>_original_yhat_: 0.5457825454538547</br>"
          ],
          [
           "</br>id: 4268</br>prediction: 0.553</br>training_hours: 91.1</br></br>city_development_index: 0.92</br>gender: Male</br>relevent_experience: No relevent experience</br>enrolled_university: no_enrollment</br>education_level: Graduate</br>major_discipline: Business Degree</br>experience: 1</br>company_size: 5000-9999</br>company_type: Pvt Ltd</br>last_new_job: 1</br>_original_yhat_: 0.5457825454538547</br>"
          ],
          [
           "</br>id: 4268</br>prediction: 0.553</br>training_hours: 94.39999999999999</br></br>city_development_index: 0.92</br>gender: Male</br>relevent_experience: No relevent experience</br>enrolled_university: no_enrollment</br>education_level: Graduate</br>major_discipline: Business Degree</br>experience: 1</br>company_size: 5000-9999</br>company_type: Pvt Ltd</br>last_new_job: 1</br>_original_yhat_: 0.5457825454538547</br>"
          ],
          [
           "</br>id: 4268</br>prediction: 0.554</br>training_hours: 97.69999999999999</br></br>city_development_index: 0.92</br>gender: Male</br>relevent_experience: No relevent experience</br>enrolled_university: no_enrollment</br>education_level: Graduate</br>major_discipline: Business Degree</br>experience: 1</br>company_size: 5000-9999</br>company_type: Pvt Ltd</br>last_new_job: 1</br>_original_yhat_: 0.5457825454538547</br>"
          ],
          [
           "</br>id: 4268</br>prediction: 0.555</br>training_hours: 101.0</br></br>city_development_index: 0.92</br>gender: Male</br>relevent_experience: No relevent experience</br>enrolled_university: no_enrollment</br>education_level: Graduate</br>major_discipline: Business Degree</br>experience: 1</br>company_size: 5000-9999</br>company_type: Pvt Ltd</br>last_new_job: 1</br>_original_yhat_: 0.5457825454538547</br>"
          ],
          [
           "</br>id: 4268</br>prediction: 0.555</br>training_hours: 104.3</br></br>city_development_index: 0.92</br>gender: Male</br>relevent_experience: No relevent experience</br>enrolled_university: no_enrollment</br>education_level: Graduate</br>major_discipline: Business Degree</br>experience: 1</br>company_size: 5000-9999</br>company_type: Pvt Ltd</br>last_new_job: 1</br>_original_yhat_: 0.5457825454538547</br>"
          ],
          [
           "</br>id: 4268</br>prediction: 0.556</br>training_hours: 107.6</br></br>city_development_index: 0.92</br>gender: Male</br>relevent_experience: No relevent experience</br>enrolled_university: no_enrollment</br>education_level: Graduate</br>major_discipline: Business Degree</br>experience: 1</br>company_size: 5000-9999</br>company_type: Pvt Ltd</br>last_new_job: 1</br>_original_yhat_: 0.5457825454538547</br>"
          ],
          [
           "</br>id: 4268</br>prediction: 0.556</br>training_hours: 110.89999999999999</br></br>city_development_index: 0.92</br>gender: Male</br>relevent_experience: No relevent experience</br>enrolled_university: no_enrollment</br>education_level: Graduate</br>major_discipline: Business Degree</br>experience: 1</br>company_size: 5000-9999</br>company_type: Pvt Ltd</br>last_new_job: 1</br>_original_yhat_: 0.5457825454538547</br>"
          ],
          [
           "</br>id: 4268</br>prediction: 0.557</br>training_hours: 114.19999999999999</br></br>city_development_index: 0.92</br>gender: Male</br>relevent_experience: No relevent experience</br>enrolled_university: no_enrollment</br>education_level: Graduate</br>major_discipline: Business Degree</br>experience: 1</br>company_size: 5000-9999</br>company_type: Pvt Ltd</br>last_new_job: 1</br>_original_yhat_: 0.5457825454538547</br>"
          ],
          [
           "</br>id: 4268</br>prediction: 0.557</br>training_hours: 117.5</br></br>city_development_index: 0.92</br>gender: Male</br>relevent_experience: No relevent experience</br>enrolled_university: no_enrollment</br>education_level: Graduate</br>major_discipline: Business Degree</br>experience: 1</br>company_size: 5000-9999</br>company_type: Pvt Ltd</br>last_new_job: 1</br>_original_yhat_: 0.5457825454538547</br>"
          ],
          [
           "</br>id: 4268</br>prediction: 0.558</br>training_hours: 120.8</br></br>city_development_index: 0.92</br>gender: Male</br>relevent_experience: No relevent experience</br>enrolled_university: no_enrollment</br>education_level: Graduate</br>major_discipline: Business Degree</br>experience: 1</br>company_size: 5000-9999</br>company_type: Pvt Ltd</br>last_new_job: 1</br>_original_yhat_: 0.5457825454538547</br>"
          ],
          [
           "</br>id: 4268</br>prediction: 0.558</br>training_hours: 124.1</br></br>city_development_index: 0.92</br>gender: Male</br>relevent_experience: No relevent experience</br>enrolled_university: no_enrollment</br>education_level: Graduate</br>major_discipline: Business Degree</br>experience: 1</br>company_size: 5000-9999</br>company_type: Pvt Ltd</br>last_new_job: 1</br>_original_yhat_: 0.5457825454538547</br>"
          ],
          [
           "</br>id: 4268</br>prediction: 0.559</br>training_hours: 127.39999999999999</br></br>city_development_index: 0.92</br>gender: Male</br>relevent_experience: No relevent experience</br>enrolled_university: no_enrollment</br>education_level: Graduate</br>major_discipline: Business Degree</br>experience: 1</br>company_size: 5000-9999</br>company_type: Pvt Ltd</br>last_new_job: 1</br>_original_yhat_: 0.5457825454538547</br>"
          ],
          [
           "</br>id: 4268</br>prediction: 0.559</br>training_hours: 130.7</br></br>city_development_index: 0.92</br>gender: Male</br>relevent_experience: No relevent experience</br>enrolled_university: no_enrollment</br>education_level: Graduate</br>major_discipline: Business Degree</br>experience: 1</br>company_size: 5000-9999</br>company_type: Pvt Ltd</br>last_new_job: 1</br>_original_yhat_: 0.5457825454538547</br>"
          ],
          [
           "</br>id: 4268</br>prediction: 0.56</br>training_hours: 134.0</br></br>city_development_index: 0.92</br>gender: Male</br>relevent_experience: No relevent experience</br>enrolled_university: no_enrollment</br>education_level: Graduate</br>major_discipline: Business Degree</br>experience: 1</br>company_size: 5000-9999</br>company_type: Pvt Ltd</br>last_new_job: 1</br>_original_yhat_: 0.5457825454538547</br>"
          ],
          [
           "</br>id: 4268</br>prediction: 0.561</br>training_hours: 137.29999999999998</br></br>city_development_index: 0.92</br>gender: Male</br>relevent_experience: No relevent experience</br>enrolled_university: no_enrollment</br>education_level: Graduate</br>major_discipline: Business Degree</br>experience: 1</br>company_size: 5000-9999</br>company_type: Pvt Ltd</br>last_new_job: 1</br>_original_yhat_: 0.5457825454538547</br>"
          ],
          [
           "</br>id: 4268</br>prediction: 0.561</br>training_hours: 140.6</br></br>city_development_index: 0.92</br>gender: Male</br>relevent_experience: No relevent experience</br>enrolled_university: no_enrollment</br>education_level: Graduate</br>major_discipline: Business Degree</br>experience: 1</br>company_size: 5000-9999</br>company_type: Pvt Ltd</br>last_new_job: 1</br>_original_yhat_: 0.5457825454538547</br>"
          ],
          [
           "</br>id: 4268</br>prediction: 0.562</br>training_hours: 143.9</br></br>city_development_index: 0.92</br>gender: Male</br>relevent_experience: No relevent experience</br>enrolled_university: no_enrollment</br>education_level: Graduate</br>major_discipline: Business Degree</br>experience: 1</br>company_size: 5000-9999</br>company_type: Pvt Ltd</br>last_new_job: 1</br>_original_yhat_: 0.5457825454538547</br>"
          ],
          [
           "</br>id: 4268</br>prediction: 0.562</br>training_hours: 147.2</br></br>city_development_index: 0.92</br>gender: Male</br>relevent_experience: No relevent experience</br>enrolled_university: no_enrollment</br>education_level: Graduate</br>major_discipline: Business Degree</br>experience: 1</br>company_size: 5000-9999</br>company_type: Pvt Ltd</br>last_new_job: 1</br>_original_yhat_: 0.5457825454538547</br>"
          ],
          [
           "</br>id: 4268</br>prediction: 0.563</br>training_hours: 150.5</br></br>city_development_index: 0.92</br>gender: Male</br>relevent_experience: No relevent experience</br>enrolled_university: no_enrollment</br>education_level: Graduate</br>major_discipline: Business Degree</br>experience: 1</br>company_size: 5000-9999</br>company_type: Pvt Ltd</br>last_new_job: 1</br>_original_yhat_: 0.5457825454538547</br>"
          ],
          [
           "</br>id: 4268</br>prediction: 0.563</br>training_hours: 153.79999999999998</br></br>city_development_index: 0.92</br>gender: Male</br>relevent_experience: No relevent experience</br>enrolled_university: no_enrollment</br>education_level: Graduate</br>major_discipline: Business Degree</br>experience: 1</br>company_size: 5000-9999</br>company_type: Pvt Ltd</br>last_new_job: 1</br>_original_yhat_: 0.5457825454538547</br>"
          ],
          [
           "</br>id: 4268</br>prediction: 0.564</br>training_hours: 157.1</br></br>city_development_index: 0.92</br>gender: Male</br>relevent_experience: No relevent experience</br>enrolled_university: no_enrollment</br>education_level: Graduate</br>major_discipline: Business Degree</br>experience: 1</br>company_size: 5000-9999</br>company_type: Pvt Ltd</br>last_new_job: 1</br>_original_yhat_: 0.5457825454538547</br>"
          ],
          [
           "</br>id: 4268</br>prediction: 0.564</br>training_hours: 160.39999999999998</br></br>city_development_index: 0.92</br>gender: Male</br>relevent_experience: No relevent experience</br>enrolled_university: no_enrollment</br>education_level: Graduate</br>major_discipline: Business Degree</br>experience: 1</br>company_size: 5000-9999</br>company_type: Pvt Ltd</br>last_new_job: 1</br>_original_yhat_: 0.5457825454538547</br>"
          ],
          [
           "</br>id: 4268</br>prediction: 0.565</br>training_hours: 163.7</br></br>city_development_index: 0.92</br>gender: Male</br>relevent_experience: No relevent experience</br>enrolled_university: no_enrollment</br>education_level: Graduate</br>major_discipline: Business Degree</br>experience: 1</br>company_size: 5000-9999</br>company_type: Pvt Ltd</br>last_new_job: 1</br>_original_yhat_: 0.5457825454538547</br>"
          ],
          [
           "</br>id: 4268</br>prediction: 0.565</br>training_hours: 167.0</br></br>city_development_index: 0.92</br>gender: Male</br>relevent_experience: No relevent experience</br>enrolled_university: no_enrollment</br>education_level: Graduate</br>major_discipline: Business Degree</br>experience: 1</br>company_size: 5000-9999</br>company_type: Pvt Ltd</br>last_new_job: 1</br>_original_yhat_: 0.5457825454538547</br>"
          ],
          [
           "</br>id: 4268</br>prediction: 0.566</br>training_hours: 170.29999999999998</br></br>city_development_index: 0.92</br>gender: Male</br>relevent_experience: No relevent experience</br>enrolled_university: no_enrollment</br>education_level: Graduate</br>major_discipline: Business Degree</br>experience: 1</br>company_size: 5000-9999</br>company_type: Pvt Ltd</br>last_new_job: 1</br>_original_yhat_: 0.5457825454538547</br>"
          ],
          [
           "</br>id: 4268</br>prediction: 0.567</br>training_hours: 173.6</br></br>city_development_index: 0.92</br>gender: Male</br>relevent_experience: No relevent experience</br>enrolled_university: no_enrollment</br>education_level: Graduate</br>major_discipline: Business Degree</br>experience: 1</br>company_size: 5000-9999</br>company_type: Pvt Ltd</br>last_new_job: 1</br>_original_yhat_: 0.5457825454538547</br>"
          ],
          [
           "</br>id: 4268</br>prediction: 0.567</br>training_hours: 176.89999999999998</br></br>city_development_index: 0.92</br>gender: Male</br>relevent_experience: No relevent experience</br>enrolled_university: no_enrollment</br>education_level: Graduate</br>major_discipline: Business Degree</br>experience: 1</br>company_size: 5000-9999</br>company_type: Pvt Ltd</br>last_new_job: 1</br>_original_yhat_: 0.5457825454538547</br>"
          ],
          [
           "</br>id: 4268</br>prediction: 0.568</br>training_hours: 180.2</br></br>city_development_index: 0.92</br>gender: Male</br>relevent_experience: No relevent experience</br>enrolled_university: no_enrollment</br>education_level: Graduate</br>major_discipline: Business Degree</br>experience: 1</br>company_size: 5000-9999</br>company_type: Pvt Ltd</br>last_new_job: 1</br>_original_yhat_: 0.5457825454538547</br>"
          ],
          [
           "</br>id: 4268</br>prediction: 0.568</br>training_hours: 183.5</br></br>city_development_index: 0.92</br>gender: Male</br>relevent_experience: No relevent experience</br>enrolled_university: no_enrollment</br>education_level: Graduate</br>major_discipline: Business Degree</br>experience: 1</br>company_size: 5000-9999</br>company_type: Pvt Ltd</br>last_new_job: 1</br>_original_yhat_: 0.5457825454538547</br>"
          ],
          [
           "</br>id: 4268</br>prediction: 0.569</br>training_hours: 186.79999999999998</br></br>city_development_index: 0.92</br>gender: Male</br>relevent_experience: No relevent experience</br>enrolled_university: no_enrollment</br>education_level: Graduate</br>major_discipline: Business Degree</br>experience: 1</br>company_size: 5000-9999</br>company_type: Pvt Ltd</br>last_new_job: 1</br>_original_yhat_: 0.5457825454538547</br>"
          ],
          [
           "</br>id: 4268</br>prediction: 0.569</br>training_hours: 190.1</br></br>city_development_index: 0.92</br>gender: Male</br>relevent_experience: No relevent experience</br>enrolled_university: no_enrollment</br>education_level: Graduate</br>major_discipline: Business Degree</br>experience: 1</br>company_size: 5000-9999</br>company_type: Pvt Ltd</br>last_new_job: 1</br>_original_yhat_: 0.5457825454538547</br>"
          ],
          [
           "</br>id: 4268</br>prediction: 0.57</br>training_hours: 193.39999999999998</br></br>city_development_index: 0.92</br>gender: Male</br>relevent_experience: No relevent experience</br>enrolled_university: no_enrollment</br>education_level: Graduate</br>major_discipline: Business Degree</br>experience: 1</br>company_size: 5000-9999</br>company_type: Pvt Ltd</br>last_new_job: 1</br>_original_yhat_: 0.5457825454538547</br>"
          ],
          [
           "</br>id: 4268</br>prediction: 0.57</br>training_hours: 196.7</br></br>city_development_index: 0.92</br>gender: Male</br>relevent_experience: No relevent experience</br>enrolled_university: no_enrollment</br>education_level: Graduate</br>major_discipline: Business Degree</br>experience: 1</br>company_size: 5000-9999</br>company_type: Pvt Ltd</br>last_new_job: 1</br>_original_yhat_: 0.5457825454538547</br>"
          ],
          [
           "</br>id: 4268</br>prediction: 0.571</br>training_hours: 200.0</br></br>city_development_index: 0.92</br>gender: Male</br>relevent_experience: No relevent experience</br>enrolled_university: no_enrollment</br>education_level: Graduate</br>major_discipline: Business Degree</br>experience: 1</br>company_size: 5000-9999</br>company_type: Pvt Ltd</br>last_new_job: 1</br>_original_yhat_: 0.5457825454538547</br>"
          ],
          [
           "</br>id: 4268</br>prediction: 0.571</br>training_hours: 203.29999999999998</br></br>city_development_index: 0.92</br>gender: Male</br>relevent_experience: No relevent experience</br>enrolled_university: no_enrollment</br>education_level: Graduate</br>major_discipline: Business Degree</br>experience: 1</br>company_size: 5000-9999</br>company_type: Pvt Ltd</br>last_new_job: 1</br>_original_yhat_: 0.5457825454538547</br>"
          ],
          [
           "</br>id: 4268</br>prediction: 0.572</br>training_hours: 206.6</br></br>city_development_index: 0.92</br>gender: Male</br>relevent_experience: No relevent experience</br>enrolled_university: no_enrollment</br>education_level: Graduate</br>major_discipline: Business Degree</br>experience: 1</br>company_size: 5000-9999</br>company_type: Pvt Ltd</br>last_new_job: 1</br>_original_yhat_: 0.5457825454538547</br>"
          ],
          [
           "</br>id: 4268</br>prediction: 0.573</br>training_hours: 209.89999999999998</br></br>city_development_index: 0.92</br>gender: Male</br>relevent_experience: No relevent experience</br>enrolled_university: no_enrollment</br>education_level: Graduate</br>major_discipline: Business Degree</br>experience: 1</br>company_size: 5000-9999</br>company_type: Pvt Ltd</br>last_new_job: 1</br>_original_yhat_: 0.5457825454538547</br>"
          ],
          [
           "</br>id: 4268</br>prediction: 0.573</br>training_hours: 213.2</br></br>city_development_index: 0.92</br>gender: Male</br>relevent_experience: No relevent experience</br>enrolled_university: no_enrollment</br>education_level: Graduate</br>major_discipline: Business Degree</br>experience: 1</br>company_size: 5000-9999</br>company_type: Pvt Ltd</br>last_new_job: 1</br>_original_yhat_: 0.5457825454538547</br>"
          ],
          [
           "</br>id: 4268</br>prediction: 0.574</br>training_hours: 216.5</br></br>city_development_index: 0.92</br>gender: Male</br>relevent_experience: No relevent experience</br>enrolled_university: no_enrollment</br>education_level: Graduate</br>major_discipline: Business Degree</br>experience: 1</br>company_size: 5000-9999</br>company_type: Pvt Ltd</br>last_new_job: 1</br>_original_yhat_: 0.5457825454538547</br>"
          ],
          [
           "</br>id: 4268</br>prediction: 0.574</br>training_hours: 219.79999999999998</br></br>city_development_index: 0.92</br>gender: Male</br>relevent_experience: No relevent experience</br>enrolled_university: no_enrollment</br>education_level: Graduate</br>major_discipline: Business Degree</br>experience: 1</br>company_size: 5000-9999</br>company_type: Pvt Ltd</br>last_new_job: 1</br>_original_yhat_: 0.5457825454538547</br>"
          ],
          [
           "</br>id: 4268</br>prediction: 0.575</br>training_hours: 223.1</br></br>city_development_index: 0.92</br>gender: Male</br>relevent_experience: No relevent experience</br>enrolled_university: no_enrollment</br>education_level: Graduate</br>major_discipline: Business Degree</br>experience: 1</br>company_size: 5000-9999</br>company_type: Pvt Ltd</br>last_new_job: 1</br>_original_yhat_: 0.5457825454538547</br>"
          ],
          [
           "</br>id: 4268</br>prediction: 0.575</br>training_hours: 226.39999999999998</br></br>city_development_index: 0.92</br>gender: Male</br>relevent_experience: No relevent experience</br>enrolled_university: no_enrollment</br>education_level: Graduate</br>major_discipline: Business Degree</br>experience: 1</br>company_size: 5000-9999</br>company_type: Pvt Ltd</br>last_new_job: 1</br>_original_yhat_: 0.5457825454538547</br>"
          ],
          [
           "</br>id: 4268</br>prediction: 0.576</br>training_hours: 229.7</br></br>city_development_index: 0.92</br>gender: Male</br>relevent_experience: No relevent experience</br>enrolled_university: no_enrollment</br>education_level: Graduate</br>major_discipline: Business Degree</br>experience: 1</br>company_size: 5000-9999</br>company_type: Pvt Ltd</br>last_new_job: 1</br>_original_yhat_: 0.5457825454538547</br>"
          ],
          [
           "</br>id: 4268</br>prediction: 0.576</br>training_hours: 233.0</br></br>city_development_index: 0.92</br>gender: Male</br>relevent_experience: No relevent experience</br>enrolled_university: no_enrollment</br>education_level: Graduate</br>major_discipline: Business Degree</br>experience: 1</br>company_size: 5000-9999</br>company_type: Pvt Ltd</br>last_new_job: 1</br>_original_yhat_: 0.5457825454538547</br>"
          ],
          [
           "</br>id: 4268</br>prediction: 0.577</br>training_hours: 236.29999999999998</br></br>city_development_index: 0.92</br>gender: Male</br>relevent_experience: No relevent experience</br>enrolled_university: no_enrollment</br>education_level: Graduate</br>major_discipline: Business Degree</br>experience: 1</br>company_size: 5000-9999</br>company_type: Pvt Ltd</br>last_new_job: 1</br>_original_yhat_: 0.5457825454538547</br>"
          ],
          [
           "</br>id: 4268</br>prediction: 0.577</br>training_hours: 239.6</br></br>city_development_index: 0.92</br>gender: Male</br>relevent_experience: No relevent experience</br>enrolled_university: no_enrollment</br>education_level: Graduate</br>major_discipline: Business Degree</br>experience: 1</br>company_size: 5000-9999</br>company_type: Pvt Ltd</br>last_new_job: 1</br>_original_yhat_: 0.5457825454538547</br>"
          ],
          [
           "</br>id: 4268</br>prediction: 0.578</br>training_hours: 242.89999999999998</br></br>city_development_index: 0.92</br>gender: Male</br>relevent_experience: No relevent experience</br>enrolled_university: no_enrollment</br>education_level: Graduate</br>major_discipline: Business Degree</br>experience: 1</br>company_size: 5000-9999</br>company_type: Pvt Ltd</br>last_new_job: 1</br>_original_yhat_: 0.5457825454538547</br>"
          ],
          [
           "</br>id: 4268</br>prediction: 0.578</br>training_hours: 246.2</br></br>city_development_index: 0.92</br>gender: Male</br>relevent_experience: No relevent experience</br>enrolled_university: no_enrollment</br>education_level: Graduate</br>major_discipline: Business Degree</br>experience: 1</br>company_size: 5000-9999</br>company_type: Pvt Ltd</br>last_new_job: 1</br>_original_yhat_: 0.5457825454538547</br>"
          ],
          [
           "</br>id: 4268</br>prediction: 0.579</br>training_hours: 249.5</br></br>city_development_index: 0.92</br>gender: Male</br>relevent_experience: No relevent experience</br>enrolled_university: no_enrollment</br>education_level: Graduate</br>major_discipline: Business Degree</br>experience: 1</br>company_size: 5000-9999</br>company_type: Pvt Ltd</br>last_new_job: 1</br>_original_yhat_: 0.5457825454538547</br>"
          ],
          [
           "</br>id: 4268</br>prediction: 0.58</br>training_hours: 252.79999999999998</br></br>city_development_index: 0.92</br>gender: Male</br>relevent_experience: No relevent experience</br>enrolled_university: no_enrollment</br>education_level: Graduate</br>major_discipline: Business Degree</br>experience: 1</br>company_size: 5000-9999</br>company_type: Pvt Ltd</br>last_new_job: 1</br>_original_yhat_: 0.5457825454538547</br>"
          ],
          [
           "</br>id: 4268</br>prediction: 0.58</br>training_hours: 256.1</br></br>city_development_index: 0.92</br>gender: Male</br>relevent_experience: No relevent experience</br>enrolled_university: no_enrollment</br>education_level: Graduate</br>major_discipline: Business Degree</br>experience: 1</br>company_size: 5000-9999</br>company_type: Pvt Ltd</br>last_new_job: 1</br>_original_yhat_: 0.5457825454538547</br>"
          ],
          [
           "</br>id: 4268</br>prediction: 0.581</br>training_hours: 259.4</br></br>city_development_index: 0.92</br>gender: Male</br>relevent_experience: No relevent experience</br>enrolled_university: no_enrollment</br>education_level: Graduate</br>major_discipline: Business Degree</br>experience: 1</br>company_size: 5000-9999</br>company_type: Pvt Ltd</br>last_new_job: 1</br>_original_yhat_: 0.5457825454538547</br>"
          ],
          [
           "</br>id: 4268</br>prediction: 0.581</br>training_hours: 262.7</br></br>city_development_index: 0.92</br>gender: Male</br>relevent_experience: No relevent experience</br>enrolled_university: no_enrollment</br>education_level: Graduate</br>major_discipline: Business Degree</br>experience: 1</br>company_size: 5000-9999</br>company_type: Pvt Ltd</br>last_new_job: 1</br>_original_yhat_: 0.5457825454538547</br>"
          ],
          [
           "</br>id: 4268</br>prediction: 0.582</br>training_hours: 266.0</br></br>city_development_index: 0.92</br>gender: Male</br>relevent_experience: No relevent experience</br>enrolled_university: no_enrollment</br>education_level: Graduate</br>major_discipline: Business Degree</br>experience: 1</br>company_size: 5000-9999</br>company_type: Pvt Ltd</br>last_new_job: 1</br>_original_yhat_: 0.5457825454538547</br>"
          ],
          [
           "</br>id: 4268</br>prediction: 0.582</br>training_hours: 269.3</br></br>city_development_index: 0.92</br>gender: Male</br>relevent_experience: No relevent experience</br>enrolled_university: no_enrollment</br>education_level: Graduate</br>major_discipline: Business Degree</br>experience: 1</br>company_size: 5000-9999</br>company_type: Pvt Ltd</br>last_new_job: 1</br>_original_yhat_: 0.5457825454538547</br>"
          ],
          [
           "</br>id: 4268</br>prediction: 0.583</br>training_hours: 272.59999999999997</br></br>city_development_index: 0.92</br>gender: Male</br>relevent_experience: No relevent experience</br>enrolled_university: no_enrollment</br>education_level: Graduate</br>major_discipline: Business Degree</br>experience: 1</br>company_size: 5000-9999</br>company_type: Pvt Ltd</br>last_new_job: 1</br>_original_yhat_: 0.5457825454538547</br>"
          ],
          [
           "</br>id: 4268</br>prediction: 0.583</br>training_hours: 275.9</br></br>city_development_index: 0.92</br>gender: Male</br>relevent_experience: No relevent experience</br>enrolled_university: no_enrollment</br>education_level: Graduate</br>major_discipline: Business Degree</br>experience: 1</br>company_size: 5000-9999</br>company_type: Pvt Ltd</br>last_new_job: 1</br>_original_yhat_: 0.5457825454538547</br>"
          ],
          [
           "</br>id: 4268</br>prediction: 0.584</br>training_hours: 279.2</br></br>city_development_index: 0.92</br>gender: Male</br>relevent_experience: No relevent experience</br>enrolled_university: no_enrollment</br>education_level: Graduate</br>major_discipline: Business Degree</br>experience: 1</br>company_size: 5000-9999</br>company_type: Pvt Ltd</br>last_new_job: 1</br>_original_yhat_: 0.5457825454538547</br>"
          ],
          [
           "</br>id: 4268</br>prediction: 0.584</br>training_hours: 282.5</br></br>city_development_index: 0.92</br>gender: Male</br>relevent_experience: No relevent experience</br>enrolled_university: no_enrollment</br>education_level: Graduate</br>major_discipline: Business Degree</br>experience: 1</br>company_size: 5000-9999</br>company_type: Pvt Ltd</br>last_new_job: 1</br>_original_yhat_: 0.5457825454538547</br>"
          ],
          [
           "</br>id: 4268</br>prediction: 0.585</br>training_hours: 285.8</br></br>city_development_index: 0.92</br>gender: Male</br>relevent_experience: No relevent experience</br>enrolled_university: no_enrollment</br>education_level: Graduate</br>major_discipline: Business Degree</br>experience: 1</br>company_size: 5000-9999</br>company_type: Pvt Ltd</br>last_new_job: 1</br>_original_yhat_: 0.5457825454538547</br>"
          ],
          [
           "</br>id: 4268</br>prediction: 0.585</br>training_hours: 289.09999999999997</br></br>city_development_index: 0.92</br>gender: Male</br>relevent_experience: No relevent experience</br>enrolled_university: no_enrollment</br>education_level: Graduate</br>major_discipline: Business Degree</br>experience: 1</br>company_size: 5000-9999</br>company_type: Pvt Ltd</br>last_new_job: 1</br>_original_yhat_: 0.5457825454538547</br>"
          ],
          [
           "</br>id: 4268</br>prediction: 0.586</br>training_hours: 292.4</br></br>city_development_index: 0.92</br>gender: Male</br>relevent_experience: No relevent experience</br>enrolled_university: no_enrollment</br>education_level: Graduate</br>major_discipline: Business Degree</br>experience: 1</br>company_size: 5000-9999</br>company_type: Pvt Ltd</br>last_new_job: 1</br>_original_yhat_: 0.5457825454538547</br>"
          ],
          [
           "</br>id: 4268</br>prediction: 0.587</br>training_hours: 295.7</br></br>city_development_index: 0.92</br>gender: Male</br>relevent_experience: No relevent experience</br>enrolled_university: no_enrollment</br>education_level: Graduate</br>major_discipline: Business Degree</br>experience: 1</br>company_size: 5000-9999</br>company_type: Pvt Ltd</br>last_new_job: 1</br>_original_yhat_: 0.5457825454538547</br>"
          ],
          [
           "</br>id: 4268</br>prediction: 0.587</br>training_hours: 299.0</br></br>city_development_index: 0.92</br>gender: Male</br>relevent_experience: No relevent experience</br>enrolled_university: no_enrollment</br>education_level: Graduate</br>major_discipline: Business Degree</br>experience: 1</br>company_size: 5000-9999</br>company_type: Pvt Ltd</br>last_new_job: 1</br>_original_yhat_: 0.5457825454538547</br>"
          ],
          [
           "</br>id: 4268</br>prediction: 0.588</br>training_hours: 302.3</br></br>city_development_index: 0.92</br>gender: Male</br>relevent_experience: No relevent experience</br>enrolled_university: no_enrollment</br>education_level: Graduate</br>major_discipline: Business Degree</br>experience: 1</br>company_size: 5000-9999</br>company_type: Pvt Ltd</br>last_new_job: 1</br>_original_yhat_: 0.5457825454538547</br>"
          ],
          [
           "</br>id: 4268</br>prediction: 0.588</br>training_hours: 305.59999999999997</br></br>city_development_index: 0.92</br>gender: Male</br>relevent_experience: No relevent experience</br>enrolled_university: no_enrollment</br>education_level: Graduate</br>major_discipline: Business Degree</br>experience: 1</br>company_size: 5000-9999</br>company_type: Pvt Ltd</br>last_new_job: 1</br>_original_yhat_: 0.5457825454538547</br>"
          ],
          [
           "</br>id: 4268</br>prediction: 0.589</br>training_hours: 308.9</br></br>city_development_index: 0.92</br>gender: Male</br>relevent_experience: No relevent experience</br>enrolled_university: no_enrollment</br>education_level: Graduate</br>major_discipline: Business Degree</br>experience: 1</br>company_size: 5000-9999</br>company_type: Pvt Ltd</br>last_new_job: 1</br>_original_yhat_: 0.5457825454538547</br>"
          ],
          [
           "</br>id: 4268</br>prediction: 0.589</br>training_hours: 312.2</br></br>city_development_index: 0.92</br>gender: Male</br>relevent_experience: No relevent experience</br>enrolled_university: no_enrollment</br>education_level: Graduate</br>major_discipline: Business Degree</br>experience: 1</br>company_size: 5000-9999</br>company_type: Pvt Ltd</br>last_new_job: 1</br>_original_yhat_: 0.5457825454538547</br>"
          ],
          [
           "</br>id: 4268</br>prediction: 0.59</br>training_hours: 315.5</br></br>city_development_index: 0.92</br>gender: Male</br>relevent_experience: No relevent experience</br>enrolled_university: no_enrollment</br>education_level: Graduate</br>major_discipline: Business Degree</br>experience: 1</br>company_size: 5000-9999</br>company_type: Pvt Ltd</br>last_new_job: 1</br>_original_yhat_: 0.5457825454538547</br>"
          ],
          [
           "</br>id: 4268</br>prediction: 0.59</br>training_hours: 318.79999999999995</br></br>city_development_index: 0.92</br>gender: Male</br>relevent_experience: No relevent experience</br>enrolled_university: no_enrollment</br>education_level: Graduate</br>major_discipline: Business Degree</br>experience: 1</br>company_size: 5000-9999</br>company_type: Pvt Ltd</br>last_new_job: 1</br>_original_yhat_: 0.5457825454538547</br>"
          ],
          [
           "</br>id: 4268</br>prediction: 0.591</br>training_hours: 322.09999999999997</br></br>city_development_index: 0.92</br>gender: Male</br>relevent_experience: No relevent experience</br>enrolled_university: no_enrollment</br>education_level: Graduate</br>major_discipline: Business Degree</br>experience: 1</br>company_size: 5000-9999</br>company_type: Pvt Ltd</br>last_new_job: 1</br>_original_yhat_: 0.5457825454538547</br>"
          ],
          [
           "</br>id: 4268</br>prediction: 0.591</br>training_hours: 325.4</br></br>city_development_index: 0.92</br>gender: Male</br>relevent_experience: No relevent experience</br>enrolled_university: no_enrollment</br>education_level: Graduate</br>major_discipline: Business Degree</br>experience: 1</br>company_size: 5000-9999</br>company_type: Pvt Ltd</br>last_new_job: 1</br>_original_yhat_: 0.5457825454538547</br>"
          ],
          [
           "</br>id: 4268</br>prediction: 0.592</br>training_hours: 328.7</br></br>city_development_index: 0.92</br>gender: Male</br>relevent_experience: No relevent experience</br>enrolled_university: no_enrollment</br>education_level: Graduate</br>major_discipline: Business Degree</br>experience: 1</br>company_size: 5000-9999</br>company_type: Pvt Ltd</br>last_new_job: 1</br>_original_yhat_: 0.5457825454538547</br>"
          ],
          [
           "</br>id: 4268</br>prediction: 0.592</br>training_hours: 332.0</br></br>city_development_index: 0.92</br>gender: Male</br>relevent_experience: No relevent experience</br>enrolled_university: no_enrollment</br>education_level: Graduate</br>major_discipline: Business Degree</br>experience: 1</br>company_size: 5000-9999</br>company_type: Pvt Ltd</br>last_new_job: 1</br>_original_yhat_: 0.5457825454538547</br>"
          ]
         ],
         "hovertemplate": "%{customdata[0]}<extra></extra>",
         "legendgroup": "Logistic Regression",
         "line": {
          "color": "#46bac2",
          "dash": "solid",
          "width": 2
         },
         "marker": {
          "symbol": "circle"
         },
         "mode": "lines",
         "name": "Logistic Regression",
         "opacity": 1,
         "orientation": "v",
         "showlegend": false,
         "type": "scatter",
         "x": [
          2,
          5.3,
          8.6,
          11.899999999999999,
          15.2,
          18.5,
          21.799999999999997,
          25.099999999999998,
          28.4,
          31.7,
          35,
          38.3,
          41.599999999999994,
          44.9,
          48,
          48.199999999999996,
          51.5,
          54.8,
          58.099999999999994,
          61.4,
          64.69999999999999,
          68,
          71.3,
          74.6,
          77.89999999999999,
          81.19999999999999,
          84.5,
          87.8,
          91.1,
          94.39999999999999,
          97.69999999999999,
          101,
          104.3,
          107.6,
          110.89999999999999,
          114.19999999999999,
          117.5,
          120.8,
          124.1,
          127.39999999999999,
          130.7,
          134,
          137.29999999999998,
          140.6,
          143.9,
          147.2,
          150.5,
          153.79999999999998,
          157.1,
          160.39999999999998,
          163.7,
          167,
          170.29999999999998,
          173.6,
          176.89999999999998,
          180.2,
          183.5,
          186.79999999999998,
          190.1,
          193.39999999999998,
          196.7,
          200,
          203.29999999999998,
          206.6,
          209.89999999999998,
          213.2,
          216.5,
          219.79999999999998,
          223.1,
          226.39999999999998,
          229.7,
          233,
          236.29999999999998,
          239.6,
          242.89999999999998,
          246.2,
          249.5,
          252.79999999999998,
          256.1,
          259.4,
          262.7,
          266,
          269.3,
          272.59999999999997,
          275.9,
          279.2,
          282.5,
          285.8,
          289.09999999999997,
          292.4,
          295.7,
          299,
          302.3,
          305.59999999999997,
          308.9,
          312.2,
          315.5,
          318.79999999999995,
          322.09999999999997,
          325.4,
          328.7,
          332
         ],
         "xaxis": "x2",
         "y": [
          0.5381357528329272,
          0.5386849683998188,
          0.539234090069822,
          0.5397831165264951,
          0.5403320464543173,
          0.5408808785387019,
          0.5414296114660085,
          0.5419782439235556,
          0.5425267745996327,
          0.543075202183513,
          0.5436235253654659,
          0.5441717428367688,
          0.5447198532897203,
          0.5452678554176517,
          0.5457825454538547,
          0.5458157479149396,
          0.5463635294770186,
          0.5469111988003927,
          0.5474587545826485,
          0.5480061955224665,
          0.5485535203196343,
          0.5491007276750579,
          0.5496478162907739,
          0.5501947848699623,
          0.5507416321169583,
          0.5512883567372637,
          0.55183495743756,
          0.5523814329257198,
          0.552927781910819,
          0.5534740031031491,
          0.554020095214228,
          0.5545660569568134,
          0.5551118870449139,
          0.5556575841938011,
          0.5562031471200211,
          0.5567485745414071,
          0.5572938651770903,
          0.5578390177475127,
          0.5583840309744373,
          0.5589289035809616,
          0.5594736342915283,
          0.5600182218319371,
          0.5605626649293565,
          0.5611069623123351,
          0.5616511127108138,
          0.5621951148561367,
          0.5627389674810629,
          0.5632826693197781,
          0.5638262191079061,
          0.56436961558252,
          0.5649128574821537,
          0.5654559435468136,
          0.5659988725179896,
          0.5665416431386664,
          0.567084254153335,
          0.5676267043080039,
          0.5681689923502106,
          0.5687111170290322,
          0.5692530770950972,
          0.5697948713005961,
          0.5703364983992932,
          0.5708779571465369,
          0.5714192462992712,
          0.5719603646160468,
          0.572501310857032,
          0.5730420837840233,
          0.5735826821604569,
          0.5741231047514194,
          0.5746633503236582,
          0.5752034176455928,
          0.5757433054873257,
          0.5762830126206528,
          0.5768225378190746,
          0.5773618798578061,
          0.5779010375137881,
          0.5784400095656977,
          0.5789787947939592,
          0.5795173919807534,
          0.5800557999100299,
          0.5805940173675163,
          0.5811320431407291,
          0.5816698760189842,
          0.582207514793407,
          0.5827449582569432,
          0.5832822052043685,
          0.583819254432299,
          0.5843561047392022,
          0.5848927549254063,
          0.5854292037931106,
          0.585965450146396,
          0.5865014927912344,
          0.5870373305354998,
          0.5875729621889768,
          0.5881083865633724,
          0.5886436024723243,
          0.5891786087314117,
          0.5897134041581654,
          0.5902479875720765,
          0.5907823577946073,
          0.5913165136492009,
          0.59185045396129,
          0.5923841775583077
         ],
         "yaxis": "y2"
        },
        {
         "customdata": [
          [
           "</br>id: 4268</br>prediction: 0.546</br>city_development_index: 0.92</br></br>gender: Male</br>relevent_experience: No relevent experience</br>enrolled_university: no_enrollment</br>education_level: Graduate</br>major_discipline: Business Degree</br>experience: 1</br>company_size: 5000-9999</br>company_type: Pvt Ltd</br>last_new_job: 1</br>training_hours: 48.0</br>_original_yhat_: 0.5457825454538547</br>"
          ]
         ],
         "hovertemplate": "%{customdata[0]}<extra></extra>",
         "legendgroup": "",
         "marker": {
          "color": "#371ea3",
          "size": 10,
          "symbol": "circle"
         },
         "mode": "markers",
         "name": "",
         "opacity": 1,
         "orientation": "v",
         "showlegend": false,
         "type": "scatter",
         "x": [
          0.92
         ],
         "xaxis": "x",
         "y": [
          0.5457825454538547
         ],
         "yaxis": "y"
        },
        {
         "customdata": [
          [
           "</br>id: 4268</br>prediction: 0.546</br>training_hours: 48.0</br></br>city_development_index: 0.92</br>gender: Male</br>relevent_experience: No relevent experience</br>enrolled_university: no_enrollment</br>education_level: Graduate</br>major_discipline: Business Degree</br>experience: 1</br>company_size: 5000-9999</br>company_type: Pvt Ltd</br>last_new_job: 1</br>_original_yhat_: 0.5457825454538547</br>"
          ]
         ],
         "hovertemplate": "%{customdata[0]}<extra></extra>",
         "legendgroup": "",
         "marker": {
          "color": "#371ea3",
          "size": 10,
          "symbol": "circle"
         },
         "mode": "markers",
         "name": "",
         "opacity": 1,
         "orientation": "v",
         "showlegend": false,
         "type": "scatter",
         "x": [
          48
         ],
         "xaxis": "x2",
         "y": [
          0.5457825454538547
         ],
         "yaxis": "y2"
        }
       ],
       "layout": {
        "annotations": [
         {
          "font": {
           "size": 13
          },
          "showarrow": false,
          "text": "city_development_index",
          "x": 0.2375,
          "xanchor": "center",
          "xref": "paper",
          "y": 1,
          "yanchor": "bottom",
          "yref": "paper"
         },
         {
          "font": {
           "size": 13
          },
          "showarrow": false,
          "text": "training_hours",
          "x": 0.7625,
          "xanchor": "center",
          "xref": "paper",
          "y": 1,
          "yanchor": "bottom",
          "yref": "paper"
         },
         {
          "font": {
           "size": 13
          },
          "showarrow": false,
          "text": "prediction",
          "textangle": -90,
          "x": -0.07,
          "xref": "paper",
          "y": 0.5,
          "yref": "paper"
         }
        ],
        "font": {
         "color": "#371ea3"
        },
        "height": 489,
        "hoverlabel": {
         "bgcolor": "rgba(0,0,0,0.8)"
        },
        "hovermode": "closest",
        "legend": {
         "font": {
          "size": 11
         },
         "itemsizing": "constant",
         "orientation": "h",
         "title": {
          "font": {
           "size": 12
          },
          "text": "label"
         },
         "tracegroupgap": 0,
         "x": 1,
         "xanchor": "right",
         "y": 1.0613496932515338,
         "yanchor": "bottom"
        },
        "margin": {
         "b": 71,
         "r": 30,
         "t": 78
        },
        "template": {
         "data": {
          "scatter": [
           {
            "type": "scatter"
           }
          ]
         }
        },
        "title": {
         "font": {
          "size": 16
         },
         "text": "Ceteris Paribus Profiles",
         "x": 0.15
        },
        "xaxis": {
         "anchor": "y",
         "automargin": true,
         "domain": [
          0,
          0.475
         ],
         "fixedrange": true,
         "gridwidth": 2,
         "showticklabels": true,
         "tickcolor": "white",
         "ticklen": 3,
         "ticks": "outside",
         "title": {
          "text": ""
         },
         "type": "linear",
         "zeroline": false
        },
        "xaxis2": {
         "anchor": "y2",
         "automargin": true,
         "domain": [
          0.525,
          1
         ],
         "fixedrange": true,
         "gridwidth": 2,
         "showticklabels": true,
         "tickcolor": "white",
         "ticklen": 3,
         "ticks": "outside",
         "title": {
          "text": ""
         },
         "type": "linear",
         "zeroline": false
        },
        "yaxis": {
         "anchor": "x",
         "automargin": true,
         "domain": [
          0,
          1
         ],
         "fixedrange": true,
         "gridwidth": 2,
         "range": [
          0.4561400029649416,
          0.9936059035046808
         ],
         "tickcolor": "white",
         "ticklen": 3,
         "ticks": "outside",
         "title": {
          "text": ""
         },
         "type": "linear",
         "zeroline": false
        },
        "yaxis2": {
         "anchor": "x2",
         "automargin": true,
         "domain": [
          0,
          1
         ],
         "fixedrange": true,
         "gridwidth": 2,
         "matches": "y",
         "range": [
          0.4561400029649416,
          0.9936059035046808
         ],
         "showticklabels": false,
         "tickcolor": "white",
         "ticklen": 3,
         "ticks": "outside",
         "title": {
          "text": ""
         },
         "type": "linear",
         "zeroline": false
        }
       }
      }
     },
     "metadata": {},
     "output_type": "display_data"
    },
    {
     "data": {
      "application/vnd.plotly.v1+json": {
       "config": {
        "displaylogo": false,
        "modeBarButtonsToRemove": [
         "sendDataToCloud",
         "lasso2d",
         "autoScale2d",
         "select2d",
         "zoom2d",
         "pan2d",
         "zoomIn2d",
         "zoomOut2d",
         "resetScale2d",
         "toggleSpikelines",
         "hoverCompareCartesian",
         "hoverClosestCartesian"
        ],
        "plotlyServerURL": "https://plot.ly",
        "staticPlot": false,
        "toImageButtonOptions": {
         "height": null,
         "width": null
        }
       },
       "data": [
        {
         "alignmentgroup": "True",
         "base": [
          0.5457825454538547,
          0.5457825454538547,
          0.5457825454538547,
          0.5457825454538547
         ],
         "customdata": [
          [
           "</br>id: 4268</br>prediction: 0.546</br>gender: Male</br></br>city_development_index: 0.92</br>relevent_experience: No relevent experience</br>enrolled_university: no_enrollment</br>education_level: Graduate</br>major_discipline: Business Degree</br>experience: 1</br>company_size: 5000-9999</br>company_type: Pvt Ltd</br>last_new_job: 1</br>training_hours: 48.0</br>_original_yhat_: 0.5457825454538547</br>"
          ],
          [
           "</br>id: 4268</br>prediction: 0.567</br>gender: No data</br></br>city_development_index: 0.92</br>relevent_experience: No relevent experience</br>enrolled_university: no_enrollment</br>education_level: Graduate</br>major_discipline: Business Degree</br>experience: 1</br>company_size: 5000-9999</br>company_type: Pvt Ltd</br>last_new_job: 1</br>training_hours: 48.0</br>_original_yhat_: 0.5457825454538547</br>"
          ],
          [
           "</br>id: 4268</br>prediction: 0.417</br>gender: Other</br></br>city_development_index: 0.92</br>relevent_experience: No relevent experience</br>enrolled_university: no_enrollment</br>education_level: Graduate</br>major_discipline: Business Degree</br>experience: 1</br>company_size: 5000-9999</br>company_type: Pvt Ltd</br>last_new_job: 1</br>training_hours: 48.0</br>_original_yhat_: 0.5457825454538547</br>"
          ],
          [
           "</br>id: 4268</br>prediction: 0.517</br>gender: Female</br></br>city_development_index: 0.92</br>relevent_experience: No relevent experience</br>enrolled_university: no_enrollment</br>education_level: Graduate</br>major_discipline: Business Degree</br>experience: 1</br>company_size: 5000-9999</br>company_type: Pvt Ltd</br>last_new_job: 1</br>training_hours: 48.0</br>_original_yhat_: 0.5457825454538547</br>"
          ]
         ],
         "hovertemplate": "%{customdata[0]}<extra></extra>",
         "legendgroup": "Logistic Regression",
         "marker": {
          "color": "#46bac2",
          "pattern": {
           "shape": ""
          }
         },
         "name": "Logistic Regression",
         "offsetgroup": "Logistic Regression",
         "opacity": 1,
         "orientation": "h",
         "showlegend": true,
         "textposition": "auto",
         "type": "bar",
         "x": [
          0,
          0.021226063030878928,
          -0.12845676130164424,
          -0.029153243762105596
         ],
         "xaxis": "x7",
         "y": [
          "Male",
          "No data",
          "Other",
          "Female"
         ],
         "yaxis": "y7"
        },
        {
         "alignmentgroup": "True",
         "base": [
          0.5457825454538547,
          0.5457825454538547
         ],
         "customdata": [
          [
           "</br>id: 4268</br>prediction: 0.413</br>relevent_experience: Has relevent experience</br></br>city_development_index: 0.92</br>gender: Male</br>enrolled_university: no_enrollment</br>education_level: Graduate</br>major_discipline: Business Degree</br>experience: 1</br>company_size: 5000-9999</br>company_type: Pvt Ltd</br>last_new_job: 1</br>training_hours: 48.0</br>_original_yhat_: 0.5457825454538547</br>"
          ],
          [
           "</br>id: 4268</br>prediction: 0.546</br>relevent_experience: No relevent experience</br></br>city_development_index: 0.92</br>gender: Male</br>enrolled_university: no_enrollment</br>education_level: Graduate</br>major_discipline: Business Degree</br>experience: 1</br>company_size: 5000-9999</br>company_type: Pvt Ltd</br>last_new_job: 1</br>training_hours: 48.0</br>_original_yhat_: 0.5457825454538547</br>"
          ]
         ],
         "hovertemplate": "%{customdata[0]}<extra></extra>",
         "legendgroup": "Logistic Regression",
         "marker": {
          "color": "#46bac2",
          "pattern": {
           "shape": ""
          }
         },
         "name": "Logistic Regression",
         "offsetgroup": "Logistic Regression",
         "opacity": 1,
         "orientation": "h",
         "showlegend": false,
         "textposition": "auto",
         "type": "bar",
         "x": [
          -0.13247301048740273,
          0
         ],
         "xaxis": "x8",
         "y": [
          "Has relevent experience",
          "No relevent experience"
         ],
         "yaxis": "y8"
        },
        {
         "alignmentgroup": "True",
         "base": [
          0.5457825454538547,
          0.5457825454538547,
          0.5457825454538547,
          0.5457825454538547
         ],
         "customdata": [
          [
           "</br>id: 4268</br>prediction: 0.485</br>enrolled_university: Full time course</br></br>city_development_index: 0.92</br>gender: Male</br>relevent_experience: No relevent experience</br>education_level: Graduate</br>major_discipline: Business Degree</br>experience: 1</br>company_size: 5000-9999</br>company_type: Pvt Ltd</br>last_new_job: 1</br>training_hours: 48.0</br>_original_yhat_: 0.5457825454538547</br>"
          ],
          [
           "</br>id: 4268</br>prediction: 0.546</br>enrolled_university: no_enrollment</br></br>city_development_index: 0.92</br>gender: Male</br>relevent_experience: No relevent experience</br>education_level: Graduate</br>major_discipline: Business Degree</br>experience: 1</br>company_size: 5000-9999</br>company_type: Pvt Ltd</br>last_new_job: 1</br>training_hours: 48.0</br>_original_yhat_: 0.5457825454538547</br>"
          ],
          [
           "</br>id: 4268</br>prediction: 0.399</br>enrolled_university: Part time course</br></br>city_development_index: 0.92</br>gender: Male</br>relevent_experience: No relevent experience</br>education_level: Graduate</br>major_discipline: Business Degree</br>experience: 1</br>company_size: 5000-9999</br>company_type: Pvt Ltd</br>last_new_job: 1</br>training_hours: 48.0</br>_original_yhat_: 0.5457825454538547</br>"
          ],
          [
           "</br>id: 4268</br>prediction: 0.564</br>enrolled_university: No data</br></br>city_development_index: 0.92</br>gender: Male</br>relevent_experience: No relevent experience</br>education_level: Graduate</br>major_discipline: Business Degree</br>experience: 1</br>company_size: 5000-9999</br>company_type: Pvt Ltd</br>last_new_job: 1</br>training_hours: 48.0</br>_original_yhat_: 0.5457825454538547</br>"
          ]
         ],
         "hovertemplate": "%{customdata[0]}<extra></extra>",
         "legendgroup": "Logistic Regression",
         "marker": {
          "color": "#46bac2",
          "pattern": {
           "shape": ""
          }
         },
         "name": "Logistic Regression",
         "offsetgroup": "Logistic Regression",
         "opacity": 1,
         "orientation": "h",
         "showlegend": false,
         "textposition": "auto",
         "type": "bar",
         "x": [
          -0.06049443718623393,
          0,
          -0.14629114065280663,
          0.018373393726256904
         ],
         "xaxis": "x5",
         "y": [
          "Full time course",
          "no_enrollment",
          "Part time course",
          "No data"
         ],
         "yaxis": "y5"
        },
        {
         "alignmentgroup": "True",
         "base": [
          0.5457825454538547,
          0.5457825454538547,
          0.5457825454538547,
          0.5457825454538547,
          0.5457825454538547,
          0.5457825454538547
         ],
         "customdata": [
          [
           "</br>id: 4268</br>prediction: 0.536</br>education_level: High School</br></br>city_development_index: 0.92</br>gender: Male</br>relevent_experience: No relevent experience</br>enrolled_university: no_enrollment</br>major_discipline: Business Degree</br>experience: 1</br>company_size: 5000-9999</br>company_type: Pvt Ltd</br>last_new_job: 1</br>training_hours: 48.0</br>_original_yhat_: 0.5457825454538547</br>"
          ],
          [
           "</br>id: 4268</br>prediction: 0.428</br>education_level: Masters</br></br>city_development_index: 0.92</br>gender: Male</br>relevent_experience: No relevent experience</br>enrolled_university: no_enrollment</br>major_discipline: Business Degree</br>experience: 1</br>company_size: 5000-9999</br>company_type: Pvt Ltd</br>last_new_job: 1</br>training_hours: 48.0</br>_original_yhat_: 0.5457825454538547</br>"
          ],
          [
           "</br>id: 4268</br>prediction: 0.546</br>education_level: Graduate</br></br>city_development_index: 0.92</br>gender: Male</br>relevent_experience: No relevent experience</br>enrolled_university: no_enrollment</br>major_discipline: Business Degree</br>experience: 1</br>company_size: 5000-9999</br>company_type: Pvt Ltd</br>last_new_job: 1</br>training_hours: 48.0</br>_original_yhat_: 0.5457825454538547</br>"
          ],
          [
           "</br>id: 4268</br>prediction: 0.173</br>education_level: Primary School</br></br>city_development_index: 0.92</br>gender: Male</br>relevent_experience: No relevent experience</br>enrolled_university: no_enrollment</br>major_discipline: Business Degree</br>experience: 1</br>company_size: 5000-9999</br>company_type: Pvt Ltd</br>last_new_job: 1</br>training_hours: 48.0</br>_original_yhat_: 0.5457825454538547</br>"
          ],
          [
           "</br>id: 4268</br>prediction: 0.41</br>education_level: Phd</br></br>city_development_index: 0.92</br>gender: Male</br>relevent_experience: No relevent experience</br>enrolled_university: no_enrollment</br>major_discipline: Business Degree</br>experience: 1</br>company_size: 5000-9999</br>company_type: Pvt Ltd</br>last_new_job: 1</br>training_hours: 48.0</br>_original_yhat_: 0.5457825454538547</br>"
          ],
          [
           "</br>id: 4268</br>prediction: 0.539</br>education_level: No data</br></br>city_development_index: 0.92</br>gender: Male</br>relevent_experience: No relevent experience</br>enrolled_university: no_enrollment</br>major_discipline: Business Degree</br>experience: 1</br>company_size: 5000-9999</br>company_type: Pvt Ltd</br>last_new_job: 1</br>training_hours: 48.0</br>_original_yhat_: 0.5457825454538547</br>"
          ]
         ],
         "hovertemplate": "%{customdata[0]}<extra></extra>",
         "legendgroup": "Logistic Regression",
         "marker": {
          "color": "#46bac2",
          "pattern": {
           "shape": ""
          }
         },
         "name": "Logistic Regression",
         "offsetgroup": "Logistic Regression",
         "opacity": 1,
         "orientation": "h",
         "showlegend": false,
         "textposition": "auto",
         "type": "bar",
         "x": [
          -0.010229713149444097,
          -0.11827795357185045,
          0,
          -0.3730092176780214,
          -0.1358307363281296,
          -0.006878344723478036
         ],
         "xaxis": "x6",
         "y": [
          "High School",
          "Masters",
          "Graduate",
          "Primary School",
          "Phd",
          "No data"
         ],
         "yaxis": "y6"
        },
        {
         "alignmentgroup": "True",
         "base": [
          0.5457825454538547,
          0.5457825454538547,
          0.5457825454538547,
          0.5457825454538547,
          0.5457825454538547,
          0.5457825454538547,
          0.5457825454538547
         ],
         "customdata": [
          [
           "</br>id: 4268</br>prediction: 0.351</br>major_discipline: No data</br></br>city_development_index: 0.92</br>gender: Male</br>relevent_experience: No relevent experience</br>enrolled_university: no_enrollment</br>education_level: Graduate</br>experience: 1</br>company_size: 5000-9999</br>company_type: Pvt Ltd</br>last_new_job: 1</br>training_hours: 48.0</br>_original_yhat_: 0.5457825454538547</br>"
          ],
          [
           "</br>id: 4268</br>prediction: 0.378</br>major_discipline: STEM</br></br>city_development_index: 0.92</br>gender: Male</br>relevent_experience: No relevent experience</br>enrolled_university: no_enrollment</br>education_level: Graduate</br>experience: 1</br>company_size: 5000-9999</br>company_type: Pvt Ltd</br>last_new_job: 1</br>training_hours: 48.0</br>_original_yhat_: 0.5457825454538547</br>"
          ],
          [
           "</br>id: 4268</br>prediction: 0.546</br>major_discipline: Business Degree</br></br>city_development_index: 0.92</br>gender: Male</br>relevent_experience: No relevent experience</br>enrolled_university: no_enrollment</br>education_level: Graduate</br>experience: 1</br>company_size: 5000-9999</br>company_type: Pvt Ltd</br>last_new_job: 1</br>training_hours: 48.0</br>_original_yhat_: 0.5457825454538547</br>"
          ],
          [
           "</br>id: 4268</br>prediction: 0.515</br>major_discipline: Other</br></br>city_development_index: 0.92</br>gender: Male</br>relevent_experience: No relevent experience</br>enrolled_university: no_enrollment</br>education_level: Graduate</br>experience: 1</br>company_size: 5000-9999</br>company_type: Pvt Ltd</br>last_new_job: 1</br>training_hours: 48.0</br>_original_yhat_: 0.5457825454538547</br>"
          ],
          [
           "</br>id: 4268</br>prediction: 0.298</br>major_discipline: Arts</br></br>city_development_index: 0.92</br>gender: Male</br>relevent_experience: No relevent experience</br>enrolled_university: no_enrollment</br>education_level: Graduate</br>experience: 1</br>company_size: 5000-9999</br>company_type: Pvt Ltd</br>last_new_job: 1</br>training_hours: 48.0</br>_original_yhat_: 0.5457825454538547</br>"
          ],
          [
           "</br>id: 4268</br>prediction: 0.212</br>major_discipline: Humanities</br></br>city_development_index: 0.92</br>gender: Male</br>relevent_experience: No relevent experience</br>enrolled_university: no_enrollment</br>education_level: Graduate</br>experience: 1</br>company_size: 5000-9999</br>company_type: Pvt Ltd</br>last_new_job: 1</br>training_hours: 48.0</br>_original_yhat_: 0.5457825454538547</br>"
          ],
          [
           "</br>id: 4268</br>prediction: 0.333</br>major_discipline: No Major</br></br>city_development_index: 0.92</br>gender: Male</br>relevent_experience: No relevent experience</br>enrolled_university: no_enrollment</br>education_level: Graduate</br>experience: 1</br>company_size: 5000-9999</br>company_type: Pvt Ltd</br>last_new_job: 1</br>training_hours: 48.0</br>_original_yhat_: 0.5457825454538547</br>"
          ]
         ],
         "hovertemplate": "%{customdata[0]}<extra></extra>",
         "legendgroup": "Logistic Regression",
         "marker": {
          "color": "#46bac2",
          "pattern": {
           "shape": ""
          }
         },
         "name": "Logistic Regression",
         "offsetgroup": "Logistic Regression",
         "opacity": 1,
         "orientation": "h",
         "showlegend": false,
         "textposition": "auto",
         "type": "bar",
         "x": [
          -0.1951596681495168,
          -0.16732044702127924,
          0,
          -0.030630373096488195,
          -0.24773298819418332,
          -0.3338888985365679,
          -0.2127873094912176
         ],
         "xaxis": "x3",
         "y": [
          "No data",
          "STEM",
          "Business Degree",
          "Other",
          "Arts",
          "Humanities",
          "No Major"
         ],
         "yaxis": "y3"
        },
        {
         "alignmentgroup": "True",
         "base": [
          0.5457825454538547,
          0.5457825454538547,
          0.5457825454538547,
          0.5457825454538547,
          0.5457825454538547,
          0.5457825454538547,
          0.5457825454538547,
          0.5457825454538547,
          0.5457825454538547,
          0.5457825454538547,
          0.5457825454538547,
          0.5457825454538547,
          0.5457825454538547,
          0.5457825454538547,
          0.5457825454538547,
          0.5457825454538547,
          0.5457825454538547,
          0.5457825454538547,
          0.5457825454538547,
          0.5457825454538547,
          0.5457825454538547,
          0.5457825454538547,
          0.5457825454538547
         ],
         "customdata": [
          [
           "</br>id: 4268</br>prediction: 0.523</br>experience: 7</br></br>city_development_index: 0.92</br>gender: Male</br>relevent_experience: No relevent experience</br>enrolled_university: no_enrollment</br>education_level: Graduate</br>major_discipline: Business Degree</br>company_size: 5000-9999</br>company_type: Pvt Ltd</br>last_new_job: 1</br>training_hours: 48.0</br>_original_yhat_: 0.5457825454538547</br>"
          ],
          [
           "</br>id: 4268</br>prediction: 0.551</br>experience: 5</br></br>city_development_index: 0.92</br>gender: Male</br>relevent_experience: No relevent experience</br>enrolled_university: no_enrollment</br>education_level: Graduate</br>major_discipline: Business Degree</br>company_size: 5000-9999</br>company_type: Pvt Ltd</br>last_new_job: 1</br>training_hours: 48.0</br>_original_yhat_: 0.5457825454538547</br>"
          ],
          [
           "</br>id: 4268</br>prediction: 0.546</br>experience: 1</br></br>city_development_index: 0.92</br>gender: Male</br>relevent_experience: No relevent experience</br>enrolled_university: no_enrollment</br>education_level: Graduate</br>major_discipline: Business Degree</br>company_size: 5000-9999</br>company_type: Pvt Ltd</br>last_new_job: 1</br>training_hours: 48.0</br>_original_yhat_: 0.5457825454538547</br>"
          ],
          [
           "</br>id: 4268</br>prediction: 0.534</br>experience: 4</br></br>city_development_index: 0.92</br>gender: Male</br>relevent_experience: No relevent experience</br>enrolled_university: no_enrollment</br>education_level: Graduate</br>major_discipline: Business Degree</br>company_size: 5000-9999</br>company_type: Pvt Ltd</br>last_new_job: 1</br>training_hours: 48.0</br>_original_yhat_: 0.5457825454538547</br>"
          ],
          [
           "</br>id: 4268</br>prediction: 0.497</br>experience: 10</br></br>city_development_index: 0.92</br>gender: Male</br>relevent_experience: No relevent experience</br>enrolled_university: no_enrollment</br>education_level: Graduate</br>major_discipline: Business Degree</br>company_size: 5000-9999</br>company_type: Pvt Ltd</br>last_new_job: 1</br>training_hours: 48.0</br>_original_yhat_: 0.5457825454538547</br>"
          ],
          [
           "</br>id: 4268</br>prediction: 0.183</br>experience: 17</br></br>city_development_index: 0.92</br>gender: Male</br>relevent_experience: No relevent experience</br>enrolled_university: no_enrollment</br>education_level: Graduate</br>major_discipline: Business Degree</br>company_size: 5000-9999</br>company_type: Pvt Ltd</br>last_new_job: 1</br>training_hours: 48.0</br>_original_yhat_: 0.5457825454538547</br>"
          ],
          [
           "</br>id: 4268</br>prediction: 0.585</br>experience: 12</br></br>city_development_index: 0.92</br>gender: Male</br>relevent_experience: No relevent experience</br>enrolled_university: no_enrollment</br>education_level: Graduate</br>major_discipline: Business Degree</br>company_size: 5000-9999</br>company_type: Pvt Ltd</br>last_new_job: 1</br>training_hours: 48.0</br>_original_yhat_: 0.5457825454538547</br>"
          ],
          [
           "</br>id: 4268</br>prediction: 0.258</br>experience: 3</br></br>city_development_index: 0.92</br>gender: Male</br>relevent_experience: No relevent experience</br>enrolled_university: no_enrollment</br>education_level: Graduate</br>major_discipline: Business Degree</br>company_size: 5000-9999</br>company_type: Pvt Ltd</br>last_new_job: 1</br>training_hours: 48.0</br>_original_yhat_: 0.5457825454538547</br>"
          ],
          [
           "</br>id: 4268</br>prediction: 0.482</br>experience: >20</br></br>city_development_index: 0.92</br>gender: Male</br>relevent_experience: No relevent experience</br>enrolled_university: no_enrollment</br>education_level: Graduate</br>major_discipline: Business Degree</br>company_size: 5000-9999</br>company_type: Pvt Ltd</br>last_new_job: 1</br>training_hours: 48.0</br>_original_yhat_: 0.5457825454538547</br>"
          ],
          [
           "</br>id: 4268</br>prediction: 0.274</br>experience: 2</br></br>city_development_index: 0.92</br>gender: Male</br>relevent_experience: No relevent experience</br>enrolled_university: no_enrollment</br>education_level: Graduate</br>major_discipline: Business Degree</br>company_size: 5000-9999</br>company_type: Pvt Ltd</br>last_new_job: 1</br>training_hours: 48.0</br>_original_yhat_: 0.5457825454538547</br>"
          ],
          [
           "</br>id: 4268</br>prediction: 0.217</br>experience: 19</br></br>city_development_index: 0.92</br>gender: Male</br>relevent_experience: No relevent experience</br>enrolled_university: no_enrollment</br>education_level: Graduate</br>major_discipline: Business Degree</br>company_size: 5000-9999</br>company_type: Pvt Ltd</br>last_new_job: 1</br>training_hours: 48.0</br>_original_yhat_: 0.5457825454538547</br>"
          ],
          [
           "</br>id: 4268</br>prediction: 0.41</br>experience: 11</br></br>city_development_index: 0.92</br>gender: Male</br>relevent_experience: No relevent experience</br>enrolled_university: no_enrollment</br>education_level: Graduate</br>major_discipline: Business Degree</br>company_size: 5000-9999</br>company_type: Pvt Ltd</br>last_new_job: 1</br>training_hours: 48.0</br>_original_yhat_: 0.5457825454538547</br>"
          ],
          [
           "</br>id: 4268</br>prediction: 0.479</br>experience: 14</br></br>city_development_index: 0.92</br>gender: Male</br>relevent_experience: No relevent experience</br>enrolled_university: no_enrollment</br>education_level: Graduate</br>major_discipline: Business Degree</br>company_size: 5000-9999</br>company_type: Pvt Ltd</br>last_new_job: 1</br>training_hours: 48.0</br>_original_yhat_: 0.5457825454538547</br>"
          ],
          [
           "</br>id: 4268</br>prediction: 0.416</br>experience: 13</br></br>city_development_index: 0.92</br>gender: Male</br>relevent_experience: No relevent experience</br>enrolled_university: no_enrollment</br>education_level: Graduate</br>major_discipline: Business Degree</br>company_size: 5000-9999</br>company_type: Pvt Ltd</br>last_new_job: 1</br>training_hours: 48.0</br>_original_yhat_: 0.5457825454538547</br>"
          ],
          [
           "</br>id: 4268</br>prediction: 0.352</br>experience: 8</br></br>city_development_index: 0.92</br>gender: Male</br>relevent_experience: No relevent experience</br>enrolled_university: no_enrollment</br>education_level: Graduate</br>major_discipline: Business Degree</br>company_size: 5000-9999</br>company_type: Pvt Ltd</br>last_new_job: 1</br>training_hours: 48.0</br>_original_yhat_: 0.5457825454538547</br>"
          ],
          [
           "</br>id: 4268</br>prediction: 0.504</br>experience: 9</br></br>city_development_index: 0.92</br>gender: Male</br>relevent_experience: No relevent experience</br>enrolled_university: no_enrollment</br>education_level: Graduate</br>major_discipline: Business Degree</br>company_size: 5000-9999</br>company_type: Pvt Ltd</br>last_new_job: 1</br>training_hours: 48.0</br>_original_yhat_: 0.5457825454538547</br>"
          ],
          [
           "</br>id: 4268</br>prediction: 0.323</br>experience: 16</br></br>city_development_index: 0.92</br>gender: Male</br>relevent_experience: No relevent experience</br>enrolled_university: no_enrollment</br>education_level: Graduate</br>major_discipline: Business Degree</br>company_size: 5000-9999</br>company_type: Pvt Ltd</br>last_new_job: 1</br>training_hours: 48.0</br>_original_yhat_: 0.5457825454538547</br>"
          ],
          [
           "</br>id: 4268</br>prediction: 0.287</br>experience: <1</br></br>city_development_index: 0.92</br>gender: Male</br>relevent_experience: No relevent experience</br>enrolled_university: no_enrollment</br>education_level: Graduate</br>major_discipline: Business Degree</br>company_size: 5000-9999</br>company_type: Pvt Ltd</br>last_new_job: 1</br>training_hours: 48.0</br>_original_yhat_: 0.5457825454538547</br>"
          ],
          [
           "</br>id: 4268</br>prediction: 0.431</br>experience: 6</br></br>city_development_index: 0.92</br>gender: Male</br>relevent_experience: No relevent experience</br>enrolled_university: no_enrollment</br>education_level: Graduate</br>major_discipline: Business Degree</br>company_size: 5000-9999</br>company_type: Pvt Ltd</br>last_new_job: 1</br>training_hours: 48.0</br>_original_yhat_: 0.5457825454538547</br>"
          ],
          [
           "</br>id: 4268</br>prediction: 0.312</br>experience: 18</br></br>city_development_index: 0.92</br>gender: Male</br>relevent_experience: No relevent experience</br>enrolled_university: no_enrollment</br>education_level: Graduate</br>major_discipline: Business Degree</br>company_size: 5000-9999</br>company_type: Pvt Ltd</br>last_new_job: 1</br>training_hours: 48.0</br>_original_yhat_: 0.5457825454538547</br>"
          ],
          [
           "</br>id: 4268</br>prediction: 0.388</br>experience: 20</br></br>city_development_index: 0.92</br>gender: Male</br>relevent_experience: No relevent experience</br>enrolled_university: no_enrollment</br>education_level: Graduate</br>major_discipline: Business Degree</br>company_size: 5000-9999</br>company_type: Pvt Ltd</br>last_new_job: 1</br>training_hours: 48.0</br>_original_yhat_: 0.5457825454538547</br>"
          ],
          [
           "</br>id: 4268</br>prediction: 0.455</br>experience: 15</br></br>city_development_index: 0.92</br>gender: Male</br>relevent_experience: No relevent experience</br>enrolled_university: no_enrollment</br>education_level: Graduate</br>major_discipline: Business Degree</br>company_size: 5000-9999</br>company_type: Pvt Ltd</br>last_new_job: 1</br>training_hours: 48.0</br>_original_yhat_: 0.5457825454538547</br>"
          ],
          [
           "</br>id: 4268</br>prediction: 0.594</br>experience: No data</br></br>city_development_index: 0.92</br>gender: Male</br>relevent_experience: No relevent experience</br>enrolled_university: no_enrollment</br>education_level: Graduate</br>major_discipline: Business Degree</br>company_size: 5000-9999</br>company_type: Pvt Ltd</br>last_new_job: 1</br>training_hours: 48.0</br>_original_yhat_: 0.5457825454538547</br>"
          ]
         ],
         "hovertemplate": "%{customdata[0]}<extra></extra>",
         "legendgroup": "Logistic Regression",
         "marker": {
          "color": "#46bac2",
          "pattern": {
           "shape": ""
          }
         },
         "name": "Logistic Regression",
         "offsetgroup": "Logistic Regression",
         "opacity": 1,
         "orientation": "h",
         "showlegend": false,
         "textposition": "auto",
         "type": "bar",
         "x": [
          -0.023280202813063866,
          0.005495729016713025,
          0,
          -0.012188433619335193,
          -0.04881458000233713,
          -0.36281581852940037,
          0.03897281749580306,
          -0.2875177386461811,
          -0.0636308959588342,
          -0.2717646981681814,
          -0.32910244249023624,
          -0.13559856824644173,
          -0.06687886598088438,
          -0.13009360669152498,
          -0.19341521036303733,
          -0.04139614514175305,
          -0.22305771386644346,
          -0.25911280369507933,
          -0.11470778061483256,
          -0.23415128523563777,
          -0.15821955894905726,
          -0.09093989902699418,
          0.04854332874128653
         ],
         "xaxis": "x4",
         "y": [
          "7",
          "5",
          "1",
          "4",
          "10",
          "17",
          "12",
          "3",
          ">20",
          "2",
          "19",
          "11",
          "14",
          "13",
          "8",
          "9",
          "16",
          "<1",
          "6",
          "18",
          "20",
          "15",
          "No data"
         ],
         "yaxis": "y4"
        },
        {
         "alignmentgroup": "True",
         "base": [
          0.5457825454538547,
          0.5457825454538547,
          0.5457825454538547,
          0.5457825454538547,
          0.5457825454538547,
          0.5457825454538547,
          0.5457825454538547
         ],
         "customdata": [
          [
           "</br>id: 4268</br>prediction: 0.489</br>company_type: No data</br></br>city_development_index: 0.92</br>gender: Male</br>relevent_experience: No relevent experience</br>enrolled_university: no_enrollment</br>education_level: Graduate</br>major_discipline: Business Degree</br>experience: 1</br>company_size: 5000-9999</br>last_new_job: 1</br>training_hours: 48.0</br>_original_yhat_: 0.5457825454538547</br>"
          ],
          [
           "</br>id: 4268</br>prediction: 0.64</br>company_type: Other</br></br>city_development_index: 0.92</br>gender: Male</br>relevent_experience: No relevent experience</br>enrolled_university: no_enrollment</br>education_level: Graduate</br>major_discipline: Business Degree</br>experience: 1</br>company_size: 5000-9999</br>last_new_job: 1</br>training_hours: 48.0</br>_original_yhat_: 0.5457825454538547</br>"
          ],
          [
           "</br>id: 4268</br>prediction: 0.546</br>company_type: Pvt Ltd</br></br>city_development_index: 0.92</br>gender: Male</br>relevent_experience: No relevent experience</br>enrolled_university: no_enrollment</br>education_level: Graduate</br>major_discipline: Business Degree</br>experience: 1</br>company_size: 5000-9999</br>last_new_job: 1</br>training_hours: 48.0</br>_original_yhat_: 0.5457825454538547</br>"
          ],
          [
           "</br>id: 4268</br>prediction: 0.58</br>company_type: Public Sector</br></br>city_development_index: 0.92</br>gender: Male</br>relevent_experience: No relevent experience</br>enrolled_university: no_enrollment</br>education_level: Graduate</br>major_discipline: Business Degree</br>experience: 1</br>company_size: 5000-9999</br>last_new_job: 1</br>training_hours: 48.0</br>_original_yhat_: 0.5457825454538547</br>"
          ],
          [
           "</br>id: 4268</br>prediction: 0.466</br>company_type: NGO</br></br>city_development_index: 0.92</br>gender: Male</br>relevent_experience: No relevent experience</br>enrolled_university: no_enrollment</br>education_level: Graduate</br>major_discipline: Business Degree</br>experience: 1</br>company_size: 5000-9999</br>last_new_job: 1</br>training_hours: 48.0</br>_original_yhat_: 0.5457825454538547</br>"
          ],
          [
           "</br>id: 4268</br>prediction: 0.658</br>company_type: Early Stage Startup</br></br>city_development_index: 0.92</br>gender: Male</br>relevent_experience: No relevent experience</br>enrolled_university: no_enrollment</br>education_level: Graduate</br>major_discipline: Business Degree</br>experience: 1</br>company_size: 5000-9999</br>last_new_job: 1</br>training_hours: 48.0</br>_original_yhat_: 0.5457825454538547</br>"
          ],
          [
           "</br>id: 4268</br>prediction: 0.421</br>company_type: Funded Startup</br></br>city_development_index: 0.92</br>gender: Male</br>relevent_experience: No relevent experience</br>enrolled_university: no_enrollment</br>education_level: Graduate</br>major_discipline: Business Degree</br>experience: 1</br>company_size: 5000-9999</br>last_new_job: 1</br>training_hours: 48.0</br>_original_yhat_: 0.5457825454538547</br>"
          ]
         ],
         "hovertemplate": "%{customdata[0]}<extra></extra>",
         "legendgroup": "Logistic Regression",
         "marker": {
          "color": "#46bac2",
          "pattern": {
           "shape": ""
          }
         },
         "name": "Logistic Regression",
         "offsetgroup": "Logistic Regression",
         "opacity": 1,
         "orientation": "h",
         "showlegend": false,
         "textposition": "auto",
         "type": "bar",
         "x": [
          -0.05662777425781601,
          0.094601438011637,
          0,
          0.034195193605920604,
          -0.08027159245828464,
          0.11239167908325587,
          -0.1250048647459241
         ],
         "xaxis": "x",
         "y": [
          "No data",
          "Other",
          "Pvt Ltd",
          "Public Sector",
          "NGO",
          "Early Stage Startup",
          "Funded Startup"
         ],
         "yaxis": "y"
        },
        {
         "alignmentgroup": "True",
         "base": [
          0.5457825454538547,
          0.5457825454538547,
          0.5457825454538547,
          0.5457825454538547,
          0.5457825454538547,
          0.5457825454538547,
          0.5457825454538547
         ],
         "customdata": [
          [
           "</br>id: 4268</br>prediction: 0.546</br>last_new_job: 1</br></br>city_development_index: 0.92</br>gender: Male</br>relevent_experience: No relevent experience</br>enrolled_university: no_enrollment</br>education_level: Graduate</br>major_discipline: Business Degree</br>experience: 1</br>company_size: 5000-9999</br>company_type: Pvt Ltd</br>training_hours: 48.0</br>_original_yhat_: 0.5457825454538547</br>"
          ],
          [
           "</br>id: 4268</br>prediction: 0.482</br>last_new_job: never</br></br>city_development_index: 0.92</br>gender: Male</br>relevent_experience: No relevent experience</br>enrolled_university: no_enrollment</br>education_level: Graduate</br>major_discipline: Business Degree</br>experience: 1</br>company_size: 5000-9999</br>company_type: Pvt Ltd</br>training_hours: 48.0</br>_original_yhat_: 0.5457825454538547</br>"
          ],
          [
           "</br>id: 4268</br>prediction: 0.611</br>last_new_job: >4</br></br>city_development_index: 0.92</br>gender: Male</br>relevent_experience: No relevent experience</br>enrolled_university: no_enrollment</br>education_level: Graduate</br>major_discipline: Business Degree</br>experience: 1</br>company_size: 5000-9999</br>company_type: Pvt Ltd</br>training_hours: 48.0</br>_original_yhat_: 0.5457825454538547</br>"
          ],
          [
           "</br>id: 4268</br>prediction: 0.531</br>last_new_job: 3</br></br>city_development_index: 0.92</br>gender: Male</br>relevent_experience: No relevent experience</br>enrolled_university: no_enrollment</br>education_level: Graduate</br>major_discipline: Business Degree</br>experience: 1</br>company_size: 5000-9999</br>company_type: Pvt Ltd</br>training_hours: 48.0</br>_original_yhat_: 0.5457825454538547</br>"
          ],
          [
           "</br>id: 4268</br>prediction: 0.504</br>last_new_job: 4</br></br>city_development_index: 0.92</br>gender: Male</br>relevent_experience: No relevent experience</br>enrolled_university: no_enrollment</br>education_level: Graduate</br>major_discipline: Business Degree</br>experience: 1</br>company_size: 5000-9999</br>company_type: Pvt Ltd</br>training_hours: 48.0</br>_original_yhat_: 0.5457825454538547</br>"
          ],
          [
           "</br>id: 4268</br>prediction: 0.652</br>last_new_job: No data</br></br>city_development_index: 0.92</br>gender: Male</br>relevent_experience: No relevent experience</br>enrolled_university: no_enrollment</br>education_level: Graduate</br>major_discipline: Business Degree</br>experience: 1</br>company_size: 5000-9999</br>company_type: Pvt Ltd</br>training_hours: 48.0</br>_original_yhat_: 0.5457825454538547</br>"
          ],
          [
           "</br>id: 4268</br>prediction: 0.64</br>last_new_job: 2</br></br>city_development_index: 0.92</br>gender: Male</br>relevent_experience: No relevent experience</br>enrolled_university: no_enrollment</br>education_level: Graduate</br>major_discipline: Business Degree</br>experience: 1</br>company_size: 5000-9999</br>company_type: Pvt Ltd</br>training_hours: 48.0</br>_original_yhat_: 0.5457825454538547</br>"
          ]
         ],
         "hovertemplate": "%{customdata[0]}<extra></extra>",
         "legendgroup": "Logistic Regression",
         "marker": {
          "color": "#46bac2",
          "pattern": {
           "shape": ""
          }
         },
         "name": "Logistic Regression",
         "offsetgroup": "Logistic Regression",
         "opacity": 1,
         "orientation": "h",
         "showlegend": false,
         "textposition": "auto",
         "type": "bar",
         "x": [
          0,
          -0.06422150831573997,
          0.06552015001633371,
          -0.014958741226440808,
          -0.04132328842416755,
          0.10667564672959473,
          0.09420496929255329
         ],
         "xaxis": "x2",
         "y": [
          "1",
          "never",
          ">4",
          "3",
          "4",
          "No data",
          "2"
         ],
         "yaxis": "y2"
        },
        {
         "customdata": [
          [
           "</br>id: 4268</br>prediction: 0.546</br>gender: Male</br></br>city_development_index: 0.92</br>relevent_experience: No relevent experience</br>enrolled_university: no_enrollment</br>education_level: Graduate</br>major_discipline: Business Degree</br>experience: 1</br>company_size: 5000-9999</br>company_type: Pvt Ltd</br>last_new_job: 1</br>training_hours: 48.0</br>_original_yhat_: 0.5457825454538547</br>"
          ]
         ],
         "hovertemplate": "%{customdata[0]}<extra></extra>",
         "legendgroup": "",
         "marker": {
          "color": "#371ea3",
          "size": 10,
          "symbol": "circle"
         },
         "mode": "markers",
         "name": "",
         "opacity": 1,
         "orientation": "h",
         "showlegend": false,
         "type": "scatter",
         "x": [
          0.5457825454538547
         ],
         "xaxis": "x7",
         "y": [
          "Male"
         ],
         "yaxis": "y7"
        },
        {
         "customdata": [
          [
           "</br>id: 4268</br>prediction: 0.546</br>relevent_experience: No relevent experience</br></br>city_development_index: 0.92</br>gender: Male</br>enrolled_university: no_enrollment</br>education_level: Graduate</br>major_discipline: Business Degree</br>experience: 1</br>company_size: 5000-9999</br>company_type: Pvt Ltd</br>last_new_job: 1</br>training_hours: 48.0</br>_original_yhat_: 0.5457825454538547</br>"
          ]
         ],
         "hovertemplate": "%{customdata[0]}<extra></extra>",
         "legendgroup": "",
         "marker": {
          "color": "#371ea3",
          "size": 10,
          "symbol": "circle"
         },
         "mode": "markers",
         "name": "",
         "opacity": 1,
         "orientation": "h",
         "showlegend": false,
         "type": "scatter",
         "x": [
          0.5457825454538547
         ],
         "xaxis": "x8",
         "y": [
          "No relevent experience"
         ],
         "yaxis": "y8"
        },
        {
         "customdata": [
          [
           "</br>id: 4268</br>prediction: 0.546</br>enrolled_university: no_enrollment</br></br>city_development_index: 0.92</br>gender: Male</br>relevent_experience: No relevent experience</br>education_level: Graduate</br>major_discipline: Business Degree</br>experience: 1</br>company_size: 5000-9999</br>company_type: Pvt Ltd</br>last_new_job: 1</br>training_hours: 48.0</br>_original_yhat_: 0.5457825454538547</br>"
          ]
         ],
         "hovertemplate": "%{customdata[0]}<extra></extra>",
         "legendgroup": "",
         "marker": {
          "color": "#371ea3",
          "size": 10,
          "symbol": "circle"
         },
         "mode": "markers",
         "name": "",
         "opacity": 1,
         "orientation": "h",
         "showlegend": false,
         "type": "scatter",
         "x": [
          0.5457825454538547
         ],
         "xaxis": "x5",
         "y": [
          "no_enrollment"
         ],
         "yaxis": "y5"
        },
        {
         "customdata": [
          [
           "</br>id: 4268</br>prediction: 0.546</br>education_level: Graduate</br></br>city_development_index: 0.92</br>gender: Male</br>relevent_experience: No relevent experience</br>enrolled_university: no_enrollment</br>major_discipline: Business Degree</br>experience: 1</br>company_size: 5000-9999</br>company_type: Pvt Ltd</br>last_new_job: 1</br>training_hours: 48.0</br>_original_yhat_: 0.5457825454538547</br>"
          ]
         ],
         "hovertemplate": "%{customdata[0]}<extra></extra>",
         "legendgroup": "",
         "marker": {
          "color": "#371ea3",
          "size": 10,
          "symbol": "circle"
         },
         "mode": "markers",
         "name": "",
         "opacity": 1,
         "orientation": "h",
         "showlegend": false,
         "type": "scatter",
         "x": [
          0.5457825454538547
         ],
         "xaxis": "x6",
         "y": [
          "Graduate"
         ],
         "yaxis": "y6"
        },
        {
         "customdata": [
          [
           "</br>id: 4268</br>prediction: 0.546</br>major_discipline: Business Degree</br></br>city_development_index: 0.92</br>gender: Male</br>relevent_experience: No relevent experience</br>enrolled_university: no_enrollment</br>education_level: Graduate</br>experience: 1</br>company_size: 5000-9999</br>company_type: Pvt Ltd</br>last_new_job: 1</br>training_hours: 48.0</br>_original_yhat_: 0.5457825454538547</br>"
          ]
         ],
         "hovertemplate": "%{customdata[0]}<extra></extra>",
         "legendgroup": "",
         "marker": {
          "color": "#371ea3",
          "size": 10,
          "symbol": "circle"
         },
         "mode": "markers",
         "name": "",
         "opacity": 1,
         "orientation": "h",
         "showlegend": false,
         "type": "scatter",
         "x": [
          0.5457825454538547
         ],
         "xaxis": "x3",
         "y": [
          "Business Degree"
         ],
         "yaxis": "y3"
        },
        {
         "customdata": [
          [
           "</br>id: 4268</br>prediction: 0.546</br>experience: 1</br></br>city_development_index: 0.92</br>gender: Male</br>relevent_experience: No relevent experience</br>enrolled_university: no_enrollment</br>education_level: Graduate</br>major_discipline: Business Degree</br>company_size: 5000-9999</br>company_type: Pvt Ltd</br>last_new_job: 1</br>training_hours: 48.0</br>_original_yhat_: 0.5457825454538547</br>"
          ]
         ],
         "hovertemplate": "%{customdata[0]}<extra></extra>",
         "legendgroup": "",
         "marker": {
          "color": "#371ea3",
          "size": 10,
          "symbol": "circle"
         },
         "mode": "markers",
         "name": "",
         "opacity": 1,
         "orientation": "h",
         "showlegend": false,
         "type": "scatter",
         "x": [
          0.5457825454538547
         ],
         "xaxis": "x4",
         "y": [
          "1"
         ],
         "yaxis": "y4"
        },
        {
         "customdata": [
          [
           "</br>id: 4268</br>prediction: 0.546</br>company_type: Pvt Ltd</br></br>city_development_index: 0.92</br>gender: Male</br>relevent_experience: No relevent experience</br>enrolled_university: no_enrollment</br>education_level: Graduate</br>major_discipline: Business Degree</br>experience: 1</br>company_size: 5000-9999</br>last_new_job: 1</br>training_hours: 48.0</br>_original_yhat_: 0.5457825454538547</br>"
          ]
         ],
         "hovertemplate": "%{customdata[0]}<extra></extra>",
         "legendgroup": "",
         "marker": {
          "color": "#371ea3",
          "size": 10,
          "symbol": "circle"
         },
         "mode": "markers",
         "name": "",
         "opacity": 1,
         "orientation": "h",
         "showlegend": false,
         "type": "scatter",
         "x": [
          0.5457825454538547
         ],
         "xaxis": "x",
         "y": [
          "Pvt Ltd"
         ],
         "yaxis": "y"
        },
        {
         "customdata": [
          [
           "</br>id: 4268</br>prediction: 0.546</br>last_new_job: 1</br></br>city_development_index: 0.92</br>gender: Male</br>relevent_experience: No relevent experience</br>enrolled_university: no_enrollment</br>education_level: Graduate</br>major_discipline: Business Degree</br>experience: 1</br>company_size: 5000-9999</br>company_type: Pvt Ltd</br>training_hours: 48.0</br>_original_yhat_: 0.5457825454538547</br>"
          ]
         ],
         "hovertemplate": "%{customdata[0]}<extra></extra>",
         "legendgroup": "",
         "marker": {
          "color": "#371ea3",
          "size": 10,
          "symbol": "circle"
         },
         "mode": "markers",
         "name": "",
         "opacity": 1,
         "orientation": "h",
         "showlegend": false,
         "type": "scatter",
         "x": [
          0.5457825454538547
         ],
         "xaxis": "x2",
         "y": [
          "1"
         ],
         "yaxis": "y2"
        }
       ],
       "layout": {
        "annotations": [
         {
          "font": {
           "size": 13
          },
          "showarrow": false,
          "text": "company_type",
          "x": 0.225,
          "xanchor": "center",
          "xref": "paper",
          "y": 0.2125,
          "yanchor": "bottom",
          "yref": "paper"
         },
         {
          "font": {
           "size": 13
          },
          "showarrow": false,
          "text": "last_new_job",
          "x": 0.775,
          "xanchor": "center",
          "xref": "paper",
          "y": 0.2125,
          "yanchor": "bottom",
          "yref": "paper"
         },
         {
          "font": {
           "size": 13
          },
          "showarrow": false,
          "text": "major_discipline",
          "x": 0.225,
          "xanchor": "center",
          "xref": "paper",
          "y": 0.475,
          "yanchor": "bottom",
          "yref": "paper"
         },
         {
          "font": {
           "size": 13
          },
          "showarrow": false,
          "text": "experience",
          "x": 0.775,
          "xanchor": "center",
          "xref": "paper",
          "y": 0.475,
          "yanchor": "bottom",
          "yref": "paper"
         },
         {
          "font": {
           "size": 13
          },
          "showarrow": false,
          "text": "enrolled_university",
          "x": 0.225,
          "xanchor": "center",
          "xref": "paper",
          "y": 0.7375,
          "yanchor": "bottom",
          "yref": "paper"
         },
         {
          "font": {
           "size": 13
          },
          "showarrow": false,
          "text": "education_level",
          "x": 0.775,
          "xanchor": "center",
          "xref": "paper",
          "y": 0.7375,
          "yanchor": "bottom",
          "yref": "paper"
         },
         {
          "font": {
           "size": 13
          },
          "showarrow": false,
          "text": "gender",
          "x": 0.225,
          "xanchor": "center",
          "xref": "paper",
          "y": 1,
          "yanchor": "bottom",
          "yref": "paper"
         },
         {
          "font": {
           "size": 13
          },
          "showarrow": false,
          "text": "relevent_experience",
          "x": 0.775,
          "xanchor": "center",
          "xref": "paper",
          "y": 1,
          "yanchor": "bottom",
          "yref": "paper"
         },
         {
          "font": {
           "size": 13
          },
          "showarrow": false,
          "text": "prediction",
          "textangle": 0,
          "x": 0.5,
          "xref": "paper",
          "y": -0.039761431411530816,
          "yref": "paper"
         }
        ],
        "barmode": "group",
        "font": {
         "color": "#371ea3"
        },
        "height": 1509,
        "hoverlabel": {
         "bgcolor": "rgba(0,0,0,0.8)"
        },
        "hovermode": "closest",
        "legend": {
         "font": {
          "size": 11
         },
         "itemsizing": "constant",
         "orientation": "h",
         "title": {
          "font": {
           "size": 12
          },
          "text": "label"
         },
         "tracegroupgap": 0,
         "x": 1,
         "xanchor": "right",
         "y": 1.0198807157057654,
         "yanchor": "bottom"
        },
        "margin": {
         "b": 71,
         "r": 30,
         "t": 78
        },
        "shapes": [
         {
          "layer": "below",
          "line": {
           "color": "#371ea3",
           "dash": "dot",
           "width": 1.5
          },
          "type": "line",
          "x0": 0.5457825454538547,
          "x1": 0.5457825454538547,
          "xref": "x",
          "y0": 0,
          "y1": 1,
          "yref": "y domain"
         },
         {
          "layer": "below",
          "line": {
           "color": "#371ea3",
           "dash": "dot",
           "width": 1.5
          },
          "type": "line",
          "x0": 0.5457825454538547,
          "x1": 0.5457825454538547,
          "xref": "x2",
          "y0": 0,
          "y1": 1,
          "yref": "y2 domain"
         },
         {
          "layer": "below",
          "line": {
           "color": "#371ea3",
           "dash": "dot",
           "width": 1.5
          },
          "type": "line",
          "x0": 0.5457825454538547,
          "x1": 0.5457825454538547,
          "xref": "x3",
          "y0": 0,
          "y1": 1,
          "yref": "y3 domain"
         },
         {
          "layer": "below",
          "line": {
           "color": "#371ea3",
           "dash": "dot",
           "width": 1.5
          },
          "type": "line",
          "x0": 0.5457825454538547,
          "x1": 0.5457825454538547,
          "xref": "x4",
          "y0": 0,
          "y1": 1,
          "yref": "y4 domain"
         },
         {
          "layer": "below",
          "line": {
           "color": "#371ea3",
           "dash": "dot",
           "width": 1.5
          },
          "type": "line",
          "x0": 0.5457825454538547,
          "x1": 0.5457825454538547,
          "xref": "x5",
          "y0": 0,
          "y1": 1,
          "yref": "y5 domain"
         },
         {
          "layer": "below",
          "line": {
           "color": "#371ea3",
           "dash": "dot",
           "width": 1.5
          },
          "type": "line",
          "x0": 0.5457825454538547,
          "x1": 0.5457825454538547,
          "xref": "x6",
          "y0": 0,
          "y1": 1,
          "yref": "y6 domain"
         },
         {
          "layer": "below",
          "line": {
           "color": "#371ea3",
           "dash": "dot",
           "width": 1.5
          },
          "type": "line",
          "x0": 0.5457825454538547,
          "x1": 0.5457825454538547,
          "xref": "x7",
          "y0": 0,
          "y1": 1,
          "yref": "y7 domain"
         },
         {
          "layer": "below",
          "line": {
           "color": "#371ea3",
           "dash": "dot",
           "width": 1.5
          },
          "type": "line",
          "x0": 0.5457825454538547,
          "x1": 0.5457825454538547,
          "xref": "x8",
          "y0": 0,
          "y1": 1,
          "yref": "y8 domain"
         },
         {
          "layer": "below",
          "line": {
           "color": "#371ea3",
           "dash": "dot",
           "width": 1.5
          },
          "type": "line",
          "x0": 0.5457825454538547,
          "x1": 0.5457825454538547,
          "xref": "x",
          "y0": 0,
          "y1": 1,
          "yref": "y domain"
         },
         {
          "layer": "below",
          "line": {
           "color": "#371ea3",
           "dash": "dot",
           "width": 1.5
          },
          "type": "line",
          "x0": 0.5457825454538547,
          "x1": 0.5457825454538547,
          "xref": "x2",
          "y0": 0,
          "y1": 1,
          "yref": "y2 domain"
         },
         {
          "layer": "below",
          "line": {
           "color": "#371ea3",
           "dash": "dot",
           "width": 1.5
          },
          "type": "line",
          "x0": 0.5457825454538547,
          "x1": 0.5457825454538547,
          "xref": "x3",
          "y0": 0,
          "y1": 1,
          "yref": "y3 domain"
         },
         {
          "layer": "below",
          "line": {
           "color": "#371ea3",
           "dash": "dot",
           "width": 1.5
          },
          "type": "line",
          "x0": 0.5457825454538547,
          "x1": 0.5457825454538547,
          "xref": "x4",
          "y0": 0,
          "y1": 1,
          "yref": "y4 domain"
         },
         {
          "layer": "below",
          "line": {
           "color": "#371ea3",
           "dash": "dot",
           "width": 1.5
          },
          "type": "line",
          "x0": 0.5457825454538547,
          "x1": 0.5457825454538547,
          "xref": "x5",
          "y0": 0,
          "y1": 1,
          "yref": "y5 domain"
         },
         {
          "layer": "below",
          "line": {
           "color": "#371ea3",
           "dash": "dot",
           "width": 1.5
          },
          "type": "line",
          "x0": 0.5457825454538547,
          "x1": 0.5457825454538547,
          "xref": "x6",
          "y0": 0,
          "y1": 1,
          "yref": "y6 domain"
         },
         {
          "layer": "below",
          "line": {
           "color": "#371ea3",
           "dash": "dot",
           "width": 1.5
          },
          "type": "line",
          "x0": 0.5457825454538547,
          "x1": 0.5457825454538547,
          "xref": "x7",
          "y0": 0,
          "y1": 1,
          "yref": "y7 domain"
         },
         {
          "layer": "below",
          "line": {
           "color": "#371ea3",
           "dash": "dot",
           "width": 1.5
          },
          "type": "line",
          "x0": 0.5457825454538547,
          "x1": 0.5457825454538547,
          "xref": "x8",
          "y0": 0,
          "y1": 1,
          "yref": "y8 domain"
         },
         {
          "layer": "below",
          "line": {
           "color": "#371ea3",
           "dash": "dot",
           "width": 1.5
          },
          "type": "line",
          "x0": 0.5457825454538547,
          "x1": 0.5457825454538547,
          "xref": "x",
          "y0": 0,
          "y1": 1,
          "yref": "y domain"
         },
         {
          "layer": "below",
          "line": {
           "color": "#371ea3",
           "dash": "dot",
           "width": 1.5
          },
          "type": "line",
          "x0": 0.5457825454538547,
          "x1": 0.5457825454538547,
          "xref": "x2",
          "y0": 0,
          "y1": 1,
          "yref": "y2 domain"
         },
         {
          "layer": "below",
          "line": {
           "color": "#371ea3",
           "dash": "dot",
           "width": 1.5
          },
          "type": "line",
          "x0": 0.5457825454538547,
          "x1": 0.5457825454538547,
          "xref": "x3",
          "y0": 0,
          "y1": 1,
          "yref": "y3 domain"
         },
         {
          "layer": "below",
          "line": {
           "color": "#371ea3",
           "dash": "dot",
           "width": 1.5
          },
          "type": "line",
          "x0": 0.5457825454538547,
          "x1": 0.5457825454538547,
          "xref": "x4",
          "y0": 0,
          "y1": 1,
          "yref": "y4 domain"
         },
         {
          "layer": "below",
          "line": {
           "color": "#371ea3",
           "dash": "dot",
           "width": 1.5
          },
          "type": "line",
          "x0": 0.5457825454538547,
          "x1": 0.5457825454538547,
          "xref": "x5",
          "y0": 0,
          "y1": 1,
          "yref": "y5 domain"
         },
         {
          "layer": "below",
          "line": {
           "color": "#371ea3",
           "dash": "dot",
           "width": 1.5
          },
          "type": "line",
          "x0": 0.5457825454538547,
          "x1": 0.5457825454538547,
          "xref": "x6",
          "y0": 0,
          "y1": 1,
          "yref": "y6 domain"
         },
         {
          "layer": "below",
          "line": {
           "color": "#371ea3",
           "dash": "dot",
           "width": 1.5
          },
          "type": "line",
          "x0": 0.5457825454538547,
          "x1": 0.5457825454538547,
          "xref": "x7",
          "y0": 0,
          "y1": 1,
          "yref": "y7 domain"
         },
         {
          "layer": "below",
          "line": {
           "color": "#371ea3",
           "dash": "dot",
           "width": 1.5
          },
          "type": "line",
          "x0": 0.5457825454538547,
          "x1": 0.5457825454538547,
          "xref": "x8",
          "y0": 0,
          "y1": 1,
          "yref": "y8 domain"
         },
         {
          "layer": "below",
          "line": {
           "color": "#371ea3",
           "dash": "dot",
           "width": 1.5
          },
          "type": "line",
          "x0": 0.5457825454538547,
          "x1": 0.5457825454538547,
          "xref": "x",
          "y0": 0,
          "y1": 1,
          "yref": "y domain"
         },
         {
          "layer": "below",
          "line": {
           "color": "#371ea3",
           "dash": "dot",
           "width": 1.5
          },
          "type": "line",
          "x0": 0.5457825454538547,
          "x1": 0.5457825454538547,
          "xref": "x2",
          "y0": 0,
          "y1": 1,
          "yref": "y2 domain"
         },
         {
          "layer": "below",
          "line": {
           "color": "#371ea3",
           "dash": "dot",
           "width": 1.5
          },
          "type": "line",
          "x0": 0.5457825454538547,
          "x1": 0.5457825454538547,
          "xref": "x3",
          "y0": 0,
          "y1": 1,
          "yref": "y3 domain"
         },
         {
          "layer": "below",
          "line": {
           "color": "#371ea3",
           "dash": "dot",
           "width": 1.5
          },
          "type": "line",
          "x0": 0.5457825454538547,
          "x1": 0.5457825454538547,
          "xref": "x4",
          "y0": 0,
          "y1": 1,
          "yref": "y4 domain"
         },
         {
          "layer": "below",
          "line": {
           "color": "#371ea3",
           "dash": "dot",
           "width": 1.5
          },
          "type": "line",
          "x0": 0.5457825454538547,
          "x1": 0.5457825454538547,
          "xref": "x5",
          "y0": 0,
          "y1": 1,
          "yref": "y5 domain"
         },
         {
          "layer": "below",
          "line": {
           "color": "#371ea3",
           "dash": "dot",
           "width": 1.5
          },
          "type": "line",
          "x0": 0.5457825454538547,
          "x1": 0.5457825454538547,
          "xref": "x6",
          "y0": 0,
          "y1": 1,
          "yref": "y6 domain"
         },
         {
          "layer": "below",
          "line": {
           "color": "#371ea3",
           "dash": "dot",
           "width": 1.5
          },
          "type": "line",
          "x0": 0.5457825454538547,
          "x1": 0.5457825454538547,
          "xref": "x7",
          "y0": 0,
          "y1": 1,
          "yref": "y7 domain"
         },
         {
          "layer": "below",
          "line": {
           "color": "#371ea3",
           "dash": "dot",
           "width": 1.5
          },
          "type": "line",
          "x0": 0.5457825454538547,
          "x1": 0.5457825454538547,
          "xref": "x8",
          "y0": 0,
          "y1": 1,
          "yref": "y8 domain"
         },
         {
          "layer": "below",
          "line": {
           "color": "#371ea3",
           "dash": "dot",
           "width": 1.5
          },
          "type": "line",
          "x0": 0.5457825454538547,
          "x1": 0.5457825454538547,
          "xref": "x",
          "y0": 0,
          "y1": 1,
          "yref": "y domain"
         },
         {
          "layer": "below",
          "line": {
           "color": "#371ea3",
           "dash": "dot",
           "width": 1.5
          },
          "type": "line",
          "x0": 0.5457825454538547,
          "x1": 0.5457825454538547,
          "xref": "x2",
          "y0": 0,
          "y1": 1,
          "yref": "y2 domain"
         },
         {
          "layer": "below",
          "line": {
           "color": "#371ea3",
           "dash": "dot",
           "width": 1.5
          },
          "type": "line",
          "x0": 0.5457825454538547,
          "x1": 0.5457825454538547,
          "xref": "x3",
          "y0": 0,
          "y1": 1,
          "yref": "y3 domain"
         },
         {
          "layer": "below",
          "line": {
           "color": "#371ea3",
           "dash": "dot",
           "width": 1.5
          },
          "type": "line",
          "x0": 0.5457825454538547,
          "x1": 0.5457825454538547,
          "xref": "x4",
          "y0": 0,
          "y1": 1,
          "yref": "y4 domain"
         },
         {
          "layer": "below",
          "line": {
           "color": "#371ea3",
           "dash": "dot",
           "width": 1.5
          },
          "type": "line",
          "x0": 0.5457825454538547,
          "x1": 0.5457825454538547,
          "xref": "x5",
          "y0": 0,
          "y1": 1,
          "yref": "y5 domain"
         },
         {
          "layer": "below",
          "line": {
           "color": "#371ea3",
           "dash": "dot",
           "width": 1.5
          },
          "type": "line",
          "x0": 0.5457825454538547,
          "x1": 0.5457825454538547,
          "xref": "x6",
          "y0": 0,
          "y1": 1,
          "yref": "y6 domain"
         },
         {
          "layer": "below",
          "line": {
           "color": "#371ea3",
           "dash": "dot",
           "width": 1.5
          },
          "type": "line",
          "x0": 0.5457825454538547,
          "x1": 0.5457825454538547,
          "xref": "x7",
          "y0": 0,
          "y1": 1,
          "yref": "y7 domain"
         },
         {
          "layer": "below",
          "line": {
           "color": "#371ea3",
           "dash": "dot",
           "width": 1.5
          },
          "type": "line",
          "x0": 0.5457825454538547,
          "x1": 0.5457825454538547,
          "xref": "x8",
          "y0": 0,
          "y1": 1,
          "yref": "y8 domain"
         },
         {
          "layer": "below",
          "line": {
           "color": "#371ea3",
           "dash": "dot",
           "width": 1.5
          },
          "type": "line",
          "x0": 0.5457825454538547,
          "x1": 0.5457825454538547,
          "xref": "x",
          "y0": 0,
          "y1": 1,
          "yref": "y domain"
         },
         {
          "layer": "below",
          "line": {
           "color": "#371ea3",
           "dash": "dot",
           "width": 1.5
          },
          "type": "line",
          "x0": 0.5457825454538547,
          "x1": 0.5457825454538547,
          "xref": "x2",
          "y0": 0,
          "y1": 1,
          "yref": "y2 domain"
         },
         {
          "layer": "below",
          "line": {
           "color": "#371ea3",
           "dash": "dot",
           "width": 1.5
          },
          "type": "line",
          "x0": 0.5457825454538547,
          "x1": 0.5457825454538547,
          "xref": "x3",
          "y0": 0,
          "y1": 1,
          "yref": "y3 domain"
         },
         {
          "layer": "below",
          "line": {
           "color": "#371ea3",
           "dash": "dot",
           "width": 1.5
          },
          "type": "line",
          "x0": 0.5457825454538547,
          "x1": 0.5457825454538547,
          "xref": "x4",
          "y0": 0,
          "y1": 1,
          "yref": "y4 domain"
         },
         {
          "layer": "below",
          "line": {
           "color": "#371ea3",
           "dash": "dot",
           "width": 1.5
          },
          "type": "line",
          "x0": 0.5457825454538547,
          "x1": 0.5457825454538547,
          "xref": "x5",
          "y0": 0,
          "y1": 1,
          "yref": "y5 domain"
         },
         {
          "layer": "below",
          "line": {
           "color": "#371ea3",
           "dash": "dot",
           "width": 1.5
          },
          "type": "line",
          "x0": 0.5457825454538547,
          "x1": 0.5457825454538547,
          "xref": "x6",
          "y0": 0,
          "y1": 1,
          "yref": "y6 domain"
         },
         {
          "layer": "below",
          "line": {
           "color": "#371ea3",
           "dash": "dot",
           "width": 1.5
          },
          "type": "line",
          "x0": 0.5457825454538547,
          "x1": 0.5457825454538547,
          "xref": "x7",
          "y0": 0,
          "y1": 1,
          "yref": "y7 domain"
         },
         {
          "layer": "below",
          "line": {
           "color": "#371ea3",
           "dash": "dot",
           "width": 1.5
          },
          "type": "line",
          "x0": 0.5457825454538547,
          "x1": 0.5457825454538547,
          "xref": "x8",
          "y0": 0,
          "y1": 1,
          "yref": "y8 domain"
         },
         {
          "layer": "below",
          "line": {
           "color": "#371ea3",
           "dash": "dot",
           "width": 1.5
          },
          "type": "line",
          "x0": 0.5457825454538547,
          "x1": 0.5457825454538547,
          "xref": "x",
          "y0": 0,
          "y1": 1,
          "yref": "y domain"
         },
         {
          "layer": "below",
          "line": {
           "color": "#371ea3",
           "dash": "dot",
           "width": 1.5
          },
          "type": "line",
          "x0": 0.5457825454538547,
          "x1": 0.5457825454538547,
          "xref": "x2",
          "y0": 0,
          "y1": 1,
          "yref": "y2 domain"
         },
         {
          "layer": "below",
          "line": {
           "color": "#371ea3",
           "dash": "dot",
           "width": 1.5
          },
          "type": "line",
          "x0": 0.5457825454538547,
          "x1": 0.5457825454538547,
          "xref": "x3",
          "y0": 0,
          "y1": 1,
          "yref": "y3 domain"
         },
         {
          "layer": "below",
          "line": {
           "color": "#371ea3",
           "dash": "dot",
           "width": 1.5
          },
          "type": "line",
          "x0": 0.5457825454538547,
          "x1": 0.5457825454538547,
          "xref": "x4",
          "y0": 0,
          "y1": 1,
          "yref": "y4 domain"
         },
         {
          "layer": "below",
          "line": {
           "color": "#371ea3",
           "dash": "dot",
           "width": 1.5
          },
          "type": "line",
          "x0": 0.5457825454538547,
          "x1": 0.5457825454538547,
          "xref": "x5",
          "y0": 0,
          "y1": 1,
          "yref": "y5 domain"
         },
         {
          "layer": "below",
          "line": {
           "color": "#371ea3",
           "dash": "dot",
           "width": 1.5
          },
          "type": "line",
          "x0": 0.5457825454538547,
          "x1": 0.5457825454538547,
          "xref": "x6",
          "y0": 0,
          "y1": 1,
          "yref": "y6 domain"
         },
         {
          "layer": "below",
          "line": {
           "color": "#371ea3",
           "dash": "dot",
           "width": 1.5
          },
          "type": "line",
          "x0": 0.5457825454538547,
          "x1": 0.5457825454538547,
          "xref": "x7",
          "y0": 0,
          "y1": 1,
          "yref": "y7 domain"
         },
         {
          "layer": "below",
          "line": {
           "color": "#371ea3",
           "dash": "dot",
           "width": 1.5
          },
          "type": "line",
          "x0": 0.5457825454538547,
          "x1": 0.5457825454538547,
          "xref": "x8",
          "y0": 0,
          "y1": 1,
          "yref": "y8 domain"
         },
         {
          "layer": "below",
          "line": {
           "color": "#371ea3",
           "dash": "dot",
           "width": 1.5
          },
          "type": "line",
          "x0": 0.5457825454538547,
          "x1": 0.5457825454538547,
          "xref": "x",
          "y0": 0,
          "y1": 1,
          "yref": "y domain"
         },
         {
          "layer": "below",
          "line": {
           "color": "#371ea3",
           "dash": "dot",
           "width": 1.5
          },
          "type": "line",
          "x0": 0.5457825454538547,
          "x1": 0.5457825454538547,
          "xref": "x2",
          "y0": 0,
          "y1": 1,
          "yref": "y2 domain"
         },
         {
          "layer": "below",
          "line": {
           "color": "#371ea3",
           "dash": "dot",
           "width": 1.5
          },
          "type": "line",
          "x0": 0.5457825454538547,
          "x1": 0.5457825454538547,
          "xref": "x3",
          "y0": 0,
          "y1": 1,
          "yref": "y3 domain"
         },
         {
          "layer": "below",
          "line": {
           "color": "#371ea3",
           "dash": "dot",
           "width": 1.5
          },
          "type": "line",
          "x0": 0.5457825454538547,
          "x1": 0.5457825454538547,
          "xref": "x4",
          "y0": 0,
          "y1": 1,
          "yref": "y4 domain"
         },
         {
          "layer": "below",
          "line": {
           "color": "#371ea3",
           "dash": "dot",
           "width": 1.5
          },
          "type": "line",
          "x0": 0.5457825454538547,
          "x1": 0.5457825454538547,
          "xref": "x5",
          "y0": 0,
          "y1": 1,
          "yref": "y5 domain"
         },
         {
          "layer": "below",
          "line": {
           "color": "#371ea3",
           "dash": "dot",
           "width": 1.5
          },
          "type": "line",
          "x0": 0.5457825454538547,
          "x1": 0.5457825454538547,
          "xref": "x6",
          "y0": 0,
          "y1": 1,
          "yref": "y6 domain"
         },
         {
          "layer": "below",
          "line": {
           "color": "#371ea3",
           "dash": "dot",
           "width": 1.5
          },
          "type": "line",
          "x0": 0.5457825454538547,
          "x1": 0.5457825454538547,
          "xref": "x7",
          "y0": 0,
          "y1": 1,
          "yref": "y7 domain"
         },
         {
          "layer": "below",
          "line": {
           "color": "#371ea3",
           "dash": "dot",
           "width": 1.5
          },
          "type": "line",
          "x0": 0.5457825454538547,
          "x1": 0.5457825454538547,
          "xref": "x8",
          "y0": 0,
          "y1": 1,
          "yref": "y8 domain"
         }
        ],
        "template": {
         "data": {
          "scatter": [
           {
            "type": "scatter"
           }
          ]
         }
        },
        "title": {
         "font": {
          "size": 16
         },
         "text": "Ceteris Paribus Profiles",
         "x": 0.15
        },
        "xaxis": {
         "anchor": "y",
         "automargin": true,
         "domain": [
          0,
          0.45
         ],
         "fixedrange": true,
         "gridwidth": 2,
         "range": [
          0.12423323809970561,
          0.7067143142132384
         ],
         "tickcolor": "white",
         "ticklen": 3,
         "ticks": "outside",
         "title": {
          "text": ""
         },
         "type": "linear",
         "zeroline": false
        },
        "xaxis2": {
         "anchor": "y2",
         "automargin": true,
         "domain": [
          0.55,
          1
         ],
         "fixedrange": true,
         "gridwidth": 2,
         "matches": "x",
         "range": [
          0.12423323809970561,
          0.7067143142132384
         ],
         "tickcolor": "white",
         "ticklen": 3,
         "ticks": "outside",
         "title": {
          "text": ""
         },
         "type": "linear",
         "zeroline": false
        },
        "xaxis3": {
         "anchor": "y3",
         "automargin": true,
         "domain": [
          0,
          0.45
         ],
         "fixedrange": true,
         "gridwidth": 2,
         "matches": "x",
         "range": [
          0.12423323809970561,
          0.7067143142132384
         ],
         "showticklabels": false,
         "tickcolor": "white",
         "ticklen": 3,
         "ticks": "outside",
         "title": {
          "text": ""
         },
         "type": "linear",
         "zeroline": false
        },
        "xaxis4": {
         "anchor": "y4",
         "automargin": true,
         "domain": [
          0.55,
          1
         ],
         "fixedrange": true,
         "gridwidth": 2,
         "matches": "x",
         "range": [
          0.12423323809970561,
          0.7067143142132384
         ],
         "showticklabels": false,
         "tickcolor": "white",
         "ticklen": 3,
         "ticks": "outside",
         "title": {
          "text": ""
         },
         "type": "linear",
         "zeroline": false
        },
        "xaxis5": {
         "anchor": "y5",
         "automargin": true,
         "domain": [
          0,
          0.45
         ],
         "fixedrange": true,
         "gridwidth": 2,
         "matches": "x",
         "range": [
          0.12423323809970561,
          0.7067143142132384
         ],
         "showticklabels": false,
         "tickcolor": "white",
         "ticklen": 3,
         "ticks": "outside",
         "title": {
          "text": ""
         },
         "type": "linear",
         "zeroline": false
        },
        "xaxis6": {
         "anchor": "y6",
         "automargin": true,
         "domain": [
          0.55,
          1
         ],
         "fixedrange": true,
         "gridwidth": 2,
         "matches": "x",
         "range": [
          0.12423323809970561,
          0.7067143142132384
         ],
         "showticklabels": false,
         "tickcolor": "white",
         "ticklen": 3,
         "ticks": "outside",
         "title": {
          "text": ""
         },
         "type": "linear",
         "zeroline": false
        },
        "xaxis7": {
         "anchor": "y7",
         "automargin": true,
         "domain": [
          0,
          0.45
         ],
         "fixedrange": true,
         "gridwidth": 2,
         "matches": "x",
         "range": [
          0.12423323809970561,
          0.7067143142132384
         ],
         "showticklabels": false,
         "tickcolor": "white",
         "ticklen": 3,
         "ticks": "outside",
         "title": {
          "text": ""
         },
         "type": "linear",
         "zeroline": false
        },
        "xaxis8": {
         "anchor": "y8",
         "automargin": true,
         "domain": [
          0.55,
          1
         ],
         "fixedrange": true,
         "gridwidth": 2,
         "matches": "x",
         "range": [
          0.12423323809970561,
          0.7067143142132384
         ],
         "showticklabels": false,
         "tickcolor": "white",
         "ticklen": 3,
         "ticks": "outside",
         "title": {
          "text": ""
         },
         "type": "linear",
         "zeroline": false
        },
        "yaxis": {
         "anchor": "x",
         "automargin": true,
         "domain": [
          0,
          0.2125
         ],
         "fixedrange": true,
         "gridwidth": 2,
         "showticklabels": true,
         "tickcolor": "white",
         "ticklen": 10,
         "ticks": "outside",
         "title": {
          "text": ""
         },
         "type": "category"
        },
        "yaxis2": {
         "anchor": "x2",
         "automargin": true,
         "domain": [
          0,
          0.2125
         ],
         "fixedrange": true,
         "gridwidth": 2,
         "showticklabels": true,
         "tickcolor": "white",
         "ticklen": 10,
         "ticks": "outside",
         "title": {
          "text": ""
         },
         "type": "category"
        },
        "yaxis3": {
         "anchor": "x3",
         "automargin": true,
         "domain": [
          0.2625,
          0.475
         ],
         "fixedrange": true,
         "gridwidth": 2,
         "showticklabels": true,
         "tickcolor": "white",
         "ticklen": 10,
         "ticks": "outside",
         "title": {
          "text": ""
         },
         "type": "category"
        },
        "yaxis4": {
         "anchor": "x4",
         "automargin": true,
         "domain": [
          0.2625,
          0.475
         ],
         "fixedrange": true,
         "gridwidth": 2,
         "showticklabels": true,
         "tickcolor": "white",
         "ticklen": 10,
         "ticks": "outside",
         "title": {
          "text": ""
         },
         "type": "category"
        },
        "yaxis5": {
         "anchor": "x5",
         "automargin": true,
         "domain": [
          0.525,
          0.7375
         ],
         "fixedrange": true,
         "gridwidth": 2,
         "showticklabels": true,
         "tickcolor": "white",
         "ticklen": 10,
         "ticks": "outside",
         "title": {
          "text": ""
         },
         "type": "category"
        },
        "yaxis6": {
         "anchor": "x6",
         "automargin": true,
         "domain": [
          0.525,
          0.7375
         ],
         "fixedrange": true,
         "gridwidth": 2,
         "showticklabels": true,
         "tickcolor": "white",
         "ticklen": 10,
         "ticks": "outside",
         "title": {
          "text": ""
         },
         "type": "category"
        },
        "yaxis7": {
         "anchor": "x7",
         "automargin": true,
         "domain": [
          0.7875,
          1
         ],
         "fixedrange": true,
         "gridwidth": 2,
         "showticklabels": true,
         "tickcolor": "white",
         "ticklen": 10,
         "ticks": "outside",
         "title": {
          "text": ""
         },
         "type": "category"
        },
        "yaxis8": {
         "anchor": "x8",
         "automargin": true,
         "domain": [
          0.7875,
          1
         ],
         "fixedrange": true,
         "gridwidth": 2,
         "showticklabels": true,
         "tickcolor": "white",
         "ticklen": 10,
         "ticks": "outside",
         "title": {
          "text": ""
         },
         "type": "category"
        }
       }
      }
     },
     "metadata": {},
     "output_type": "display_data"
    }
   ],
   "source": [
    "exp = dx.Explainer(model, X_train, y_train, label=\"Logistic Regression\")\n",
    "\n",
    "obs = X_train.iloc[2]\n",
    "\n",
    "pcp = exp.predict_profile(obs)\n",
    "\n",
    "pcp.plot(variables=[\"city_development_index\", \"training_hours\"])\n",
    "\n",
    "pcp.plot(variables=[\"gender\", \"relevent_experience\", \"enrolled_university\", \"education_level\", \"major_discipline\", \"experience\", \"comapny_size\", \"company_type\", \"last_new_job\"], variable_type = \"categorical\")"
   ]
  },
  {
   "cell_type": "code",
   "execution_count": 1031,
   "metadata": {},
   "outputs": [
    {
     "name": "stdout",
     "output_type": "stream",
     "text": [
      "{'Female': 0, 'Male': 1, 'No data': 2, 'Other': 3}\n"
     ]
    }
   ],
   "source": [
    "gender_encoder = LabelEncoder().fit(sampled_df['gender'])\n",
    "print(dict(zip(gender_encoder.classes_, gender_encoder.transform(gender_encoder.classes_))))"
   ]
  },
  {
   "cell_type": "code",
   "execution_count": 1032,
   "metadata": {},
   "outputs": [
    {
     "name": "stdout",
     "output_type": "stream",
     "text": [
      "{'Has relevent experience': 0, 'No relevent experience': 1}\n"
     ]
    }
   ],
   "source": [
    "relevent_experience_encoder = LabelEncoder().fit(sampled_df['relevent_experience'])\n",
    "print(dict(zip(relevent_experience_encoder.classes_, relevent_experience_encoder.transform(relevent_experience_encoder.classes_))))"
   ]
  },
  {
   "cell_type": "code",
   "execution_count": 1033,
   "metadata": {},
   "outputs": [
    {
     "name": "stdout",
     "output_type": "stream",
     "text": [
      "{'Full time course': 0, 'Part time course': 1, 'no_enrollment': 2, nan: 3}\n"
     ]
    }
   ],
   "source": [
    "university_encoder = LabelEncoder().fit(df['enrolled_university'])\n",
    "print(dict(zip(university_encoder.classes_, university_encoder.transform(university_encoder.classes_))))"
   ]
  },
  {
   "cell_type": "code",
   "execution_count": 1034,
   "metadata": {},
   "outputs": [
    {
     "name": "stdout",
     "output_type": "stream",
     "text": [
      "{'Graduate': 0, 'High School': 1, 'Masters': 2, 'Phd': 3, 'Primary School': 4, nan: 5}\n"
     ]
    }
   ],
   "source": [
    "education_encoder = LabelEncoder().fit(df['education_level'])\n",
    "print(dict(zip(education_encoder.classes_, education_encoder.transform(education_encoder.classes_))))"
   ]
  },
  {
   "cell_type": "code",
   "execution_count": 1035,
   "metadata": {},
   "outputs": [
    {
     "name": "stdout",
     "output_type": "stream",
     "text": [
      "{'Arts': 0, 'Business Degree': 1, 'Humanities': 2, 'No Major': 3, 'Other': 4, 'STEM': 5, nan: 6}\n"
     ]
    }
   ],
   "source": [
    "discipline_encoder = LabelEncoder().fit(df['major_discipline'])\n",
    "print(dict(zip(discipline_encoder.classes_, discipline_encoder.transform(discipline_encoder.classes_))))"
   ]
  },
  {
   "cell_type": "code",
   "execution_count": 1036,
   "metadata": {},
   "outputs": [
    {
     "name": "stdout",
     "output_type": "stream",
     "text": [
      "{'1': 0, '10': 1, '11': 2, '12': 3, '13': 4, '14': 5, '15': 6, '16': 7, '17': 8, '18': 9, '19': 10, '2': 11, '20': 12, '3': 13, '4': 14, '5': 15, '6': 16, '7': 17, '8': 18, '9': 19, '<1': 20, '>20': 21, nan: 22}\n"
     ]
    }
   ],
   "source": [
    "experience_encoder = LabelEncoder().fit(df['experience'])\n",
    "print(dict(zip(experience_encoder.classes_, experience_encoder.transform(experience_encoder.classes_))))"
   ]
  },
  {
   "cell_type": "code",
   "execution_count": 1037,
   "metadata": {},
   "outputs": [
    {
     "name": "stdout",
     "output_type": "stream",
     "text": [
      "{'10/49': 0, '100-500': 1, '1000-4999': 2, '10000+': 3, '50-99': 4, '500-999': 5, '5000-9999': 6, '<10': 7, nan: 8}\n"
     ]
    }
   ],
   "source": [
    "company_size_encoder = LabelEncoder().fit(df['company_size'])\n",
    "print(dict(zip(company_size_encoder.classes_, company_size_encoder.transform(company_size_encoder.classes_))))"
   ]
  },
  {
   "cell_type": "code",
   "execution_count": 1038,
   "metadata": {},
   "outputs": [
    {
     "name": "stdout",
     "output_type": "stream",
     "text": [
      "{'Early Stage Startup': 0, 'Funded Startup': 1, 'NGO': 2, 'Other': 3, 'Public Sector': 4, 'Pvt Ltd': 5, nan: 6}\n"
     ]
    }
   ],
   "source": [
    "comapny_type_encoder = LabelEncoder().fit(df['company_type'])\n",
    "print(dict(zip(comapny_type_encoder.classes_, comapny_type_encoder.transform(comapny_type_encoder.classes_))))"
   ]
  },
  {
   "cell_type": "code",
   "execution_count": 1039,
   "metadata": {},
   "outputs": [
    {
     "name": "stdout",
     "output_type": "stream",
     "text": [
      "{'1': 0, '2': 1, '3': 2, '4': 3, '>4': 4, 'never': 5, nan: 6}\n"
     ]
    }
   ],
   "source": [
    "job_encoder = LabelEncoder().fit(df['last_new_job'])\n",
    "print(dict(zip(job_encoder.classes_, job_encoder.transform(job_encoder.classes_))))"
   ]
  },
  {
   "cell_type": "markdown",
   "metadata": {},
   "source": [
    "Wykresy częściowej zależności (PDP)"
   ]
  },
  {
   "cell_type": "code",
   "execution_count": 1040,
   "metadata": {},
   "outputs": [
    {
     "name": "stderr",
     "output_type": "stream",
     "text": [
      "Calculating ceteris paribus: 100%|██████████| 1/1 [00:00<00:00, 12.25it/s]\n"
     ]
    },
    {
     "data": {
      "application/vnd.plotly.v1+json": {
       "config": {
        "displaylogo": false,
        "modeBarButtonsToRemove": [
         "sendDataToCloud",
         "lasso2d",
         "autoScale2d",
         "select2d",
         "zoom2d",
         "pan2d",
         "zoomIn2d",
         "zoomOut2d",
         "resetScale2d",
         "toggleSpikelines",
         "hoverCompareCartesian",
         "hoverClosestCartesian"
        ],
        "plotlyServerURL": "https://plot.ly",
        "staticPlot": false,
        "toImageButtonOptions": {
         "height": null,
         "width": null
        }
       },
       "data": [
        {
         "customdata": [
          [
           0.2512364933200414,
           "Logistic Regression",
           "training_hours"
          ],
          [
           0.2512364933200414,
           "Logistic Regression",
           "training_hours"
          ],
          [
           0.2512364933200414,
           "Logistic Regression",
           "training_hours"
          ],
          [
           0.2512364933200414,
           "Logistic Regression",
           "training_hours"
          ],
          [
           0.2512364933200414,
           "Logistic Regression",
           "training_hours"
          ],
          [
           0.2512364933200414,
           "Logistic Regression",
           "training_hours"
          ],
          [
           0.2512364933200414,
           "Logistic Regression",
           "training_hours"
          ],
          [
           0.2512364933200414,
           "Logistic Regression",
           "training_hours"
          ],
          [
           0.2512364933200414,
           "Logistic Regression",
           "training_hours"
          ],
          [
           0.2512364933200414,
           "Logistic Regression",
           "training_hours"
          ],
          [
           0.2512364933200414,
           "Logistic Regression",
           "training_hours"
          ],
          [
           0.2512364933200414,
           "Logistic Regression",
           "training_hours"
          ],
          [
           0.2512364933200414,
           "Logistic Regression",
           "training_hours"
          ],
          [
           0.2512364933200414,
           "Logistic Regression",
           "training_hours"
          ],
          [
           0.2512364933200414,
           "Logistic Regression",
           "training_hours"
          ],
          [
           0.2512364933200414,
           "Logistic Regression",
           "training_hours"
          ],
          [
           0.2512364933200414,
           "Logistic Regression",
           "training_hours"
          ],
          [
           0.2512364933200414,
           "Logistic Regression",
           "training_hours"
          ],
          [
           0.2512364933200414,
           "Logistic Regression",
           "training_hours"
          ],
          [
           0.2512364933200414,
           "Logistic Regression",
           "training_hours"
          ],
          [
           0.2512364933200414,
           "Logistic Regression",
           "training_hours"
          ],
          [
           0.2512364933200414,
           "Logistic Regression",
           "training_hours"
          ],
          [
           0.2512364933200414,
           "Logistic Regression",
           "training_hours"
          ],
          [
           0.2512364933200414,
           "Logistic Regression",
           "training_hours"
          ],
          [
           0.2512364933200414,
           "Logistic Regression",
           "training_hours"
          ],
          [
           0.2512364933200414,
           "Logistic Regression",
           "training_hours"
          ],
          [
           0.2512364933200414,
           "Logistic Regression",
           "training_hours"
          ],
          [
           0.2512364933200414,
           "Logistic Regression",
           "training_hours"
          ],
          [
           0.2512364933200414,
           "Logistic Regression",
           "training_hours"
          ],
          [
           0.2512364933200414,
           "Logistic Regression",
           "training_hours"
          ],
          [
           0.2512364933200414,
           "Logistic Regression",
           "training_hours"
          ],
          [
           0.2512364933200414,
           "Logistic Regression",
           "training_hours"
          ],
          [
           0.2512364933200414,
           "Logistic Regression",
           "training_hours"
          ],
          [
           0.2512364933200414,
           "Logistic Regression",
           "training_hours"
          ],
          [
           0.2512364933200414,
           "Logistic Regression",
           "training_hours"
          ],
          [
           0.2512364933200414,
           "Logistic Regression",
           "training_hours"
          ],
          [
           0.2512364933200414,
           "Logistic Regression",
           "training_hours"
          ],
          [
           0.2512364933200414,
           "Logistic Regression",
           "training_hours"
          ],
          [
           0.2512364933200414,
           "Logistic Regression",
           "training_hours"
          ],
          [
           0.2512364933200414,
           "Logistic Regression",
           "training_hours"
          ],
          [
           0.2512364933200414,
           "Logistic Regression",
           "training_hours"
          ],
          [
           0.2512364933200414,
           "Logistic Regression",
           "training_hours"
          ],
          [
           0.2512364933200414,
           "Logistic Regression",
           "training_hours"
          ],
          [
           0.2512364933200414,
           "Logistic Regression",
           "training_hours"
          ],
          [
           0.2512364933200414,
           "Logistic Regression",
           "training_hours"
          ],
          [
           0.2512364933200414,
           "Logistic Regression",
           "training_hours"
          ],
          [
           0.2512364933200414,
           "Logistic Regression",
           "training_hours"
          ],
          [
           0.2512364933200414,
           "Logistic Regression",
           "training_hours"
          ],
          [
           0.2512364933200414,
           "Logistic Regression",
           "training_hours"
          ],
          [
           0.2512364933200414,
           "Logistic Regression",
           "training_hours"
          ],
          [
           0.2512364933200414,
           "Logistic Regression",
           "training_hours"
          ],
          [
           0.2512364933200414,
           "Logistic Regression",
           "training_hours"
          ],
          [
           0.2512364933200414,
           "Logistic Regression",
           "training_hours"
          ],
          [
           0.2512364933200414,
           "Logistic Regression",
           "training_hours"
          ],
          [
           0.2512364933200414,
           "Logistic Regression",
           "training_hours"
          ],
          [
           0.2512364933200414,
           "Logistic Regression",
           "training_hours"
          ],
          [
           0.2512364933200414,
           "Logistic Regression",
           "training_hours"
          ],
          [
           0.2512364933200414,
           "Logistic Regression",
           "training_hours"
          ],
          [
           0.2512364933200414,
           "Logistic Regression",
           "training_hours"
          ],
          [
           0.2512364933200414,
           "Logistic Regression",
           "training_hours"
          ],
          [
           0.2512364933200414,
           "Logistic Regression",
           "training_hours"
          ],
          [
           0.2512364933200414,
           "Logistic Regression",
           "training_hours"
          ],
          [
           0.2512364933200414,
           "Logistic Regression",
           "training_hours"
          ],
          [
           0.2512364933200414,
           "Logistic Regression",
           "training_hours"
          ],
          [
           0.2512364933200414,
           "Logistic Regression",
           "training_hours"
          ],
          [
           0.2512364933200414,
           "Logistic Regression",
           "training_hours"
          ],
          [
           0.2512364933200414,
           "Logistic Regression",
           "training_hours"
          ],
          [
           0.2512364933200414,
           "Logistic Regression",
           "training_hours"
          ],
          [
           0.2512364933200414,
           "Logistic Regression",
           "training_hours"
          ],
          [
           0.2512364933200414,
           "Logistic Regression",
           "training_hours"
          ],
          [
           0.2512364933200414,
           "Logistic Regression",
           "training_hours"
          ],
          [
           0.2512364933200414,
           "Logistic Regression",
           "training_hours"
          ],
          [
           0.2512364933200414,
           "Logistic Regression",
           "training_hours"
          ],
          [
           0.2512364933200414,
           "Logistic Regression",
           "training_hours"
          ],
          [
           0.2512364933200414,
           "Logistic Regression",
           "training_hours"
          ],
          [
           0.2512364933200414,
           "Logistic Regression",
           "training_hours"
          ],
          [
           0.2512364933200414,
           "Logistic Regression",
           "training_hours"
          ],
          [
           0.2512364933200414,
           "Logistic Regression",
           "training_hours"
          ],
          [
           0.2512364933200414,
           "Logistic Regression",
           "training_hours"
          ],
          [
           0.2512364933200414,
           "Logistic Regression",
           "training_hours"
          ],
          [
           0.2512364933200414,
           "Logistic Regression",
           "training_hours"
          ],
          [
           0.2512364933200414,
           "Logistic Regression",
           "training_hours"
          ],
          [
           0.2512364933200414,
           "Logistic Regression",
           "training_hours"
          ],
          [
           0.2512364933200414,
           "Logistic Regression",
           "training_hours"
          ],
          [
           0.2512364933200414,
           "Logistic Regression",
           "training_hours"
          ],
          [
           0.2512364933200414,
           "Logistic Regression",
           "training_hours"
          ],
          [
           0.2512364933200414,
           "Logistic Regression",
           "training_hours"
          ],
          [
           0.2512364933200414,
           "Logistic Regression",
           "training_hours"
          ],
          [
           0.2512364933200414,
           "Logistic Regression",
           "training_hours"
          ],
          [
           0.2512364933200414,
           "Logistic Regression",
           "training_hours"
          ],
          [
           0.2512364933200414,
           "Logistic Regression",
           "training_hours"
          ],
          [
           0.2512364933200414,
           "Logistic Regression",
           "training_hours"
          ],
          [
           0.2512364933200414,
           "Logistic Regression",
           "training_hours"
          ],
          [
           0.2512364933200414,
           "Logistic Regression",
           "training_hours"
          ],
          [
           0.2512364933200414,
           "Logistic Regression",
           "training_hours"
          ],
          [
           0.2512364933200414,
           "Logistic Regression",
           "training_hours"
          ],
          [
           0.2512364933200414,
           "Logistic Regression",
           "training_hours"
          ],
          [
           0.2512364933200414,
           "Logistic Regression",
           "training_hours"
          ],
          [
           0.2512364933200414,
           "Logistic Regression",
           "training_hours"
          ],
          [
           0.2512364933200414,
           "Logistic Regression",
           "training_hours"
          ],
          [
           0.2512364933200414,
           "Logistic Regression",
           "training_hours"
          ]
         ],
         "hovertemplate": "<b>%{hovertext}</b><br><br>prediction=%{y:.3f}<br>mean_prediction=%{customdata[0]:.3f}<extra></extra>",
         "hovertext": [
          "Logistic Regression",
          "Logistic Regression",
          "Logistic Regression",
          "Logistic Regression",
          "Logistic Regression",
          "Logistic Regression",
          "Logistic Regression",
          "Logistic Regression",
          "Logistic Regression",
          "Logistic Regression",
          "Logistic Regression",
          "Logistic Regression",
          "Logistic Regression",
          "Logistic Regression",
          "Logistic Regression",
          "Logistic Regression",
          "Logistic Regression",
          "Logistic Regression",
          "Logistic Regression",
          "Logistic Regression",
          "Logistic Regression",
          "Logistic Regression",
          "Logistic Regression",
          "Logistic Regression",
          "Logistic Regression",
          "Logistic Regression",
          "Logistic Regression",
          "Logistic Regression",
          "Logistic Regression",
          "Logistic Regression",
          "Logistic Regression",
          "Logistic Regression",
          "Logistic Regression",
          "Logistic Regression",
          "Logistic Regression",
          "Logistic Regression",
          "Logistic Regression",
          "Logistic Regression",
          "Logistic Regression",
          "Logistic Regression",
          "Logistic Regression",
          "Logistic Regression",
          "Logistic Regression",
          "Logistic Regression",
          "Logistic Regression",
          "Logistic Regression",
          "Logistic Regression",
          "Logistic Regression",
          "Logistic Regression",
          "Logistic Regression",
          "Logistic Regression",
          "Logistic Regression",
          "Logistic Regression",
          "Logistic Regression",
          "Logistic Regression",
          "Logistic Regression",
          "Logistic Regression",
          "Logistic Regression",
          "Logistic Regression",
          "Logistic Regression",
          "Logistic Regression",
          "Logistic Regression",
          "Logistic Regression",
          "Logistic Regression",
          "Logistic Regression",
          "Logistic Regression",
          "Logistic Regression",
          "Logistic Regression",
          "Logistic Regression",
          "Logistic Regression",
          "Logistic Regression",
          "Logistic Regression",
          "Logistic Regression",
          "Logistic Regression",
          "Logistic Regression",
          "Logistic Regression",
          "Logistic Regression",
          "Logistic Regression",
          "Logistic Regression",
          "Logistic Regression",
          "Logistic Regression",
          "Logistic Regression",
          "Logistic Regression",
          "Logistic Regression",
          "Logistic Regression",
          "Logistic Regression",
          "Logistic Regression",
          "Logistic Regression",
          "Logistic Regression",
          "Logistic Regression",
          "Logistic Regression",
          "Logistic Regression",
          "Logistic Regression",
          "Logistic Regression",
          "Logistic Regression",
          "Logistic Regression",
          "Logistic Regression",
          "Logistic Regression",
          "Logistic Regression",
          "Logistic Regression",
          "Logistic Regression"
         ],
         "legendgroup": "Logistic Regression",
         "line": {
          "color": "#46bac2",
          "dash": "solid",
          "width": 2
         },
         "marker": {
          "symbol": "circle"
         },
         "mode": "lines",
         "name": "Logistic Regression",
         "opacity": 1,
         "orientation": "v",
         "showlegend": true,
         "type": "scatter",
         "x": [
          2,
          5.3,
          8.6,
          11.899999999999999,
          15.2,
          18.5,
          21.799999999999997,
          25.099999999999998,
          28.4,
          31.7,
          35,
          38.3,
          41.599999999999994,
          44.9,
          48.199999999999996,
          51.5,
          54.8,
          58.099999999999994,
          61.4,
          64.69999999999999,
          68,
          71.3,
          74.6,
          77.89999999999999,
          81.19999999999999,
          84.5,
          87.8,
          91.1,
          94.39999999999999,
          97.69999999999999,
          101,
          104.3,
          107.6,
          110.89999999999999,
          114.19999999999999,
          117.5,
          120.8,
          124.1,
          127.39999999999999,
          130.7,
          134,
          137.29999999999998,
          140.6,
          143.9,
          147.2,
          150.5,
          153.79999999999998,
          157.1,
          160.39999999999998,
          163.7,
          167,
          170.29999999999998,
          173.6,
          176.89999999999998,
          180.2,
          183.5,
          186.79999999999998,
          190.1,
          193.39999999999998,
          196.7,
          200,
          203.29999999999998,
          206.6,
          209.89999999999998,
          213.2,
          216.5,
          219.79999999999998,
          223.1,
          226.39999999999998,
          229.7,
          233,
          236.29999999999998,
          239.6,
          242.89999999999998,
          246.2,
          249.5,
          252.79999999999998,
          256.1,
          259.4,
          262.7,
          266,
          269.3,
          272.59999999999997,
          275.9,
          279.2,
          282.5,
          285.8,
          289.09999999999997,
          292.4,
          295.7,
          299,
          302.3,
          305.59999999999997,
          308.9,
          312.2,
          315.5,
          318.79999999999995,
          322.09999999999997,
          325.4,
          328.7,
          332
         ],
         "xaxis": "x",
         "y": [
          0.2445117708555768,
          0.24482527660871625,
          0.24513902332738696,
          0.24545301089179938,
          0.24576723918155172,
          0.24608170807562957,
          0.24639641745240562,
          0.24671136718963974,
          0.24702655716447855,
          0.24734198725345535,
          0.24765765733248998,
          0.24797356727688855,
          0.2482897169613433,
          0.2486061062599325,
          0.24892273504612017,
          0.2492396031927559,
          0.24955671057207482,
          0.24987405705569732,
          0.25019164251462894,
          0.2505094668192601,
          0.2508275298393661,
          0.25114583144410685,
          0.2514643715020267,
          0.25178314988105444,
          0.2521021664485029,
          0.2524214210710691,
          0.25274091361483364,
          0.253060643945261,
          0.25338061192719946,
          0.2537008174248804,
          0.25402126030191835,
          0.25434194042131153,
          0.2546628576454406,
          0.25498401183606945,
          0.2553054028543444,
          0.25562703056079444,
          0.25594889481533123,
          0.25627099547724846,
          0.256593332405222,
          0.2569159054573099,
          0.25723871449095215,
          0.2575617593629704,
          0.25788503992956807,
          0.25820855604633003,
          0.2585323075682227,
          0.2588562943495937,
          0.2591805162441719,
          0.25950497310506715,
          0.2598296647847703,
          0.26015459113515316,
          0.260479752007468,
          0.26080514725234777,
          0.2611307767198062,
          0.26145664025923715,
          0.2617827377194148,
          0.2621090689484935,
          0.2624356337940078,
          0.2627624321028721,
          0.2630894637213808,
          0.263416728495208,
          0.2637442262694074,
          0.26407195688841256,
          0.26439992019603625,
          0.26472811603547075,
          0.26505654424928776,
          0.26538520467943805,
          0.2657140971672516,
          0.2660432215534373,
          0.2663725776780832,
          0.2667021653806562,
          0.267031984500002,
          0.26736203487434473,
          0.26769231634128765,
          0.26802282873781214,
          0.26835357190027836,
          0.26868454566442473,
          0.26901574986536814,
          0.26934718433760363,
          0.26967884891500443,
          0.27001074343082193,
          0.2703428677176856,
          0.27067522160760304,
          0.2710078049319595,
          0.2713406175215183,
          0.27167365920642045,
          0.27200692981618485,
          0.27234042917970797,
          0.272674157125264,
          0.27300811348050463,
          0.27334229807245913,
          0.27367671072753424,
          0.2740113512715141,
          0.27434621952956023,
          0.27468131532621143,
          0.2750166384853838,
          0.2753521888303709,
          0.27568796618384295,
          0.2760239703678478,
          0.2763602012038103,
          0.2766966585125321,
          0.2770333421141923
         ],
         "yaxis": "y"
        }
       ],
       "layout": {
        "annotations": [
         {
          "font": {
           "size": 13
          },
          "showarrow": false,
          "text": "training_hours",
          "x": 0.5,
          "xanchor": "center",
          "xref": "paper",
          "y": 1,
          "yanchor": "bottom",
          "yref": "paper"
         },
         {
          "font": {
           "size": 13
          },
          "showarrow": false,
          "text": "prediction",
          "textangle": -90,
          "x": -0.07,
          "xref": "paper",
          "y": 0.5,
          "yref": "paper"
         }
        ],
        "font": {
         "color": "#371ea3"
        },
        "height": 489,
        "hovermode": "x unified",
        "legend": {
         "font": {
          "size": 11
         },
         "itemsizing": "constant",
         "orientation": "h",
         "title": {
          "font": {
           "size": 12
          },
          "text": "label"
         },
         "tracegroupgap": 0,
         "x": 1,
         "xanchor": "right",
         "y": 1.0613496932515338,
         "yanchor": "bottom"
        },
        "margin": {
         "b": 71,
         "r": 30,
         "t": 78
        },
        "template": {
         "data": {
          "scatter": [
           {
            "type": "scatter"
           }
          ]
         }
        },
        "title": {
         "font": {
          "size": 16
         },
         "text": "Aggregated Profiles",
         "x": 0.15
        },
        "xaxis": {
         "anchor": "y",
         "automargin": true,
         "domain": [
          0,
          1
         ],
         "fixedrange": true,
         "gridwidth": 2,
         "showticklabels": true,
         "tickcolor": "white",
         "ticklen": 3,
         "ticks": "outside",
         "title": {
          "text": ""
         },
         "type": "linear",
         "zeroline": false
        },
        "yaxis": {
         "anchor": "x",
         "automargin": true,
         "domain": [
          0,
          1
         ],
         "fixedrange": true,
         "gridwidth": 2,
         "range": [
          0.24125961372971524,
          0.28028549924005386
         ],
         "tickcolor": "white",
         "ticklen": 3,
         "ticks": "outside",
         "title": {
          "text": ""
         },
         "type": "linear",
         "zeroline": false
        }
       }
      }
     },
     "metadata": {},
     "output_type": "display_data"
    }
   ],
   "source": [
    "pdp_training_hours = exp.model_profile(variables=\"training_hours\")\n",
    "pdp_training_hours.plot()"
   ]
  },
  {
   "cell_type": "code",
   "execution_count": 1041,
   "metadata": {},
   "outputs": [
    {
     "name": "stderr",
     "output_type": "stream",
     "text": [
      "Calculating ceteris paribus: 100%|██████████| 1/1 [00:00<00:00, 13.01it/s]\n"
     ]
    },
    {
     "data": {
      "application/vnd.plotly.v1+json": {
       "config": {
        "displaylogo": false,
        "modeBarButtonsToRemove": [
         "sendDataToCloud",
         "lasso2d",
         "autoScale2d",
         "select2d",
         "zoom2d",
         "pan2d",
         "zoomIn2d",
         "zoomOut2d",
         "resetScale2d",
         "toggleSpikelines",
         "hoverCompareCartesian",
         "hoverClosestCartesian"
        ],
        "plotlyServerURL": "https://plot.ly",
        "staticPlot": false,
        "toImageButtonOptions": {
         "height": null,
         "width": null
        }
       },
       "data": [
        {
         "customdata": [
          [
           0.28404432109834704,
           "Logistic Regression",
           "city_development_index"
          ],
          [
           0.28404432109834704,
           "Logistic Regression",
           "city_development_index"
          ],
          [
           0.28404432109834704,
           "Logistic Regression",
           "city_development_index"
          ],
          [
           0.28404432109834704,
           "Logistic Regression",
           "city_development_index"
          ],
          [
           0.28404432109834704,
           "Logistic Regression",
           "city_development_index"
          ],
          [
           0.28404432109834704,
           "Logistic Regression",
           "city_development_index"
          ],
          [
           0.28404432109834704,
           "Logistic Regression",
           "city_development_index"
          ],
          [
           0.28404432109834704,
           "Logistic Regression",
           "city_development_index"
          ],
          [
           0.28404432109834704,
           "Logistic Regression",
           "city_development_index"
          ],
          [
           0.28404432109834704,
           "Logistic Regression",
           "city_development_index"
          ],
          [
           0.28404432109834704,
           "Logistic Regression",
           "city_development_index"
          ],
          [
           0.28404432109834704,
           "Logistic Regression",
           "city_development_index"
          ],
          [
           0.28404432109834704,
           "Logistic Regression",
           "city_development_index"
          ],
          [
           0.28404432109834704,
           "Logistic Regression",
           "city_development_index"
          ],
          [
           0.28404432109834704,
           "Logistic Regression",
           "city_development_index"
          ],
          [
           0.28404432109834704,
           "Logistic Regression",
           "city_development_index"
          ],
          [
           0.28404432109834704,
           "Logistic Regression",
           "city_development_index"
          ],
          [
           0.28404432109834704,
           "Logistic Regression",
           "city_development_index"
          ],
          [
           0.28404432109834704,
           "Logistic Regression",
           "city_development_index"
          ],
          [
           0.28404432109834704,
           "Logistic Regression",
           "city_development_index"
          ],
          [
           0.28404432109834704,
           "Logistic Regression",
           "city_development_index"
          ],
          [
           0.28404432109834704,
           "Logistic Regression",
           "city_development_index"
          ],
          [
           0.28404432109834704,
           "Logistic Regression",
           "city_development_index"
          ],
          [
           0.28404432109834704,
           "Logistic Regression",
           "city_development_index"
          ],
          [
           0.28404432109834704,
           "Logistic Regression",
           "city_development_index"
          ],
          [
           0.28404432109834704,
           "Logistic Regression",
           "city_development_index"
          ],
          [
           0.28404432109834704,
           "Logistic Regression",
           "city_development_index"
          ],
          [
           0.28404432109834704,
           "Logistic Regression",
           "city_development_index"
          ],
          [
           0.28404432109834704,
           "Logistic Regression",
           "city_development_index"
          ],
          [
           0.28404432109834704,
           "Logistic Regression",
           "city_development_index"
          ],
          [
           0.28404432109834704,
           "Logistic Regression",
           "city_development_index"
          ],
          [
           0.28404432109834704,
           "Logistic Regression",
           "city_development_index"
          ],
          [
           0.28404432109834704,
           "Logistic Regression",
           "city_development_index"
          ],
          [
           0.28404432109834704,
           "Logistic Regression",
           "city_development_index"
          ],
          [
           0.28404432109834704,
           "Logistic Regression",
           "city_development_index"
          ],
          [
           0.28404432109834704,
           "Logistic Regression",
           "city_development_index"
          ],
          [
           0.28404432109834704,
           "Logistic Regression",
           "city_development_index"
          ],
          [
           0.28404432109834704,
           "Logistic Regression",
           "city_development_index"
          ],
          [
           0.28404432109834704,
           "Logistic Regression",
           "city_development_index"
          ],
          [
           0.28404432109834704,
           "Logistic Regression",
           "city_development_index"
          ],
          [
           0.28404432109834704,
           "Logistic Regression",
           "city_development_index"
          ],
          [
           0.28404432109834704,
           "Logistic Regression",
           "city_development_index"
          ],
          [
           0.28404432109834704,
           "Logistic Regression",
           "city_development_index"
          ],
          [
           0.28404432109834704,
           "Logistic Regression",
           "city_development_index"
          ],
          [
           0.28404432109834704,
           "Logistic Regression",
           "city_development_index"
          ],
          [
           0.28404432109834704,
           "Logistic Regression",
           "city_development_index"
          ],
          [
           0.28404432109834704,
           "Logistic Regression",
           "city_development_index"
          ],
          [
           0.28404432109834704,
           "Logistic Regression",
           "city_development_index"
          ],
          [
           0.28404432109834704,
           "Logistic Regression",
           "city_development_index"
          ],
          [
           0.28404432109834704,
           "Logistic Regression",
           "city_development_index"
          ],
          [
           0.28404432109834704,
           "Logistic Regression",
           "city_development_index"
          ],
          [
           0.28404432109834704,
           "Logistic Regression",
           "city_development_index"
          ],
          [
           0.28404432109834704,
           "Logistic Regression",
           "city_development_index"
          ],
          [
           0.28404432109834704,
           "Logistic Regression",
           "city_development_index"
          ],
          [
           0.28404432109834704,
           "Logistic Regression",
           "city_development_index"
          ],
          [
           0.28404432109834704,
           "Logistic Regression",
           "city_development_index"
          ],
          [
           0.28404432109834704,
           "Logistic Regression",
           "city_development_index"
          ],
          [
           0.28404432109834704,
           "Logistic Regression",
           "city_development_index"
          ],
          [
           0.28404432109834704,
           "Logistic Regression",
           "city_development_index"
          ],
          [
           0.28404432109834704,
           "Logistic Regression",
           "city_development_index"
          ],
          [
           0.28404432109834704,
           "Logistic Regression",
           "city_development_index"
          ],
          [
           0.28404432109834704,
           "Logistic Regression",
           "city_development_index"
          ],
          [
           0.28404432109834704,
           "Logistic Regression",
           "city_development_index"
          ],
          [
           0.28404432109834704,
           "Logistic Regression",
           "city_development_index"
          ],
          [
           0.28404432109834704,
           "Logistic Regression",
           "city_development_index"
          ],
          [
           0.28404432109834704,
           "Logistic Regression",
           "city_development_index"
          ],
          [
           0.28404432109834704,
           "Logistic Regression",
           "city_development_index"
          ],
          [
           0.28404432109834704,
           "Logistic Regression",
           "city_development_index"
          ],
          [
           0.28404432109834704,
           "Logistic Regression",
           "city_development_index"
          ],
          [
           0.28404432109834704,
           "Logistic Regression",
           "city_development_index"
          ],
          [
           0.28404432109834704,
           "Logistic Regression",
           "city_development_index"
          ],
          [
           0.28404432109834704,
           "Logistic Regression",
           "city_development_index"
          ],
          [
           0.28404432109834704,
           "Logistic Regression",
           "city_development_index"
          ],
          [
           0.28404432109834704,
           "Logistic Regression",
           "city_development_index"
          ],
          [
           0.28404432109834704,
           "Logistic Regression",
           "city_development_index"
          ],
          [
           0.28404432109834704,
           "Logistic Regression",
           "city_development_index"
          ],
          [
           0.28404432109834704,
           "Logistic Regression",
           "city_development_index"
          ],
          [
           0.28404432109834704,
           "Logistic Regression",
           "city_development_index"
          ],
          [
           0.28404432109834704,
           "Logistic Regression",
           "city_development_index"
          ],
          [
           0.28404432109834704,
           "Logistic Regression",
           "city_development_index"
          ],
          [
           0.28404432109834704,
           "Logistic Regression",
           "city_development_index"
          ],
          [
           0.28404432109834704,
           "Logistic Regression",
           "city_development_index"
          ],
          [
           0.28404432109834704,
           "Logistic Regression",
           "city_development_index"
          ],
          [
           0.28404432109834704,
           "Logistic Regression",
           "city_development_index"
          ],
          [
           0.28404432109834704,
           "Logistic Regression",
           "city_development_index"
          ],
          [
           0.28404432109834704,
           "Logistic Regression",
           "city_development_index"
          ],
          [
           0.28404432109834704,
           "Logistic Regression",
           "city_development_index"
          ],
          [
           0.28404432109834704,
           "Logistic Regression",
           "city_development_index"
          ],
          [
           0.28404432109834704,
           "Logistic Regression",
           "city_development_index"
          ],
          [
           0.28404432109834704,
           "Logistic Regression",
           "city_development_index"
          ],
          [
           0.28404432109834704,
           "Logistic Regression",
           "city_development_index"
          ],
          [
           0.28404432109834704,
           "Logistic Regression",
           "city_development_index"
          ],
          [
           0.28404432109834704,
           "Logistic Regression",
           "city_development_index"
          ],
          [
           0.28404432109834704,
           "Logistic Regression",
           "city_development_index"
          ],
          [
           0.28404432109834704,
           "Logistic Regression",
           "city_development_index"
          ],
          [
           0.28404432109834704,
           "Logistic Regression",
           "city_development_index"
          ],
          [
           0.28404432109834704,
           "Logistic Regression",
           "city_development_index"
          ],
          [
           0.28404432109834704,
           "Logistic Regression",
           "city_development_index"
          ],
          [
           0.28404432109834704,
           "Logistic Regression",
           "city_development_index"
          ],
          [
           0.28404432109834704,
           "Logistic Regression",
           "city_development_index"
          ],
          [
           0.28404432109834704,
           "Logistic Regression",
           "city_development_index"
          ]
         ],
         "hovertemplate": "<b>%{hovertext}</b><br><br>prediction=%{y:.3f}<br>mean_prediction=%{customdata[0]:.3f}<extra></extra>",
         "hovertext": [
          "Logistic Regression",
          "Logistic Regression",
          "Logistic Regression",
          "Logistic Regression",
          "Logistic Regression",
          "Logistic Regression",
          "Logistic Regression",
          "Logistic Regression",
          "Logistic Regression",
          "Logistic Regression",
          "Logistic Regression",
          "Logistic Regression",
          "Logistic Regression",
          "Logistic Regression",
          "Logistic Regression",
          "Logistic Regression",
          "Logistic Regression",
          "Logistic Regression",
          "Logistic Regression",
          "Logistic Regression",
          "Logistic Regression",
          "Logistic Regression",
          "Logistic Regression",
          "Logistic Regression",
          "Logistic Regression",
          "Logistic Regression",
          "Logistic Regression",
          "Logistic Regression",
          "Logistic Regression",
          "Logistic Regression",
          "Logistic Regression",
          "Logistic Regression",
          "Logistic Regression",
          "Logistic Regression",
          "Logistic Regression",
          "Logistic Regression",
          "Logistic Regression",
          "Logistic Regression",
          "Logistic Regression",
          "Logistic Regression",
          "Logistic Regression",
          "Logistic Regression",
          "Logistic Regression",
          "Logistic Regression",
          "Logistic Regression",
          "Logistic Regression",
          "Logistic Regression",
          "Logistic Regression",
          "Logistic Regression",
          "Logistic Regression",
          "Logistic Regression",
          "Logistic Regression",
          "Logistic Regression",
          "Logistic Regression",
          "Logistic Regression",
          "Logistic Regression",
          "Logistic Regression",
          "Logistic Regression",
          "Logistic Regression",
          "Logistic Regression",
          "Logistic Regression",
          "Logistic Regression",
          "Logistic Regression",
          "Logistic Regression",
          "Logistic Regression",
          "Logistic Regression",
          "Logistic Regression",
          "Logistic Regression",
          "Logistic Regression",
          "Logistic Regression",
          "Logistic Regression",
          "Logistic Regression",
          "Logistic Regression",
          "Logistic Regression",
          "Logistic Regression",
          "Logistic Regression",
          "Logistic Regression",
          "Logistic Regression",
          "Logistic Regression",
          "Logistic Regression",
          "Logistic Regression",
          "Logistic Regression",
          "Logistic Regression",
          "Logistic Regression",
          "Logistic Regression",
          "Logistic Regression",
          "Logistic Regression",
          "Logistic Regression",
          "Logistic Regression",
          "Logistic Regression",
          "Logistic Regression",
          "Logistic Regression",
          "Logistic Regression",
          "Logistic Regression",
          "Logistic Regression",
          "Logistic Regression",
          "Logistic Regression",
          "Logistic Regression",
          "Logistic Regression",
          "Logistic Regression",
          "Logistic Regression"
         ],
         "legendgroup": "Logistic Regression",
         "line": {
          "color": "#46bac2",
          "dash": "solid",
          "width": 2
         },
         "marker": {
          "symbol": "circle"
         },
         "mode": "lines",
         "name": "Logistic Regression",
         "opacity": 1,
         "orientation": "v",
         "showlegend": true,
         "type": "scatter",
         "x": [
          0.479,
          0.48369999999999996,
          0.4884,
          0.4931,
          0.49779999999999996,
          0.5025,
          0.5072,
          0.5119,
          0.5166,
          0.5213,
          0.526,
          0.5307,
          0.5354,
          0.5401,
          0.5448,
          0.5495,
          0.5542,
          0.5589,
          0.5636,
          0.5683,
          0.573,
          0.5777,
          0.5824,
          0.5871,
          0.5918,
          0.5964999999999999,
          0.6012,
          0.6059,
          0.6106,
          0.6153,
          0.62,
          0.6246999999999999,
          0.6294,
          0.6341,
          0.6387999999999999,
          0.6435,
          0.6481999999999999,
          0.6528999999999999,
          0.6576,
          0.6622999999999999,
          0.6669999999999999,
          0.6717,
          0.6763999999999999,
          0.6810999999999999,
          0.6858,
          0.6904999999999999,
          0.6951999999999999,
          0.6999,
          0.7045999999999999,
          0.7092999999999999,
          0.714,
          0.7186999999999999,
          0.7233999999999999,
          0.7281,
          0.7327999999999999,
          0.7374999999999999,
          0.7422,
          0.7468999999999999,
          0.7515999999999999,
          0.7563,
          0.7609999999999999,
          0.7656999999999999,
          0.7704,
          0.7750999999999999,
          0.7797999999999999,
          0.7845,
          0.7891999999999999,
          0.7938999999999999,
          0.7986,
          0.8032999999999999,
          0.8079999999999999,
          0.8127,
          0.8173999999999999,
          0.8220999999999999,
          0.8268,
          0.8314999999999999,
          0.8361999999999999,
          0.8409,
          0.8455999999999999,
          0.8503,
          0.855,
          0.8596999999999999,
          0.8644,
          0.8691,
          0.8737999999999999,
          0.8785,
          0.8832,
          0.8878999999999999,
          0.8926,
          0.8973,
          0.9019999999999999,
          0.9066999999999998,
          0.9114,
          0.9160999999999999,
          0.9207999999999998,
          0.9255,
          0.9301999999999999,
          0.9348999999999998,
          0.9396,
          0.9442999999999999,
          0.949
         ],
         "xaxis": "x",
         "y": [
          0.673340035175459,
          0.6679272075847478,
          0.6624760389337674,
          0.6569876393139712,
          0.6514631474734828,
          0.645903730029837,
          0.6403105806423965,
          0.6346849191452832,
          0.6290279906417537,
          0.6233410645610381,
          0.6176254336787618,
          0.6118824131021564,
          0.6061133392213677,
          0.6003195686282654,
          0.5945024770042515,
          0.5886634579786643,
          0.5828039219594675,
          0.5769252949380084,
          0.5710290172697149,
          0.5651165424326989,
          0.5591893357663023,
          0.5532488731917128,
          0.5472966399168487,
          0.5413341291277705,
          0.5353628406689502,
          0.5293842797147792,
          0.5233999554347335,
          0.5174113796546692,
          0.5114200655167341,
          0.5054275261404096,
          0.49943527328720516,
          0.493444816031527,
          0.48745765944022956,
          0.4814753032633423,
          0.4754992406384283,
          0.4695309568109901,
          0.4635719278732885,
          0.4576236195238713,
          0.4516874858500442,
          0.4457649681354254,
          0.43985749369464067,
          0.43396647473711314,
          0.4280933072617925,
          0.42223936998455663,
          0.4164060232998942,
          0.4105946082783507,
          0.4048064457010859,
          0.3990428351327589,
          0.39330505403381066,
          0.3875943569130783,
          0.3819119745215301,
          0.3762591130877654,
          0.37063695359578297,
          0.3650466511053825,
          0.3594893341154193,
          0.35396610397000383,
          0.34847803430760343,
          0.34302617055287765,
          0.3376115294509597,
          0.33223509864378314,
          0.326897836287943,
          0.3216006707134839,
          0.3163445001229176,
          0.31113019232968253,
          0.3059585845351896,
          0.30083048314353106,
          0.29574666361286606,
          0.2907078703424558,
          0.28571481659427533,
          0.2807681844480988,
          0.27586862478893204,
          0.271016757325651,
          0.26621317063969546,
          0.2614584222626674,
          0.2567530387816902,
          0.2520975159713953,
          0.24749231895142074,
          0.242937882368332,
          0.23843461060089643,
          0.23398287798767878,
          0.22958302907595737,
          0.22523537889099537,
          0.2209402132247412,
          0.2166977889430721,
          0.21250833431073246,
          0.2083720493331597,
          0.20428910611443185,
          0.20025964923060524,
          0.19628379611775085,
          0.19236163747403368,
          0.18849323767520898,
          0.18467863520294295,
          0.18091784308539233,
          0.17721084934950268,
          0.17355761748450368,
          0.16995808691610495,
          0.16641217349090592,
          0.16291976997054558,
          0.15948074653513244,
          0.15609495129549586,
          0.1527622108138039
         ],
         "yaxis": "y"
        }
       ],
       "layout": {
        "annotations": [
         {
          "font": {
           "size": 13
          },
          "showarrow": false,
          "text": "city_development_index",
          "x": 0.5,
          "xanchor": "center",
          "xref": "paper",
          "y": 1,
          "yanchor": "bottom",
          "yref": "paper"
         },
         {
          "font": {
           "size": 13
          },
          "showarrow": false,
          "text": "prediction",
          "textangle": -90,
          "x": -0.07,
          "xref": "paper",
          "y": 0.5,
          "yref": "paper"
         }
        ],
        "font": {
         "color": "#371ea3"
        },
        "height": 489,
        "hovermode": "x unified",
        "legend": {
         "font": {
          "size": 11
         },
         "itemsizing": "constant",
         "orientation": "h",
         "title": {
          "font": {
           "size": 12
          },
          "text": "label"
         },
         "tracegroupgap": 0,
         "x": 1,
         "xanchor": "right",
         "y": 1.0613496932515338,
         "yanchor": "bottom"
        },
        "margin": {
         "b": 71,
         "r": 30,
         "t": 78
        },
        "template": {
         "data": {
          "scatter": [
           {
            "type": "scatter"
           }
          ]
         }
        },
        "title": {
         "font": {
          "size": 16
         },
         "text": "Aggregated Profiles",
         "x": 0.15
        },
        "xaxis": {
         "anchor": "y",
         "automargin": true,
         "domain": [
          0,
          1
         ],
         "fixedrange": true,
         "gridwidth": 2,
         "showticklabels": true,
         "tickcolor": "white",
         "ticklen": 3,
         "ticks": "outside",
         "title": {
          "text": ""
         },
         "type": "linear",
         "zeroline": false
        },
        "yaxis": {
         "anchor": "x",
         "automargin": true,
         "domain": [
          0,
          1
         ],
         "fixedrange": true,
         "gridwidth": 2,
         "range": [
          0.10070442837763838,
          0.7253978176116246
         ],
         "tickcolor": "white",
         "ticklen": 3,
         "ticks": "outside",
         "title": {
          "text": ""
         },
         "type": "linear",
         "zeroline": false
        }
       }
      }
     },
     "metadata": {},
     "output_type": "display_data"
    }
   ],
   "source": [
    "pdp_training_hours = exp.model_profile(variables=\"city_development_index\")\n",
    "pdp_training_hours.plot()"
   ]
  },
  {
   "cell_type": "code",
   "execution_count": 1042,
   "metadata": {},
   "outputs": [
    {
     "name": "stderr",
     "output_type": "stream",
     "text": [
      "Calculating ceteris paribus: 100%|██████████| 1/1 [00:00<00:00,  8.93it/s]\n"
     ]
    },
    {
     "data": {
      "application/vnd.plotly.v1+json": {
       "config": {
        "displaylogo": false,
        "modeBarButtonsToRemove": [
         "sendDataToCloud",
         "lasso2d",
         "autoScale2d",
         "select2d",
         "zoom2d",
         "pan2d",
         "zoomIn2d",
         "zoomOut2d",
         "resetScale2d",
         "toggleSpikelines",
         "hoverCompareCartesian",
         "hoverClosestCartesian"
        ],
        "plotlyServerURL": "https://plot.ly",
        "staticPlot": false,
        "toImageButtonOptions": {
         "height": null,
         "width": null
        }
       },
       "data": [
        {
         "customdata": [
          [
           0.2801019614079644,
           "Logistic Regression_Male",
           "training_hours"
          ],
          [
           0.2801019614079644,
           "Logistic Regression_Male",
           "training_hours"
          ],
          [
           0.2801019614079644,
           "Logistic Regression_Male",
           "training_hours"
          ],
          [
           0.2801019614079644,
           "Logistic Regression_Male",
           "training_hours"
          ],
          [
           0.2801019614079644,
           "Logistic Regression_Male",
           "training_hours"
          ],
          [
           0.2801019614079644,
           "Logistic Regression_Male",
           "training_hours"
          ],
          [
           0.2801019614079644,
           "Logistic Regression_Male",
           "training_hours"
          ],
          [
           0.2801019614079644,
           "Logistic Regression_Male",
           "training_hours"
          ],
          [
           0.2801019614079644,
           "Logistic Regression_Male",
           "training_hours"
          ],
          [
           0.2801019614079644,
           "Logistic Regression_Male",
           "training_hours"
          ],
          [
           0.2801019614079644,
           "Logistic Regression_Male",
           "training_hours"
          ],
          [
           0.2801019614079644,
           "Logistic Regression_Male",
           "training_hours"
          ],
          [
           0.2801019614079644,
           "Logistic Regression_Male",
           "training_hours"
          ],
          [
           0.2801019614079644,
           "Logistic Regression_Male",
           "training_hours"
          ],
          [
           0.2801019614079644,
           "Logistic Regression_Male",
           "training_hours"
          ],
          [
           0.2801019614079644,
           "Logistic Regression_Male",
           "training_hours"
          ],
          [
           0.2801019614079644,
           "Logistic Regression_Male",
           "training_hours"
          ],
          [
           0.2801019614079644,
           "Logistic Regression_Male",
           "training_hours"
          ],
          [
           0.2801019614079644,
           "Logistic Regression_Male",
           "training_hours"
          ],
          [
           0.2801019614079644,
           "Logistic Regression_Male",
           "training_hours"
          ],
          [
           0.2801019614079644,
           "Logistic Regression_Male",
           "training_hours"
          ],
          [
           0.2801019614079644,
           "Logistic Regression_Male",
           "training_hours"
          ],
          [
           0.2801019614079644,
           "Logistic Regression_Male",
           "training_hours"
          ],
          [
           0.2801019614079644,
           "Logistic Regression_Male",
           "training_hours"
          ],
          [
           0.2801019614079644,
           "Logistic Regression_Male",
           "training_hours"
          ],
          [
           0.2801019614079644,
           "Logistic Regression_Male",
           "training_hours"
          ],
          [
           0.2801019614079644,
           "Logistic Regression_Male",
           "training_hours"
          ],
          [
           0.2801019614079644,
           "Logistic Regression_Male",
           "training_hours"
          ],
          [
           0.2801019614079644,
           "Logistic Regression_Male",
           "training_hours"
          ],
          [
           0.2801019614079644,
           "Logistic Regression_Male",
           "training_hours"
          ],
          [
           0.2801019614079644,
           "Logistic Regression_Male",
           "training_hours"
          ],
          [
           0.2801019614079644,
           "Logistic Regression_Male",
           "training_hours"
          ],
          [
           0.2801019614079644,
           "Logistic Regression_Male",
           "training_hours"
          ],
          [
           0.2801019614079644,
           "Logistic Regression_Male",
           "training_hours"
          ],
          [
           0.2801019614079644,
           "Logistic Regression_Male",
           "training_hours"
          ],
          [
           0.2801019614079644,
           "Logistic Regression_Male",
           "training_hours"
          ],
          [
           0.2801019614079644,
           "Logistic Regression_Male",
           "training_hours"
          ],
          [
           0.2801019614079644,
           "Logistic Regression_Male",
           "training_hours"
          ],
          [
           0.2801019614079644,
           "Logistic Regression_Male",
           "training_hours"
          ],
          [
           0.2801019614079644,
           "Logistic Regression_Male",
           "training_hours"
          ],
          [
           0.2801019614079644,
           "Logistic Regression_Male",
           "training_hours"
          ],
          [
           0.2801019614079644,
           "Logistic Regression_Male",
           "training_hours"
          ],
          [
           0.2801019614079644,
           "Logistic Regression_Male",
           "training_hours"
          ],
          [
           0.2801019614079644,
           "Logistic Regression_Male",
           "training_hours"
          ],
          [
           0.2801019614079644,
           "Logistic Regression_Male",
           "training_hours"
          ],
          [
           0.2801019614079644,
           "Logistic Regression_Male",
           "training_hours"
          ],
          [
           0.2801019614079644,
           "Logistic Regression_Male",
           "training_hours"
          ],
          [
           0.2801019614079644,
           "Logistic Regression_Male",
           "training_hours"
          ],
          [
           0.2801019614079644,
           "Logistic Regression_Male",
           "training_hours"
          ],
          [
           0.2801019614079644,
           "Logistic Regression_Male",
           "training_hours"
          ],
          [
           0.2801019614079644,
           "Logistic Regression_Male",
           "training_hours"
          ],
          [
           0.2801019614079644,
           "Logistic Regression_Male",
           "training_hours"
          ],
          [
           0.2801019614079644,
           "Logistic Regression_Male",
           "training_hours"
          ],
          [
           0.2801019614079644,
           "Logistic Regression_Male",
           "training_hours"
          ],
          [
           0.2801019614079644,
           "Logistic Regression_Male",
           "training_hours"
          ],
          [
           0.2801019614079644,
           "Logistic Regression_Male",
           "training_hours"
          ],
          [
           0.2801019614079644,
           "Logistic Regression_Male",
           "training_hours"
          ],
          [
           0.2801019614079644,
           "Logistic Regression_Male",
           "training_hours"
          ],
          [
           0.2801019614079644,
           "Logistic Regression_Male",
           "training_hours"
          ],
          [
           0.2801019614079644,
           "Logistic Regression_Male",
           "training_hours"
          ],
          [
           0.2801019614079644,
           "Logistic Regression_Male",
           "training_hours"
          ],
          [
           0.2801019614079644,
           "Logistic Regression_Male",
           "training_hours"
          ],
          [
           0.2801019614079644,
           "Logistic Regression_Male",
           "training_hours"
          ],
          [
           0.2801019614079644,
           "Logistic Regression_Male",
           "training_hours"
          ],
          [
           0.2801019614079644,
           "Logistic Regression_Male",
           "training_hours"
          ],
          [
           0.2801019614079644,
           "Logistic Regression_Male",
           "training_hours"
          ],
          [
           0.2801019614079644,
           "Logistic Regression_Male",
           "training_hours"
          ],
          [
           0.2801019614079644,
           "Logistic Regression_Male",
           "training_hours"
          ],
          [
           0.2801019614079644,
           "Logistic Regression_Male",
           "training_hours"
          ],
          [
           0.2801019614079644,
           "Logistic Regression_Male",
           "training_hours"
          ],
          [
           0.2801019614079644,
           "Logistic Regression_Male",
           "training_hours"
          ],
          [
           0.2801019614079644,
           "Logistic Regression_Male",
           "training_hours"
          ],
          [
           0.2801019614079644,
           "Logistic Regression_Male",
           "training_hours"
          ],
          [
           0.2801019614079644,
           "Logistic Regression_Male",
           "training_hours"
          ],
          [
           0.2801019614079644,
           "Logistic Regression_Male",
           "training_hours"
          ],
          [
           0.2801019614079644,
           "Logistic Regression_Male",
           "training_hours"
          ],
          [
           0.2801019614079644,
           "Logistic Regression_Male",
           "training_hours"
          ],
          [
           0.2801019614079644,
           "Logistic Regression_Male",
           "training_hours"
          ],
          [
           0.2801019614079644,
           "Logistic Regression_Male",
           "training_hours"
          ],
          [
           0.2801019614079644,
           "Logistic Regression_Male",
           "training_hours"
          ],
          [
           0.2801019614079644,
           "Logistic Regression_Male",
           "training_hours"
          ],
          [
           0.2801019614079644,
           "Logistic Regression_Male",
           "training_hours"
          ],
          [
           0.2801019614079644,
           "Logistic Regression_Male",
           "training_hours"
          ],
          [
           0.2801019614079644,
           "Logistic Regression_Male",
           "training_hours"
          ],
          [
           0.2801019614079644,
           "Logistic Regression_Male",
           "training_hours"
          ],
          [
           0.2801019614079644,
           "Logistic Regression_Male",
           "training_hours"
          ],
          [
           0.2801019614079644,
           "Logistic Regression_Male",
           "training_hours"
          ],
          [
           0.2801019614079644,
           "Logistic Regression_Male",
           "training_hours"
          ],
          [
           0.2801019614079644,
           "Logistic Regression_Male",
           "training_hours"
          ],
          [
           0.2801019614079644,
           "Logistic Regression_Male",
           "training_hours"
          ],
          [
           0.2801019614079644,
           "Logistic Regression_Male",
           "training_hours"
          ],
          [
           0.2801019614079644,
           "Logistic Regression_Male",
           "training_hours"
          ],
          [
           0.2801019614079644,
           "Logistic Regression_Male",
           "training_hours"
          ],
          [
           0.2801019614079644,
           "Logistic Regression_Male",
           "training_hours"
          ],
          [
           0.2801019614079644,
           "Logistic Regression_Male",
           "training_hours"
          ],
          [
           0.2801019614079644,
           "Logistic Regression_Male",
           "training_hours"
          ],
          [
           0.2801019614079644,
           "Logistic Regression_Male",
           "training_hours"
          ],
          [
           0.2801019614079644,
           "Logistic Regression_Male",
           "training_hours"
          ],
          [
           0.2801019614079644,
           "Logistic Regression_Male",
           "training_hours"
          ],
          [
           0.2801019614079644,
           "Logistic Regression_Male",
           "training_hours"
          ],
          [
           0.2801019614079644,
           "Logistic Regression_Male",
           "training_hours"
          ]
         ],
         "hovertemplate": "<b>%{hovertext}</b><br><br>prediction=%{y:.3f}<br>mean_prediction=%{customdata[0]:.3f}<extra></extra>",
         "hovertext": [
          "Logistic Regression_Male",
          "Logistic Regression_Male",
          "Logistic Regression_Male",
          "Logistic Regression_Male",
          "Logistic Regression_Male",
          "Logistic Regression_Male",
          "Logistic Regression_Male",
          "Logistic Regression_Male",
          "Logistic Regression_Male",
          "Logistic Regression_Male",
          "Logistic Regression_Male",
          "Logistic Regression_Male",
          "Logistic Regression_Male",
          "Logistic Regression_Male",
          "Logistic Regression_Male",
          "Logistic Regression_Male",
          "Logistic Regression_Male",
          "Logistic Regression_Male",
          "Logistic Regression_Male",
          "Logistic Regression_Male",
          "Logistic Regression_Male",
          "Logistic Regression_Male",
          "Logistic Regression_Male",
          "Logistic Regression_Male",
          "Logistic Regression_Male",
          "Logistic Regression_Male",
          "Logistic Regression_Male",
          "Logistic Regression_Male",
          "Logistic Regression_Male",
          "Logistic Regression_Male",
          "Logistic Regression_Male",
          "Logistic Regression_Male",
          "Logistic Regression_Male",
          "Logistic Regression_Male",
          "Logistic Regression_Male",
          "Logistic Regression_Male",
          "Logistic Regression_Male",
          "Logistic Regression_Male",
          "Logistic Regression_Male",
          "Logistic Regression_Male",
          "Logistic Regression_Male",
          "Logistic Regression_Male",
          "Logistic Regression_Male",
          "Logistic Regression_Male",
          "Logistic Regression_Male",
          "Logistic Regression_Male",
          "Logistic Regression_Male",
          "Logistic Regression_Male",
          "Logistic Regression_Male",
          "Logistic Regression_Male",
          "Logistic Regression_Male",
          "Logistic Regression_Male",
          "Logistic Regression_Male",
          "Logistic Regression_Male",
          "Logistic Regression_Male",
          "Logistic Regression_Male",
          "Logistic Regression_Male",
          "Logistic Regression_Male",
          "Logistic Regression_Male",
          "Logistic Regression_Male",
          "Logistic Regression_Male",
          "Logistic Regression_Male",
          "Logistic Regression_Male",
          "Logistic Regression_Male",
          "Logistic Regression_Male",
          "Logistic Regression_Male",
          "Logistic Regression_Male",
          "Logistic Regression_Male",
          "Logistic Regression_Male",
          "Logistic Regression_Male",
          "Logistic Regression_Male",
          "Logistic Regression_Male",
          "Logistic Regression_Male",
          "Logistic Regression_Male",
          "Logistic Regression_Male",
          "Logistic Regression_Male",
          "Logistic Regression_Male",
          "Logistic Regression_Male",
          "Logistic Regression_Male",
          "Logistic Regression_Male",
          "Logistic Regression_Male",
          "Logistic Regression_Male",
          "Logistic Regression_Male",
          "Logistic Regression_Male",
          "Logistic Regression_Male",
          "Logistic Regression_Male",
          "Logistic Regression_Male",
          "Logistic Regression_Male",
          "Logistic Regression_Male",
          "Logistic Regression_Male",
          "Logistic Regression_Male",
          "Logistic Regression_Male",
          "Logistic Regression_Male",
          "Logistic Regression_Male",
          "Logistic Regression_Male",
          "Logistic Regression_Male",
          "Logistic Regression_Male",
          "Logistic Regression_Male",
          "Logistic Regression_Male",
          "Logistic Regression_Male",
          "Logistic Regression_Male"
         ],
         "legendgroup": "Logistic Regression_Male",
         "line": {
          "color": "#8bdcbe",
          "dash": "solid",
          "width": 2
         },
         "marker": {
          "symbol": "circle"
         },
         "mode": "lines",
         "name": "Logistic Regression_Male",
         "opacity": 1,
         "orientation": "v",
         "showlegend": true,
         "type": "scatter",
         "x": [
          2,
          5.3,
          8.6,
          11.899999999999999,
          15.2,
          18.5,
          21.799999999999997,
          25.099999999999998,
          28.4,
          31.7,
          35,
          38.3,
          41.599999999999994,
          44.9,
          48.199999999999996,
          51.5,
          54.8,
          58.099999999999994,
          61.4,
          64.69999999999999,
          68,
          71.3,
          74.6,
          77.89999999999999,
          81.19999999999999,
          84.5,
          87.8,
          91.1,
          94.39999999999999,
          97.69999999999999,
          101,
          104.3,
          107.6,
          110.89999999999999,
          114.19999999999999,
          117.5,
          120.8,
          124.1,
          127.39999999999999,
          130.7,
          134,
          137.29999999999998,
          140.6,
          143.9,
          147.2,
          150.5,
          153.79999999999998,
          157.1,
          160.39999999999998,
          163.7,
          167,
          170.29999999999998,
          173.6,
          176.89999999999998,
          180.2,
          183.5,
          186.79999999999998,
          190.1,
          193.39999999999998,
          196.7,
          200,
          203.29999999999998,
          206.6,
          209.89999999999998,
          213.2,
          216.5,
          219.79999999999998,
          223.1,
          226.39999999999998,
          229.7,
          233,
          236.29999999999998,
          239.6,
          242.89999999999998,
          246.2,
          249.5,
          252.79999999999998,
          256.1,
          259.4,
          262.7,
          266,
          269.3,
          272.59999999999997,
          275.9,
          279.2,
          282.5,
          285.8,
          289.09999999999997,
          292.4,
          295.7,
          299,
          302.3,
          305.59999999999997,
          308.9,
          312.2,
          315.5,
          318.79999999999995,
          322.09999999999997,
          325.4,
          328.7,
          332
         ],
         "xaxis": "x",
         "y": [
          0.25625054609690995,
          0.25656948061497264,
          0.2568886489857386,
          0.257208051076913,
          0.2575276867555879,
          0.25784755588824165,
          0.25816765834073896,
          0.25848799397833033,
          0.25880856266565216,
          0.2591293642667262,
          0.2594503986449595,
          0.2597716656631441,
          0.2600931651834566,
          0.26041489706745835,
          0.26073686117609485,
          0.2610590573696956,
          0.26138148550797397,
          0.2617041454500268,
          0.26202703705433433,
          0.2623501601787599,
          0.26267351468054956,
          0.26299710041633223,
          0.26332091724211903,
          0.26364496501330337,
          0.26396924358466056,
          0.2642937528103476,
          0.2646184925439032,
          0.2649434626382471,
          0.26526866294568013,
          0.26559409331788425,
          0.2659197536059217,
          0.2662456436602353,
          0.266571763330648,
          0.2668981124663629,
          0.26722469091596274,
          0.2675514985274097,
          0.26787853514804566,
          0.2682058006245912,
          0.26853329480314625,
          0.2688610175291893,
          0.2691889686475772,
          0.26951714800254545,
          0.2698455554377075,
          0.27017419079605465,
          0.27050305391995616,
          0.27083214465115857,
          0.271161462830786,
          0.2714910082993395,
          0.27182078089669703,
          0.27215078046211366,
          0.2724810068342206,
          0.27281145985102573,
          0.2731421393499129,
          0.2734730451676421,
          0.27380417714034916,
          0.27413553510354544,
          0.2744671188921178,
          0.2747989283403283,
          0.27513096328181424,
          0.2754632235495877,
          0.27579570897603545,
          0.276128419392919,
          0.276461354631374,
          0.27679451452191056,
          0.2771278988944127,
          0.2774615075781382,
          0.27779534040171877,
          0.2781293971931595,
          0.2784636777798388,
          0.2787981819885084,
          0.2791329096452931,
          0.2794678605756903,
          0.2798030346045704,
          0.2801384315561762,
          0.28047405125412295,
          0.2808098935213982,
          0.2811459581803613,
          0.2814822450527439,
          0.2818187539596492,
          0.28215548472155205,
          0.2824924371582988,
          0.2828296110891071,
          0.28316700633256586,
          0.2835046227066348,
          0.28384246002864477,
          0.28418051811529726,
          0.2845187967826643,
          0.28485729584618846,
          0.28519601512068266,
          0.2855349544203299,
          0.28587411355868325,
          0.28621349234866583,
          0.2865530906025702,
          0.28689290813205903,
          0.28723294474816413,
          0.28757320026128685,
          0.2879136744811978,
          0.2882543672170366,
          0.2885952782773121,
          0.2889364074699018,
          0.2892777546020521
         ],
         "yaxis": "y"
        },
        {
         "customdata": [
          [
           0.2801019614079644,
           "Logistic Regression_No data",
           "training_hours"
          ],
          [
           0.2801019614079644,
           "Logistic Regression_No data",
           "training_hours"
          ],
          [
           0.2801019614079644,
           "Logistic Regression_No data",
           "training_hours"
          ],
          [
           0.2801019614079644,
           "Logistic Regression_No data",
           "training_hours"
          ],
          [
           0.2801019614079644,
           "Logistic Regression_No data",
           "training_hours"
          ],
          [
           0.2801019614079644,
           "Logistic Regression_No data",
           "training_hours"
          ],
          [
           0.2801019614079644,
           "Logistic Regression_No data",
           "training_hours"
          ],
          [
           0.2801019614079644,
           "Logistic Regression_No data",
           "training_hours"
          ],
          [
           0.2801019614079644,
           "Logistic Regression_No data",
           "training_hours"
          ],
          [
           0.2801019614079644,
           "Logistic Regression_No data",
           "training_hours"
          ],
          [
           0.2801019614079644,
           "Logistic Regression_No data",
           "training_hours"
          ],
          [
           0.2801019614079644,
           "Logistic Regression_No data",
           "training_hours"
          ],
          [
           0.2801019614079644,
           "Logistic Regression_No data",
           "training_hours"
          ],
          [
           0.2801019614079644,
           "Logistic Regression_No data",
           "training_hours"
          ],
          [
           0.2801019614079644,
           "Logistic Regression_No data",
           "training_hours"
          ],
          [
           0.2801019614079644,
           "Logistic Regression_No data",
           "training_hours"
          ],
          [
           0.2801019614079644,
           "Logistic Regression_No data",
           "training_hours"
          ],
          [
           0.2801019614079644,
           "Logistic Regression_No data",
           "training_hours"
          ],
          [
           0.2801019614079644,
           "Logistic Regression_No data",
           "training_hours"
          ],
          [
           0.2801019614079644,
           "Logistic Regression_No data",
           "training_hours"
          ],
          [
           0.2801019614079644,
           "Logistic Regression_No data",
           "training_hours"
          ],
          [
           0.2801019614079644,
           "Logistic Regression_No data",
           "training_hours"
          ],
          [
           0.2801019614079644,
           "Logistic Regression_No data",
           "training_hours"
          ],
          [
           0.2801019614079644,
           "Logistic Regression_No data",
           "training_hours"
          ],
          [
           0.2801019614079644,
           "Logistic Regression_No data",
           "training_hours"
          ],
          [
           0.2801019614079644,
           "Logistic Regression_No data",
           "training_hours"
          ],
          [
           0.2801019614079644,
           "Logistic Regression_No data",
           "training_hours"
          ],
          [
           0.2801019614079644,
           "Logistic Regression_No data",
           "training_hours"
          ],
          [
           0.2801019614079644,
           "Logistic Regression_No data",
           "training_hours"
          ],
          [
           0.2801019614079644,
           "Logistic Regression_No data",
           "training_hours"
          ],
          [
           0.2801019614079644,
           "Logistic Regression_No data",
           "training_hours"
          ],
          [
           0.2801019614079644,
           "Logistic Regression_No data",
           "training_hours"
          ],
          [
           0.2801019614079644,
           "Logistic Regression_No data",
           "training_hours"
          ],
          [
           0.2801019614079644,
           "Logistic Regression_No data",
           "training_hours"
          ],
          [
           0.2801019614079644,
           "Logistic Regression_No data",
           "training_hours"
          ],
          [
           0.2801019614079644,
           "Logistic Regression_No data",
           "training_hours"
          ],
          [
           0.2801019614079644,
           "Logistic Regression_No data",
           "training_hours"
          ],
          [
           0.2801019614079644,
           "Logistic Regression_No data",
           "training_hours"
          ],
          [
           0.2801019614079644,
           "Logistic Regression_No data",
           "training_hours"
          ],
          [
           0.2801019614079644,
           "Logistic Regression_No data",
           "training_hours"
          ],
          [
           0.2801019614079644,
           "Logistic Regression_No data",
           "training_hours"
          ],
          [
           0.2801019614079644,
           "Logistic Regression_No data",
           "training_hours"
          ],
          [
           0.2801019614079644,
           "Logistic Regression_No data",
           "training_hours"
          ],
          [
           0.2801019614079644,
           "Logistic Regression_No data",
           "training_hours"
          ],
          [
           0.2801019614079644,
           "Logistic Regression_No data",
           "training_hours"
          ],
          [
           0.2801019614079644,
           "Logistic Regression_No data",
           "training_hours"
          ],
          [
           0.2801019614079644,
           "Logistic Regression_No data",
           "training_hours"
          ],
          [
           0.2801019614079644,
           "Logistic Regression_No data",
           "training_hours"
          ],
          [
           0.2801019614079644,
           "Logistic Regression_No data",
           "training_hours"
          ],
          [
           0.2801019614079644,
           "Logistic Regression_No data",
           "training_hours"
          ],
          [
           0.2801019614079644,
           "Logistic Regression_No data",
           "training_hours"
          ],
          [
           0.2801019614079644,
           "Logistic Regression_No data",
           "training_hours"
          ],
          [
           0.2801019614079644,
           "Logistic Regression_No data",
           "training_hours"
          ],
          [
           0.2801019614079644,
           "Logistic Regression_No data",
           "training_hours"
          ],
          [
           0.2801019614079644,
           "Logistic Regression_No data",
           "training_hours"
          ],
          [
           0.2801019614079644,
           "Logistic Regression_No data",
           "training_hours"
          ],
          [
           0.2801019614079644,
           "Logistic Regression_No data",
           "training_hours"
          ],
          [
           0.2801019614079644,
           "Logistic Regression_No data",
           "training_hours"
          ],
          [
           0.2801019614079644,
           "Logistic Regression_No data",
           "training_hours"
          ],
          [
           0.2801019614079644,
           "Logistic Regression_No data",
           "training_hours"
          ],
          [
           0.2801019614079644,
           "Logistic Regression_No data",
           "training_hours"
          ],
          [
           0.2801019614079644,
           "Logistic Regression_No data",
           "training_hours"
          ],
          [
           0.2801019614079644,
           "Logistic Regression_No data",
           "training_hours"
          ],
          [
           0.2801019614079644,
           "Logistic Regression_No data",
           "training_hours"
          ],
          [
           0.2801019614079644,
           "Logistic Regression_No data",
           "training_hours"
          ],
          [
           0.2801019614079644,
           "Logistic Regression_No data",
           "training_hours"
          ],
          [
           0.2801019614079644,
           "Logistic Regression_No data",
           "training_hours"
          ],
          [
           0.2801019614079644,
           "Logistic Regression_No data",
           "training_hours"
          ],
          [
           0.2801019614079644,
           "Logistic Regression_No data",
           "training_hours"
          ],
          [
           0.2801019614079644,
           "Logistic Regression_No data",
           "training_hours"
          ],
          [
           0.2801019614079644,
           "Logistic Regression_No data",
           "training_hours"
          ],
          [
           0.2801019614079644,
           "Logistic Regression_No data",
           "training_hours"
          ],
          [
           0.2801019614079644,
           "Logistic Regression_No data",
           "training_hours"
          ],
          [
           0.2801019614079644,
           "Logistic Regression_No data",
           "training_hours"
          ],
          [
           0.2801019614079644,
           "Logistic Regression_No data",
           "training_hours"
          ],
          [
           0.2801019614079644,
           "Logistic Regression_No data",
           "training_hours"
          ],
          [
           0.2801019614079644,
           "Logistic Regression_No data",
           "training_hours"
          ],
          [
           0.2801019614079644,
           "Logistic Regression_No data",
           "training_hours"
          ],
          [
           0.2801019614079644,
           "Logistic Regression_No data",
           "training_hours"
          ],
          [
           0.2801019614079644,
           "Logistic Regression_No data",
           "training_hours"
          ],
          [
           0.2801019614079644,
           "Logistic Regression_No data",
           "training_hours"
          ],
          [
           0.2801019614079644,
           "Logistic Regression_No data",
           "training_hours"
          ],
          [
           0.2801019614079644,
           "Logistic Regression_No data",
           "training_hours"
          ],
          [
           0.2801019614079644,
           "Logistic Regression_No data",
           "training_hours"
          ],
          [
           0.2801019614079644,
           "Logistic Regression_No data",
           "training_hours"
          ],
          [
           0.2801019614079644,
           "Logistic Regression_No data",
           "training_hours"
          ],
          [
           0.2801019614079644,
           "Logistic Regression_No data",
           "training_hours"
          ],
          [
           0.2801019614079644,
           "Logistic Regression_No data",
           "training_hours"
          ],
          [
           0.2801019614079644,
           "Logistic Regression_No data",
           "training_hours"
          ],
          [
           0.2801019614079644,
           "Logistic Regression_No data",
           "training_hours"
          ],
          [
           0.2801019614079644,
           "Logistic Regression_No data",
           "training_hours"
          ],
          [
           0.2801019614079644,
           "Logistic Regression_No data",
           "training_hours"
          ],
          [
           0.2801019614079644,
           "Logistic Regression_No data",
           "training_hours"
          ],
          [
           0.2801019614079644,
           "Logistic Regression_No data",
           "training_hours"
          ],
          [
           0.2801019614079644,
           "Logistic Regression_No data",
           "training_hours"
          ],
          [
           0.2801019614079644,
           "Logistic Regression_No data",
           "training_hours"
          ],
          [
           0.2801019614079644,
           "Logistic Regression_No data",
           "training_hours"
          ],
          [
           0.2801019614079644,
           "Logistic Regression_No data",
           "training_hours"
          ],
          [
           0.2801019614079644,
           "Logistic Regression_No data",
           "training_hours"
          ],
          [
           0.2801019614079644,
           "Logistic Regression_No data",
           "training_hours"
          ],
          [
           0.2801019614079644,
           "Logistic Regression_No data",
           "training_hours"
          ]
         ],
         "hovertemplate": "<b>%{hovertext}</b><br><br>prediction=%{y:.3f}<br>mean_prediction=%{customdata[0]:.3f}<extra></extra>",
         "hovertext": [
          "Logistic Regression_No data",
          "Logistic Regression_No data",
          "Logistic Regression_No data",
          "Logistic Regression_No data",
          "Logistic Regression_No data",
          "Logistic Regression_No data",
          "Logistic Regression_No data",
          "Logistic Regression_No data",
          "Logistic Regression_No data",
          "Logistic Regression_No data",
          "Logistic Regression_No data",
          "Logistic Regression_No data",
          "Logistic Regression_No data",
          "Logistic Regression_No data",
          "Logistic Regression_No data",
          "Logistic Regression_No data",
          "Logistic Regression_No data",
          "Logistic Regression_No data",
          "Logistic Regression_No data",
          "Logistic Regression_No data",
          "Logistic Regression_No data",
          "Logistic Regression_No data",
          "Logistic Regression_No data",
          "Logistic Regression_No data",
          "Logistic Regression_No data",
          "Logistic Regression_No data",
          "Logistic Regression_No data",
          "Logistic Regression_No data",
          "Logistic Regression_No data",
          "Logistic Regression_No data",
          "Logistic Regression_No data",
          "Logistic Regression_No data",
          "Logistic Regression_No data",
          "Logistic Regression_No data",
          "Logistic Regression_No data",
          "Logistic Regression_No data",
          "Logistic Regression_No data",
          "Logistic Regression_No data",
          "Logistic Regression_No data",
          "Logistic Regression_No data",
          "Logistic Regression_No data",
          "Logistic Regression_No data",
          "Logistic Regression_No data",
          "Logistic Regression_No data",
          "Logistic Regression_No data",
          "Logistic Regression_No data",
          "Logistic Regression_No data",
          "Logistic Regression_No data",
          "Logistic Regression_No data",
          "Logistic Regression_No data",
          "Logistic Regression_No data",
          "Logistic Regression_No data",
          "Logistic Regression_No data",
          "Logistic Regression_No data",
          "Logistic Regression_No data",
          "Logistic Regression_No data",
          "Logistic Regression_No data",
          "Logistic Regression_No data",
          "Logistic Regression_No data",
          "Logistic Regression_No data",
          "Logistic Regression_No data",
          "Logistic Regression_No data",
          "Logistic Regression_No data",
          "Logistic Regression_No data",
          "Logistic Regression_No data",
          "Logistic Regression_No data",
          "Logistic Regression_No data",
          "Logistic Regression_No data",
          "Logistic Regression_No data",
          "Logistic Regression_No data",
          "Logistic Regression_No data",
          "Logistic Regression_No data",
          "Logistic Regression_No data",
          "Logistic Regression_No data",
          "Logistic Regression_No data",
          "Logistic Regression_No data",
          "Logistic Regression_No data",
          "Logistic Regression_No data",
          "Logistic Regression_No data",
          "Logistic Regression_No data",
          "Logistic Regression_No data",
          "Logistic Regression_No data",
          "Logistic Regression_No data",
          "Logistic Regression_No data",
          "Logistic Regression_No data",
          "Logistic Regression_No data",
          "Logistic Regression_No data",
          "Logistic Regression_No data",
          "Logistic Regression_No data",
          "Logistic Regression_No data",
          "Logistic Regression_No data",
          "Logistic Regression_No data",
          "Logistic Regression_No data",
          "Logistic Regression_No data",
          "Logistic Regression_No data",
          "Logistic Regression_No data",
          "Logistic Regression_No data",
          "Logistic Regression_No data",
          "Logistic Regression_No data",
          "Logistic Regression_No data",
          "Logistic Regression_No data"
         ],
         "legendgroup": "Logistic Regression_No data",
         "line": {
          "color": "#f05a71",
          "dash": "solid",
          "width": 2
         },
         "marker": {
          "symbol": "circle"
         },
         "mode": "lines",
         "name": "Logistic Regression_No data",
         "opacity": 1,
         "orientation": "v",
         "showlegend": true,
         "type": "scatter",
         "x": [
          2,
          5.3,
          8.6,
          11.899999999999999,
          15.2,
          18.5,
          21.799999999999997,
          25.099999999999998,
          28.4,
          31.7,
          35,
          38.3,
          41.599999999999994,
          44.9,
          48.199999999999996,
          51.5,
          54.8,
          58.099999999999994,
          61.4,
          64.69999999999999,
          68,
          71.3,
          74.6,
          77.89999999999999,
          81.19999999999999,
          84.5,
          87.8,
          91.1,
          94.39999999999999,
          97.69999999999999,
          101,
          104.3,
          107.6,
          110.89999999999999,
          114.19999999999999,
          117.5,
          120.8,
          124.1,
          127.39999999999999,
          130.7,
          134,
          137.29999999999998,
          140.6,
          143.9,
          147.2,
          150.5,
          153.79999999999998,
          157.1,
          160.39999999999998,
          163.7,
          167,
          170.29999999999998,
          173.6,
          176.89999999999998,
          180.2,
          183.5,
          186.79999999999998,
          190.1,
          193.39999999999998,
          196.7,
          200,
          203.29999999999998,
          206.6,
          209.89999999999998,
          213.2,
          216.5,
          219.79999999999998,
          223.1,
          226.39999999999998,
          229.7,
          233,
          236.29999999999998,
          239.6,
          242.89999999999998,
          246.2,
          249.5,
          252.79999999999998,
          256.1,
          259.4,
          262.7,
          266,
          269.3,
          272.59999999999997,
          275.9,
          279.2,
          282.5,
          285.8,
          289.09999999999997,
          292.4,
          295.7,
          299,
          302.3,
          305.59999999999997,
          308.9,
          312.2,
          315.5,
          318.79999999999995,
          322.09999999999997,
          325.4,
          328.7,
          332
         ],
         "xaxis": "x",
         "y": [
          0.32480785778492255,
          0.32516445714401426,
          0.32552123050435877,
          0.325878177612986,
          0.3262352982165145,
          0.326592592061152,
          0.32695005889269557,
          0.3273076984565318,
          0.3276655104976373,
          0.32802349476057896,
          0.328381650989514,
          0.3287399789281907,
          0.3290984783199481,
          0.329457148907717,
          0.3298159904340195,
          0.33017500264096994,
          0.33053418527027467,
          0.3308935380632328,
          0.3312530607607359,
          0.331612753103269,
          0.3319726148309101,
          0.3323326456833312,
          0.33269284539979804,
          0.3330532137191704,
          0.3334137503799029,
          0.33377445512004456,
          0.3341353276772396,
          0.33449636778872743,
          0.3348575751913432,
          0.3352189496215176,
          0.3355804908152777,
          0.33594219850824675,
          0.33630407243564475,
          0.33666611233228855,
          0.3370283179325922,
          0.3373906889705672,
          0.3377532251798227,
          0.33811592629356585,
          0.338478792044602,
          0.33884182216533504,
          0.33920501638776746,
          0.339568374443501,
          0.33993189606373647,
          0.34029558097927426,
          0.3406594289205145,
          0.3410234396174574,
          0.34138761279970353,
          0.3417519481964539,
          0.34211644553651016,
          0.34248110454827535,
          0.34284592495975363,
          0.3432109064985506,
          0.34357604889187393,
          0.343941351866533,
          0.34430681514893974,
          0.3446724384651085,
          0.3450382215406565,
          0.3454041641008039,
          0.3457702658703741,
          0.3461365265737942,
          0.3465029459350949,
          0.3468695236779108,
          0.34723625952548104,
          0.34760315320064905,
          0.34797020442586296,
          0.34833741292317594,
          0.34870477841424624,
          0.34907230062033767,
          0.3494399792623197,
          0.3498078140606675,
          0.35017580473546267,
          0.350543951006393,
          0.35091225259275294,
          0.3512807092134437,
          0.35164932058697357,
          0.35201808643145827,
          0.35238700646462096,
          0.3527560804037924,
          0.3531253079659116,
          0.35349468886752566,
          0.35386422282479,
          0.35423390955346895,
          0.35460374876893547,
          0.3549737401861719,
          0.35534388351976964,
          0.35571417848392994,
          0.3560846247924636,
          0.3564552221587915,
          0.35682597029594476,
          0.35719686891656505,
          0.3575679177329046,
          0.3579391164568264,
          0.3583104647998049,
          0.3586819624729256,
          0.35905360918688556,
          0.35942540465199385,
          0.3597973485781712,
          0.3601694406749507,
          0.36054168065147796,
          0.36091406821651106,
          0.3612866030784209
         ],
         "yaxis": "y"
        },
        {
         "customdata": [
          [
           0.2801019614079644,
           "Logistic Regression_Female",
           "training_hours"
          ],
          [
           0.2801019614079644,
           "Logistic Regression_Female",
           "training_hours"
          ],
          [
           0.2801019614079644,
           "Logistic Regression_Female",
           "training_hours"
          ],
          [
           0.2801019614079644,
           "Logistic Regression_Female",
           "training_hours"
          ],
          [
           0.2801019614079644,
           "Logistic Regression_Female",
           "training_hours"
          ],
          [
           0.2801019614079644,
           "Logistic Regression_Female",
           "training_hours"
          ],
          [
           0.2801019614079644,
           "Logistic Regression_Female",
           "training_hours"
          ],
          [
           0.2801019614079644,
           "Logistic Regression_Female",
           "training_hours"
          ],
          [
           0.2801019614079644,
           "Logistic Regression_Female",
           "training_hours"
          ],
          [
           0.2801019614079644,
           "Logistic Regression_Female",
           "training_hours"
          ],
          [
           0.2801019614079644,
           "Logistic Regression_Female",
           "training_hours"
          ],
          [
           0.2801019614079644,
           "Logistic Regression_Female",
           "training_hours"
          ],
          [
           0.2801019614079644,
           "Logistic Regression_Female",
           "training_hours"
          ],
          [
           0.2801019614079644,
           "Logistic Regression_Female",
           "training_hours"
          ],
          [
           0.2801019614079644,
           "Logistic Regression_Female",
           "training_hours"
          ],
          [
           0.2801019614079644,
           "Logistic Regression_Female",
           "training_hours"
          ],
          [
           0.2801019614079644,
           "Logistic Regression_Female",
           "training_hours"
          ],
          [
           0.2801019614079644,
           "Logistic Regression_Female",
           "training_hours"
          ],
          [
           0.2801019614079644,
           "Logistic Regression_Female",
           "training_hours"
          ],
          [
           0.2801019614079644,
           "Logistic Regression_Female",
           "training_hours"
          ],
          [
           0.2801019614079644,
           "Logistic Regression_Female",
           "training_hours"
          ],
          [
           0.2801019614079644,
           "Logistic Regression_Female",
           "training_hours"
          ],
          [
           0.2801019614079644,
           "Logistic Regression_Female",
           "training_hours"
          ],
          [
           0.2801019614079644,
           "Logistic Regression_Female",
           "training_hours"
          ],
          [
           0.2801019614079644,
           "Logistic Regression_Female",
           "training_hours"
          ],
          [
           0.2801019614079644,
           "Logistic Regression_Female",
           "training_hours"
          ],
          [
           0.2801019614079644,
           "Logistic Regression_Female",
           "training_hours"
          ],
          [
           0.2801019614079644,
           "Logistic Regression_Female",
           "training_hours"
          ],
          [
           0.2801019614079644,
           "Logistic Regression_Female",
           "training_hours"
          ],
          [
           0.2801019614079644,
           "Logistic Regression_Female",
           "training_hours"
          ],
          [
           0.2801019614079644,
           "Logistic Regression_Female",
           "training_hours"
          ],
          [
           0.2801019614079644,
           "Logistic Regression_Female",
           "training_hours"
          ],
          [
           0.2801019614079644,
           "Logistic Regression_Female",
           "training_hours"
          ],
          [
           0.2801019614079644,
           "Logistic Regression_Female",
           "training_hours"
          ],
          [
           0.2801019614079644,
           "Logistic Regression_Female",
           "training_hours"
          ],
          [
           0.2801019614079644,
           "Logistic Regression_Female",
           "training_hours"
          ],
          [
           0.2801019614079644,
           "Logistic Regression_Female",
           "training_hours"
          ],
          [
           0.2801019614079644,
           "Logistic Regression_Female",
           "training_hours"
          ],
          [
           0.2801019614079644,
           "Logistic Regression_Female",
           "training_hours"
          ],
          [
           0.2801019614079644,
           "Logistic Regression_Female",
           "training_hours"
          ],
          [
           0.2801019614079644,
           "Logistic Regression_Female",
           "training_hours"
          ],
          [
           0.2801019614079644,
           "Logistic Regression_Female",
           "training_hours"
          ],
          [
           0.2801019614079644,
           "Logistic Regression_Female",
           "training_hours"
          ],
          [
           0.2801019614079644,
           "Logistic Regression_Female",
           "training_hours"
          ],
          [
           0.2801019614079644,
           "Logistic Regression_Female",
           "training_hours"
          ],
          [
           0.2801019614079644,
           "Logistic Regression_Female",
           "training_hours"
          ],
          [
           0.2801019614079644,
           "Logistic Regression_Female",
           "training_hours"
          ],
          [
           0.2801019614079644,
           "Logistic Regression_Female",
           "training_hours"
          ],
          [
           0.2801019614079644,
           "Logistic Regression_Female",
           "training_hours"
          ],
          [
           0.2801019614079644,
           "Logistic Regression_Female",
           "training_hours"
          ],
          [
           0.2801019614079644,
           "Logistic Regression_Female",
           "training_hours"
          ],
          [
           0.2801019614079644,
           "Logistic Regression_Female",
           "training_hours"
          ],
          [
           0.2801019614079644,
           "Logistic Regression_Female",
           "training_hours"
          ],
          [
           0.2801019614079644,
           "Logistic Regression_Female",
           "training_hours"
          ],
          [
           0.2801019614079644,
           "Logistic Regression_Female",
           "training_hours"
          ],
          [
           0.2801019614079644,
           "Logistic Regression_Female",
           "training_hours"
          ],
          [
           0.2801019614079644,
           "Logistic Regression_Female",
           "training_hours"
          ],
          [
           0.2801019614079644,
           "Logistic Regression_Female",
           "training_hours"
          ],
          [
           0.2801019614079644,
           "Logistic Regression_Female",
           "training_hours"
          ],
          [
           0.2801019614079644,
           "Logistic Regression_Female",
           "training_hours"
          ],
          [
           0.2801019614079644,
           "Logistic Regression_Female",
           "training_hours"
          ],
          [
           0.2801019614079644,
           "Logistic Regression_Female",
           "training_hours"
          ],
          [
           0.2801019614079644,
           "Logistic Regression_Female",
           "training_hours"
          ],
          [
           0.2801019614079644,
           "Logistic Regression_Female",
           "training_hours"
          ],
          [
           0.2801019614079644,
           "Logistic Regression_Female",
           "training_hours"
          ],
          [
           0.2801019614079644,
           "Logistic Regression_Female",
           "training_hours"
          ],
          [
           0.2801019614079644,
           "Logistic Regression_Female",
           "training_hours"
          ],
          [
           0.2801019614079644,
           "Logistic Regression_Female",
           "training_hours"
          ],
          [
           0.2801019614079644,
           "Logistic Regression_Female",
           "training_hours"
          ],
          [
           0.2801019614079644,
           "Logistic Regression_Female",
           "training_hours"
          ],
          [
           0.2801019614079644,
           "Logistic Regression_Female",
           "training_hours"
          ],
          [
           0.2801019614079644,
           "Logistic Regression_Female",
           "training_hours"
          ],
          [
           0.2801019614079644,
           "Logistic Regression_Female",
           "training_hours"
          ],
          [
           0.2801019614079644,
           "Logistic Regression_Female",
           "training_hours"
          ],
          [
           0.2801019614079644,
           "Logistic Regression_Female",
           "training_hours"
          ],
          [
           0.2801019614079644,
           "Logistic Regression_Female",
           "training_hours"
          ],
          [
           0.2801019614079644,
           "Logistic Regression_Female",
           "training_hours"
          ],
          [
           0.2801019614079644,
           "Logistic Regression_Female",
           "training_hours"
          ],
          [
           0.2801019614079644,
           "Logistic Regression_Female",
           "training_hours"
          ],
          [
           0.2801019614079644,
           "Logistic Regression_Female",
           "training_hours"
          ],
          [
           0.2801019614079644,
           "Logistic Regression_Female",
           "training_hours"
          ],
          [
           0.2801019614079644,
           "Logistic Regression_Female",
           "training_hours"
          ],
          [
           0.2801019614079644,
           "Logistic Regression_Female",
           "training_hours"
          ],
          [
           0.2801019614079644,
           "Logistic Regression_Female",
           "training_hours"
          ],
          [
           0.2801019614079644,
           "Logistic Regression_Female",
           "training_hours"
          ],
          [
           0.2801019614079644,
           "Logistic Regression_Female",
           "training_hours"
          ],
          [
           0.2801019614079644,
           "Logistic Regression_Female",
           "training_hours"
          ],
          [
           0.2801019614079644,
           "Logistic Regression_Female",
           "training_hours"
          ],
          [
           0.2801019614079644,
           "Logistic Regression_Female",
           "training_hours"
          ],
          [
           0.2801019614079644,
           "Logistic Regression_Female",
           "training_hours"
          ],
          [
           0.2801019614079644,
           "Logistic Regression_Female",
           "training_hours"
          ],
          [
           0.2801019614079644,
           "Logistic Regression_Female",
           "training_hours"
          ],
          [
           0.2801019614079644,
           "Logistic Regression_Female",
           "training_hours"
          ],
          [
           0.2801019614079644,
           "Logistic Regression_Female",
           "training_hours"
          ],
          [
           0.2801019614079644,
           "Logistic Regression_Female",
           "training_hours"
          ],
          [
           0.2801019614079644,
           "Logistic Regression_Female",
           "training_hours"
          ],
          [
           0.2801019614079644,
           "Logistic Regression_Female",
           "training_hours"
          ],
          [
           0.2801019614079644,
           "Logistic Regression_Female",
           "training_hours"
          ],
          [
           0.2801019614079644,
           "Logistic Regression_Female",
           "training_hours"
          ],
          [
           0.2801019614079644,
           "Logistic Regression_Female",
           "training_hours"
          ],
          [
           0.2801019614079644,
           "Logistic Regression_Female",
           "training_hours"
          ]
         ],
         "hovertemplate": "<b>%{hovertext}</b><br><br>prediction=%{y:.3f}<br>mean_prediction=%{customdata[0]:.3f}<extra></extra>",
         "hovertext": [
          "Logistic Regression_Female",
          "Logistic Regression_Female",
          "Logistic Regression_Female",
          "Logistic Regression_Female",
          "Logistic Regression_Female",
          "Logistic Regression_Female",
          "Logistic Regression_Female",
          "Logistic Regression_Female",
          "Logistic Regression_Female",
          "Logistic Regression_Female",
          "Logistic Regression_Female",
          "Logistic Regression_Female",
          "Logistic Regression_Female",
          "Logistic Regression_Female",
          "Logistic Regression_Female",
          "Logistic Regression_Female",
          "Logistic Regression_Female",
          "Logistic Regression_Female",
          "Logistic Regression_Female",
          "Logistic Regression_Female",
          "Logistic Regression_Female",
          "Logistic Regression_Female",
          "Logistic Regression_Female",
          "Logistic Regression_Female",
          "Logistic Regression_Female",
          "Logistic Regression_Female",
          "Logistic Regression_Female",
          "Logistic Regression_Female",
          "Logistic Regression_Female",
          "Logistic Regression_Female",
          "Logistic Regression_Female",
          "Logistic Regression_Female",
          "Logistic Regression_Female",
          "Logistic Regression_Female",
          "Logistic Regression_Female",
          "Logistic Regression_Female",
          "Logistic Regression_Female",
          "Logistic Regression_Female",
          "Logistic Regression_Female",
          "Logistic Regression_Female",
          "Logistic Regression_Female",
          "Logistic Regression_Female",
          "Logistic Regression_Female",
          "Logistic Regression_Female",
          "Logistic Regression_Female",
          "Logistic Regression_Female",
          "Logistic Regression_Female",
          "Logistic Regression_Female",
          "Logistic Regression_Female",
          "Logistic Regression_Female",
          "Logistic Regression_Female",
          "Logistic Regression_Female",
          "Logistic Regression_Female",
          "Logistic Regression_Female",
          "Logistic Regression_Female",
          "Logistic Regression_Female",
          "Logistic Regression_Female",
          "Logistic Regression_Female",
          "Logistic Regression_Female",
          "Logistic Regression_Female",
          "Logistic Regression_Female",
          "Logistic Regression_Female",
          "Logistic Regression_Female",
          "Logistic Regression_Female",
          "Logistic Regression_Female",
          "Logistic Regression_Female",
          "Logistic Regression_Female",
          "Logistic Regression_Female",
          "Logistic Regression_Female",
          "Logistic Regression_Female",
          "Logistic Regression_Female",
          "Logistic Regression_Female",
          "Logistic Regression_Female",
          "Logistic Regression_Female",
          "Logistic Regression_Female",
          "Logistic Regression_Female",
          "Logistic Regression_Female",
          "Logistic Regression_Female",
          "Logistic Regression_Female",
          "Logistic Regression_Female",
          "Logistic Regression_Female",
          "Logistic Regression_Female",
          "Logistic Regression_Female",
          "Logistic Regression_Female",
          "Logistic Regression_Female",
          "Logistic Regression_Female",
          "Logistic Regression_Female",
          "Logistic Regression_Female",
          "Logistic Regression_Female",
          "Logistic Regression_Female",
          "Logistic Regression_Female",
          "Logistic Regression_Female",
          "Logistic Regression_Female",
          "Logistic Regression_Female",
          "Logistic Regression_Female",
          "Logistic Regression_Female",
          "Logistic Regression_Female",
          "Logistic Regression_Female",
          "Logistic Regression_Female",
          "Logistic Regression_Female",
          "Logistic Regression_Female"
         ],
         "legendgroup": "Logistic Regression_Female",
         "line": {
          "color": "#4378bf",
          "dash": "solid",
          "width": 2
         },
         "marker": {
          "symbol": "circle"
         },
         "mode": "lines",
         "name": "Logistic Regression_Female",
         "opacity": 1,
         "orientation": "v",
         "showlegend": true,
         "type": "scatter",
         "x": [
          2,
          5.3,
          8.6,
          11.899999999999999,
          15.2,
          18.5,
          21.799999999999997,
          25.099999999999998,
          28.4,
          31.7,
          35,
          38.3,
          41.599999999999994,
          44.9,
          48.199999999999996,
          51.5,
          54.8,
          58.099999999999994,
          61.4,
          64.69999999999999,
          68,
          71.3,
          74.6,
          77.89999999999999,
          81.19999999999999,
          84.5,
          87.8,
          91.1,
          94.39999999999999,
          97.69999999999999,
          101,
          104.3,
          107.6,
          110.89999999999999,
          114.19999999999999,
          117.5,
          120.8,
          124.1,
          127.39999999999999,
          130.7,
          134,
          137.29999999999998,
          140.6,
          143.9,
          147.2,
          150.5,
          153.79999999999998,
          157.1,
          160.39999999999998,
          163.7,
          167,
          170.29999999999998,
          173.6,
          176.89999999999998,
          180.2,
          183.5,
          186.79999999999998,
          190.1,
          193.39999999999998,
          196.7,
          200,
          203.29999999999998,
          206.6,
          209.89999999999998,
          213.2,
          216.5,
          219.79999999999998,
          223.1,
          226.39999999999998,
          229.7,
          233,
          236.29999999999998,
          239.6,
          242.89999999999998,
          246.2,
          249.5,
          252.79999999999998,
          256.1,
          259.4,
          262.7,
          266,
          269.3,
          272.59999999999997,
          275.9,
          279.2,
          282.5,
          285.8,
          289.09999999999997,
          292.4,
          295.7,
          299,
          302.3,
          305.59999999999997,
          308.9,
          312.2,
          315.5,
          318.79999999999995,
          322.09999999999997,
          325.4,
          328.7,
          332
         ],
         "xaxis": "x",
         "y": [
          0.20071213281514672,
          0.20100331272619698,
          0.2012947690397018,
          0.20158650168065753,
          0.20187851057314601,
          0.20217079564033366,
          0.20246335680447045,
          0.20275619398688854,
          0.20304930710800143,
          0.20334269608730268,
          0.20363636084336506,
          0.20393030129383924,
          0.20422451735545286,
          0.20451900894400948,
          0.20481377597438738,
          0.20510881836053876,
          0.20540413601548854,
          0.20569972885133334,
          0.20599559677924043,
          0.20629173970944686,
          0.2065881575512583,
          0.20688485021304817,
          0.20718181760225646,
          0.20747905962538896,
          0.20777657618801612,
          0.2080743671947722,
          0.20837243254935428,
          0.20867077215452112,
          0.20896938591209255,
          0.20926827372294823,
          0.2095674354870269,
          0.20986687110332533,
          0.21016658046989758,
          0.21046656348385387,
          0.21076682004135985,
          0.2110673500376356,
          0.21136815336695478,
          0.2116692299226439,
          0.21197057959708104,
          0.2122722022816956,
          0.21257409786696682,
          0.21287626624242342,
          0.21317870729664243,
          0.21348142091724862,
          0.2137844069909134,
          0.21408766540335436,
          0.21439119603933415,
          0.21469499878265985,
          0.21499907351618203,
          0.21530342012179426,
          0.21560803848043206,
          0.21591292847207227,
          0.21621808997573216,
          0.21652352286946894,
          0.2168292270303788,
          0.21713520233459618,
          0.21744144865729328,
          0.21774796587267906,
          0.21805475385399875,
          0.21836181247353306,
          0.21866914160259743,
          0.21897674111154156,
          0.21928461086974854,
          0.21959275074563428,
          0.21990116060664686,
          0.2202098403192659,
          0.2205187897490019,
          0.22082800876039554,
          0.22113749721701723,
          0.22144725498146642,
          0.221757281915371,
          0.22206757787938666,
          0.22237814273319653,
          0.22268897633551024,
          0.22300007854406376,
          0.2233114492156185,
          0.22362308820596108,
          0.22393499536990252,
          0.224247170561278,
          0.22455961363294596,
          0.2248723244367881,
          0.22518530282370838,
          0.22549854864363292,
          0.22581206174550925,
          0.22612584197730604,
          0.22643988918601257,
          0.2267542032176382,
          0.22706878391721208,
          0.22738363112878268,
          0.2276987446954172,
          0.22801412445920138,
          0.22832977026123907,
          0.22864568194165166,
          0.228961859339578,
          0.22927830229317367,
          0.2295950106396109,
          0.2299119842150781,
          0.2302292228547795,
          0.230546726392935,
          0.23086449466277942,
          0.23118252749656273
         ],
         "yaxis": "y"
        }
       ],
       "layout": {
        "annotations": [
         {
          "font": {
           "size": 13
          },
          "showarrow": false,
          "text": "training_hours",
          "x": 0.5,
          "xanchor": "center",
          "xref": "paper",
          "y": 1,
          "yanchor": "bottom",
          "yref": "paper"
         },
         {
          "font": {
           "size": 13
          },
          "showarrow": false,
          "text": "prediction",
          "textangle": -90,
          "x": -0.07,
          "xref": "paper",
          "y": 0.5,
          "yref": "paper"
         }
        ],
        "font": {
         "color": "#371ea3"
        },
        "height": 489,
        "hovermode": "x unified",
        "legend": {
         "font": {
          "size": 11
         },
         "itemsizing": "constant",
         "orientation": "h",
         "title": {
          "font": {
           "size": 12
          },
          "text": "label"
         },
         "tracegroupgap": 0,
         "x": 1,
         "xanchor": "right",
         "y": 1.0613496932515338,
         "yanchor": "bottom"
        },
        "margin": {
         "b": 71,
         "r": 30,
         "t": 78
        },
        "template": {
         "data": {
          "scatter": [
           {
            "type": "scatter"
           }
          ]
         }
        },
        "title": {
         "font": {
          "size": 16
         },
         "text": "PDP for training_hours with gender groups",
         "x": 0.15
        },
        "xaxis": {
         "anchor": "y",
         "automargin": true,
         "domain": [
          0,
          1
         ],
         "fixedrange": true,
         "gridwidth": 2,
         "showticklabels": true,
         "tickcolor": "white",
         "ticklen": 3,
         "ticks": "outside",
         "title": {
          "text": ""
         },
         "type": "linear",
         "zeroline": false
        },
        "yaxis": {
         "anchor": "x",
         "automargin": true,
         "domain": [
          0,
          1
         ],
         "fixedrange": true,
         "gridwidth": 2,
         "range": [
          0.1846546857888193,
          0.37734405010474836
         ],
         "tickcolor": "white",
         "ticklen": 3,
         "ticks": "outside",
         "title": {
          "text": ""
         },
         "type": "linear",
         "zeroline": false
        }
       }
      }
     },
     "metadata": {},
     "output_type": "display_data"
    }
   ],
   "source": [
    "X_train['gender_text'] = X_train['training_hours'].map({'Female': 0, 'Male': 1, 'No data': 2, 'Other': 3})\n",
    "\n",
    "# Użycie tej kolumny do grupowania\n",
    "pdp_age_gender = exp.model_profile(variables=['training_hours'], groups='gender')\n",
    "pdp_age_gender.plot(title=\"PDP for training_hours with gender groups\")"
   ]
  },
  {
   "cell_type": "code",
   "execution_count": 1043,
   "metadata": {},
   "outputs": [
    {
     "name": "stderr",
     "output_type": "stream",
     "text": [
      "Calculating ceteris paribus: 100%|██████████| 1/1 [00:00<00:00, 12.99it/s]\n"
     ]
    },
    {
     "data": {
      "application/vnd.plotly.v1+json": {
       "config": {
        "displaylogo": false,
        "modeBarButtonsToRemove": [
         "sendDataToCloud",
         "lasso2d",
         "autoScale2d",
         "select2d",
         "zoom2d",
         "pan2d",
         "zoomIn2d",
         "zoomOut2d",
         "resetScale2d",
         "toggleSpikelines",
         "hoverCompareCartesian",
         "hoverClosestCartesian"
        ],
        "plotlyServerURL": "https://plot.ly",
        "staticPlot": false,
        "toImageButtonOptions": {
         "height": null,
         "width": null
        }
       },
       "data": [
        {
         "customdata": [
          [
           0.28250982836800453,
           "Logistic Regression_Male",
           "city_development_index"
          ],
          [
           0.28250982836800453,
           "Logistic Regression_Male",
           "city_development_index"
          ],
          [
           0.28250982836800453,
           "Logistic Regression_Male",
           "city_development_index"
          ],
          [
           0.28250982836800453,
           "Logistic Regression_Male",
           "city_development_index"
          ],
          [
           0.28250982836800453,
           "Logistic Regression_Male",
           "city_development_index"
          ],
          [
           0.28250982836800453,
           "Logistic Regression_Male",
           "city_development_index"
          ],
          [
           0.28250982836800453,
           "Logistic Regression_Male",
           "city_development_index"
          ],
          [
           0.28250982836800453,
           "Logistic Regression_Male",
           "city_development_index"
          ],
          [
           0.28250982836800453,
           "Logistic Regression_Male",
           "city_development_index"
          ],
          [
           0.28250982836800453,
           "Logistic Regression_Male",
           "city_development_index"
          ],
          [
           0.28250982836800453,
           "Logistic Regression_Male",
           "city_development_index"
          ],
          [
           0.28250982836800453,
           "Logistic Regression_Male",
           "city_development_index"
          ],
          [
           0.28250982836800453,
           "Logistic Regression_Male",
           "city_development_index"
          ],
          [
           0.28250982836800453,
           "Logistic Regression_Male",
           "city_development_index"
          ],
          [
           0.28250982836800453,
           "Logistic Regression_Male",
           "city_development_index"
          ],
          [
           0.28250982836800453,
           "Logistic Regression_Male",
           "city_development_index"
          ],
          [
           0.28250982836800453,
           "Logistic Regression_Male",
           "city_development_index"
          ],
          [
           0.28250982836800453,
           "Logistic Regression_Male",
           "city_development_index"
          ],
          [
           0.28250982836800453,
           "Logistic Regression_Male",
           "city_development_index"
          ],
          [
           0.28250982836800453,
           "Logistic Regression_Male",
           "city_development_index"
          ],
          [
           0.28250982836800453,
           "Logistic Regression_Male",
           "city_development_index"
          ],
          [
           0.28250982836800453,
           "Logistic Regression_Male",
           "city_development_index"
          ],
          [
           0.28250982836800453,
           "Logistic Regression_Male",
           "city_development_index"
          ],
          [
           0.28250982836800453,
           "Logistic Regression_Male",
           "city_development_index"
          ],
          [
           0.28250982836800453,
           "Logistic Regression_Male",
           "city_development_index"
          ],
          [
           0.28250982836800453,
           "Logistic Regression_Male",
           "city_development_index"
          ],
          [
           0.28250982836800453,
           "Logistic Regression_Male",
           "city_development_index"
          ],
          [
           0.28250982836800453,
           "Logistic Regression_Male",
           "city_development_index"
          ],
          [
           0.28250982836800453,
           "Logistic Regression_Male",
           "city_development_index"
          ],
          [
           0.28250982836800453,
           "Logistic Regression_Male",
           "city_development_index"
          ],
          [
           0.28250982836800453,
           "Logistic Regression_Male",
           "city_development_index"
          ],
          [
           0.28250982836800453,
           "Logistic Regression_Male",
           "city_development_index"
          ],
          [
           0.28250982836800453,
           "Logistic Regression_Male",
           "city_development_index"
          ],
          [
           0.28250982836800453,
           "Logistic Regression_Male",
           "city_development_index"
          ],
          [
           0.28250982836800453,
           "Logistic Regression_Male",
           "city_development_index"
          ],
          [
           0.28250982836800453,
           "Logistic Regression_Male",
           "city_development_index"
          ],
          [
           0.28250982836800453,
           "Logistic Regression_Male",
           "city_development_index"
          ],
          [
           0.28250982836800453,
           "Logistic Regression_Male",
           "city_development_index"
          ],
          [
           0.28250982836800453,
           "Logistic Regression_Male",
           "city_development_index"
          ],
          [
           0.28250982836800453,
           "Logistic Regression_Male",
           "city_development_index"
          ],
          [
           0.28250982836800453,
           "Logistic Regression_Male",
           "city_development_index"
          ],
          [
           0.28250982836800453,
           "Logistic Regression_Male",
           "city_development_index"
          ],
          [
           0.28250982836800453,
           "Logistic Regression_Male",
           "city_development_index"
          ],
          [
           0.28250982836800453,
           "Logistic Regression_Male",
           "city_development_index"
          ],
          [
           0.28250982836800453,
           "Logistic Regression_Male",
           "city_development_index"
          ],
          [
           0.28250982836800453,
           "Logistic Regression_Male",
           "city_development_index"
          ],
          [
           0.28250982836800453,
           "Logistic Regression_Male",
           "city_development_index"
          ],
          [
           0.28250982836800453,
           "Logistic Regression_Male",
           "city_development_index"
          ],
          [
           0.28250982836800453,
           "Logistic Regression_Male",
           "city_development_index"
          ],
          [
           0.28250982836800453,
           "Logistic Regression_Male",
           "city_development_index"
          ],
          [
           0.28250982836800453,
           "Logistic Regression_Male",
           "city_development_index"
          ],
          [
           0.28250982836800453,
           "Logistic Regression_Male",
           "city_development_index"
          ],
          [
           0.28250982836800453,
           "Logistic Regression_Male",
           "city_development_index"
          ],
          [
           0.28250982836800453,
           "Logistic Regression_Male",
           "city_development_index"
          ],
          [
           0.28250982836800453,
           "Logistic Regression_Male",
           "city_development_index"
          ],
          [
           0.28250982836800453,
           "Logistic Regression_Male",
           "city_development_index"
          ],
          [
           0.28250982836800453,
           "Logistic Regression_Male",
           "city_development_index"
          ],
          [
           0.28250982836800453,
           "Logistic Regression_Male",
           "city_development_index"
          ],
          [
           0.28250982836800453,
           "Logistic Regression_Male",
           "city_development_index"
          ],
          [
           0.28250982836800453,
           "Logistic Regression_Male",
           "city_development_index"
          ],
          [
           0.28250982836800453,
           "Logistic Regression_Male",
           "city_development_index"
          ],
          [
           0.28250982836800453,
           "Logistic Regression_Male",
           "city_development_index"
          ],
          [
           0.28250982836800453,
           "Logistic Regression_Male",
           "city_development_index"
          ],
          [
           0.28250982836800453,
           "Logistic Regression_Male",
           "city_development_index"
          ],
          [
           0.28250982836800453,
           "Logistic Regression_Male",
           "city_development_index"
          ],
          [
           0.28250982836800453,
           "Logistic Regression_Male",
           "city_development_index"
          ],
          [
           0.28250982836800453,
           "Logistic Regression_Male",
           "city_development_index"
          ],
          [
           0.28250982836800453,
           "Logistic Regression_Male",
           "city_development_index"
          ],
          [
           0.28250982836800453,
           "Logistic Regression_Male",
           "city_development_index"
          ],
          [
           0.28250982836800453,
           "Logistic Regression_Male",
           "city_development_index"
          ],
          [
           0.28250982836800453,
           "Logistic Regression_Male",
           "city_development_index"
          ],
          [
           0.28250982836800453,
           "Logistic Regression_Male",
           "city_development_index"
          ],
          [
           0.28250982836800453,
           "Logistic Regression_Male",
           "city_development_index"
          ],
          [
           0.28250982836800453,
           "Logistic Regression_Male",
           "city_development_index"
          ],
          [
           0.28250982836800453,
           "Logistic Regression_Male",
           "city_development_index"
          ],
          [
           0.28250982836800453,
           "Logistic Regression_Male",
           "city_development_index"
          ],
          [
           0.28250982836800453,
           "Logistic Regression_Male",
           "city_development_index"
          ],
          [
           0.28250982836800453,
           "Logistic Regression_Male",
           "city_development_index"
          ],
          [
           0.28250982836800453,
           "Logistic Regression_Male",
           "city_development_index"
          ],
          [
           0.28250982836800453,
           "Logistic Regression_Male",
           "city_development_index"
          ],
          [
           0.28250982836800453,
           "Logistic Regression_Male",
           "city_development_index"
          ],
          [
           0.28250982836800453,
           "Logistic Regression_Male",
           "city_development_index"
          ],
          [
           0.28250982836800453,
           "Logistic Regression_Male",
           "city_development_index"
          ],
          [
           0.28250982836800453,
           "Logistic Regression_Male",
           "city_development_index"
          ],
          [
           0.28250982836800453,
           "Logistic Regression_Male",
           "city_development_index"
          ],
          [
           0.28250982836800453,
           "Logistic Regression_Male",
           "city_development_index"
          ],
          [
           0.28250982836800453,
           "Logistic Regression_Male",
           "city_development_index"
          ],
          [
           0.28250982836800453,
           "Logistic Regression_Male",
           "city_development_index"
          ],
          [
           0.28250982836800453,
           "Logistic Regression_Male",
           "city_development_index"
          ],
          [
           0.28250982836800453,
           "Logistic Regression_Male",
           "city_development_index"
          ],
          [
           0.28250982836800453,
           "Logistic Regression_Male",
           "city_development_index"
          ],
          [
           0.28250982836800453,
           "Logistic Regression_Male",
           "city_development_index"
          ],
          [
           0.28250982836800453,
           "Logistic Regression_Male",
           "city_development_index"
          ],
          [
           0.28250982836800453,
           "Logistic Regression_Male",
           "city_development_index"
          ],
          [
           0.28250982836800453,
           "Logistic Regression_Male",
           "city_development_index"
          ],
          [
           0.28250982836800453,
           "Logistic Regression_Male",
           "city_development_index"
          ],
          [
           0.28250982836800453,
           "Logistic Regression_Male",
           "city_development_index"
          ],
          [
           0.28250982836800453,
           "Logistic Regression_Male",
           "city_development_index"
          ],
          [
           0.28250982836800453,
           "Logistic Regression_Male",
           "city_development_index"
          ],
          [
           0.28250982836800453,
           "Logistic Regression_Male",
           "city_development_index"
          ],
          [
           0.28250982836800453,
           "Logistic Regression_Male",
           "city_development_index"
          ]
         ],
         "hovertemplate": "<b>%{hovertext}</b><br><br>prediction=%{y:.3f}<br>mean_prediction=%{customdata[0]:.3f}<extra></extra>",
         "hovertext": [
          "Logistic Regression_Male",
          "Logistic Regression_Male",
          "Logistic Regression_Male",
          "Logistic Regression_Male",
          "Logistic Regression_Male",
          "Logistic Regression_Male",
          "Logistic Regression_Male",
          "Logistic Regression_Male",
          "Logistic Regression_Male",
          "Logistic Regression_Male",
          "Logistic Regression_Male",
          "Logistic Regression_Male",
          "Logistic Regression_Male",
          "Logistic Regression_Male",
          "Logistic Regression_Male",
          "Logistic Regression_Male",
          "Logistic Regression_Male",
          "Logistic Regression_Male",
          "Logistic Regression_Male",
          "Logistic Regression_Male",
          "Logistic Regression_Male",
          "Logistic Regression_Male",
          "Logistic Regression_Male",
          "Logistic Regression_Male",
          "Logistic Regression_Male",
          "Logistic Regression_Male",
          "Logistic Regression_Male",
          "Logistic Regression_Male",
          "Logistic Regression_Male",
          "Logistic Regression_Male",
          "Logistic Regression_Male",
          "Logistic Regression_Male",
          "Logistic Regression_Male",
          "Logistic Regression_Male",
          "Logistic Regression_Male",
          "Logistic Regression_Male",
          "Logistic Regression_Male",
          "Logistic Regression_Male",
          "Logistic Regression_Male",
          "Logistic Regression_Male",
          "Logistic Regression_Male",
          "Logistic Regression_Male",
          "Logistic Regression_Male",
          "Logistic Regression_Male",
          "Logistic Regression_Male",
          "Logistic Regression_Male",
          "Logistic Regression_Male",
          "Logistic Regression_Male",
          "Logistic Regression_Male",
          "Logistic Regression_Male",
          "Logistic Regression_Male",
          "Logistic Regression_Male",
          "Logistic Regression_Male",
          "Logistic Regression_Male",
          "Logistic Regression_Male",
          "Logistic Regression_Male",
          "Logistic Regression_Male",
          "Logistic Regression_Male",
          "Logistic Regression_Male",
          "Logistic Regression_Male",
          "Logistic Regression_Male",
          "Logistic Regression_Male",
          "Logistic Regression_Male",
          "Logistic Regression_Male",
          "Logistic Regression_Male",
          "Logistic Regression_Male",
          "Logistic Regression_Male",
          "Logistic Regression_Male",
          "Logistic Regression_Male",
          "Logistic Regression_Male",
          "Logistic Regression_Male",
          "Logistic Regression_Male",
          "Logistic Regression_Male",
          "Logistic Regression_Male",
          "Logistic Regression_Male",
          "Logistic Regression_Male",
          "Logistic Regression_Male",
          "Logistic Regression_Male",
          "Logistic Regression_Male",
          "Logistic Regression_Male",
          "Logistic Regression_Male",
          "Logistic Regression_Male",
          "Logistic Regression_Male",
          "Logistic Regression_Male",
          "Logistic Regression_Male",
          "Logistic Regression_Male",
          "Logistic Regression_Male",
          "Logistic Regression_Male",
          "Logistic Regression_Male",
          "Logistic Regression_Male",
          "Logistic Regression_Male",
          "Logistic Regression_Male",
          "Logistic Regression_Male",
          "Logistic Regression_Male",
          "Logistic Regression_Male",
          "Logistic Regression_Male",
          "Logistic Regression_Male",
          "Logistic Regression_Male",
          "Logistic Regression_Male",
          "Logistic Regression_Male",
          "Logistic Regression_Male"
         ],
         "legendgroup": "Logistic Regression_Male",
         "line": {
          "color": "#8bdcbe",
          "dash": "solid",
          "width": 2
         },
         "marker": {
          "symbol": "circle"
         },
         "mode": "lines",
         "name": "Logistic Regression_Male",
         "opacity": 1,
         "orientation": "v",
         "showlegend": true,
         "type": "scatter",
         "x": [
          0.479,
          0.48369999999999996,
          0.4884,
          0.4931,
          0.49779999999999996,
          0.5025,
          0.5072,
          0.5119,
          0.5166,
          0.5213,
          0.526,
          0.5307,
          0.5354,
          0.5401,
          0.5448,
          0.5495,
          0.5542,
          0.5589,
          0.5636,
          0.5683,
          0.573,
          0.5777,
          0.5824,
          0.5871,
          0.5918,
          0.5964999999999999,
          0.6012,
          0.6059,
          0.6106,
          0.6153,
          0.62,
          0.6246999999999999,
          0.6294,
          0.6341,
          0.6387999999999999,
          0.6435,
          0.6481999999999999,
          0.6528999999999999,
          0.6576,
          0.6622999999999999,
          0.6669999999999999,
          0.6717,
          0.6763999999999999,
          0.6810999999999999,
          0.6858,
          0.6904999999999999,
          0.6951999999999999,
          0.6999,
          0.7045999999999999,
          0.7092999999999999,
          0.714,
          0.7186999999999999,
          0.7233999999999999,
          0.7281,
          0.7327999999999999,
          0.7374999999999999,
          0.7422,
          0.7468999999999999,
          0.7515999999999999,
          0.7563,
          0.7609999999999999,
          0.7656999999999999,
          0.7704,
          0.7750999999999999,
          0.7797999999999999,
          0.7845,
          0.7891999999999999,
          0.7938999999999999,
          0.7986,
          0.8032999999999999,
          0.8079999999999999,
          0.8127,
          0.8173999999999999,
          0.8220999999999999,
          0.8268,
          0.8314999999999999,
          0.8361999999999999,
          0.8409,
          0.8455999999999999,
          0.8503,
          0.855,
          0.8596999999999999,
          0.8644,
          0.8691,
          0.8737999999999999,
          0.8785,
          0.8832,
          0.8878999999999999,
          0.8926,
          0.8973,
          0.9019999999999999,
          0.9066999999999998,
          0.9114,
          0.9160999999999999,
          0.9207999999999998,
          0.9255,
          0.9301999999999999,
          0.9348999999999998,
          0.9396,
          0.9442999999999999,
          0.949
         ],
         "xaxis": "x",
         "y": [
          0.6817112803721272,
          0.6763936009096407,
          0.6710369415674108,
          0.6656423707317349,
          0.6602109853665502,
          0.6547439101673962,
          0.6492422966726491,
          0.6437073223336017,
          0.6381401895450745,
          0.6325421246383574,
          0.6269143768383976,
          0.6212582171872421,
          0.6155749374358483,
          0.6098658489064699,
          0.6041322813278999,
          0.5983755816459453,
          0.5925971128115648,
          0.5867982525491721,
          0.5809803921076576,
          0.5751449349967285,
          0.5692932957112002,
          0.5634268984459017,
          0.5575471758038731,
          0.5516555675005386,
          0.5457535190665349,
          0.5398424805518649,
          0.5339239052340115,
          0.5279992483326246,
          0.5220699657333354,
          0.5161375127232031,
          0.5102033427402292,
          0.5042689061393008,
          0.4983356489768295,
          0.4924050118162672,
          0.48647842855656537,
          0.4805573252855345,
          0.474643119159943,
          0.46873721731405565,
          0.4628410157981909,
          0.4569558985487239,
          0.4510832363908235,
          0.4452243860750641,
          0.439380689348898,
          0.4335534720638222,
          0.4277440433189247,
          0.42195369464133453,
          0.4161836992039556,
          0.41043531108071096,
          0.40470976453937996,
          0.3990082733719692,
          0.3933320302624249,
          0.38768220619136085,
          0.38205994987735825,
          0.37646638725427856,
          0.37090262098392324,
          0.3653697300032815,
          0.35986876910551835,
          0.3544007685537823,
          0.3489667337268421,
          0.3435676447955149,
          0.3382044564287952,
          0.33287809752857017,
          0.3275894709917807,
          0.322339453498876,
          0.3171288953274103,
          0.311958620189641,
          0.30682942509300165,
          0.30174208022235455,
          0.2966973288429625,
          0.2916958872231613,
          0.28673844457576575,
          0.2818256630172979,
          0.2769581775441862,
          0.2721365960251493,
          0.26736149920904917,
          0.2626334407475647,
          0.2579529472321124,
          0.25332051824451335,
          0.24873662642097527,
          0.24420171752903305,
          0.2397162105571594,
          0.2352804978168223,
          0.23089494505683153,
          0.22655989158987513,
          0.22227565043119998,
          0.21804250844944206,
          0.21386072652965632,
          0.20973053974863196,
          0.20565215756261396,
          0.20162576400757726,
          0.19765151791221708,
          0.19372955312383566,
          0.18985997874731023,
          0.1860428793973283,
          0.18227831546406892,
          0.17856632339250086,
          0.1749069159754479,
          0.17130008266054828,
          0.16774578987121236,
          0.16424398134164644,
          0.16079457846597284
         ],
         "yaxis": "y"
        },
        {
         "customdata": [
          [
           0.28250982836800453,
           "Logistic Regression_No data",
           "city_development_index"
          ],
          [
           0.28250982836800453,
           "Logistic Regression_No data",
           "city_development_index"
          ],
          [
           0.28250982836800453,
           "Logistic Regression_No data",
           "city_development_index"
          ],
          [
           0.28250982836800453,
           "Logistic Regression_No data",
           "city_development_index"
          ],
          [
           0.28250982836800453,
           "Logistic Regression_No data",
           "city_development_index"
          ],
          [
           0.28250982836800453,
           "Logistic Regression_No data",
           "city_development_index"
          ],
          [
           0.28250982836800453,
           "Logistic Regression_No data",
           "city_development_index"
          ],
          [
           0.28250982836800453,
           "Logistic Regression_No data",
           "city_development_index"
          ],
          [
           0.28250982836800453,
           "Logistic Regression_No data",
           "city_development_index"
          ],
          [
           0.28250982836800453,
           "Logistic Regression_No data",
           "city_development_index"
          ],
          [
           0.28250982836800453,
           "Logistic Regression_No data",
           "city_development_index"
          ],
          [
           0.28250982836800453,
           "Logistic Regression_No data",
           "city_development_index"
          ],
          [
           0.28250982836800453,
           "Logistic Regression_No data",
           "city_development_index"
          ],
          [
           0.28250982836800453,
           "Logistic Regression_No data",
           "city_development_index"
          ],
          [
           0.28250982836800453,
           "Logistic Regression_No data",
           "city_development_index"
          ],
          [
           0.28250982836800453,
           "Logistic Regression_No data",
           "city_development_index"
          ],
          [
           0.28250982836800453,
           "Logistic Regression_No data",
           "city_development_index"
          ],
          [
           0.28250982836800453,
           "Logistic Regression_No data",
           "city_development_index"
          ],
          [
           0.28250982836800453,
           "Logistic Regression_No data",
           "city_development_index"
          ],
          [
           0.28250982836800453,
           "Logistic Regression_No data",
           "city_development_index"
          ],
          [
           0.28250982836800453,
           "Logistic Regression_No data",
           "city_development_index"
          ],
          [
           0.28250982836800453,
           "Logistic Regression_No data",
           "city_development_index"
          ],
          [
           0.28250982836800453,
           "Logistic Regression_No data",
           "city_development_index"
          ],
          [
           0.28250982836800453,
           "Logistic Regression_No data",
           "city_development_index"
          ],
          [
           0.28250982836800453,
           "Logistic Regression_No data",
           "city_development_index"
          ],
          [
           0.28250982836800453,
           "Logistic Regression_No data",
           "city_development_index"
          ],
          [
           0.28250982836800453,
           "Logistic Regression_No data",
           "city_development_index"
          ],
          [
           0.28250982836800453,
           "Logistic Regression_No data",
           "city_development_index"
          ],
          [
           0.28250982836800453,
           "Logistic Regression_No data",
           "city_development_index"
          ],
          [
           0.28250982836800453,
           "Logistic Regression_No data",
           "city_development_index"
          ],
          [
           0.28250982836800453,
           "Logistic Regression_No data",
           "city_development_index"
          ],
          [
           0.28250982836800453,
           "Logistic Regression_No data",
           "city_development_index"
          ],
          [
           0.28250982836800453,
           "Logistic Regression_No data",
           "city_development_index"
          ],
          [
           0.28250982836800453,
           "Logistic Regression_No data",
           "city_development_index"
          ],
          [
           0.28250982836800453,
           "Logistic Regression_No data",
           "city_development_index"
          ],
          [
           0.28250982836800453,
           "Logistic Regression_No data",
           "city_development_index"
          ],
          [
           0.28250982836800453,
           "Logistic Regression_No data",
           "city_development_index"
          ],
          [
           0.28250982836800453,
           "Logistic Regression_No data",
           "city_development_index"
          ],
          [
           0.28250982836800453,
           "Logistic Regression_No data",
           "city_development_index"
          ],
          [
           0.28250982836800453,
           "Logistic Regression_No data",
           "city_development_index"
          ],
          [
           0.28250982836800453,
           "Logistic Regression_No data",
           "city_development_index"
          ],
          [
           0.28250982836800453,
           "Logistic Regression_No data",
           "city_development_index"
          ],
          [
           0.28250982836800453,
           "Logistic Regression_No data",
           "city_development_index"
          ],
          [
           0.28250982836800453,
           "Logistic Regression_No data",
           "city_development_index"
          ],
          [
           0.28250982836800453,
           "Logistic Regression_No data",
           "city_development_index"
          ],
          [
           0.28250982836800453,
           "Logistic Regression_No data",
           "city_development_index"
          ],
          [
           0.28250982836800453,
           "Logistic Regression_No data",
           "city_development_index"
          ],
          [
           0.28250982836800453,
           "Logistic Regression_No data",
           "city_development_index"
          ],
          [
           0.28250982836800453,
           "Logistic Regression_No data",
           "city_development_index"
          ],
          [
           0.28250982836800453,
           "Logistic Regression_No data",
           "city_development_index"
          ],
          [
           0.28250982836800453,
           "Logistic Regression_No data",
           "city_development_index"
          ],
          [
           0.28250982836800453,
           "Logistic Regression_No data",
           "city_development_index"
          ],
          [
           0.28250982836800453,
           "Logistic Regression_No data",
           "city_development_index"
          ],
          [
           0.28250982836800453,
           "Logistic Regression_No data",
           "city_development_index"
          ],
          [
           0.28250982836800453,
           "Logistic Regression_No data",
           "city_development_index"
          ],
          [
           0.28250982836800453,
           "Logistic Regression_No data",
           "city_development_index"
          ],
          [
           0.28250982836800453,
           "Logistic Regression_No data",
           "city_development_index"
          ],
          [
           0.28250982836800453,
           "Logistic Regression_No data",
           "city_development_index"
          ],
          [
           0.28250982836800453,
           "Logistic Regression_No data",
           "city_development_index"
          ],
          [
           0.28250982836800453,
           "Logistic Regression_No data",
           "city_development_index"
          ],
          [
           0.28250982836800453,
           "Logistic Regression_No data",
           "city_development_index"
          ],
          [
           0.28250982836800453,
           "Logistic Regression_No data",
           "city_development_index"
          ],
          [
           0.28250982836800453,
           "Logistic Regression_No data",
           "city_development_index"
          ],
          [
           0.28250982836800453,
           "Logistic Regression_No data",
           "city_development_index"
          ],
          [
           0.28250982836800453,
           "Logistic Regression_No data",
           "city_development_index"
          ],
          [
           0.28250982836800453,
           "Logistic Regression_No data",
           "city_development_index"
          ],
          [
           0.28250982836800453,
           "Logistic Regression_No data",
           "city_development_index"
          ],
          [
           0.28250982836800453,
           "Logistic Regression_No data",
           "city_development_index"
          ],
          [
           0.28250982836800453,
           "Logistic Regression_No data",
           "city_development_index"
          ],
          [
           0.28250982836800453,
           "Logistic Regression_No data",
           "city_development_index"
          ],
          [
           0.28250982836800453,
           "Logistic Regression_No data",
           "city_development_index"
          ],
          [
           0.28250982836800453,
           "Logistic Regression_No data",
           "city_development_index"
          ],
          [
           0.28250982836800453,
           "Logistic Regression_No data",
           "city_development_index"
          ],
          [
           0.28250982836800453,
           "Logistic Regression_No data",
           "city_development_index"
          ],
          [
           0.28250982836800453,
           "Logistic Regression_No data",
           "city_development_index"
          ],
          [
           0.28250982836800453,
           "Logistic Regression_No data",
           "city_development_index"
          ],
          [
           0.28250982836800453,
           "Logistic Regression_No data",
           "city_development_index"
          ],
          [
           0.28250982836800453,
           "Logistic Regression_No data",
           "city_development_index"
          ],
          [
           0.28250982836800453,
           "Logistic Regression_No data",
           "city_development_index"
          ],
          [
           0.28250982836800453,
           "Logistic Regression_No data",
           "city_development_index"
          ],
          [
           0.28250982836800453,
           "Logistic Regression_No data",
           "city_development_index"
          ],
          [
           0.28250982836800453,
           "Logistic Regression_No data",
           "city_development_index"
          ],
          [
           0.28250982836800453,
           "Logistic Regression_No data",
           "city_development_index"
          ],
          [
           0.28250982836800453,
           "Logistic Regression_No data",
           "city_development_index"
          ],
          [
           0.28250982836800453,
           "Logistic Regression_No data",
           "city_development_index"
          ],
          [
           0.28250982836800453,
           "Logistic Regression_No data",
           "city_development_index"
          ],
          [
           0.28250982836800453,
           "Logistic Regression_No data",
           "city_development_index"
          ],
          [
           0.28250982836800453,
           "Logistic Regression_No data",
           "city_development_index"
          ],
          [
           0.28250982836800453,
           "Logistic Regression_No data",
           "city_development_index"
          ],
          [
           0.28250982836800453,
           "Logistic Regression_No data",
           "city_development_index"
          ],
          [
           0.28250982836800453,
           "Logistic Regression_No data",
           "city_development_index"
          ],
          [
           0.28250982836800453,
           "Logistic Regression_No data",
           "city_development_index"
          ],
          [
           0.28250982836800453,
           "Logistic Regression_No data",
           "city_development_index"
          ],
          [
           0.28250982836800453,
           "Logistic Regression_No data",
           "city_development_index"
          ],
          [
           0.28250982836800453,
           "Logistic Regression_No data",
           "city_development_index"
          ],
          [
           0.28250982836800453,
           "Logistic Regression_No data",
           "city_development_index"
          ],
          [
           0.28250982836800453,
           "Logistic Regression_No data",
           "city_development_index"
          ],
          [
           0.28250982836800453,
           "Logistic Regression_No data",
           "city_development_index"
          ],
          [
           0.28250982836800453,
           "Logistic Regression_No data",
           "city_development_index"
          ],
          [
           0.28250982836800453,
           "Logistic Regression_No data",
           "city_development_index"
          ],
          [
           0.28250982836800453,
           "Logistic Regression_No data",
           "city_development_index"
          ]
         ],
         "hovertemplate": "<b>%{hovertext}</b><br><br>prediction=%{y:.3f}<br>mean_prediction=%{customdata[0]:.3f}<extra></extra>",
         "hovertext": [
          "Logistic Regression_No data",
          "Logistic Regression_No data",
          "Logistic Regression_No data",
          "Logistic Regression_No data",
          "Logistic Regression_No data",
          "Logistic Regression_No data",
          "Logistic Regression_No data",
          "Logistic Regression_No data",
          "Logistic Regression_No data",
          "Logistic Regression_No data",
          "Logistic Regression_No data",
          "Logistic Regression_No data",
          "Logistic Regression_No data",
          "Logistic Regression_No data",
          "Logistic Regression_No data",
          "Logistic Regression_No data",
          "Logistic Regression_No data",
          "Logistic Regression_No data",
          "Logistic Regression_No data",
          "Logistic Regression_No data",
          "Logistic Regression_No data",
          "Logistic Regression_No data",
          "Logistic Regression_No data",
          "Logistic Regression_No data",
          "Logistic Regression_No data",
          "Logistic Regression_No data",
          "Logistic Regression_No data",
          "Logistic Regression_No data",
          "Logistic Regression_No data",
          "Logistic Regression_No data",
          "Logistic Regression_No data",
          "Logistic Regression_No data",
          "Logistic Regression_No data",
          "Logistic Regression_No data",
          "Logistic Regression_No data",
          "Logistic Regression_No data",
          "Logistic Regression_No data",
          "Logistic Regression_No data",
          "Logistic Regression_No data",
          "Logistic Regression_No data",
          "Logistic Regression_No data",
          "Logistic Regression_No data",
          "Logistic Regression_No data",
          "Logistic Regression_No data",
          "Logistic Regression_No data",
          "Logistic Regression_No data",
          "Logistic Regression_No data",
          "Logistic Regression_No data",
          "Logistic Regression_No data",
          "Logistic Regression_No data",
          "Logistic Regression_No data",
          "Logistic Regression_No data",
          "Logistic Regression_No data",
          "Logistic Regression_No data",
          "Logistic Regression_No data",
          "Logistic Regression_No data",
          "Logistic Regression_No data",
          "Logistic Regression_No data",
          "Logistic Regression_No data",
          "Logistic Regression_No data",
          "Logistic Regression_No data",
          "Logistic Regression_No data",
          "Logistic Regression_No data",
          "Logistic Regression_No data",
          "Logistic Regression_No data",
          "Logistic Regression_No data",
          "Logistic Regression_No data",
          "Logistic Regression_No data",
          "Logistic Regression_No data",
          "Logistic Regression_No data",
          "Logistic Regression_No data",
          "Logistic Regression_No data",
          "Logistic Regression_No data",
          "Logistic Regression_No data",
          "Logistic Regression_No data",
          "Logistic Regression_No data",
          "Logistic Regression_No data",
          "Logistic Regression_No data",
          "Logistic Regression_No data",
          "Logistic Regression_No data",
          "Logistic Regression_No data",
          "Logistic Regression_No data",
          "Logistic Regression_No data",
          "Logistic Regression_No data",
          "Logistic Regression_No data",
          "Logistic Regression_No data",
          "Logistic Regression_No data",
          "Logistic Regression_No data",
          "Logistic Regression_No data",
          "Logistic Regression_No data",
          "Logistic Regression_No data",
          "Logistic Regression_No data",
          "Logistic Regression_No data",
          "Logistic Regression_No data",
          "Logistic Regression_No data",
          "Logistic Regression_No data",
          "Logistic Regression_No data",
          "Logistic Regression_No data",
          "Logistic Regression_No data",
          "Logistic Regression_No data",
          "Logistic Regression_No data"
         ],
         "legendgroup": "Logistic Regression_No data",
         "line": {
          "color": "#f05a71",
          "dash": "solid",
          "width": 2
         },
         "marker": {
          "symbol": "circle"
         },
         "mode": "lines",
         "name": "Logistic Regression_No data",
         "opacity": 1,
         "orientation": "v",
         "showlegend": true,
         "type": "scatter",
         "x": [
          0.479,
          0.48369999999999996,
          0.4884,
          0.4931,
          0.49779999999999996,
          0.5025,
          0.5072,
          0.5119,
          0.5166,
          0.5213,
          0.526,
          0.5307,
          0.5354,
          0.5401,
          0.5448,
          0.5495,
          0.5542,
          0.5589,
          0.5636,
          0.5683,
          0.573,
          0.5777,
          0.5824,
          0.5871,
          0.5918,
          0.5964999999999999,
          0.6012,
          0.6059,
          0.6106,
          0.6153,
          0.62,
          0.6246999999999999,
          0.6294,
          0.6341,
          0.6387999999999999,
          0.6435,
          0.6481999999999999,
          0.6528999999999999,
          0.6576,
          0.6622999999999999,
          0.6669999999999999,
          0.6717,
          0.6763999999999999,
          0.6810999999999999,
          0.6858,
          0.6904999999999999,
          0.6951999999999999,
          0.6999,
          0.7045999999999999,
          0.7092999999999999,
          0.714,
          0.7186999999999999,
          0.7233999999999999,
          0.7281,
          0.7327999999999999,
          0.7374999999999999,
          0.7422,
          0.7468999999999999,
          0.7515999999999999,
          0.7563,
          0.7609999999999999,
          0.7656999999999999,
          0.7704,
          0.7750999999999999,
          0.7797999999999999,
          0.7845,
          0.7891999999999999,
          0.7938999999999999,
          0.7986,
          0.8032999999999999,
          0.8079999999999999,
          0.8127,
          0.8173999999999999,
          0.8220999999999999,
          0.8268,
          0.8314999999999999,
          0.8361999999999999,
          0.8409,
          0.8455999999999999,
          0.8503,
          0.855,
          0.8596999999999999,
          0.8644,
          0.8691,
          0.8737999999999999,
          0.8785,
          0.8832,
          0.8878999999999999,
          0.8926,
          0.8973,
          0.9019999999999999,
          0.9066999999999998,
          0.9114,
          0.9160999999999999,
          0.9207999999999998,
          0.9255,
          0.9301999999999999,
          0.9348999999999998,
          0.9396,
          0.9442999999999999,
          0.949
         ],
         "xaxis": "x",
         "y": [
          0.6995034860663345,
          0.6942502621450186,
          0.6889528105360886,
          0.6836121031120078,
          0.6782291452910421,
          0.6728049754793917,
          0.6673406644635211,
          0.6618373147529755,
          0.6562960598741109,
          0.6507180636152916,
          0.6451045192242456,
          0.639456648558401,
          0.6337757011891688,
          0.628062953461267,
          0.6223197075083204,
          0.6165472902261057,
          0.6107470522049396,
          0.6049203666228437,
          0.5990686281012382,
          0.5931932515250474,
          0.5872956708292094,
          0.5813773377536973,
          0.5754397205692687,
          0.5694843027762527,
          0.5635125817787778,
          0.5575260675369326,
          0.5515262811994172,
          0.5455147537193209,
          0.5394930244557108,
          0.5334626397637656,
          0.5274251515762316,
          0.521382115978999,
          0.5153350917836174,
          0.5092856390995758,
          0.5032353179091668,
          0.4971856866477406,
          0.49113830079212895,
          0.48509471145998145,
          0.4790564640227111,
          0.4730250967346876,
          0.4670021393812467,
          0.46098911194801434,
          0.4549875233139473,
          0.44899886997040195,
          0.44302463476844045,
          0.43706628569646533,
          0.4311252746901573,
          0.42520303647656804,
          0.4193009874540798,
          0.41342052460981543,
          0.407563024475935,
          0.4017298421261119,
          0.3959223102133354,
          0.3901417380500363,
          0.3843894107313823,
          0.3786665883024393,
          0.3729745049697505,
          0.36731436835773057,
          0.36168735881013614,
          0.35609462873673003,
          0.35053730200511934,
          0.3450164733776205,
          0.33953320799287906,
          0.33408854089185125,
          0.32868347658764785,
          0.32331898867863607,
          0.31799601950410034,
          0.312715479841676,
          0.307478248645697,
          0.30228517282552286,
          0.2971370670628584,
          0.2920347136670255,
          0.28697886246710447,
          0.28197023073983246,
          0.2770095031721227,
          0.272097331857049,
          0.2672343363221354,
          0.2624211035887921,
          0.2576581882617378,
          0.25294611264726896,
          0.24828536689925126,
          0.2436764091917298,
          0.23911966591708453,
          0.23461553190868817,
          0.23016437068705559,
          0.22576651472851056,
          0.22142226575543544,
          0.21713189504720337,
          0.21289564377093423,
          0.2087137233312544,
          0.204586315738275,
          0.20051357399304043,
          0.19649562248973618,
          0.1925325574339718,
          0.1886244472764872,
          0.18477133316165878,
          0.18097322939020244,
          0.1772301238954909,
          0.17354197873292432,
          0.16990873058180275,
          0.16633029125915938
         ],
         "yaxis": "y"
        },
        {
         "customdata": [
          [
           0.28250982836800453,
           "Logistic Regression_Female",
           "city_development_index"
          ],
          [
           0.28250982836800453,
           "Logistic Regression_Female",
           "city_development_index"
          ],
          [
           0.28250982836800453,
           "Logistic Regression_Female",
           "city_development_index"
          ],
          [
           0.28250982836800453,
           "Logistic Regression_Female",
           "city_development_index"
          ],
          [
           0.28250982836800453,
           "Logistic Regression_Female",
           "city_development_index"
          ],
          [
           0.28250982836800453,
           "Logistic Regression_Female",
           "city_development_index"
          ],
          [
           0.28250982836800453,
           "Logistic Regression_Female",
           "city_development_index"
          ],
          [
           0.28250982836800453,
           "Logistic Regression_Female",
           "city_development_index"
          ],
          [
           0.28250982836800453,
           "Logistic Regression_Female",
           "city_development_index"
          ],
          [
           0.28250982836800453,
           "Logistic Regression_Female",
           "city_development_index"
          ],
          [
           0.28250982836800453,
           "Logistic Regression_Female",
           "city_development_index"
          ],
          [
           0.28250982836800453,
           "Logistic Regression_Female",
           "city_development_index"
          ],
          [
           0.28250982836800453,
           "Logistic Regression_Female",
           "city_development_index"
          ],
          [
           0.28250982836800453,
           "Logistic Regression_Female",
           "city_development_index"
          ],
          [
           0.28250982836800453,
           "Logistic Regression_Female",
           "city_development_index"
          ],
          [
           0.28250982836800453,
           "Logistic Regression_Female",
           "city_development_index"
          ],
          [
           0.28250982836800453,
           "Logistic Regression_Female",
           "city_development_index"
          ],
          [
           0.28250982836800453,
           "Logistic Regression_Female",
           "city_development_index"
          ],
          [
           0.28250982836800453,
           "Logistic Regression_Female",
           "city_development_index"
          ],
          [
           0.28250982836800453,
           "Logistic Regression_Female",
           "city_development_index"
          ],
          [
           0.28250982836800453,
           "Logistic Regression_Female",
           "city_development_index"
          ],
          [
           0.28250982836800453,
           "Logistic Regression_Female",
           "city_development_index"
          ],
          [
           0.28250982836800453,
           "Logistic Regression_Female",
           "city_development_index"
          ],
          [
           0.28250982836800453,
           "Logistic Regression_Female",
           "city_development_index"
          ],
          [
           0.28250982836800453,
           "Logistic Regression_Female",
           "city_development_index"
          ],
          [
           0.28250982836800453,
           "Logistic Regression_Female",
           "city_development_index"
          ],
          [
           0.28250982836800453,
           "Logistic Regression_Female",
           "city_development_index"
          ],
          [
           0.28250982836800453,
           "Logistic Regression_Female",
           "city_development_index"
          ],
          [
           0.28250982836800453,
           "Logistic Regression_Female",
           "city_development_index"
          ],
          [
           0.28250982836800453,
           "Logistic Regression_Female",
           "city_development_index"
          ],
          [
           0.28250982836800453,
           "Logistic Regression_Female",
           "city_development_index"
          ],
          [
           0.28250982836800453,
           "Logistic Regression_Female",
           "city_development_index"
          ],
          [
           0.28250982836800453,
           "Logistic Regression_Female",
           "city_development_index"
          ],
          [
           0.28250982836800453,
           "Logistic Regression_Female",
           "city_development_index"
          ],
          [
           0.28250982836800453,
           "Logistic Regression_Female",
           "city_development_index"
          ],
          [
           0.28250982836800453,
           "Logistic Regression_Female",
           "city_development_index"
          ],
          [
           0.28250982836800453,
           "Logistic Regression_Female",
           "city_development_index"
          ],
          [
           0.28250982836800453,
           "Logistic Regression_Female",
           "city_development_index"
          ],
          [
           0.28250982836800453,
           "Logistic Regression_Female",
           "city_development_index"
          ],
          [
           0.28250982836800453,
           "Logistic Regression_Female",
           "city_development_index"
          ],
          [
           0.28250982836800453,
           "Logistic Regression_Female",
           "city_development_index"
          ],
          [
           0.28250982836800453,
           "Logistic Regression_Female",
           "city_development_index"
          ],
          [
           0.28250982836800453,
           "Logistic Regression_Female",
           "city_development_index"
          ],
          [
           0.28250982836800453,
           "Logistic Regression_Female",
           "city_development_index"
          ],
          [
           0.28250982836800453,
           "Logistic Regression_Female",
           "city_development_index"
          ],
          [
           0.28250982836800453,
           "Logistic Regression_Female",
           "city_development_index"
          ],
          [
           0.28250982836800453,
           "Logistic Regression_Female",
           "city_development_index"
          ],
          [
           0.28250982836800453,
           "Logistic Regression_Female",
           "city_development_index"
          ],
          [
           0.28250982836800453,
           "Logistic Regression_Female",
           "city_development_index"
          ],
          [
           0.28250982836800453,
           "Logistic Regression_Female",
           "city_development_index"
          ],
          [
           0.28250982836800453,
           "Logistic Regression_Female",
           "city_development_index"
          ],
          [
           0.28250982836800453,
           "Logistic Regression_Female",
           "city_development_index"
          ],
          [
           0.28250982836800453,
           "Logistic Regression_Female",
           "city_development_index"
          ],
          [
           0.28250982836800453,
           "Logistic Regression_Female",
           "city_development_index"
          ],
          [
           0.28250982836800453,
           "Logistic Regression_Female",
           "city_development_index"
          ],
          [
           0.28250982836800453,
           "Logistic Regression_Female",
           "city_development_index"
          ],
          [
           0.28250982836800453,
           "Logistic Regression_Female",
           "city_development_index"
          ],
          [
           0.28250982836800453,
           "Logistic Regression_Female",
           "city_development_index"
          ],
          [
           0.28250982836800453,
           "Logistic Regression_Female",
           "city_development_index"
          ],
          [
           0.28250982836800453,
           "Logistic Regression_Female",
           "city_development_index"
          ],
          [
           0.28250982836800453,
           "Logistic Regression_Female",
           "city_development_index"
          ],
          [
           0.28250982836800453,
           "Logistic Regression_Female",
           "city_development_index"
          ],
          [
           0.28250982836800453,
           "Logistic Regression_Female",
           "city_development_index"
          ],
          [
           0.28250982836800453,
           "Logistic Regression_Female",
           "city_development_index"
          ],
          [
           0.28250982836800453,
           "Logistic Regression_Female",
           "city_development_index"
          ],
          [
           0.28250982836800453,
           "Logistic Regression_Female",
           "city_development_index"
          ],
          [
           0.28250982836800453,
           "Logistic Regression_Female",
           "city_development_index"
          ],
          [
           0.28250982836800453,
           "Logistic Regression_Female",
           "city_development_index"
          ],
          [
           0.28250982836800453,
           "Logistic Regression_Female",
           "city_development_index"
          ],
          [
           0.28250982836800453,
           "Logistic Regression_Female",
           "city_development_index"
          ],
          [
           0.28250982836800453,
           "Logistic Regression_Female",
           "city_development_index"
          ],
          [
           0.28250982836800453,
           "Logistic Regression_Female",
           "city_development_index"
          ],
          [
           0.28250982836800453,
           "Logistic Regression_Female",
           "city_development_index"
          ],
          [
           0.28250982836800453,
           "Logistic Regression_Female",
           "city_development_index"
          ],
          [
           0.28250982836800453,
           "Logistic Regression_Female",
           "city_development_index"
          ],
          [
           0.28250982836800453,
           "Logistic Regression_Female",
           "city_development_index"
          ],
          [
           0.28250982836800453,
           "Logistic Regression_Female",
           "city_development_index"
          ],
          [
           0.28250982836800453,
           "Logistic Regression_Female",
           "city_development_index"
          ],
          [
           0.28250982836800453,
           "Logistic Regression_Female",
           "city_development_index"
          ],
          [
           0.28250982836800453,
           "Logistic Regression_Female",
           "city_development_index"
          ],
          [
           0.28250982836800453,
           "Logistic Regression_Female",
           "city_development_index"
          ],
          [
           0.28250982836800453,
           "Logistic Regression_Female",
           "city_development_index"
          ],
          [
           0.28250982836800453,
           "Logistic Regression_Female",
           "city_development_index"
          ],
          [
           0.28250982836800453,
           "Logistic Regression_Female",
           "city_development_index"
          ],
          [
           0.28250982836800453,
           "Logistic Regression_Female",
           "city_development_index"
          ],
          [
           0.28250982836800453,
           "Logistic Regression_Female",
           "city_development_index"
          ],
          [
           0.28250982836800453,
           "Logistic Regression_Female",
           "city_development_index"
          ],
          [
           0.28250982836800453,
           "Logistic Regression_Female",
           "city_development_index"
          ],
          [
           0.28250982836800453,
           "Logistic Regression_Female",
           "city_development_index"
          ],
          [
           0.28250982836800453,
           "Logistic Regression_Female",
           "city_development_index"
          ],
          [
           0.28250982836800453,
           "Logistic Regression_Female",
           "city_development_index"
          ],
          [
           0.28250982836800453,
           "Logistic Regression_Female",
           "city_development_index"
          ],
          [
           0.28250982836800453,
           "Logistic Regression_Female",
           "city_development_index"
          ],
          [
           0.28250982836800453,
           "Logistic Regression_Female",
           "city_development_index"
          ],
          [
           0.28250982836800453,
           "Logistic Regression_Female",
           "city_development_index"
          ],
          [
           0.28250982836800453,
           "Logistic Regression_Female",
           "city_development_index"
          ],
          [
           0.28250982836800453,
           "Logistic Regression_Female",
           "city_development_index"
          ],
          [
           0.28250982836800453,
           "Logistic Regression_Female",
           "city_development_index"
          ],
          [
           0.28250982836800453,
           "Logistic Regression_Female",
           "city_development_index"
          ],
          [
           0.28250982836800453,
           "Logistic Regression_Female",
           "city_development_index"
          ],
          [
           0.28250982836800453,
           "Logistic Regression_Female",
           "city_development_index"
          ]
         ],
         "hovertemplate": "<b>%{hovertext}</b><br><br>prediction=%{y:.3f}<br>mean_prediction=%{customdata[0]:.3f}<extra></extra>",
         "hovertext": [
          "Logistic Regression_Female",
          "Logistic Regression_Female",
          "Logistic Regression_Female",
          "Logistic Regression_Female",
          "Logistic Regression_Female",
          "Logistic Regression_Female",
          "Logistic Regression_Female",
          "Logistic Regression_Female",
          "Logistic Regression_Female",
          "Logistic Regression_Female",
          "Logistic Regression_Female",
          "Logistic Regression_Female",
          "Logistic Regression_Female",
          "Logistic Regression_Female",
          "Logistic Regression_Female",
          "Logistic Regression_Female",
          "Logistic Regression_Female",
          "Logistic Regression_Female",
          "Logistic Regression_Female",
          "Logistic Regression_Female",
          "Logistic Regression_Female",
          "Logistic Regression_Female",
          "Logistic Regression_Female",
          "Logistic Regression_Female",
          "Logistic Regression_Female",
          "Logistic Regression_Female",
          "Logistic Regression_Female",
          "Logistic Regression_Female",
          "Logistic Regression_Female",
          "Logistic Regression_Female",
          "Logistic Regression_Female",
          "Logistic Regression_Female",
          "Logistic Regression_Female",
          "Logistic Regression_Female",
          "Logistic Regression_Female",
          "Logistic Regression_Female",
          "Logistic Regression_Female",
          "Logistic Regression_Female",
          "Logistic Regression_Female",
          "Logistic Regression_Female",
          "Logistic Regression_Female",
          "Logistic Regression_Female",
          "Logistic Regression_Female",
          "Logistic Regression_Female",
          "Logistic Regression_Female",
          "Logistic Regression_Female",
          "Logistic Regression_Female",
          "Logistic Regression_Female",
          "Logistic Regression_Female",
          "Logistic Regression_Female",
          "Logistic Regression_Female",
          "Logistic Regression_Female",
          "Logistic Regression_Female",
          "Logistic Regression_Female",
          "Logistic Regression_Female",
          "Logistic Regression_Female",
          "Logistic Regression_Female",
          "Logistic Regression_Female",
          "Logistic Regression_Female",
          "Logistic Regression_Female",
          "Logistic Regression_Female",
          "Logistic Regression_Female",
          "Logistic Regression_Female",
          "Logistic Regression_Female",
          "Logistic Regression_Female",
          "Logistic Regression_Female",
          "Logistic Regression_Female",
          "Logistic Regression_Female",
          "Logistic Regression_Female",
          "Logistic Regression_Female",
          "Logistic Regression_Female",
          "Logistic Regression_Female",
          "Logistic Regression_Female",
          "Logistic Regression_Female",
          "Logistic Regression_Female",
          "Logistic Regression_Female",
          "Logistic Regression_Female",
          "Logistic Regression_Female",
          "Logistic Regression_Female",
          "Logistic Regression_Female",
          "Logistic Regression_Female",
          "Logistic Regression_Female",
          "Logistic Regression_Female",
          "Logistic Regression_Female",
          "Logistic Regression_Female",
          "Logistic Regression_Female",
          "Logistic Regression_Female",
          "Logistic Regression_Female",
          "Logistic Regression_Female",
          "Logistic Regression_Female",
          "Logistic Regression_Female",
          "Logistic Regression_Female",
          "Logistic Regression_Female",
          "Logistic Regression_Female",
          "Logistic Regression_Female",
          "Logistic Regression_Female",
          "Logistic Regression_Female",
          "Logistic Regression_Female",
          "Logistic Regression_Female",
          "Logistic Regression_Female",
          "Logistic Regression_Female"
         ],
         "legendgroup": "Logistic Regression_Female",
         "line": {
          "color": "#4378bf",
          "dash": "solid",
          "width": 2
         },
         "marker": {
          "symbol": "circle"
         },
         "mode": "lines",
         "name": "Logistic Regression_Female",
         "opacity": 1,
         "orientation": "v",
         "showlegend": true,
         "type": "scatter",
         "x": [
          0.479,
          0.48369999999999996,
          0.4884,
          0.4931,
          0.49779999999999996,
          0.5025,
          0.5072,
          0.5119,
          0.5166,
          0.5213,
          0.526,
          0.5307,
          0.5354,
          0.5401,
          0.5448,
          0.5495,
          0.5542,
          0.5589,
          0.5636,
          0.5683,
          0.573,
          0.5777,
          0.5824,
          0.5871,
          0.5918,
          0.5964999999999999,
          0.6012,
          0.6059,
          0.6106,
          0.6153,
          0.62,
          0.6246999999999999,
          0.6294,
          0.6341,
          0.6387999999999999,
          0.6435,
          0.6481999999999999,
          0.6528999999999999,
          0.6576,
          0.6622999999999999,
          0.6669999999999999,
          0.6717,
          0.6763999999999999,
          0.6810999999999999,
          0.6858,
          0.6904999999999999,
          0.6951999999999999,
          0.6999,
          0.7045999999999999,
          0.7092999999999999,
          0.714,
          0.7186999999999999,
          0.7233999999999999,
          0.7281,
          0.7327999999999999,
          0.7374999999999999,
          0.7422,
          0.7468999999999999,
          0.7515999999999999,
          0.7563,
          0.7609999999999999,
          0.7656999999999999,
          0.7704,
          0.7750999999999999,
          0.7797999999999999,
          0.7845,
          0.7891999999999999,
          0.7938999999999999,
          0.7986,
          0.8032999999999999,
          0.8079999999999999,
          0.8127,
          0.8173999999999999,
          0.8220999999999999,
          0.8268,
          0.8314999999999999,
          0.8361999999999999,
          0.8409,
          0.8455999999999999,
          0.8503,
          0.855,
          0.8596999999999999,
          0.8644,
          0.8691,
          0.8737999999999999,
          0.8785,
          0.8832,
          0.8878999999999999,
          0.8926,
          0.8973,
          0.9019999999999999,
          0.9066999999999998,
          0.9114,
          0.9160999999999999,
          0.9207999999999998,
          0.9255,
          0.9301999999999999,
          0.9348999999999998,
          0.9396,
          0.9442999999999999,
          0.949
         ],
         "xaxis": "x",
         "y": [
          0.6561641903768622,
          0.6501899480119626,
          0.6441756752062268,
          0.6381230572294949,
          0.6320338185131488,
          0.6259097205606078,
          0.6197525597649407,
          0.6135641651395326,
          0.6073463959682239,
          0.6011011393817794,
          0.5948303078679706,
          0.588535836722924,
          0.5822196814517411,
          0.575883815126696,
          0.5695302257115652,
          0.5631609133608608,
          0.5567778877028923,
          0.5503831651156842,
          0.5439787660048302,
          0.5375667120923572,
          0.531149023725607,
          0.5247277172150301,
          0.5183048022096055,
          0.5118822791183715,
          0.5054621365862663,
          0.4990463490321454,
          0.4926368742564448,
          0.48623565112554396,
          0.47984459733938817,
          0.4734656072884291,
          0.4671005500053869,
          0.4607512672167583,
          0.45441957149839024,
          0.4481072445388165,
          0.44181603551341175,
          0.435547659571769,
          0.42930379644005856,
          0.42308608913946805,
          0.4168961428211869,
          0.41073552371776156,
          0.40460575821003475,
          0.3985083320082962,
          0.39244468944569605,
          0.3864162328814488,
          0.38042432221085243,
          0.3744702744786841,
          0.36855536359211716,
          0.36268082012893027,
          0.3568478312364416,
          0.35105754061632605,
          0.34531104859023354,
          0.3396094122409411,
          0.3339536456236321,
          0.3283447200418107,
          0.32278356438230976,
          0.31727106550385903,
          0.31180806867372485,
          0.3063953780470204,
          0.3010337571834137,
          0.29572392959612587,
          0.29046657932830466,
          0.2852623515520887,
          0.28011185318593146,
          0.2750156535260242,
          0.26997428488795705,
          0.26498824325506626,
          0.2600579889302323,
          0.25518394718822823,
          0.2503665089260472,
          0.2456060313089712,
          0.24090283841047397,
          0.23625722184437903,
          0.23166944138800197,
          0.2271397255953184,
          0.22266827239948248,
          0.21825524970429855,
          0.21390079596450043,
          0.20960502075493215,
          0.20536800532893407,
          0.2011898031664335,
          0.19707044051240805,
          0.19300991690653319,
          0.18900820570495047,
          0.18506525459519285,
          0.1811809861053746,
          0.1773552981088129,
          0.17358806432527676,
          0.16987913482006958,
          0.16622833650214652,
          0.16263547362243916,
          0.1591003282735175,
          0.15562266089166166,
          0.15220221076234394,
          0.14883869653003853,
          0.14553181671318052,
          0.1422812502249981,
          0.13908665690082925,
          0.1359476780324201,
          0.13286393690958961,
          0.1298350393695206,
          0.12686057435381973
         ],
         "yaxis": "y"
        },
        {
         "customdata": [
          [
           0.28250982836800453,
           "Logistic Regression_Other",
           "city_development_index"
          ],
          [
           0.28250982836800453,
           "Logistic Regression_Other",
           "city_development_index"
          ],
          [
           0.28250982836800453,
           "Logistic Regression_Other",
           "city_development_index"
          ],
          [
           0.28250982836800453,
           "Logistic Regression_Other",
           "city_development_index"
          ],
          [
           0.28250982836800453,
           "Logistic Regression_Other",
           "city_development_index"
          ],
          [
           0.28250982836800453,
           "Logistic Regression_Other",
           "city_development_index"
          ],
          [
           0.28250982836800453,
           "Logistic Regression_Other",
           "city_development_index"
          ],
          [
           0.28250982836800453,
           "Logistic Regression_Other",
           "city_development_index"
          ],
          [
           0.28250982836800453,
           "Logistic Regression_Other",
           "city_development_index"
          ],
          [
           0.28250982836800453,
           "Logistic Regression_Other",
           "city_development_index"
          ],
          [
           0.28250982836800453,
           "Logistic Regression_Other",
           "city_development_index"
          ],
          [
           0.28250982836800453,
           "Logistic Regression_Other",
           "city_development_index"
          ],
          [
           0.28250982836800453,
           "Logistic Regression_Other",
           "city_development_index"
          ],
          [
           0.28250982836800453,
           "Logistic Regression_Other",
           "city_development_index"
          ],
          [
           0.28250982836800453,
           "Logistic Regression_Other",
           "city_development_index"
          ],
          [
           0.28250982836800453,
           "Logistic Regression_Other",
           "city_development_index"
          ],
          [
           0.28250982836800453,
           "Logistic Regression_Other",
           "city_development_index"
          ],
          [
           0.28250982836800453,
           "Logistic Regression_Other",
           "city_development_index"
          ],
          [
           0.28250982836800453,
           "Logistic Regression_Other",
           "city_development_index"
          ],
          [
           0.28250982836800453,
           "Logistic Regression_Other",
           "city_development_index"
          ],
          [
           0.28250982836800453,
           "Logistic Regression_Other",
           "city_development_index"
          ],
          [
           0.28250982836800453,
           "Logistic Regression_Other",
           "city_development_index"
          ],
          [
           0.28250982836800453,
           "Logistic Regression_Other",
           "city_development_index"
          ],
          [
           0.28250982836800453,
           "Logistic Regression_Other",
           "city_development_index"
          ],
          [
           0.28250982836800453,
           "Logistic Regression_Other",
           "city_development_index"
          ],
          [
           0.28250982836800453,
           "Logistic Regression_Other",
           "city_development_index"
          ],
          [
           0.28250982836800453,
           "Logistic Regression_Other",
           "city_development_index"
          ],
          [
           0.28250982836800453,
           "Logistic Regression_Other",
           "city_development_index"
          ],
          [
           0.28250982836800453,
           "Logistic Regression_Other",
           "city_development_index"
          ],
          [
           0.28250982836800453,
           "Logistic Regression_Other",
           "city_development_index"
          ],
          [
           0.28250982836800453,
           "Logistic Regression_Other",
           "city_development_index"
          ],
          [
           0.28250982836800453,
           "Logistic Regression_Other",
           "city_development_index"
          ],
          [
           0.28250982836800453,
           "Logistic Regression_Other",
           "city_development_index"
          ],
          [
           0.28250982836800453,
           "Logistic Regression_Other",
           "city_development_index"
          ],
          [
           0.28250982836800453,
           "Logistic Regression_Other",
           "city_development_index"
          ],
          [
           0.28250982836800453,
           "Logistic Regression_Other",
           "city_development_index"
          ],
          [
           0.28250982836800453,
           "Logistic Regression_Other",
           "city_development_index"
          ],
          [
           0.28250982836800453,
           "Logistic Regression_Other",
           "city_development_index"
          ],
          [
           0.28250982836800453,
           "Logistic Regression_Other",
           "city_development_index"
          ],
          [
           0.28250982836800453,
           "Logistic Regression_Other",
           "city_development_index"
          ],
          [
           0.28250982836800453,
           "Logistic Regression_Other",
           "city_development_index"
          ],
          [
           0.28250982836800453,
           "Logistic Regression_Other",
           "city_development_index"
          ],
          [
           0.28250982836800453,
           "Logistic Regression_Other",
           "city_development_index"
          ],
          [
           0.28250982836800453,
           "Logistic Regression_Other",
           "city_development_index"
          ],
          [
           0.28250982836800453,
           "Logistic Regression_Other",
           "city_development_index"
          ],
          [
           0.28250982836800453,
           "Logistic Regression_Other",
           "city_development_index"
          ],
          [
           0.28250982836800453,
           "Logistic Regression_Other",
           "city_development_index"
          ],
          [
           0.28250982836800453,
           "Logistic Regression_Other",
           "city_development_index"
          ],
          [
           0.28250982836800453,
           "Logistic Regression_Other",
           "city_development_index"
          ],
          [
           0.28250982836800453,
           "Logistic Regression_Other",
           "city_development_index"
          ],
          [
           0.28250982836800453,
           "Logistic Regression_Other",
           "city_development_index"
          ],
          [
           0.28250982836800453,
           "Logistic Regression_Other",
           "city_development_index"
          ],
          [
           0.28250982836800453,
           "Logistic Regression_Other",
           "city_development_index"
          ],
          [
           0.28250982836800453,
           "Logistic Regression_Other",
           "city_development_index"
          ],
          [
           0.28250982836800453,
           "Logistic Regression_Other",
           "city_development_index"
          ],
          [
           0.28250982836800453,
           "Logistic Regression_Other",
           "city_development_index"
          ],
          [
           0.28250982836800453,
           "Logistic Regression_Other",
           "city_development_index"
          ],
          [
           0.28250982836800453,
           "Logistic Regression_Other",
           "city_development_index"
          ],
          [
           0.28250982836800453,
           "Logistic Regression_Other",
           "city_development_index"
          ],
          [
           0.28250982836800453,
           "Logistic Regression_Other",
           "city_development_index"
          ],
          [
           0.28250982836800453,
           "Logistic Regression_Other",
           "city_development_index"
          ],
          [
           0.28250982836800453,
           "Logistic Regression_Other",
           "city_development_index"
          ],
          [
           0.28250982836800453,
           "Logistic Regression_Other",
           "city_development_index"
          ],
          [
           0.28250982836800453,
           "Logistic Regression_Other",
           "city_development_index"
          ],
          [
           0.28250982836800453,
           "Logistic Regression_Other",
           "city_development_index"
          ],
          [
           0.28250982836800453,
           "Logistic Regression_Other",
           "city_development_index"
          ],
          [
           0.28250982836800453,
           "Logistic Regression_Other",
           "city_development_index"
          ],
          [
           0.28250982836800453,
           "Logistic Regression_Other",
           "city_development_index"
          ],
          [
           0.28250982836800453,
           "Logistic Regression_Other",
           "city_development_index"
          ],
          [
           0.28250982836800453,
           "Logistic Regression_Other",
           "city_development_index"
          ],
          [
           0.28250982836800453,
           "Logistic Regression_Other",
           "city_development_index"
          ],
          [
           0.28250982836800453,
           "Logistic Regression_Other",
           "city_development_index"
          ],
          [
           0.28250982836800453,
           "Logistic Regression_Other",
           "city_development_index"
          ],
          [
           0.28250982836800453,
           "Logistic Regression_Other",
           "city_development_index"
          ],
          [
           0.28250982836800453,
           "Logistic Regression_Other",
           "city_development_index"
          ],
          [
           0.28250982836800453,
           "Logistic Regression_Other",
           "city_development_index"
          ],
          [
           0.28250982836800453,
           "Logistic Regression_Other",
           "city_development_index"
          ],
          [
           0.28250982836800453,
           "Logistic Regression_Other",
           "city_development_index"
          ],
          [
           0.28250982836800453,
           "Logistic Regression_Other",
           "city_development_index"
          ],
          [
           0.28250982836800453,
           "Logistic Regression_Other",
           "city_development_index"
          ],
          [
           0.28250982836800453,
           "Logistic Regression_Other",
           "city_development_index"
          ],
          [
           0.28250982836800453,
           "Logistic Regression_Other",
           "city_development_index"
          ],
          [
           0.28250982836800453,
           "Logistic Regression_Other",
           "city_development_index"
          ],
          [
           0.28250982836800453,
           "Logistic Regression_Other",
           "city_development_index"
          ],
          [
           0.28250982836800453,
           "Logistic Regression_Other",
           "city_development_index"
          ],
          [
           0.28250982836800453,
           "Logistic Regression_Other",
           "city_development_index"
          ],
          [
           0.28250982836800453,
           "Logistic Regression_Other",
           "city_development_index"
          ],
          [
           0.28250982836800453,
           "Logistic Regression_Other",
           "city_development_index"
          ],
          [
           0.28250982836800453,
           "Logistic Regression_Other",
           "city_development_index"
          ],
          [
           0.28250982836800453,
           "Logistic Regression_Other",
           "city_development_index"
          ],
          [
           0.28250982836800453,
           "Logistic Regression_Other",
           "city_development_index"
          ],
          [
           0.28250982836800453,
           "Logistic Regression_Other",
           "city_development_index"
          ],
          [
           0.28250982836800453,
           "Logistic Regression_Other",
           "city_development_index"
          ],
          [
           0.28250982836800453,
           "Logistic Regression_Other",
           "city_development_index"
          ],
          [
           0.28250982836800453,
           "Logistic Regression_Other",
           "city_development_index"
          ],
          [
           0.28250982836800453,
           "Logistic Regression_Other",
           "city_development_index"
          ],
          [
           0.28250982836800453,
           "Logistic Regression_Other",
           "city_development_index"
          ],
          [
           0.28250982836800453,
           "Logistic Regression_Other",
           "city_development_index"
          ],
          [
           0.28250982836800453,
           "Logistic Regression_Other",
           "city_development_index"
          ],
          [
           0.28250982836800453,
           "Logistic Regression_Other",
           "city_development_index"
          ],
          [
           0.28250982836800453,
           "Logistic Regression_Other",
           "city_development_index"
          ]
         ],
         "hovertemplate": "<b>%{hovertext}</b><br><br>prediction=%{y:.3f}<br>mean_prediction=%{customdata[0]:.3f}<extra></extra>",
         "hovertext": [
          "Logistic Regression_Other",
          "Logistic Regression_Other",
          "Logistic Regression_Other",
          "Logistic Regression_Other",
          "Logistic Regression_Other",
          "Logistic Regression_Other",
          "Logistic Regression_Other",
          "Logistic Regression_Other",
          "Logistic Regression_Other",
          "Logistic Regression_Other",
          "Logistic Regression_Other",
          "Logistic Regression_Other",
          "Logistic Regression_Other",
          "Logistic Regression_Other",
          "Logistic Regression_Other",
          "Logistic Regression_Other",
          "Logistic Regression_Other",
          "Logistic Regression_Other",
          "Logistic Regression_Other",
          "Logistic Regression_Other",
          "Logistic Regression_Other",
          "Logistic Regression_Other",
          "Logistic Regression_Other",
          "Logistic Regression_Other",
          "Logistic Regression_Other",
          "Logistic Regression_Other",
          "Logistic Regression_Other",
          "Logistic Regression_Other",
          "Logistic Regression_Other",
          "Logistic Regression_Other",
          "Logistic Regression_Other",
          "Logistic Regression_Other",
          "Logistic Regression_Other",
          "Logistic Regression_Other",
          "Logistic Regression_Other",
          "Logistic Regression_Other",
          "Logistic Regression_Other",
          "Logistic Regression_Other",
          "Logistic Regression_Other",
          "Logistic Regression_Other",
          "Logistic Regression_Other",
          "Logistic Regression_Other",
          "Logistic Regression_Other",
          "Logistic Regression_Other",
          "Logistic Regression_Other",
          "Logistic Regression_Other",
          "Logistic Regression_Other",
          "Logistic Regression_Other",
          "Logistic Regression_Other",
          "Logistic Regression_Other",
          "Logistic Regression_Other",
          "Logistic Regression_Other",
          "Logistic Regression_Other",
          "Logistic Regression_Other",
          "Logistic Regression_Other",
          "Logistic Regression_Other",
          "Logistic Regression_Other",
          "Logistic Regression_Other",
          "Logistic Regression_Other",
          "Logistic Regression_Other",
          "Logistic Regression_Other",
          "Logistic Regression_Other",
          "Logistic Regression_Other",
          "Logistic Regression_Other",
          "Logistic Regression_Other",
          "Logistic Regression_Other",
          "Logistic Regression_Other",
          "Logistic Regression_Other",
          "Logistic Regression_Other",
          "Logistic Regression_Other",
          "Logistic Regression_Other",
          "Logistic Regression_Other",
          "Logistic Regression_Other",
          "Logistic Regression_Other",
          "Logistic Regression_Other",
          "Logistic Regression_Other",
          "Logistic Regression_Other",
          "Logistic Regression_Other",
          "Logistic Regression_Other",
          "Logistic Regression_Other",
          "Logistic Regression_Other",
          "Logistic Regression_Other",
          "Logistic Regression_Other",
          "Logistic Regression_Other",
          "Logistic Regression_Other",
          "Logistic Regression_Other",
          "Logistic Regression_Other",
          "Logistic Regression_Other",
          "Logistic Regression_Other",
          "Logistic Regression_Other",
          "Logistic Regression_Other",
          "Logistic Regression_Other",
          "Logistic Regression_Other",
          "Logistic Regression_Other",
          "Logistic Regression_Other",
          "Logistic Regression_Other",
          "Logistic Regression_Other",
          "Logistic Regression_Other",
          "Logistic Regression_Other",
          "Logistic Regression_Other",
          "Logistic Regression_Other"
         ],
         "legendgroup": "Logistic Regression_Other",
         "line": {
          "color": "#ffa58c",
          "dash": "solid",
          "width": 2
         },
         "marker": {
          "symbol": "circle"
         },
         "mode": "lines",
         "name": "Logistic Regression_Other",
         "opacity": 1,
         "orientation": "v",
         "showlegend": true,
         "type": "scatter",
         "x": [
          0.479,
          0.48369999999999996,
          0.4884,
          0.4931,
          0.49779999999999996,
          0.5025,
          0.5072,
          0.5119,
          0.5166,
          0.5213,
          0.526,
          0.5307,
          0.5354,
          0.5401,
          0.5448,
          0.5495,
          0.5542,
          0.5589,
          0.5636,
          0.5683,
          0.573,
          0.5777,
          0.5824,
          0.5871,
          0.5918,
          0.5964999999999999,
          0.6012,
          0.6059,
          0.6106,
          0.6153,
          0.62,
          0.6246999999999999,
          0.6294,
          0.6341,
          0.6387999999999999,
          0.6435,
          0.6481999999999999,
          0.6528999999999999,
          0.6576,
          0.6622999999999999,
          0.6669999999999999,
          0.6717,
          0.6763999999999999,
          0.6810999999999999,
          0.6858,
          0.6904999999999999,
          0.6951999999999999,
          0.6999,
          0.7045999999999999,
          0.7092999999999999,
          0.714,
          0.7186999999999999,
          0.7233999999999999,
          0.7281,
          0.7327999999999999,
          0.7374999999999999,
          0.7422,
          0.7468999999999999,
          0.7515999999999999,
          0.7563,
          0.7609999999999999,
          0.7656999999999999,
          0.7704,
          0.7750999999999999,
          0.7797999999999999,
          0.7845,
          0.7891999999999999,
          0.7938999999999999,
          0.7986,
          0.8032999999999999,
          0.8079999999999999,
          0.8127,
          0.8173999999999999,
          0.8220999999999999,
          0.8268,
          0.8314999999999999,
          0.8361999999999999,
          0.8409,
          0.8455999999999999,
          0.8503,
          0.855,
          0.8596999999999999,
          0.8644,
          0.8691,
          0.8737999999999999,
          0.8785,
          0.8832,
          0.8878999999999999,
          0.8926,
          0.8973,
          0.9019999999999999,
          0.9066999999999998,
          0.9114,
          0.9160999999999999,
          0.9207999999999998,
          0.9255,
          0.9301999999999999,
          0.9348999999999998,
          0.9396,
          0.9442999999999999,
          0.949
         ],
         "xaxis": "x",
         "y": [
          0.6358664466075592,
          0.6305462951952583,
          0.6251986480495679,
          0.6198244336094283,
          0.6144246017162407,
          0.609000123416972,
          0.6035519907066769,
          0.5980812162081355,
          0.5925888327867422,
          0.5870758930992597,
          0.5815434690755424,
          0.5759926513328467,
          0.5704245485228647,
          0.5648402866121546,
          0.5592410080971632,
          0.553627871155569,
          0.5480020487361901,
          0.5423647275901978,
          0.5367171072468667,
          0.53106039893754,
          0.5253958244719171,
          0.5197246150711627,
          0.5140480101626825,
          0.5083672561417252,
          0.5026836051052245,
          0.49699831356351876,
          0.49131264113573214,
          0.4856278492347279,
          0.4799451997475829,
          0.47426595371754315,
          0.4685913700333635,
          0.4629227041318257,
          0.45726120671906956,
          0.4516081225161683,
          0.44596468903411274,
          0.4403321353830736,
          0.43471168112047004,
          0.4291045351419849,
          0.4235118946192664,
          0.41793494398760433,
          0.4123748539864136,
          0.40683278075487694,
          0.4013098649845994,
          0.3958072311306343,
          0.3903259866817361,
          0.38486722149019587,
          0.37943200716112946,
          0.37402139650061555,
          0.3686364230216199,
          0.36327810050621623,
          0.3579474226222098,
          0.35264536259189416,
          0.34737287291033786,
          0.34213088511030076,
          0.33692030957061414,
          0.33174203536465147,
          0.3265969301453363,
          0.32148584006301156,
          0.3164095897124066,
          0.31136898210490466,
          0.30636479866231264,
          0.30139779922838883,
          0.29646872209447017,
          0.29157828403566555,
          0.2867271803542518,
          0.28191608492710046,
          0.2771456502541921,
          0.27241650750553,
          0.26772926656404045,
          0.26308451606234146,
          0.2584828234115733,
          0.25392473482080646,
          0.24941077530586658,
          0.2449414486867516,
          0.2405172375731424,
          0.2361386033378325,
          0.23180598607821978,
          0.22751980456630444,
          0.22328045618792652,
          0.219088316872244,
          0.21494374101270436,
          0.21084706138098372,
          0.2067985890355717,
          0.20279861322685247,
          0.1988474013006784,
          0.19494519860255044,
          0.19109222838461012,
          0.1872886917177039,
          0.18353476741081573,
          0.17983061194016473,
          0.17617635939024007,
          0.1725721214089973,
          0.16901798717936403,
          0.16551402340910767,
          0.16206027434099524,
          0.15865676178504584,
          0.15530348517451592,
          0.1520004216470913,
          0.14874752615258321,
          0.14554473158823206,
          0.14239194896252488
         ],
         "yaxis": "y"
        }
       ],
       "layout": {
        "annotations": [
         {
          "font": {
           "size": 13
          },
          "showarrow": false,
          "text": "city_development_index",
          "x": 0.5,
          "xanchor": "center",
          "xref": "paper",
          "y": 1,
          "yanchor": "bottom",
          "yref": "paper"
         },
         {
          "font": {
           "size": 13
          },
          "showarrow": false,
          "text": "prediction",
          "textangle": -90,
          "x": -0.07,
          "xref": "paper",
          "y": 0.5,
          "yref": "paper"
         }
        ],
        "font": {
         "color": "#371ea3"
        },
        "height": 489,
        "hovermode": "x unified",
        "legend": {
         "font": {
          "size": 11
         },
         "itemsizing": "constant",
         "orientation": "h",
         "title": {
          "font": {
           "size": 12
          },
          "text": "label"
         },
         "tracegroupgap": 0,
         "x": 1,
         "xanchor": "right",
         "y": 1.0613496932515338,
         "yanchor": "bottom"
        },
        "margin": {
         "b": 71,
         "r": 30,
         "t": 78
        },
        "template": {
         "data": {
          "scatter": [
           {
            "type": "scatter"
           }
          ]
         }
        },
        "title": {
         "font": {
          "size": 16
         },
         "text": "PDP for training_hours with gender groups",
         "x": 0.15
        },
        "xaxis": {
         "anchor": "y",
         "automargin": true,
         "domain": [
          0,
          1
         ],
         "fixedrange": true,
         "gridwidth": 2,
         "showticklabels": true,
         "tickcolor": "white",
         "ticklen": 3,
         "ticks": "outside",
         "title": {
          "text": ""
         },
         "type": "linear",
         "zeroline": false
        },
        "yaxis": {
         "anchor": "x",
         "automargin": true,
         "domain": [
          0,
          1
         ],
         "fixedrange": true,
         "gridwidth": 2,
         "range": [
          0.06959628318256825,
          0.756767777237586
         ],
         "tickcolor": "white",
         "ticklen": 3,
         "ticks": "outside",
         "title": {
          "text": ""
         },
         "type": "linear",
         "zeroline": false
        }
       }
      }
     },
     "metadata": {},
     "output_type": "display_data"
    }
   ],
   "source": [
    "X_train['gender_text'] = X_train['city_development_index'].map({'Female': 0, 'Male': 1, 'No data': 2, 'Other': 3})\n",
    "\n",
    "# Użycie tej kolumny do grupowania\n",
    "pdp_age_gender = exp.model_profile(variables=['city_development_index'], groups='gender')\n",
    "pdp_age_gender.plot(title=\"PDP for training_hours with gender groups\")"
   ]
  },
  {
   "cell_type": "code",
   "execution_count": 1044,
   "metadata": {},
   "outputs": [
    {
     "name": "stderr",
     "output_type": "stream",
     "text": [
      "Calculating ceteris paribus: 100%|██████████| 1/1 [00:00<00:00, 14.71it/s]\n"
     ]
    },
    {
     "data": {
      "application/vnd.plotly.v1+json": {
       "config": {
        "displaylogo": false,
        "modeBarButtonsToRemove": [
         "sendDataToCloud",
         "lasso2d",
         "autoScale2d",
         "select2d",
         "zoom2d",
         "pan2d",
         "zoomIn2d",
         "zoomOut2d",
         "resetScale2d",
         "toggleSpikelines",
         "hoverCompareCartesian",
         "hoverClosestCartesian"
        ],
        "plotlyServerURL": "https://plot.ly",
        "staticPlot": false,
        "toImageButtonOptions": {
         "height": null,
         "width": null
        }
       },
       "data": [
        {
         "customdata": [
          [
           0.2989119386525847,
           "Logistic Regression_Graduate",
           "training_hours"
          ],
          [
           0.2989119386525847,
           "Logistic Regression_Graduate",
           "training_hours"
          ],
          [
           0.2989119386525847,
           "Logistic Regression_Graduate",
           "training_hours"
          ],
          [
           0.2989119386525847,
           "Logistic Regression_Graduate",
           "training_hours"
          ],
          [
           0.2989119386525847,
           "Logistic Regression_Graduate",
           "training_hours"
          ],
          [
           0.2989119386525847,
           "Logistic Regression_Graduate",
           "training_hours"
          ],
          [
           0.2989119386525847,
           "Logistic Regression_Graduate",
           "training_hours"
          ],
          [
           0.2989119386525847,
           "Logistic Regression_Graduate",
           "training_hours"
          ],
          [
           0.2989119386525847,
           "Logistic Regression_Graduate",
           "training_hours"
          ],
          [
           0.2989119386525847,
           "Logistic Regression_Graduate",
           "training_hours"
          ],
          [
           0.2989119386525847,
           "Logistic Regression_Graduate",
           "training_hours"
          ],
          [
           0.2989119386525847,
           "Logistic Regression_Graduate",
           "training_hours"
          ],
          [
           0.2989119386525847,
           "Logistic Regression_Graduate",
           "training_hours"
          ],
          [
           0.2989119386525847,
           "Logistic Regression_Graduate",
           "training_hours"
          ],
          [
           0.2989119386525847,
           "Logistic Regression_Graduate",
           "training_hours"
          ],
          [
           0.2989119386525847,
           "Logistic Regression_Graduate",
           "training_hours"
          ],
          [
           0.2989119386525847,
           "Logistic Regression_Graduate",
           "training_hours"
          ],
          [
           0.2989119386525847,
           "Logistic Regression_Graduate",
           "training_hours"
          ],
          [
           0.2989119386525847,
           "Logistic Regression_Graduate",
           "training_hours"
          ],
          [
           0.2989119386525847,
           "Logistic Regression_Graduate",
           "training_hours"
          ],
          [
           0.2989119386525847,
           "Logistic Regression_Graduate",
           "training_hours"
          ],
          [
           0.2989119386525847,
           "Logistic Regression_Graduate",
           "training_hours"
          ],
          [
           0.2989119386525847,
           "Logistic Regression_Graduate",
           "training_hours"
          ],
          [
           0.2989119386525847,
           "Logistic Regression_Graduate",
           "training_hours"
          ],
          [
           0.2989119386525847,
           "Logistic Regression_Graduate",
           "training_hours"
          ],
          [
           0.2989119386525847,
           "Logistic Regression_Graduate",
           "training_hours"
          ],
          [
           0.2989119386525847,
           "Logistic Regression_Graduate",
           "training_hours"
          ],
          [
           0.2989119386525847,
           "Logistic Regression_Graduate",
           "training_hours"
          ],
          [
           0.2989119386525847,
           "Logistic Regression_Graduate",
           "training_hours"
          ],
          [
           0.2989119386525847,
           "Logistic Regression_Graduate",
           "training_hours"
          ],
          [
           0.2989119386525847,
           "Logistic Regression_Graduate",
           "training_hours"
          ],
          [
           0.2989119386525847,
           "Logistic Regression_Graduate",
           "training_hours"
          ],
          [
           0.2989119386525847,
           "Logistic Regression_Graduate",
           "training_hours"
          ],
          [
           0.2989119386525847,
           "Logistic Regression_Graduate",
           "training_hours"
          ],
          [
           0.2989119386525847,
           "Logistic Regression_Graduate",
           "training_hours"
          ],
          [
           0.2989119386525847,
           "Logistic Regression_Graduate",
           "training_hours"
          ],
          [
           0.2989119386525847,
           "Logistic Regression_Graduate",
           "training_hours"
          ],
          [
           0.2989119386525847,
           "Logistic Regression_Graduate",
           "training_hours"
          ],
          [
           0.2989119386525847,
           "Logistic Regression_Graduate",
           "training_hours"
          ],
          [
           0.2989119386525847,
           "Logistic Regression_Graduate",
           "training_hours"
          ],
          [
           0.2989119386525847,
           "Logistic Regression_Graduate",
           "training_hours"
          ],
          [
           0.2989119386525847,
           "Logistic Regression_Graduate",
           "training_hours"
          ],
          [
           0.2989119386525847,
           "Logistic Regression_Graduate",
           "training_hours"
          ],
          [
           0.2989119386525847,
           "Logistic Regression_Graduate",
           "training_hours"
          ],
          [
           0.2989119386525847,
           "Logistic Regression_Graduate",
           "training_hours"
          ],
          [
           0.2989119386525847,
           "Logistic Regression_Graduate",
           "training_hours"
          ],
          [
           0.2989119386525847,
           "Logistic Regression_Graduate",
           "training_hours"
          ],
          [
           0.2989119386525847,
           "Logistic Regression_Graduate",
           "training_hours"
          ],
          [
           0.2989119386525847,
           "Logistic Regression_Graduate",
           "training_hours"
          ],
          [
           0.2989119386525847,
           "Logistic Regression_Graduate",
           "training_hours"
          ],
          [
           0.2989119386525847,
           "Logistic Regression_Graduate",
           "training_hours"
          ],
          [
           0.2989119386525847,
           "Logistic Regression_Graduate",
           "training_hours"
          ],
          [
           0.2989119386525847,
           "Logistic Regression_Graduate",
           "training_hours"
          ],
          [
           0.2989119386525847,
           "Logistic Regression_Graduate",
           "training_hours"
          ],
          [
           0.2989119386525847,
           "Logistic Regression_Graduate",
           "training_hours"
          ],
          [
           0.2989119386525847,
           "Logistic Regression_Graduate",
           "training_hours"
          ],
          [
           0.2989119386525847,
           "Logistic Regression_Graduate",
           "training_hours"
          ],
          [
           0.2989119386525847,
           "Logistic Regression_Graduate",
           "training_hours"
          ],
          [
           0.2989119386525847,
           "Logistic Regression_Graduate",
           "training_hours"
          ],
          [
           0.2989119386525847,
           "Logistic Regression_Graduate",
           "training_hours"
          ],
          [
           0.2989119386525847,
           "Logistic Regression_Graduate",
           "training_hours"
          ],
          [
           0.2989119386525847,
           "Logistic Regression_Graduate",
           "training_hours"
          ],
          [
           0.2989119386525847,
           "Logistic Regression_Graduate",
           "training_hours"
          ],
          [
           0.2989119386525847,
           "Logistic Regression_Graduate",
           "training_hours"
          ],
          [
           0.2989119386525847,
           "Logistic Regression_Graduate",
           "training_hours"
          ],
          [
           0.2989119386525847,
           "Logistic Regression_Graduate",
           "training_hours"
          ],
          [
           0.2989119386525847,
           "Logistic Regression_Graduate",
           "training_hours"
          ],
          [
           0.2989119386525847,
           "Logistic Regression_Graduate",
           "training_hours"
          ],
          [
           0.2989119386525847,
           "Logistic Regression_Graduate",
           "training_hours"
          ],
          [
           0.2989119386525847,
           "Logistic Regression_Graduate",
           "training_hours"
          ],
          [
           0.2989119386525847,
           "Logistic Regression_Graduate",
           "training_hours"
          ],
          [
           0.2989119386525847,
           "Logistic Regression_Graduate",
           "training_hours"
          ],
          [
           0.2989119386525847,
           "Logistic Regression_Graduate",
           "training_hours"
          ],
          [
           0.2989119386525847,
           "Logistic Regression_Graduate",
           "training_hours"
          ],
          [
           0.2989119386525847,
           "Logistic Regression_Graduate",
           "training_hours"
          ],
          [
           0.2989119386525847,
           "Logistic Regression_Graduate",
           "training_hours"
          ],
          [
           0.2989119386525847,
           "Logistic Regression_Graduate",
           "training_hours"
          ],
          [
           0.2989119386525847,
           "Logistic Regression_Graduate",
           "training_hours"
          ],
          [
           0.2989119386525847,
           "Logistic Regression_Graduate",
           "training_hours"
          ],
          [
           0.2989119386525847,
           "Logistic Regression_Graduate",
           "training_hours"
          ],
          [
           0.2989119386525847,
           "Logistic Regression_Graduate",
           "training_hours"
          ],
          [
           0.2989119386525847,
           "Logistic Regression_Graduate",
           "training_hours"
          ],
          [
           0.2989119386525847,
           "Logistic Regression_Graduate",
           "training_hours"
          ],
          [
           0.2989119386525847,
           "Logistic Regression_Graduate",
           "training_hours"
          ],
          [
           0.2989119386525847,
           "Logistic Regression_Graduate",
           "training_hours"
          ],
          [
           0.2989119386525847,
           "Logistic Regression_Graduate",
           "training_hours"
          ],
          [
           0.2989119386525847,
           "Logistic Regression_Graduate",
           "training_hours"
          ],
          [
           0.2989119386525847,
           "Logistic Regression_Graduate",
           "training_hours"
          ],
          [
           0.2989119386525847,
           "Logistic Regression_Graduate",
           "training_hours"
          ],
          [
           0.2989119386525847,
           "Logistic Regression_Graduate",
           "training_hours"
          ],
          [
           0.2989119386525847,
           "Logistic Regression_Graduate",
           "training_hours"
          ],
          [
           0.2989119386525847,
           "Logistic Regression_Graduate",
           "training_hours"
          ],
          [
           0.2989119386525847,
           "Logistic Regression_Graduate",
           "training_hours"
          ],
          [
           0.2989119386525847,
           "Logistic Regression_Graduate",
           "training_hours"
          ],
          [
           0.2989119386525847,
           "Logistic Regression_Graduate",
           "training_hours"
          ],
          [
           0.2989119386525847,
           "Logistic Regression_Graduate",
           "training_hours"
          ],
          [
           0.2989119386525847,
           "Logistic Regression_Graduate",
           "training_hours"
          ],
          [
           0.2989119386525847,
           "Logistic Regression_Graduate",
           "training_hours"
          ],
          [
           0.2989119386525847,
           "Logistic Regression_Graduate",
           "training_hours"
          ],
          [
           0.2989119386525847,
           "Logistic Regression_Graduate",
           "training_hours"
          ],
          [
           0.2989119386525847,
           "Logistic Regression_Graduate",
           "training_hours"
          ]
         ],
         "hovertemplate": "<b>%{hovertext}</b><br><br>prediction=%{y:.3f}<br>mean_prediction=%{customdata[0]:.3f}<extra></extra>",
         "hovertext": [
          "Logistic Regression_Graduate",
          "Logistic Regression_Graduate",
          "Logistic Regression_Graduate",
          "Logistic Regression_Graduate",
          "Logistic Regression_Graduate",
          "Logistic Regression_Graduate",
          "Logistic Regression_Graduate",
          "Logistic Regression_Graduate",
          "Logistic Regression_Graduate",
          "Logistic Regression_Graduate",
          "Logistic Regression_Graduate",
          "Logistic Regression_Graduate",
          "Logistic Regression_Graduate",
          "Logistic Regression_Graduate",
          "Logistic Regression_Graduate",
          "Logistic Regression_Graduate",
          "Logistic Regression_Graduate",
          "Logistic Regression_Graduate",
          "Logistic Regression_Graduate",
          "Logistic Regression_Graduate",
          "Logistic Regression_Graduate",
          "Logistic Regression_Graduate",
          "Logistic Regression_Graduate",
          "Logistic Regression_Graduate",
          "Logistic Regression_Graduate",
          "Logistic Regression_Graduate",
          "Logistic Regression_Graduate",
          "Logistic Regression_Graduate",
          "Logistic Regression_Graduate",
          "Logistic Regression_Graduate",
          "Logistic Regression_Graduate",
          "Logistic Regression_Graduate",
          "Logistic Regression_Graduate",
          "Logistic Regression_Graduate",
          "Logistic Regression_Graduate",
          "Logistic Regression_Graduate",
          "Logistic Regression_Graduate",
          "Logistic Regression_Graduate",
          "Logistic Regression_Graduate",
          "Logistic Regression_Graduate",
          "Logistic Regression_Graduate",
          "Logistic Regression_Graduate",
          "Logistic Regression_Graduate",
          "Logistic Regression_Graduate",
          "Logistic Regression_Graduate",
          "Logistic Regression_Graduate",
          "Logistic Regression_Graduate",
          "Logistic Regression_Graduate",
          "Logistic Regression_Graduate",
          "Logistic Regression_Graduate",
          "Logistic Regression_Graduate",
          "Logistic Regression_Graduate",
          "Logistic Regression_Graduate",
          "Logistic Regression_Graduate",
          "Logistic Regression_Graduate",
          "Logistic Regression_Graduate",
          "Logistic Regression_Graduate",
          "Logistic Regression_Graduate",
          "Logistic Regression_Graduate",
          "Logistic Regression_Graduate",
          "Logistic Regression_Graduate",
          "Logistic Regression_Graduate",
          "Logistic Regression_Graduate",
          "Logistic Regression_Graduate",
          "Logistic Regression_Graduate",
          "Logistic Regression_Graduate",
          "Logistic Regression_Graduate",
          "Logistic Regression_Graduate",
          "Logistic Regression_Graduate",
          "Logistic Regression_Graduate",
          "Logistic Regression_Graduate",
          "Logistic Regression_Graduate",
          "Logistic Regression_Graduate",
          "Logistic Regression_Graduate",
          "Logistic Regression_Graduate",
          "Logistic Regression_Graduate",
          "Logistic Regression_Graduate",
          "Logistic Regression_Graduate",
          "Logistic Regression_Graduate",
          "Logistic Regression_Graduate",
          "Logistic Regression_Graduate",
          "Logistic Regression_Graduate",
          "Logistic Regression_Graduate",
          "Logistic Regression_Graduate",
          "Logistic Regression_Graduate",
          "Logistic Regression_Graduate",
          "Logistic Regression_Graduate",
          "Logistic Regression_Graduate",
          "Logistic Regression_Graduate",
          "Logistic Regression_Graduate",
          "Logistic Regression_Graduate",
          "Logistic Regression_Graduate",
          "Logistic Regression_Graduate",
          "Logistic Regression_Graduate",
          "Logistic Regression_Graduate",
          "Logistic Regression_Graduate",
          "Logistic Regression_Graduate",
          "Logistic Regression_Graduate",
          "Logistic Regression_Graduate",
          "Logistic Regression_Graduate",
          "Logistic Regression_Graduate"
         ],
         "legendgroup": "Logistic Regression_Graduate",
         "line": {
          "color": "#8bdcbe",
          "dash": "solid",
          "width": 2
         },
         "marker": {
          "symbol": "circle"
         },
         "mode": "lines",
         "name": "Logistic Regression_Graduate",
         "opacity": 1,
         "orientation": "v",
         "showlegend": true,
         "type": "scatter",
         "x": [
          2,
          5.3,
          8.6,
          11.899999999999999,
          15.2,
          18.5,
          21.799999999999997,
          25.099999999999998,
          28.4,
          31.7,
          35,
          38.3,
          41.599999999999994,
          44.9,
          48.199999999999996,
          51.5,
          54.8,
          58.099999999999994,
          61.4,
          64.69999999999999,
          68,
          71.3,
          74.6,
          77.89999999999999,
          81.19999999999999,
          84.5,
          87.8,
          91.1,
          94.39999999999999,
          97.69999999999999,
          101,
          104.3,
          107.6,
          110.89999999999999,
          114.19999999999999,
          117.5,
          120.8,
          124.1,
          127.39999999999999,
          130.7,
          134,
          137.29999999999998,
          140.6,
          143.9,
          147.2,
          150.5,
          153.79999999999998,
          157.1,
          160.39999999999998,
          163.7,
          167,
          170.29999999999998,
          173.6,
          176.89999999999998,
          180.2,
          183.5,
          186.79999999999998,
          190.1,
          193.39999999999998,
          196.7,
          200,
          203.29999999999998,
          206.6,
          209.89999999999998,
          213.2,
          216.5,
          219.79999999999998,
          223.1,
          226.39999999999998,
          229.7,
          233,
          236.29999999999998,
          239.6,
          242.89999999999998,
          246.2,
          249.5,
          252.79999999999998,
          256.1,
          259.4,
          262.7,
          266,
          269.3,
          272.59999999999997,
          275.9,
          279.2,
          282.5,
          285.8,
          289.09999999999997,
          292.4,
          295.7,
          299,
          302.3,
          305.59999999999997,
          308.9,
          312.2,
          315.5,
          318.79999999999995,
          322.09999999999997,
          325.4,
          328.7,
          332
         ],
         "xaxis": "x",
         "y": [
          0.30140894295146586,
          0.3017497321021382,
          0.30209069654645765,
          0.3024318360397134,
          0.3027731503368197,
          0.3031146391923165,
          0.3034563023603707,
          0.30379813959477675,
          0.304140150648958,
          0.3044823352759671,
          0.30482469322848715,
          0.3051672242588328,
          0.3055099281189509,
          0.30585280456042147,
          0.30619585333445865,
          0.3065390741919116,
          0.30688246688326554,
          0.30722603115864244,
          0.30756976676780207,
          0.3079136734601428,
          0.3082577509847029,
          0.30860199909016084,
          0.30894641752483676,
          0.3092910060366931,
          0.3096357643733354,
          0.30998069228201375,
          0.31032578950962303,
          0.3106710558027043,
          0.3110164909074456,
          0.3113620945696827,
          0.31170786653490035,
          0.31205380654823267,
          0.31239991435446474,
          0.312746189698033,
          0.3130926323230263,
          0.313439241973187,
          0.31378601839191156,
          0.3141329613222519,
          0.3144800705069156,
          0.31482734568826776,
          0.31517478660833115,
          0.3155223930087874,
          0.315870164630978,
          0.31621810121590505,
          0.3165662025042324,
          0.31691446823628616,
          0.317262898152056,
          0.31761149199119604,
          0.3179602494930255,
          0.3183091703965298,
          0.3186582544403614,
          0.31900750136284095,
          0.31935691090195767,
          0.31970648279537084,
          0.32005621678041046,
          0.320406112594078,
          0.32075616997304757,
          0.3211063886536667,
          0.3214567683719573,
          0.3218073088636165,
          0.32215800986401777,
          0.32250887110821136,
          0.3228598923309257,
          0.32321107326656806,
          0.32356241364922556,
          0.3239139132126658,
          0.3242655716903383,
          0.3246173888153748,
          0.3249693643205906,
          0.3253214979384852,
          0.32567378940124336,
          0.3260262384407359,
          0.3263788447885207,
          0.3267316081758435,
          0.3270845283336387,
          0.32743760499253066,
          0.3277908378828341,
          0.32814422673455523,
          0.3284977712773927,
          0.32885147124073844,
          0.32920532635367844,
          0.32955933634499374,
          0.3299135009431614,
          0.3302678198763551,
          0.33062229287244654,
          0.3309769196590057,
          0.3313316999633022,
          0.33168663351230593,
          0.33204172003268806,
          0.3323969592508219,
          0.33275235089278377,
          0.3331078946843538,
          0.3334635903510169,
          0.33381943761796373,
          0.3341754362100912,
          0.33453158585200393,
          0.3348878862680146,
          0.3352443371821449,
          0.3356009383181269,
          0.3359576893994032,
          0.3363145901491283
         ],
         "yaxis": "y"
        },
        {
         "customdata": [
          [
           0.2989119386525847,
           "Logistic Regression_Masters",
           "training_hours"
          ],
          [
           0.2989119386525847,
           "Logistic Regression_Masters",
           "training_hours"
          ],
          [
           0.2989119386525847,
           "Logistic Regression_Masters",
           "training_hours"
          ],
          [
           0.2989119386525847,
           "Logistic Regression_Masters",
           "training_hours"
          ],
          [
           0.2989119386525847,
           "Logistic Regression_Masters",
           "training_hours"
          ],
          [
           0.2989119386525847,
           "Logistic Regression_Masters",
           "training_hours"
          ],
          [
           0.2989119386525847,
           "Logistic Regression_Masters",
           "training_hours"
          ],
          [
           0.2989119386525847,
           "Logistic Regression_Masters",
           "training_hours"
          ],
          [
           0.2989119386525847,
           "Logistic Regression_Masters",
           "training_hours"
          ],
          [
           0.2989119386525847,
           "Logistic Regression_Masters",
           "training_hours"
          ],
          [
           0.2989119386525847,
           "Logistic Regression_Masters",
           "training_hours"
          ],
          [
           0.2989119386525847,
           "Logistic Regression_Masters",
           "training_hours"
          ],
          [
           0.2989119386525847,
           "Logistic Regression_Masters",
           "training_hours"
          ],
          [
           0.2989119386525847,
           "Logistic Regression_Masters",
           "training_hours"
          ],
          [
           0.2989119386525847,
           "Logistic Regression_Masters",
           "training_hours"
          ],
          [
           0.2989119386525847,
           "Logistic Regression_Masters",
           "training_hours"
          ],
          [
           0.2989119386525847,
           "Logistic Regression_Masters",
           "training_hours"
          ],
          [
           0.2989119386525847,
           "Logistic Regression_Masters",
           "training_hours"
          ],
          [
           0.2989119386525847,
           "Logistic Regression_Masters",
           "training_hours"
          ],
          [
           0.2989119386525847,
           "Logistic Regression_Masters",
           "training_hours"
          ],
          [
           0.2989119386525847,
           "Logistic Regression_Masters",
           "training_hours"
          ],
          [
           0.2989119386525847,
           "Logistic Regression_Masters",
           "training_hours"
          ],
          [
           0.2989119386525847,
           "Logistic Regression_Masters",
           "training_hours"
          ],
          [
           0.2989119386525847,
           "Logistic Regression_Masters",
           "training_hours"
          ],
          [
           0.2989119386525847,
           "Logistic Regression_Masters",
           "training_hours"
          ],
          [
           0.2989119386525847,
           "Logistic Regression_Masters",
           "training_hours"
          ],
          [
           0.2989119386525847,
           "Logistic Regression_Masters",
           "training_hours"
          ],
          [
           0.2989119386525847,
           "Logistic Regression_Masters",
           "training_hours"
          ],
          [
           0.2989119386525847,
           "Logistic Regression_Masters",
           "training_hours"
          ],
          [
           0.2989119386525847,
           "Logistic Regression_Masters",
           "training_hours"
          ],
          [
           0.2989119386525847,
           "Logistic Regression_Masters",
           "training_hours"
          ],
          [
           0.2989119386525847,
           "Logistic Regression_Masters",
           "training_hours"
          ],
          [
           0.2989119386525847,
           "Logistic Regression_Masters",
           "training_hours"
          ],
          [
           0.2989119386525847,
           "Logistic Regression_Masters",
           "training_hours"
          ],
          [
           0.2989119386525847,
           "Logistic Regression_Masters",
           "training_hours"
          ],
          [
           0.2989119386525847,
           "Logistic Regression_Masters",
           "training_hours"
          ],
          [
           0.2989119386525847,
           "Logistic Regression_Masters",
           "training_hours"
          ],
          [
           0.2989119386525847,
           "Logistic Regression_Masters",
           "training_hours"
          ],
          [
           0.2989119386525847,
           "Logistic Regression_Masters",
           "training_hours"
          ],
          [
           0.2989119386525847,
           "Logistic Regression_Masters",
           "training_hours"
          ],
          [
           0.2989119386525847,
           "Logistic Regression_Masters",
           "training_hours"
          ],
          [
           0.2989119386525847,
           "Logistic Regression_Masters",
           "training_hours"
          ],
          [
           0.2989119386525847,
           "Logistic Regression_Masters",
           "training_hours"
          ],
          [
           0.2989119386525847,
           "Logistic Regression_Masters",
           "training_hours"
          ],
          [
           0.2989119386525847,
           "Logistic Regression_Masters",
           "training_hours"
          ],
          [
           0.2989119386525847,
           "Logistic Regression_Masters",
           "training_hours"
          ],
          [
           0.2989119386525847,
           "Logistic Regression_Masters",
           "training_hours"
          ],
          [
           0.2989119386525847,
           "Logistic Regression_Masters",
           "training_hours"
          ],
          [
           0.2989119386525847,
           "Logistic Regression_Masters",
           "training_hours"
          ],
          [
           0.2989119386525847,
           "Logistic Regression_Masters",
           "training_hours"
          ],
          [
           0.2989119386525847,
           "Logistic Regression_Masters",
           "training_hours"
          ],
          [
           0.2989119386525847,
           "Logistic Regression_Masters",
           "training_hours"
          ],
          [
           0.2989119386525847,
           "Logistic Regression_Masters",
           "training_hours"
          ],
          [
           0.2989119386525847,
           "Logistic Regression_Masters",
           "training_hours"
          ],
          [
           0.2989119386525847,
           "Logistic Regression_Masters",
           "training_hours"
          ],
          [
           0.2989119386525847,
           "Logistic Regression_Masters",
           "training_hours"
          ],
          [
           0.2989119386525847,
           "Logistic Regression_Masters",
           "training_hours"
          ],
          [
           0.2989119386525847,
           "Logistic Regression_Masters",
           "training_hours"
          ],
          [
           0.2989119386525847,
           "Logistic Regression_Masters",
           "training_hours"
          ],
          [
           0.2989119386525847,
           "Logistic Regression_Masters",
           "training_hours"
          ],
          [
           0.2989119386525847,
           "Logistic Regression_Masters",
           "training_hours"
          ],
          [
           0.2989119386525847,
           "Logistic Regression_Masters",
           "training_hours"
          ],
          [
           0.2989119386525847,
           "Logistic Regression_Masters",
           "training_hours"
          ],
          [
           0.2989119386525847,
           "Logistic Regression_Masters",
           "training_hours"
          ],
          [
           0.2989119386525847,
           "Logistic Regression_Masters",
           "training_hours"
          ],
          [
           0.2989119386525847,
           "Logistic Regression_Masters",
           "training_hours"
          ],
          [
           0.2989119386525847,
           "Logistic Regression_Masters",
           "training_hours"
          ],
          [
           0.2989119386525847,
           "Logistic Regression_Masters",
           "training_hours"
          ],
          [
           0.2989119386525847,
           "Logistic Regression_Masters",
           "training_hours"
          ],
          [
           0.2989119386525847,
           "Logistic Regression_Masters",
           "training_hours"
          ],
          [
           0.2989119386525847,
           "Logistic Regression_Masters",
           "training_hours"
          ],
          [
           0.2989119386525847,
           "Logistic Regression_Masters",
           "training_hours"
          ],
          [
           0.2989119386525847,
           "Logistic Regression_Masters",
           "training_hours"
          ],
          [
           0.2989119386525847,
           "Logistic Regression_Masters",
           "training_hours"
          ],
          [
           0.2989119386525847,
           "Logistic Regression_Masters",
           "training_hours"
          ],
          [
           0.2989119386525847,
           "Logistic Regression_Masters",
           "training_hours"
          ],
          [
           0.2989119386525847,
           "Logistic Regression_Masters",
           "training_hours"
          ],
          [
           0.2989119386525847,
           "Logistic Regression_Masters",
           "training_hours"
          ],
          [
           0.2989119386525847,
           "Logistic Regression_Masters",
           "training_hours"
          ],
          [
           0.2989119386525847,
           "Logistic Regression_Masters",
           "training_hours"
          ],
          [
           0.2989119386525847,
           "Logistic Regression_Masters",
           "training_hours"
          ],
          [
           0.2989119386525847,
           "Logistic Regression_Masters",
           "training_hours"
          ],
          [
           0.2989119386525847,
           "Logistic Regression_Masters",
           "training_hours"
          ],
          [
           0.2989119386525847,
           "Logistic Regression_Masters",
           "training_hours"
          ],
          [
           0.2989119386525847,
           "Logistic Regression_Masters",
           "training_hours"
          ],
          [
           0.2989119386525847,
           "Logistic Regression_Masters",
           "training_hours"
          ],
          [
           0.2989119386525847,
           "Logistic Regression_Masters",
           "training_hours"
          ],
          [
           0.2989119386525847,
           "Logistic Regression_Masters",
           "training_hours"
          ],
          [
           0.2989119386525847,
           "Logistic Regression_Masters",
           "training_hours"
          ],
          [
           0.2989119386525847,
           "Logistic Regression_Masters",
           "training_hours"
          ],
          [
           0.2989119386525847,
           "Logistic Regression_Masters",
           "training_hours"
          ],
          [
           0.2989119386525847,
           "Logistic Regression_Masters",
           "training_hours"
          ],
          [
           0.2989119386525847,
           "Logistic Regression_Masters",
           "training_hours"
          ],
          [
           0.2989119386525847,
           "Logistic Regression_Masters",
           "training_hours"
          ],
          [
           0.2989119386525847,
           "Logistic Regression_Masters",
           "training_hours"
          ],
          [
           0.2989119386525847,
           "Logistic Regression_Masters",
           "training_hours"
          ],
          [
           0.2989119386525847,
           "Logistic Regression_Masters",
           "training_hours"
          ],
          [
           0.2989119386525847,
           "Logistic Regression_Masters",
           "training_hours"
          ],
          [
           0.2989119386525847,
           "Logistic Regression_Masters",
           "training_hours"
          ],
          [
           0.2989119386525847,
           "Logistic Regression_Masters",
           "training_hours"
          ],
          [
           0.2989119386525847,
           "Logistic Regression_Masters",
           "training_hours"
          ]
         ],
         "hovertemplate": "<b>%{hovertext}</b><br><br>prediction=%{y:.3f}<br>mean_prediction=%{customdata[0]:.3f}<extra></extra>",
         "hovertext": [
          "Logistic Regression_Masters",
          "Logistic Regression_Masters",
          "Logistic Regression_Masters",
          "Logistic Regression_Masters",
          "Logistic Regression_Masters",
          "Logistic Regression_Masters",
          "Logistic Regression_Masters",
          "Logistic Regression_Masters",
          "Logistic Regression_Masters",
          "Logistic Regression_Masters",
          "Logistic Regression_Masters",
          "Logistic Regression_Masters",
          "Logistic Regression_Masters",
          "Logistic Regression_Masters",
          "Logistic Regression_Masters",
          "Logistic Regression_Masters",
          "Logistic Regression_Masters",
          "Logistic Regression_Masters",
          "Logistic Regression_Masters",
          "Logistic Regression_Masters",
          "Logistic Regression_Masters",
          "Logistic Regression_Masters",
          "Logistic Regression_Masters",
          "Logistic Regression_Masters",
          "Logistic Regression_Masters",
          "Logistic Regression_Masters",
          "Logistic Regression_Masters",
          "Logistic Regression_Masters",
          "Logistic Regression_Masters",
          "Logistic Regression_Masters",
          "Logistic Regression_Masters",
          "Logistic Regression_Masters",
          "Logistic Regression_Masters",
          "Logistic Regression_Masters",
          "Logistic Regression_Masters",
          "Logistic Regression_Masters",
          "Logistic Regression_Masters",
          "Logistic Regression_Masters",
          "Logistic Regression_Masters",
          "Logistic Regression_Masters",
          "Logistic Regression_Masters",
          "Logistic Regression_Masters",
          "Logistic Regression_Masters",
          "Logistic Regression_Masters",
          "Logistic Regression_Masters",
          "Logistic Regression_Masters",
          "Logistic Regression_Masters",
          "Logistic Regression_Masters",
          "Logistic Regression_Masters",
          "Logistic Regression_Masters",
          "Logistic Regression_Masters",
          "Logistic Regression_Masters",
          "Logistic Regression_Masters",
          "Logistic Regression_Masters",
          "Logistic Regression_Masters",
          "Logistic Regression_Masters",
          "Logistic Regression_Masters",
          "Logistic Regression_Masters",
          "Logistic Regression_Masters",
          "Logistic Regression_Masters",
          "Logistic Regression_Masters",
          "Logistic Regression_Masters",
          "Logistic Regression_Masters",
          "Logistic Regression_Masters",
          "Logistic Regression_Masters",
          "Logistic Regression_Masters",
          "Logistic Regression_Masters",
          "Logistic Regression_Masters",
          "Logistic Regression_Masters",
          "Logistic Regression_Masters",
          "Logistic Regression_Masters",
          "Logistic Regression_Masters",
          "Logistic Regression_Masters",
          "Logistic Regression_Masters",
          "Logistic Regression_Masters",
          "Logistic Regression_Masters",
          "Logistic Regression_Masters",
          "Logistic Regression_Masters",
          "Logistic Regression_Masters",
          "Logistic Regression_Masters",
          "Logistic Regression_Masters",
          "Logistic Regression_Masters",
          "Logistic Regression_Masters",
          "Logistic Regression_Masters",
          "Logistic Regression_Masters",
          "Logistic Regression_Masters",
          "Logistic Regression_Masters",
          "Logistic Regression_Masters",
          "Logistic Regression_Masters",
          "Logistic Regression_Masters",
          "Logistic Regression_Masters",
          "Logistic Regression_Masters",
          "Logistic Regression_Masters",
          "Logistic Regression_Masters",
          "Logistic Regression_Masters",
          "Logistic Regression_Masters",
          "Logistic Regression_Masters",
          "Logistic Regression_Masters",
          "Logistic Regression_Masters",
          "Logistic Regression_Masters",
          "Logistic Regression_Masters"
         ],
         "legendgroup": "Logistic Regression_Masters",
         "line": {
          "color": "#f05a71",
          "dash": "solid",
          "width": 2
         },
         "marker": {
          "symbol": "circle"
         },
         "mode": "lines",
         "name": "Logistic Regression_Masters",
         "opacity": 1,
         "orientation": "v",
         "showlegend": true,
         "type": "scatter",
         "x": [
          2,
          5.3,
          8.6,
          11.899999999999999,
          15.2,
          18.5,
          21.799999999999997,
          25.099999999999998,
          28.4,
          31.7,
          35,
          38.3,
          41.599999999999994,
          44.9,
          48.199999999999996,
          51.5,
          54.8,
          58.099999999999994,
          61.4,
          64.69999999999999,
          68,
          71.3,
          74.6,
          77.89999999999999,
          81.19999999999999,
          84.5,
          87.8,
          91.1,
          94.39999999999999,
          97.69999999999999,
          101,
          104.3,
          107.6,
          110.89999999999999,
          114.19999999999999,
          117.5,
          120.8,
          124.1,
          127.39999999999999,
          130.7,
          134,
          137.29999999999998,
          140.6,
          143.9,
          147.2,
          150.5,
          153.79999999999998,
          157.1,
          160.39999999999998,
          163.7,
          167,
          170.29999999999998,
          173.6,
          176.89999999999998,
          180.2,
          183.5,
          186.79999999999998,
          190.1,
          193.39999999999998,
          196.7,
          200,
          203.29999999999998,
          206.6,
          209.89999999999998,
          213.2,
          216.5,
          219.79999999999998,
          223.1,
          226.39999999999998,
          229.7,
          233,
          236.29999999999998,
          239.6,
          242.89999999999998,
          246.2,
          249.5,
          252.79999999999998,
          256.1,
          259.4,
          262.7,
          266,
          269.3,
          272.59999999999997,
          275.9,
          279.2,
          282.5,
          285.8,
          289.09999999999997,
          292.4,
          295.7,
          299,
          302.3,
          305.59999999999997,
          308.9,
          312.2,
          315.5,
          318.79999999999995,
          322.09999999999997,
          325.4,
          328.7,
          332
         ],
         "xaxis": "x",
         "y": [
          0.23852198210890327,
          0.2388545094229809,
          0.23918731170278354,
          0.23952038876403037,
          0.23985374042150462,
          0.24018736648905356,
          0.24052126677958818,
          0.24085544110508342,
          0.24118988927657767,
          0.2415246111041731,
          0.2418596063970353,
          0.24219487496339315,
          0.24253041661053906,
          0.24286623114482858,
          0.24320231837168055,
          0.243538678095577,
          0.24387531012006294,
          0.2442122142477466,
          0.24454939028029923,
          0.24488683801845507,
          0.2452245572620113,
          0.24556254780982828,
          0.24590080945982914,
          0.2462393420090001,
          0.24657814525339034,
          0.24691721898811206,
          0.2472565630073404,
          0.24759617710431364,
          0.24793606107133306,
          0.24827621469976313,
          0.24861663778003135,
          0.24895733010162854,
          0.24929829145310875,
          0.24963952162208944,
          0.24998102039525125,
          0.25032278755833853,
          0.2506648228961591,
          0.2510071261925844,
          0.25134969723054973,
          0.25169253579205414,
          0.25203564165816067,
          0.25237901460899653,
          0.252722654423753,
          0.25306656088068585,
          0.25341073375711526,
          0.25375517282942595,
          0.25409987787306754,
          0.2544448486625545,
          0.2547900849714665,
          0.25513558657244834,
          0.2554813532372103,
          0.25582738473652833,
          0.2561736808402443,
          0.25652024131726575,
          0.25686706593556685,
          0.2572141544621879,
          0.2575615066632362,
          0.2579091223038854,
          0.2582570011483767,
          0.25860514296001846,
          0.25895354750118676,
          0.25930221453332536,
          0.2596511438169461,
          0.2600003351116294,
          0.26034978817602417,
          0.26069950276784826,
          0.26104947864388867,
          0.26139971556000197,
          0.26175021327111453,
          0.2621009715312227,
          0.26245199009339354,
          0.26280326870976434,
          0.263154807131544,
          0.26350660510901247,
          0.26385866239152145,
          0.26421097872749494,
          0.2645635538644291,
          0.2649163875488931,
          0.2652694795265291,
          0.265622829542053,
          0.26597643733925447,
          0.26633030266099744,
          0.26668442524922076,
          0.26703880484493825,
          0.26739344118823916,
          0.26774833401828874,
          0.2681034830733287,
          0.2684588880906774,
          0.2688145488067305,
          0.26917046495696123,
          0.2695266362759211,
          0.2698830624972399,
          0.2702397433536269,
          0.2705966785768703,
          0.27095386789783876,
          0.27131131104648126,
          0.2716690077518276,
          0.2720269577419893,
          0.27238516074415964,
          0.2727436164846144,
          0.2731023246887125
         ],
         "yaxis": "y"
        },
        {
         "customdata": [
          [
           0.2989119386525847,
           "Logistic Regression_High School",
           "training_hours"
          ],
          [
           0.2989119386525847,
           "Logistic Regression_High School",
           "training_hours"
          ],
          [
           0.2989119386525847,
           "Logistic Regression_High School",
           "training_hours"
          ],
          [
           0.2989119386525847,
           "Logistic Regression_High School",
           "training_hours"
          ],
          [
           0.2989119386525847,
           "Logistic Regression_High School",
           "training_hours"
          ],
          [
           0.2989119386525847,
           "Logistic Regression_High School",
           "training_hours"
          ],
          [
           0.2989119386525847,
           "Logistic Regression_High School",
           "training_hours"
          ],
          [
           0.2989119386525847,
           "Logistic Regression_High School",
           "training_hours"
          ],
          [
           0.2989119386525847,
           "Logistic Regression_High School",
           "training_hours"
          ],
          [
           0.2989119386525847,
           "Logistic Regression_High School",
           "training_hours"
          ],
          [
           0.2989119386525847,
           "Logistic Regression_High School",
           "training_hours"
          ],
          [
           0.2989119386525847,
           "Logistic Regression_High School",
           "training_hours"
          ],
          [
           0.2989119386525847,
           "Logistic Regression_High School",
           "training_hours"
          ],
          [
           0.2989119386525847,
           "Logistic Regression_High School",
           "training_hours"
          ],
          [
           0.2989119386525847,
           "Logistic Regression_High School",
           "training_hours"
          ],
          [
           0.2989119386525847,
           "Logistic Regression_High School",
           "training_hours"
          ],
          [
           0.2989119386525847,
           "Logistic Regression_High School",
           "training_hours"
          ],
          [
           0.2989119386525847,
           "Logistic Regression_High School",
           "training_hours"
          ],
          [
           0.2989119386525847,
           "Logistic Regression_High School",
           "training_hours"
          ],
          [
           0.2989119386525847,
           "Logistic Regression_High School",
           "training_hours"
          ],
          [
           0.2989119386525847,
           "Logistic Regression_High School",
           "training_hours"
          ],
          [
           0.2989119386525847,
           "Logistic Regression_High School",
           "training_hours"
          ],
          [
           0.2989119386525847,
           "Logistic Regression_High School",
           "training_hours"
          ],
          [
           0.2989119386525847,
           "Logistic Regression_High School",
           "training_hours"
          ],
          [
           0.2989119386525847,
           "Logistic Regression_High School",
           "training_hours"
          ],
          [
           0.2989119386525847,
           "Logistic Regression_High School",
           "training_hours"
          ],
          [
           0.2989119386525847,
           "Logistic Regression_High School",
           "training_hours"
          ],
          [
           0.2989119386525847,
           "Logistic Regression_High School",
           "training_hours"
          ],
          [
           0.2989119386525847,
           "Logistic Regression_High School",
           "training_hours"
          ],
          [
           0.2989119386525847,
           "Logistic Regression_High School",
           "training_hours"
          ],
          [
           0.2989119386525847,
           "Logistic Regression_High School",
           "training_hours"
          ],
          [
           0.2989119386525847,
           "Logistic Regression_High School",
           "training_hours"
          ],
          [
           0.2989119386525847,
           "Logistic Regression_High School",
           "training_hours"
          ],
          [
           0.2989119386525847,
           "Logistic Regression_High School",
           "training_hours"
          ],
          [
           0.2989119386525847,
           "Logistic Regression_High School",
           "training_hours"
          ],
          [
           0.2989119386525847,
           "Logistic Regression_High School",
           "training_hours"
          ],
          [
           0.2989119386525847,
           "Logistic Regression_High School",
           "training_hours"
          ],
          [
           0.2989119386525847,
           "Logistic Regression_High School",
           "training_hours"
          ],
          [
           0.2989119386525847,
           "Logistic Regression_High School",
           "training_hours"
          ],
          [
           0.2989119386525847,
           "Logistic Regression_High School",
           "training_hours"
          ],
          [
           0.2989119386525847,
           "Logistic Regression_High School",
           "training_hours"
          ],
          [
           0.2989119386525847,
           "Logistic Regression_High School",
           "training_hours"
          ],
          [
           0.2989119386525847,
           "Logistic Regression_High School",
           "training_hours"
          ],
          [
           0.2989119386525847,
           "Logistic Regression_High School",
           "training_hours"
          ],
          [
           0.2989119386525847,
           "Logistic Regression_High School",
           "training_hours"
          ],
          [
           0.2989119386525847,
           "Logistic Regression_High School",
           "training_hours"
          ],
          [
           0.2989119386525847,
           "Logistic Regression_High School",
           "training_hours"
          ],
          [
           0.2989119386525847,
           "Logistic Regression_High School",
           "training_hours"
          ],
          [
           0.2989119386525847,
           "Logistic Regression_High School",
           "training_hours"
          ],
          [
           0.2989119386525847,
           "Logistic Regression_High School",
           "training_hours"
          ],
          [
           0.2989119386525847,
           "Logistic Regression_High School",
           "training_hours"
          ],
          [
           0.2989119386525847,
           "Logistic Regression_High School",
           "training_hours"
          ],
          [
           0.2989119386525847,
           "Logistic Regression_High School",
           "training_hours"
          ],
          [
           0.2989119386525847,
           "Logistic Regression_High School",
           "training_hours"
          ],
          [
           0.2989119386525847,
           "Logistic Regression_High School",
           "training_hours"
          ],
          [
           0.2989119386525847,
           "Logistic Regression_High School",
           "training_hours"
          ],
          [
           0.2989119386525847,
           "Logistic Regression_High School",
           "training_hours"
          ],
          [
           0.2989119386525847,
           "Logistic Regression_High School",
           "training_hours"
          ],
          [
           0.2989119386525847,
           "Logistic Regression_High School",
           "training_hours"
          ],
          [
           0.2989119386525847,
           "Logistic Regression_High School",
           "training_hours"
          ],
          [
           0.2989119386525847,
           "Logistic Regression_High School",
           "training_hours"
          ],
          [
           0.2989119386525847,
           "Logistic Regression_High School",
           "training_hours"
          ],
          [
           0.2989119386525847,
           "Logistic Regression_High School",
           "training_hours"
          ],
          [
           0.2989119386525847,
           "Logistic Regression_High School",
           "training_hours"
          ],
          [
           0.2989119386525847,
           "Logistic Regression_High School",
           "training_hours"
          ],
          [
           0.2989119386525847,
           "Logistic Regression_High School",
           "training_hours"
          ],
          [
           0.2989119386525847,
           "Logistic Regression_High School",
           "training_hours"
          ],
          [
           0.2989119386525847,
           "Logistic Regression_High School",
           "training_hours"
          ],
          [
           0.2989119386525847,
           "Logistic Regression_High School",
           "training_hours"
          ],
          [
           0.2989119386525847,
           "Logistic Regression_High School",
           "training_hours"
          ],
          [
           0.2989119386525847,
           "Logistic Regression_High School",
           "training_hours"
          ],
          [
           0.2989119386525847,
           "Logistic Regression_High School",
           "training_hours"
          ],
          [
           0.2989119386525847,
           "Logistic Regression_High School",
           "training_hours"
          ],
          [
           0.2989119386525847,
           "Logistic Regression_High School",
           "training_hours"
          ],
          [
           0.2989119386525847,
           "Logistic Regression_High School",
           "training_hours"
          ],
          [
           0.2989119386525847,
           "Logistic Regression_High School",
           "training_hours"
          ],
          [
           0.2989119386525847,
           "Logistic Regression_High School",
           "training_hours"
          ],
          [
           0.2989119386525847,
           "Logistic Regression_High School",
           "training_hours"
          ],
          [
           0.2989119386525847,
           "Logistic Regression_High School",
           "training_hours"
          ],
          [
           0.2989119386525847,
           "Logistic Regression_High School",
           "training_hours"
          ],
          [
           0.2989119386525847,
           "Logistic Regression_High School",
           "training_hours"
          ],
          [
           0.2989119386525847,
           "Logistic Regression_High School",
           "training_hours"
          ],
          [
           0.2989119386525847,
           "Logistic Regression_High School",
           "training_hours"
          ],
          [
           0.2989119386525847,
           "Logistic Regression_High School",
           "training_hours"
          ],
          [
           0.2989119386525847,
           "Logistic Regression_High School",
           "training_hours"
          ],
          [
           0.2989119386525847,
           "Logistic Regression_High School",
           "training_hours"
          ],
          [
           0.2989119386525847,
           "Logistic Regression_High School",
           "training_hours"
          ],
          [
           0.2989119386525847,
           "Logistic Regression_High School",
           "training_hours"
          ],
          [
           0.2989119386525847,
           "Logistic Regression_High School",
           "training_hours"
          ],
          [
           0.2989119386525847,
           "Logistic Regression_High School",
           "training_hours"
          ],
          [
           0.2989119386525847,
           "Logistic Regression_High School",
           "training_hours"
          ],
          [
           0.2989119386525847,
           "Logistic Regression_High School",
           "training_hours"
          ],
          [
           0.2989119386525847,
           "Logistic Regression_High School",
           "training_hours"
          ],
          [
           0.2989119386525847,
           "Logistic Regression_High School",
           "training_hours"
          ],
          [
           0.2989119386525847,
           "Logistic Regression_High School",
           "training_hours"
          ],
          [
           0.2989119386525847,
           "Logistic Regression_High School",
           "training_hours"
          ],
          [
           0.2989119386525847,
           "Logistic Regression_High School",
           "training_hours"
          ],
          [
           0.2989119386525847,
           "Logistic Regression_High School",
           "training_hours"
          ],
          [
           0.2989119386525847,
           "Logistic Regression_High School",
           "training_hours"
          ],
          [
           0.2989119386525847,
           "Logistic Regression_High School",
           "training_hours"
          ],
          [
           0.2989119386525847,
           "Logistic Regression_High School",
           "training_hours"
          ]
         ],
         "hovertemplate": "<b>%{hovertext}</b><br><br>prediction=%{y:.3f}<br>mean_prediction=%{customdata[0]:.3f}<extra></extra>",
         "hovertext": [
          "Logistic Regression_High School",
          "Logistic Regression_High School",
          "Logistic Regression_High School",
          "Logistic Regression_High School",
          "Logistic Regression_High School",
          "Logistic Regression_High School",
          "Logistic Regression_High School",
          "Logistic Regression_High School",
          "Logistic Regression_High School",
          "Logistic Regression_High School",
          "Logistic Regression_High School",
          "Logistic Regression_High School",
          "Logistic Regression_High School",
          "Logistic Regression_High School",
          "Logistic Regression_High School",
          "Logistic Regression_High School",
          "Logistic Regression_High School",
          "Logistic Regression_High School",
          "Logistic Regression_High School",
          "Logistic Regression_High School",
          "Logistic Regression_High School",
          "Logistic Regression_High School",
          "Logistic Regression_High School",
          "Logistic Regression_High School",
          "Logistic Regression_High School",
          "Logistic Regression_High School",
          "Logistic Regression_High School",
          "Logistic Regression_High School",
          "Logistic Regression_High School",
          "Logistic Regression_High School",
          "Logistic Regression_High School",
          "Logistic Regression_High School",
          "Logistic Regression_High School",
          "Logistic Regression_High School",
          "Logistic Regression_High School",
          "Logistic Regression_High School",
          "Logistic Regression_High School",
          "Logistic Regression_High School",
          "Logistic Regression_High School",
          "Logistic Regression_High School",
          "Logistic Regression_High School",
          "Logistic Regression_High School",
          "Logistic Regression_High School",
          "Logistic Regression_High School",
          "Logistic Regression_High School",
          "Logistic Regression_High School",
          "Logistic Regression_High School",
          "Logistic Regression_High School",
          "Logistic Regression_High School",
          "Logistic Regression_High School",
          "Logistic Regression_High School",
          "Logistic Regression_High School",
          "Logistic Regression_High School",
          "Logistic Regression_High School",
          "Logistic Regression_High School",
          "Logistic Regression_High School",
          "Logistic Regression_High School",
          "Logistic Regression_High School",
          "Logistic Regression_High School",
          "Logistic Regression_High School",
          "Logistic Regression_High School",
          "Logistic Regression_High School",
          "Logistic Regression_High School",
          "Logistic Regression_High School",
          "Logistic Regression_High School",
          "Logistic Regression_High School",
          "Logistic Regression_High School",
          "Logistic Regression_High School",
          "Logistic Regression_High School",
          "Logistic Regression_High School",
          "Logistic Regression_High School",
          "Logistic Regression_High School",
          "Logistic Regression_High School",
          "Logistic Regression_High School",
          "Logistic Regression_High School",
          "Logistic Regression_High School",
          "Logistic Regression_High School",
          "Logistic Regression_High School",
          "Logistic Regression_High School",
          "Logistic Regression_High School",
          "Logistic Regression_High School",
          "Logistic Regression_High School",
          "Logistic Regression_High School",
          "Logistic Regression_High School",
          "Logistic Regression_High School",
          "Logistic Regression_High School",
          "Logistic Regression_High School",
          "Logistic Regression_High School",
          "Logistic Regression_High School",
          "Logistic Regression_High School",
          "Logistic Regression_High School",
          "Logistic Regression_High School",
          "Logistic Regression_High School",
          "Logistic Regression_High School",
          "Logistic Regression_High School",
          "Logistic Regression_High School",
          "Logistic Regression_High School",
          "Logistic Regression_High School",
          "Logistic Regression_High School",
          "Logistic Regression_High School",
          "Logistic Regression_High School"
         ],
         "legendgroup": "Logistic Regression_High School",
         "line": {
          "color": "#46bac2",
          "dash": "solid",
          "width": 2
         },
         "marker": {
          "symbol": "circle"
         },
         "mode": "lines",
         "name": "Logistic Regression_High School",
         "opacity": 1,
         "orientation": "v",
         "showlegend": true,
         "type": "scatter",
         "x": [
          2,
          5.3,
          8.6,
          11.899999999999999,
          15.2,
          18.5,
          21.799999999999997,
          25.099999999999998,
          28.4,
          31.7,
          35,
          38.3,
          41.599999999999994,
          44.9,
          48.199999999999996,
          51.5,
          54.8,
          58.099999999999994,
          61.4,
          64.69999999999999,
          68,
          71.3,
          74.6,
          77.89999999999999,
          81.19999999999999,
          84.5,
          87.8,
          91.1,
          94.39999999999999,
          97.69999999999999,
          101,
          104.3,
          107.6,
          110.89999999999999,
          114.19999999999999,
          117.5,
          120.8,
          124.1,
          127.39999999999999,
          130.7,
          134,
          137.29999999999998,
          140.6,
          143.9,
          147.2,
          150.5,
          153.79999999999998,
          157.1,
          160.39999999999998,
          163.7,
          167,
          170.29999999999998,
          173.6,
          176.89999999999998,
          180.2,
          183.5,
          186.79999999999998,
          190.1,
          193.39999999999998,
          196.7,
          200,
          203.29999999999998,
          206.6,
          209.89999999999998,
          213.2,
          216.5,
          219.79999999999998,
          223.1,
          226.39999999999998,
          229.7,
          233,
          236.29999999999998,
          239.6,
          242.89999999999998,
          246.2,
          249.5,
          252.79999999999998,
          256.1,
          259.4,
          262.7,
          266,
          269.3,
          272.59999999999997,
          275.9,
          279.2,
          282.5,
          285.8,
          289.09999999999997,
          292.4,
          295.7,
          299,
          302.3,
          305.59999999999997,
          308.9,
          312.2,
          315.5,
          318.79999999999995,
          322.09999999999997,
          325.4,
          328.7,
          332
         ],
         "xaxis": "x",
         "y": [
          0.33669133666933115,
          0.33706003499577564,
          0.33742888797669635,
          0.3377978952990049,
          0.3381670566491641,
          0.33853637171318773,
          0.3389058401766416,
          0.3392754617246434,
          0.33964523604186325,
          0.340015162812524,
          0.3403852417204016,
          0.3407554724488256,
          0.3411258546806791,
          0.3414963880983998,
          0.34186707238397945,
          0.34223790721896535,
          0.3426088922844595,
          0.34298002726112015,
          0.34335131182916107,
          0.34372274566835287,
          0.3440943284580227,
          0.344466059877055,
          0.3448379396038918,
          0.34520996731653314,
          0.3455821426925373,
          0.3459544654090214,
          0.3463269351426616,
          0.3466995515696937,
          0.3470723143659133,
          0.34744522320667626,
          0.34781827776689955,
          0.3481914777210608,
          0.3485648227431995,
          0.3489383125069169,
          0.3493119466853768,
          0.3496857249513055,
          0.3500596469769927,
          0.3504337124342917,
          0.3508079209946197,
          0.35118227232895843,
          0.35155676610785447,
          0.3519314020014197,
          0.3523061796793317,
          0.3526810988108344,
          0.35305615906473814,
          0.3534313601094203,
          0.3538067016128258,
          0.3541821832424674,
          0.35455780466542647,
          0.35493356554835287,
          0.35530946555746595,
          0.3556855043585547,
          0.3560616816169784,
          0.3564379969976666,
          0.3568144501651205,
          0.35719104078341224,
          0.35756776851618655,
          0.3579446330266604,
          0.3583216339776237,
          0.3586987710314398,
          0.35907604385004593,
          0.35945345209495394,
          0.3598309954272504,
          0.3602086735075971,
          0.36058648599623205,
          0.3609644325529693,
          0.36134251283719976,
          0.3617207265078918,
          0.3620990732235915,
          0.36247755264242354,
          0.36285616442209095,
          0.36323490821987664,
          0.36361378369264297,
          0.36399279049683286,
          0.36437192828847015,
          0.3647511967231601,
          0.3651305954560896,
          0.3655101241420284,
          0.365889782435329,
          0.36626956998992743,
          0.3666494864593438,
          0.36702953149668294,
          0.3674097047546344,
          0.36779000588547395,
          0.3681704345410631,
          0.3685509903728503,
          0.36893167303187135,
          0.36931248216874996,
          0.3696934174336981,
          0.37007447847651687,
          0.3704556649465967,
          0.3708369764929186,
          0.37121841276405365,
          0.3715999734081647,
          0.37198165807300626,
          0.37236346640592516,
          0.3727453980538613,
          0.3731274526633483,
          0.3735096298805137,
          0.3738919293510801,
          0.3742743507203652
         ],
         "yaxis": "y"
        },
        {
         "customdata": [
          [
           0.2989119386525847,
           "Logistic Regression_Primary School",
           "training_hours"
          ],
          [
           0.2989119386525847,
           "Logistic Regression_Primary School",
           "training_hours"
          ],
          [
           0.2989119386525847,
           "Logistic Regression_Primary School",
           "training_hours"
          ],
          [
           0.2989119386525847,
           "Logistic Regression_Primary School",
           "training_hours"
          ],
          [
           0.2989119386525847,
           "Logistic Regression_Primary School",
           "training_hours"
          ],
          [
           0.2989119386525847,
           "Logistic Regression_Primary School",
           "training_hours"
          ],
          [
           0.2989119386525847,
           "Logistic Regression_Primary School",
           "training_hours"
          ],
          [
           0.2989119386525847,
           "Logistic Regression_Primary School",
           "training_hours"
          ],
          [
           0.2989119386525847,
           "Logistic Regression_Primary School",
           "training_hours"
          ],
          [
           0.2989119386525847,
           "Logistic Regression_Primary School",
           "training_hours"
          ],
          [
           0.2989119386525847,
           "Logistic Regression_Primary School",
           "training_hours"
          ],
          [
           0.2989119386525847,
           "Logistic Regression_Primary School",
           "training_hours"
          ],
          [
           0.2989119386525847,
           "Logistic Regression_Primary School",
           "training_hours"
          ],
          [
           0.2989119386525847,
           "Logistic Regression_Primary School",
           "training_hours"
          ],
          [
           0.2989119386525847,
           "Logistic Regression_Primary School",
           "training_hours"
          ],
          [
           0.2989119386525847,
           "Logistic Regression_Primary School",
           "training_hours"
          ],
          [
           0.2989119386525847,
           "Logistic Regression_Primary School",
           "training_hours"
          ],
          [
           0.2989119386525847,
           "Logistic Regression_Primary School",
           "training_hours"
          ],
          [
           0.2989119386525847,
           "Logistic Regression_Primary School",
           "training_hours"
          ],
          [
           0.2989119386525847,
           "Logistic Regression_Primary School",
           "training_hours"
          ],
          [
           0.2989119386525847,
           "Logistic Regression_Primary School",
           "training_hours"
          ],
          [
           0.2989119386525847,
           "Logistic Regression_Primary School",
           "training_hours"
          ],
          [
           0.2989119386525847,
           "Logistic Regression_Primary School",
           "training_hours"
          ],
          [
           0.2989119386525847,
           "Logistic Regression_Primary School",
           "training_hours"
          ],
          [
           0.2989119386525847,
           "Logistic Regression_Primary School",
           "training_hours"
          ],
          [
           0.2989119386525847,
           "Logistic Regression_Primary School",
           "training_hours"
          ],
          [
           0.2989119386525847,
           "Logistic Regression_Primary School",
           "training_hours"
          ],
          [
           0.2989119386525847,
           "Logistic Regression_Primary School",
           "training_hours"
          ],
          [
           0.2989119386525847,
           "Logistic Regression_Primary School",
           "training_hours"
          ],
          [
           0.2989119386525847,
           "Logistic Regression_Primary School",
           "training_hours"
          ],
          [
           0.2989119386525847,
           "Logistic Regression_Primary School",
           "training_hours"
          ],
          [
           0.2989119386525847,
           "Logistic Regression_Primary School",
           "training_hours"
          ],
          [
           0.2989119386525847,
           "Logistic Regression_Primary School",
           "training_hours"
          ],
          [
           0.2989119386525847,
           "Logistic Regression_Primary School",
           "training_hours"
          ],
          [
           0.2989119386525847,
           "Logistic Regression_Primary School",
           "training_hours"
          ],
          [
           0.2989119386525847,
           "Logistic Regression_Primary School",
           "training_hours"
          ],
          [
           0.2989119386525847,
           "Logistic Regression_Primary School",
           "training_hours"
          ],
          [
           0.2989119386525847,
           "Logistic Regression_Primary School",
           "training_hours"
          ],
          [
           0.2989119386525847,
           "Logistic Regression_Primary School",
           "training_hours"
          ],
          [
           0.2989119386525847,
           "Logistic Regression_Primary School",
           "training_hours"
          ],
          [
           0.2989119386525847,
           "Logistic Regression_Primary School",
           "training_hours"
          ],
          [
           0.2989119386525847,
           "Logistic Regression_Primary School",
           "training_hours"
          ],
          [
           0.2989119386525847,
           "Logistic Regression_Primary School",
           "training_hours"
          ],
          [
           0.2989119386525847,
           "Logistic Regression_Primary School",
           "training_hours"
          ],
          [
           0.2989119386525847,
           "Logistic Regression_Primary School",
           "training_hours"
          ],
          [
           0.2989119386525847,
           "Logistic Regression_Primary School",
           "training_hours"
          ],
          [
           0.2989119386525847,
           "Logistic Regression_Primary School",
           "training_hours"
          ],
          [
           0.2989119386525847,
           "Logistic Regression_Primary School",
           "training_hours"
          ],
          [
           0.2989119386525847,
           "Logistic Regression_Primary School",
           "training_hours"
          ],
          [
           0.2989119386525847,
           "Logistic Regression_Primary School",
           "training_hours"
          ],
          [
           0.2989119386525847,
           "Logistic Regression_Primary School",
           "training_hours"
          ],
          [
           0.2989119386525847,
           "Logistic Regression_Primary School",
           "training_hours"
          ],
          [
           0.2989119386525847,
           "Logistic Regression_Primary School",
           "training_hours"
          ],
          [
           0.2989119386525847,
           "Logistic Regression_Primary School",
           "training_hours"
          ],
          [
           0.2989119386525847,
           "Logistic Regression_Primary School",
           "training_hours"
          ],
          [
           0.2989119386525847,
           "Logistic Regression_Primary School",
           "training_hours"
          ],
          [
           0.2989119386525847,
           "Logistic Regression_Primary School",
           "training_hours"
          ],
          [
           0.2989119386525847,
           "Logistic Regression_Primary School",
           "training_hours"
          ],
          [
           0.2989119386525847,
           "Logistic Regression_Primary School",
           "training_hours"
          ],
          [
           0.2989119386525847,
           "Logistic Regression_Primary School",
           "training_hours"
          ],
          [
           0.2989119386525847,
           "Logistic Regression_Primary School",
           "training_hours"
          ],
          [
           0.2989119386525847,
           "Logistic Regression_Primary School",
           "training_hours"
          ],
          [
           0.2989119386525847,
           "Logistic Regression_Primary School",
           "training_hours"
          ],
          [
           0.2989119386525847,
           "Logistic Regression_Primary School",
           "training_hours"
          ],
          [
           0.2989119386525847,
           "Logistic Regression_Primary School",
           "training_hours"
          ],
          [
           0.2989119386525847,
           "Logistic Regression_Primary School",
           "training_hours"
          ],
          [
           0.2989119386525847,
           "Logistic Regression_Primary School",
           "training_hours"
          ],
          [
           0.2989119386525847,
           "Logistic Regression_Primary School",
           "training_hours"
          ],
          [
           0.2989119386525847,
           "Logistic Regression_Primary School",
           "training_hours"
          ],
          [
           0.2989119386525847,
           "Logistic Regression_Primary School",
           "training_hours"
          ],
          [
           0.2989119386525847,
           "Logistic Regression_Primary School",
           "training_hours"
          ],
          [
           0.2989119386525847,
           "Logistic Regression_Primary School",
           "training_hours"
          ],
          [
           0.2989119386525847,
           "Logistic Regression_Primary School",
           "training_hours"
          ],
          [
           0.2989119386525847,
           "Logistic Regression_Primary School",
           "training_hours"
          ],
          [
           0.2989119386525847,
           "Logistic Regression_Primary School",
           "training_hours"
          ],
          [
           0.2989119386525847,
           "Logistic Regression_Primary School",
           "training_hours"
          ],
          [
           0.2989119386525847,
           "Logistic Regression_Primary School",
           "training_hours"
          ],
          [
           0.2989119386525847,
           "Logistic Regression_Primary School",
           "training_hours"
          ],
          [
           0.2989119386525847,
           "Logistic Regression_Primary School",
           "training_hours"
          ],
          [
           0.2989119386525847,
           "Logistic Regression_Primary School",
           "training_hours"
          ],
          [
           0.2989119386525847,
           "Logistic Regression_Primary School",
           "training_hours"
          ],
          [
           0.2989119386525847,
           "Logistic Regression_Primary School",
           "training_hours"
          ],
          [
           0.2989119386525847,
           "Logistic Regression_Primary School",
           "training_hours"
          ],
          [
           0.2989119386525847,
           "Logistic Regression_Primary School",
           "training_hours"
          ],
          [
           0.2989119386525847,
           "Logistic Regression_Primary School",
           "training_hours"
          ],
          [
           0.2989119386525847,
           "Logistic Regression_Primary School",
           "training_hours"
          ],
          [
           0.2989119386525847,
           "Logistic Regression_Primary School",
           "training_hours"
          ],
          [
           0.2989119386525847,
           "Logistic Regression_Primary School",
           "training_hours"
          ],
          [
           0.2989119386525847,
           "Logistic Regression_Primary School",
           "training_hours"
          ],
          [
           0.2989119386525847,
           "Logistic Regression_Primary School",
           "training_hours"
          ],
          [
           0.2989119386525847,
           "Logistic Regression_Primary School",
           "training_hours"
          ],
          [
           0.2989119386525847,
           "Logistic Regression_Primary School",
           "training_hours"
          ],
          [
           0.2989119386525847,
           "Logistic Regression_Primary School",
           "training_hours"
          ],
          [
           0.2989119386525847,
           "Logistic Regression_Primary School",
           "training_hours"
          ],
          [
           0.2989119386525847,
           "Logistic Regression_Primary School",
           "training_hours"
          ],
          [
           0.2989119386525847,
           "Logistic Regression_Primary School",
           "training_hours"
          ],
          [
           0.2989119386525847,
           "Logistic Regression_Primary School",
           "training_hours"
          ],
          [
           0.2989119386525847,
           "Logistic Regression_Primary School",
           "training_hours"
          ],
          [
           0.2989119386525847,
           "Logistic Regression_Primary School",
           "training_hours"
          ],
          [
           0.2989119386525847,
           "Logistic Regression_Primary School",
           "training_hours"
          ],
          [
           0.2989119386525847,
           "Logistic Regression_Primary School",
           "training_hours"
          ]
         ],
         "hovertemplate": "<b>%{hovertext}</b><br><br>prediction=%{y:.3f}<br>mean_prediction=%{customdata[0]:.3f}<extra></extra>",
         "hovertext": [
          "Logistic Regression_Primary School",
          "Logistic Regression_Primary School",
          "Logistic Regression_Primary School",
          "Logistic Regression_Primary School",
          "Logistic Regression_Primary School",
          "Logistic Regression_Primary School",
          "Logistic Regression_Primary School",
          "Logistic Regression_Primary School",
          "Logistic Regression_Primary School",
          "Logistic Regression_Primary School",
          "Logistic Regression_Primary School",
          "Logistic Regression_Primary School",
          "Logistic Regression_Primary School",
          "Logistic Regression_Primary School",
          "Logistic Regression_Primary School",
          "Logistic Regression_Primary School",
          "Logistic Regression_Primary School",
          "Logistic Regression_Primary School",
          "Logistic Regression_Primary School",
          "Logistic Regression_Primary School",
          "Logistic Regression_Primary School",
          "Logistic Regression_Primary School",
          "Logistic Regression_Primary School",
          "Logistic Regression_Primary School",
          "Logistic Regression_Primary School",
          "Logistic Regression_Primary School",
          "Logistic Regression_Primary School",
          "Logistic Regression_Primary School",
          "Logistic Regression_Primary School",
          "Logistic Regression_Primary School",
          "Logistic Regression_Primary School",
          "Logistic Regression_Primary School",
          "Logistic Regression_Primary School",
          "Logistic Regression_Primary School",
          "Logistic Regression_Primary School",
          "Logistic Regression_Primary School",
          "Logistic Regression_Primary School",
          "Logistic Regression_Primary School",
          "Logistic Regression_Primary School",
          "Logistic Regression_Primary School",
          "Logistic Regression_Primary School",
          "Logistic Regression_Primary School",
          "Logistic Regression_Primary School",
          "Logistic Regression_Primary School",
          "Logistic Regression_Primary School",
          "Logistic Regression_Primary School",
          "Logistic Regression_Primary School",
          "Logistic Regression_Primary School",
          "Logistic Regression_Primary School",
          "Logistic Regression_Primary School",
          "Logistic Regression_Primary School",
          "Logistic Regression_Primary School",
          "Logistic Regression_Primary School",
          "Logistic Regression_Primary School",
          "Logistic Regression_Primary School",
          "Logistic Regression_Primary School",
          "Logistic Regression_Primary School",
          "Logistic Regression_Primary School",
          "Logistic Regression_Primary School",
          "Logistic Regression_Primary School",
          "Logistic Regression_Primary School",
          "Logistic Regression_Primary School",
          "Logistic Regression_Primary School",
          "Logistic Regression_Primary School",
          "Logistic Regression_Primary School",
          "Logistic Regression_Primary School",
          "Logistic Regression_Primary School",
          "Logistic Regression_Primary School",
          "Logistic Regression_Primary School",
          "Logistic Regression_Primary School",
          "Logistic Regression_Primary School",
          "Logistic Regression_Primary School",
          "Logistic Regression_Primary School",
          "Logistic Regression_Primary School",
          "Logistic Regression_Primary School",
          "Logistic Regression_Primary School",
          "Logistic Regression_Primary School",
          "Logistic Regression_Primary School",
          "Logistic Regression_Primary School",
          "Logistic Regression_Primary School",
          "Logistic Regression_Primary School",
          "Logistic Regression_Primary School",
          "Logistic Regression_Primary School",
          "Logistic Regression_Primary School",
          "Logistic Regression_Primary School",
          "Logistic Regression_Primary School",
          "Logistic Regression_Primary School",
          "Logistic Regression_Primary School",
          "Logistic Regression_Primary School",
          "Logistic Regression_Primary School",
          "Logistic Regression_Primary School",
          "Logistic Regression_Primary School",
          "Logistic Regression_Primary School",
          "Logistic Regression_Primary School",
          "Logistic Regression_Primary School",
          "Logistic Regression_Primary School",
          "Logistic Regression_Primary School",
          "Logistic Regression_Primary School",
          "Logistic Regression_Primary School",
          "Logistic Regression_Primary School",
          "Logistic Regression_Primary School"
         ],
         "legendgroup": "Logistic Regression_Primary School",
         "line": {
          "color": "#ae2c87",
          "dash": "solid",
          "width": 2
         },
         "marker": {
          "symbol": "circle"
         },
         "mode": "lines",
         "name": "Logistic Regression_Primary School",
         "opacity": 1,
         "orientation": "v",
         "showlegend": true,
         "type": "scatter",
         "x": [
          2,
          5.3,
          8.6,
          11.899999999999999,
          15.2,
          18.5,
          21.799999999999997,
          25.099999999999998,
          28.4,
          31.7,
          35,
          38.3,
          41.599999999999994,
          44.9,
          48.199999999999996,
          51.5,
          54.8,
          58.099999999999994,
          61.4,
          64.69999999999999,
          68,
          71.3,
          74.6,
          77.89999999999999,
          81.19999999999999,
          84.5,
          87.8,
          91.1,
          94.39999999999999,
          97.69999999999999,
          101,
          104.3,
          107.6,
          110.89999999999999,
          114.19999999999999,
          117.5,
          120.8,
          124.1,
          127.39999999999999,
          130.7,
          134,
          137.29999999999998,
          140.6,
          143.9,
          147.2,
          150.5,
          153.79999999999998,
          157.1,
          160.39999999999998,
          163.7,
          167,
          170.29999999999998,
          173.6,
          176.89999999999998,
          180.2,
          183.5,
          186.79999999999998,
          190.1,
          193.39999999999998,
          196.7,
          200,
          203.29999999999998,
          206.6,
          209.89999999999998,
          213.2,
          216.5,
          219.79999999999998,
          223.1,
          226.39999999999998,
          229.7,
          233,
          236.29999999999998,
          239.6,
          242.89999999999998,
          246.2,
          249.5,
          252.79999999999998,
          256.1,
          259.4,
          262.7,
          266,
          269.3,
          272.59999999999997,
          275.9,
          279.2,
          282.5,
          285.8,
          289.09999999999997,
          292.4,
          295.7,
          299,
          302.3,
          305.59999999999997,
          308.9,
          312.2,
          315.5,
          318.79999999999995,
          322.09999999999997,
          325.4,
          328.7,
          332
         ],
         "xaxis": "x",
         "y": [
          0.0714291516850718,
          0.07156209523414293,
          0.07169524562424363,
          0.07182860304885227,
          0.07196216770127348,
          0.07209593977463737,
          0.07222991946189875,
          0.07236410695583619,
          0.07249850244905126,
          0.07263310613396778,
          0.07276791820283085,
          0.0729029388477062,
          0.07303816826047921,
          0.07317360663285423,
          0.07330925415635367,
          0.07344511102231732,
          0.07358117742190141,
          0.07371745354607788,
          0.0738539395856336,
          0.07399063573116951,
          0.07412754217309986,
          0.07426465910165145,
          0.07440198670686271,
          0.07453952517858312,
          0.07467727470647224,
          0.07481523547999905,
          0.0749534076884411,
          0.07509179152088372,
          0.07523038716621934,
          0.07536919481314665,
          0.07550821465016978,
          0.07564744686559767,
          0.07578689164754318,
          0.07592654918392241,
          0.07606641966245392,
          0.07620650327065792,
          0.07634680019585563,
          0.07648731062516839,
          0.07662803474551706,
          0.07676897274362116,
          0.0769101248059982,
          0.0770514911189629,
          0.07719307186862648,
          0.07733486724089593,
          0.07747687742147326,
          0.07761910259585474,
          0.0777615429493303,
          0.07790419866698266,
          0.07804706993368678,
          0.0781901569341089,
          0.07833345985270615,
          0.07847697887372554,
          0.07862071418120345,
          0.07876466595896484,
          0.07890883439062259,
          0.07905321965957676,
          0.07919782194901401,
          0.07934264144190678,
          0.07948767832101261,
          0.07963293276887357,
          0.07977840496781552,
          0.07992409509994733,
          0.08007000334716047,
          0.08021612989112802,
          0.08036247491330427,
          0.08050903859492389,
          0.0806558211170014,
          0.08080282266033034,
          0.08095004340548284,
          0.08109748353280877,
          0.08124514322243521,
          0.08139302265426583,
          0.08154112200798014,
          0.08168944146303293,
          0.08183798119865363,
          0.08198674139384572,
          0.08213572222738601,
          0.08228492387782411,
          0.08243434652348178,
          0.08258399034245228,
          0.08273385551259989,
          0.08288394221155912,
          0.08303425061673426,
          0.08318478090529872,
          0.08333553325419438,
          0.08348650784013115,
          0.08363770483958624,
          0.08378912442880364,
          0.08394076678379357,
          0.08409263208033181,
          0.08424472049395923,
          0.08439703219998117,
          0.08454956737346685,
          0.08470232618924892,
          0.08485530882192274,
          0.08500851544584603,
          0.0851619462351381,
          0.08531560136367952,
          0.0854694810051114,
          0.08562358533283493,
          0.08577791452001095
         ],
         "yaxis": "y"
        },
        {
         "customdata": [
          [
           0.2989119386525847,
           "Logistic Regression_Phd",
           "training_hours"
          ],
          [
           0.2989119386525847,
           "Logistic Regression_Phd",
           "training_hours"
          ],
          [
           0.2989119386525847,
           "Logistic Regression_Phd",
           "training_hours"
          ],
          [
           0.2989119386525847,
           "Logistic Regression_Phd",
           "training_hours"
          ],
          [
           0.2989119386525847,
           "Logistic Regression_Phd",
           "training_hours"
          ],
          [
           0.2989119386525847,
           "Logistic Regression_Phd",
           "training_hours"
          ],
          [
           0.2989119386525847,
           "Logistic Regression_Phd",
           "training_hours"
          ],
          [
           0.2989119386525847,
           "Logistic Regression_Phd",
           "training_hours"
          ],
          [
           0.2989119386525847,
           "Logistic Regression_Phd",
           "training_hours"
          ],
          [
           0.2989119386525847,
           "Logistic Regression_Phd",
           "training_hours"
          ],
          [
           0.2989119386525847,
           "Logistic Regression_Phd",
           "training_hours"
          ],
          [
           0.2989119386525847,
           "Logistic Regression_Phd",
           "training_hours"
          ],
          [
           0.2989119386525847,
           "Logistic Regression_Phd",
           "training_hours"
          ],
          [
           0.2989119386525847,
           "Logistic Regression_Phd",
           "training_hours"
          ],
          [
           0.2989119386525847,
           "Logistic Regression_Phd",
           "training_hours"
          ],
          [
           0.2989119386525847,
           "Logistic Regression_Phd",
           "training_hours"
          ],
          [
           0.2989119386525847,
           "Logistic Regression_Phd",
           "training_hours"
          ],
          [
           0.2989119386525847,
           "Logistic Regression_Phd",
           "training_hours"
          ],
          [
           0.2989119386525847,
           "Logistic Regression_Phd",
           "training_hours"
          ],
          [
           0.2989119386525847,
           "Logistic Regression_Phd",
           "training_hours"
          ],
          [
           0.2989119386525847,
           "Logistic Regression_Phd",
           "training_hours"
          ],
          [
           0.2989119386525847,
           "Logistic Regression_Phd",
           "training_hours"
          ],
          [
           0.2989119386525847,
           "Logistic Regression_Phd",
           "training_hours"
          ],
          [
           0.2989119386525847,
           "Logistic Regression_Phd",
           "training_hours"
          ],
          [
           0.2989119386525847,
           "Logistic Regression_Phd",
           "training_hours"
          ],
          [
           0.2989119386525847,
           "Logistic Regression_Phd",
           "training_hours"
          ],
          [
           0.2989119386525847,
           "Logistic Regression_Phd",
           "training_hours"
          ],
          [
           0.2989119386525847,
           "Logistic Regression_Phd",
           "training_hours"
          ],
          [
           0.2989119386525847,
           "Logistic Regression_Phd",
           "training_hours"
          ],
          [
           0.2989119386525847,
           "Logistic Regression_Phd",
           "training_hours"
          ],
          [
           0.2989119386525847,
           "Logistic Regression_Phd",
           "training_hours"
          ],
          [
           0.2989119386525847,
           "Logistic Regression_Phd",
           "training_hours"
          ],
          [
           0.2989119386525847,
           "Logistic Regression_Phd",
           "training_hours"
          ],
          [
           0.2989119386525847,
           "Logistic Regression_Phd",
           "training_hours"
          ],
          [
           0.2989119386525847,
           "Logistic Regression_Phd",
           "training_hours"
          ],
          [
           0.2989119386525847,
           "Logistic Regression_Phd",
           "training_hours"
          ],
          [
           0.2989119386525847,
           "Logistic Regression_Phd",
           "training_hours"
          ],
          [
           0.2989119386525847,
           "Logistic Regression_Phd",
           "training_hours"
          ],
          [
           0.2989119386525847,
           "Logistic Regression_Phd",
           "training_hours"
          ],
          [
           0.2989119386525847,
           "Logistic Regression_Phd",
           "training_hours"
          ],
          [
           0.2989119386525847,
           "Logistic Regression_Phd",
           "training_hours"
          ],
          [
           0.2989119386525847,
           "Logistic Regression_Phd",
           "training_hours"
          ],
          [
           0.2989119386525847,
           "Logistic Regression_Phd",
           "training_hours"
          ],
          [
           0.2989119386525847,
           "Logistic Regression_Phd",
           "training_hours"
          ],
          [
           0.2989119386525847,
           "Logistic Regression_Phd",
           "training_hours"
          ],
          [
           0.2989119386525847,
           "Logistic Regression_Phd",
           "training_hours"
          ],
          [
           0.2989119386525847,
           "Logistic Regression_Phd",
           "training_hours"
          ],
          [
           0.2989119386525847,
           "Logistic Regression_Phd",
           "training_hours"
          ],
          [
           0.2989119386525847,
           "Logistic Regression_Phd",
           "training_hours"
          ],
          [
           0.2989119386525847,
           "Logistic Regression_Phd",
           "training_hours"
          ],
          [
           0.2989119386525847,
           "Logistic Regression_Phd",
           "training_hours"
          ],
          [
           0.2989119386525847,
           "Logistic Regression_Phd",
           "training_hours"
          ],
          [
           0.2989119386525847,
           "Logistic Regression_Phd",
           "training_hours"
          ],
          [
           0.2989119386525847,
           "Logistic Regression_Phd",
           "training_hours"
          ],
          [
           0.2989119386525847,
           "Logistic Regression_Phd",
           "training_hours"
          ],
          [
           0.2989119386525847,
           "Logistic Regression_Phd",
           "training_hours"
          ],
          [
           0.2989119386525847,
           "Logistic Regression_Phd",
           "training_hours"
          ],
          [
           0.2989119386525847,
           "Logistic Regression_Phd",
           "training_hours"
          ],
          [
           0.2989119386525847,
           "Logistic Regression_Phd",
           "training_hours"
          ],
          [
           0.2989119386525847,
           "Logistic Regression_Phd",
           "training_hours"
          ],
          [
           0.2989119386525847,
           "Logistic Regression_Phd",
           "training_hours"
          ],
          [
           0.2989119386525847,
           "Logistic Regression_Phd",
           "training_hours"
          ],
          [
           0.2989119386525847,
           "Logistic Regression_Phd",
           "training_hours"
          ],
          [
           0.2989119386525847,
           "Logistic Regression_Phd",
           "training_hours"
          ],
          [
           0.2989119386525847,
           "Logistic Regression_Phd",
           "training_hours"
          ],
          [
           0.2989119386525847,
           "Logistic Regression_Phd",
           "training_hours"
          ],
          [
           0.2989119386525847,
           "Logistic Regression_Phd",
           "training_hours"
          ],
          [
           0.2989119386525847,
           "Logistic Regression_Phd",
           "training_hours"
          ],
          [
           0.2989119386525847,
           "Logistic Regression_Phd",
           "training_hours"
          ],
          [
           0.2989119386525847,
           "Logistic Regression_Phd",
           "training_hours"
          ],
          [
           0.2989119386525847,
           "Logistic Regression_Phd",
           "training_hours"
          ],
          [
           0.2989119386525847,
           "Logistic Regression_Phd",
           "training_hours"
          ],
          [
           0.2989119386525847,
           "Logistic Regression_Phd",
           "training_hours"
          ],
          [
           0.2989119386525847,
           "Logistic Regression_Phd",
           "training_hours"
          ],
          [
           0.2989119386525847,
           "Logistic Regression_Phd",
           "training_hours"
          ],
          [
           0.2989119386525847,
           "Logistic Regression_Phd",
           "training_hours"
          ],
          [
           0.2989119386525847,
           "Logistic Regression_Phd",
           "training_hours"
          ],
          [
           0.2989119386525847,
           "Logistic Regression_Phd",
           "training_hours"
          ],
          [
           0.2989119386525847,
           "Logistic Regression_Phd",
           "training_hours"
          ],
          [
           0.2989119386525847,
           "Logistic Regression_Phd",
           "training_hours"
          ],
          [
           0.2989119386525847,
           "Logistic Regression_Phd",
           "training_hours"
          ],
          [
           0.2989119386525847,
           "Logistic Regression_Phd",
           "training_hours"
          ],
          [
           0.2989119386525847,
           "Logistic Regression_Phd",
           "training_hours"
          ],
          [
           0.2989119386525847,
           "Logistic Regression_Phd",
           "training_hours"
          ],
          [
           0.2989119386525847,
           "Logistic Regression_Phd",
           "training_hours"
          ],
          [
           0.2989119386525847,
           "Logistic Regression_Phd",
           "training_hours"
          ],
          [
           0.2989119386525847,
           "Logistic Regression_Phd",
           "training_hours"
          ],
          [
           0.2989119386525847,
           "Logistic Regression_Phd",
           "training_hours"
          ],
          [
           0.2989119386525847,
           "Logistic Regression_Phd",
           "training_hours"
          ],
          [
           0.2989119386525847,
           "Logistic Regression_Phd",
           "training_hours"
          ],
          [
           0.2989119386525847,
           "Logistic Regression_Phd",
           "training_hours"
          ],
          [
           0.2989119386525847,
           "Logistic Regression_Phd",
           "training_hours"
          ],
          [
           0.2989119386525847,
           "Logistic Regression_Phd",
           "training_hours"
          ],
          [
           0.2989119386525847,
           "Logistic Regression_Phd",
           "training_hours"
          ],
          [
           0.2989119386525847,
           "Logistic Regression_Phd",
           "training_hours"
          ],
          [
           0.2989119386525847,
           "Logistic Regression_Phd",
           "training_hours"
          ],
          [
           0.2989119386525847,
           "Logistic Regression_Phd",
           "training_hours"
          ],
          [
           0.2989119386525847,
           "Logistic Regression_Phd",
           "training_hours"
          ],
          [
           0.2989119386525847,
           "Logistic Regression_Phd",
           "training_hours"
          ],
          [
           0.2989119386525847,
           "Logistic Regression_Phd",
           "training_hours"
          ],
          [
           0.2989119386525847,
           "Logistic Regression_Phd",
           "training_hours"
          ]
         ],
         "hovertemplate": "<b>%{hovertext}</b><br><br>prediction=%{y:.3f}<br>mean_prediction=%{customdata[0]:.3f}<extra></extra>",
         "hovertext": [
          "Logistic Regression_Phd",
          "Logistic Regression_Phd",
          "Logistic Regression_Phd",
          "Logistic Regression_Phd",
          "Logistic Regression_Phd",
          "Logistic Regression_Phd",
          "Logistic Regression_Phd",
          "Logistic Regression_Phd",
          "Logistic Regression_Phd",
          "Logistic Regression_Phd",
          "Logistic Regression_Phd",
          "Logistic Regression_Phd",
          "Logistic Regression_Phd",
          "Logistic Regression_Phd",
          "Logistic Regression_Phd",
          "Logistic Regression_Phd",
          "Logistic Regression_Phd",
          "Logistic Regression_Phd",
          "Logistic Regression_Phd",
          "Logistic Regression_Phd",
          "Logistic Regression_Phd",
          "Logistic Regression_Phd",
          "Logistic Regression_Phd",
          "Logistic Regression_Phd",
          "Logistic Regression_Phd",
          "Logistic Regression_Phd",
          "Logistic Regression_Phd",
          "Logistic Regression_Phd",
          "Logistic Regression_Phd",
          "Logistic Regression_Phd",
          "Logistic Regression_Phd",
          "Logistic Regression_Phd",
          "Logistic Regression_Phd",
          "Logistic Regression_Phd",
          "Logistic Regression_Phd",
          "Logistic Regression_Phd",
          "Logistic Regression_Phd",
          "Logistic Regression_Phd",
          "Logistic Regression_Phd",
          "Logistic Regression_Phd",
          "Logistic Regression_Phd",
          "Logistic Regression_Phd",
          "Logistic Regression_Phd",
          "Logistic Regression_Phd",
          "Logistic Regression_Phd",
          "Logistic Regression_Phd",
          "Logistic Regression_Phd",
          "Logistic Regression_Phd",
          "Logistic Regression_Phd",
          "Logistic Regression_Phd",
          "Logistic Regression_Phd",
          "Logistic Regression_Phd",
          "Logistic Regression_Phd",
          "Logistic Regression_Phd",
          "Logistic Regression_Phd",
          "Logistic Regression_Phd",
          "Logistic Regression_Phd",
          "Logistic Regression_Phd",
          "Logistic Regression_Phd",
          "Logistic Regression_Phd",
          "Logistic Regression_Phd",
          "Logistic Regression_Phd",
          "Logistic Regression_Phd",
          "Logistic Regression_Phd",
          "Logistic Regression_Phd",
          "Logistic Regression_Phd",
          "Logistic Regression_Phd",
          "Logistic Regression_Phd",
          "Logistic Regression_Phd",
          "Logistic Regression_Phd",
          "Logistic Regression_Phd",
          "Logistic Regression_Phd",
          "Logistic Regression_Phd",
          "Logistic Regression_Phd",
          "Logistic Regression_Phd",
          "Logistic Regression_Phd",
          "Logistic Regression_Phd",
          "Logistic Regression_Phd",
          "Logistic Regression_Phd",
          "Logistic Regression_Phd",
          "Logistic Regression_Phd",
          "Logistic Regression_Phd",
          "Logistic Regression_Phd",
          "Logistic Regression_Phd",
          "Logistic Regression_Phd",
          "Logistic Regression_Phd",
          "Logistic Regression_Phd",
          "Logistic Regression_Phd",
          "Logistic Regression_Phd",
          "Logistic Regression_Phd",
          "Logistic Regression_Phd",
          "Logistic Regression_Phd",
          "Logistic Regression_Phd",
          "Logistic Regression_Phd",
          "Logistic Regression_Phd",
          "Logistic Regression_Phd",
          "Logistic Regression_Phd",
          "Logistic Regression_Phd",
          "Logistic Regression_Phd",
          "Logistic Regression_Phd",
          "Logistic Regression_Phd"
         ],
         "legendgroup": "Logistic Regression_Phd",
         "line": {
          "color": "#ffa58c",
          "dash": "solid",
          "width": 2
         },
         "marker": {
          "symbol": "circle"
         },
         "mode": "lines",
         "name": "Logistic Regression_Phd",
         "opacity": 1,
         "orientation": "v",
         "showlegend": true,
         "type": "scatter",
         "x": [
          2,
          5.3,
          8.6,
          11.899999999999999,
          15.2,
          18.5,
          21.799999999999997,
          25.099999999999998,
          28.4,
          31.7,
          35,
          38.3,
          41.599999999999994,
          44.9,
          48.199999999999996,
          51.5,
          54.8,
          58.099999999999994,
          61.4,
          64.69999999999999,
          68,
          71.3,
          74.6,
          77.89999999999999,
          81.19999999999999,
          84.5,
          87.8,
          91.1,
          94.39999999999999,
          97.69999999999999,
          101,
          104.3,
          107.6,
          110.89999999999999,
          114.19999999999999,
          117.5,
          120.8,
          124.1,
          127.39999999999999,
          130.7,
          134,
          137.29999999999998,
          140.6,
          143.9,
          147.2,
          150.5,
          153.79999999999998,
          157.1,
          160.39999999999998,
          163.7,
          167,
          170.29999999999998,
          173.6,
          176.89999999999998,
          180.2,
          183.5,
          186.79999999999998,
          190.1,
          193.39999999999998,
          196.7,
          200,
          203.29999999999998,
          206.6,
          209.89999999999998,
          213.2,
          216.5,
          219.79999999999998,
          223.1,
          226.39999999999998,
          229.7,
          233,
          236.29999999999998,
          239.6,
          242.89999999999998,
          246.2,
          249.5,
          252.79999999999998,
          256.1,
          259.4,
          262.7,
          266,
          269.3,
          272.59999999999997,
          275.9,
          279.2,
          282.5,
          285.8,
          289.09999999999997,
          292.4,
          295.7,
          299,
          302.3,
          305.59999999999997,
          308.9,
          312.2,
          315.5,
          318.79999999999995,
          322.09999999999997,
          325.4,
          328.7,
          332
         ],
         "xaxis": "x",
         "y": [
          0.1492406333355384,
          0.1494877656265981,
          0.14973519754364797,
          0.14998292917270228,
          0.15023096059923952,
          0.1504792919082025,
          0.1507279231839982,
          0.15097685451049758,
          0.1512260859710357,
          0.15147561764841153,
          0.15172544962488782,
          0.15197558198219122,
          0.15222601480151204,
          0.1524767481635043,
          0.15272778214828558,
          0.15297911683543713,
          0.15323075230400363,
          0.15348268863249329,
          0.15373492589887777,
          0.15398746418059214,
          0.15424030355453477,
          0.1544934440970675,
          0.15474688588401542,
          0.155000628990667,
          0.15525467349177388,
          0.1555090194615511,
          0.1557636669736769,
          0.1560186161012928,
          0.15627386691700365,
          0.15652941949287746,
          0.15678527390044555,
          0.15704143021070252,
          0.15729788849410625,
          0.1575546488205779,
          0.15781171125950202,
          0.15806907587972646,
          0.1583267427495624,
          0.15858471193678444,
          0.15884298350863063,
          0.1591015575318024,
          0.15936043407246478,
          0.15961961319624624,
          0.15987909496823885,
          0.16013887945299835,
          0.16039896671454407,
          0.16065935681635915,
          0.1609200498213904,
          0.16118104579204853,
          0.1614423447902081,
          0.16170394687720777,
          0.16196585211384995,
          0.16222806056040137,
          0.1624905722765928,
          0.1627533873216193,
          0.16301650575414023,
          0.16327992763227925,
          0.16354365301362458,
          0.16380768195522896,
          0.16407201451360978,
          0.16433665074474907,
          0.1646015907040938,
          0.1648668344465557,
          0.16513238202651162,
          0.1653982334978034,
          0.16566438891373808,
          0.16593084832708815,
          0.16619761179009135,
          0.16646467935445083,
          0.1667320510713356,
          0.16699972699138022,
          0.16726770716468503,
          0.16753599164081642,
          0.1678045804688068,
          0.16807347369715472,
          0.16834267137382505,
          0.16861217354624905,
          0.1688819802613245,
          0.1691520915654158,
          0.16942250750435417,
          0.16969322812343768,
          0.1699642534674315,
          0.17023558358056787,
          0.17050721850654632,
          0.17077915828853385,
          0.171051402969165,
          0.17132395259054187,
          0.17159680719423445,
          0.17186996682128072,
          0.17214343151218675,
          0.17241720130692664,
          0.17269127624494318,
          0.17296565636514732,
          0.17324034170591887,
          0.17351533230510627,
          0.17379062820002705,
          0.17406622942746763,
          0.17434213602368376,
          0.17461834802440052,
          0.1748948654648124,
          0.17517168837958363,
          0.1754488168028482
         ],
         "yaxis": "y"
        },
        {
         "customdata": [
          [
           0.2989119386525847,
           "Logistic Regression_No data",
           "training_hours"
          ],
          [
           0.2989119386525847,
           "Logistic Regression_No data",
           "training_hours"
          ],
          [
           0.2989119386525847,
           "Logistic Regression_No data",
           "training_hours"
          ],
          [
           0.2989119386525847,
           "Logistic Regression_No data",
           "training_hours"
          ],
          [
           0.2989119386525847,
           "Logistic Regression_No data",
           "training_hours"
          ],
          [
           0.2989119386525847,
           "Logistic Regression_No data",
           "training_hours"
          ],
          [
           0.2989119386525847,
           "Logistic Regression_No data",
           "training_hours"
          ],
          [
           0.2989119386525847,
           "Logistic Regression_No data",
           "training_hours"
          ],
          [
           0.2989119386525847,
           "Logistic Regression_No data",
           "training_hours"
          ],
          [
           0.2989119386525847,
           "Logistic Regression_No data",
           "training_hours"
          ],
          [
           0.2989119386525847,
           "Logistic Regression_No data",
           "training_hours"
          ],
          [
           0.2989119386525847,
           "Logistic Regression_No data",
           "training_hours"
          ],
          [
           0.2989119386525847,
           "Logistic Regression_No data",
           "training_hours"
          ],
          [
           0.2989119386525847,
           "Logistic Regression_No data",
           "training_hours"
          ],
          [
           0.2989119386525847,
           "Logistic Regression_No data",
           "training_hours"
          ],
          [
           0.2989119386525847,
           "Logistic Regression_No data",
           "training_hours"
          ],
          [
           0.2989119386525847,
           "Logistic Regression_No data",
           "training_hours"
          ],
          [
           0.2989119386525847,
           "Logistic Regression_No data",
           "training_hours"
          ],
          [
           0.2989119386525847,
           "Logistic Regression_No data",
           "training_hours"
          ],
          [
           0.2989119386525847,
           "Logistic Regression_No data",
           "training_hours"
          ],
          [
           0.2989119386525847,
           "Logistic Regression_No data",
           "training_hours"
          ],
          [
           0.2989119386525847,
           "Logistic Regression_No data",
           "training_hours"
          ],
          [
           0.2989119386525847,
           "Logistic Regression_No data",
           "training_hours"
          ],
          [
           0.2989119386525847,
           "Logistic Regression_No data",
           "training_hours"
          ],
          [
           0.2989119386525847,
           "Logistic Regression_No data",
           "training_hours"
          ],
          [
           0.2989119386525847,
           "Logistic Regression_No data",
           "training_hours"
          ],
          [
           0.2989119386525847,
           "Logistic Regression_No data",
           "training_hours"
          ],
          [
           0.2989119386525847,
           "Logistic Regression_No data",
           "training_hours"
          ],
          [
           0.2989119386525847,
           "Logistic Regression_No data",
           "training_hours"
          ],
          [
           0.2989119386525847,
           "Logistic Regression_No data",
           "training_hours"
          ],
          [
           0.2989119386525847,
           "Logistic Regression_No data",
           "training_hours"
          ],
          [
           0.2989119386525847,
           "Logistic Regression_No data",
           "training_hours"
          ],
          [
           0.2989119386525847,
           "Logistic Regression_No data",
           "training_hours"
          ],
          [
           0.2989119386525847,
           "Logistic Regression_No data",
           "training_hours"
          ],
          [
           0.2989119386525847,
           "Logistic Regression_No data",
           "training_hours"
          ],
          [
           0.2989119386525847,
           "Logistic Regression_No data",
           "training_hours"
          ],
          [
           0.2989119386525847,
           "Logistic Regression_No data",
           "training_hours"
          ],
          [
           0.2989119386525847,
           "Logistic Regression_No data",
           "training_hours"
          ],
          [
           0.2989119386525847,
           "Logistic Regression_No data",
           "training_hours"
          ],
          [
           0.2989119386525847,
           "Logistic Regression_No data",
           "training_hours"
          ],
          [
           0.2989119386525847,
           "Logistic Regression_No data",
           "training_hours"
          ],
          [
           0.2989119386525847,
           "Logistic Regression_No data",
           "training_hours"
          ],
          [
           0.2989119386525847,
           "Logistic Regression_No data",
           "training_hours"
          ],
          [
           0.2989119386525847,
           "Logistic Regression_No data",
           "training_hours"
          ],
          [
           0.2989119386525847,
           "Logistic Regression_No data",
           "training_hours"
          ],
          [
           0.2989119386525847,
           "Logistic Regression_No data",
           "training_hours"
          ],
          [
           0.2989119386525847,
           "Logistic Regression_No data",
           "training_hours"
          ],
          [
           0.2989119386525847,
           "Logistic Regression_No data",
           "training_hours"
          ],
          [
           0.2989119386525847,
           "Logistic Regression_No data",
           "training_hours"
          ],
          [
           0.2989119386525847,
           "Logistic Regression_No data",
           "training_hours"
          ],
          [
           0.2989119386525847,
           "Logistic Regression_No data",
           "training_hours"
          ],
          [
           0.2989119386525847,
           "Logistic Regression_No data",
           "training_hours"
          ],
          [
           0.2989119386525847,
           "Logistic Regression_No data",
           "training_hours"
          ],
          [
           0.2989119386525847,
           "Logistic Regression_No data",
           "training_hours"
          ],
          [
           0.2989119386525847,
           "Logistic Regression_No data",
           "training_hours"
          ],
          [
           0.2989119386525847,
           "Logistic Regression_No data",
           "training_hours"
          ],
          [
           0.2989119386525847,
           "Logistic Regression_No data",
           "training_hours"
          ],
          [
           0.2989119386525847,
           "Logistic Regression_No data",
           "training_hours"
          ],
          [
           0.2989119386525847,
           "Logistic Regression_No data",
           "training_hours"
          ],
          [
           0.2989119386525847,
           "Logistic Regression_No data",
           "training_hours"
          ],
          [
           0.2989119386525847,
           "Logistic Regression_No data",
           "training_hours"
          ],
          [
           0.2989119386525847,
           "Logistic Regression_No data",
           "training_hours"
          ],
          [
           0.2989119386525847,
           "Logistic Regression_No data",
           "training_hours"
          ],
          [
           0.2989119386525847,
           "Logistic Regression_No data",
           "training_hours"
          ],
          [
           0.2989119386525847,
           "Logistic Regression_No data",
           "training_hours"
          ],
          [
           0.2989119386525847,
           "Logistic Regression_No data",
           "training_hours"
          ],
          [
           0.2989119386525847,
           "Logistic Regression_No data",
           "training_hours"
          ],
          [
           0.2989119386525847,
           "Logistic Regression_No data",
           "training_hours"
          ],
          [
           0.2989119386525847,
           "Logistic Regression_No data",
           "training_hours"
          ],
          [
           0.2989119386525847,
           "Logistic Regression_No data",
           "training_hours"
          ],
          [
           0.2989119386525847,
           "Logistic Regression_No data",
           "training_hours"
          ],
          [
           0.2989119386525847,
           "Logistic Regression_No data",
           "training_hours"
          ],
          [
           0.2989119386525847,
           "Logistic Regression_No data",
           "training_hours"
          ],
          [
           0.2989119386525847,
           "Logistic Regression_No data",
           "training_hours"
          ],
          [
           0.2989119386525847,
           "Logistic Regression_No data",
           "training_hours"
          ],
          [
           0.2989119386525847,
           "Logistic Regression_No data",
           "training_hours"
          ],
          [
           0.2989119386525847,
           "Logistic Regression_No data",
           "training_hours"
          ],
          [
           0.2989119386525847,
           "Logistic Regression_No data",
           "training_hours"
          ],
          [
           0.2989119386525847,
           "Logistic Regression_No data",
           "training_hours"
          ],
          [
           0.2989119386525847,
           "Logistic Regression_No data",
           "training_hours"
          ],
          [
           0.2989119386525847,
           "Logistic Regression_No data",
           "training_hours"
          ],
          [
           0.2989119386525847,
           "Logistic Regression_No data",
           "training_hours"
          ],
          [
           0.2989119386525847,
           "Logistic Regression_No data",
           "training_hours"
          ],
          [
           0.2989119386525847,
           "Logistic Regression_No data",
           "training_hours"
          ],
          [
           0.2989119386525847,
           "Logistic Regression_No data",
           "training_hours"
          ],
          [
           0.2989119386525847,
           "Logistic Regression_No data",
           "training_hours"
          ],
          [
           0.2989119386525847,
           "Logistic Regression_No data",
           "training_hours"
          ],
          [
           0.2989119386525847,
           "Logistic Regression_No data",
           "training_hours"
          ],
          [
           0.2989119386525847,
           "Logistic Regression_No data",
           "training_hours"
          ],
          [
           0.2989119386525847,
           "Logistic Regression_No data",
           "training_hours"
          ],
          [
           0.2989119386525847,
           "Logistic Regression_No data",
           "training_hours"
          ],
          [
           0.2989119386525847,
           "Logistic Regression_No data",
           "training_hours"
          ],
          [
           0.2989119386525847,
           "Logistic Regression_No data",
           "training_hours"
          ],
          [
           0.2989119386525847,
           "Logistic Regression_No data",
           "training_hours"
          ],
          [
           0.2989119386525847,
           "Logistic Regression_No data",
           "training_hours"
          ],
          [
           0.2989119386525847,
           "Logistic Regression_No data",
           "training_hours"
          ],
          [
           0.2989119386525847,
           "Logistic Regression_No data",
           "training_hours"
          ],
          [
           0.2989119386525847,
           "Logistic Regression_No data",
           "training_hours"
          ],
          [
           0.2989119386525847,
           "Logistic Regression_No data",
           "training_hours"
          ],
          [
           0.2989119386525847,
           "Logistic Regression_No data",
           "training_hours"
          ],
          [
           0.2989119386525847,
           "Logistic Regression_No data",
           "training_hours"
          ]
         ],
         "hovertemplate": "<b>%{hovertext}</b><br><br>prediction=%{y:.3f}<br>mean_prediction=%{customdata[0]:.3f}<extra></extra>",
         "hovertext": [
          "Logistic Regression_No data",
          "Logistic Regression_No data",
          "Logistic Regression_No data",
          "Logistic Regression_No data",
          "Logistic Regression_No data",
          "Logistic Regression_No data",
          "Logistic Regression_No data",
          "Logistic Regression_No data",
          "Logistic Regression_No data",
          "Logistic Regression_No data",
          "Logistic Regression_No data",
          "Logistic Regression_No data",
          "Logistic Regression_No data",
          "Logistic Regression_No data",
          "Logistic Regression_No data",
          "Logistic Regression_No data",
          "Logistic Regression_No data",
          "Logistic Regression_No data",
          "Logistic Regression_No data",
          "Logistic Regression_No data",
          "Logistic Regression_No data",
          "Logistic Regression_No data",
          "Logistic Regression_No data",
          "Logistic Regression_No data",
          "Logistic Regression_No data",
          "Logistic Regression_No data",
          "Logistic Regression_No data",
          "Logistic Regression_No data",
          "Logistic Regression_No data",
          "Logistic Regression_No data",
          "Logistic Regression_No data",
          "Logistic Regression_No data",
          "Logistic Regression_No data",
          "Logistic Regression_No data",
          "Logistic Regression_No data",
          "Logistic Regression_No data",
          "Logistic Regression_No data",
          "Logistic Regression_No data",
          "Logistic Regression_No data",
          "Logistic Regression_No data",
          "Logistic Regression_No data",
          "Logistic Regression_No data",
          "Logistic Regression_No data",
          "Logistic Regression_No data",
          "Logistic Regression_No data",
          "Logistic Regression_No data",
          "Logistic Regression_No data",
          "Logistic Regression_No data",
          "Logistic Regression_No data",
          "Logistic Regression_No data",
          "Logistic Regression_No data",
          "Logistic Regression_No data",
          "Logistic Regression_No data",
          "Logistic Regression_No data",
          "Logistic Regression_No data",
          "Logistic Regression_No data",
          "Logistic Regression_No data",
          "Logistic Regression_No data",
          "Logistic Regression_No data",
          "Logistic Regression_No data",
          "Logistic Regression_No data",
          "Logistic Regression_No data",
          "Logistic Regression_No data",
          "Logistic Regression_No data",
          "Logistic Regression_No data",
          "Logistic Regression_No data",
          "Logistic Regression_No data",
          "Logistic Regression_No data",
          "Logistic Regression_No data",
          "Logistic Regression_No data",
          "Logistic Regression_No data",
          "Logistic Regression_No data",
          "Logistic Regression_No data",
          "Logistic Regression_No data",
          "Logistic Regression_No data",
          "Logistic Regression_No data",
          "Logistic Regression_No data",
          "Logistic Regression_No data",
          "Logistic Regression_No data",
          "Logistic Regression_No data",
          "Logistic Regression_No data",
          "Logistic Regression_No data",
          "Logistic Regression_No data",
          "Logistic Regression_No data",
          "Logistic Regression_No data",
          "Logistic Regression_No data",
          "Logistic Regression_No data",
          "Logistic Regression_No data",
          "Logistic Regression_No data",
          "Logistic Regression_No data",
          "Logistic Regression_No data",
          "Logistic Regression_No data",
          "Logistic Regression_No data",
          "Logistic Regression_No data",
          "Logistic Regression_No data",
          "Logistic Regression_No data",
          "Logistic Regression_No data",
          "Logistic Regression_No data",
          "Logistic Regression_No data",
          "Logistic Regression_No data",
          "Logistic Regression_No data"
         ],
         "legendgroup": "Logistic Regression_No data",
         "line": {
          "color": "#4378bf",
          "dash": "solid",
          "width": 2
         },
         "marker": {
          "symbol": "circle"
         },
         "mode": "lines",
         "name": "Logistic Regression_No data",
         "opacity": 1,
         "orientation": "v",
         "showlegend": true,
         "type": "scatter",
         "x": [
          2,
          5.3,
          8.6,
          11.899999999999999,
          15.2,
          18.5,
          21.799999999999997,
          25.099999999999998,
          28.4,
          31.7,
          35,
          38.3,
          41.599999999999994,
          44.9,
          48.199999999999996,
          51.5,
          54.8,
          58.099999999999994,
          61.4,
          64.69999999999999,
          68,
          71.3,
          74.6,
          77.89999999999999,
          81.19999999999999,
          84.5,
          87.8,
          91.1,
          94.39999999999999,
          97.69999999999999,
          101,
          104.3,
          107.6,
          110.89999999999999,
          114.19999999999999,
          117.5,
          120.8,
          124.1,
          127.39999999999999,
          130.7,
          134,
          137.29999999999998,
          140.6,
          143.9,
          147.2,
          150.5,
          153.79999999999998,
          157.1,
          160.39999999999998,
          163.7,
          167,
          170.29999999999998,
          173.6,
          176.89999999999998,
          180.2,
          183.5,
          186.79999999999998,
          190.1,
          193.39999999999998,
          196.7,
          200,
          203.29999999999998,
          206.6,
          209.89999999999998,
          213.2,
          216.5,
          219.79999999999998,
          223.1,
          226.39999999999998,
          229.7,
          233,
          236.29999999999998,
          239.6,
          242.89999999999998,
          246.2,
          249.5,
          252.79999999999998,
          256.1,
          259.4,
          262.7,
          266,
          269.3,
          272.59999999999997,
          275.9,
          279.2,
          282.5,
          285.8,
          289.09999999999997,
          292.4,
          295.7,
          299,
          302.3,
          305.59999999999997,
          308.9,
          312.2,
          315.5,
          318.79999999999995,
          322.09999999999997,
          325.4,
          328.7,
          332
         ],
         "xaxis": "x",
         "y": [
          0.5596729727486838,
          0.5600840459990162,
          0.5604950749943549,
          0.5609060594362856,
          0.5613169990259916,
          0.5617278934642507,
          0.5621387424514335,
          0.5625495456875014,
          0.5629603028720037,
          0.5633710137040768,
          0.5637816778824407,
          0.5641922951053981,
          0.5646028650708316,
          0.565013387476202,
          0.5654238620185461,
          0.5658342883944749,
          0.5662446663001719,
          0.5666549954313902,
          0.5670652754834515,
          0.5674755061512438,
          0.5678856871292195,
          0.5682958181113934,
          0.5687058987913415,
          0.5691159288621981,
          0.5695259080166547,
          0.5699358359469582,
          0.5703457123449085,
          0.5707555369018577,
          0.5711653093087075,
          0.5715750292559076,
          0.5719846964334547,
          0.5723943105308897,
          0.5728038712372971,
          0.5732133782413026,
          0.5736228312310717,
          0.5740322298943084,
          0.5744415739182527,
          0.5748508629896804,
          0.5752600967949002,
          0.5756692750197532,
          0.5760783973496107,
          0.5764874634693731,
          0.576896473063468,
          0.5773054258158494,
          0.5777143214099957,
          0.5781231595289085,
          0.5785319398551113,
          0.5789406620706479,
          0.5793493258570811,
          0.5797579308954919,
          0.580166476866477,
          0.5805749634501491,
          0.5809833903261343,
          0.5813917571735712,
          0.5818000636711101,
          0.5822083094969116,
          0.5826164943286449,
          0.5830246178434876,
          0.5834326797181235,
          0.5838406796287424,
          0.5842486172510385,
          0.5846564922602093,
          0.5850643043309549,
          0.5854720531374764,
          0.5858797383534757,
          0.5862873596521536,
          0.5866949167062095,
          0.5871024091878401,
          0.5875098367687388,
          0.5879171991200941,
          0.5883244959125898,
          0.5887317268164032,
          0.5891388915012046,
          0.5895459896361566,
          0.5899530208899131,
          0.5903599849306187,
          0.5907668814259076,
          0.5911737100429035,
          0.5915804704482182,
          0.5919871623079516,
          0.59239378528769,
          0.5928003390525072,
          0.5932068232669614,
          0.5936132375950973,
          0.5940195817004437,
          0.5944258552460131,
          0.5948320578943023,
          0.5952381893072904,
          0.5956442491464398,
          0.5960502370726946,
          0.59645615274648,
          0.5968619958277035,
          0.5972677659757528,
          0.5976734628494961,
          0.5980790861072818,
          0.598484635406938,
          0.5988901104057723,
          0.5992955107605717,
          0.5997008361276017,
          0.6001060861626069,
          0.60051126052081
         ],
         "yaxis": "y"
        }
       ],
       "layout": {
        "annotations": [
         {
          "font": {
           "size": 13
          },
          "showarrow": false,
          "text": "training_hours",
          "x": 0.5,
          "xanchor": "center",
          "xref": "paper",
          "y": 1,
          "yanchor": "bottom",
          "yref": "paper"
         },
         {
          "font": {
           "size": 13
          },
          "showarrow": false,
          "text": "prediction",
          "textangle": -90,
          "x": -0.07,
          "xref": "paper",
          "y": 0.5,
          "yref": "paper"
         }
        ],
        "font": {
         "color": "#371ea3"
        },
        "height": 489,
        "hovermode": "x unified",
        "legend": {
         "font": {
          "size": 11
         },
         "itemsizing": "constant",
         "orientation": "h",
         "title": {
          "font": {
           "size": 12
          },
          "text": "label"
         },
         "tracegroupgap": 0,
         "x": 1,
         "xanchor": "right",
         "y": 1.0613496932515338,
         "yanchor": "bottom"
        },
        "margin": {
         "b": 71,
         "r": 30,
         "t": 78
        },
        "template": {
         "data": {
          "scatter": [
           {
            "type": "scatter"
           }
          ]
         }
        },
        "title": {
         "font": {
          "size": 16
         },
         "text": "PDP for training_hours with gender groups",
         "x": 0.15
        },
        "xaxis": {
         "anchor": "y",
         "automargin": true,
         "domain": [
          0,
          1
         ],
         "fixedrange": true,
         "gridwidth": 2,
         "showticklabels": true,
         "tickcolor": "white",
         "ticklen": 3,
         "ticks": "outside",
         "title": {
          "text": ""
         },
         "type": "linear",
         "zeroline": false
        },
        "yaxis": {
         "anchor": "x",
         "automargin": true,
         "domain": [
          0,
          1
         ],
         "fixedrange": true,
         "gridwidth": 2,
         "range": [
          0.018520940801497972,
          0.6534194714043838
         ],
         "tickcolor": "white",
         "ticklen": 3,
         "ticks": "outside",
         "title": {
          "text": ""
         },
         "type": "linear",
         "zeroline": false
        }
       }
      }
     },
     "metadata": {},
     "output_type": "display_data"
    }
   ],
   "source": [
    "X_train['education_level_text'] = X_train['training_hours'].map({'Primary School': 0, 'High School': 1, 'Graduate': 2, 'Masters': 3, 'Phd': 4, 'No data': 5})\n",
    "\n",
    "# Użycie tej kolumny do grupowania\n",
    "pdp_age_gender = exp.model_profile(variables=['training_hours'], groups='education_level')\n",
    "pdp_age_gender.plot(title=\"PDP for training_hours with gender groups\")"
   ]
  },
  {
   "cell_type": "code",
   "execution_count": 1045,
   "metadata": {},
   "outputs": [
    {
     "name": "stderr",
     "output_type": "stream",
     "text": [
      "Calculating ceteris paribus: 100%|██████████| 1/1 [00:00<00:00, 10.53it/s]\n"
     ]
    },
    {
     "data": {
      "application/vnd.plotly.v1+json": {
       "config": {
        "displaylogo": false,
        "modeBarButtonsToRemove": [
         "sendDataToCloud",
         "lasso2d",
         "autoScale2d",
         "select2d",
         "zoom2d",
         "pan2d",
         "zoomIn2d",
         "zoomOut2d",
         "resetScale2d",
         "toggleSpikelines",
         "hoverCompareCartesian",
         "hoverClosestCartesian"
        ],
        "plotlyServerURL": "https://plot.ly",
        "staticPlot": false,
        "toImageButtonOptions": {
         "height": null,
         "width": null
        }
       },
       "data": [
        {
         "customdata": [
          [
           0.29564053353857234,
           "Logistic Regression_Graduate",
           "city_development_index"
          ],
          [
           0.29564053353857234,
           "Logistic Regression_Graduate",
           "city_development_index"
          ],
          [
           0.29564053353857234,
           "Logistic Regression_Graduate",
           "city_development_index"
          ],
          [
           0.29564053353857234,
           "Logistic Regression_Graduate",
           "city_development_index"
          ],
          [
           0.29564053353857234,
           "Logistic Regression_Graduate",
           "city_development_index"
          ],
          [
           0.29564053353857234,
           "Logistic Regression_Graduate",
           "city_development_index"
          ],
          [
           0.29564053353857234,
           "Logistic Regression_Graduate",
           "city_development_index"
          ],
          [
           0.29564053353857234,
           "Logistic Regression_Graduate",
           "city_development_index"
          ],
          [
           0.29564053353857234,
           "Logistic Regression_Graduate",
           "city_development_index"
          ],
          [
           0.29564053353857234,
           "Logistic Regression_Graduate",
           "city_development_index"
          ],
          [
           0.29564053353857234,
           "Logistic Regression_Graduate",
           "city_development_index"
          ],
          [
           0.29564053353857234,
           "Logistic Regression_Graduate",
           "city_development_index"
          ],
          [
           0.29564053353857234,
           "Logistic Regression_Graduate",
           "city_development_index"
          ],
          [
           0.29564053353857234,
           "Logistic Regression_Graduate",
           "city_development_index"
          ],
          [
           0.29564053353857234,
           "Logistic Regression_Graduate",
           "city_development_index"
          ],
          [
           0.29564053353857234,
           "Logistic Regression_Graduate",
           "city_development_index"
          ],
          [
           0.29564053353857234,
           "Logistic Regression_Graduate",
           "city_development_index"
          ],
          [
           0.29564053353857234,
           "Logistic Regression_Graduate",
           "city_development_index"
          ],
          [
           0.29564053353857234,
           "Logistic Regression_Graduate",
           "city_development_index"
          ],
          [
           0.29564053353857234,
           "Logistic Regression_Graduate",
           "city_development_index"
          ],
          [
           0.29564053353857234,
           "Logistic Regression_Graduate",
           "city_development_index"
          ],
          [
           0.29564053353857234,
           "Logistic Regression_Graduate",
           "city_development_index"
          ],
          [
           0.29564053353857234,
           "Logistic Regression_Graduate",
           "city_development_index"
          ],
          [
           0.29564053353857234,
           "Logistic Regression_Graduate",
           "city_development_index"
          ],
          [
           0.29564053353857234,
           "Logistic Regression_Graduate",
           "city_development_index"
          ],
          [
           0.29564053353857234,
           "Logistic Regression_Graduate",
           "city_development_index"
          ],
          [
           0.29564053353857234,
           "Logistic Regression_Graduate",
           "city_development_index"
          ],
          [
           0.29564053353857234,
           "Logistic Regression_Graduate",
           "city_development_index"
          ],
          [
           0.29564053353857234,
           "Logistic Regression_Graduate",
           "city_development_index"
          ],
          [
           0.29564053353857234,
           "Logistic Regression_Graduate",
           "city_development_index"
          ],
          [
           0.29564053353857234,
           "Logistic Regression_Graduate",
           "city_development_index"
          ],
          [
           0.29564053353857234,
           "Logistic Regression_Graduate",
           "city_development_index"
          ],
          [
           0.29564053353857234,
           "Logistic Regression_Graduate",
           "city_development_index"
          ],
          [
           0.29564053353857234,
           "Logistic Regression_Graduate",
           "city_development_index"
          ],
          [
           0.29564053353857234,
           "Logistic Regression_Graduate",
           "city_development_index"
          ],
          [
           0.29564053353857234,
           "Logistic Regression_Graduate",
           "city_development_index"
          ],
          [
           0.29564053353857234,
           "Logistic Regression_Graduate",
           "city_development_index"
          ],
          [
           0.29564053353857234,
           "Logistic Regression_Graduate",
           "city_development_index"
          ],
          [
           0.29564053353857234,
           "Logistic Regression_Graduate",
           "city_development_index"
          ],
          [
           0.29564053353857234,
           "Logistic Regression_Graduate",
           "city_development_index"
          ],
          [
           0.29564053353857234,
           "Logistic Regression_Graduate",
           "city_development_index"
          ],
          [
           0.29564053353857234,
           "Logistic Regression_Graduate",
           "city_development_index"
          ],
          [
           0.29564053353857234,
           "Logistic Regression_Graduate",
           "city_development_index"
          ],
          [
           0.29564053353857234,
           "Logistic Regression_Graduate",
           "city_development_index"
          ],
          [
           0.29564053353857234,
           "Logistic Regression_Graduate",
           "city_development_index"
          ],
          [
           0.29564053353857234,
           "Logistic Regression_Graduate",
           "city_development_index"
          ],
          [
           0.29564053353857234,
           "Logistic Regression_Graduate",
           "city_development_index"
          ],
          [
           0.29564053353857234,
           "Logistic Regression_Graduate",
           "city_development_index"
          ],
          [
           0.29564053353857234,
           "Logistic Regression_Graduate",
           "city_development_index"
          ],
          [
           0.29564053353857234,
           "Logistic Regression_Graduate",
           "city_development_index"
          ],
          [
           0.29564053353857234,
           "Logistic Regression_Graduate",
           "city_development_index"
          ],
          [
           0.29564053353857234,
           "Logistic Regression_Graduate",
           "city_development_index"
          ],
          [
           0.29564053353857234,
           "Logistic Regression_Graduate",
           "city_development_index"
          ],
          [
           0.29564053353857234,
           "Logistic Regression_Graduate",
           "city_development_index"
          ],
          [
           0.29564053353857234,
           "Logistic Regression_Graduate",
           "city_development_index"
          ],
          [
           0.29564053353857234,
           "Logistic Regression_Graduate",
           "city_development_index"
          ],
          [
           0.29564053353857234,
           "Logistic Regression_Graduate",
           "city_development_index"
          ],
          [
           0.29564053353857234,
           "Logistic Regression_Graduate",
           "city_development_index"
          ],
          [
           0.29564053353857234,
           "Logistic Regression_Graduate",
           "city_development_index"
          ],
          [
           0.29564053353857234,
           "Logistic Regression_Graduate",
           "city_development_index"
          ],
          [
           0.29564053353857234,
           "Logistic Regression_Graduate",
           "city_development_index"
          ],
          [
           0.29564053353857234,
           "Logistic Regression_Graduate",
           "city_development_index"
          ],
          [
           0.29564053353857234,
           "Logistic Regression_Graduate",
           "city_development_index"
          ],
          [
           0.29564053353857234,
           "Logistic Regression_Graduate",
           "city_development_index"
          ],
          [
           0.29564053353857234,
           "Logistic Regression_Graduate",
           "city_development_index"
          ],
          [
           0.29564053353857234,
           "Logistic Regression_Graduate",
           "city_development_index"
          ],
          [
           0.29564053353857234,
           "Logistic Regression_Graduate",
           "city_development_index"
          ],
          [
           0.29564053353857234,
           "Logistic Regression_Graduate",
           "city_development_index"
          ],
          [
           0.29564053353857234,
           "Logistic Regression_Graduate",
           "city_development_index"
          ],
          [
           0.29564053353857234,
           "Logistic Regression_Graduate",
           "city_development_index"
          ],
          [
           0.29564053353857234,
           "Logistic Regression_Graduate",
           "city_development_index"
          ],
          [
           0.29564053353857234,
           "Logistic Regression_Graduate",
           "city_development_index"
          ],
          [
           0.29564053353857234,
           "Logistic Regression_Graduate",
           "city_development_index"
          ],
          [
           0.29564053353857234,
           "Logistic Regression_Graduate",
           "city_development_index"
          ],
          [
           0.29564053353857234,
           "Logistic Regression_Graduate",
           "city_development_index"
          ],
          [
           0.29564053353857234,
           "Logistic Regression_Graduate",
           "city_development_index"
          ],
          [
           0.29564053353857234,
           "Logistic Regression_Graduate",
           "city_development_index"
          ],
          [
           0.29564053353857234,
           "Logistic Regression_Graduate",
           "city_development_index"
          ],
          [
           0.29564053353857234,
           "Logistic Regression_Graduate",
           "city_development_index"
          ],
          [
           0.29564053353857234,
           "Logistic Regression_Graduate",
           "city_development_index"
          ],
          [
           0.29564053353857234,
           "Logistic Regression_Graduate",
           "city_development_index"
          ],
          [
           0.29564053353857234,
           "Logistic Regression_Graduate",
           "city_development_index"
          ],
          [
           0.29564053353857234,
           "Logistic Regression_Graduate",
           "city_development_index"
          ],
          [
           0.29564053353857234,
           "Logistic Regression_Graduate",
           "city_development_index"
          ],
          [
           0.29564053353857234,
           "Logistic Regression_Graduate",
           "city_development_index"
          ],
          [
           0.29564053353857234,
           "Logistic Regression_Graduate",
           "city_development_index"
          ],
          [
           0.29564053353857234,
           "Logistic Regression_Graduate",
           "city_development_index"
          ],
          [
           0.29564053353857234,
           "Logistic Regression_Graduate",
           "city_development_index"
          ],
          [
           0.29564053353857234,
           "Logistic Regression_Graduate",
           "city_development_index"
          ],
          [
           0.29564053353857234,
           "Logistic Regression_Graduate",
           "city_development_index"
          ],
          [
           0.29564053353857234,
           "Logistic Regression_Graduate",
           "city_development_index"
          ],
          [
           0.29564053353857234,
           "Logistic Regression_Graduate",
           "city_development_index"
          ],
          [
           0.29564053353857234,
           "Logistic Regression_Graduate",
           "city_development_index"
          ],
          [
           0.29564053353857234,
           "Logistic Regression_Graduate",
           "city_development_index"
          ],
          [
           0.29564053353857234,
           "Logistic Regression_Graduate",
           "city_development_index"
          ],
          [
           0.29564053353857234,
           "Logistic Regression_Graduate",
           "city_development_index"
          ],
          [
           0.29564053353857234,
           "Logistic Regression_Graduate",
           "city_development_index"
          ],
          [
           0.29564053353857234,
           "Logistic Regression_Graduate",
           "city_development_index"
          ],
          [
           0.29564053353857234,
           "Logistic Regression_Graduate",
           "city_development_index"
          ],
          [
           0.29564053353857234,
           "Logistic Regression_Graduate",
           "city_development_index"
          ],
          [
           0.29564053353857234,
           "Logistic Regression_Graduate",
           "city_development_index"
          ]
         ],
         "hovertemplate": "<b>%{hovertext}</b><br><br>prediction=%{y:.3f}<br>mean_prediction=%{customdata[0]:.3f}<extra></extra>",
         "hovertext": [
          "Logistic Regression_Graduate",
          "Logistic Regression_Graduate",
          "Logistic Regression_Graduate",
          "Logistic Regression_Graduate",
          "Logistic Regression_Graduate",
          "Logistic Regression_Graduate",
          "Logistic Regression_Graduate",
          "Logistic Regression_Graduate",
          "Logistic Regression_Graduate",
          "Logistic Regression_Graduate",
          "Logistic Regression_Graduate",
          "Logistic Regression_Graduate",
          "Logistic Regression_Graduate",
          "Logistic Regression_Graduate",
          "Logistic Regression_Graduate",
          "Logistic Regression_Graduate",
          "Logistic Regression_Graduate",
          "Logistic Regression_Graduate",
          "Logistic Regression_Graduate",
          "Logistic Regression_Graduate",
          "Logistic Regression_Graduate",
          "Logistic Regression_Graduate",
          "Logistic Regression_Graduate",
          "Logistic Regression_Graduate",
          "Logistic Regression_Graduate",
          "Logistic Regression_Graduate",
          "Logistic Regression_Graduate",
          "Logistic Regression_Graduate",
          "Logistic Regression_Graduate",
          "Logistic Regression_Graduate",
          "Logistic Regression_Graduate",
          "Logistic Regression_Graduate",
          "Logistic Regression_Graduate",
          "Logistic Regression_Graduate",
          "Logistic Regression_Graduate",
          "Logistic Regression_Graduate",
          "Logistic Regression_Graduate",
          "Logistic Regression_Graduate",
          "Logistic Regression_Graduate",
          "Logistic Regression_Graduate",
          "Logistic Regression_Graduate",
          "Logistic Regression_Graduate",
          "Logistic Regression_Graduate",
          "Logistic Regression_Graduate",
          "Logistic Regression_Graduate",
          "Logistic Regression_Graduate",
          "Logistic Regression_Graduate",
          "Logistic Regression_Graduate",
          "Logistic Regression_Graduate",
          "Logistic Regression_Graduate",
          "Logistic Regression_Graduate",
          "Logistic Regression_Graduate",
          "Logistic Regression_Graduate",
          "Logistic Regression_Graduate",
          "Logistic Regression_Graduate",
          "Logistic Regression_Graduate",
          "Logistic Regression_Graduate",
          "Logistic Regression_Graduate",
          "Logistic Regression_Graduate",
          "Logistic Regression_Graduate",
          "Logistic Regression_Graduate",
          "Logistic Regression_Graduate",
          "Logistic Regression_Graduate",
          "Logistic Regression_Graduate",
          "Logistic Regression_Graduate",
          "Logistic Regression_Graduate",
          "Logistic Regression_Graduate",
          "Logistic Regression_Graduate",
          "Logistic Regression_Graduate",
          "Logistic Regression_Graduate",
          "Logistic Regression_Graduate",
          "Logistic Regression_Graduate",
          "Logistic Regression_Graduate",
          "Logistic Regression_Graduate",
          "Logistic Regression_Graduate",
          "Logistic Regression_Graduate",
          "Logistic Regression_Graduate",
          "Logistic Regression_Graduate",
          "Logistic Regression_Graduate",
          "Logistic Regression_Graduate",
          "Logistic Regression_Graduate",
          "Logistic Regression_Graduate",
          "Logistic Regression_Graduate",
          "Logistic Regression_Graduate",
          "Logistic Regression_Graduate",
          "Logistic Regression_Graduate",
          "Logistic Regression_Graduate",
          "Logistic Regression_Graduate",
          "Logistic Regression_Graduate",
          "Logistic Regression_Graduate",
          "Logistic Regression_Graduate",
          "Logistic Regression_Graduate",
          "Logistic Regression_Graduate",
          "Logistic Regression_Graduate",
          "Logistic Regression_Graduate",
          "Logistic Regression_Graduate",
          "Logistic Regression_Graduate",
          "Logistic Regression_Graduate",
          "Logistic Regression_Graduate",
          "Logistic Regression_Graduate",
          "Logistic Regression_Graduate"
         ],
         "legendgroup": "Logistic Regression_Graduate",
         "line": {
          "color": "#8bdcbe",
          "dash": "solid",
          "width": 2
         },
         "marker": {
          "symbol": "circle"
         },
         "mode": "lines",
         "name": "Logistic Regression_Graduate",
         "opacity": 1,
         "orientation": "v",
         "showlegend": true,
         "type": "scatter",
         "x": [
          0.479,
          0.48369999999999996,
          0.4884,
          0.4931,
          0.49779999999999996,
          0.5025,
          0.5072,
          0.5119,
          0.5166,
          0.5213,
          0.526,
          0.5307,
          0.5354,
          0.5401,
          0.5448,
          0.5495,
          0.5542,
          0.5589,
          0.5636,
          0.5683,
          0.573,
          0.5777,
          0.5824,
          0.5871,
          0.5918,
          0.5964999999999999,
          0.6012,
          0.6059,
          0.6106,
          0.6153,
          0.62,
          0.6246999999999999,
          0.6294,
          0.6341,
          0.6387999999999999,
          0.6435,
          0.6481999999999999,
          0.6528999999999999,
          0.6576,
          0.6622999999999999,
          0.6669999999999999,
          0.6717,
          0.6763999999999999,
          0.6810999999999999,
          0.6858,
          0.6904999999999999,
          0.6951999999999999,
          0.6999,
          0.7045999999999999,
          0.7092999999999999,
          0.714,
          0.7186999999999999,
          0.7233999999999999,
          0.7281,
          0.7327999999999999,
          0.7374999999999999,
          0.7422,
          0.7468999999999999,
          0.7515999999999999,
          0.7563,
          0.7609999999999999,
          0.7656999999999999,
          0.7704,
          0.7750999999999999,
          0.7797999999999999,
          0.7845,
          0.7891999999999999,
          0.7938999999999999,
          0.7986,
          0.8032999999999999,
          0.8079999999999999,
          0.8127,
          0.8173999999999999,
          0.8220999999999999,
          0.8268,
          0.8314999999999999,
          0.8361999999999999,
          0.8409,
          0.8455999999999999,
          0.8503,
          0.855,
          0.8596999999999999,
          0.8644,
          0.8691,
          0.8737999999999999,
          0.8785,
          0.8832,
          0.8878999999999999,
          0.8926,
          0.8973,
          0.9019999999999999,
          0.9066999999999998,
          0.9114,
          0.9160999999999999,
          0.9207999999999998,
          0.9255,
          0.9301999999999999,
          0.9348999999999998,
          0.9396,
          0.9442999999999999,
          0.949
         ],
         "xaxis": "x",
         "y": [
          0.6916448952099612,
          0.6864884342044507,
          0.681293499102808,
          0.6760610470247412,
          0.6707920607139827,
          0.6654875478814339,
          0.6601485405134296,
          0.6547760941459185,
          0.6493712871054631,
          0.6439352197180652,
          0.6384690134869306,
          0.6329738102403867,
          0.6274507712512737,
          0.6219010763292323,
          0.6163259228874048,
          0.610726524985165,
          0.6051041123485841,
          0.5994599293704217,
          0.5937952340915145,
          0.5881112971655054,
          0.5824094008089242,
          0.5766908377386863,
          0.5709569100991279,
          0.5652089283807327,
          0.5594482103327395,
          0.5536760798718392,
          0.547893865989175,
          0.5421029016578707,
          0.536304522743288,
          0.5305000669182004,
          0.5246908725850364,
          0.5188782778073027,
          0.513063619252239,
          0.5072482311467053,
          0.5014334442482146,
          0.49562058483295185,
          0.48981097370252846,
          0.4840059252111156,
          0.4782067463145058,
          0.47241473564252734,
          0.46663118259612574,
          0.46085736647030384,
          0.4550945556039789,
          0.4493440065576904,
          0.4436069633199614,
          0.43788465654297576,
          0.4321783028081082,
          0.42648910392170786,
          0.4208182462414026,
          0.4151669000330688,
          0.40953621885847996,
          0.40392733899353334,
          0.39834137887683013,
          0.39277943858828573,
          0.3872425993573325,
          0.38173192310018966,
          0.3762484519855845,
          0.37079320802822674,
          0.36536719270927126,
          0.3599713866229403,
          0.3546067491484223,
          0.3492742181461235,
          0.34397470967731597,
          0.3387091177461968,
          0.3334783140633637,
          0.3282831478297067,
          0.3231244455397151,
          0.3180030108032174,
          0.3129196241845896,
          0.307875043058497,
          0.30287000148127086,
          0.29790521007706644,
          0.2929813559379945,
          0.2880991025374761,
          0.2832590896561305,
          0.2784619333195653,
          0.27370822574750897,
          0.26899853531379353,
          0.264333406516763,
          0.2597133599597584,
          0.25513889234139914,
          0.25061047645545054,
          0.2461285612001372,
          0.24169357159682847,
          0.2373059088180853,
          0.23296595022511685,
          0.22867404941475528,
          0.22443053627610265,
          0.2202357170570546,
          0.21608987444094577,
          0.2119932676335944,
          0.20794613246105606,
          0.20394868147841677,
          0.20000110408997565,
          0.19610356668117182,
          0.19225621276262225,
          0.18845916312662883,
          0.18471251601650632,
          0.18101634730907099,
          0.1773707107106094,
          0.1737756379666168
         ],
         "yaxis": "y"
        },
        {
         "customdata": [
          [
           0.29564053353857234,
           "Logistic Regression_No data",
           "city_development_index"
          ],
          [
           0.29564053353857234,
           "Logistic Regression_No data",
           "city_development_index"
          ],
          [
           0.29564053353857234,
           "Logistic Regression_No data",
           "city_development_index"
          ],
          [
           0.29564053353857234,
           "Logistic Regression_No data",
           "city_development_index"
          ],
          [
           0.29564053353857234,
           "Logistic Regression_No data",
           "city_development_index"
          ],
          [
           0.29564053353857234,
           "Logistic Regression_No data",
           "city_development_index"
          ],
          [
           0.29564053353857234,
           "Logistic Regression_No data",
           "city_development_index"
          ],
          [
           0.29564053353857234,
           "Logistic Regression_No data",
           "city_development_index"
          ],
          [
           0.29564053353857234,
           "Logistic Regression_No data",
           "city_development_index"
          ],
          [
           0.29564053353857234,
           "Logistic Regression_No data",
           "city_development_index"
          ],
          [
           0.29564053353857234,
           "Logistic Regression_No data",
           "city_development_index"
          ],
          [
           0.29564053353857234,
           "Logistic Regression_No data",
           "city_development_index"
          ],
          [
           0.29564053353857234,
           "Logistic Regression_No data",
           "city_development_index"
          ],
          [
           0.29564053353857234,
           "Logistic Regression_No data",
           "city_development_index"
          ],
          [
           0.29564053353857234,
           "Logistic Regression_No data",
           "city_development_index"
          ],
          [
           0.29564053353857234,
           "Logistic Regression_No data",
           "city_development_index"
          ],
          [
           0.29564053353857234,
           "Logistic Regression_No data",
           "city_development_index"
          ],
          [
           0.29564053353857234,
           "Logistic Regression_No data",
           "city_development_index"
          ],
          [
           0.29564053353857234,
           "Logistic Regression_No data",
           "city_development_index"
          ],
          [
           0.29564053353857234,
           "Logistic Regression_No data",
           "city_development_index"
          ],
          [
           0.29564053353857234,
           "Logistic Regression_No data",
           "city_development_index"
          ],
          [
           0.29564053353857234,
           "Logistic Regression_No data",
           "city_development_index"
          ],
          [
           0.29564053353857234,
           "Logistic Regression_No data",
           "city_development_index"
          ],
          [
           0.29564053353857234,
           "Logistic Regression_No data",
           "city_development_index"
          ],
          [
           0.29564053353857234,
           "Logistic Regression_No data",
           "city_development_index"
          ],
          [
           0.29564053353857234,
           "Logistic Regression_No data",
           "city_development_index"
          ],
          [
           0.29564053353857234,
           "Logistic Regression_No data",
           "city_development_index"
          ],
          [
           0.29564053353857234,
           "Logistic Regression_No data",
           "city_development_index"
          ],
          [
           0.29564053353857234,
           "Logistic Regression_No data",
           "city_development_index"
          ],
          [
           0.29564053353857234,
           "Logistic Regression_No data",
           "city_development_index"
          ],
          [
           0.29564053353857234,
           "Logistic Regression_No data",
           "city_development_index"
          ],
          [
           0.29564053353857234,
           "Logistic Regression_No data",
           "city_development_index"
          ],
          [
           0.29564053353857234,
           "Logistic Regression_No data",
           "city_development_index"
          ],
          [
           0.29564053353857234,
           "Logistic Regression_No data",
           "city_development_index"
          ],
          [
           0.29564053353857234,
           "Logistic Regression_No data",
           "city_development_index"
          ],
          [
           0.29564053353857234,
           "Logistic Regression_No data",
           "city_development_index"
          ],
          [
           0.29564053353857234,
           "Logistic Regression_No data",
           "city_development_index"
          ],
          [
           0.29564053353857234,
           "Logistic Regression_No data",
           "city_development_index"
          ],
          [
           0.29564053353857234,
           "Logistic Regression_No data",
           "city_development_index"
          ],
          [
           0.29564053353857234,
           "Logistic Regression_No data",
           "city_development_index"
          ],
          [
           0.29564053353857234,
           "Logistic Regression_No data",
           "city_development_index"
          ],
          [
           0.29564053353857234,
           "Logistic Regression_No data",
           "city_development_index"
          ],
          [
           0.29564053353857234,
           "Logistic Regression_No data",
           "city_development_index"
          ],
          [
           0.29564053353857234,
           "Logistic Regression_No data",
           "city_development_index"
          ],
          [
           0.29564053353857234,
           "Logistic Regression_No data",
           "city_development_index"
          ],
          [
           0.29564053353857234,
           "Logistic Regression_No data",
           "city_development_index"
          ],
          [
           0.29564053353857234,
           "Logistic Regression_No data",
           "city_development_index"
          ],
          [
           0.29564053353857234,
           "Logistic Regression_No data",
           "city_development_index"
          ],
          [
           0.29564053353857234,
           "Logistic Regression_No data",
           "city_development_index"
          ],
          [
           0.29564053353857234,
           "Logistic Regression_No data",
           "city_development_index"
          ],
          [
           0.29564053353857234,
           "Logistic Regression_No data",
           "city_development_index"
          ],
          [
           0.29564053353857234,
           "Logistic Regression_No data",
           "city_development_index"
          ],
          [
           0.29564053353857234,
           "Logistic Regression_No data",
           "city_development_index"
          ],
          [
           0.29564053353857234,
           "Logistic Regression_No data",
           "city_development_index"
          ],
          [
           0.29564053353857234,
           "Logistic Regression_No data",
           "city_development_index"
          ],
          [
           0.29564053353857234,
           "Logistic Regression_No data",
           "city_development_index"
          ],
          [
           0.29564053353857234,
           "Logistic Regression_No data",
           "city_development_index"
          ],
          [
           0.29564053353857234,
           "Logistic Regression_No data",
           "city_development_index"
          ],
          [
           0.29564053353857234,
           "Logistic Regression_No data",
           "city_development_index"
          ],
          [
           0.29564053353857234,
           "Logistic Regression_No data",
           "city_development_index"
          ],
          [
           0.29564053353857234,
           "Logistic Regression_No data",
           "city_development_index"
          ],
          [
           0.29564053353857234,
           "Logistic Regression_No data",
           "city_development_index"
          ],
          [
           0.29564053353857234,
           "Logistic Regression_No data",
           "city_development_index"
          ],
          [
           0.29564053353857234,
           "Logistic Regression_No data",
           "city_development_index"
          ],
          [
           0.29564053353857234,
           "Logistic Regression_No data",
           "city_development_index"
          ],
          [
           0.29564053353857234,
           "Logistic Regression_No data",
           "city_development_index"
          ],
          [
           0.29564053353857234,
           "Logistic Regression_No data",
           "city_development_index"
          ],
          [
           0.29564053353857234,
           "Logistic Regression_No data",
           "city_development_index"
          ],
          [
           0.29564053353857234,
           "Logistic Regression_No data",
           "city_development_index"
          ],
          [
           0.29564053353857234,
           "Logistic Regression_No data",
           "city_development_index"
          ],
          [
           0.29564053353857234,
           "Logistic Regression_No data",
           "city_development_index"
          ],
          [
           0.29564053353857234,
           "Logistic Regression_No data",
           "city_development_index"
          ],
          [
           0.29564053353857234,
           "Logistic Regression_No data",
           "city_development_index"
          ],
          [
           0.29564053353857234,
           "Logistic Regression_No data",
           "city_development_index"
          ],
          [
           0.29564053353857234,
           "Logistic Regression_No data",
           "city_development_index"
          ],
          [
           0.29564053353857234,
           "Logistic Regression_No data",
           "city_development_index"
          ],
          [
           0.29564053353857234,
           "Logistic Regression_No data",
           "city_development_index"
          ],
          [
           0.29564053353857234,
           "Logistic Regression_No data",
           "city_development_index"
          ],
          [
           0.29564053353857234,
           "Logistic Regression_No data",
           "city_development_index"
          ],
          [
           0.29564053353857234,
           "Logistic Regression_No data",
           "city_development_index"
          ],
          [
           0.29564053353857234,
           "Logistic Regression_No data",
           "city_development_index"
          ],
          [
           0.29564053353857234,
           "Logistic Regression_No data",
           "city_development_index"
          ],
          [
           0.29564053353857234,
           "Logistic Regression_No data",
           "city_development_index"
          ],
          [
           0.29564053353857234,
           "Logistic Regression_No data",
           "city_development_index"
          ],
          [
           0.29564053353857234,
           "Logistic Regression_No data",
           "city_development_index"
          ],
          [
           0.29564053353857234,
           "Logistic Regression_No data",
           "city_development_index"
          ],
          [
           0.29564053353857234,
           "Logistic Regression_No data",
           "city_development_index"
          ],
          [
           0.29564053353857234,
           "Logistic Regression_No data",
           "city_development_index"
          ],
          [
           0.29564053353857234,
           "Logistic Regression_No data",
           "city_development_index"
          ],
          [
           0.29564053353857234,
           "Logistic Regression_No data",
           "city_development_index"
          ],
          [
           0.29564053353857234,
           "Logistic Regression_No data",
           "city_development_index"
          ],
          [
           0.29564053353857234,
           "Logistic Regression_No data",
           "city_development_index"
          ],
          [
           0.29564053353857234,
           "Logistic Regression_No data",
           "city_development_index"
          ],
          [
           0.29564053353857234,
           "Logistic Regression_No data",
           "city_development_index"
          ],
          [
           0.29564053353857234,
           "Logistic Regression_No data",
           "city_development_index"
          ],
          [
           0.29564053353857234,
           "Logistic Regression_No data",
           "city_development_index"
          ],
          [
           0.29564053353857234,
           "Logistic Regression_No data",
           "city_development_index"
          ],
          [
           0.29564053353857234,
           "Logistic Regression_No data",
           "city_development_index"
          ],
          [
           0.29564053353857234,
           "Logistic Regression_No data",
           "city_development_index"
          ],
          [
           0.29564053353857234,
           "Logistic Regression_No data",
           "city_development_index"
          ],
          [
           0.29564053353857234,
           "Logistic Regression_No data",
           "city_development_index"
          ]
         ],
         "hovertemplate": "<b>%{hovertext}</b><br><br>prediction=%{y:.3f}<br>mean_prediction=%{customdata[0]:.3f}<extra></extra>",
         "hovertext": [
          "Logistic Regression_No data",
          "Logistic Regression_No data",
          "Logistic Regression_No data",
          "Logistic Regression_No data",
          "Logistic Regression_No data",
          "Logistic Regression_No data",
          "Logistic Regression_No data",
          "Logistic Regression_No data",
          "Logistic Regression_No data",
          "Logistic Regression_No data",
          "Logistic Regression_No data",
          "Logistic Regression_No data",
          "Logistic Regression_No data",
          "Logistic Regression_No data",
          "Logistic Regression_No data",
          "Logistic Regression_No data",
          "Logistic Regression_No data",
          "Logistic Regression_No data",
          "Logistic Regression_No data",
          "Logistic Regression_No data",
          "Logistic Regression_No data",
          "Logistic Regression_No data",
          "Logistic Regression_No data",
          "Logistic Regression_No data",
          "Logistic Regression_No data",
          "Logistic Regression_No data",
          "Logistic Regression_No data",
          "Logistic Regression_No data",
          "Logistic Regression_No data",
          "Logistic Regression_No data",
          "Logistic Regression_No data",
          "Logistic Regression_No data",
          "Logistic Regression_No data",
          "Logistic Regression_No data",
          "Logistic Regression_No data",
          "Logistic Regression_No data",
          "Logistic Regression_No data",
          "Logistic Regression_No data",
          "Logistic Regression_No data",
          "Logistic Regression_No data",
          "Logistic Regression_No data",
          "Logistic Regression_No data",
          "Logistic Regression_No data",
          "Logistic Regression_No data",
          "Logistic Regression_No data",
          "Logistic Regression_No data",
          "Logistic Regression_No data",
          "Logistic Regression_No data",
          "Logistic Regression_No data",
          "Logistic Regression_No data",
          "Logistic Regression_No data",
          "Logistic Regression_No data",
          "Logistic Regression_No data",
          "Logistic Regression_No data",
          "Logistic Regression_No data",
          "Logistic Regression_No data",
          "Logistic Regression_No data",
          "Logistic Regression_No data",
          "Logistic Regression_No data",
          "Logistic Regression_No data",
          "Logistic Regression_No data",
          "Logistic Regression_No data",
          "Logistic Regression_No data",
          "Logistic Regression_No data",
          "Logistic Regression_No data",
          "Logistic Regression_No data",
          "Logistic Regression_No data",
          "Logistic Regression_No data",
          "Logistic Regression_No data",
          "Logistic Regression_No data",
          "Logistic Regression_No data",
          "Logistic Regression_No data",
          "Logistic Regression_No data",
          "Logistic Regression_No data",
          "Logistic Regression_No data",
          "Logistic Regression_No data",
          "Logistic Regression_No data",
          "Logistic Regression_No data",
          "Logistic Regression_No data",
          "Logistic Regression_No data",
          "Logistic Regression_No data",
          "Logistic Regression_No data",
          "Logistic Regression_No data",
          "Logistic Regression_No data",
          "Logistic Regression_No data",
          "Logistic Regression_No data",
          "Logistic Regression_No data",
          "Logistic Regression_No data",
          "Logistic Regression_No data",
          "Logistic Regression_No data",
          "Logistic Regression_No data",
          "Logistic Regression_No data",
          "Logistic Regression_No data",
          "Logistic Regression_No data",
          "Logistic Regression_No data",
          "Logistic Regression_No data",
          "Logistic Regression_No data",
          "Logistic Regression_No data",
          "Logistic Regression_No data",
          "Logistic Regression_No data",
          "Logistic Regression_No data"
         ],
         "legendgroup": "Logistic Regression_No data",
         "line": {
          "color": "#f05a71",
          "dash": "solid",
          "width": 2
         },
         "marker": {
          "symbol": "circle"
         },
         "mode": "lines",
         "name": "Logistic Regression_No data",
         "opacity": 1,
         "orientation": "v",
         "showlegend": true,
         "type": "scatter",
         "x": [
          0.479,
          0.48369999999999996,
          0.4884,
          0.4931,
          0.49779999999999996,
          0.5025,
          0.5072,
          0.5119,
          0.5166,
          0.5213,
          0.526,
          0.5307,
          0.5354,
          0.5401,
          0.5448,
          0.5495,
          0.5542,
          0.5589,
          0.5636,
          0.5683,
          0.573,
          0.5777,
          0.5824,
          0.5871,
          0.5918,
          0.5964999999999999,
          0.6012,
          0.6059,
          0.6106,
          0.6153,
          0.62,
          0.6246999999999999,
          0.6294,
          0.6341,
          0.6387999999999999,
          0.6435,
          0.6481999999999999,
          0.6528999999999999,
          0.6576,
          0.6622999999999999,
          0.6669999999999999,
          0.6717,
          0.6763999999999999,
          0.6810999999999999,
          0.6858,
          0.6904999999999999,
          0.6951999999999999,
          0.6999,
          0.7045999999999999,
          0.7092999999999999,
          0.714,
          0.7186999999999999,
          0.7233999999999999,
          0.7281,
          0.7327999999999999,
          0.7374999999999999,
          0.7422,
          0.7468999999999999,
          0.7515999999999999,
          0.7563,
          0.7609999999999999,
          0.7656999999999999,
          0.7704,
          0.7750999999999999,
          0.7797999999999999,
          0.7845,
          0.7891999999999999,
          0.7938999999999999,
          0.7986,
          0.8032999999999999,
          0.8079999999999999,
          0.8127,
          0.8173999999999999,
          0.8220999999999999,
          0.8268,
          0.8314999999999999,
          0.8361999999999999,
          0.8409,
          0.8455999999999999,
          0.8503,
          0.855,
          0.8596999999999999,
          0.8644,
          0.8691,
          0.8737999999999999,
          0.8785,
          0.8832,
          0.8878999999999999,
          0.8926,
          0.8973,
          0.9019999999999999,
          0.9066999999999998,
          0.9114,
          0.9160999999999999,
          0.9207999999999998,
          0.9255,
          0.9301999999999999,
          0.9348999999999998,
          0.9396,
          0.9442999999999999,
          0.949
         ],
         "xaxis": "x",
         "y": [
          0.8435848021767188,
          0.8402105155939957,
          0.8367842510035607,
          0.8333058557991455,
          0.8297751924090945,
          0.826192138324494,
          0.8225565861261259,
          0.8188684435130555,
          0.815127633335776,
          0.8113340936369171,
          0.8074877777025941,
          0.8035886541275077,
          0.7996367068969232,
          0.7956319354886401,
          0.7915743549980169,
          0.7874639962890501,
          0.7833009061743942,
          0.7790851476270805,
          0.7748168000265258,
          0.7704959594412296,
          0.7661227389503291,
          0.7616972690059315,
          0.7572196978378606,
          0.7526901919021467,
          0.7481089363742545,
          0.7434761356876907,
          0.7387920141182541,
          0.7340568164138007,
          0.7292708084689767,
          0.724434278043963,
          0.7195475355258236,
          0.71461091473063,
          0.7096247737440667,
          0.7045894957978017,
          0.6995054901784432,
          0.6943731931654812,
          0.6891930689941822,
          0.6839656108389891,
          0.6786913418125883,
          0.6733708159754224,
          0.6680046193500746,
          0.662593370934626,
          0.6571377237087818,
          0.6516383656262964,
          0.646096020587001,
          0.6405114493815254,
          0.6348854506016655,
          0.6292188615092199,
          0.6235125588560503,
          0.6177674596480892,
          0.6119845218460416,
          0.60616474499558,
          0.6003091707799553,
          0.5944188834880976,
          0.5884950103914927,
          0.5825387220233725,
          0.5765512323540651,
          0.5705337988566951,
          0.5644877224578233,
          0.5584143473680554,
          0.5523150607881265,
          0.5461912924864939,
          0.5400445142450312,
          0.5338762391700052,
          0.527688020866147,
          0.521481452472287,
          0.5152581655576901,
          0.5090198288789372,
          0.5027681469979122,
          0.4965048587621752,
          0.49023173564974115,
          0.48395057998102053,
          0.47766322300140523,
          0.4713715228387124,
          0.46507736234041375,
          0.45878264679626213,
          0.4524893015526048,
          0.44619926952531386,
          0.43991450861886705,
          0.4336369890596867,
          0.42736869065237304,
          0.42111159996794173,
          0.414867707473612,
          0.40863900461406555,
          0.40242748085441105,
          0.3962351206953518,
          0.3900639006712487,
          0.3839157863419003,
          0.37779272928893515,
          0.37169666412770674,
          0.36562950554552587,
          0.35959314537692827,
          0.35358944972649375,
          0.347620256149472,
          0.3416873709001568,
          0.3357925662575871,
          0.32993757793772294,
          0.32412410260076535,
          0.31835379546178416,
          0.31262826801223575,
          0.3069490858593662
         ],
         "yaxis": "y"
        },
        {
         "customdata": [
          [
           0.29564053353857234,
           "Logistic Regression_Masters",
           "city_development_index"
          ],
          [
           0.29564053353857234,
           "Logistic Regression_Masters",
           "city_development_index"
          ],
          [
           0.29564053353857234,
           "Logistic Regression_Masters",
           "city_development_index"
          ],
          [
           0.29564053353857234,
           "Logistic Regression_Masters",
           "city_development_index"
          ],
          [
           0.29564053353857234,
           "Logistic Regression_Masters",
           "city_development_index"
          ],
          [
           0.29564053353857234,
           "Logistic Regression_Masters",
           "city_development_index"
          ],
          [
           0.29564053353857234,
           "Logistic Regression_Masters",
           "city_development_index"
          ],
          [
           0.29564053353857234,
           "Logistic Regression_Masters",
           "city_development_index"
          ],
          [
           0.29564053353857234,
           "Logistic Regression_Masters",
           "city_development_index"
          ],
          [
           0.29564053353857234,
           "Logistic Regression_Masters",
           "city_development_index"
          ],
          [
           0.29564053353857234,
           "Logistic Regression_Masters",
           "city_development_index"
          ],
          [
           0.29564053353857234,
           "Logistic Regression_Masters",
           "city_development_index"
          ],
          [
           0.29564053353857234,
           "Logistic Regression_Masters",
           "city_development_index"
          ],
          [
           0.29564053353857234,
           "Logistic Regression_Masters",
           "city_development_index"
          ],
          [
           0.29564053353857234,
           "Logistic Regression_Masters",
           "city_development_index"
          ],
          [
           0.29564053353857234,
           "Logistic Regression_Masters",
           "city_development_index"
          ],
          [
           0.29564053353857234,
           "Logistic Regression_Masters",
           "city_development_index"
          ],
          [
           0.29564053353857234,
           "Logistic Regression_Masters",
           "city_development_index"
          ],
          [
           0.29564053353857234,
           "Logistic Regression_Masters",
           "city_development_index"
          ],
          [
           0.29564053353857234,
           "Logistic Regression_Masters",
           "city_development_index"
          ],
          [
           0.29564053353857234,
           "Logistic Regression_Masters",
           "city_development_index"
          ],
          [
           0.29564053353857234,
           "Logistic Regression_Masters",
           "city_development_index"
          ],
          [
           0.29564053353857234,
           "Logistic Regression_Masters",
           "city_development_index"
          ],
          [
           0.29564053353857234,
           "Logistic Regression_Masters",
           "city_development_index"
          ],
          [
           0.29564053353857234,
           "Logistic Regression_Masters",
           "city_development_index"
          ],
          [
           0.29564053353857234,
           "Logistic Regression_Masters",
           "city_development_index"
          ],
          [
           0.29564053353857234,
           "Logistic Regression_Masters",
           "city_development_index"
          ],
          [
           0.29564053353857234,
           "Logistic Regression_Masters",
           "city_development_index"
          ],
          [
           0.29564053353857234,
           "Logistic Regression_Masters",
           "city_development_index"
          ],
          [
           0.29564053353857234,
           "Logistic Regression_Masters",
           "city_development_index"
          ],
          [
           0.29564053353857234,
           "Logistic Regression_Masters",
           "city_development_index"
          ],
          [
           0.29564053353857234,
           "Logistic Regression_Masters",
           "city_development_index"
          ],
          [
           0.29564053353857234,
           "Logistic Regression_Masters",
           "city_development_index"
          ],
          [
           0.29564053353857234,
           "Logistic Regression_Masters",
           "city_development_index"
          ],
          [
           0.29564053353857234,
           "Logistic Regression_Masters",
           "city_development_index"
          ],
          [
           0.29564053353857234,
           "Logistic Regression_Masters",
           "city_development_index"
          ],
          [
           0.29564053353857234,
           "Logistic Regression_Masters",
           "city_development_index"
          ],
          [
           0.29564053353857234,
           "Logistic Regression_Masters",
           "city_development_index"
          ],
          [
           0.29564053353857234,
           "Logistic Regression_Masters",
           "city_development_index"
          ],
          [
           0.29564053353857234,
           "Logistic Regression_Masters",
           "city_development_index"
          ],
          [
           0.29564053353857234,
           "Logistic Regression_Masters",
           "city_development_index"
          ],
          [
           0.29564053353857234,
           "Logistic Regression_Masters",
           "city_development_index"
          ],
          [
           0.29564053353857234,
           "Logistic Regression_Masters",
           "city_development_index"
          ],
          [
           0.29564053353857234,
           "Logistic Regression_Masters",
           "city_development_index"
          ],
          [
           0.29564053353857234,
           "Logistic Regression_Masters",
           "city_development_index"
          ],
          [
           0.29564053353857234,
           "Logistic Regression_Masters",
           "city_development_index"
          ],
          [
           0.29564053353857234,
           "Logistic Regression_Masters",
           "city_development_index"
          ],
          [
           0.29564053353857234,
           "Logistic Regression_Masters",
           "city_development_index"
          ],
          [
           0.29564053353857234,
           "Logistic Regression_Masters",
           "city_development_index"
          ],
          [
           0.29564053353857234,
           "Logistic Regression_Masters",
           "city_development_index"
          ],
          [
           0.29564053353857234,
           "Logistic Regression_Masters",
           "city_development_index"
          ],
          [
           0.29564053353857234,
           "Logistic Regression_Masters",
           "city_development_index"
          ],
          [
           0.29564053353857234,
           "Logistic Regression_Masters",
           "city_development_index"
          ],
          [
           0.29564053353857234,
           "Logistic Regression_Masters",
           "city_development_index"
          ],
          [
           0.29564053353857234,
           "Logistic Regression_Masters",
           "city_development_index"
          ],
          [
           0.29564053353857234,
           "Logistic Regression_Masters",
           "city_development_index"
          ],
          [
           0.29564053353857234,
           "Logistic Regression_Masters",
           "city_development_index"
          ],
          [
           0.29564053353857234,
           "Logistic Regression_Masters",
           "city_development_index"
          ],
          [
           0.29564053353857234,
           "Logistic Regression_Masters",
           "city_development_index"
          ],
          [
           0.29564053353857234,
           "Logistic Regression_Masters",
           "city_development_index"
          ],
          [
           0.29564053353857234,
           "Logistic Regression_Masters",
           "city_development_index"
          ],
          [
           0.29564053353857234,
           "Logistic Regression_Masters",
           "city_development_index"
          ],
          [
           0.29564053353857234,
           "Logistic Regression_Masters",
           "city_development_index"
          ],
          [
           0.29564053353857234,
           "Logistic Regression_Masters",
           "city_development_index"
          ],
          [
           0.29564053353857234,
           "Logistic Regression_Masters",
           "city_development_index"
          ],
          [
           0.29564053353857234,
           "Logistic Regression_Masters",
           "city_development_index"
          ],
          [
           0.29564053353857234,
           "Logistic Regression_Masters",
           "city_development_index"
          ],
          [
           0.29564053353857234,
           "Logistic Regression_Masters",
           "city_development_index"
          ],
          [
           0.29564053353857234,
           "Logistic Regression_Masters",
           "city_development_index"
          ],
          [
           0.29564053353857234,
           "Logistic Regression_Masters",
           "city_development_index"
          ],
          [
           0.29564053353857234,
           "Logistic Regression_Masters",
           "city_development_index"
          ],
          [
           0.29564053353857234,
           "Logistic Regression_Masters",
           "city_development_index"
          ],
          [
           0.29564053353857234,
           "Logistic Regression_Masters",
           "city_development_index"
          ],
          [
           0.29564053353857234,
           "Logistic Regression_Masters",
           "city_development_index"
          ],
          [
           0.29564053353857234,
           "Logistic Regression_Masters",
           "city_development_index"
          ],
          [
           0.29564053353857234,
           "Logistic Regression_Masters",
           "city_development_index"
          ],
          [
           0.29564053353857234,
           "Logistic Regression_Masters",
           "city_development_index"
          ],
          [
           0.29564053353857234,
           "Logistic Regression_Masters",
           "city_development_index"
          ],
          [
           0.29564053353857234,
           "Logistic Regression_Masters",
           "city_development_index"
          ],
          [
           0.29564053353857234,
           "Logistic Regression_Masters",
           "city_development_index"
          ],
          [
           0.29564053353857234,
           "Logistic Regression_Masters",
           "city_development_index"
          ],
          [
           0.29564053353857234,
           "Logistic Regression_Masters",
           "city_development_index"
          ],
          [
           0.29564053353857234,
           "Logistic Regression_Masters",
           "city_development_index"
          ],
          [
           0.29564053353857234,
           "Logistic Regression_Masters",
           "city_development_index"
          ],
          [
           0.29564053353857234,
           "Logistic Regression_Masters",
           "city_development_index"
          ],
          [
           0.29564053353857234,
           "Logistic Regression_Masters",
           "city_development_index"
          ],
          [
           0.29564053353857234,
           "Logistic Regression_Masters",
           "city_development_index"
          ],
          [
           0.29564053353857234,
           "Logistic Regression_Masters",
           "city_development_index"
          ],
          [
           0.29564053353857234,
           "Logistic Regression_Masters",
           "city_development_index"
          ],
          [
           0.29564053353857234,
           "Logistic Regression_Masters",
           "city_development_index"
          ],
          [
           0.29564053353857234,
           "Logistic Regression_Masters",
           "city_development_index"
          ],
          [
           0.29564053353857234,
           "Logistic Regression_Masters",
           "city_development_index"
          ],
          [
           0.29564053353857234,
           "Logistic Regression_Masters",
           "city_development_index"
          ],
          [
           0.29564053353857234,
           "Logistic Regression_Masters",
           "city_development_index"
          ],
          [
           0.29564053353857234,
           "Logistic Regression_Masters",
           "city_development_index"
          ],
          [
           0.29564053353857234,
           "Logistic Regression_Masters",
           "city_development_index"
          ],
          [
           0.29564053353857234,
           "Logistic Regression_Masters",
           "city_development_index"
          ],
          [
           0.29564053353857234,
           "Logistic Regression_Masters",
           "city_development_index"
          ],
          [
           0.29564053353857234,
           "Logistic Regression_Masters",
           "city_development_index"
          ],
          [
           0.29564053353857234,
           "Logistic Regression_Masters",
           "city_development_index"
          ],
          [
           0.29564053353857234,
           "Logistic Regression_Masters",
           "city_development_index"
          ]
         ],
         "hovertemplate": "<b>%{hovertext}</b><br><br>prediction=%{y:.3f}<br>mean_prediction=%{customdata[0]:.3f}<extra></extra>",
         "hovertext": [
          "Logistic Regression_Masters",
          "Logistic Regression_Masters",
          "Logistic Regression_Masters",
          "Logistic Regression_Masters",
          "Logistic Regression_Masters",
          "Logistic Regression_Masters",
          "Logistic Regression_Masters",
          "Logistic Regression_Masters",
          "Logistic Regression_Masters",
          "Logistic Regression_Masters",
          "Logistic Regression_Masters",
          "Logistic Regression_Masters",
          "Logistic Regression_Masters",
          "Logistic Regression_Masters",
          "Logistic Regression_Masters",
          "Logistic Regression_Masters",
          "Logistic Regression_Masters",
          "Logistic Regression_Masters",
          "Logistic Regression_Masters",
          "Logistic Regression_Masters",
          "Logistic Regression_Masters",
          "Logistic Regression_Masters",
          "Logistic Regression_Masters",
          "Logistic Regression_Masters",
          "Logistic Regression_Masters",
          "Logistic Regression_Masters",
          "Logistic Regression_Masters",
          "Logistic Regression_Masters",
          "Logistic Regression_Masters",
          "Logistic Regression_Masters",
          "Logistic Regression_Masters",
          "Logistic Regression_Masters",
          "Logistic Regression_Masters",
          "Logistic Regression_Masters",
          "Logistic Regression_Masters",
          "Logistic Regression_Masters",
          "Logistic Regression_Masters",
          "Logistic Regression_Masters",
          "Logistic Regression_Masters",
          "Logistic Regression_Masters",
          "Logistic Regression_Masters",
          "Logistic Regression_Masters",
          "Logistic Regression_Masters",
          "Logistic Regression_Masters",
          "Logistic Regression_Masters",
          "Logistic Regression_Masters",
          "Logistic Regression_Masters",
          "Logistic Regression_Masters",
          "Logistic Regression_Masters",
          "Logistic Regression_Masters",
          "Logistic Regression_Masters",
          "Logistic Regression_Masters",
          "Logistic Regression_Masters",
          "Logistic Regression_Masters",
          "Logistic Regression_Masters",
          "Logistic Regression_Masters",
          "Logistic Regression_Masters",
          "Logistic Regression_Masters",
          "Logistic Regression_Masters",
          "Logistic Regression_Masters",
          "Logistic Regression_Masters",
          "Logistic Regression_Masters",
          "Logistic Regression_Masters",
          "Logistic Regression_Masters",
          "Logistic Regression_Masters",
          "Logistic Regression_Masters",
          "Logistic Regression_Masters",
          "Logistic Regression_Masters",
          "Logistic Regression_Masters",
          "Logistic Regression_Masters",
          "Logistic Regression_Masters",
          "Logistic Regression_Masters",
          "Logistic Regression_Masters",
          "Logistic Regression_Masters",
          "Logistic Regression_Masters",
          "Logistic Regression_Masters",
          "Logistic Regression_Masters",
          "Logistic Regression_Masters",
          "Logistic Regression_Masters",
          "Logistic Regression_Masters",
          "Logistic Regression_Masters",
          "Logistic Regression_Masters",
          "Logistic Regression_Masters",
          "Logistic Regression_Masters",
          "Logistic Regression_Masters",
          "Logistic Regression_Masters",
          "Logistic Regression_Masters",
          "Logistic Regression_Masters",
          "Logistic Regression_Masters",
          "Logistic Regression_Masters",
          "Logistic Regression_Masters",
          "Logistic Regression_Masters",
          "Logistic Regression_Masters",
          "Logistic Regression_Masters",
          "Logistic Regression_Masters",
          "Logistic Regression_Masters",
          "Logistic Regression_Masters",
          "Logistic Regression_Masters",
          "Logistic Regression_Masters",
          "Logistic Regression_Masters",
          "Logistic Regression_Masters"
         ],
         "legendgroup": "Logistic Regression_Masters",
         "line": {
          "color": "#46bac2",
          "dash": "solid",
          "width": 2
         },
         "marker": {
          "symbol": "circle"
         },
         "mode": "lines",
         "name": "Logistic Regression_Masters",
         "opacity": 1,
         "orientation": "v",
         "showlegend": true,
         "type": "scatter",
         "x": [
          0.479,
          0.48369999999999996,
          0.4884,
          0.4931,
          0.49779999999999996,
          0.5025,
          0.5072,
          0.5119,
          0.5166,
          0.5213,
          0.526,
          0.5307,
          0.5354,
          0.5401,
          0.5448,
          0.5495,
          0.5542,
          0.5589,
          0.5636,
          0.5683,
          0.573,
          0.5777,
          0.5824,
          0.5871,
          0.5918,
          0.5964999999999999,
          0.6012,
          0.6059,
          0.6106,
          0.6153,
          0.62,
          0.6246999999999999,
          0.6294,
          0.6341,
          0.6387999999999999,
          0.6435,
          0.6481999999999999,
          0.6528999999999999,
          0.6576,
          0.6622999999999999,
          0.6669999999999999,
          0.6717,
          0.6763999999999999,
          0.6810999999999999,
          0.6858,
          0.6904999999999999,
          0.6951999999999999,
          0.6999,
          0.7045999999999999,
          0.7092999999999999,
          0.714,
          0.7186999999999999,
          0.7233999999999999,
          0.7281,
          0.7327999999999999,
          0.7374999999999999,
          0.7422,
          0.7468999999999999,
          0.7515999999999999,
          0.7563,
          0.7609999999999999,
          0.7656999999999999,
          0.7704,
          0.7750999999999999,
          0.7797999999999999,
          0.7845,
          0.7891999999999999,
          0.7938999999999999,
          0.7986,
          0.8032999999999999,
          0.8079999999999999,
          0.8127,
          0.8173999999999999,
          0.8220999999999999,
          0.8268,
          0.8314999999999999,
          0.8361999999999999,
          0.8409,
          0.8455999999999999,
          0.8503,
          0.855,
          0.8596999999999999,
          0.8644,
          0.8691,
          0.8737999999999999,
          0.8785,
          0.8832,
          0.8878999999999999,
          0.8926,
          0.8973,
          0.9019999999999999,
          0.9066999999999998,
          0.9114,
          0.9160999999999999,
          0.9207999999999998,
          0.9255,
          0.9301999999999999,
          0.9348999999999998,
          0.9396,
          0.9442999999999999,
          0.949
         ],
         "xaxis": "x",
         "y": [
          0.6031030491366104,
          0.5967779883427278,
          0.5904244145932581,
          0.5840442292908596,
          0.5776393618408556,
          0.5712117674453142,
          0.5647634248433964,
          0.5582963340036302,
          0.5518125137739417,
          0.5453139994954169,
          0.5388028405858953,
          0.532281098099569,
          0.5257508422688373,
          0.5192141500346867,
          0.5126731025718678,
          0.5061297828151149,
          0.4995862729925945,
          0.4930446521726824,
          0.48650699383005636,
          0.4799753634369541,
          0.47345181608527837,
          0.46693839414504534,
          0.460437124964466,
          0.45395001861671325,
          0.4474790656981888,
          0.4410262351828343,
          0.4345934723367536,
          0.4281826966971293,
          0.42179580011910733,
          0.415434644894026,
          0.4091010619420459,
          0.4027968490819261,
          0.39652376938036965,
          0.39028354958304995,
          0.3840778786291106,
          0.3779084062506229,
          0.3717767416581841,
          0.3656844523135353,
          0.3596330627898009,
          0.35362405371966266,
          0.3476588608315228,
          0.34173887407345516,
          0.33586543682449715,
          0.33003984519261254,
          0.32426334739844015,
          0.31853714324374055,
          0.3128623836632701,
          0.3072401703586416,
          0.30167155551257063,
          0.2961575415817663,
          0.29069908116659826,
          0.28529707695555123,
          0.27995238174238146,
          0.2746657985137973,
          0.26943808060540747,
          0.26426993192361425,
          0.2591620072310759,
          0.2541149124933107,
          0.24912920528398333,
          0.24420539524638493,
          0.23934394460859568,
          0.23454526874980974,
          0.22980973681529487,
          0.22513767237745844,
          0.2205293541404988,
          0.21598501668613382,
          0.21150485125791016,
          0.20708900658162058,
          0.20273758971938086,
          0.1984506669549425,
          0.19422826470785062,
          0.1900703704740918,
          0.18597693379090802,
          0.1819478672234973,
          0.1779830473713601,
          0.17408231589209322,
          0.17024548054048028,
          0.1664723162207736,
          0.1627625660501109,
          0.15911594243106056,
          0.1555321281313423,
          0.1520107773688208,
          0.14855151689992566,
          0.14515394710970778,
          0.14181764310179595,
          0.13854215578657744,
          0.1353270129659859,
          0.13217172041333614,
          0.12907576294670894,
          0.1260386054944497,
          0.1230596941514041,
          0.120138457224579,
          0.11727430626697867,
          0.11446663709842884,
          0.11171483081226359,
          0.1090182547668167,
          0.10637626356071915,
          0.103788199991068,
          0.10125339599359791,
          0.09877117356404644,
          0.09634084565996633
         ],
         "yaxis": "y"
        },
        {
         "customdata": [
          [
           0.29564053353857234,
           "Logistic Regression_High School",
           "city_development_index"
          ],
          [
           0.29564053353857234,
           "Logistic Regression_High School",
           "city_development_index"
          ],
          [
           0.29564053353857234,
           "Logistic Regression_High School",
           "city_development_index"
          ],
          [
           0.29564053353857234,
           "Logistic Regression_High School",
           "city_development_index"
          ],
          [
           0.29564053353857234,
           "Logistic Regression_High School",
           "city_development_index"
          ],
          [
           0.29564053353857234,
           "Logistic Regression_High School",
           "city_development_index"
          ],
          [
           0.29564053353857234,
           "Logistic Regression_High School",
           "city_development_index"
          ],
          [
           0.29564053353857234,
           "Logistic Regression_High School",
           "city_development_index"
          ],
          [
           0.29564053353857234,
           "Logistic Regression_High School",
           "city_development_index"
          ],
          [
           0.29564053353857234,
           "Logistic Regression_High School",
           "city_development_index"
          ],
          [
           0.29564053353857234,
           "Logistic Regression_High School",
           "city_development_index"
          ],
          [
           0.29564053353857234,
           "Logistic Regression_High School",
           "city_development_index"
          ],
          [
           0.29564053353857234,
           "Logistic Regression_High School",
           "city_development_index"
          ],
          [
           0.29564053353857234,
           "Logistic Regression_High School",
           "city_development_index"
          ],
          [
           0.29564053353857234,
           "Logistic Regression_High School",
           "city_development_index"
          ],
          [
           0.29564053353857234,
           "Logistic Regression_High School",
           "city_development_index"
          ],
          [
           0.29564053353857234,
           "Logistic Regression_High School",
           "city_development_index"
          ],
          [
           0.29564053353857234,
           "Logistic Regression_High School",
           "city_development_index"
          ],
          [
           0.29564053353857234,
           "Logistic Regression_High School",
           "city_development_index"
          ],
          [
           0.29564053353857234,
           "Logistic Regression_High School",
           "city_development_index"
          ],
          [
           0.29564053353857234,
           "Logistic Regression_High School",
           "city_development_index"
          ],
          [
           0.29564053353857234,
           "Logistic Regression_High School",
           "city_development_index"
          ],
          [
           0.29564053353857234,
           "Logistic Regression_High School",
           "city_development_index"
          ],
          [
           0.29564053353857234,
           "Logistic Regression_High School",
           "city_development_index"
          ],
          [
           0.29564053353857234,
           "Logistic Regression_High School",
           "city_development_index"
          ],
          [
           0.29564053353857234,
           "Logistic Regression_High School",
           "city_development_index"
          ],
          [
           0.29564053353857234,
           "Logistic Regression_High School",
           "city_development_index"
          ],
          [
           0.29564053353857234,
           "Logistic Regression_High School",
           "city_development_index"
          ],
          [
           0.29564053353857234,
           "Logistic Regression_High School",
           "city_development_index"
          ],
          [
           0.29564053353857234,
           "Logistic Regression_High School",
           "city_development_index"
          ],
          [
           0.29564053353857234,
           "Logistic Regression_High School",
           "city_development_index"
          ],
          [
           0.29564053353857234,
           "Logistic Regression_High School",
           "city_development_index"
          ],
          [
           0.29564053353857234,
           "Logistic Regression_High School",
           "city_development_index"
          ],
          [
           0.29564053353857234,
           "Logistic Regression_High School",
           "city_development_index"
          ],
          [
           0.29564053353857234,
           "Logistic Regression_High School",
           "city_development_index"
          ],
          [
           0.29564053353857234,
           "Logistic Regression_High School",
           "city_development_index"
          ],
          [
           0.29564053353857234,
           "Logistic Regression_High School",
           "city_development_index"
          ],
          [
           0.29564053353857234,
           "Logistic Regression_High School",
           "city_development_index"
          ],
          [
           0.29564053353857234,
           "Logistic Regression_High School",
           "city_development_index"
          ],
          [
           0.29564053353857234,
           "Logistic Regression_High School",
           "city_development_index"
          ],
          [
           0.29564053353857234,
           "Logistic Regression_High School",
           "city_development_index"
          ],
          [
           0.29564053353857234,
           "Logistic Regression_High School",
           "city_development_index"
          ],
          [
           0.29564053353857234,
           "Logistic Regression_High School",
           "city_development_index"
          ],
          [
           0.29564053353857234,
           "Logistic Regression_High School",
           "city_development_index"
          ],
          [
           0.29564053353857234,
           "Logistic Regression_High School",
           "city_development_index"
          ],
          [
           0.29564053353857234,
           "Logistic Regression_High School",
           "city_development_index"
          ],
          [
           0.29564053353857234,
           "Logistic Regression_High School",
           "city_development_index"
          ],
          [
           0.29564053353857234,
           "Logistic Regression_High School",
           "city_development_index"
          ],
          [
           0.29564053353857234,
           "Logistic Regression_High School",
           "city_development_index"
          ],
          [
           0.29564053353857234,
           "Logistic Regression_High School",
           "city_development_index"
          ],
          [
           0.29564053353857234,
           "Logistic Regression_High School",
           "city_development_index"
          ],
          [
           0.29564053353857234,
           "Logistic Regression_High School",
           "city_development_index"
          ],
          [
           0.29564053353857234,
           "Logistic Regression_High School",
           "city_development_index"
          ],
          [
           0.29564053353857234,
           "Logistic Regression_High School",
           "city_development_index"
          ],
          [
           0.29564053353857234,
           "Logistic Regression_High School",
           "city_development_index"
          ],
          [
           0.29564053353857234,
           "Logistic Regression_High School",
           "city_development_index"
          ],
          [
           0.29564053353857234,
           "Logistic Regression_High School",
           "city_development_index"
          ],
          [
           0.29564053353857234,
           "Logistic Regression_High School",
           "city_development_index"
          ],
          [
           0.29564053353857234,
           "Logistic Regression_High School",
           "city_development_index"
          ],
          [
           0.29564053353857234,
           "Logistic Regression_High School",
           "city_development_index"
          ],
          [
           0.29564053353857234,
           "Logistic Regression_High School",
           "city_development_index"
          ],
          [
           0.29564053353857234,
           "Logistic Regression_High School",
           "city_development_index"
          ],
          [
           0.29564053353857234,
           "Logistic Regression_High School",
           "city_development_index"
          ],
          [
           0.29564053353857234,
           "Logistic Regression_High School",
           "city_development_index"
          ],
          [
           0.29564053353857234,
           "Logistic Regression_High School",
           "city_development_index"
          ],
          [
           0.29564053353857234,
           "Logistic Regression_High School",
           "city_development_index"
          ],
          [
           0.29564053353857234,
           "Logistic Regression_High School",
           "city_development_index"
          ],
          [
           0.29564053353857234,
           "Logistic Regression_High School",
           "city_development_index"
          ],
          [
           0.29564053353857234,
           "Logistic Regression_High School",
           "city_development_index"
          ],
          [
           0.29564053353857234,
           "Logistic Regression_High School",
           "city_development_index"
          ],
          [
           0.29564053353857234,
           "Logistic Regression_High School",
           "city_development_index"
          ],
          [
           0.29564053353857234,
           "Logistic Regression_High School",
           "city_development_index"
          ],
          [
           0.29564053353857234,
           "Logistic Regression_High School",
           "city_development_index"
          ],
          [
           0.29564053353857234,
           "Logistic Regression_High School",
           "city_development_index"
          ],
          [
           0.29564053353857234,
           "Logistic Regression_High School",
           "city_development_index"
          ],
          [
           0.29564053353857234,
           "Logistic Regression_High School",
           "city_development_index"
          ],
          [
           0.29564053353857234,
           "Logistic Regression_High School",
           "city_development_index"
          ],
          [
           0.29564053353857234,
           "Logistic Regression_High School",
           "city_development_index"
          ],
          [
           0.29564053353857234,
           "Logistic Regression_High School",
           "city_development_index"
          ],
          [
           0.29564053353857234,
           "Logistic Regression_High School",
           "city_development_index"
          ],
          [
           0.29564053353857234,
           "Logistic Regression_High School",
           "city_development_index"
          ],
          [
           0.29564053353857234,
           "Logistic Regression_High School",
           "city_development_index"
          ],
          [
           0.29564053353857234,
           "Logistic Regression_High School",
           "city_development_index"
          ],
          [
           0.29564053353857234,
           "Logistic Regression_High School",
           "city_development_index"
          ],
          [
           0.29564053353857234,
           "Logistic Regression_High School",
           "city_development_index"
          ],
          [
           0.29564053353857234,
           "Logistic Regression_High School",
           "city_development_index"
          ],
          [
           0.29564053353857234,
           "Logistic Regression_High School",
           "city_development_index"
          ],
          [
           0.29564053353857234,
           "Logistic Regression_High School",
           "city_development_index"
          ],
          [
           0.29564053353857234,
           "Logistic Regression_High School",
           "city_development_index"
          ],
          [
           0.29564053353857234,
           "Logistic Regression_High School",
           "city_development_index"
          ],
          [
           0.29564053353857234,
           "Logistic Regression_High School",
           "city_development_index"
          ],
          [
           0.29564053353857234,
           "Logistic Regression_High School",
           "city_development_index"
          ],
          [
           0.29564053353857234,
           "Logistic Regression_High School",
           "city_development_index"
          ],
          [
           0.29564053353857234,
           "Logistic Regression_High School",
           "city_development_index"
          ],
          [
           0.29564053353857234,
           "Logistic Regression_High School",
           "city_development_index"
          ],
          [
           0.29564053353857234,
           "Logistic Regression_High School",
           "city_development_index"
          ],
          [
           0.29564053353857234,
           "Logistic Regression_High School",
           "city_development_index"
          ],
          [
           0.29564053353857234,
           "Logistic Regression_High School",
           "city_development_index"
          ],
          [
           0.29564053353857234,
           "Logistic Regression_High School",
           "city_development_index"
          ],
          [
           0.29564053353857234,
           "Logistic Regression_High School",
           "city_development_index"
          ],
          [
           0.29564053353857234,
           "Logistic Regression_High School",
           "city_development_index"
          ]
         ],
         "hovertemplate": "<b>%{hovertext}</b><br><br>prediction=%{y:.3f}<br>mean_prediction=%{customdata[0]:.3f}<extra></extra>",
         "hovertext": [
          "Logistic Regression_High School",
          "Logistic Regression_High School",
          "Logistic Regression_High School",
          "Logistic Regression_High School",
          "Logistic Regression_High School",
          "Logistic Regression_High School",
          "Logistic Regression_High School",
          "Logistic Regression_High School",
          "Logistic Regression_High School",
          "Logistic Regression_High School",
          "Logistic Regression_High School",
          "Logistic Regression_High School",
          "Logistic Regression_High School",
          "Logistic Regression_High School",
          "Logistic Regression_High School",
          "Logistic Regression_High School",
          "Logistic Regression_High School",
          "Logistic Regression_High School",
          "Logistic Regression_High School",
          "Logistic Regression_High School",
          "Logistic Regression_High School",
          "Logistic Regression_High School",
          "Logistic Regression_High School",
          "Logistic Regression_High School",
          "Logistic Regression_High School",
          "Logistic Regression_High School",
          "Logistic Regression_High School",
          "Logistic Regression_High School",
          "Logistic Regression_High School",
          "Logistic Regression_High School",
          "Logistic Regression_High School",
          "Logistic Regression_High School",
          "Logistic Regression_High School",
          "Logistic Regression_High School",
          "Logistic Regression_High School",
          "Logistic Regression_High School",
          "Logistic Regression_High School",
          "Logistic Regression_High School",
          "Logistic Regression_High School",
          "Logistic Regression_High School",
          "Logistic Regression_High School",
          "Logistic Regression_High School",
          "Logistic Regression_High School",
          "Logistic Regression_High School",
          "Logistic Regression_High School",
          "Logistic Regression_High School",
          "Logistic Regression_High School",
          "Logistic Regression_High School",
          "Logistic Regression_High School",
          "Logistic Regression_High School",
          "Logistic Regression_High School",
          "Logistic Regression_High School",
          "Logistic Regression_High School",
          "Logistic Regression_High School",
          "Logistic Regression_High School",
          "Logistic Regression_High School",
          "Logistic Regression_High School",
          "Logistic Regression_High School",
          "Logistic Regression_High School",
          "Logistic Regression_High School",
          "Logistic Regression_High School",
          "Logistic Regression_High School",
          "Logistic Regression_High School",
          "Logistic Regression_High School",
          "Logistic Regression_High School",
          "Logistic Regression_High School",
          "Logistic Regression_High School",
          "Logistic Regression_High School",
          "Logistic Regression_High School",
          "Logistic Regression_High School",
          "Logistic Regression_High School",
          "Logistic Regression_High School",
          "Logistic Regression_High School",
          "Logistic Regression_High School",
          "Logistic Regression_High School",
          "Logistic Regression_High School",
          "Logistic Regression_High School",
          "Logistic Regression_High School",
          "Logistic Regression_High School",
          "Logistic Regression_High School",
          "Logistic Regression_High School",
          "Logistic Regression_High School",
          "Logistic Regression_High School",
          "Logistic Regression_High School",
          "Logistic Regression_High School",
          "Logistic Regression_High School",
          "Logistic Regression_High School",
          "Logistic Regression_High School",
          "Logistic Regression_High School",
          "Logistic Regression_High School",
          "Logistic Regression_High School",
          "Logistic Regression_High School",
          "Logistic Regression_High School",
          "Logistic Regression_High School",
          "Logistic Regression_High School",
          "Logistic Regression_High School",
          "Logistic Regression_High School",
          "Logistic Regression_High School",
          "Logistic Regression_High School",
          "Logistic Regression_High School",
          "Logistic Regression_High School"
         ],
         "legendgroup": "Logistic Regression_High School",
         "line": {
          "color": "#ae2c87",
          "dash": "solid",
          "width": 2
         },
         "marker": {
          "symbol": "circle"
         },
         "mode": "lines",
         "name": "Logistic Regression_High School",
         "opacity": 1,
         "orientation": "v",
         "showlegend": true,
         "type": "scatter",
         "x": [
          0.479,
          0.48369999999999996,
          0.4884,
          0.4931,
          0.49779999999999996,
          0.5025,
          0.5072,
          0.5119,
          0.5166,
          0.5213,
          0.526,
          0.5307,
          0.5354,
          0.5401,
          0.5448,
          0.5495,
          0.5542,
          0.5589,
          0.5636,
          0.5683,
          0.573,
          0.5777,
          0.5824,
          0.5871,
          0.5918,
          0.5964999999999999,
          0.6012,
          0.6059,
          0.6106,
          0.6153,
          0.62,
          0.6246999999999999,
          0.6294,
          0.6341,
          0.6387999999999999,
          0.6435,
          0.6481999999999999,
          0.6528999999999999,
          0.6576,
          0.6622999999999999,
          0.6669999999999999,
          0.6717,
          0.6763999999999999,
          0.6810999999999999,
          0.6858,
          0.6904999999999999,
          0.6951999999999999,
          0.6999,
          0.7045999999999999,
          0.7092999999999999,
          0.714,
          0.7186999999999999,
          0.7233999999999999,
          0.7281,
          0.7327999999999999,
          0.7374999999999999,
          0.7422,
          0.7468999999999999,
          0.7515999999999999,
          0.7563,
          0.7609999999999999,
          0.7656999999999999,
          0.7704,
          0.7750999999999999,
          0.7797999999999999,
          0.7845,
          0.7891999999999999,
          0.7938999999999999,
          0.7986,
          0.8032999999999999,
          0.8079999999999999,
          0.8127,
          0.8173999999999999,
          0.8220999999999999,
          0.8268,
          0.8314999999999999,
          0.8361999999999999,
          0.8409,
          0.8455999999999999,
          0.8503,
          0.855,
          0.8596999999999999,
          0.8644,
          0.8691,
          0.8737999999999999,
          0.8785,
          0.8832,
          0.8878999999999999,
          0.8926,
          0.8973,
          0.9019999999999999,
          0.9066999999999998,
          0.9114,
          0.9160999999999999,
          0.9207999999999998,
          0.9255,
          0.9301999999999999,
          0.9348999999999998,
          0.9396,
          0.9442999999999999,
          0.949
         ],
         "xaxis": "x",
         "y": [
          0.7285430079731265,
          0.7236678448452741,
          0.7187429796243028,
          0.7137690463742317,
          0.7087467147754819,
          0.7036766900587352,
          0.6985597128932151,
          0.693396559228988,
          0.688188040092956,
          0.6829350013382888,
          0.6776383233471289,
          0.6722989206864732,
          0.666917741717223,
          0.6614957681564708,
          0.6560340145931775,
          0.6505335279574707,
          0.6449953869438856,
          0.6394207013889491,
          0.6338106116035939,
          0.6281662876609787,
          0.622488928640372,
          0.6167797618278492,
          0.6110400418746419,
          0.6052710499140584,
          0.5994740926379963,
          0.5936505013341473,
          0.5878016308850856,
          0.5819288587305256,
          0.5760335837941115,
          0.5701172253762007,
          0.5641812220141759,
          0.5582270303119165,
          0.5522561237401273,
          0.5462699914093135,
          0.5402701368172559,
          0.5342580765729166,
          0.5282353390987705,
          0.5222034633136178,
          0.5161639972979943,
          0.5101184969443404,
          0.5040685245941389,
          0.4980156476642709,
          0.4919614372648658,
          0.4859074668109478,
          0.4798553106302024,
          0.47380654256918686,
          0.46776273460031714,
          0.4617254554319579,
          0.4556962691239214,
          0.44967673371066713,
          0.44366839983446327,
          0.43767280939072933,
          0.4316914941877451,
          0.4257259746228539,
          0.419777758377235,
          0.4138483391312582,
          0.4079391953023655,
          0.4020517888073526,
          0.3961875638508475,
          0.39034794574170323,
          0.3845343397389368,
          0.3787481299287636,
          0.3729906781341876,
          0.3672633228585176,
          0.3615673782640909,
          0.3559041331873989,
          0.3502748501917116,
          0.3446807646582172,
          0.3391230839165995,
          0.33360298641589214,
          0.3281216209363591,
          0.3226801058430772,
          0.31727952838180384,
          0.3119209440176433,
          0.306605375816948,
          0.3013338138728123,
          0.2961072147744515,
          0.29092650112068785,
          0.28579256107769696,
          0.2807062479811063,
          0.27566837998247656,
          0.27067973974013043,
          0.265741074154242,
          0.2608530941460375,
          0.2560164744809038,
          0.2512318536351445,
          0.2464998337060726,
          0.24182098036506958,
          0.23719582285319044,
          0.2326248540188424,
          0.22810853039700668,
          0.2236472723294245,
          0.219241464125113,
          0.21489145426052522,
          0.2105975556186096,
          0.20636004576598088,
          0.20217916726735247,
          0.19805512803632938,
          0.1939881017216127,
          0.18997822812761028,
          0.18602561366839554
         ],
         "yaxis": "y"
        },
        {
         "customdata": [
          [
           0.29564053353857234,
           "Logistic Regression_Phd",
           "city_development_index"
          ],
          [
           0.29564053353857234,
           "Logistic Regression_Phd",
           "city_development_index"
          ],
          [
           0.29564053353857234,
           "Logistic Regression_Phd",
           "city_development_index"
          ],
          [
           0.29564053353857234,
           "Logistic Regression_Phd",
           "city_development_index"
          ],
          [
           0.29564053353857234,
           "Logistic Regression_Phd",
           "city_development_index"
          ],
          [
           0.29564053353857234,
           "Logistic Regression_Phd",
           "city_development_index"
          ],
          [
           0.29564053353857234,
           "Logistic Regression_Phd",
           "city_development_index"
          ],
          [
           0.29564053353857234,
           "Logistic Regression_Phd",
           "city_development_index"
          ],
          [
           0.29564053353857234,
           "Logistic Regression_Phd",
           "city_development_index"
          ],
          [
           0.29564053353857234,
           "Logistic Regression_Phd",
           "city_development_index"
          ],
          [
           0.29564053353857234,
           "Logistic Regression_Phd",
           "city_development_index"
          ],
          [
           0.29564053353857234,
           "Logistic Regression_Phd",
           "city_development_index"
          ],
          [
           0.29564053353857234,
           "Logistic Regression_Phd",
           "city_development_index"
          ],
          [
           0.29564053353857234,
           "Logistic Regression_Phd",
           "city_development_index"
          ],
          [
           0.29564053353857234,
           "Logistic Regression_Phd",
           "city_development_index"
          ],
          [
           0.29564053353857234,
           "Logistic Regression_Phd",
           "city_development_index"
          ],
          [
           0.29564053353857234,
           "Logistic Regression_Phd",
           "city_development_index"
          ],
          [
           0.29564053353857234,
           "Logistic Regression_Phd",
           "city_development_index"
          ],
          [
           0.29564053353857234,
           "Logistic Regression_Phd",
           "city_development_index"
          ],
          [
           0.29564053353857234,
           "Logistic Regression_Phd",
           "city_development_index"
          ],
          [
           0.29564053353857234,
           "Logistic Regression_Phd",
           "city_development_index"
          ],
          [
           0.29564053353857234,
           "Logistic Regression_Phd",
           "city_development_index"
          ],
          [
           0.29564053353857234,
           "Logistic Regression_Phd",
           "city_development_index"
          ],
          [
           0.29564053353857234,
           "Logistic Regression_Phd",
           "city_development_index"
          ],
          [
           0.29564053353857234,
           "Logistic Regression_Phd",
           "city_development_index"
          ],
          [
           0.29564053353857234,
           "Logistic Regression_Phd",
           "city_development_index"
          ],
          [
           0.29564053353857234,
           "Logistic Regression_Phd",
           "city_development_index"
          ],
          [
           0.29564053353857234,
           "Logistic Regression_Phd",
           "city_development_index"
          ],
          [
           0.29564053353857234,
           "Logistic Regression_Phd",
           "city_development_index"
          ],
          [
           0.29564053353857234,
           "Logistic Regression_Phd",
           "city_development_index"
          ],
          [
           0.29564053353857234,
           "Logistic Regression_Phd",
           "city_development_index"
          ],
          [
           0.29564053353857234,
           "Logistic Regression_Phd",
           "city_development_index"
          ],
          [
           0.29564053353857234,
           "Logistic Regression_Phd",
           "city_development_index"
          ],
          [
           0.29564053353857234,
           "Logistic Regression_Phd",
           "city_development_index"
          ],
          [
           0.29564053353857234,
           "Logistic Regression_Phd",
           "city_development_index"
          ],
          [
           0.29564053353857234,
           "Logistic Regression_Phd",
           "city_development_index"
          ],
          [
           0.29564053353857234,
           "Logistic Regression_Phd",
           "city_development_index"
          ],
          [
           0.29564053353857234,
           "Logistic Regression_Phd",
           "city_development_index"
          ],
          [
           0.29564053353857234,
           "Logistic Regression_Phd",
           "city_development_index"
          ],
          [
           0.29564053353857234,
           "Logistic Regression_Phd",
           "city_development_index"
          ],
          [
           0.29564053353857234,
           "Logistic Regression_Phd",
           "city_development_index"
          ],
          [
           0.29564053353857234,
           "Logistic Regression_Phd",
           "city_development_index"
          ],
          [
           0.29564053353857234,
           "Logistic Regression_Phd",
           "city_development_index"
          ],
          [
           0.29564053353857234,
           "Logistic Regression_Phd",
           "city_development_index"
          ],
          [
           0.29564053353857234,
           "Logistic Regression_Phd",
           "city_development_index"
          ],
          [
           0.29564053353857234,
           "Logistic Regression_Phd",
           "city_development_index"
          ],
          [
           0.29564053353857234,
           "Logistic Regression_Phd",
           "city_development_index"
          ],
          [
           0.29564053353857234,
           "Logistic Regression_Phd",
           "city_development_index"
          ],
          [
           0.29564053353857234,
           "Logistic Regression_Phd",
           "city_development_index"
          ],
          [
           0.29564053353857234,
           "Logistic Regression_Phd",
           "city_development_index"
          ],
          [
           0.29564053353857234,
           "Logistic Regression_Phd",
           "city_development_index"
          ],
          [
           0.29564053353857234,
           "Logistic Regression_Phd",
           "city_development_index"
          ],
          [
           0.29564053353857234,
           "Logistic Regression_Phd",
           "city_development_index"
          ],
          [
           0.29564053353857234,
           "Logistic Regression_Phd",
           "city_development_index"
          ],
          [
           0.29564053353857234,
           "Logistic Regression_Phd",
           "city_development_index"
          ],
          [
           0.29564053353857234,
           "Logistic Regression_Phd",
           "city_development_index"
          ],
          [
           0.29564053353857234,
           "Logistic Regression_Phd",
           "city_development_index"
          ],
          [
           0.29564053353857234,
           "Logistic Regression_Phd",
           "city_development_index"
          ],
          [
           0.29564053353857234,
           "Logistic Regression_Phd",
           "city_development_index"
          ],
          [
           0.29564053353857234,
           "Logistic Regression_Phd",
           "city_development_index"
          ],
          [
           0.29564053353857234,
           "Logistic Regression_Phd",
           "city_development_index"
          ],
          [
           0.29564053353857234,
           "Logistic Regression_Phd",
           "city_development_index"
          ],
          [
           0.29564053353857234,
           "Logistic Regression_Phd",
           "city_development_index"
          ],
          [
           0.29564053353857234,
           "Logistic Regression_Phd",
           "city_development_index"
          ],
          [
           0.29564053353857234,
           "Logistic Regression_Phd",
           "city_development_index"
          ],
          [
           0.29564053353857234,
           "Logistic Regression_Phd",
           "city_development_index"
          ],
          [
           0.29564053353857234,
           "Logistic Regression_Phd",
           "city_development_index"
          ],
          [
           0.29564053353857234,
           "Logistic Regression_Phd",
           "city_development_index"
          ],
          [
           0.29564053353857234,
           "Logistic Regression_Phd",
           "city_development_index"
          ],
          [
           0.29564053353857234,
           "Logistic Regression_Phd",
           "city_development_index"
          ],
          [
           0.29564053353857234,
           "Logistic Regression_Phd",
           "city_development_index"
          ],
          [
           0.29564053353857234,
           "Logistic Regression_Phd",
           "city_development_index"
          ],
          [
           0.29564053353857234,
           "Logistic Regression_Phd",
           "city_development_index"
          ],
          [
           0.29564053353857234,
           "Logistic Regression_Phd",
           "city_development_index"
          ],
          [
           0.29564053353857234,
           "Logistic Regression_Phd",
           "city_development_index"
          ],
          [
           0.29564053353857234,
           "Logistic Regression_Phd",
           "city_development_index"
          ],
          [
           0.29564053353857234,
           "Logistic Regression_Phd",
           "city_development_index"
          ],
          [
           0.29564053353857234,
           "Logistic Regression_Phd",
           "city_development_index"
          ],
          [
           0.29564053353857234,
           "Logistic Regression_Phd",
           "city_development_index"
          ],
          [
           0.29564053353857234,
           "Logistic Regression_Phd",
           "city_development_index"
          ],
          [
           0.29564053353857234,
           "Logistic Regression_Phd",
           "city_development_index"
          ],
          [
           0.29564053353857234,
           "Logistic Regression_Phd",
           "city_development_index"
          ],
          [
           0.29564053353857234,
           "Logistic Regression_Phd",
           "city_development_index"
          ],
          [
           0.29564053353857234,
           "Logistic Regression_Phd",
           "city_development_index"
          ],
          [
           0.29564053353857234,
           "Logistic Regression_Phd",
           "city_development_index"
          ],
          [
           0.29564053353857234,
           "Logistic Regression_Phd",
           "city_development_index"
          ],
          [
           0.29564053353857234,
           "Logistic Regression_Phd",
           "city_development_index"
          ],
          [
           0.29564053353857234,
           "Logistic Regression_Phd",
           "city_development_index"
          ],
          [
           0.29564053353857234,
           "Logistic Regression_Phd",
           "city_development_index"
          ],
          [
           0.29564053353857234,
           "Logistic Regression_Phd",
           "city_development_index"
          ],
          [
           0.29564053353857234,
           "Logistic Regression_Phd",
           "city_development_index"
          ],
          [
           0.29564053353857234,
           "Logistic Regression_Phd",
           "city_development_index"
          ],
          [
           0.29564053353857234,
           "Logistic Regression_Phd",
           "city_development_index"
          ],
          [
           0.29564053353857234,
           "Logistic Regression_Phd",
           "city_development_index"
          ],
          [
           0.29564053353857234,
           "Logistic Regression_Phd",
           "city_development_index"
          ],
          [
           0.29564053353857234,
           "Logistic Regression_Phd",
           "city_development_index"
          ],
          [
           0.29564053353857234,
           "Logistic Regression_Phd",
           "city_development_index"
          ],
          [
           0.29564053353857234,
           "Logistic Regression_Phd",
           "city_development_index"
          ],
          [
           0.29564053353857234,
           "Logistic Regression_Phd",
           "city_development_index"
          ],
          [
           0.29564053353857234,
           "Logistic Regression_Phd",
           "city_development_index"
          ],
          [
           0.29564053353857234,
           "Logistic Regression_Phd",
           "city_development_index"
          ]
         ],
         "hovertemplate": "<b>%{hovertext}</b><br><br>prediction=%{y:.3f}<br>mean_prediction=%{customdata[0]:.3f}<extra></extra>",
         "hovertext": [
          "Logistic Regression_Phd",
          "Logistic Regression_Phd",
          "Logistic Regression_Phd",
          "Logistic Regression_Phd",
          "Logistic Regression_Phd",
          "Logistic Regression_Phd",
          "Logistic Regression_Phd",
          "Logistic Regression_Phd",
          "Logistic Regression_Phd",
          "Logistic Regression_Phd",
          "Logistic Regression_Phd",
          "Logistic Regression_Phd",
          "Logistic Regression_Phd",
          "Logistic Regression_Phd",
          "Logistic Regression_Phd",
          "Logistic Regression_Phd",
          "Logistic Regression_Phd",
          "Logistic Regression_Phd",
          "Logistic Regression_Phd",
          "Logistic Regression_Phd",
          "Logistic Regression_Phd",
          "Logistic Regression_Phd",
          "Logistic Regression_Phd",
          "Logistic Regression_Phd",
          "Logistic Regression_Phd",
          "Logistic Regression_Phd",
          "Logistic Regression_Phd",
          "Logistic Regression_Phd",
          "Logistic Regression_Phd",
          "Logistic Regression_Phd",
          "Logistic Regression_Phd",
          "Logistic Regression_Phd",
          "Logistic Regression_Phd",
          "Logistic Regression_Phd",
          "Logistic Regression_Phd",
          "Logistic Regression_Phd",
          "Logistic Regression_Phd",
          "Logistic Regression_Phd",
          "Logistic Regression_Phd",
          "Logistic Regression_Phd",
          "Logistic Regression_Phd",
          "Logistic Regression_Phd",
          "Logistic Regression_Phd",
          "Logistic Regression_Phd",
          "Logistic Regression_Phd",
          "Logistic Regression_Phd",
          "Logistic Regression_Phd",
          "Logistic Regression_Phd",
          "Logistic Regression_Phd",
          "Logistic Regression_Phd",
          "Logistic Regression_Phd",
          "Logistic Regression_Phd",
          "Logistic Regression_Phd",
          "Logistic Regression_Phd",
          "Logistic Regression_Phd",
          "Logistic Regression_Phd",
          "Logistic Regression_Phd",
          "Logistic Regression_Phd",
          "Logistic Regression_Phd",
          "Logistic Regression_Phd",
          "Logistic Regression_Phd",
          "Logistic Regression_Phd",
          "Logistic Regression_Phd",
          "Logistic Regression_Phd",
          "Logistic Regression_Phd",
          "Logistic Regression_Phd",
          "Logistic Regression_Phd",
          "Logistic Regression_Phd",
          "Logistic Regression_Phd",
          "Logistic Regression_Phd",
          "Logistic Regression_Phd",
          "Logistic Regression_Phd",
          "Logistic Regression_Phd",
          "Logistic Regression_Phd",
          "Logistic Regression_Phd",
          "Logistic Regression_Phd",
          "Logistic Regression_Phd",
          "Logistic Regression_Phd",
          "Logistic Regression_Phd",
          "Logistic Regression_Phd",
          "Logistic Regression_Phd",
          "Logistic Regression_Phd",
          "Logistic Regression_Phd",
          "Logistic Regression_Phd",
          "Logistic Regression_Phd",
          "Logistic Regression_Phd",
          "Logistic Regression_Phd",
          "Logistic Regression_Phd",
          "Logistic Regression_Phd",
          "Logistic Regression_Phd",
          "Logistic Regression_Phd",
          "Logistic Regression_Phd",
          "Logistic Regression_Phd",
          "Logistic Regression_Phd",
          "Logistic Regression_Phd",
          "Logistic Regression_Phd",
          "Logistic Regression_Phd",
          "Logistic Regression_Phd",
          "Logistic Regression_Phd",
          "Logistic Regression_Phd",
          "Logistic Regression_Phd"
         ],
         "legendgroup": "Logistic Regression_Phd",
         "line": {
          "color": "#ffa58c",
          "dash": "solid",
          "width": 2
         },
         "marker": {
          "symbol": "circle"
         },
         "mode": "lines",
         "name": "Logistic Regression_Phd",
         "opacity": 1,
         "orientation": "v",
         "showlegend": true,
         "type": "scatter",
         "x": [
          0.479,
          0.48369999999999996,
          0.4884,
          0.4931,
          0.49779999999999996,
          0.5025,
          0.5072,
          0.5119,
          0.5166,
          0.5213,
          0.526,
          0.5307,
          0.5354,
          0.5401,
          0.5448,
          0.5495,
          0.5542,
          0.5589,
          0.5636,
          0.5683,
          0.573,
          0.5777,
          0.5824,
          0.5871,
          0.5918,
          0.5964999999999999,
          0.6012,
          0.6059,
          0.6106,
          0.6153,
          0.62,
          0.6246999999999999,
          0.6294,
          0.6341,
          0.6387999999999999,
          0.6435,
          0.6481999999999999,
          0.6528999999999999,
          0.6576,
          0.6622999999999999,
          0.6669999999999999,
          0.6717,
          0.6763999999999999,
          0.6810999999999999,
          0.6858,
          0.6904999999999999,
          0.6951999999999999,
          0.6999,
          0.7045999999999999,
          0.7092999999999999,
          0.714,
          0.7186999999999999,
          0.7233999999999999,
          0.7281,
          0.7327999999999999,
          0.7374999999999999,
          0.7422,
          0.7468999999999999,
          0.7515999999999999,
          0.7563,
          0.7609999999999999,
          0.7656999999999999,
          0.7704,
          0.7750999999999999,
          0.7797999999999999,
          0.7845,
          0.7891999999999999,
          0.7938999999999999,
          0.7986,
          0.8032999999999999,
          0.8079999999999999,
          0.8127,
          0.8173999999999999,
          0.8220999999999999,
          0.8268,
          0.8314999999999999,
          0.8361999999999999,
          0.8409,
          0.8455999999999999,
          0.8503,
          0.855,
          0.8596999999999999,
          0.8644,
          0.8691,
          0.8737999999999999,
          0.8785,
          0.8832,
          0.8878999999999999,
          0.8926,
          0.8973,
          0.9019999999999999,
          0.9066999999999998,
          0.9114,
          0.9160999999999999,
          0.9207999999999998,
          0.9255,
          0.9301999999999999,
          0.9348999999999998,
          0.9396,
          0.9442999999999999,
          0.949
         ],
         "xaxis": "x",
         "y": [
          0.634711228647256,
          0.6282030244754777,
          0.6216500918836784,
          0.6150544593874154,
          0.6084182095823035,
          0.6017434768783295,
          0.5950324451110149,
          0.5882873450344333,
          0.5815104517014705,
          0.5747040817371036,
          0.5678705905108211,
          0.5610123692146373,
          0.5541318418534709,
          0.5472314621549355,
          0.5403137104058549,
          0.5333810902230535,
          0.5264361252661842,
          0.5194813559005439,
          0.5125193358179858,
          0.5055526286241832,
          0.49858380440059974,
          0.491615436249613,
          0.4846500968313012,
          0.4776903549004266,
          0.47073877185216667,
          0.46379789828512114,
          0.45687027059007684,
          0.44995840757294575,
          0.44306480712018653,
          0.4361919429149002,
          0.4293422612116369,
          0.4225181776777722,
          0.4157220743091014,
          0.4089562964270763,
          0.40222314976484097,
          0.39552489764894144,
          0.3888637582832766,
          0.38224190214151227,
          0.37566144947383334,
          0.36912446793351156,
          0.3626329703283724,
          0.3561889125018143,
          0.3497941913475879,
          0.3434506429620832,
          0.3371600409373976,
          0.3309240947979641,
          0.3247444485830211,
          0.3186226795767007,
          0.3125602971869916,
          0.30655874197432237,
          0.30061938482999523,
          0.2947435263041821,
          0.2889323960826921,
          0.2831871526112218,
          0.2775088828653072,
          0.2718986022637283,
          0.26635725472265953,
          0.2608857128474213,
          0.255484778258273,
          0.25015518204629794,
          0.24489758535506193,
          0.2397125800833891,
          0.23460068970429335,
          0.22956237019481554,
          0.22459801107127628,
          0.2197079365242334,
          0.21489240664724832,
          0.21015161875341434,
          0.20548570877348224,
          0.20089475272932555,
          0.1963787682764373,
          0.19193771630912196,
          0.1875715026220506,
          0.18327997962188095,
          0.17906294808270606,
          0.174920158939178,
          0.17085131511126736,
          0.16685607335475097,
          0.1629340461316741,
          0.15908480349520612,
          0.15530787498350165,
          0.1516027515173793,
          0.14796888729685315,
          0.14440570169178032,
          0.1409125811221258,
          0.1374888809235937,
          0.13413392719462855,
          0.13084701862104117,
          0.1276274282747793,
          0.12447440538361838,
          0.12138717706880871,
          0.118364950047972,
          0.11540691230079565,
          0.11251223469532091,
          0.10968007257286494,
          0.10690956728985769,
          0.10419984771510232,
          0.10155003168118933,
          0.0989592273890137,
          0.09642653476454464,
          0.093951046767194
         ],
         "yaxis": "y"
        },
        {
         "customdata": [
          [
           0.29564053353857234,
           "Logistic Regression_Primary School",
           "city_development_index"
          ],
          [
           0.29564053353857234,
           "Logistic Regression_Primary School",
           "city_development_index"
          ],
          [
           0.29564053353857234,
           "Logistic Regression_Primary School",
           "city_development_index"
          ],
          [
           0.29564053353857234,
           "Logistic Regression_Primary School",
           "city_development_index"
          ],
          [
           0.29564053353857234,
           "Logistic Regression_Primary School",
           "city_development_index"
          ],
          [
           0.29564053353857234,
           "Logistic Regression_Primary School",
           "city_development_index"
          ],
          [
           0.29564053353857234,
           "Logistic Regression_Primary School",
           "city_development_index"
          ],
          [
           0.29564053353857234,
           "Logistic Regression_Primary School",
           "city_development_index"
          ],
          [
           0.29564053353857234,
           "Logistic Regression_Primary School",
           "city_development_index"
          ],
          [
           0.29564053353857234,
           "Logistic Regression_Primary School",
           "city_development_index"
          ],
          [
           0.29564053353857234,
           "Logistic Regression_Primary School",
           "city_development_index"
          ],
          [
           0.29564053353857234,
           "Logistic Regression_Primary School",
           "city_development_index"
          ],
          [
           0.29564053353857234,
           "Logistic Regression_Primary School",
           "city_development_index"
          ],
          [
           0.29564053353857234,
           "Logistic Regression_Primary School",
           "city_development_index"
          ],
          [
           0.29564053353857234,
           "Logistic Regression_Primary School",
           "city_development_index"
          ],
          [
           0.29564053353857234,
           "Logistic Regression_Primary School",
           "city_development_index"
          ],
          [
           0.29564053353857234,
           "Logistic Regression_Primary School",
           "city_development_index"
          ],
          [
           0.29564053353857234,
           "Logistic Regression_Primary School",
           "city_development_index"
          ],
          [
           0.29564053353857234,
           "Logistic Regression_Primary School",
           "city_development_index"
          ],
          [
           0.29564053353857234,
           "Logistic Regression_Primary School",
           "city_development_index"
          ],
          [
           0.29564053353857234,
           "Logistic Regression_Primary School",
           "city_development_index"
          ],
          [
           0.29564053353857234,
           "Logistic Regression_Primary School",
           "city_development_index"
          ],
          [
           0.29564053353857234,
           "Logistic Regression_Primary School",
           "city_development_index"
          ],
          [
           0.29564053353857234,
           "Logistic Regression_Primary School",
           "city_development_index"
          ],
          [
           0.29564053353857234,
           "Logistic Regression_Primary School",
           "city_development_index"
          ],
          [
           0.29564053353857234,
           "Logistic Regression_Primary School",
           "city_development_index"
          ],
          [
           0.29564053353857234,
           "Logistic Regression_Primary School",
           "city_development_index"
          ],
          [
           0.29564053353857234,
           "Logistic Regression_Primary School",
           "city_development_index"
          ],
          [
           0.29564053353857234,
           "Logistic Regression_Primary School",
           "city_development_index"
          ],
          [
           0.29564053353857234,
           "Logistic Regression_Primary School",
           "city_development_index"
          ],
          [
           0.29564053353857234,
           "Logistic Regression_Primary School",
           "city_development_index"
          ],
          [
           0.29564053353857234,
           "Logistic Regression_Primary School",
           "city_development_index"
          ],
          [
           0.29564053353857234,
           "Logistic Regression_Primary School",
           "city_development_index"
          ],
          [
           0.29564053353857234,
           "Logistic Regression_Primary School",
           "city_development_index"
          ],
          [
           0.29564053353857234,
           "Logistic Regression_Primary School",
           "city_development_index"
          ],
          [
           0.29564053353857234,
           "Logistic Regression_Primary School",
           "city_development_index"
          ],
          [
           0.29564053353857234,
           "Logistic Regression_Primary School",
           "city_development_index"
          ],
          [
           0.29564053353857234,
           "Logistic Regression_Primary School",
           "city_development_index"
          ],
          [
           0.29564053353857234,
           "Logistic Regression_Primary School",
           "city_development_index"
          ],
          [
           0.29564053353857234,
           "Logistic Regression_Primary School",
           "city_development_index"
          ],
          [
           0.29564053353857234,
           "Logistic Regression_Primary School",
           "city_development_index"
          ],
          [
           0.29564053353857234,
           "Logistic Regression_Primary School",
           "city_development_index"
          ],
          [
           0.29564053353857234,
           "Logistic Regression_Primary School",
           "city_development_index"
          ],
          [
           0.29564053353857234,
           "Logistic Regression_Primary School",
           "city_development_index"
          ],
          [
           0.29564053353857234,
           "Logistic Regression_Primary School",
           "city_development_index"
          ],
          [
           0.29564053353857234,
           "Logistic Regression_Primary School",
           "city_development_index"
          ],
          [
           0.29564053353857234,
           "Logistic Regression_Primary School",
           "city_development_index"
          ],
          [
           0.29564053353857234,
           "Logistic Regression_Primary School",
           "city_development_index"
          ],
          [
           0.29564053353857234,
           "Logistic Regression_Primary School",
           "city_development_index"
          ],
          [
           0.29564053353857234,
           "Logistic Regression_Primary School",
           "city_development_index"
          ],
          [
           0.29564053353857234,
           "Logistic Regression_Primary School",
           "city_development_index"
          ],
          [
           0.29564053353857234,
           "Logistic Regression_Primary School",
           "city_development_index"
          ],
          [
           0.29564053353857234,
           "Logistic Regression_Primary School",
           "city_development_index"
          ],
          [
           0.29564053353857234,
           "Logistic Regression_Primary School",
           "city_development_index"
          ],
          [
           0.29564053353857234,
           "Logistic Regression_Primary School",
           "city_development_index"
          ],
          [
           0.29564053353857234,
           "Logistic Regression_Primary School",
           "city_development_index"
          ],
          [
           0.29564053353857234,
           "Logistic Regression_Primary School",
           "city_development_index"
          ],
          [
           0.29564053353857234,
           "Logistic Regression_Primary School",
           "city_development_index"
          ],
          [
           0.29564053353857234,
           "Logistic Regression_Primary School",
           "city_development_index"
          ],
          [
           0.29564053353857234,
           "Logistic Regression_Primary School",
           "city_development_index"
          ],
          [
           0.29564053353857234,
           "Logistic Regression_Primary School",
           "city_development_index"
          ],
          [
           0.29564053353857234,
           "Logistic Regression_Primary School",
           "city_development_index"
          ],
          [
           0.29564053353857234,
           "Logistic Regression_Primary School",
           "city_development_index"
          ],
          [
           0.29564053353857234,
           "Logistic Regression_Primary School",
           "city_development_index"
          ],
          [
           0.29564053353857234,
           "Logistic Regression_Primary School",
           "city_development_index"
          ],
          [
           0.29564053353857234,
           "Logistic Regression_Primary School",
           "city_development_index"
          ],
          [
           0.29564053353857234,
           "Logistic Regression_Primary School",
           "city_development_index"
          ],
          [
           0.29564053353857234,
           "Logistic Regression_Primary School",
           "city_development_index"
          ],
          [
           0.29564053353857234,
           "Logistic Regression_Primary School",
           "city_development_index"
          ],
          [
           0.29564053353857234,
           "Logistic Regression_Primary School",
           "city_development_index"
          ],
          [
           0.29564053353857234,
           "Logistic Regression_Primary School",
           "city_development_index"
          ],
          [
           0.29564053353857234,
           "Logistic Regression_Primary School",
           "city_development_index"
          ],
          [
           0.29564053353857234,
           "Logistic Regression_Primary School",
           "city_development_index"
          ],
          [
           0.29564053353857234,
           "Logistic Regression_Primary School",
           "city_development_index"
          ],
          [
           0.29564053353857234,
           "Logistic Regression_Primary School",
           "city_development_index"
          ],
          [
           0.29564053353857234,
           "Logistic Regression_Primary School",
           "city_development_index"
          ],
          [
           0.29564053353857234,
           "Logistic Regression_Primary School",
           "city_development_index"
          ],
          [
           0.29564053353857234,
           "Logistic Regression_Primary School",
           "city_development_index"
          ],
          [
           0.29564053353857234,
           "Logistic Regression_Primary School",
           "city_development_index"
          ],
          [
           0.29564053353857234,
           "Logistic Regression_Primary School",
           "city_development_index"
          ],
          [
           0.29564053353857234,
           "Logistic Regression_Primary School",
           "city_development_index"
          ],
          [
           0.29564053353857234,
           "Logistic Regression_Primary School",
           "city_development_index"
          ],
          [
           0.29564053353857234,
           "Logistic Regression_Primary School",
           "city_development_index"
          ],
          [
           0.29564053353857234,
           "Logistic Regression_Primary School",
           "city_development_index"
          ],
          [
           0.29564053353857234,
           "Logistic Regression_Primary School",
           "city_development_index"
          ],
          [
           0.29564053353857234,
           "Logistic Regression_Primary School",
           "city_development_index"
          ],
          [
           0.29564053353857234,
           "Logistic Regression_Primary School",
           "city_development_index"
          ],
          [
           0.29564053353857234,
           "Logistic Regression_Primary School",
           "city_development_index"
          ],
          [
           0.29564053353857234,
           "Logistic Regression_Primary School",
           "city_development_index"
          ],
          [
           0.29564053353857234,
           "Logistic Regression_Primary School",
           "city_development_index"
          ],
          [
           0.29564053353857234,
           "Logistic Regression_Primary School",
           "city_development_index"
          ],
          [
           0.29564053353857234,
           "Logistic Regression_Primary School",
           "city_development_index"
          ],
          [
           0.29564053353857234,
           "Logistic Regression_Primary School",
           "city_development_index"
          ],
          [
           0.29564053353857234,
           "Logistic Regression_Primary School",
           "city_development_index"
          ],
          [
           0.29564053353857234,
           "Logistic Regression_Primary School",
           "city_development_index"
          ],
          [
           0.29564053353857234,
           "Logistic Regression_Primary School",
           "city_development_index"
          ],
          [
           0.29564053353857234,
           "Logistic Regression_Primary School",
           "city_development_index"
          ],
          [
           0.29564053353857234,
           "Logistic Regression_Primary School",
           "city_development_index"
          ],
          [
           0.29564053353857234,
           "Logistic Regression_Primary School",
           "city_development_index"
          ],
          [
           0.29564053353857234,
           "Logistic Regression_Primary School",
           "city_development_index"
          ],
          [
           0.29564053353857234,
           "Logistic Regression_Primary School",
           "city_development_index"
          ]
         ],
         "hovertemplate": "<b>%{hovertext}</b><br><br>prediction=%{y:.3f}<br>mean_prediction=%{customdata[0]:.3f}<extra></extra>",
         "hovertext": [
          "Logistic Regression_Primary School",
          "Logistic Regression_Primary School",
          "Logistic Regression_Primary School",
          "Logistic Regression_Primary School",
          "Logistic Regression_Primary School",
          "Logistic Regression_Primary School",
          "Logistic Regression_Primary School",
          "Logistic Regression_Primary School",
          "Logistic Regression_Primary School",
          "Logistic Regression_Primary School",
          "Logistic Regression_Primary School",
          "Logistic Regression_Primary School",
          "Logistic Regression_Primary School",
          "Logistic Regression_Primary School",
          "Logistic Regression_Primary School",
          "Logistic Regression_Primary School",
          "Logistic Regression_Primary School",
          "Logistic Regression_Primary School",
          "Logistic Regression_Primary School",
          "Logistic Regression_Primary School",
          "Logistic Regression_Primary School",
          "Logistic Regression_Primary School",
          "Logistic Regression_Primary School",
          "Logistic Regression_Primary School",
          "Logistic Regression_Primary School",
          "Logistic Regression_Primary School",
          "Logistic Regression_Primary School",
          "Logistic Regression_Primary School",
          "Logistic Regression_Primary School",
          "Logistic Regression_Primary School",
          "Logistic Regression_Primary School",
          "Logistic Regression_Primary School",
          "Logistic Regression_Primary School",
          "Logistic Regression_Primary School",
          "Logistic Regression_Primary School",
          "Logistic Regression_Primary School",
          "Logistic Regression_Primary School",
          "Logistic Regression_Primary School",
          "Logistic Regression_Primary School",
          "Logistic Regression_Primary School",
          "Logistic Regression_Primary School",
          "Logistic Regression_Primary School",
          "Logistic Regression_Primary School",
          "Logistic Regression_Primary School",
          "Logistic Regression_Primary School",
          "Logistic Regression_Primary School",
          "Logistic Regression_Primary School",
          "Logistic Regression_Primary School",
          "Logistic Regression_Primary School",
          "Logistic Regression_Primary School",
          "Logistic Regression_Primary School",
          "Logistic Regression_Primary School",
          "Logistic Regression_Primary School",
          "Logistic Regression_Primary School",
          "Logistic Regression_Primary School",
          "Logistic Regression_Primary School",
          "Logistic Regression_Primary School",
          "Logistic Regression_Primary School",
          "Logistic Regression_Primary School",
          "Logistic Regression_Primary School",
          "Logistic Regression_Primary School",
          "Logistic Regression_Primary School",
          "Logistic Regression_Primary School",
          "Logistic Regression_Primary School",
          "Logistic Regression_Primary School",
          "Logistic Regression_Primary School",
          "Logistic Regression_Primary School",
          "Logistic Regression_Primary School",
          "Logistic Regression_Primary School",
          "Logistic Regression_Primary School",
          "Logistic Regression_Primary School",
          "Logistic Regression_Primary School",
          "Logistic Regression_Primary School",
          "Logistic Regression_Primary School",
          "Logistic Regression_Primary School",
          "Logistic Regression_Primary School",
          "Logistic Regression_Primary School",
          "Logistic Regression_Primary School",
          "Logistic Regression_Primary School",
          "Logistic Regression_Primary School",
          "Logistic Regression_Primary School",
          "Logistic Regression_Primary School",
          "Logistic Regression_Primary School",
          "Logistic Regression_Primary School",
          "Logistic Regression_Primary School",
          "Logistic Regression_Primary School",
          "Logistic Regression_Primary School",
          "Logistic Regression_Primary School",
          "Logistic Regression_Primary School",
          "Logistic Regression_Primary School",
          "Logistic Regression_Primary School",
          "Logistic Regression_Primary School",
          "Logistic Regression_Primary School",
          "Logistic Regression_Primary School",
          "Logistic Regression_Primary School",
          "Logistic Regression_Primary School",
          "Logistic Regression_Primary School",
          "Logistic Regression_Primary School",
          "Logistic Regression_Primary School",
          "Logistic Regression_Primary School",
          "Logistic Regression_Primary School"
         ],
         "legendgroup": "Logistic Regression_Primary School",
         "line": {
          "color": "#4378bf",
          "dash": "solid",
          "width": 2
         },
         "marker": {
          "symbol": "circle"
         },
         "mode": "lines",
         "name": "Logistic Regression_Primary School",
         "opacity": 1,
         "orientation": "v",
         "showlegend": true,
         "type": "scatter",
         "x": [
          0.479,
          0.48369999999999996,
          0.4884,
          0.4931,
          0.49779999999999996,
          0.5025,
          0.5072,
          0.5119,
          0.5166,
          0.5213,
          0.526,
          0.5307,
          0.5354,
          0.5401,
          0.5448,
          0.5495,
          0.5542,
          0.5589,
          0.5636,
          0.5683,
          0.573,
          0.5777,
          0.5824,
          0.5871,
          0.5918,
          0.5964999999999999,
          0.6012,
          0.6059,
          0.6106,
          0.6153,
          0.62,
          0.6246999999999999,
          0.6294,
          0.6341,
          0.6387999999999999,
          0.6435,
          0.6481999999999999,
          0.6528999999999999,
          0.6576,
          0.6622999999999999,
          0.6669999999999999,
          0.6717,
          0.6763999999999999,
          0.6810999999999999,
          0.6858,
          0.6904999999999999,
          0.6951999999999999,
          0.6999,
          0.7045999999999999,
          0.7092999999999999,
          0.714,
          0.7186999999999999,
          0.7233999999999999,
          0.7281,
          0.7327999999999999,
          0.7374999999999999,
          0.7422,
          0.7468999999999999,
          0.7515999999999999,
          0.7563,
          0.7609999999999999,
          0.7656999999999999,
          0.7704,
          0.7750999999999999,
          0.7797999999999999,
          0.7845,
          0.7891999999999999,
          0.7938999999999999,
          0.7986,
          0.8032999999999999,
          0.8079999999999999,
          0.8127,
          0.8173999999999999,
          0.8220999999999999,
          0.8268,
          0.8314999999999999,
          0.8361999999999999,
          0.8409,
          0.8455999999999999,
          0.8503,
          0.855,
          0.8596999999999999,
          0.8644,
          0.8691,
          0.8737999999999999,
          0.8785,
          0.8832,
          0.8878999999999999,
          0.8926,
          0.8973,
          0.9019999999999999,
          0.9066999999999998,
          0.9114,
          0.9160999999999999,
          0.9207999999999998,
          0.9255,
          0.9301999999999999,
          0.9348999999999998,
          0.9396,
          0.9442999999999999,
          0.949
         ],
         "xaxis": "x",
         "y": [
          0.48827180313317414,
          0.48150289794552775,
          0.47474286754954326,
          0.4679939665952851,
          0.4612584301293736,
          0.4545384711936691,
          0.44783627849942037,
          0.4411540141795114,
          0.43449381162102113,
          0.42785777337992253,
          0.42124796917937707,
          0.4146664339927388,
          0.4081151662120723,
          0.4015961259027014,
          0.39511123314405383,
          0.38866236645684243,
          0.3822513613164335,
          0.37588000875208133,
          0.36955005403157676,
          0.36326319543074553,
          0.3570210830871414,
          0.3508253179372167,
          0.3446774507362092,
          0.33857898115994706,
          0.33253135698776515,
          0.3265359733657187,
          0.3205941721492798,
          0.31470724132471806,
          0.30887641450837106,
          0.3031028705230239,
          0.2973877330506289,
          0.2917320703605964,
          0.2861368951128886,
          0.2806031642351391,
          0.2751317788730023,
          0.26972358441290495,
          0.2643793705763395,
          0.25909987158477826,
          0.25388576639423815,
          0.2487376789984385,
          0.24365617879942247,
          0.23864178104441328,
          0.2336949473275739,
          0.22881608615522964,
          0.2240055535729962,
          0.21926365385313218,
          0.21459064024030913,
          0.20998671575386607,
          0.20545203404448384,
          0.20098670030308985,
          0.196590772219679,
          0.19226426098961372,
          0.18800713236485556,
          0.18381930774747132,
          0.17970066532265783,
          0.17565104122844266,
          0.1716702307591382,
          0.16775798959956034,
          0.16391403508696886,
          0.16013804749764662,
          0.15642967135500332,
          0.15278851675607782,
          0.14921416071331225,
          0.14570614850848015,
          0.14226399505568002,
          0.1388871862703445,
          0.13557518044126254,
          0.13232740960267994,
          0.12914328090361601,
          0.1260221779716173,
          0.12296346226826703,
          0.11996647443387076,
          0.11703053561884957,
          0.11415494879949147,
          0.11133900007583623,
          0.10858195994959709,
          0.10588308458015654,
          0.10324161701681206,
          0.10065678840558283,
          0.09812781916903131,
          0.09565392015769426,
          0.09323429377185577,
          0.09086813505253588,
          0.08855463274070596,
          0.08629297030387473,
          0.08408232692932237,
          0.08192187848338821,
          0.07981079843634012,
          0.07774825875247436,
          0.07573343074520943,
          0.07376548589704571,
          0.07184359664436758,
          0.06996693712716319,
          0.068134683903829,
          0.06634601663131275,
          0.06460011871093072,
          0.06289617790026873,
          0.06123338689164467,
          0.05961094385767579,
          0.0580280529645496,
          0.0564839248536479
         ],
         "yaxis": "y"
        }
       ],
       "layout": {
        "annotations": [
         {
          "font": {
           "size": 13
          },
          "showarrow": false,
          "text": "city_development_index",
          "x": 0.5,
          "xanchor": "center",
          "xref": "paper",
          "y": 1,
          "yanchor": "bottom",
          "yref": "paper"
         },
         {
          "font": {
           "size": 13
          },
          "showarrow": false,
          "text": "prediction",
          "textangle": -90,
          "x": -0.07,
          "xref": "paper",
          "y": 0.5,
          "yref": "paper"
         }
        ],
        "font": {
         "color": "#371ea3"
        },
        "height": 489,
        "hovermode": "x unified",
        "legend": {
         "font": {
          "size": 11
         },
         "itemsizing": "constant",
         "orientation": "h",
         "title": {
          "font": {
           "size": 12
          },
          "text": "label"
         },
         "tracegroupgap": 0,
         "x": 1,
         "xanchor": "right",
         "y": 1.0613496932515338,
         "yanchor": "bottom"
        },
        "margin": {
         "b": 71,
         "r": 30,
         "t": 78
        },
        "template": {
         "data": {
          "scatter": [
           {
            "type": "scatter"
           }
          ]
         }
        },
        "title": {
         "font": {
          "size": 16
         },
         "text": "PDP for training_hours with gender groups",
         "x": 0.15
        },
        "xaxis": {
         "anchor": "y",
         "automargin": true,
         "domain": [
          0,
          1
         ],
         "fixedrange": true,
         "gridwidth": 2,
         "showticklabels": true,
         "tickcolor": "white",
         "ticklen": 3,
         "ticks": "outside",
         "title": {
          "text": ""
         },
         "type": "linear",
         "zeroline": false
        },
        "yaxis": {
         "anchor": "x",
         "automargin": true,
         "domain": [
          0,
          1
         ],
         "fixedrange": true,
         "gridwidth": 2,
         "range": [
          -0.022226162878659188,
          0.922294889909026
         ],
         "tickcolor": "white",
         "ticklen": 3,
         "ticks": "outside",
         "title": {
          "text": ""
         },
         "type": "linear",
         "zeroline": false
        }
       }
      }
     },
     "metadata": {},
     "output_type": "display_data"
    }
   ],
   "source": [
    "X_train['education_level_text'] = X_train['city_development_index'].map({'Primary School': 0, 'High School': 1, 'Graduate': 2, 'Masters': 3, 'Phd': 4, 'No data': 5})\n",
    "\n",
    "# Użycie tej kolumny do grupowania\n",
    "pdp_age_gender = exp.model_profile(variables=['city_development_index'], groups='education_level')\n",
    "pdp_age_gender.plot(title=\"PDP for training_hours with gender groups\")"
   ]
  },
  {
   "cell_type": "code",
   "execution_count": 1046,
   "metadata": {},
   "outputs": [
    {
     "name": "stderr",
     "output_type": "stream",
     "text": [
      "Calculating ceteris paribus: 100%|██████████| 1/1 [00:00<00:00, 83.34it/s]\n"
     ]
    },
    {
     "data": {
      "application/vnd.plotly.v1+json": {
       "config": {
        "displaylogo": false,
        "modeBarButtonsToRemove": [
         "sendDataToCloud",
         "lasso2d",
         "autoScale2d",
         "select2d",
         "zoom2d",
         "pan2d",
         "zoomIn2d",
         "zoomOut2d",
         "resetScale2d",
         "toggleSpikelines",
         "hoverCompareCartesian",
         "hoverClosestCartesian"
        ],
        "plotlyServerURL": "https://plot.ly",
        "staticPlot": false,
        "toImageButtonOptions": {
         "height": null,
         "width": null
        }
       },
       "data": [
        {
         "alignmentgroup": "True",
         "base": [
          0.2651511674861168,
          0.2651511674861168,
          0.2651511674861168,
          0.2651511674861168
         ],
         "customdata": [
          [
           0.2628042265257442,
           "Logistic Regression",
           "gender"
          ],
          [
           0.27574334695430813,
           "Logistic Regression",
           "gender"
          ],
          [
           0.19265445277623278,
           "Logistic Regression",
           "gender"
          ],
          [
           0.24575220758347427,
           "Logistic Regression",
           "gender"
          ]
         ],
         "hovertemplate": "<b>%{hovertext}</b><br><br>mean_prediction=%{base:.3f}<br>prediction=%{customdata[0]:.3f}<extra></extra>",
         "hovertext": [
          "Logistic Regression",
          "Logistic Regression",
          "Logistic Regression",
          "Logistic Regression"
         ],
         "legendgroup": "Logistic Regression",
         "marker": {
          "color": "#46bac2",
          "pattern": {
           "shape": ""
          }
         },
         "name": "Logistic Regression",
         "offsetgroup": "Logistic Regression",
         "orientation": "v",
         "showlegend": true,
         "textposition": "auto",
         "type": "bar",
         "x": [
          "Male",
          "No data",
          "Other",
          "Female"
         ],
         "xaxis": "x",
         "y": [
          -0.002346940960372579,
          0.010592179468191354,
          -0.072496714709884,
          -0.01939895990264251
         ],
         "yaxis": "y"
        }
       ],
       "layout": {
        "annotations": [
         {
          "font": {
           "size": 13
          },
          "showarrow": false,
          "text": "gender",
          "x": 0.5,
          "xanchor": "center",
          "xref": "paper",
          "y": 1,
          "yanchor": "bottom",
          "yref": "paper"
         },
         {
          "font": {
           "size": 13
          },
          "showarrow": false,
          "text": "prediction",
          "textangle": -90,
          "x": -0.07,
          "xref": "paper",
          "y": 0.5,
          "yref": "paper"
         }
        ],
        "barmode": "group",
        "font": {
         "color": "#371ea3"
        },
        "height": 489,
        "hovermode": "x unified",
        "legend": {
         "font": {
          "size": 11
         },
         "itemsizing": "constant",
         "orientation": "h",
         "title": {
          "font": {
           "size": 12
          },
          "text": "label"
         },
         "tracegroupgap": 0,
         "x": 1,
         "xanchor": "right",
         "y": 1.0613496932515338,
         "yanchor": "bottom"
        },
        "margin": {
         "b": 71,
         "r": 30,
         "t": 78
        },
        "shapes": [
         {
          "layer": "below",
          "line": {
           "color": "#371ea3",
           "dash": "dot",
           "width": 1.5
          },
          "type": "line",
          "x0": 0,
          "x1": 1,
          "xref": "x domain",
          "y0": 0.2651511674861168,
          "y1": 0.2651511674861168,
          "yref": "y"
         }
        ],
        "template": {
         "data": {
          "scatter": [
           {
            "type": "scatter"
           }
          ]
         }
        },
        "title": {
         "font": {
          "size": 16
         },
         "text": "PDP for gender",
         "x": 0.15
        },
        "xaxis": {
         "anchor": "y",
         "automargin": true,
         "domain": [
          0,
          1
         ],
         "fixedrange": true,
         "gridwidth": 2,
         "showticklabels": true,
         "tickcolor": "white",
         "ticklen": 10,
         "ticks": "outside",
         "title": {
          "text": ""
         },
         "type": "category"
        },
        "yaxis": {
         "anchor": "x",
         "automargin": true,
         "domain": [
          0,
          1
         ],
         "fixedrange": true,
         "gridwidth": 2,
         "range": [
          0.18434556335842525,
          0.2840522363721157
         ],
         "tickcolor": "white",
         "ticklen": 3,
         "ticks": "outside",
         "title": {
          "text": ""
         },
         "type": "linear",
         "zeroline": false
        }
       }
      }
     },
     "metadata": {},
     "output_type": "display_data"
    }
   ],
   "source": [
    "pdp_gender = exp.model_profile(variables=['gender'], variable_type='categorical')\n",
    "pdp_gender.plot(title=\"PDP for gender\")"
   ]
  },
  {
   "cell_type": "code",
   "execution_count": 1047,
   "metadata": {},
   "outputs": [
    {
     "name": "stderr",
     "output_type": "stream",
     "text": [
      "Calculating ceteris paribus: 100%|██████████| 1/1 [00:00<00:00, 99.98it/s]\n"
     ]
    },
    {
     "data": {
      "application/vnd.plotly.v1+json": {
       "config": {
        "displaylogo": false,
        "modeBarButtonsToRemove": [
         "sendDataToCloud",
         "lasso2d",
         "autoScale2d",
         "select2d",
         "zoom2d",
         "pan2d",
         "zoomIn2d",
         "zoomOut2d",
         "resetScale2d",
         "toggleSpikelines",
         "hoverCompareCartesian",
         "hoverClosestCartesian"
        ],
        "plotlyServerURL": "https://plot.ly",
        "staticPlot": false,
        "toImageButtonOptions": {
         "height": null,
         "width": null
        }
       },
       "data": [
        {
         "alignmentgroup": "True",
         "base": [
          0.257841283821069,
          0.257841283821069
         ],
         "customdata": [
          [
           0.23387883343785593,
           "Logistic Regression",
           "relevent_experience"
          ],
          [
           0.3174278341959746,
           "Logistic Regression",
           "relevent_experience"
          ]
         ],
         "hovertemplate": "<b>%{hovertext}</b><br><br>mean_prediction=%{base:.3f}<br>prediction=%{customdata[0]:.3f}<extra></extra>",
         "hovertext": [
          "Logistic Regression",
          "Logistic Regression"
         ],
         "legendgroup": "Logistic Regression",
         "marker": {
          "color": "#46bac2",
          "pattern": {
           "shape": ""
          }
         },
         "name": "Logistic Regression",
         "offsetgroup": "Logistic Regression",
         "orientation": "v",
         "showlegend": true,
         "textposition": "auto",
         "type": "bar",
         "x": [
          "Has relevent experience",
          "No relevent experience"
         ],
         "xaxis": "x",
         "y": [
          -0.023962450383213096,
          0.05958655037490557
         ],
         "yaxis": "y"
        }
       ],
       "layout": {
        "annotations": [
         {
          "font": {
           "size": 13
          },
          "showarrow": false,
          "text": "relevent_experience",
          "x": 0.5,
          "xanchor": "center",
          "xref": "paper",
          "y": 1,
          "yanchor": "bottom",
          "yref": "paper"
         },
         {
          "font": {
           "size": 13
          },
          "showarrow": false,
          "text": "prediction",
          "textangle": -90,
          "x": -0.07,
          "xref": "paper",
          "y": 0.5,
          "yref": "paper"
         }
        ],
        "barmode": "group",
        "font": {
         "color": "#371ea3"
        },
        "height": 489,
        "hovermode": "x unified",
        "legend": {
         "font": {
          "size": 11
         },
         "itemsizing": "constant",
         "orientation": "h",
         "title": {
          "font": {
           "size": 12
          },
          "text": "label"
         },
         "tracegroupgap": 0,
         "x": 1,
         "xanchor": "right",
         "y": 1.0613496932515338,
         "yanchor": "bottom"
        },
        "margin": {
         "b": 71,
         "r": 30,
         "t": 78
        },
        "shapes": [
         {
          "layer": "below",
          "line": {
           "color": "#371ea3",
           "dash": "dot",
           "width": 1.5
          },
          "type": "line",
          "x0": 0,
          "x1": 1,
          "xref": "x domain",
          "y0": 0.257841283821069,
          "y1": 0.257841283821069,
          "yref": "y"
         }
        ],
        "template": {
         "data": {
          "scatter": [
           {
            "type": "scatter"
           }
          ]
         }
        },
        "title": {
         "font": {
          "size": 16
         },
         "text": "PDP for relevent_experience",
         "x": 0.15
        },
        "xaxis": {
         "anchor": "y",
         "automargin": true,
         "domain": [
          0,
          1
         ],
         "fixedrange": true,
         "gridwidth": 2,
         "showticklabels": true,
         "tickcolor": "white",
         "ticklen": 10,
         "ticks": "outside",
         "title": {
          "text": ""
         },
         "type": "category"
        },
        "yaxis": {
         "anchor": "x",
         "automargin": true,
         "domain": [
          0,
          1
         ],
         "fixedrange": true,
         "gridwidth": 2,
         "range": [
          0.22552393336204407,
          0.32578273427178644
         ],
         "tickcolor": "white",
         "ticklen": 3,
         "ticks": "outside",
         "title": {
          "text": ""
         },
         "type": "linear",
         "zeroline": false
        }
       }
      }
     },
     "metadata": {},
     "output_type": "display_data"
    }
   ],
   "source": [
    "pdp_experience = exp.model_profile(variables=['relevent_experience'], variable_type='categorical')\n",
    "pdp_experience.plot(title=\"PDP for relevent_experience\")"
   ]
  },
  {
   "cell_type": "code",
   "execution_count": 1048,
   "metadata": {},
   "outputs": [
    {
     "name": "stderr",
     "output_type": "stream",
     "text": [
      "Calculating ceteris paribus: 100%|██████████| 1/1 [00:00<00:00, 76.93it/s]\n"
     ]
    },
    {
     "data": {
      "application/vnd.plotly.v1+json": {
       "config": {
        "displaylogo": false,
        "modeBarButtonsToRemove": [
         "sendDataToCloud",
         "lasso2d",
         "autoScale2d",
         "select2d",
         "zoom2d",
         "pan2d",
         "zoomIn2d",
         "zoomOut2d",
         "resetScale2d",
         "toggleSpikelines",
         "hoverCompareCartesian",
         "hoverClosestCartesian"
        ],
        "plotlyServerURL": "https://plot.ly",
        "staticPlot": false,
        "toImageButtonOptions": {
         "height": null,
         "width": null
        }
       },
       "data": [
        {
         "alignmentgroup": "True",
         "base": [
          0.2597789204713248,
          0.2597789204713248,
          0.2597789204713248,
          0.2597789204713248
         ],
         "customdata": [
          [
           0.23879764385459784,
           "Logistic Regression",
           "enrolled_university"
          ],
          [
           0.27491238502455895,
           "Logistic Regression",
           "enrolled_university"
          ],
          [
           0.19201629998588518,
           "Logistic Regression",
           "enrolled_university"
          ],
          [
           0.2865400431615033,
           "Logistic Regression",
           "enrolled_university"
          ]
         ],
         "hovertemplate": "<b>%{hovertext}</b><br><br>mean_prediction=%{base:.3f}<br>prediction=%{customdata[0]:.3f}<extra></extra>",
         "hovertext": [
          "Logistic Regression",
          "Logistic Regression",
          "Logistic Regression",
          "Logistic Regression"
         ],
         "legendgroup": "Logistic Regression",
         "marker": {
          "color": "#46bac2",
          "pattern": {
           "shape": ""
          }
         },
         "name": "Logistic Regression",
         "offsetgroup": "Logistic Regression",
         "orientation": "v",
         "showlegend": true,
         "textposition": "auto",
         "type": "bar",
         "x": [
          "Full time course",
          "no_enrollment",
          "Part time course",
          "No data"
         ],
         "xaxis": "x",
         "y": [
          -0.02098127661672694,
          0.015133464553234166,
          -0.0677626204854396,
          0.026761122690178496
         ],
         "yaxis": "y"
        }
       ],
       "layout": {
        "annotations": [
         {
          "font": {
           "size": 13
          },
          "showarrow": false,
          "text": "enrolled_university",
          "x": 0.5,
          "xanchor": "center",
          "xref": "paper",
          "y": 1,
          "yanchor": "bottom",
          "yref": "paper"
         },
         {
          "font": {
           "size": 13
          },
          "showarrow": false,
          "text": "prediction",
          "textangle": -90,
          "x": -0.07,
          "xref": "paper",
          "y": 0.5,
          "yref": "paper"
         }
        ],
        "barmode": "group",
        "font": {
         "color": "#371ea3"
        },
        "height": 489,
        "hovermode": "x unified",
        "legend": {
         "font": {
          "size": 11
         },
         "itemsizing": "constant",
         "orientation": "h",
         "title": {
          "font": {
           "size": 12
          },
          "text": "label"
         },
         "tracegroupgap": 0,
         "x": 1,
         "xanchor": "right",
         "y": 1.0613496932515338,
         "yanchor": "bottom"
        },
        "margin": {
         "b": 71,
         "r": 30,
         "t": 78
        },
        "shapes": [
         {
          "layer": "below",
          "line": {
           "color": "#371ea3",
           "dash": "dot",
           "width": 1.5
          },
          "type": "line",
          "x0": 0,
          "x1": 1,
          "xref": "x domain",
          "y0": 0.2597789204713248,
          "y1": 0.2597789204713248,
          "yref": "y"
         }
        ],
        "template": {
         "data": {
          "scatter": [
           {
            "type": "scatter"
           }
          ]
         }
        },
        "title": {
         "font": {
          "size": 16
         },
         "text": "PDP for enrolled_university",
         "x": 0.15
        },
        "xaxis": {
         "anchor": "y",
         "automargin": true,
         "domain": [
          0,
          1
         ],
         "fixedrange": true,
         "gridwidth": 2,
         "showticklabels": true,
         "tickcolor": "white",
         "ticklen": 10,
         "ticks": "outside",
         "title": {
          "text": ""
         },
         "type": "category"
        },
        "yaxis": {
         "anchor": "x",
         "automargin": true,
         "domain": [
          0,
          1
         ],
         "fixedrange": true,
         "gridwidth": 2,
         "range": [
          0.18256392566832336,
          0.2959924174790651
         ],
         "tickcolor": "white",
         "ticklen": 3,
         "ticks": "outside",
         "title": {
          "text": ""
         },
         "type": "linear",
         "zeroline": false
        }
       }
      }
     },
     "metadata": {},
     "output_type": "display_data"
    }
   ],
   "source": [
    "pdp_experience = exp.model_profile(variables=['enrolled_university'], variable_type='categorical')\n",
    "pdp_experience.plot(title=\"PDP for enrolled_university\")"
   ]
  },
  {
   "cell_type": "code",
   "execution_count": 1049,
   "metadata": {},
   "outputs": [
    {
     "name": "stderr",
     "output_type": "stream",
     "text": [
      "Calculating ceteris paribus: 100%|██████████| 1/1 [00:00<00:00, 83.30it/s]\n"
     ]
    },
    {
     "data": {
      "application/vnd.plotly.v1+json": {
       "config": {
        "displaylogo": false,
        "modeBarButtonsToRemove": [
         "sendDataToCloud",
         "lasso2d",
         "autoScale2d",
         "select2d",
         "zoom2d",
         "pan2d",
         "zoomIn2d",
         "zoomOut2d",
         "resetScale2d",
         "toggleSpikelines",
         "hoverCompareCartesian",
         "hoverClosestCartesian"
        ],
        "plotlyServerURL": "https://plot.ly",
        "staticPlot": false,
        "toImageButtonOptions": {
         "height": null,
         "width": null
        }
       },
       "data": [
        {
         "alignmentgroup": "True",
         "base": [
          0.27837892945807424,
          0.27837892945807424,
          0.27837892945807424,
          0.27837892945807424,
          0.27837892945807424,
          0.27837892945807424
         ],
         "customdata": [
          [
           0.2914937258186217,
           "Logistic Regression",
           "education_level"
          ],
          [
           0.22623947343478737,
           "Logistic Regression",
           "education_level"
          ],
          [
           0.2981624909305429,
           "Logistic Regression",
           "education_level"
          ],
          [
           0.09333362893806212,
           "Logistic Regression",
           "education_level"
          ],
          [
           0.2163641733620504,
           "Logistic Regression",
           "education_level"
          ],
          [
           0.2936674749226288,
           "Logistic Regression",
           "education_level"
          ]
         ],
         "hovertemplate": "<b>%{hovertext}</b><br><br>mean_prediction=%{base:.3f}<br>prediction=%{customdata[0]:.3f}<extra></extra>",
         "hovertext": [
          "Logistic Regression",
          "Logistic Regression",
          "Logistic Regression",
          "Logistic Regression",
          "Logistic Regression",
          "Logistic Regression"
         ],
         "legendgroup": "Logistic Regression",
         "marker": {
          "color": "#46bac2",
          "pattern": {
           "shape": ""
          }
         },
         "name": "Logistic Regression",
         "offsetgroup": "Logistic Regression",
         "orientation": "v",
         "showlegend": true,
         "textposition": "auto",
         "type": "bar",
         "x": [
          "High School",
          "Masters",
          "Graduate",
          "Primary School",
          "Phd",
          "No data"
         ],
         "xaxis": "x",
         "y": [
          0.013114796360547465,
          -0.05213945602328687,
          0.01978356147246868,
          -0.1850453005200121,
          -0.06201475609602383,
          0.015288545464554548
         ],
         "yaxis": "y"
        }
       ],
       "layout": {
        "annotations": [
         {
          "font": {
           "size": 13
          },
          "showarrow": false,
          "text": "education_level",
          "x": 0.5,
          "xanchor": "center",
          "xref": "paper",
          "y": 1,
          "yanchor": "bottom",
          "yref": "paper"
         },
         {
          "font": {
           "size": 13
          },
          "showarrow": false,
          "text": "prediction",
          "textangle": -90,
          "x": -0.07,
          "xref": "paper",
          "y": 0.5,
          "yref": "paper"
         }
        ],
        "barmode": "group",
        "font": {
         "color": "#371ea3"
        },
        "height": 489,
        "hovermode": "x unified",
        "legend": {
         "font": {
          "size": 11
         },
         "itemsizing": "constant",
         "orientation": "h",
         "title": {
          "font": {
           "size": 12
          },
          "text": "label"
         },
         "tracegroupgap": 0,
         "x": 1,
         "xanchor": "right",
         "y": 1.0613496932515338,
         "yanchor": "bottom"
        },
        "margin": {
         "b": 71,
         "r": 30,
         "t": 78
        },
        "shapes": [
         {
          "layer": "below",
          "line": {
           "color": "#371ea3",
           "dash": "dot",
           "width": 1.5
          },
          "type": "line",
          "x0": 0,
          "x1": 1,
          "xref": "x domain",
          "y0": 0.27837892945807424,
          "y1": 0.27837892945807424,
          "yref": "y"
         }
        ],
        "template": {
         "data": {
          "scatter": [
           {
            "type": "scatter"
           }
          ]
         }
        },
        "title": {
         "font": {
          "size": 16
         },
         "text": "PDP for education_level",
         "x": 0.15
        },
        "xaxis": {
         "anchor": "y",
         "automargin": true,
         "domain": [
          0,
          1
         ],
         "fixedrange": true,
         "gridwidth": 2,
         "showticklabels": true,
         "tickcolor": "white",
         "ticklen": 10,
         "ticks": "outside",
         "title": {
          "text": ""
         },
         "type": "category"
        },
        "yaxis": {
         "anchor": "x",
         "automargin": true,
         "domain": [
          0,
          1
         ],
         "fixedrange": true,
         "gridwidth": 2,
         "range": [
          0.07285074273881403,
          0.318645377129791
         ],
         "tickcolor": "white",
         "ticklen": 3,
         "ticks": "outside",
         "title": {
          "text": ""
         },
         "type": "linear",
         "zeroline": false
        }
       }
      }
     },
     "metadata": {},
     "output_type": "display_data"
    }
   ],
   "source": [
    "pdp_experience = exp.model_profile(variables=['education_level'], variable_type='categorical')\n",
    "pdp_experience.plot(title=\"PDP for education_level\")"
   ]
  },
  {
   "cell_type": "code",
   "execution_count": 1050,
   "metadata": {},
   "outputs": [
    {
     "name": "stderr",
     "output_type": "stream",
     "text": [
      "Calculating ceteris paribus: 100%|██████████| 1/1 [00:00<00:00, 83.33it/s]\n"
     ]
    },
    {
     "data": {
      "application/vnd.plotly.v1+json": {
       "config": {
        "displaylogo": false,
        "modeBarButtonsToRemove": [
         "sendDataToCloud",
         "lasso2d",
         "autoScale2d",
         "select2d",
         "zoom2d",
         "pan2d",
         "zoomIn2d",
         "zoomOut2d",
         "resetScale2d",
         "toggleSpikelines",
         "hoverCompareCartesian",
         "hoverClosestCartesian"
        ],
        "plotlyServerURL": "https://plot.ly",
        "staticPlot": false,
        "toImageButtonOptions": {
         "height": null,
         "width": null
        }
       },
       "data": [
        {
         "alignmentgroup": "True",
         "base": [
          0.2849675033333756,
          0.2849675033333756,
          0.2849675033333756,
          0.2849675033333756,
          0.2849675033333756,
          0.2849675033333756,
          0.2849675033333756
         ],
         "customdata": [
          [
           0.27105429049372187,
           "Logistic Regression",
           "major_discipline"
          ],
          [
           0.2894669381699022,
           "Logistic Regression",
           "major_discipline"
          ],
          [
           0.40373930123117663,
           "Logistic Regression",
           "major_discipline"
          ],
          [
           0.3819963332787186,
           "Logistic Regression",
           "major_discipline"
          ],
          [
           0.2362266168463483,
           "Logistic Regression",
           "major_discipline"
          ],
          [
           0.1778945909283439,
           "Logistic Regression",
           "major_discipline"
          ],
          [
           0.2593990664730795,
           "Logistic Regression",
           "major_discipline"
          ]
         ],
         "hovertemplate": "<b>%{hovertext}</b><br><br>mean_prediction=%{base:.3f}<br>prediction=%{customdata[0]:.3f}<extra></extra>",
         "hovertext": [
          "Logistic Regression",
          "Logistic Regression",
          "Logistic Regression",
          "Logistic Regression",
          "Logistic Regression",
          "Logistic Regression",
          "Logistic Regression"
         ],
         "legendgroup": "Logistic Regression",
         "marker": {
          "color": "#46bac2",
          "pattern": {
           "shape": ""
          }
         },
         "name": "Logistic Regression",
         "offsetgroup": "Logistic Regression",
         "orientation": "v",
         "showlegend": true,
         "textposition": "auto",
         "type": "bar",
         "x": [
          "No data",
          "STEM",
          "Business Degree",
          "Other",
          "Arts",
          "Humanities",
          "No Major"
         ],
         "xaxis": "x",
         "y": [
          -0.013913212839653744,
          0.004499434836526595,
          0.11877179789780101,
          0.09702882994534301,
          -0.04874088648702732,
          -0.10707291240503172,
          -0.02556843686029614
         ],
         "yaxis": "y"
        }
       ],
       "layout": {
        "annotations": [
         {
          "font": {
           "size": 13
          },
          "showarrow": false,
          "text": "major_discipline",
          "x": 0.5,
          "xanchor": "center",
          "xref": "paper",
          "y": 1,
          "yanchor": "bottom",
          "yref": "paper"
         },
         {
          "font": {
           "size": 13
          },
          "showarrow": false,
          "text": "prediction",
          "textangle": -90,
          "x": -0.07,
          "xref": "paper",
          "y": 0.5,
          "yref": "paper"
         }
        ],
        "barmode": "group",
        "font": {
         "color": "#371ea3"
        },
        "height": 489,
        "hovermode": "x unified",
        "legend": {
         "font": {
          "size": 11
         },
         "itemsizing": "constant",
         "orientation": "h",
         "title": {
          "font": {
           "size": 12
          },
          "text": "label"
         },
         "tracegroupgap": 0,
         "x": 1,
         "xanchor": "right",
         "y": 1.0613496932515338,
         "yanchor": "bottom"
        },
        "margin": {
         "b": 71,
         "r": 30,
         "t": 78
        },
        "shapes": [
         {
          "layer": "below",
          "line": {
           "color": "#371ea3",
           "dash": "dot",
           "width": 1.5
          },
          "type": "line",
          "x0": 0,
          "x1": 1,
          "xref": "x domain",
          "y0": 0.2849675033333756,
          "y1": 0.2849675033333756,
          "yref": "y"
         }
        ],
        "template": {
         "data": {
          "scatter": [
           {
            "type": "scatter"
           }
          ]
         }
        },
        "title": {
         "font": {
          "size": 16
         },
         "text": "PDP for major_discipline",
         "x": 0.15
        },
        "xaxis": {
         "anchor": "y",
         "automargin": true,
         "domain": [
          0,
          1
         ],
         "fixedrange": true,
         "gridwidth": 2,
         "showticklabels": true,
         "tickcolor": "white",
         "ticklen": 10,
         "ticks": "outside",
         "title": {
          "text": ""
         },
         "type": "category"
        },
        "yaxis": {
         "anchor": "x",
         "automargin": true,
         "domain": [
          0,
          1
         ],
         "fixedrange": true,
         "gridwidth": 2,
         "range": [
          0.15531011989806062,
          0.4263237722614599
         ],
         "tickcolor": "white",
         "ticklen": 3,
         "ticks": "outside",
         "title": {
          "text": ""
         },
         "type": "linear",
         "zeroline": false
        }
       }
      }
     },
     "metadata": {},
     "output_type": "display_data"
    }
   ],
   "source": [
    "pdp_experience = exp.model_profile(variables=['major_discipline'], variable_type='categorical')\n",
    "pdp_experience.plot(title=\"PDP for major_discipline\")"
   ]
  },
  {
   "cell_type": "code",
   "execution_count": 1051,
   "metadata": {},
   "outputs": [
    {
     "name": "stderr",
     "output_type": "stream",
     "text": [
      "Calculating ceteris paribus: 100%|██████████| 1/1 [00:00<00:00, 38.46it/s]\n"
     ]
    },
    {
     "data": {
      "application/vnd.plotly.v1+json": {
       "config": {
        "displaylogo": false,
        "modeBarButtonsToRemove": [
         "sendDataToCloud",
         "lasso2d",
         "autoScale2d",
         "select2d",
         "zoom2d",
         "pan2d",
         "zoomIn2d",
         "zoomOut2d",
         "resetScale2d",
         "toggleSpikelines",
         "hoverCompareCartesian",
         "hoverClosestCartesian"
        ],
        "plotlyServerURL": "https://plot.ly",
        "staticPlot": false,
        "toImageButtonOptions": {
         "height": null,
         "width": null
        }
       },
       "data": [
        {
         "alignmentgroup": "True",
         "base": [
          0.27596076015295684,
          0.27596076015295684,
          0.27596076015295684,
          0.27596076015295684,
          0.27596076015295684,
          0.27596076015295684,
          0.27596076015295684,
          0.27596076015295684,
          0.27596076015295684,
          0.27596076015295684,
          0.27596076015295684,
          0.27596076015295684,
          0.27596076015295684,
          0.27596076015295684,
          0.27596076015295684,
          0.27596076015295684,
          0.27596076015295684,
          0.27596076015295684,
          0.27596076015295684,
          0.27596076015295684,
          0.27596076015295684,
          0.27596076015295684,
          0.27596076015295684
         ],
         "customdata": [
          [
           0.33361519308347065,
           "Logistic Regression",
           "experience"
          ],
          [
           0.352924351640745,
           "Logistic Regression",
           "experience"
          ],
          [
           0.34918494501644254,
           "Logistic Regression",
           "experience"
          ],
          [
           0.34098053898532615,
           "Logistic Regression",
           "experience"
          ],
          [
           0.31699241718293186,
           "Logistic Regression",
           "experience"
          ],
          [
           0.12960849807703334,
           "Logistic Regression",
           "experience"
          ],
          [
           0.3762947998596575,
           "Logistic Regression",
           "experience"
          ],
          [
           0.1741482638588415,
           "Logistic Regression",
           "experience"
          ],
          [
           0.3075395548269545,
           "Logistic Regression",
           "experience"
          ],
          [
           0.18332324270481695,
           "Logistic Regression",
           "experience"
          ],
          [
           0.14974461938358075,
           "Logistic Regression",
           "experience"
          ],
          [
           0.26321811473857476,
           "Logistic Regression",
           "experience"
          ],
          [
           0.30548462348149785,
           "Logistic Regression",
           "experience"
          ],
          [
           0.2665312677532881,
           "Logistic Regression",
           "experience"
          ],
          [
           0.22895138908192356,
           "Logistic Regression",
           "experience"
          ],
          [
           0.3217765939371251,
           "Logistic Regression",
           "experience"
          ],
          [
           0.2116412062664668,
           "Logistic Regression",
           "experience"
          ],
          [
           0.19067929120063346,
           "Logistic Regression",
           "experience"
          ],
          [
           0.27585030268133337,
           "Logistic Regression",
           "experience"
          ],
          [
           0.2051863335614355,
           "Logistic Regression",
           "experience"
          ],
          [
           0.24970680340092632,
           "Logistic Regression",
           "experience"
          ],
          [
           0.2904388492756027,
           "Logistic Regression",
           "experience"
          ],
          [
           0.383180447302288,
           "Logistic Regression",
           "experience"
          ]
         ],
         "hovertemplate": "<b>%{hovertext}</b><br><br>mean_prediction=%{base:.3f}<br>prediction=%{customdata[0]:.3f}<extra></extra>",
         "hovertext": [
          "Logistic Regression",
          "Logistic Regression",
          "Logistic Regression",
          "Logistic Regression",
          "Logistic Regression",
          "Logistic Regression",
          "Logistic Regression",
          "Logistic Regression",
          "Logistic Regression",
          "Logistic Regression",
          "Logistic Regression",
          "Logistic Regression",
          "Logistic Regression",
          "Logistic Regression",
          "Logistic Regression",
          "Logistic Regression",
          "Logistic Regression",
          "Logistic Regression",
          "Logistic Regression",
          "Logistic Regression",
          "Logistic Regression",
          "Logistic Regression",
          "Logistic Regression"
         ],
         "legendgroup": "Logistic Regression",
         "marker": {
          "color": "#46bac2",
          "pattern": {
           "shape": ""
          }
         },
         "name": "Logistic Regression",
         "offsetgroup": "Logistic Regression",
         "orientation": "v",
         "showlegend": true,
         "textposition": "auto",
         "type": "bar",
         "x": [
          "7",
          "5",
          "1",
          "4",
          "10",
          "17",
          "12",
          "3",
          ">20",
          "2",
          "19",
          "11",
          "14",
          "13",
          "8",
          "9",
          "16",
          "<1",
          "6",
          "18",
          "20",
          "15",
          "No data"
         ],
         "xaxis": "x",
         "y": [
          0.05765443293051381,
          0.07696359148778814,
          0.0732241848634857,
          0.06501977883236931,
          0.04103165702997502,
          -0.1463522620759235,
          0.10033403970670068,
          -0.10181249629411535,
          0.03157879467399766,
          -0.09263751744813989,
          -0.1262161407693761,
          -0.012742645414382081,
          0.02952386332854101,
          -0.009429492399668726,
          -0.047009371071033285,
          0.04581583378416826,
          -0.06431955388649005,
          -0.08528146895232339,
          -0.00011045747162347075,
          -0.07077442659152133,
          -0.026253956752030516,
          0.014478089122645865,
          0.10721968714933117
         ],
         "yaxis": "y"
        }
       ],
       "layout": {
        "annotations": [
         {
          "font": {
           "size": 13
          },
          "showarrow": false,
          "text": "experience",
          "x": 0.5,
          "xanchor": "center",
          "xref": "paper",
          "y": 1,
          "yanchor": "bottom",
          "yref": "paper"
         },
         {
          "font": {
           "size": 13
          },
          "showarrow": false,
          "text": "prediction",
          "textangle": -90,
          "x": -0.07,
          "xref": "paper",
          "y": 0.5,
          "yref": "paper"
         }
        ],
        "barmode": "group",
        "font": {
         "color": "#371ea3"
        },
        "height": 489,
        "hovermode": "x unified",
        "legend": {
         "font": {
          "size": 11
         },
         "itemsizing": "constant",
         "orientation": "h",
         "title": {
          "font": {
           "size": 12
          },
          "text": "label"
         },
         "tracegroupgap": 0,
         "x": 1,
         "xanchor": "right",
         "y": 1.0613496932515338,
         "yanchor": "bottom"
        },
        "margin": {
         "b": 71,
         "r": 30,
         "t": 78
        },
        "shapes": [
         {
          "layer": "below",
          "line": {
           "color": "#371ea3",
           "dash": "dot",
           "width": 1.5
          },
          "type": "line",
          "x0": 0,
          "x1": 1,
          "xref": "x domain",
          "y0": 0.27596076015295684,
          "y1": 0.27596076015295684,
          "yref": "y"
         }
        ],
        "template": {
         "data": {
          "scatter": [
           {
            "type": "scatter"
           }
          ]
         }
        },
        "title": {
         "font": {
          "size": 16
         },
         "text": "PDP for experience",
         "x": 0.15
        },
        "xaxis": {
         "anchor": "y",
         "automargin": true,
         "domain": [
          0,
          1
         ],
         "fixedrange": true,
         "gridwidth": 2,
         "showticklabels": true,
         "tickcolor": "white",
         "ticklen": 10,
         "ticks": "outside",
         "title": {
          "text": ""
         },
         "type": "category"
        },
        "yaxis": {
         "anchor": "x",
         "automargin": true,
         "domain": [
          0,
          1
         ],
         "fixedrange": true,
         "gridwidth": 2,
         "range": [
          0.10425130315450787,
          0.4085376422248135
         ],
         "tickcolor": "white",
         "ticklen": 3,
         "ticks": "outside",
         "title": {
          "text": ""
         },
         "type": "linear",
         "zeroline": false
        }
       }
      }
     },
     "metadata": {},
     "output_type": "display_data"
    }
   ],
   "source": [
    "pdp_experience = exp.model_profile(variables=['experience'], variable_type='categorical')\n",
    "pdp_experience.plot(title=\"PDP for experience\")"
   ]
  },
  {
   "cell_type": "code",
   "execution_count": 1052,
   "metadata": {},
   "outputs": [
    {
     "name": "stderr",
     "output_type": "stream",
     "text": [
      "Calculating ceteris paribus: 100%|██████████| 1/1 [00:00<00:00, 76.93it/s]\n"
     ]
    },
    {
     "data": {
      "application/vnd.plotly.v1+json": {
       "config": {
        "displaylogo": false,
        "modeBarButtonsToRemove": [
         "sendDataToCloud",
         "lasso2d",
         "autoScale2d",
         "select2d",
         "zoom2d",
         "pan2d",
         "zoomIn2d",
         "zoomOut2d",
         "resetScale2d",
         "toggleSpikelines",
         "hoverCompareCartesian",
         "hoverClosestCartesian"
        ],
        "plotlyServerURL": "https://plot.ly",
        "staticPlot": false,
        "toImageButtonOptions": {
         "height": null,
         "width": null
        }
       },
       "data": [
        {
         "alignmentgroup": "True",
         "base": [
          0.26605693987548723,
          0.26605693987548723,
          0.26605693987548723,
          0.26605693987548723,
          0.26605693987548723,
          0.26605693987548723,
          0.26605693987548723,
          0.26605693987548723,
          0.26605693987548723
         ],
         "customdata": [
          [
           0.4622538693675538,
           "Logistic Regression",
           "company_size"
          ],
          [
           0.19793533725471874,
           "Logistic Regression",
           "company_size"
          ],
          [
           0.29734655233326934,
           "Logistic Regression",
           "company_size"
          ],
          [
           0.22158933841541303,
           "Logistic Regression",
           "company_size"
          ],
          [
           0.11710367430882886,
           "Logistic Regression",
           "company_size"
          ],
          [
           0.18937985599620846,
           "Logistic Regression",
           "company_size"
          ],
          [
           0.16478176257617672,
           "Logistic Regression",
           "company_size"
          ],
          [
           0.32410196512568945,
           "Logistic Regression",
           "company_size"
          ],
          [
           0.15179099394070178,
           "Logistic Regression",
           "company_size"
          ]
         ],
         "hovertemplate": "<b>%{hovertext}</b><br><br>mean_prediction=%{base:.3f}<br>prediction=%{customdata[0]:.3f}<extra></extra>",
         "hovertext": [
          "Logistic Regression",
          "Logistic Regression",
          "Logistic Regression",
          "Logistic Regression",
          "Logistic Regression",
          "Logistic Regression",
          "Logistic Regression",
          "Logistic Regression",
          "Logistic Regression"
         ],
         "legendgroup": "Logistic Regression",
         "marker": {
          "color": "#46bac2",
          "pattern": {
           "shape": ""
          }
         },
         "name": "Logistic Regression",
         "offsetgroup": "Logistic Regression",
         "orientation": "v",
         "showlegend": true,
         "textposition": "auto",
         "type": "bar",
         "x": [
          "No data",
          "1000-4999",
          "5000-9999",
          "10/49",
          "50-99",
          "10000+",
          "100-500",
          "500-999",
          "<10"
         ],
         "xaxis": "x",
         "y": [
          0.19619692949206657,
          -0.0681216026207685,
          0.03128961245778211,
          -0.044467601460074196,
          -0.1489532655666584,
          -0.07667708387927877,
          -0.10127517729931051,
          0.05804502525020222,
          -0.11426594593478545
         ],
         "yaxis": "y"
        }
       ],
       "layout": {
        "annotations": [
         {
          "font": {
           "size": 13
          },
          "showarrow": false,
          "text": "company_size",
          "x": 0.5,
          "xanchor": "center",
          "xref": "paper",
          "y": 1,
          "yanchor": "bottom",
          "yref": "paper"
         },
         {
          "font": {
           "size": 13
          },
          "showarrow": false,
          "text": "prediction",
          "textangle": -90,
          "x": -0.07,
          "xref": "paper",
          "y": 0.5,
          "yref": "paper"
         }
        ],
        "barmode": "group",
        "font": {
         "color": "#371ea3"
        },
        "height": 489,
        "hovermode": "x unified",
        "legend": {
         "font": {
          "size": 11
         },
         "itemsizing": "constant",
         "orientation": "h",
         "title": {
          "font": {
           "size": 12
          },
          "text": "label"
         },
         "tracegroupgap": 0,
         "x": 1,
         "xanchor": "right",
         "y": 1.0613496932515338,
         "yanchor": "bottom"
        },
        "margin": {
         "b": 71,
         "r": 30,
         "t": 78
        },
        "shapes": [
         {
          "layer": "below",
          "line": {
           "color": "#371ea3",
           "dash": "dot",
           "width": 1.5
          },
          "type": "line",
          "x0": 0,
          "x1": 1,
          "xref": "x domain",
          "y0": 0.26605693987548723,
          "y1": 0.26605693987548723,
          "yref": "y"
         }
        ],
        "template": {
         "data": {
          "scatter": [
           {
            "type": "scatter"
           }
          ]
         }
        },
        "title": {
         "font": {
          "size": 16
         },
         "text": "PDP for comapny_size",
         "x": 0.15
        },
        "xaxis": {
         "anchor": "y",
         "automargin": true,
         "domain": [
          0,
          1
         ],
         "fixedrange": true,
         "gridwidth": 2,
         "showticklabels": true,
         "tickcolor": "white",
         "ticklen": 10,
         "ticks": "outside",
         "title": {
          "text": ""
         },
         "type": "category"
        },
        "yaxis": {
         "anchor": "x",
         "automargin": true,
         "domain": [
          0,
          1
         ],
         "fixedrange": true,
         "gridwidth": 2,
         "range": [
          0.08258865480295635,
          0.4967688888734263
         ],
         "tickcolor": "white",
         "ticklen": 3,
         "ticks": "outside",
         "title": {
          "text": ""
         },
         "type": "linear",
         "zeroline": false
        }
       }
      }
     },
     "metadata": {},
     "output_type": "display_data"
    }
   ],
   "source": [
    "pdp_experience = exp.model_profile(variables=['company_size'], variable_type='categorical')\n",
    "pdp_experience.plot(title=\"PDP for comapny_size\")"
   ]
  },
  {
   "cell_type": "code",
   "execution_count": 1053,
   "metadata": {},
   "outputs": [
    {
     "name": "stderr",
     "output_type": "stream",
     "text": [
      "Calculating ceteris paribus: 100%|██████████| 1/1 [00:00<00:00, 76.93it/s]\n"
     ]
    },
    {
     "data": {
      "application/vnd.plotly.v1+json": {
       "config": {
        "displaylogo": false,
        "modeBarButtonsToRemove": [
         "sendDataToCloud",
         "lasso2d",
         "autoScale2d",
         "select2d",
         "zoom2d",
         "pan2d",
         "zoomIn2d",
         "zoomOut2d",
         "resetScale2d",
         "toggleSpikelines",
         "hoverCompareCartesian",
         "hoverClosestCartesian"
        ],
        "plotlyServerURL": "https://plot.ly",
        "staticPlot": false,
        "toImageButtonOptions": {
         "height": null,
         "width": null
        }
       },
       "data": [
        {
         "alignmentgroup": "True",
         "base": [
          0.27241400955914485,
          0.27241400955914485,
          0.27241400955914485,
          0.27241400955914485,
          0.27241400955914485,
          0.27241400955914485,
          0.27241400955914485
         ],
         "customdata": [
          [
           0.2510481603928713,
           "Logistic Regression",
           "company_type"
          ],
          [
           0.34845721898075893,
           "Logistic Regression",
           "company_type"
          ],
          [
           0.2848406456444923,
           "Logistic Regression",
           "company_type"
          ],
          [
           0.3066389987689121,
           "Logistic Regression",
           "company_type"
          ],
          [
           0.23764251836662603,
           "Logistic Regression",
           "company_type"
          ],
          [
           0.3617551861012422,
           "Logistic Regression",
           "company_type"
          ],
          [
           0.21319927358795807,
           "Logistic Regression",
           "company_type"
          ]
         ],
         "hovertemplate": "<b>%{hovertext}</b><br><br>mean_prediction=%{base:.3f}<br>prediction=%{customdata[0]:.3f}<extra></extra>",
         "hovertext": [
          "Logistic Regression",
          "Logistic Regression",
          "Logistic Regression",
          "Logistic Regression",
          "Logistic Regression",
          "Logistic Regression",
          "Logistic Regression"
         ],
         "legendgroup": "Logistic Regression",
         "marker": {
          "color": "#46bac2",
          "pattern": {
           "shape": ""
          }
         },
         "name": "Logistic Regression",
         "offsetgroup": "Logistic Regression",
         "orientation": "v",
         "showlegend": true,
         "textposition": "auto",
         "type": "bar",
         "x": [
          "No data",
          "Other",
          "Pvt Ltd",
          "Public Sector",
          "NGO",
          "Early Stage Startup",
          "Funded Startup"
         ],
         "xaxis": "x",
         "y": [
          -0.021365849166273543,
          0.07604320942161408,
          0.012426636085347442,
          0.03422498920976724,
          -0.03477149119251882,
          0.08934117654209733,
          -0.05921473597118679
         ],
         "yaxis": "y"
        }
       ],
       "layout": {
        "annotations": [
         {
          "font": {
           "size": 13
          },
          "showarrow": false,
          "text": "company_type",
          "x": 0.5,
          "xanchor": "center",
          "xref": "paper",
          "y": 1,
          "yanchor": "bottom",
          "yref": "paper"
         },
         {
          "font": {
           "size": 13
          },
          "showarrow": false,
          "text": "prediction",
          "textangle": -90,
          "x": -0.07,
          "xref": "paper",
          "y": 0.5,
          "yref": "paper"
         }
        ],
        "barmode": "group",
        "font": {
         "color": "#371ea3"
        },
        "height": 489,
        "hovermode": "x unified",
        "legend": {
         "font": {
          "size": 11
         },
         "itemsizing": "constant",
         "orientation": "h",
         "title": {
          "font": {
           "size": 12
          },
          "text": "label"
         },
         "tracegroupgap": 0,
         "x": 1,
         "xanchor": "right",
         "y": 1.0613496932515338,
         "yanchor": "bottom"
        },
        "margin": {
         "b": 71,
         "r": 30,
         "t": 78
        },
        "shapes": [
         {
          "layer": "below",
          "line": {
           "color": "#371ea3",
           "dash": "dot",
           "width": 1.5
          },
          "type": "line",
          "x0": 0,
          "x1": 1,
          "xref": "x domain",
          "y0": 0.27241400955914485,
          "y1": 0.27241400955914485,
          "yref": "y"
         }
        ],
        "template": {
         "data": {
          "scatter": [
           {
            "type": "scatter"
           }
          ]
         }
        },
        "title": {
         "font": {
          "size": 16
         },
         "text": "PDP for company_type",
         "x": 0.15
        },
        "xaxis": {
         "anchor": "y",
         "automargin": true,
         "domain": [
          0,
          1
         ],
         "fixedrange": true,
         "gridwidth": 2,
         "showticklabels": true,
         "tickcolor": "white",
         "ticklen": 10,
         "ticks": "outside",
         "title": {
          "text": ""
         },
         "type": "category"
        },
        "yaxis": {
         "anchor": "x",
         "automargin": true,
         "domain": [
          0,
          1
         ],
         "fixedrange": true,
         "gridwidth": 2,
         "range": [
          0.19834368233662966,
          0.3766107773525706
         ],
         "tickcolor": "white",
         "ticklen": 3,
         "ticks": "outside",
         "title": {
          "text": ""
         },
         "type": "linear",
         "zeroline": false
        }
       }
      }
     },
     "metadata": {},
     "output_type": "display_data"
    }
   ],
   "source": [
    "pdp_experience = exp.model_profile(variables=['company_type'], variable_type='categorical')\n",
    "pdp_experience.plot(title=\"PDP for company_type\")"
   ]
  },
  {
   "cell_type": "code",
   "execution_count": 1054,
   "metadata": {},
   "outputs": [
    {
     "name": "stderr",
     "output_type": "stream",
     "text": [
      "Calculating ceteris paribus: 100%|██████████| 1/1 [00:00<00:00, 76.93it/s]\n"
     ]
    },
    {
     "data": {
      "application/vnd.plotly.v1+json": {
       "config": {
        "displaylogo": false,
        "modeBarButtonsToRemove": [
         "sendDataToCloud",
         "lasso2d",
         "autoScale2d",
         "select2d",
         "zoom2d",
         "pan2d",
         "zoomIn2d",
         "zoomOut2d",
         "resetScale2d",
         "toggleSpikelines",
         "hoverCompareCartesian",
         "hoverClosestCartesian"
        ],
        "plotlyServerURL": "https://plot.ly",
        "staticPlot": false,
        "toImageButtonOptions": {
         "height": null,
         "width": null
        }
       },
       "data": [
        {
         "alignmentgroup": "True",
         "base": [
          0.26888158203321666,
          0.26888158203321666,
          0.26888158203321666,
          0.26888158203321666,
          0.26888158203321666,
          0.26888158203321666,
          0.26888158203321666
         ],
         "customdata": [
          [
           0.2619858183088778,
           "Logistic Regression",
           "last_new_job"
          ],
          [
           0.2260828105071379,
           "Logistic Regression",
           "last_new_job"
          ],
          [
           0.3025844786902014,
           "Logistic Regression",
           "last_new_job"
          ],
          [
           0.25332489667480385,
           "Logistic Regression",
           "last_new_job"
          ],
          [
           0.23851757161321407,
           "Logistic Regression",
           "last_new_job"
          ],
          [
           0.33084392988476385,
           "Logistic Regression",
           "last_new_job"
          ],
          [
           0.32201525533123887,
           "Logistic Regression",
           "last_new_job"
          ]
         ],
         "hovertemplate": "<b>%{hovertext}</b><br><br>mean_prediction=%{base:.3f}<br>prediction=%{customdata[0]:.3f}<extra></extra>",
         "hovertext": [
          "Logistic Regression",
          "Logistic Regression",
          "Logistic Regression",
          "Logistic Regression",
          "Logistic Regression",
          "Logistic Regression",
          "Logistic Regression"
         ],
         "legendgroup": "Logistic Regression",
         "marker": {
          "color": "#46bac2",
          "pattern": {
           "shape": ""
          }
         },
         "name": "Logistic Regression",
         "offsetgroup": "Logistic Regression",
         "orientation": "v",
         "showlegend": true,
         "textposition": "auto",
         "type": "bar",
         "x": [
          "1",
          "never",
          ">4",
          "3",
          "4",
          "No data",
          "2"
         ],
         "xaxis": "x",
         "y": [
          -0.006895763724338866,
          -0.04279877152607875,
          0.03370289665698473,
          -0.015556685358412814,
          -0.030364010420002585,
          0.061962347851547195,
          0.05313367329802221
         ],
         "yaxis": "y"
        }
       ],
       "layout": {
        "annotations": [
         {
          "font": {
           "size": 13
          },
          "showarrow": false,
          "text": "last_new_job",
          "x": 0.5,
          "xanchor": "center",
          "xref": "paper",
          "y": 1,
          "yanchor": "bottom",
          "yref": "paper"
         },
         {
          "font": {
           "size": 13
          },
          "showarrow": false,
          "text": "prediction",
          "textangle": -90,
          "x": -0.07,
          "xref": "paper",
          "y": 0.5,
          "yref": "paper"
         }
        ],
        "barmode": "group",
        "font": {
         "color": "#371ea3"
        },
        "height": 489,
        "hovermode": "x unified",
        "legend": {
         "font": {
          "size": 11
         },
         "itemsizing": "constant",
         "orientation": "h",
         "title": {
          "font": {
           "size": 12
          },
          "text": "label"
         },
         "tracegroupgap": 0,
         "x": 1,
         "xanchor": "right",
         "y": 1.0613496932515338,
         "yanchor": "bottom"
        },
        "margin": {
         "b": 71,
         "r": 30,
         "t": 78
        },
        "shapes": [
         {
          "layer": "below",
          "line": {
           "color": "#371ea3",
           "dash": "dot",
           "width": 1.5
          },
          "type": "line",
          "x0": 0,
          "x1": 1,
          "xref": "x domain",
          "y0": 0.26888158203321666,
          "y1": 0.26888158203321666,
          "yref": "y"
         }
        ],
        "template": {
         "data": {
          "scatter": [
           {
            "type": "scatter"
           }
          ]
         }
        },
        "title": {
         "font": {
          "size": 16
         },
         "text": "PDP for last_new_job",
         "x": 0.15
        },
        "xaxis": {
         "anchor": "y",
         "automargin": true,
         "domain": [
          0,
          1
         ],
         "fixedrange": true,
         "gridwidth": 2,
         "showticklabels": true,
         "tickcolor": "white",
         "ticklen": 10,
         "ticks": "outside",
         "title": {
          "text": ""
         },
         "type": "category"
        },
        "yaxis": {
         "anchor": "x",
         "automargin": true,
         "domain": [
          0,
          1
         ],
         "fixedrange": true,
         "gridwidth": 2,
         "range": [
          0.2156066985693753,
          0.34132004182252645
         ],
         "tickcolor": "white",
         "ticklen": 3,
         "ticks": "outside",
         "title": {
          "text": ""
         },
         "type": "linear",
         "zeroline": false
        }
       }
      }
     },
     "metadata": {},
     "output_type": "display_data"
    }
   ],
   "source": [
    "pdp_experience = exp.model_profile(variables=['last_new_job'], variable_type='categorical')\n",
    "pdp_experience.plot(title=\"PDP for last_new_job\")"
   ]
  },
  {
   "cell_type": "markdown",
   "metadata": {},
   "source": [
    "Wartości SHAP"
   ]
  },
  {
   "cell_type": "code",
   "execution_count": 1055,
   "metadata": {},
   "outputs": [],
   "source": [
    "obs = X_train.iloc[11]"
   ]
  },
  {
   "cell_type": "code",
   "execution_count": 1056,
   "metadata": {},
   "outputs": [
    {
     "name": "stdout",
     "output_type": "stream",
     "text": [
      "[[0.7519032 0.2480968]]\n"
     ]
    }
   ],
   "source": [
    "prediction = model.predict_proba(obs.to_frame().T)\n",
    "print(prediction)"
   ]
  },
  {
   "cell_type": "code",
   "execution_count": 1057,
   "metadata": {},
   "outputs": [],
   "source": [
    "bd1 = exp.predict_parts(obs, type='break_down_interactions', order=['relevent_experience', 'gender', 'enrolled_university'])\n",
    "bd2 = exp.predict_parts(obs, type='break_down_interactions', order=['gender', 'enrolled_university', 'relevent_experience'])\n",
    "bd3 = exp.predict_parts(obs, type='break_down_interactions', order=['enrolled_university', 'relevent_experience', 'gender'])"
   ]
  },
  {
   "cell_type": "code",
   "execution_count": 1064,
   "metadata": {},
   "outputs": [
    {
     "data": {
      "application/vnd.plotly.v1+json": {
       "config": {
        "displaylogo": false,
        "modeBarButtonsToRemove": [
         "sendDataToCloud",
         "lasso2d",
         "autoScale2d",
         "select2d",
         "zoom2d",
         "pan2d",
         "zoomIn2d",
         "zoomOut2d",
         "resetScale2d",
         "toggleSpikelines",
         "hoverCompareCartesian",
         "hoverClosestCartesian"
        ],
        "plotlyServerURL": "https://plot.ly",
        "staticPlot": false,
        "toImageButtonOptions": {
         "height": null,
         "width": null
        }
       },
       "data": [
        {
         "base": 0.2793740087036625,
         "connector": {
          "line": {
           "color": "#371ea3",
           "dash": "solid",
           "width": 1
          },
          "mode": "spanning"
         },
         "decreasing": {
          "marker": {
           "color": "#f05a71"
          }
         },
         "hoverinfo": "text+delta",
         "hoverlabel": {
          "bgcolor": "rgba(0,0,0,0.8)"
         },
         "hovertext": [
          "Average response: 0.279<br>Prediction: 0.248",
          "relevent_experience = No relevent experience<br>increases average response by",
          "gender = Male<br>decreases average response by",
          "enrolled_university = Full time course<br>decreases average response by",
          "Average response: 0.279<br>Prediction: 0.248"
         ],
         "increasing": {
          "marker": {
           "color": "#8bdcbe"
          }
         },
         "measure": [
          "relative",
          "relative",
          "relative",
          "relative",
          "total"
         ],
         "orientation": "h",
         "showlegend": false,
         "text": [
          "0.279",
          "+0.057",
          "-0.002",
          "-0.024",
          "0.248"
         ],
         "textposition": "outside",
         "totals": {
          "marker": {
           "color": "#371ea3"
          }
         },
         "type": "waterfall",
         "x": [
          0,
          0.057,
          -0.002,
          -0.024,
          -0.031
         ],
         "xaxis": "x",
         "y": [
          "intercept",
          "relevent_experience = No relevent experience",
          "gender = Male",
          "enrolled_university = Full time course",
          "prediction"
         ],
         "yaxis": "y"
        }
       ],
       "layout": {
        "annotations": [
         {
          "font": {
           "size": 16
          },
          "showarrow": false,
          "text": "Logistic Regression",
          "x": 0.5,
          "xanchor": "center",
          "xref": "paper",
          "y": 1,
          "yanchor": "bottom",
          "yref": "paper"
         },
         {
          "font": {
           "size": 16
          },
          "showarrow": false,
          "text": "contribution",
          "x": 0.5,
          "xanchor": "center",
          "xref": "paper",
          "y": 0,
          "yanchor": "top",
          "yref": "paper",
          "yshift": -30
         }
        ],
        "font": {
         "color": "#371ea3"
        },
        "height": 253,
        "margin": {
         "b": 71,
         "r": 30,
         "t": 78
        },
        "shapes": [
         {
          "line": {
           "color": "#371ea3",
           "dash": "dot",
           "width": 1.5
          },
          "type": "line",
          "x0": 0.2793740087036625,
          "x1": 0.2793740087036625,
          "xref": "x",
          "y0": -1,
          "y1": 5,
          "yref": "y"
         }
        ],
        "template": {
         "data": {
          "scatter": [
           {
            "type": "scatter"
           }
          ]
         }
        },
        "title": {
         "text": "Break Down",
         "x": 0.15
        },
        "xaxis": {
         "anchor": "y",
         "automargin": true,
         "domain": [
          0,
          1
         ],
         "fixedrange": true,
         "gridwidth": 2,
         "range": [
          0.2348,
          0.3492
         ],
         "tickcolor": "white",
         "ticklen": 3,
         "ticks": "outside",
         "type": "linear",
         "zeroline": false
        },
        "yaxis": {
         "anchor": "x",
         "automargin": true,
         "autorange": "reversed",
         "domain": [
          0,
          1
         ],
         "fixedrange": true,
         "gridwidth": 2,
         "tickcolor": "white",
         "ticklen": 10,
         "ticks": "outside",
         "type": "category"
        }
       }
      }
     },
     "metadata": {},
     "output_type": "display_data"
    },
    {
     "data": {
      "application/vnd.plotly.v1+json": {
       "config": {
        "displaylogo": false,
        "modeBarButtonsToRemove": [
         "sendDataToCloud",
         "lasso2d",
         "autoScale2d",
         "select2d",
         "zoom2d",
         "pan2d",
         "zoomIn2d",
         "zoomOut2d",
         "resetScale2d",
         "toggleSpikelines",
         "hoverCompareCartesian",
         "hoverClosestCartesian"
        ],
        "plotlyServerURL": "https://plot.ly",
        "staticPlot": false,
        "toImageButtonOptions": {
         "height": null,
         "width": null
        }
       },
       "data": [
        {
         "base": 0.2793740087036625,
         "connector": {
          "line": {
           "color": "#371ea3",
           "dash": "solid",
           "width": 1
          },
          "mode": "spanning"
         },
         "decreasing": {
          "marker": {
           "color": "#f05a71"
          }
         },
         "hoverinfo": "text+delta",
         "hoverlabel": {
          "bgcolor": "rgba(0,0,0,0.8)"
         },
         "hovertext": [
          "Average response: 0.279<br>Prediction: 0.248",
          "gender = Male<br>decreases average response by",
          "enrolled_university = Full time course<br>decreases average response by",
          "relevent_experience = No relevent experience<br>increases average response by",
          "Average response: 0.279<br>Prediction: 0.248"
         ],
         "increasing": {
          "marker": {
           "color": "#8bdcbe"
          }
         },
         "measure": [
          "relative",
          "relative",
          "relative",
          "relative",
          "total"
         ],
         "orientation": "h",
         "showlegend": false,
         "text": [
          "0.279",
          "-0.002",
          "-0.02",
          "+0.053",
          "0.248"
         ],
         "textposition": "outside",
         "totals": {
          "marker": {
           "color": "#371ea3"
          }
         },
         "type": "waterfall",
         "x": [
          0,
          -0.002,
          -0.02,
          0.053,
          -0.031
         ],
         "xaxis": "x",
         "y": [
          "intercept",
          "gender = Male",
          "enrolled_university = Full time course",
          "relevent_experience = No relevent experience",
          "prediction"
         ],
         "yaxis": "y"
        }
       ],
       "layout": {
        "annotations": [
         {
          "font": {
           "size": 16
          },
          "showarrow": false,
          "text": "Logistic Regression",
          "x": 0.5,
          "xanchor": "center",
          "xref": "paper",
          "y": 1,
          "yanchor": "bottom",
          "yref": "paper"
         },
         {
          "font": {
           "size": 16
          },
          "showarrow": false,
          "text": "contribution",
          "x": 0.5,
          "xanchor": "center",
          "xref": "paper",
          "y": 0,
          "yanchor": "top",
          "yref": "paper",
          "yshift": -30
         }
        ],
        "font": {
         "color": "#371ea3"
        },
        "height": 253,
        "margin": {
         "b": 71,
         "r": 30,
         "t": 78
        },
        "shapes": [
         {
          "line": {
           "color": "#371ea3",
           "dash": "dot",
           "width": 1.5
          },
          "type": "line",
          "x0": 0.2793740087036625,
          "x1": 0.2793740087036625,
          "xref": "x",
          "y0": -1,
          "y1": 5,
          "yref": "y"
         }
        ],
        "template": {
         "data": {
          "scatter": [
           {
            "type": "scatter"
           }
          ]
         }
        },
        "title": {
         "text": "Break Down",
         "x": 0.15
        },
        "xaxis": {
         "anchor": "y",
         "automargin": true,
         "domain": [
          0,
          1
         ],
         "fixedrange": true,
         "gridwidth": 2,
         "range": [
          0.2387,
          0.3193
         ],
         "tickcolor": "white",
         "ticklen": 3,
         "ticks": "outside",
         "type": "linear",
         "zeroline": false
        },
        "yaxis": {
         "anchor": "x",
         "automargin": true,
         "autorange": "reversed",
         "domain": [
          0,
          1
         ],
         "fixedrange": true,
         "gridwidth": 2,
         "tickcolor": "white",
         "ticklen": 10,
         "ticks": "outside",
         "type": "category"
        }
       }
      }
     },
     "metadata": {},
     "output_type": "display_data"
    },
    {
     "data": {
      "application/vnd.plotly.v1+json": {
       "config": {
        "displaylogo": false,
        "modeBarButtonsToRemove": [
         "sendDataToCloud",
         "lasso2d",
         "autoScale2d",
         "select2d",
         "zoom2d",
         "pan2d",
         "zoomIn2d",
         "zoomOut2d",
         "resetScale2d",
         "toggleSpikelines",
         "hoverCompareCartesian",
         "hoverClosestCartesian"
        ],
        "plotlyServerURL": "https://plot.ly",
        "staticPlot": false,
        "toImageButtonOptions": {
         "height": null,
         "width": null
        }
       },
       "data": [
        {
         "base": 0.2793740087036625,
         "connector": {
          "line": {
           "color": "#371ea3",
           "dash": "solid",
           "width": 1
          },
          "mode": "spanning"
         },
         "decreasing": {
          "marker": {
           "color": "#f05a71"
          }
         },
         "hoverinfo": "text+delta",
         "hoverlabel": {
          "bgcolor": "rgba(0,0,0,0.8)"
         },
         "hovertext": [
          "Average response: 0.279<br>Prediction: 0.248",
          "enrolled_university = Full time course<br>decreases average response by",
          "relevent_experience = No relevent experience<br>increases average response by",
          "gender = Male<br>decreases average response by",
          "Average response: 0.279<br>Prediction: 0.248"
         ],
         "increasing": {
          "marker": {
           "color": "#8bdcbe"
          }
         },
         "measure": [
          "relative",
          "relative",
          "relative",
          "relative",
          "total"
         ],
         "orientation": "h",
         "showlegend": false,
         "text": [
          "0.279",
          "-0.02",
          "+0.053",
          "-0.002",
          "0.248"
         ],
         "textposition": "outside",
         "totals": {
          "marker": {
           "color": "#371ea3"
          }
         },
         "type": "waterfall",
         "x": [
          0,
          -0.02,
          0.053,
          -0.002,
          -0.031
         ],
         "xaxis": "x",
         "y": [
          "intercept",
          "enrolled_university = Full time course",
          "relevent_experience = No relevent experience",
          "gender = Male",
          "prediction"
         ],
         "yaxis": "y"
        }
       ],
       "layout": {
        "annotations": [
         {
          "font": {
           "size": 16
          },
          "showarrow": false,
          "text": "Logistic Regression",
          "x": 0.5,
          "xanchor": "center",
          "xref": "paper",
          "y": 1,
          "yanchor": "bottom",
          "yref": "paper"
         },
         {
          "font": {
           "size": 16
          },
          "showarrow": false,
          "text": "contribution",
          "x": 0.5,
          "xanchor": "center",
          "xref": "paper",
          "y": 0,
          "yanchor": "top",
          "yref": "paper",
          "yshift": -30
         }
        ],
        "font": {
         "color": "#371ea3"
        },
        "height": 253,
        "margin": {
         "b": 71,
         "r": 30,
         "t": 78
        },
        "shapes": [
         {
          "line": {
           "color": "#371ea3",
           "dash": "dot",
           "width": 1.5
          },
          "type": "line",
          "x0": 0.2793740087036625,
          "x1": 0.2793740087036625,
          "xref": "x",
          "y0": -1,
          "y1": 5,
          "yref": "y"
         }
        ],
        "template": {
         "data": {
          "scatter": [
           {
            "type": "scatter"
           }
          ]
         }
        },
        "title": {
         "text": "Break Down",
         "x": 0.15
        },
        "xaxis": {
         "anchor": "y",
         "automargin": true,
         "domain": [
          0,
          1
         ],
         "fixedrange": true,
         "gridwidth": 2,
         "range": [
          0.2384,
          0.3216
         ],
         "tickcolor": "white",
         "ticklen": 3,
         "ticks": "outside",
         "type": "linear",
         "zeroline": false
        },
        "yaxis": {
         "anchor": "x",
         "automargin": true,
         "autorange": "reversed",
         "domain": [
          0,
          1
         ],
         "fixedrange": true,
         "gridwidth": 2,
         "tickcolor": "white",
         "ticklen": 10,
         "ticks": "outside",
         "type": "category"
        }
       }
      }
     },
     "metadata": {},
     "output_type": "display_data"
    },
    {
     "data": {
      "text/plain": [
       "<Figure size 1500x500 with 0 Axes>"
      ]
     },
     "metadata": {},
     "output_type": "display_data"
    }
   ],
   "source": [
    "plt.figure(figsize=(15, 5))\n",
    "bd1.plot()\n",
    "bd2.plot()\n",
    "bd3.plot()\n",
    "plt.tight_layout()\n",
    "plt.show()"
   ]
  },
  {
   "cell_type": "code",
   "execution_count": 1059,
   "metadata": {},
   "outputs": [],
   "source": [
    "shap = exp.predict_parts(obs, type='shap')"
   ]
  },
  {
   "cell_type": "code",
   "execution_count": 1063,
   "metadata": {},
   "outputs": [
    {
     "data": {
      "application/vnd.plotly.v1+json": {
       "config": {
        "displaylogo": false,
        "modeBarButtonsToRemove": [
         "sendDataToCloud",
         "lasso2d",
         "autoScale2d",
         "select2d",
         "zoom2d",
         "pan2d",
         "zoomIn2d",
         "zoomOut2d",
         "resetScale2d",
         "toggleSpikelines",
         "hoverCompareCartesian",
         "hoverClosestCartesian"
        ],
        "plotlyServerURL": "https://plot.ly",
        "staticPlot": false,
        "toImageButtonOptions": {
         "height": null,
         "width": null
        }
       },
       "data": [
        {
         "base": 0.2793740087036625,
         "hoverinfo": "text",
         "hoverlabel": {
          "bgcolor": "rgba(0,0,0,0.8)"
         },
         "hovertext": [
          "Average response: 0.279<br>Prediction: 0.248<br>company_size = No data<br>increases average response <br>by 0.162",
          "Average response: 0.279<br>Prediction: 0.248<br>experience = 3<br>decreases average response <br>by 0.143",
          "Average response: 0.279<br>Prediction: 0.248<br>city_development_index = 0.878<br>decreases average response <br>by 0.067",
          "Average response: 0.279<br>Prediction: 0.248<br>relevent_experience = No relevent experience<br>increases average response <br>by 0.06",
          "Average response: 0.279<br>Prediction: 0.248<br>enrolled_university = Full time course<br>decreases average response <br>by 0.026",
          "Average response: 0.279<br>Prediction: 0.248<br>company_type = No data<br>decreases average response <br>by 0.023",
          "Average response: 0.279<br>Prediction: 0.248<br>education_level = Graduate<br>increases average response <br>by 0.021",
          "Average response: 0.279<br>Prediction: 0.248<br>last_new_job = 3<br>decreases average response <br>by 0.019",
          "Average response: 0.279<br>Prediction: 0.248<br>training_hours = 112.0<br>increases average response <br>by 0.005",
          "Average response: 0.279<br>Prediction: 0.248<br>+ all other factors<br>increases average response <br>by 0.001"
         ],
         "marker": {
          "color": [
           "#8bdcbe",
           "#f05a71",
           "#f05a71",
           "#8bdcbe",
           "#f05a71",
           "#f05a71",
           "#8bdcbe",
           "#f05a71",
           "#8bdcbe",
           "#8bdcbe"
          ]
         },
         "orientation": "h",
         "showlegend": false,
         "text": [
          "+0.162",
          "-0.143",
          "-0.067",
          "+0.06",
          "-0.026",
          "-0.023",
          "+0.021",
          "-0.019",
          "+0.005",
          "+0.001"
         ],
         "textposition": "outside",
         "type": "bar",
         "x": [
          0.162,
          -0.143,
          -0.067,
          0.06,
          -0.026,
          -0.023,
          0.021,
          -0.019,
          0.005,
          0.001
         ],
         "xaxis": "x",
         "y": [
          "company_size = No data",
          "experience = 3",
          "city_development_index = 0.878",
          "relevent_experience = No relevent experience",
          "enrolled_university = Full time course",
          "company_type = No data",
          "education_level = Graduate",
          "last_new_job = 3",
          "training_hours = 112.0",
          "+ all other factors"
         ],
         "yaxis": "y"
        }
       ],
       "layout": {
        "annotations": [
         {
          "font": {
           "size": 16
          },
          "showarrow": false,
          "text": "Logistic Regression",
          "x": 0.5,
          "xanchor": "center",
          "xref": "paper",
          "y": 1,
          "yanchor": "bottom",
          "yref": "paper"
         },
         {
          "font": {
           "size": 16
          },
          "showarrow": false,
          "text": "contribution",
          "x": 0.5,
          "xanchor": "center",
          "xref": "paper",
          "y": 0,
          "yanchor": "top",
          "yref": "paper",
          "yshift": -30
         }
        ],
        "font": {
         "color": "#371ea3"
        },
        "height": 373,
        "margin": {
         "b": 71,
         "r": 30,
         "t": 78
        },
        "shapes": [
         {
          "line": {
           "color": "#371ea3",
           "dash": "dot",
           "width": 1.5
          },
          "type": "line",
          "x0": 0.2793740087036625,
          "x1": 0.2793740087036625,
          "xref": "x",
          "y0": -1,
          "y1": 11,
          "yref": "y"
         }
        ],
        "template": {
         "data": {
          "scatter": [
           {
            "type": "scatter"
           }
          ]
         }
        },
        "title": {
         "text": "Shapley Values",
         "x": 0.15
        },
        "xaxis": {
         "anchor": "y",
         "automargin": true,
         "domain": [
          0,
          1
         ],
         "fixedrange": true,
         "gridwidth": 2,
         "range": [
          0.09062400870366255,
          0.4871240087036625
         ],
         "tickcolor": "white",
         "ticklen": 3,
         "ticks": "outside",
         "type": "linear",
         "zeroline": false
        },
        "yaxis": {
         "anchor": "x",
         "automargin": true,
         "autorange": "reversed",
         "domain": [
          0,
          1
         ],
         "fixedrange": true,
         "gridwidth": 2,
         "tickcolor": "white",
         "ticklen": 10,
         "ticks": "outside",
         "type": "category"
        }
       }
      }
     },
     "metadata": {},
     "output_type": "display_data"
    },
    {
     "data": {
      "application/vnd.plotly.v1+json": {
       "config": {
        "displaylogo": false,
        "modeBarButtonsToRemove": [
         "sendDataToCloud",
         "lasso2d",
         "autoScale2d",
         "select2d",
         "zoom2d",
         "pan2d",
         "zoomIn2d",
         "zoomOut2d",
         "resetScale2d",
         "toggleSpikelines",
         "hoverCompareCartesian",
         "hoverClosestCartesian"
        ],
        "plotlyServerURL": "https://plot.ly",
        "staticPlot": false,
        "toImageButtonOptions": {
         "height": null,
         "width": null
        }
       },
       "data": [
        {
         "base": 0.2793740087036625,
         "hoverinfo": "text",
         "hoverlabel": {
          "bgcolor": "rgba(0,0,0,0.8)"
         },
         "hovertext": [
          "Average response: 0.279<br>Prediction: 0.248<br>company_size = No data<br>increases average response <br>by 0.162",
          "Average response: 0.279<br>Prediction: 0.248<br>experience = 3<br>decreases average response <br>by 0.143",
          "Average response: 0.279<br>Prediction: 0.248<br>city_development_index = 0.878<br>decreases average response <br>by 0.067",
          "Average response: 0.279<br>Prediction: 0.248<br>relevent_experience = No relevent experience<br>increases average response <br>by 0.06",
          "Average response: 0.279<br>Prediction: 0.248<br>enrolled_university = Full time course<br>decreases average response <br>by 0.026",
          "Average response: 0.279<br>Prediction: 0.248<br>company_type = No data<br>decreases average response <br>by 0.023",
          "Average response: 0.279<br>Prediction: 0.248<br>education_level = Graduate<br>increases average response <br>by 0.021",
          "Average response: 0.279<br>Prediction: 0.248<br>last_new_job = 3<br>decreases average response <br>by 0.019",
          "Average response: 0.279<br>Prediction: 0.248<br>training_hours = 112.0<br>increases average response <br>by 0.005",
          "Average response: 0.279<br>Prediction: 0.248<br>+ all other factors<br>increases average response <br>by 0.001"
         ],
         "marker": {
          "color": [
           "#8bdcbe",
           "#f05a71",
           "#f05a71",
           "#8bdcbe",
           "#f05a71",
           "#f05a71",
           "#8bdcbe",
           "#f05a71",
           "#8bdcbe",
           "#8bdcbe"
          ]
         },
         "orientation": "h",
         "showlegend": false,
         "text": [
          "+0.162",
          "-0.143",
          "-0.067",
          "+0.06",
          "-0.026",
          "-0.023",
          "+0.021",
          "-0.019",
          "+0.005",
          "+0.001"
         ],
         "textposition": "outside",
         "type": "bar",
         "x": [
          0.162,
          -0.143,
          -0.067,
          0.06,
          -0.026,
          -0.023,
          0.021,
          -0.019,
          0.005,
          0.001
         ],
         "xaxis": "x",
         "y": [
          "company_size = No data",
          "experience = 3",
          "city_development_index = 0.878",
          "relevent_experience = No relevent experience",
          "enrolled_university = Full time course",
          "company_type = No data",
          "education_level = Graduate",
          "last_new_job = 3",
          "training_hours = 112.0",
          "+ all other factors"
         ],
         "yaxis": "y"
        }
       ],
       "layout": {
        "annotations": [
         {
          "font": {
           "size": 16
          },
          "showarrow": false,
          "text": "Logistic Regression",
          "x": 0.5,
          "xanchor": "center",
          "xref": "paper",
          "y": 1,
          "yanchor": "bottom",
          "yref": "paper"
         },
         {
          "font": {
           "size": 16
          },
          "showarrow": false,
          "text": "contribution",
          "x": 0.5,
          "xanchor": "center",
          "xref": "paper",
          "y": 0,
          "yanchor": "top",
          "yref": "paper",
          "yshift": -30
         }
        ],
        "font": {
         "color": "#371ea3"
        },
        "height": 373,
        "margin": {
         "b": 71,
         "r": 30,
         "t": 78
        },
        "shapes": [
         {
          "line": {
           "color": "#371ea3",
           "dash": "dot",
           "width": 1.5
          },
          "type": "line",
          "x0": 0.2793740087036625,
          "x1": 0.2793740087036625,
          "xref": "x",
          "y0": -1,
          "y1": 11,
          "yref": "y"
         }
        ],
        "template": {
         "data": {
          "scatter": [
           {
            "type": "scatter"
           }
          ]
         }
        },
        "title": {
         "text": "Shapley Values",
         "x": 0.15
        },
        "xaxis": {
         "anchor": "y",
         "automargin": true,
         "domain": [
          0,
          1
         ],
         "fixedrange": true,
         "gridwidth": 2,
         "range": [
          0.09062400870366255,
          0.4871240087036625
         ],
         "tickcolor": "white",
         "ticklen": 3,
         "ticks": "outside",
         "type": "linear",
         "zeroline": false
        },
        "yaxis": {
         "anchor": "x",
         "automargin": true,
         "autorange": "reversed",
         "domain": [
          0,
          1
         ],
         "fixedrange": true,
         "gridwidth": 2,
         "tickcolor": "white",
         "ticklen": 10,
         "ticks": "outside",
         "type": "category"
        }
       }
      }
     },
     "metadata": {},
     "output_type": "display_data"
    },
    {
     "data": {
      "text/plain": [
       "<Figure size 1000x400 with 0 Axes>"
      ]
     },
     "metadata": {},
     "output_type": "display_data"
    }
   ],
   "source": [
    "plt.figure(figsize=(10, 4))\n",
    "shap.plot()\n",
    "shap.plot(max_vars=10)\n",
    "plt.tight_layout()\n",
    "plt.show()"
   ]
  },
  {
   "cell_type": "code",
   "execution_count": null,
   "metadata": {},
   "outputs": [],
   "source": []
  }
 ],
 "metadata": {
  "kernelspec": {
   "display_name": "py10",
   "language": "python",
   "name": "python3"
  },
  "language_info": {
   "codemirror_mode": {
    "name": "ipython",
    "version": 3
   },
   "file_extension": ".py",
   "mimetype": "text/x-python",
   "name": "python",
   "nbconvert_exporter": "python",
   "pygments_lexer": "ipython3",
   "version": "3.10.6"
  }
 },
 "nbformat": 4,
 "nbformat_minor": 2
}
