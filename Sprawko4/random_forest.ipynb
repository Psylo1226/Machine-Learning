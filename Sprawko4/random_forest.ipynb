{
 "cells": [
  {
   "cell_type": "code",
   "execution_count": 82,
   "metadata": {},
   "outputs": [],
   "source": [
    "import pandas as pd\n",
    "from sklearn.model_selection import train_test_split\n",
    "from sklearn.ensemble import RandomForestClassifier\n",
    "from sklearn.metrics import accuracy_score, classification_report, confusion_matrix\n",
    "from IPython.display import Image\n",
    "from sklearn.preprocessing import LabelEncoder\n",
    "from sklearn.model_selection import cross_val_score\n",
    "import matplotlib.pyplot as plt"
   ]
  },
  {
   "cell_type": "code",
   "execution_count": 83,
   "metadata": {},
   "outputs": [
    {
     "data": {
      "text/html": [
       "<div>\n",
       "<style scoped>\n",
       "    .dataframe tbody tr th:only-of-type {\n",
       "        vertical-align: middle;\n",
       "    }\n",
       "\n",
       "    .dataframe tbody tr th {\n",
       "        vertical-align: top;\n",
       "    }\n",
       "\n",
       "    .dataframe thead th {\n",
       "        text-align: right;\n",
       "    }\n",
       "</style>\n",
       "<table border=\"1\" class=\"dataframe\">\n",
       "  <thead>\n",
       "    <tr style=\"text-align: right;\">\n",
       "      <th></th>\n",
       "      <th>gender</th>\n",
       "      <th>age</th>\n",
       "      <th>hypertension</th>\n",
       "      <th>heart_disease</th>\n",
       "      <th>ever_married</th>\n",
       "      <th>work_type</th>\n",
       "      <th>Residence_type</th>\n",
       "      <th>avg_glucose_level</th>\n",
       "      <th>bmi</th>\n",
       "      <th>smoking_status</th>\n",
       "      <th>stroke</th>\n",
       "    </tr>\n",
       "  </thead>\n",
       "  <tbody>\n",
       "    <tr>\n",
       "      <th>0</th>\n",
       "      <td>Male</td>\n",
       "      <td>67.0</td>\n",
       "      <td>0</td>\n",
       "      <td>1.0</td>\n",
       "      <td>Yes</td>\n",
       "      <td>Private</td>\n",
       "      <td>Urban</td>\n",
       "      <td>228.69</td>\n",
       "      <td>36.6</td>\n",
       "      <td>formerly smoked</td>\n",
       "      <td>1</td>\n",
       "    </tr>\n",
       "    <tr>\n",
       "      <th>1</th>\n",
       "      <td>Male</td>\n",
       "      <td>80.0</td>\n",
       "      <td>0</td>\n",
       "      <td>1.0</td>\n",
       "      <td>Yes</td>\n",
       "      <td>Private</td>\n",
       "      <td>Rural</td>\n",
       "      <td>105.92</td>\n",
       "      <td>32.5</td>\n",
       "      <td>never smoked</td>\n",
       "      <td>1</td>\n",
       "    </tr>\n",
       "    <tr>\n",
       "      <th>2</th>\n",
       "      <td>Female</td>\n",
       "      <td>49.0</td>\n",
       "      <td>0</td>\n",
       "      <td>0.0</td>\n",
       "      <td>Yes</td>\n",
       "      <td>Private</td>\n",
       "      <td>Urban</td>\n",
       "      <td>171.23</td>\n",
       "      <td>34.4</td>\n",
       "      <td>smokes</td>\n",
       "      <td>1</td>\n",
       "    </tr>\n",
       "    <tr>\n",
       "      <th>3</th>\n",
       "      <td>Female</td>\n",
       "      <td>79.0</td>\n",
       "      <td>1</td>\n",
       "      <td>NaN</td>\n",
       "      <td>Yes</td>\n",
       "      <td>Self-employed</td>\n",
       "      <td>Rural</td>\n",
       "      <td>174.12</td>\n",
       "      <td>24.0</td>\n",
       "      <td>never smoked</td>\n",
       "      <td>1</td>\n",
       "    </tr>\n",
       "    <tr>\n",
       "      <th>4</th>\n",
       "      <td>Male</td>\n",
       "      <td>81.0</td>\n",
       "      <td>0</td>\n",
       "      <td>0.0</td>\n",
       "      <td>Yes</td>\n",
       "      <td>Private</td>\n",
       "      <td>Urban</td>\n",
       "      <td>186.21</td>\n",
       "      <td>29.0</td>\n",
       "      <td>formerly smoked</td>\n",
       "      <td>1</td>\n",
       "    </tr>\n",
       "    <tr>\n",
       "      <th>...</th>\n",
       "      <td>...</td>\n",
       "      <td>...</td>\n",
       "      <td>...</td>\n",
       "      <td>...</td>\n",
       "      <td>...</td>\n",
       "      <td>...</td>\n",
       "      <td>...</td>\n",
       "      <td>...</td>\n",
       "      <td>...</td>\n",
       "      <td>...</td>\n",
       "      <td>...</td>\n",
       "    </tr>\n",
       "    <tr>\n",
       "      <th>395</th>\n",
       "      <td>Female</td>\n",
       "      <td>58.0</td>\n",
       "      <td>0</td>\n",
       "      <td>0.0</td>\n",
       "      <td>Yes</td>\n",
       "      <td>NaN</td>\n",
       "      <td>Rural</td>\n",
       "      <td>69.12</td>\n",
       "      <td>28.3</td>\n",
       "      <td>Unknown</td>\n",
       "      <td>0</td>\n",
       "    </tr>\n",
       "    <tr>\n",
       "      <th>396</th>\n",
       "      <td>Female</td>\n",
       "      <td>79.0</td>\n",
       "      <td>0</td>\n",
       "      <td>0.0</td>\n",
       "      <td>No</td>\n",
       "      <td>Private</td>\n",
       "      <td>Urban</td>\n",
       "      <td>253.86</td>\n",
       "      <td>28.8</td>\n",
       "      <td>formerly smoked</td>\n",
       "      <td>0</td>\n",
       "    </tr>\n",
       "    <tr>\n",
       "      <th>397</th>\n",
       "      <td>Female</td>\n",
       "      <td>46.0</td>\n",
       "      <td>0</td>\n",
       "      <td>0.0</td>\n",
       "      <td>Yes</td>\n",
       "      <td>Govt_job</td>\n",
       "      <td>Urban</td>\n",
       "      <td>NaN</td>\n",
       "      <td>27.8</td>\n",
       "      <td>never smoked</td>\n",
       "      <td>0</td>\n",
       "    </tr>\n",
       "    <tr>\n",
       "      <th>398</th>\n",
       "      <td>Male</td>\n",
       "      <td>13.0</td>\n",
       "      <td>0</td>\n",
       "      <td>0.0</td>\n",
       "      <td>No</td>\n",
       "      <td>children</td>\n",
       "      <td>Urban</td>\n",
       "      <td>NaN</td>\n",
       "      <td>24.3</td>\n",
       "      <td>Unknown</td>\n",
       "      <td>0</td>\n",
       "    </tr>\n",
       "    <tr>\n",
       "      <th>399</th>\n",
       "      <td>Female</td>\n",
       "      <td>57.0</td>\n",
       "      <td>0</td>\n",
       "      <td>0.0</td>\n",
       "      <td>Yes</td>\n",
       "      <td>Private</td>\n",
       "      <td>Rural</td>\n",
       "      <td>77.93</td>\n",
       "      <td>21.7</td>\n",
       "      <td>never smoked</td>\n",
       "      <td>0</td>\n",
       "    </tr>\n",
       "  </tbody>\n",
       "</table>\n",
       "<p>400 rows × 11 columns</p>\n",
       "</div>"
      ],
      "text/plain": [
       "     gender   age  hypertension  heart_disease ever_married      work_type  \\\n",
       "0      Male  67.0             0            1.0          Yes        Private   \n",
       "1      Male  80.0             0            1.0          Yes        Private   \n",
       "2    Female  49.0             0            0.0          Yes        Private   \n",
       "3    Female  79.0             1            NaN          Yes  Self-employed   \n",
       "4      Male  81.0             0            0.0          Yes        Private   \n",
       "..      ...   ...           ...            ...          ...            ...   \n",
       "395  Female  58.0             0            0.0          Yes            NaN   \n",
       "396  Female  79.0             0            0.0           No        Private   \n",
       "397  Female  46.0             0            0.0          Yes       Govt_job   \n",
       "398    Male  13.0             0            0.0           No       children   \n",
       "399  Female  57.0             0            0.0          Yes        Private   \n",
       "\n",
       "    Residence_type  avg_glucose_level   bmi   smoking_status  stroke  \n",
       "0            Urban             228.69  36.6  formerly smoked       1  \n",
       "1            Rural             105.92  32.5     never smoked       1  \n",
       "2            Urban             171.23  34.4           smokes       1  \n",
       "3            Rural             174.12  24.0     never smoked       1  \n",
       "4            Urban             186.21  29.0  formerly smoked       1  \n",
       "..             ...                ...   ...              ...     ...  \n",
       "395          Rural              69.12  28.3          Unknown       0  \n",
       "396          Urban             253.86  28.8  formerly smoked       0  \n",
       "397          Urban                NaN  27.8     never smoked       0  \n",
       "398          Urban                NaN  24.3          Unknown       0  \n",
       "399          Rural              77.93  21.7     never smoked       0  \n",
       "\n",
       "[400 rows x 11 columns]"
      ]
     },
     "metadata": {},
     "output_type": "display_data"
    }
   ],
   "source": [
    "df = pd.read_csv('zad4_Stroke.csv', sep=';', decimal=',')\n",
    "display(df)"
   ]
  },
  {
   "cell_type": "code",
   "execution_count": 84,
   "metadata": {},
   "outputs": [
    {
     "data": {
      "text/plain": [
       "gender                object\n",
       "age                  float64\n",
       "hypertension           int64\n",
       "heart_disease        float64\n",
       "ever_married          object\n",
       "work_type             object\n",
       "Residence_type        object\n",
       "avg_glucose_level    float64\n",
       "bmi                  float64\n",
       "smoking_status        object\n",
       "stroke                 int64\n",
       "dtype: object"
      ]
     },
     "execution_count": 84,
     "metadata": {},
     "output_type": "execute_result"
    }
   ],
   "source": [
    "df.dtypes"
   ]
  },
  {
   "cell_type": "code",
   "execution_count": 85,
   "metadata": {},
   "outputs": [],
   "source": [
    "df['heart_disease'].fillna(df['heart_disease'].interpolate(), inplace=True)\n",
    "df['avg_glucose_level'].fillna(df['avg_glucose_level'].interpolate(), inplace=True)\n",
    "df['bmi'].fillna(df['bmi'].interpolate(), inplace=True)"
   ]
  },
  {
   "cell_type": "code",
   "execution_count": 86,
   "metadata": {},
   "outputs": [
    {
     "data": {
      "text/plain": [
       "1    200\n",
       "0    200\n",
       "Name: stroke, dtype: int64"
      ]
     },
     "execution_count": 86,
     "metadata": {},
     "output_type": "execute_result"
    }
   ],
   "source": [
    "df['stroke'].value_counts()"
   ]
  },
  {
   "cell_type": "code",
   "execution_count": 87,
   "metadata": {},
   "outputs": [],
   "source": [
    "categorical_columns = ['gender', 'ever_married', 'work_type', 'Residence_type', 'smoking_status']\n",
    "numerical_columns = [col for col in df.columns if col not in categorical_columns + ['stroke']]\n",
    "x_numeric = df[numerical_columns]\n",
    "x_categorical = df[categorical_columns]\n",
    "\n",
    "encoder = LabelEncoder()\n",
    "x_categorical_encoded = x_categorical.apply(encoder.fit_transform)\n",
    "\n",
    "x = pd.concat([x_numeric, x_categorical_encoded], axis=1)\n",
    "df.drop(['stroke'], axis=1)\n",
    "y = df['stroke']\n"
   ]
  },
  {
   "cell_type": "code",
   "execution_count": 88,
   "metadata": {},
   "outputs": [],
   "source": [
    "X_train, X_test, y_train, y_test = train_test_split(x, y, test_size=0.2, random_state=10)"
   ]
  },
  {
   "cell_type": "code",
   "execution_count": 89,
   "metadata": {},
   "outputs": [
    {
     "name": "stdout",
     "output_type": "stream",
     "text": [
      "Najlepsza liczba estymatorów: 20\n"
     ]
    }
   ],
   "source": [
    "n_estimators_values = [10, 20, 30, 40, 50]\n",
    "\n",
    "results = []\n",
    "\n",
    "for n_estimators in n_estimators_values:\n",
    "    model = RandomForestClassifier(n_estimators=n_estimators)\n",
    "    \n",
    "    scores = cross_val_score(model, x, y, cv=5)\n",
    "    \n",
    "    results.append((n_estimators, scores.mean()))\n",
    "\n",
    "best_n_estimators, _ = max(results, key=lambda x: x[1])\n",
    "\n",
    "print(f\"Najlepsza liczba estymatorów: {best_n_estimators}\")"
   ]
  },
  {
   "cell_type": "code",
   "execution_count": 90,
   "metadata": {},
   "outputs": [
    {
     "name": "stdout",
     "output_type": "stream",
     "text": [
      "Średnia dokładność modelu (n_estimators=10, max_features=5) - walidacja krzyżowa: 0.7375\n",
      "Średnia dokładność modelu (n_estimators=10, max_features=10) - walidacja krzyżowa: 0.735\n",
      "Średnia dokładność modelu (n_estimators=10, max_features=15) - walidacja krzyżowa: 0.7324999999999999\n",
      "Średnia dokładność modelu (n_estimators=10, max_features=20) - walidacja krzyżowa: 0.7275\n",
      "Średnia dokładność modelu (n_estimators=10, max_features=25) - walidacja krzyżowa: 0.71\n",
      "Średnia dokładność modelu (n_estimators=20, max_features=5) - walidacja krzyżowa: 0.7575000000000001\n",
      "Średnia dokładność modelu (n_estimators=20, max_features=10) - walidacja krzyżowa: 0.7525000000000001\n",
      "Średnia dokładność modelu (n_estimators=20, max_features=15) - walidacja krzyżowa: 0.725\n",
      "Średnia dokładność modelu (n_estimators=20, max_features=20) - walidacja krzyżowa: 0.7325000000000002\n",
      "Średnia dokładność modelu (n_estimators=20, max_features=25) - walidacja krzyżowa: 0.75\n",
      "Średnia dokładność modelu (n_estimators=30, max_features=5) - walidacja krzyżowa: 0.77\n",
      "Średnia dokładność modelu (n_estimators=30, max_features=10) - walidacja krzyżowa: 0.7375\n",
      "Średnia dokładność modelu (n_estimators=30, max_features=15) - walidacja krzyżowa: 0.7424999999999999\n",
      "Średnia dokładność modelu (n_estimators=30, max_features=20) - walidacja krzyżowa: 0.73\n",
      "Średnia dokładność modelu (n_estimators=30, max_features=25) - walidacja krzyżowa: 0.7375\n",
      "Średnia dokładność modelu (n_estimators=40, max_features=5) - walidacja krzyżowa: 0.76\n",
      "Średnia dokładność modelu (n_estimators=40, max_features=10) - walidacja krzyżowa: 0.7350000000000001\n",
      "Średnia dokładność modelu (n_estimators=40, max_features=15) - walidacja krzyżowa: 0.7375\n",
      "Średnia dokładność modelu (n_estimators=40, max_features=20) - walidacja krzyżowa: 0.75\n",
      "Średnia dokładność modelu (n_estimators=40, max_features=25) - walidacja krzyżowa: 0.7424999999999999\n",
      "Średnia dokładność modelu (n_estimators=50, max_features=5) - walidacja krzyżowa: 0.745\n",
      "Średnia dokładność modelu (n_estimators=50, max_features=10) - walidacja krzyżowa: 0.7375\n",
      "Średnia dokładność modelu (n_estimators=50, max_features=15) - walidacja krzyżowa: 0.735\n",
      "Średnia dokładność modelu (n_estimators=50, max_features=20) - walidacja krzyżowa: 0.7424999999999999\n",
      "Średnia dokładność modelu (n_estimators=50, max_features=25) - walidacja krzyżowa: 0.74\n"
     ]
    }
   ],
   "source": [
    "from sklearn.model_selection import cross_val_score\n",
    "\n",
    "for n_estimators in [10, 20, 30, 40, 50]:\n",
    "    for max_features in [5, 10, 15, 20, 25]:\n",
    "        model = RandomForestClassifier(n_estimators=n_estimators, max_depth=30, max_features=max_features)\n",
    "        \n",
    "        scores = cross_val_score(model, x, y, cv=5)\n",
    "        \n",
    "        mean_accuracy = scores.mean()\n",
    "        \n",
    "        print(f'Średnia dokładność modelu (n_estimators={n_estimators}, max_features={max_features}) - walidacja krzyżowa: {mean_accuracy}')\n"
   ]
  },
  {
   "cell_type": "code",
   "execution_count": 91,
   "metadata": {},
   "outputs": [
    {
     "name": "stdout",
     "output_type": "stream",
     "text": [
      "Dokładność modelu (max_features=5) - zbiór uczący: 1.0\n",
      "Dokładność modelu (max_features=5) - zbiór testowy: 0.75\n",
      "Dokładność modelu (max_features=10) - zbiór uczący: 0.99375\n",
      "Dokładność modelu (max_features=10) - zbiór testowy: 0.75\n",
      "Dokładność modelu (max_features=15) - zbiór uczący: 0.99375\n",
      "Dokładność modelu (max_features=15) - zbiór testowy: 0.725\n",
      "Dokładność modelu (max_features=20) - zbiór uczący: 1.0\n",
      "Dokładność modelu (max_features=20) - zbiór testowy: 0.7625\n",
      "Dokładność modelu (max_features=25) - zbiór uczący: 0.996875\n",
      "Dokładność modelu (max_features=25) - zbiór testowy: 0.7625\n"
     ]
    }
   ],
   "source": [
    "for max_features in [5, 10, 15, 20, 25]:\n",
    "    model = RandomForestClassifier(n_estimators=40, max_depth=10, max_features=max_features)\n",
    "    model.fit(X_train, y_train)\n",
    "    y_pred_train = model.predict(X_train)\n",
    "    y_pred_test = model.predict(X_test)\n",
    "    \n",
    "    accuracy_train = accuracy_score(y_train, y_pred_train)\n",
    "    accuracy_test = accuracy_score(y_test, y_pred_test)\n",
    "    print(f'Dokładność modelu (max_features={max_features}) - zbiór uczący: {accuracy_train}')\n",
    "    print(f'Dokładność modelu (max_features={max_features}) - zbiór testowy: {accuracy_test}')"
   ]
  },
  {
   "cell_type": "markdown",
   "metadata": {},
   "source": [
    "Wybór optymalnych parametrów"
   ]
  },
  {
   "cell_type": "code",
   "execution_count": 92,
   "metadata": {},
   "outputs": [
    {
     "data": {
      "text/html": [
       "<style>#sk-container-id-7 {color: black;}#sk-container-id-7 pre{padding: 0;}#sk-container-id-7 div.sk-toggleable {background-color: white;}#sk-container-id-7 label.sk-toggleable__label {cursor: pointer;display: block;width: 100%;margin-bottom: 0;padding: 0.3em;box-sizing: border-box;text-align: center;}#sk-container-id-7 label.sk-toggleable__label-arrow:before {content: \"▸\";float: left;margin-right: 0.25em;color: #696969;}#sk-container-id-7 label.sk-toggleable__label-arrow:hover:before {color: black;}#sk-container-id-7 div.sk-estimator:hover label.sk-toggleable__label-arrow:before {color: black;}#sk-container-id-7 div.sk-toggleable__content {max-height: 0;max-width: 0;overflow: hidden;text-align: left;background-color: #f0f8ff;}#sk-container-id-7 div.sk-toggleable__content pre {margin: 0.2em;color: black;border-radius: 0.25em;background-color: #f0f8ff;}#sk-container-id-7 input.sk-toggleable__control:checked~div.sk-toggleable__content {max-height: 200px;max-width: 100%;overflow: auto;}#sk-container-id-7 input.sk-toggleable__control:checked~label.sk-toggleable__label-arrow:before {content: \"▾\";}#sk-container-id-7 div.sk-estimator input.sk-toggleable__control:checked~label.sk-toggleable__label {background-color: #d4ebff;}#sk-container-id-7 div.sk-label input.sk-toggleable__control:checked~label.sk-toggleable__label {background-color: #d4ebff;}#sk-container-id-7 input.sk-hidden--visually {border: 0;clip: rect(1px 1px 1px 1px);clip: rect(1px, 1px, 1px, 1px);height: 1px;margin: -1px;overflow: hidden;padding: 0;position: absolute;width: 1px;}#sk-container-id-7 div.sk-estimator {font-family: monospace;background-color: #f0f8ff;border: 1px dotted black;border-radius: 0.25em;box-sizing: border-box;margin-bottom: 0.5em;}#sk-container-id-7 div.sk-estimator:hover {background-color: #d4ebff;}#sk-container-id-7 div.sk-parallel-item::after {content: \"\";width: 100%;border-bottom: 1px solid gray;flex-grow: 1;}#sk-container-id-7 div.sk-label:hover label.sk-toggleable__label {background-color: #d4ebff;}#sk-container-id-7 div.sk-serial::before {content: \"\";position: absolute;border-left: 1px solid gray;box-sizing: border-box;top: 0;bottom: 0;left: 50%;z-index: 0;}#sk-container-id-7 div.sk-serial {display: flex;flex-direction: column;align-items: center;background-color: white;padding-right: 0.2em;padding-left: 0.2em;position: relative;}#sk-container-id-7 div.sk-item {position: relative;z-index: 1;}#sk-container-id-7 div.sk-parallel {display: flex;align-items: stretch;justify-content: center;background-color: white;position: relative;}#sk-container-id-7 div.sk-item::before, #sk-container-id-7 div.sk-parallel-item::before {content: \"\";position: absolute;border-left: 1px solid gray;box-sizing: border-box;top: 0;bottom: 0;left: 50%;z-index: -1;}#sk-container-id-7 div.sk-parallel-item {display: flex;flex-direction: column;z-index: 1;position: relative;background-color: white;}#sk-container-id-7 div.sk-parallel-item:first-child::after {align-self: flex-end;width: 50%;}#sk-container-id-7 div.sk-parallel-item:last-child::after {align-self: flex-start;width: 50%;}#sk-container-id-7 div.sk-parallel-item:only-child::after {width: 0;}#sk-container-id-7 div.sk-dashed-wrapped {border: 1px dashed gray;margin: 0 0.4em 0.5em 0.4em;box-sizing: border-box;padding-bottom: 0.4em;background-color: white;}#sk-container-id-7 div.sk-label label {font-family: monospace;font-weight: bold;display: inline-block;line-height: 1.2em;}#sk-container-id-7 div.sk-label-container {text-align: center;}#sk-container-id-7 div.sk-container {/* jupyter's `normalize.less` sets `[hidden] { display: none; }` but bootstrap.min.css set `[hidden] { display: none !important; }` so we also need the `!important` here to be able to override the default hidden behavior on the sphinx rendered scikit-learn.org. See: https://github.com/scikit-learn/scikit-learn/issues/21755 */display: inline-block !important;position: relative;}#sk-container-id-7 div.sk-text-repr-fallback {display: none;}</style><div id=\"sk-container-id-7\" class=\"sk-top-container\"><div class=\"sk-text-repr-fallback\"><pre>RandomForestClassifier(max_depth=10, max_features=15, n_estimators=40)</pre><b>In a Jupyter environment, please rerun this cell to show the HTML representation or trust the notebook. <br />On GitHub, the HTML representation is unable to render, please try loading this page with nbviewer.org.</b></div><div class=\"sk-container\" hidden><div class=\"sk-item\"><div class=\"sk-estimator sk-toggleable\"><input class=\"sk-toggleable__control sk-hidden--visually\" id=\"sk-estimator-id-7\" type=\"checkbox\" checked><label for=\"sk-estimator-id-7\" class=\"sk-toggleable__label sk-toggleable__label-arrow\">RandomForestClassifier</label><div class=\"sk-toggleable__content\"><pre>RandomForestClassifier(max_depth=10, max_features=15, n_estimators=40)</pre></div></div></div></div></div>"
      ],
      "text/plain": [
       "RandomForestClassifier(max_depth=10, max_features=15, n_estimators=40)"
      ]
     },
     "execution_count": 92,
     "metadata": {},
     "output_type": "execute_result"
    }
   ],
   "source": [
    "best_model = RandomForestClassifier(n_estimators=40, max_depth=10, max_features=15)\n",
    "best_model.fit(X_train, y_train)"
   ]
  },
  {
   "cell_type": "markdown",
   "metadata": {},
   "source": [
    "Ocena ważności zmiennych"
   ]
  },
  {
   "cell_type": "code",
   "execution_count": 93,
   "metadata": {},
   "outputs": [
    {
     "data": {
      "image/png": "[encoded data removed]",
      "text/plain": [
       "<Figure size 640x480 with 1 Axes>"
      ]
     },
     "metadata": {},
     "output_type": "display_data"
    }
   ],
   "source": [
    "importance = best_model.feature_importances_\n",
    "plt.bar(range(len(importance)), importance)\n",
    "plt.xticks(range(len(importance)), X_train.columns, rotation=45, ha=\"right\")\n",
    "plt.title(\"Feature importances\")\n",
    "plt.xlabel(\"Feature\")\n",
    "plt.ylabel(\"Importance\")\n",
    "plt.show()"
   ]
  },
  {
   "cell_type": "markdown",
   "metadata": {},
   "source": [
    "Ocena specyficzności"
   ]
  },
  {
   "cell_type": "code",
   "execution_count": 94,
   "metadata": {},
   "outputs": [
    {
     "name": "stdout",
     "output_type": "stream",
     "text": [
      "Specificity: 0.6410256410256411\n"
     ]
    }
   ],
   "source": [
    "conf_matrix = confusion_matrix(y_test, best_model.predict(X_test))\n",
    "true_negatives = conf_matrix[0, 0]\n",
    "false_positives = conf_matrix[0, 1]\n",
    "specificity = true_negatives / (true_negatives + false_positives)\n",
    "print(f'Specificity: {specificity}')"
   ]
  },
  {
   "cell_type": "markdown",
   "metadata": {},
   "source": [
    "Raporty klasyfikacyjne"
   ]
  },
  {
   "cell_type": "code",
   "execution_count": 95,
   "metadata": {},
   "outputs": [
    {
     "name": "stdout",
     "output_type": "stream",
     "text": [
      "Zbiór uczący:\n",
      "              precision    recall  f1-score   support\n",
      "\n",
      "           0       0.99      1.00      1.00       161\n",
      "           1       1.00      0.99      1.00       159\n",
      "\n",
      "    accuracy                           1.00       320\n",
      "   macro avg       1.00      1.00      1.00       320\n",
      "weighted avg       1.00      1.00      1.00       320\n",
      "\n",
      "Zbiór testowy:\n",
      "              precision    recall  f1-score   support\n",
      "\n",
      "           0       0.71      0.64      0.68        39\n",
      "           1       0.69      0.76      0.72        41\n",
      "\n",
      "    accuracy                           0.70        80\n",
      "   macro avg       0.70      0.70      0.70        80\n",
      "weighted avg       0.70      0.70      0.70        80\n",
      "\n"
     ]
    }
   ],
   "source": [
    "print(\"Zbiór uczący:\")\n",
    "report_train = classification_report(y_train, best_model.predict(X_train))\n",
    "print(report_train)\n",
    "\n",
    "print(\"Zbiór testowy:\")\n",
    "report_test = classification_report(y_test, best_model.predict(X_test))\n",
    "print(report_test)"
   ]
  },
  {
   "cell_type": "code",
   "execution_count": null,
   "metadata": {},
   "outputs": [],
   "source": []
  }
 ],
 "metadata": {
  "kernelspec": {
   "display_name": "py10",
   "language": "python",
   "name": "python3"
  },
  "language_info": {
   "codemirror_mode": {
    "name": "ipython",
    "version": 3
   },
   "file_extension": ".py",
   "mimetype": "text/x-python",
   "name": "python",
   "nbconvert_exporter": "python",
   "pygments_lexer": "ipython3",
   "version": "3.10.6"
  }
 },
 "nbformat": 4,
 "nbformat_minor": 2
}
