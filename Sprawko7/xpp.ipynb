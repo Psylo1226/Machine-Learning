{
 "cells": [
  {
   "cell_type": "code",
   "execution_count": 227,
   "metadata": {},
   "outputs": [
    {
     "name": "stdout",
     "output_type": "stream",
     "text": [
      "   gender   age  hypertension  heart_disease ever_married      work_type  \\\n",
      "0    Male  67.0             0              1          Yes        Private   \n",
      "1  Female  61.0             0              0          Yes  Self-employed   \n",
      "2    Male  80.0             0              1          Yes        Private   \n",
      "3  Female  49.0             0              0          Yes        Private   \n",
      "4  Female  79.0             1              0          Yes  Self-employed   \n",
      "\n",
      "  Residence_type  avg_glucose_level   bmi   smoking_status  stroke  \n",
      "0          Urban             228.69  36.6  formerly smoked       1  \n",
      "1          Rural             202.21   NaN     never smoked       1  \n",
      "2          Rural             105.92  32.5     never smoked       1  \n",
      "3          Urban             171.23  34.4           smokes       1  \n",
      "4          Rural             174.12  24.0     never smoked       1  \n"
     ]
    }
   ],
   "source": [
    "import pandas as pd\n",
    "from sklearn.model_selection import train_test_split\n",
    "from sklearn.linear_model import LogisticRegression\n",
    "from sklearn.pipeline import Pipeline\n",
    "from sklearn.preprocessing import LabelEncoder\n",
    "from sklearn.impute import SimpleImputer\n",
    "import matplotlib.pyplot as plt\n",
    "import dalex as dx\n",
    "\n",
    "import warnings\n",
    "warnings.filterwarnings('ignore')\n",
    "\n",
    "# Załadowanie danych # Zmień na ścieżkę do swojego pliku\n",
    "df = pd.read_csv('zad7_Stroke.csv', sep=';', decimal='.')\n",
    "\n",
    "# Konwersja typów danych dla zmiennych kategorycznych\n",
    "categorical_columns = ['gender', 'ever_married', 'work_type', 'Residence_type', 'smoking_status']\n",
    "numerical_columns = [col for col in df.columns if col not in categorical_columns + ['stroke']]\n",
    "x_numeric = df[numerical_columns]\n",
    "x_categorical = df[categorical_columns]\n",
    "\n",
    "encoder = LabelEncoder()\n",
    "x_categorical_encoded = x_categorical.apply(encoder.fit_transform)\n",
    "\n",
    "# Wyświetlenie pierwszych wierszy\n",
    "print(df.head())"
   ]
  },
  {
   "cell_type": "code",
   "execution_count": 228,
   "metadata": {},
   "outputs": [],
   "source": [
    "df['heart_disease'].fillna(df['heart_disease'].interpolate(), inplace=True)\n",
    "df['avg_glucose_level'].fillna(df['avg_glucose_level'].interpolate(), inplace=True)\n",
    "df['bmi'].fillna(df['bmi'].interpolate(), inplace=True)"
   ]
  },
  {
   "cell_type": "code",
   "execution_count": 229,
   "metadata": {},
   "outputs": [],
   "source": [
    "columns_to_impute = ['work_type']\n",
    "imputer = SimpleImputer(strategy='most_frequent')\n",
    "data_to_impute = df[columns_to_impute].values\n",
    "imputed_data = imputer.fit_transform(data_to_impute)\n",
    "df[columns_to_impute] = imputed_data"
   ]
  },
  {
   "cell_type": "code",
   "execution_count": 230,
   "metadata": {},
   "outputs": [
    {
     "data": {
      "text/html": [
       "<style>#sk-container-id-4 {color: black;}#sk-container-id-4 pre{padding: 0;}#sk-container-id-4 div.sk-toggleable {background-color: white;}#sk-container-id-4 label.sk-toggleable__label {cursor: pointer;display: block;width: 100%;margin-bottom: 0;padding: 0.3em;box-sizing: border-box;text-align: center;}#sk-container-id-4 label.sk-toggleable__label-arrow:before {content: \"▸\";float: left;margin-right: 0.25em;color: #696969;}#sk-container-id-4 label.sk-toggleable__label-arrow:hover:before {color: black;}#sk-container-id-4 div.sk-estimator:hover label.sk-toggleable__label-arrow:before {color: black;}#sk-container-id-4 div.sk-toggleable__content {max-height: 0;max-width: 0;overflow: hidden;text-align: left;background-color: #f0f8ff;}#sk-container-id-4 div.sk-toggleable__content pre {margin: 0.2em;color: black;border-radius: 0.25em;background-color: #f0f8ff;}#sk-container-id-4 input.sk-toggleable__control:checked~div.sk-toggleable__content {max-height: 200px;max-width: 100%;overflow: auto;}#sk-container-id-4 input.sk-toggleable__control:checked~label.sk-toggleable__label-arrow:before {content: \"▾\";}#sk-container-id-4 div.sk-estimator input.sk-toggleable__control:checked~label.sk-toggleable__label {background-color: #d4ebff;}#sk-container-id-4 div.sk-label input.sk-toggleable__control:checked~label.sk-toggleable__label {background-color: #d4ebff;}#sk-container-id-4 input.sk-hidden--visually {border: 0;clip: rect(1px 1px 1px 1px);clip: rect(1px, 1px, 1px, 1px);height: 1px;margin: -1px;overflow: hidden;padding: 0;position: absolute;width: 1px;}#sk-container-id-4 div.sk-estimator {font-family: monospace;background-color: #f0f8ff;border: 1px dotted black;border-radius: 0.25em;box-sizing: border-box;margin-bottom: 0.5em;}#sk-container-id-4 div.sk-estimator:hover {background-color: #d4ebff;}#sk-container-id-4 div.sk-parallel-item::after {content: \"\";width: 100%;border-bottom: 1px solid gray;flex-grow: 1;}#sk-container-id-4 div.sk-label:hover label.sk-toggleable__label {background-color: #d4ebff;}#sk-container-id-4 div.sk-serial::before {content: \"\";position: absolute;border-left: 1px solid gray;box-sizing: border-box;top: 0;bottom: 0;left: 50%;z-index: 0;}#sk-container-id-4 div.sk-serial {display: flex;flex-direction: column;align-items: center;background-color: white;padding-right: 0.2em;padding-left: 0.2em;position: relative;}#sk-container-id-4 div.sk-item {position: relative;z-index: 1;}#sk-container-id-4 div.sk-parallel {display: flex;align-items: stretch;justify-content: center;background-color: white;position: relative;}#sk-container-id-4 div.sk-item::before, #sk-container-id-4 div.sk-parallel-item::before {content: \"\";position: absolute;border-left: 1px solid gray;box-sizing: border-box;top: 0;bottom: 0;left: 50%;z-index: -1;}#sk-container-id-4 div.sk-parallel-item {display: flex;flex-direction: column;z-index: 1;position: relative;background-color: white;}#sk-container-id-4 div.sk-parallel-item:first-child::after {align-self: flex-end;width: 50%;}#sk-container-id-4 div.sk-parallel-item:last-child::after {align-self: flex-start;width: 50%;}#sk-container-id-4 div.sk-parallel-item:only-child::after {width: 0;}#sk-container-id-4 div.sk-dashed-wrapped {border: 1px dashed gray;margin: 0 0.4em 0.5em 0.4em;box-sizing: border-box;padding-bottom: 0.4em;background-color: white;}#sk-container-id-4 div.sk-label label {font-family: monospace;font-weight: bold;display: inline-block;line-height: 1.2em;}#sk-container-id-4 div.sk-label-container {text-align: center;}#sk-container-id-4 div.sk-container {/* jupyter's `normalize.less` sets `[hidden] { display: none; }` but bootstrap.min.css set `[hidden] { display: none !important; }` so we also need the `!important` here to be able to override the default hidden behavior on the sphinx rendered scikit-learn.org. See: https://github.com/scikit-learn/scikit-learn/issues/21755 */display: inline-block !important;position: relative;}#sk-container-id-4 div.sk-text-repr-fallback {display: none;}</style><div id=\"sk-container-id-4\" class=\"sk-top-container\"><div class=\"sk-text-repr-fallback\"><pre>Pipeline(steps=[(&#x27;preprocessor&#x27;,\n",
       "                 ColumnTransformer(transformers=[(&#x27;num&#x27;, StandardScaler(),\n",
       "                                                  Index([&#x27;age&#x27;, &#x27;hypertension&#x27;, &#x27;heart_disease&#x27;, &#x27;avg_glucose_level&#x27;, &#x27;bmi&#x27;], dtype=&#x27;object&#x27;)),\n",
       "                                                 (&#x27;cat&#x27;, OneHotEncoder(),\n",
       "                                                  [&#x27;gender&#x27;, &#x27;ever_married&#x27;,\n",
       "                                                   &#x27;work_type&#x27;,\n",
       "                                                   &#x27;Residence_type&#x27;,\n",
       "                                                   &#x27;smoking_status&#x27;])])),\n",
       "                (&#x27;classifier&#x27;, LogisticRegression(max_iter=1000))])</pre><b>In a Jupyter environment, please rerun this cell to show the HTML representation or trust the notebook. <br />On GitHub, the HTML representation is unable to render, please try loading this page with nbviewer.org.</b></div><div class=\"sk-container\" hidden><div class=\"sk-item sk-dashed-wrapped\"><div class=\"sk-label-container\"><div class=\"sk-label sk-toggleable\"><input class=\"sk-toggleable__control sk-hidden--visually\" id=\"sk-estimator-id-22\" type=\"checkbox\" ><label for=\"sk-estimator-id-22\" class=\"sk-toggleable__label sk-toggleable__label-arrow\">Pipeline</label><div class=\"sk-toggleable__content\"><pre>Pipeline(steps=[(&#x27;preprocessor&#x27;,\n",
       "                 ColumnTransformer(transformers=[(&#x27;num&#x27;, StandardScaler(),\n",
       "                                                  Index([&#x27;age&#x27;, &#x27;hypertension&#x27;, &#x27;heart_disease&#x27;, &#x27;avg_glucose_level&#x27;, &#x27;bmi&#x27;], dtype=&#x27;object&#x27;)),\n",
       "                                                 (&#x27;cat&#x27;, OneHotEncoder(),\n",
       "                                                  [&#x27;gender&#x27;, &#x27;ever_married&#x27;,\n",
       "                                                   &#x27;work_type&#x27;,\n",
       "                                                   &#x27;Residence_type&#x27;,\n",
       "                                                   &#x27;smoking_status&#x27;])])),\n",
       "                (&#x27;classifier&#x27;, LogisticRegression(max_iter=1000))])</pre></div></div></div><div class=\"sk-serial\"><div class=\"sk-item sk-dashed-wrapped\"><div class=\"sk-label-container\"><div class=\"sk-label sk-toggleable\"><input class=\"sk-toggleable__control sk-hidden--visually\" id=\"sk-estimator-id-23\" type=\"checkbox\" ><label for=\"sk-estimator-id-23\" class=\"sk-toggleable__label sk-toggleable__label-arrow\">preprocessor: ColumnTransformer</label><div class=\"sk-toggleable__content\"><pre>ColumnTransformer(transformers=[(&#x27;num&#x27;, StandardScaler(),\n",
       "                                 Index([&#x27;age&#x27;, &#x27;hypertension&#x27;, &#x27;heart_disease&#x27;, &#x27;avg_glucose_level&#x27;, &#x27;bmi&#x27;], dtype=&#x27;object&#x27;)),\n",
       "                                (&#x27;cat&#x27;, OneHotEncoder(),\n",
       "                                 [&#x27;gender&#x27;, &#x27;ever_married&#x27;, &#x27;work_type&#x27;,\n",
       "                                  &#x27;Residence_type&#x27;, &#x27;smoking_status&#x27;])])</pre></div></div></div><div class=\"sk-parallel\"><div class=\"sk-parallel-item\"><div class=\"sk-item\"><div class=\"sk-label-container\"><div class=\"sk-label sk-toggleable\"><input class=\"sk-toggleable__control sk-hidden--visually\" id=\"sk-estimator-id-24\" type=\"checkbox\" ><label for=\"sk-estimator-id-24\" class=\"sk-toggleable__label sk-toggleable__label-arrow\">num</label><div class=\"sk-toggleable__content\"><pre>Index([&#x27;age&#x27;, &#x27;hypertension&#x27;, &#x27;heart_disease&#x27;, &#x27;avg_glucose_level&#x27;, &#x27;bmi&#x27;], dtype=&#x27;object&#x27;)</pre></div></div></div><div class=\"sk-serial\"><div class=\"sk-item\"><div class=\"sk-estimator sk-toggleable\"><input class=\"sk-toggleable__control sk-hidden--visually\" id=\"sk-estimator-id-25\" type=\"checkbox\" ><label for=\"sk-estimator-id-25\" class=\"sk-toggleable__label sk-toggleable__label-arrow\">StandardScaler</label><div class=\"sk-toggleable__content\"><pre>StandardScaler()</pre></div></div></div></div></div></div><div class=\"sk-parallel-item\"><div class=\"sk-item\"><div class=\"sk-label-container\"><div class=\"sk-label sk-toggleable\"><input class=\"sk-toggleable__control sk-hidden--visually\" id=\"sk-estimator-id-26\" type=\"checkbox\" ><label for=\"sk-estimator-id-26\" class=\"sk-toggleable__label sk-toggleable__label-arrow\">cat</label><div class=\"sk-toggleable__content\"><pre>[&#x27;gender&#x27;, &#x27;ever_married&#x27;, &#x27;work_type&#x27;, &#x27;Residence_type&#x27;, &#x27;smoking_status&#x27;]</pre></div></div></div><div class=\"sk-serial\"><div class=\"sk-item\"><div class=\"sk-estimator sk-toggleable\"><input class=\"sk-toggleable__control sk-hidden--visually\" id=\"sk-estimator-id-27\" type=\"checkbox\" ><label for=\"sk-estimator-id-27\" class=\"sk-toggleable__label sk-toggleable__label-arrow\">OneHotEncoder</label><div class=\"sk-toggleable__content\"><pre>OneHotEncoder()</pre></div></div></div></div></div></div></div></div><div class=\"sk-item\"><div class=\"sk-estimator sk-toggleable\"><input class=\"sk-toggleable__control sk-hidden--visually\" id=\"sk-estimator-id-28\" type=\"checkbox\" ><label for=\"sk-estimator-id-28\" class=\"sk-toggleable__label sk-toggleable__label-arrow\">LogisticRegression</label><div class=\"sk-toggleable__content\"><pre>LogisticRegression(max_iter=1000)</pre></div></div></div></div></div></div></div>"
      ],
      "text/plain": [
       "Pipeline(steps=[('preprocessor',\n",
       "                 ColumnTransformer(transformers=[('num', StandardScaler(),\n",
       "                                                  Index(['age', 'hypertension', 'heart_disease', 'avg_glucose_level', 'bmi'], dtype='object')),\n",
       "                                                 ('cat', OneHotEncoder(),\n",
       "                                                  ['gender', 'ever_married',\n",
       "                                                   'work_type',\n",
       "                                                   'Residence_type',\n",
       "                                                   'smoking_status'])])),\n",
       "                ('classifier', LogisticRegression(max_iter=1000))])"
      ]
     },
     "execution_count": 230,
     "metadata": {},
     "output_type": "execute_result"
    }
   ],
   "source": [
    "X = df.drop('stroke', axis=1)\n",
    "y = df['stroke']\n",
    "X_train, X_test, y_train, y_test = train_test_split(X, y, test_size=len(df) - 600, random_state=9)\n",
    "\n",
    "# Trenowanie modelu\n",
    "model = Pipeline(steps=[('preprocessor', preprocessor),\n",
    "                        ('classifier', LogisticRegression(max_iter=1000))])  # Zwiększenie liczby iteracji, jeśli to konieczne\n",
    "model.fit(X_train, y_train)"
   ]
  },
  {
   "cell_type": "markdown",
   "metadata": {},
   "source": [
    "Profile ceteris-paribus (PCP)"
   ]
  },
  {
   "cell_type": "code",
   "execution_count": 231,
   "metadata": {},
   "outputs": [
    {
     "name": "stdout",
     "output_type": "stream",
     "text": [
      "Preparation of a new explainer is initiated\n",
      "\n",
      "  -> data              : 600 rows 10 cols\n",
      "  -> target variable   : Parameter 'y' was a pandas.Series. Converted to a numpy.ndarray.\n",
      "  -> target variable   : 600 values\n",
      "  -> model_class       : sklearn.linear_model._logistic.LogisticRegression (default)\n",
      "  -> label             : Logistic Regression\n",
      "  -> predict function  : <function yhat_proba_default at 0x000001FA9D1E83A0> will be used (default)\n",
      "  -> predict function  : Accepts only pandas.DataFrame, numpy.ndarray causes problems.\n",
      "  -> predicted values  : min = 0.00126, mean = 0.0483, max = 0.481\n",
      "  -> model type        : classification will be used (default)\n",
      "  -> residual function : difference between y and yhat (default)\n",
      "  -> residuals         : min = -0.443, mean = -2.43e-09, max = 0.998\n",
      "  -> model_info        : package sklearn\n",
      "\n",
      "A new explainer has been created!\n"
     ]
    },
    {
     "name": "stderr",
     "output_type": "stream",
     "text": [
      "Calculating ceteris paribus:   0%|          | 0/10 [00:00<?, ?it/s]"
     ]
    },
    {
     "name": "stderr",
     "output_type": "stream",
     "text": [
      "Calculating ceteris paribus: 100%|██████████| 10/10 [00:00<00:00, 131.58it/s]\n"
     ]
    },
    {
     "data": {
      "application/vnd.plotly.v1+json": {
       "config": {
        "displaylogo": false,
        "modeBarButtonsToRemove": [
         "sendDataToCloud",
         "lasso2d",
         "autoScale2d",
         "select2d",
         "zoom2d",
         "pan2d",
         "zoomIn2d",
         "zoomOut2d",
         "resetScale2d",
         "toggleSpikelines",
         "hoverCompareCartesian",
         "hoverClosestCartesian"
        ],
        "plotlyServerURL": "https://plot.ly",
        "staticPlot": false,
        "toImageButtonOptions": {
         "height": null,
         "width": null
        }
       },
       "data": [
        {
         "customdata": [
          [
           "</br>id: 3256</br>prediction: 0.003</br>age: 0.24</br></br>gender: Female</br>hypertension: 0.0</br>heart_disease: 0.0</br>ever_married: Yes</br>work_type: Private</br>Residence_type: Rural</br>avg_glucose_level: 91.85</br>bmi: 27.6</br>smoking_status: formerly smoked</br>_original_yhat_: 0.12539441442207006</br>"
          ],
          [
           "</br>id: 3256</br>prediction: 0.003</br>age: 1.0576</br></br>gender: Female</br>hypertension: 0.0</br>heart_disease: 0.0</br>ever_married: Yes</br>work_type: Private</br>Residence_type: Rural</br>avg_glucose_level: 91.85</br>bmi: 27.6</br>smoking_status: formerly smoked</br>_original_yhat_: 0.12539441442207006</br>"
          ],
          [
           "</br>id: 3256</br>prediction: 0.004</br>age: 1.8752000000000002</br></br>gender: Female</br>hypertension: 0.0</br>heart_disease: 0.0</br>ever_married: Yes</br>work_type: Private</br>Residence_type: Rural</br>avg_glucose_level: 91.85</br>bmi: 27.6</br>smoking_status: formerly smoked</br>_original_yhat_: 0.12539441442207006</br>"
          ],
          [
           "</br>id: 3256</br>prediction: 0.004</br>age: 2.6928</br></br>gender: Female</br>hypertension: 0.0</br>heart_disease: 0.0</br>ever_married: Yes</br>work_type: Private</br>Residence_type: Rural</br>avg_glucose_level: 91.85</br>bmi: 27.6</br>smoking_status: formerly smoked</br>_original_yhat_: 0.12539441442207006</br>"
          ],
          [
           "</br>id: 3256</br>prediction: 0.004</br>age: 3.5104000000000006</br></br>gender: Female</br>hypertension: 0.0</br>heart_disease: 0.0</br>ever_married: Yes</br>work_type: Private</br>Residence_type: Rural</br>avg_glucose_level: 91.85</br>bmi: 27.6</br>smoking_status: formerly smoked</br>_original_yhat_: 0.12539441442207006</br>"
          ],
          [
           "</br>id: 3256</br>prediction: 0.004</br>age: 4.328000000000001</br></br>gender: Female</br>hypertension: 0.0</br>heart_disease: 0.0</br>ever_married: Yes</br>work_type: Private</br>Residence_type: Rural</br>avg_glucose_level: 91.85</br>bmi: 27.6</br>smoking_status: formerly smoked</br>_original_yhat_: 0.12539441442207006</br>"
          ],
          [
           "</br>id: 3256</br>prediction: 0.004</br>age: 5.145600000000001</br></br>gender: Female</br>hypertension: 0.0</br>heart_disease: 0.0</br>ever_married: Yes</br>work_type: Private</br>Residence_type: Rural</br>avg_glucose_level: 91.85</br>bmi: 27.6</br>smoking_status: formerly smoked</br>_original_yhat_: 0.12539441442207006</br>"
          ],
          [
           "</br>id: 3256</br>prediction: 0.004</br>age: 5.9632000000000005</br></br>gender: Female</br>hypertension: 0.0</br>heart_disease: 0.0</br>ever_married: Yes</br>work_type: Private</br>Residence_type: Rural</br>avg_glucose_level: 91.85</br>bmi: 27.6</br>smoking_status: formerly smoked</br>_original_yhat_: 0.12539441442207006</br>"
          ],
          [
           "</br>id: 3256</br>prediction: 0.005</br>age: 6.780800000000001</br></br>gender: Female</br>hypertension: 0.0</br>heart_disease: 0.0</br>ever_married: Yes</br>work_type: Private</br>Residence_type: Rural</br>avg_glucose_level: 91.85</br>bmi: 27.6</br>smoking_status: formerly smoked</br>_original_yhat_: 0.12539441442207006</br>"
          ],
          [
           "</br>id: 3256</br>prediction: 0.005</br>age: 7.598400000000002</br></br>gender: Female</br>hypertension: 0.0</br>heart_disease: 0.0</br>ever_married: Yes</br>work_type: Private</br>Residence_type: Rural</br>avg_glucose_level: 91.85</br>bmi: 27.6</br>smoking_status: formerly smoked</br>_original_yhat_: 0.12539441442207006</br>"
          ],
          [
           "</br>id: 3256</br>prediction: 0.005</br>age: 8.416000000000002</br></br>gender: Female</br>hypertension: 0.0</br>heart_disease: 0.0</br>ever_married: Yes</br>work_type: Private</br>Residence_type: Rural</br>avg_glucose_level: 91.85</br>bmi: 27.6</br>smoking_status: formerly smoked</br>_original_yhat_: 0.12539441442207006</br>"
          ],
          [
           "</br>id: 3256</br>prediction: 0.005</br>age: 9.233600000000001</br></br>gender: Female</br>hypertension: 0.0</br>heart_disease: 0.0</br>ever_married: Yes</br>work_type: Private</br>Residence_type: Rural</br>avg_glucose_level: 91.85</br>bmi: 27.6</br>smoking_status: formerly smoked</br>_original_yhat_: 0.12539441442207006</br>"
          ],
          [
           "</br>id: 3256</br>prediction: 0.005</br>age: 10.051200000000001</br></br>gender: Female</br>hypertension: 0.0</br>heart_disease: 0.0</br>ever_married: Yes</br>work_type: Private</br>Residence_type: Rural</br>avg_glucose_level: 91.85</br>bmi: 27.6</br>smoking_status: formerly smoked</br>_original_yhat_: 0.12539441442207006</br>"
          ],
          [
           "</br>id: 3256</br>prediction: 0.006</br>age: 10.868800000000002</br></br>gender: Female</br>hypertension: 0.0</br>heart_disease: 0.0</br>ever_married: Yes</br>work_type: Private</br>Residence_type: Rural</br>avg_glucose_level: 91.85</br>bmi: 27.6</br>smoking_status: formerly smoked</br>_original_yhat_: 0.12539441442207006</br>"
          ],
          [
           "</br>id: 3256</br>prediction: 0.006</br>age: 11.6864</br></br>gender: Female</br>hypertension: 0.0</br>heart_disease: 0.0</br>ever_married: Yes</br>work_type: Private</br>Residence_type: Rural</br>avg_glucose_level: 91.85</br>bmi: 27.6</br>smoking_status: formerly smoked</br>_original_yhat_: 0.12539441442207006</br>"
          ],
          [
           "</br>id: 3256</br>prediction: 0.006</br>age: 12.504000000000001</br></br>gender: Female</br>hypertension: 0.0</br>heart_disease: 0.0</br>ever_married: Yes</br>work_type: Private</br>Residence_type: Rural</br>avg_glucose_level: 91.85</br>bmi: 27.6</br>smoking_status: formerly smoked</br>_original_yhat_: 0.12539441442207006</br>"
          ],
          [
           "</br>id: 3256</br>prediction: 0.007</br>age: 13.321600000000002</br></br>gender: Female</br>hypertension: 0.0</br>heart_disease: 0.0</br>ever_married: Yes</br>work_type: Private</br>Residence_type: Rural</br>avg_glucose_level: 91.85</br>bmi: 27.6</br>smoking_status: formerly smoked</br>_original_yhat_: 0.12539441442207006</br>"
          ],
          [
           "</br>id: 3256</br>prediction: 0.007</br>age: 14.139200000000002</br></br>gender: Female</br>hypertension: 0.0</br>heart_disease: 0.0</br>ever_married: Yes</br>work_type: Private</br>Residence_type: Rural</br>avg_glucose_level: 91.85</br>bmi: 27.6</br>smoking_status: formerly smoked</br>_original_yhat_: 0.12539441442207006</br>"
          ],
          [
           "</br>id: 3256</br>prediction: 0.007</br>age: 14.956800000000003</br></br>gender: Female</br>hypertension: 0.0</br>heart_disease: 0.0</br>ever_married: Yes</br>work_type: Private</br>Residence_type: Rural</br>avg_glucose_level: 91.85</br>bmi: 27.6</br>smoking_status: formerly smoked</br>_original_yhat_: 0.12539441442207006</br>"
          ],
          [
           "</br>id: 3256</br>prediction: 0.007</br>age: 15.774400000000002</br></br>gender: Female</br>hypertension: 0.0</br>heart_disease: 0.0</br>ever_married: Yes</br>work_type: Private</br>Residence_type: Rural</br>avg_glucose_level: 91.85</br>bmi: 27.6</br>smoking_status: formerly smoked</br>_original_yhat_: 0.12539441442207006</br>"
          ],
          [
           "</br>id: 3256</br>prediction: 0.008</br>age: 16.592000000000002</br></br>gender: Female</br>hypertension: 0.0</br>heart_disease: 0.0</br>ever_married: Yes</br>work_type: Private</br>Residence_type: Rural</br>avg_glucose_level: 91.85</br>bmi: 27.6</br>smoking_status: formerly smoked</br>_original_yhat_: 0.12539441442207006</br>"
          ],
          [
           "</br>id: 3256</br>prediction: 0.008</br>age: 17.4096</br></br>gender: Female</br>hypertension: 0.0</br>heart_disease: 0.0</br>ever_married: Yes</br>work_type: Private</br>Residence_type: Rural</br>avg_glucose_level: 91.85</br>bmi: 27.6</br>smoking_status: formerly smoked</br>_original_yhat_: 0.12539441442207006</br>"
          ],
          [
           "</br>id: 3256</br>prediction: 0.008</br>age: 18.2272</br></br>gender: Female</br>hypertension: 0.0</br>heart_disease: 0.0</br>ever_married: Yes</br>work_type: Private</br>Residence_type: Rural</br>avg_glucose_level: 91.85</br>bmi: 27.6</br>smoking_status: formerly smoked</br>_original_yhat_: 0.12539441442207006</br>"
          ],
          [
           "</br>id: 3256</br>prediction: 0.009</br>age: 19.044800000000002</br></br>gender: Female</br>hypertension: 0.0</br>heart_disease: 0.0</br>ever_married: Yes</br>work_type: Private</br>Residence_type: Rural</br>avg_glucose_level: 91.85</br>bmi: 27.6</br>smoking_status: formerly smoked</br>_original_yhat_: 0.12539441442207006</br>"
          ],
          [
           "</br>id: 3256</br>prediction: 0.009</br>age: 19.8624</br></br>gender: Female</br>hypertension: 0.0</br>heart_disease: 0.0</br>ever_married: Yes</br>work_type: Private</br>Residence_type: Rural</br>avg_glucose_level: 91.85</br>bmi: 27.6</br>smoking_status: formerly smoked</br>_original_yhat_: 0.12539441442207006</br>"
          ],
          [
           "</br>id: 3256</br>prediction: 0.01</br>age: 20.68</br></br>gender: Female</br>hypertension: 0.0</br>heart_disease: 0.0</br>ever_married: Yes</br>work_type: Private</br>Residence_type: Rural</br>avg_glucose_level: 91.85</br>bmi: 27.6</br>smoking_status: formerly smoked</br>_original_yhat_: 0.12539441442207006</br>"
          ],
          [
           "</br>id: 3256</br>prediction: 0.01</br>age: 21.497600000000002</br></br>gender: Female</br>hypertension: 0.0</br>heart_disease: 0.0</br>ever_married: Yes</br>work_type: Private</br>Residence_type: Rural</br>avg_glucose_level: 91.85</br>bmi: 27.6</br>smoking_status: formerly smoked</br>_original_yhat_: 0.12539441442207006</br>"
          ],
          [
           "</br>id: 3256</br>prediction: 0.011</br>age: 22.3152</br></br>gender: Female</br>hypertension: 0.0</br>heart_disease: 0.0</br>ever_married: Yes</br>work_type: Private</br>Residence_type: Rural</br>avg_glucose_level: 91.85</br>bmi: 27.6</br>smoking_status: formerly smoked</br>_original_yhat_: 0.12539441442207006</br>"
          ],
          [
           "</br>id: 3256</br>prediction: 0.011</br>age: 23.1328</br></br>gender: Female</br>hypertension: 0.0</br>heart_disease: 0.0</br>ever_married: Yes</br>work_type: Private</br>Residence_type: Rural</br>avg_glucose_level: 91.85</br>bmi: 27.6</br>smoking_status: formerly smoked</br>_original_yhat_: 0.12539441442207006</br>"
          ],
          [
           "</br>id: 3256</br>prediction: 0.011</br>age: 23.950400000000002</br></br>gender: Female</br>hypertension: 0.0</br>heart_disease: 0.0</br>ever_married: Yes</br>work_type: Private</br>Residence_type: Rural</br>avg_glucose_level: 91.85</br>bmi: 27.6</br>smoking_status: formerly smoked</br>_original_yhat_: 0.12539441442207006</br>"
          ],
          [
           "</br>id: 3256</br>prediction: 0.012</br>age: 24.768</br></br>gender: Female</br>hypertension: 0.0</br>heart_disease: 0.0</br>ever_married: Yes</br>work_type: Private</br>Residence_type: Rural</br>avg_glucose_level: 91.85</br>bmi: 27.6</br>smoking_status: formerly smoked</br>_original_yhat_: 0.12539441442207006</br>"
          ],
          [
           "</br>id: 3256</br>prediction: 0.013</br>age: 25.585600000000003</br></br>gender: Female</br>hypertension: 0.0</br>heart_disease: 0.0</br>ever_married: Yes</br>work_type: Private</br>Residence_type: Rural</br>avg_glucose_level: 91.85</br>bmi: 27.6</br>smoking_status: formerly smoked</br>_original_yhat_: 0.12539441442207006</br>"
          ],
          [
           "</br>id: 3256</br>prediction: 0.013</br>age: 26.403200000000002</br></br>gender: Female</br>hypertension: 0.0</br>heart_disease: 0.0</br>ever_married: Yes</br>work_type: Private</br>Residence_type: Rural</br>avg_glucose_level: 91.85</br>bmi: 27.6</br>smoking_status: formerly smoked</br>_original_yhat_: 0.12539441442207006</br>"
          ],
          [
           "</br>id: 3256</br>prediction: 0.014</br>age: 27.2208</br></br>gender: Female</br>hypertension: 0.0</br>heart_disease: 0.0</br>ever_married: Yes</br>work_type: Private</br>Residence_type: Rural</br>avg_glucose_level: 91.85</br>bmi: 27.6</br>smoking_status: formerly smoked</br>_original_yhat_: 0.12539441442207006</br>"
          ],
          [
           "</br>id: 3256</br>prediction: 0.014</br>age: 28.038400000000003</br></br>gender: Female</br>hypertension: 0.0</br>heart_disease: 0.0</br>ever_married: Yes</br>work_type: Private</br>Residence_type: Rural</br>avg_glucose_level: 91.85</br>bmi: 27.6</br>smoking_status: formerly smoked</br>_original_yhat_: 0.12539441442207006</br>"
          ],
          [
           "</br>id: 3256</br>prediction: 0.015</br>age: 28.856</br></br>gender: Female</br>hypertension: 0.0</br>heart_disease: 0.0</br>ever_married: Yes</br>work_type: Private</br>Residence_type: Rural</br>avg_glucose_level: 91.85</br>bmi: 27.6</br>smoking_status: formerly smoked</br>_original_yhat_: 0.12539441442207006</br>"
          ],
          [
           "</br>id: 3256</br>prediction: 0.016</br>age: 29.673600000000004</br></br>gender: Female</br>hypertension: 0.0</br>heart_disease: 0.0</br>ever_married: Yes</br>work_type: Private</br>Residence_type: Rural</br>avg_glucose_level: 91.85</br>bmi: 27.6</br>smoking_status: formerly smoked</br>_original_yhat_: 0.12539441442207006</br>"
          ],
          [
           "</br>id: 3256</br>prediction: 0.016</br>age: 30.491200000000003</br></br>gender: Female</br>hypertension: 0.0</br>heart_disease: 0.0</br>ever_married: Yes</br>work_type: Private</br>Residence_type: Rural</br>avg_glucose_level: 91.85</br>bmi: 27.6</br>smoking_status: formerly smoked</br>_original_yhat_: 0.12539441442207006</br>"
          ],
          [
           "</br>id: 3256</br>prediction: 0.017</br>age: 31.3088</br></br>gender: Female</br>hypertension: 0.0</br>heart_disease: 0.0</br>ever_married: Yes</br>work_type: Private</br>Residence_type: Rural</br>avg_glucose_level: 91.85</br>bmi: 27.6</br>smoking_status: formerly smoked</br>_original_yhat_: 0.12539441442207006</br>"
          ],
          [
           "</br>id: 3256</br>prediction: 0.018</br>age: 32.126400000000004</br></br>gender: Female</br>hypertension: 0.0</br>heart_disease: 0.0</br>ever_married: Yes</br>work_type: Private</br>Residence_type: Rural</br>avg_glucose_level: 91.85</br>bmi: 27.6</br>smoking_status: formerly smoked</br>_original_yhat_: 0.12539441442207006</br>"
          ],
          [
           "</br>id: 3256</br>prediction: 0.018</br>age: 32.94400000000001</br></br>gender: Female</br>hypertension: 0.0</br>heart_disease: 0.0</br>ever_married: Yes</br>work_type: Private</br>Residence_type: Rural</br>avg_glucose_level: 91.85</br>bmi: 27.6</br>smoking_status: formerly smoked</br>_original_yhat_: 0.12539441442207006</br>"
          ],
          [
           "</br>id: 3256</br>prediction: 0.019</br>age: 33.76160000000001</br></br>gender: Female</br>hypertension: 0.0</br>heart_disease: 0.0</br>ever_married: Yes</br>work_type: Private</br>Residence_type: Rural</br>avg_glucose_level: 91.85</br>bmi: 27.6</br>smoking_status: formerly smoked</br>_original_yhat_: 0.12539441442207006</br>"
          ],
          [
           "</br>id: 3256</br>prediction: 0.02</br>age: 34.57920000000001</br></br>gender: Female</br>hypertension: 0.0</br>heart_disease: 0.0</br>ever_married: Yes</br>work_type: Private</br>Residence_type: Rural</br>avg_glucose_level: 91.85</br>bmi: 27.6</br>smoking_status: formerly smoked</br>_original_yhat_: 0.12539441442207006</br>"
          ],
          [
           "</br>id: 3256</br>prediction: 0.021</br>age: 35.396800000000006</br></br>gender: Female</br>hypertension: 0.0</br>heart_disease: 0.0</br>ever_married: Yes</br>work_type: Private</br>Residence_type: Rural</br>avg_glucose_level: 91.85</br>bmi: 27.6</br>smoking_status: formerly smoked</br>_original_yhat_: 0.12539441442207006</br>"
          ],
          [
           "</br>id: 3256</br>prediction: 0.022</br>age: 36.214400000000005</br></br>gender: Female</br>hypertension: 0.0</br>heart_disease: 0.0</br>ever_married: Yes</br>work_type: Private</br>Residence_type: Rural</br>avg_glucose_level: 91.85</br>bmi: 27.6</br>smoking_status: formerly smoked</br>_original_yhat_: 0.12539441442207006</br>"
          ],
          [
           "</br>id: 3256</br>prediction: 0.023</br>age: 37.032000000000004</br></br>gender: Female</br>hypertension: 0.0</br>heart_disease: 0.0</br>ever_married: Yes</br>work_type: Private</br>Residence_type: Rural</br>avg_glucose_level: 91.85</br>bmi: 27.6</br>smoking_status: formerly smoked</br>_original_yhat_: 0.12539441442207006</br>"
          ],
          [
           "</br>id: 3256</br>prediction: 0.024</br>age: 37.84960000000001</br></br>gender: Female</br>hypertension: 0.0</br>heart_disease: 0.0</br>ever_married: Yes</br>work_type: Private</br>Residence_type: Rural</br>avg_glucose_level: 91.85</br>bmi: 27.6</br>smoking_status: formerly smoked</br>_original_yhat_: 0.12539441442207006</br>"
          ],
          [
           "</br>id: 3256</br>prediction: 0.025</br>age: 38.66720000000001</br></br>gender: Female</br>hypertension: 0.0</br>heart_disease: 0.0</br>ever_married: Yes</br>work_type: Private</br>Residence_type: Rural</br>avg_glucose_level: 91.85</br>bmi: 27.6</br>smoking_status: formerly smoked</br>_original_yhat_: 0.12539441442207006</br>"
          ],
          [
           "</br>id: 3256</br>prediction: 0.026</br>age: 39.48480000000001</br></br>gender: Female</br>hypertension: 0.0</br>heart_disease: 0.0</br>ever_married: Yes</br>work_type: Private</br>Residence_type: Rural</br>avg_glucose_level: 91.85</br>bmi: 27.6</br>smoking_status: formerly smoked</br>_original_yhat_: 0.12539441442207006</br>"
          ],
          [
           "</br>id: 3256</br>prediction: 0.027</br>age: 40.302400000000006</br></br>gender: Female</br>hypertension: 0.0</br>heart_disease: 0.0</br>ever_married: Yes</br>work_type: Private</br>Residence_type: Rural</br>avg_glucose_level: 91.85</br>bmi: 27.6</br>smoking_status: formerly smoked</br>_original_yhat_: 0.12539441442207006</br>"
          ],
          [
           "</br>id: 3256</br>prediction: 0.028</br>age: 41.120000000000005</br></br>gender: Female</br>hypertension: 0.0</br>heart_disease: 0.0</br>ever_married: Yes</br>work_type: Private</br>Residence_type: Rural</br>avg_glucose_level: 91.85</br>bmi: 27.6</br>smoking_status: formerly smoked</br>_original_yhat_: 0.12539441442207006</br>"
          ],
          [
           "</br>id: 3256</br>prediction: 0.029</br>age: 41.93760000000001</br></br>gender: Female</br>hypertension: 0.0</br>heart_disease: 0.0</br>ever_married: Yes</br>work_type: Private</br>Residence_type: Rural</br>avg_glucose_level: 91.85</br>bmi: 27.6</br>smoking_status: formerly smoked</br>_original_yhat_: 0.12539441442207006</br>"
          ],
          [
           "</br>id: 3256</br>prediction: 0.031</br>age: 42.75520000000001</br></br>gender: Female</br>hypertension: 0.0</br>heart_disease: 0.0</br>ever_married: Yes</br>work_type: Private</br>Residence_type: Rural</br>avg_glucose_level: 91.85</br>bmi: 27.6</br>smoking_status: formerly smoked</br>_original_yhat_: 0.12539441442207006</br>"
          ],
          [
           "</br>id: 3256</br>prediction: 0.032</br>age: 43.57280000000001</br></br>gender: Female</br>hypertension: 0.0</br>heart_disease: 0.0</br>ever_married: Yes</br>work_type: Private</br>Residence_type: Rural</br>avg_glucose_level: 91.85</br>bmi: 27.6</br>smoking_status: formerly smoked</br>_original_yhat_: 0.12539441442207006</br>"
          ],
          [
           "</br>id: 3256</br>prediction: 0.033</br>age: 44.39040000000001</br></br>gender: Female</br>hypertension: 0.0</br>heart_disease: 0.0</br>ever_married: Yes</br>work_type: Private</br>Residence_type: Rural</br>avg_glucose_level: 91.85</br>bmi: 27.6</br>smoking_status: formerly smoked</br>_original_yhat_: 0.12539441442207006</br>"
          ],
          [
           "</br>id: 3256</br>prediction: 0.035</br>age: 45.208000000000006</br></br>gender: Female</br>hypertension: 0.0</br>heart_disease: 0.0</br>ever_married: Yes</br>work_type: Private</br>Residence_type: Rural</br>avg_glucose_level: 91.85</br>bmi: 27.6</br>smoking_status: formerly smoked</br>_original_yhat_: 0.12539441442207006</br>"
          ],
          [
           "</br>id: 3256</br>prediction: 0.036</br>age: 46.025600000000004</br></br>gender: Female</br>hypertension: 0.0</br>heart_disease: 0.0</br>ever_married: Yes</br>work_type: Private</br>Residence_type: Rural</br>avg_glucose_level: 91.85</br>bmi: 27.6</br>smoking_status: formerly smoked</br>_original_yhat_: 0.12539441442207006</br>"
          ],
          [
           "</br>id: 3256</br>prediction: 0.038</br>age: 46.84320000000001</br></br>gender: Female</br>hypertension: 0.0</br>heart_disease: 0.0</br>ever_married: Yes</br>work_type: Private</br>Residence_type: Rural</br>avg_glucose_level: 91.85</br>bmi: 27.6</br>smoking_status: formerly smoked</br>_original_yhat_: 0.12539441442207006</br>"
          ],
          [
           "</br>id: 3256</br>prediction: 0.04</br>age: 47.66080000000001</br></br>gender: Female</br>hypertension: 0.0</br>heart_disease: 0.0</br>ever_married: Yes</br>work_type: Private</br>Residence_type: Rural</br>avg_glucose_level: 91.85</br>bmi: 27.6</br>smoking_status: formerly smoked</br>_original_yhat_: 0.12539441442207006</br>"
          ],
          [
           "</br>id: 3256</br>prediction: 0.041</br>age: 48.47840000000001</br></br>gender: Female</br>hypertension: 0.0</br>heart_disease: 0.0</br>ever_married: Yes</br>work_type: Private</br>Residence_type: Rural</br>avg_glucose_level: 91.85</br>bmi: 27.6</br>smoking_status: formerly smoked</br>_original_yhat_: 0.12539441442207006</br>"
          ],
          [
           "</br>id: 3256</br>prediction: 0.043</br>age: 49.29600000000001</br></br>gender: Female</br>hypertension: 0.0</br>heart_disease: 0.0</br>ever_married: Yes</br>work_type: Private</br>Residence_type: Rural</br>avg_glucose_level: 91.85</br>bmi: 27.6</br>smoking_status: formerly smoked</br>_original_yhat_: 0.12539441442207006</br>"
          ],
          [
           "</br>id: 3256</br>prediction: 0.045</br>age: 50.113600000000005</br></br>gender: Female</br>hypertension: 0.0</br>heart_disease: 0.0</br>ever_married: Yes</br>work_type: Private</br>Residence_type: Rural</br>avg_glucose_level: 91.85</br>bmi: 27.6</br>smoking_status: formerly smoked</br>_original_yhat_: 0.12539441442207006</br>"
          ],
          [
           "</br>id: 3256</br>prediction: 0.047</br>age: 50.93120000000001</br></br>gender: Female</br>hypertension: 0.0</br>heart_disease: 0.0</br>ever_married: Yes</br>work_type: Private</br>Residence_type: Rural</br>avg_glucose_level: 91.85</br>bmi: 27.6</br>smoking_status: formerly smoked</br>_original_yhat_: 0.12539441442207006</br>"
          ],
          [
           "</br>id: 3256</br>prediction: 0.049</br>age: 51.74880000000001</br></br>gender: Female</br>hypertension: 0.0</br>heart_disease: 0.0</br>ever_married: Yes</br>work_type: Private</br>Residence_type: Rural</br>avg_glucose_level: 91.85</br>bmi: 27.6</br>smoking_status: formerly smoked</br>_original_yhat_: 0.12539441442207006</br>"
          ],
          [
           "</br>id: 3256</br>prediction: 0.051</br>age: 52.56640000000001</br></br>gender: Female</br>hypertension: 0.0</br>heart_disease: 0.0</br>ever_married: Yes</br>work_type: Private</br>Residence_type: Rural</br>avg_glucose_level: 91.85</br>bmi: 27.6</br>smoking_status: formerly smoked</br>_original_yhat_: 0.12539441442207006</br>"
          ],
          [
           "</br>id: 3256</br>prediction: 0.053</br>age: 53.38400000000001</br></br>gender: Female</br>hypertension: 0.0</br>heart_disease: 0.0</br>ever_married: Yes</br>work_type: Private</br>Residence_type: Rural</br>avg_glucose_level: 91.85</br>bmi: 27.6</br>smoking_status: formerly smoked</br>_original_yhat_: 0.12539441442207006</br>"
          ],
          [
           "</br>id: 3256</br>prediction: 0.055</br>age: 54.201600000000006</br></br>gender: Female</br>hypertension: 0.0</br>heart_disease: 0.0</br>ever_married: Yes</br>work_type: Private</br>Residence_type: Rural</br>avg_glucose_level: 91.85</br>bmi: 27.6</br>smoking_status: formerly smoked</br>_original_yhat_: 0.12539441442207006</br>"
          ],
          [
           "</br>id: 3256</br>prediction: 0.058</br>age: 55.01920000000001</br></br>gender: Female</br>hypertension: 0.0</br>heart_disease: 0.0</br>ever_married: Yes</br>work_type: Private</br>Residence_type: Rural</br>avg_glucose_level: 91.85</br>bmi: 27.6</br>smoking_status: formerly smoked</br>_original_yhat_: 0.12539441442207006</br>"
          ],
          [
           "</br>id: 3256</br>prediction: 0.06</br>age: 55.83680000000001</br></br>gender: Female</br>hypertension: 0.0</br>heart_disease: 0.0</br>ever_married: Yes</br>work_type: Private</br>Residence_type: Rural</br>avg_glucose_level: 91.85</br>bmi: 27.6</br>smoking_status: formerly smoked</br>_original_yhat_: 0.12539441442207006</br>"
          ],
          [
           "</br>id: 3256</br>prediction: 0.062</br>age: 56.65440000000001</br></br>gender: Female</br>hypertension: 0.0</br>heart_disease: 0.0</br>ever_married: Yes</br>work_type: Private</br>Residence_type: Rural</br>avg_glucose_level: 91.85</br>bmi: 27.6</br>smoking_status: formerly smoked</br>_original_yhat_: 0.12539441442207006</br>"
          ],
          [
           "</br>id: 3256</br>prediction: 0.065</br>age: 57.47200000000001</br></br>gender: Female</br>hypertension: 0.0</br>heart_disease: 0.0</br>ever_married: Yes</br>work_type: Private</br>Residence_type: Rural</br>avg_glucose_level: 91.85</br>bmi: 27.6</br>smoking_status: formerly smoked</br>_original_yhat_: 0.12539441442207006</br>"
          ],
          [
           "</br>id: 3256</br>prediction: 0.068</br>age: 58.28960000000001</br></br>gender: Female</br>hypertension: 0.0</br>heart_disease: 0.0</br>ever_married: Yes</br>work_type: Private</br>Residence_type: Rural</br>avg_glucose_level: 91.85</br>bmi: 27.6</br>smoking_status: formerly smoked</br>_original_yhat_: 0.12539441442207006</br>"
          ],
          [
           "</br>id: 3256</br>prediction: 0.071</br>age: 59.10720000000001</br></br>gender: Female</br>hypertension: 0.0</br>heart_disease: 0.0</br>ever_married: Yes</br>work_type: Private</br>Residence_type: Rural</br>avg_glucose_level: 91.85</br>bmi: 27.6</br>smoking_status: formerly smoked</br>_original_yhat_: 0.12539441442207006</br>"
          ],
          [
           "</br>id: 3256</br>prediction: 0.074</br>age: 59.92480000000001</br></br>gender: Female</br>hypertension: 0.0</br>heart_disease: 0.0</br>ever_married: Yes</br>work_type: Private</br>Residence_type: Rural</br>avg_glucose_level: 91.85</br>bmi: 27.6</br>smoking_status: formerly smoked</br>_original_yhat_: 0.12539441442207006</br>"
          ],
          [
           "</br>id: 3256</br>prediction: 0.077</br>age: 60.74240000000001</br></br>gender: Female</br>hypertension: 0.0</br>heart_disease: 0.0</br>ever_married: Yes</br>work_type: Private</br>Residence_type: Rural</br>avg_glucose_level: 91.85</br>bmi: 27.6</br>smoking_status: formerly smoked</br>_original_yhat_: 0.12539441442207006</br>"
          ],
          [
           "</br>id: 3256</br>prediction: 0.08</br>age: 61.56000000000001</br></br>gender: Female</br>hypertension: 0.0</br>heart_disease: 0.0</br>ever_married: Yes</br>work_type: Private</br>Residence_type: Rural</br>avg_glucose_level: 91.85</br>bmi: 27.6</br>smoking_status: formerly smoked</br>_original_yhat_: 0.12539441442207006</br>"
          ],
          [
           "</br>id: 3256</br>prediction: 0.083</br>age: 62.37760000000001</br></br>gender: Female</br>hypertension: 0.0</br>heart_disease: 0.0</br>ever_married: Yes</br>work_type: Private</br>Residence_type: Rural</br>avg_glucose_level: 91.85</br>bmi: 27.6</br>smoking_status: formerly smoked</br>_original_yhat_: 0.12539441442207006</br>"
          ],
          [
           "</br>id: 3256</br>prediction: 0.086</br>age: 63.19520000000001</br></br>gender: Female</br>hypertension: 0.0</br>heart_disease: 0.0</br>ever_married: Yes</br>work_type: Private</br>Residence_type: Rural</br>avg_glucose_level: 91.85</br>bmi: 27.6</br>smoking_status: formerly smoked</br>_original_yhat_: 0.12539441442207006</br>"
          ],
          [
           "</br>id: 3256</br>prediction: 0.09</br>age: 64.01280000000001</br></br>gender: Female</br>hypertension: 0.0</br>heart_disease: 0.0</br>ever_married: Yes</br>work_type: Private</br>Residence_type: Rural</br>avg_glucose_level: 91.85</br>bmi: 27.6</br>smoking_status: formerly smoked</br>_original_yhat_: 0.12539441442207006</br>"
          ],
          [
           "</br>id: 3256</br>prediction: 0.093</br>age: 64.8304</br></br>gender: Female</br>hypertension: 0.0</br>heart_disease: 0.0</br>ever_married: Yes</br>work_type: Private</br>Residence_type: Rural</br>avg_glucose_level: 91.85</br>bmi: 27.6</br>smoking_status: formerly smoked</br>_original_yhat_: 0.12539441442207006</br>"
          ],
          [
           "</br>id: 3256</br>prediction: 0.097</br>age: 65.64800000000001</br></br>gender: Female</br>hypertension: 0.0</br>heart_disease: 0.0</br>ever_married: Yes</br>work_type: Private</br>Residence_type: Rural</br>avg_glucose_level: 91.85</br>bmi: 27.6</br>smoking_status: formerly smoked</br>_original_yhat_: 0.12539441442207006</br>"
          ],
          [
           "</br>id: 3256</br>prediction: 0.101</br>age: 66.46560000000001</br></br>gender: Female</br>hypertension: 0.0</br>heart_disease: 0.0</br>ever_married: Yes</br>work_type: Private</br>Residence_type: Rural</br>avg_glucose_level: 91.85</br>bmi: 27.6</br>smoking_status: formerly smoked</br>_original_yhat_: 0.12539441442207006</br>"
          ],
          [
           "</br>id: 3256</br>prediction: 0.105</br>age: 67.28320000000001</br></br>gender: Female</br>hypertension: 0.0</br>heart_disease: 0.0</br>ever_married: Yes</br>work_type: Private</br>Residence_type: Rural</br>avg_glucose_level: 91.85</br>bmi: 27.6</br>smoking_status: formerly smoked</br>_original_yhat_: 0.12539441442207006</br>"
          ],
          [
           "</br>id: 3256</br>prediction: 0.109</br>age: 68.1008</br></br>gender: Female</br>hypertension: 0.0</br>heart_disease: 0.0</br>ever_married: Yes</br>work_type: Private</br>Residence_type: Rural</br>avg_glucose_level: 91.85</br>bmi: 27.6</br>smoking_status: formerly smoked</br>_original_yhat_: 0.12539441442207006</br>"
          ],
          [
           "</br>id: 3256</br>prediction: 0.114</br>age: 68.9184</br></br>gender: Female</br>hypertension: 0.0</br>heart_disease: 0.0</br>ever_married: Yes</br>work_type: Private</br>Residence_type: Rural</br>avg_glucose_level: 91.85</br>bmi: 27.6</br>smoking_status: formerly smoked</br>_original_yhat_: 0.12539441442207006</br>"
          ],
          [
           "</br>id: 3256</br>prediction: 0.118</br>age: 69.736</br></br>gender: Female</br>hypertension: 0.0</br>heart_disease: 0.0</br>ever_married: Yes</br>work_type: Private</br>Residence_type: Rural</br>avg_glucose_level: 91.85</br>bmi: 27.6</br>smoking_status: formerly smoked</br>_original_yhat_: 0.12539441442207006</br>"
          ],
          [
           "</br>id: 3256</br>prediction: 0.123</br>age: 70.5536</br></br>gender: Female</br>hypertension: 0.0</br>heart_disease: 0.0</br>ever_married: Yes</br>work_type: Private</br>Residence_type: Rural</br>avg_glucose_level: 91.85</br>bmi: 27.6</br>smoking_status: formerly smoked</br>_original_yhat_: 0.12539441442207006</br>"
          ],
          [
           "</br>id: 3256</br>prediction: 0.125</br>age: 71.0</br></br>gender: Female</br>hypertension: 0.0</br>heart_disease: 0.0</br>ever_married: Yes</br>work_type: Private</br>Residence_type: Rural</br>avg_glucose_level: 91.85</br>bmi: 27.6</br>smoking_status: formerly smoked</br>_original_yhat_: 0.12539441442207006</br>"
          ],
          [
           "</br>id: 3256</br>prediction: 0.128</br>age: 71.3712</br></br>gender: Female</br>hypertension: 0.0</br>heart_disease: 0.0</br>ever_married: Yes</br>work_type: Private</br>Residence_type: Rural</br>avg_glucose_level: 91.85</br>bmi: 27.6</br>smoking_status: formerly smoked</br>_original_yhat_: 0.12539441442207006</br>"
          ],
          [
           "</br>id: 3256</br>prediction: 0.133</br>age: 72.1888</br></br>gender: Female</br>hypertension: 0.0</br>heart_disease: 0.0</br>ever_married: Yes</br>work_type: Private</br>Residence_type: Rural</br>avg_glucose_level: 91.85</br>bmi: 27.6</br>smoking_status: formerly smoked</br>_original_yhat_: 0.12539441442207006</br>"
          ],
          [
           "</br>id: 3256</br>prediction: 0.138</br>age: 73.0064</br></br>gender: Female</br>hypertension: 0.0</br>heart_disease: 0.0</br>ever_married: Yes</br>work_type: Private</br>Residence_type: Rural</br>avg_glucose_level: 91.85</br>bmi: 27.6</br>smoking_status: formerly smoked</br>_original_yhat_: 0.12539441442207006</br>"
          ],
          [
           "</br>id: 3256</br>prediction: 0.143</br>age: 73.824</br></br>gender: Female</br>hypertension: 0.0</br>heart_disease: 0.0</br>ever_married: Yes</br>work_type: Private</br>Residence_type: Rural</br>avg_glucose_level: 91.85</br>bmi: 27.6</br>smoking_status: formerly smoked</br>_original_yhat_: 0.12539441442207006</br>"
          ],
          [
           "</br>id: 3256</br>prediction: 0.148</br>age: 74.64160000000001</br></br>gender: Female</br>hypertension: 0.0</br>heart_disease: 0.0</br>ever_married: Yes</br>work_type: Private</br>Residence_type: Rural</br>avg_glucose_level: 91.85</br>bmi: 27.6</br>smoking_status: formerly smoked</br>_original_yhat_: 0.12539441442207006</br>"
          ],
          [
           "</br>id: 3256</br>prediction: 0.154</br>age: 75.45920000000001</br></br>gender: Female</br>hypertension: 0.0</br>heart_disease: 0.0</br>ever_married: Yes</br>work_type: Private</br>Residence_type: Rural</br>avg_glucose_level: 91.85</br>bmi: 27.6</br>smoking_status: formerly smoked</br>_original_yhat_: 0.12539441442207006</br>"
          ],
          [
           "</br>id: 3256</br>prediction: 0.16</br>age: 76.27680000000001</br></br>gender: Female</br>hypertension: 0.0</br>heart_disease: 0.0</br>ever_married: Yes</br>work_type: Private</br>Residence_type: Rural</br>avg_glucose_level: 91.85</br>bmi: 27.6</br>smoking_status: formerly smoked</br>_original_yhat_: 0.12539441442207006</br>"
          ],
          [
           "</br>id: 3256</br>prediction: 0.166</br>age: 77.09440000000001</br></br>gender: Female</br>hypertension: 0.0</br>heart_disease: 0.0</br>ever_married: Yes</br>work_type: Private</br>Residence_type: Rural</br>avg_glucose_level: 91.85</br>bmi: 27.6</br>smoking_status: formerly smoked</br>_original_yhat_: 0.12539441442207006</br>"
          ],
          [
           "</br>id: 3256</br>prediction: 0.172</br>age: 77.912</br></br>gender: Female</br>hypertension: 0.0</br>heart_disease: 0.0</br>ever_married: Yes</br>work_type: Private</br>Residence_type: Rural</br>avg_glucose_level: 91.85</br>bmi: 27.6</br>smoking_status: formerly smoked</br>_original_yhat_: 0.12539441442207006</br>"
          ],
          [
           "</br>id: 3256</br>prediction: 0.178</br>age: 78.7296</br></br>gender: Female</br>hypertension: 0.0</br>heart_disease: 0.0</br>ever_married: Yes</br>work_type: Private</br>Residence_type: Rural</br>avg_glucose_level: 91.85</br>bmi: 27.6</br>smoking_status: formerly smoked</br>_original_yhat_: 0.12539441442207006</br>"
          ],
          [
           "</br>id: 3256</br>prediction: 0.185</br>age: 79.5472</br></br>gender: Female</br>hypertension: 0.0</br>heart_disease: 0.0</br>ever_married: Yes</br>work_type: Private</br>Residence_type: Rural</br>avg_glucose_level: 91.85</br>bmi: 27.6</br>smoking_status: formerly smoked</br>_original_yhat_: 0.12539441442207006</br>"
          ],
          [
           "</br>id: 3256</br>prediction: 0.191</br>age: 80.3648</br></br>gender: Female</br>hypertension: 0.0</br>heart_disease: 0.0</br>ever_married: Yes</br>work_type: Private</br>Residence_type: Rural</br>avg_glucose_level: 91.85</br>bmi: 27.6</br>smoking_status: formerly smoked</br>_original_yhat_: 0.12539441442207006</br>"
          ],
          [
           "</br>id: 3256</br>prediction: 0.198</br>age: 81.1824</br></br>gender: Female</br>hypertension: 0.0</br>heart_disease: 0.0</br>ever_married: Yes</br>work_type: Private</br>Residence_type: Rural</br>avg_glucose_level: 91.85</br>bmi: 27.6</br>smoking_status: formerly smoked</br>_original_yhat_: 0.12539441442207006</br>"
          ],
          [
           "</br>id: 3256</br>prediction: 0.205</br>age: 82.0</br></br>gender: Female</br>hypertension: 0.0</br>heart_disease: 0.0</br>ever_married: Yes</br>work_type: Private</br>Residence_type: Rural</br>avg_glucose_level: 91.85</br>bmi: 27.6</br>smoking_status: formerly smoked</br>_original_yhat_: 0.12539441442207006</br>"
          ]
         ],
         "hovertemplate": "%{customdata[0]}<extra></extra>",
         "legendgroup": "Logistic Regression",
         "line": {
          "color": "#46bac2",
          "dash": "solid",
          "width": 2
         },
         "marker": {
          "symbol": "circle"
         },
         "mode": "lines",
         "name": "Logistic Regression",
         "opacity": 1,
         "orientation": "v",
         "showlegend": true,
         "type": "scatter",
         "x": [
          0.24,
          1.0576,
          1.8752000000000002,
          2.6928,
          3.5104000000000006,
          4.328000000000001,
          5.145600000000001,
          5.9632000000000005,
          6.780800000000001,
          7.598400000000002,
          8.416000000000002,
          9.233600000000001,
          10.051200000000001,
          10.868800000000002,
          11.6864,
          12.504000000000001,
          13.321600000000002,
          14.139200000000002,
          14.956800000000003,
          15.774400000000002,
          16.592000000000002,
          17.4096,
          18.2272,
          19.044800000000002,
          19.8624,
          20.68,
          21.497600000000002,
          22.3152,
          23.1328,
          23.950400000000002,
          24.768,
          25.585600000000003,
          26.403200000000002,
          27.2208,
          28.038400000000003,
          28.856,
          29.673600000000004,
          30.491200000000003,
          31.3088,
          32.126400000000004,
          32.94400000000001,
          33.76160000000001,
          34.57920000000001,
          35.396800000000006,
          36.214400000000005,
          37.032000000000004,
          37.84960000000001,
          38.66720000000001,
          39.48480000000001,
          40.302400000000006,
          41.120000000000005,
          41.93760000000001,
          42.75520000000001,
          43.57280000000001,
          44.39040000000001,
          45.208000000000006,
          46.025600000000004,
          46.84320000000001,
          47.66080000000001,
          48.47840000000001,
          49.29600000000001,
          50.113600000000005,
          50.93120000000001,
          51.74880000000001,
          52.56640000000001,
          53.38400000000001,
          54.201600000000006,
          55.01920000000001,
          55.83680000000001,
          56.65440000000001,
          57.47200000000001,
          58.28960000000001,
          59.10720000000001,
          59.92480000000001,
          60.74240000000001,
          61.56000000000001,
          62.37760000000001,
          63.19520000000001,
          64.01280000000001,
          64.8304,
          65.64800000000001,
          66.46560000000001,
          67.28320000000001,
          68.1008,
          68.9184,
          69.736,
          70.5536,
          71,
          71.3712,
          72.1888,
          73.0064,
          73.824,
          74.64160000000001,
          75.45920000000001,
          76.27680000000001,
          77.09440000000001,
          77.912,
          78.7296,
          79.5472,
          80.3648,
          81.1824,
          82
         ],
         "xaxis": "x3",
         "y": [
          0.0032601483306321346,
          0.00340521493283603,
          0.003556713520188594,
          0.003714927180374462,
          0.0038801512700471215,
          0.0040526939292275166,
          0.00423287661568142,
          0.004421034659902996,
          0.00461751784133718,
          0.004822690986476698,
          0.005036934589470889,
          0.005260645455882687,
          0.005494237370226777,
          0.005738141787915753,
          0.005992808552231874,
          0.0062587066369293185,
          0.006536324915055242,
          0.006826172954556996,
          0.007128781841217244,
          0.007444705029427953,
          0.007774519221277314,
          0.008118825274380946,
          0.008478249138838443,
          0.008853442823638853,
          0.009245085392772672,
          0.009653883991232681,
          0.010080574901000934,
          0.010525924627023373,
          0.010990731013065665,
          0.011475824387223728,
          0.011982068736727814,
          0.012510362911530404,
          0.013061641856002299,
          0.013636877867879491,
          0.014237081883401713,
          0.014863304787362638,
          0.015516638746549556,
          0.016198218564784456,
          0.016909223057489632,
          0.0176508764433846,
          0.01842444975057911,
          0.01923126223395409,
          0.02007268280032077,
          0.020950131437412256,
          0.02186508064229401,
          0.022819056844274935,
          0.023813641816859975,
          0.024850474072705884,
          0.025931250234922997,
          0.027057726377406555,
          0.02823171932617996,
          0.029455107912990046,
          0.030729834171608114,
          0.032057904466463505,
          0.0334413905423658,
          0.03488243048316135,
          0.036383229566219186,
          0.03794606099865341,
          0.03957326652016692,
          0.04126725685634849,
          0.04303051200517589,
          0.04486558133837878,
          0.0467750834982026,
          0.04876170606899716,
          0.05082820500194107,
          0.05297740377011536,
          0.05521219223007299,
          0.057535525165024,
          0.0599504204837932,
          0.062459957048819174,
          0.06506727210567688,
          0.06777555828594028,
          0.07058806015468244,
          0.07350807027356593,
          0.07653892475033439,
          0.07968399824560919,
          0.08294669840825537,
          0.08633045971124532,
          0.08983873666095163,
          0.09347499635417979,
          0.09724271035905006,
          0.10114534589808336,
          0.10518635631459262,
          0.10936917080674811,
          0.11369718341752133,
          0.11817374127313982,
          0.12280213206773902,
          0.12539441442207006,
          0.12758557079758798,
          0.13252718575462574,
          0.1376300037960613,
          0.14289693491447555,
          0.14833075614119667,
          0.1539340948246747,
          0.15970941133511987,
          0.16565898125672973,
          0.17178487713934612,
          0.178088949892256,
          0.18457280991397593,
          0.19123780806310495,
          0.19808501658654745,
          0.205115210132429
         ],
         "yaxis": "y3"
        },
        {
         "customdata": [
          [
           "</br>id: 3256</br>prediction: 0.086</br>avg_glucose_level: 55.47</br></br>gender: Female</br>age: 71.0</br>hypertension: 0.0</br>heart_disease: 0.0</br>ever_married: Yes</br>work_type: Private</br>Residence_type: Rural</br>bmi: 27.6</br>smoking_status: formerly smoked</br>_original_yhat_: 0.12539441442207006</br>"
          ],
          [
           "</br>id: 3256</br>prediction: 0.088</br>avg_glucose_level: 57.5238</br></br>gender: Female</br>age: 71.0</br>hypertension: 0.0</br>heart_disease: 0.0</br>ever_married: Yes</br>work_type: Private</br>Residence_type: Rural</br>bmi: 27.6</br>smoking_status: formerly smoked</br>_original_yhat_: 0.12539441442207006</br>"
          ],
          [
           "</br>id: 3256</br>prediction: 0.09</br>avg_glucose_level: 59.5776</br></br>gender: Female</br>age: 71.0</br>hypertension: 0.0</br>heart_disease: 0.0</br>ever_married: Yes</br>work_type: Private</br>Residence_type: Rural</br>bmi: 27.6</br>smoking_status: formerly smoked</br>_original_yhat_: 0.12539441442207006</br>"
          ],
          [
           "</br>id: 3256</br>prediction: 0.092</br>avg_glucose_level: 61.6314</br></br>gender: Female</br>age: 71.0</br>hypertension: 0.0</br>heart_disease: 0.0</br>ever_married: Yes</br>work_type: Private</br>Residence_type: Rural</br>bmi: 27.6</br>smoking_status: formerly smoked</br>_original_yhat_: 0.12539441442207006</br>"
          ],
          [
           "</br>id: 3256</br>prediction: 0.094</br>avg_glucose_level: 63.6852</br></br>gender: Female</br>age: 71.0</br>hypertension: 0.0</br>heart_disease: 0.0</br>ever_married: Yes</br>work_type: Private</br>Residence_type: Rural</br>bmi: 27.6</br>smoking_status: formerly smoked</br>_original_yhat_: 0.12539441442207006</br>"
          ],
          [
           "</br>id: 3256</br>prediction: 0.096</br>avg_glucose_level: 65.739</br></br>gender: Female</br>age: 71.0</br>hypertension: 0.0</br>heart_disease: 0.0</br>ever_married: Yes</br>work_type: Private</br>Residence_type: Rural</br>bmi: 27.6</br>smoking_status: formerly smoked</br>_original_yhat_: 0.12539441442207006</br>"
          ],
          [
           "</br>id: 3256</br>prediction: 0.098</br>avg_glucose_level: 67.7928</br></br>gender: Female</br>age: 71.0</br>hypertension: 0.0</br>heart_disease: 0.0</br>ever_married: Yes</br>work_type: Private</br>Residence_type: Rural</br>bmi: 27.6</br>smoking_status: formerly smoked</br>_original_yhat_: 0.12539441442207006</br>"
          ],
          [
           "</br>id: 3256</br>prediction: 0.1</br>avg_glucose_level: 69.8466</br></br>gender: Female</br>age: 71.0</br>hypertension: 0.0</br>heart_disease: 0.0</br>ever_married: Yes</br>work_type: Private</br>Residence_type: Rural</br>bmi: 27.6</br>smoking_status: formerly smoked</br>_original_yhat_: 0.12539441442207006</br>"
          ],
          [
           "</br>id: 3256</br>prediction: 0.102</br>avg_glucose_level: 71.9004</br></br>gender: Female</br>age: 71.0</br>hypertension: 0.0</br>heart_disease: 0.0</br>ever_married: Yes</br>work_type: Private</br>Residence_type: Rural</br>bmi: 27.6</br>smoking_status: formerly smoked</br>_original_yhat_: 0.12539441442207006</br>"
          ],
          [
           "</br>id: 3256</br>prediction: 0.104</br>avg_glucose_level: 73.9542</br></br>gender: Female</br>age: 71.0</br>hypertension: 0.0</br>heart_disease: 0.0</br>ever_married: Yes</br>work_type: Private</br>Residence_type: Rural</br>bmi: 27.6</br>smoking_status: formerly smoked</br>_original_yhat_: 0.12539441442207006</br>"
          ],
          [
           "</br>id: 3256</br>prediction: 0.107</br>avg_glucose_level: 76.00800000000001</br></br>gender: Female</br>age: 71.0</br>hypertension: 0.0</br>heart_disease: 0.0</br>ever_married: Yes</br>work_type: Private</br>Residence_type: Rural</br>bmi: 27.6</br>smoking_status: formerly smoked</br>_original_yhat_: 0.12539441442207006</br>"
          ],
          [
           "</br>id: 3256</br>prediction: 0.109</br>avg_glucose_level: 78.0618</br></br>gender: Female</br>age: 71.0</br>hypertension: 0.0</br>heart_disease: 0.0</br>ever_married: Yes</br>work_type: Private</br>Residence_type: Rural</br>bmi: 27.6</br>smoking_status: formerly smoked</br>_original_yhat_: 0.12539441442207006</br>"
          ],
          [
           "</br>id: 3256</br>prediction: 0.111</br>avg_glucose_level: 80.1156</br></br>gender: Female</br>age: 71.0</br>hypertension: 0.0</br>heart_disease: 0.0</br>ever_married: Yes</br>work_type: Private</br>Residence_type: Rural</br>bmi: 27.6</br>smoking_status: formerly smoked</br>_original_yhat_: 0.12539441442207006</br>"
          ],
          [
           "</br>id: 3256</br>prediction: 0.114</br>avg_glucose_level: 82.1694</br></br>gender: Female</br>age: 71.0</br>hypertension: 0.0</br>heart_disease: 0.0</br>ever_married: Yes</br>work_type: Private</br>Residence_type: Rural</br>bmi: 27.6</br>smoking_status: formerly smoked</br>_original_yhat_: 0.12539441442207006</br>"
          ],
          [
           "</br>id: 3256</br>prediction: 0.116</br>avg_glucose_level: 84.2232</br></br>gender: Female</br>age: 71.0</br>hypertension: 0.0</br>heart_disease: 0.0</br>ever_married: Yes</br>work_type: Private</br>Residence_type: Rural</br>bmi: 27.6</br>smoking_status: formerly smoked</br>_original_yhat_: 0.12539441442207006</br>"
          ],
          [
           "</br>id: 3256</br>prediction: 0.118</br>avg_glucose_level: 86.277</br></br>gender: Female</br>age: 71.0</br>hypertension: 0.0</br>heart_disease: 0.0</br>ever_married: Yes</br>work_type: Private</br>Residence_type: Rural</br>bmi: 27.6</br>smoking_status: formerly smoked</br>_original_yhat_: 0.12539441442207006</br>"
          ],
          [
           "</br>id: 3256</br>prediction: 0.121</br>avg_glucose_level: 88.33080000000001</br></br>gender: Female</br>age: 71.0</br>hypertension: 0.0</br>heart_disease: 0.0</br>ever_married: Yes</br>work_type: Private</br>Residence_type: Rural</br>bmi: 27.6</br>smoking_status: formerly smoked</br>_original_yhat_: 0.12539441442207006</br>"
          ],
          [
           "</br>id: 3256</br>prediction: 0.124</br>avg_glucose_level: 90.3846</br></br>gender: Female</br>age: 71.0</br>hypertension: 0.0</br>heart_disease: 0.0</br>ever_married: Yes</br>work_type: Private</br>Residence_type: Rural</br>bmi: 27.6</br>smoking_status: formerly smoked</br>_original_yhat_: 0.12539441442207006</br>"
          ],
          [
           "</br>id: 3256</br>prediction: 0.125</br>avg_glucose_level: 91.85</br></br>gender: Female</br>age: 71.0</br>hypertension: 0.0</br>heart_disease: 0.0</br>ever_married: Yes</br>work_type: Private</br>Residence_type: Rural</br>bmi: 27.6</br>smoking_status: formerly smoked</br>_original_yhat_: 0.12539441442207006</br>"
          ],
          [
           "</br>id: 3256</br>prediction: 0.126</br>avg_glucose_level: 92.4384</br></br>gender: Female</br>age: 71.0</br>hypertension: 0.0</br>heart_disease: 0.0</br>ever_married: Yes</br>work_type: Private</br>Residence_type: Rural</br>bmi: 27.6</br>smoking_status: formerly smoked</br>_original_yhat_: 0.12539441442207006</br>"
          ],
          [
           "</br>id: 3256</br>prediction: 0.129</br>avg_glucose_level: 94.4922</br></br>gender: Female</br>age: 71.0</br>hypertension: 0.0</br>heart_disease: 0.0</br>ever_married: Yes</br>work_type: Private</br>Residence_type: Rural</br>bmi: 27.6</br>smoking_status: formerly smoked</br>_original_yhat_: 0.12539441442207006</br>"
          ],
          [
           "</br>id: 3256</br>prediction: 0.131</br>avg_glucose_level: 96.546</br></br>gender: Female</br>age: 71.0</br>hypertension: 0.0</br>heart_disease: 0.0</br>ever_married: Yes</br>work_type: Private</br>Residence_type: Rural</br>bmi: 27.6</br>smoking_status: formerly smoked</br>_original_yhat_: 0.12539441442207006</br>"
          ],
          [
           "</br>id: 3256</br>prediction: 0.134</br>avg_glucose_level: 98.5998</br></br>gender: Female</br>age: 71.0</br>hypertension: 0.0</br>heart_disease: 0.0</br>ever_married: Yes</br>work_type: Private</br>Residence_type: Rural</br>bmi: 27.6</br>smoking_status: formerly smoked</br>_original_yhat_: 0.12539441442207006</br>"
          ],
          [
           "</br>id: 3256</br>prediction: 0.137</br>avg_glucose_level: 100.65360000000001</br></br>gender: Female</br>age: 71.0</br>hypertension: 0.0</br>heart_disease: 0.0</br>ever_married: Yes</br>work_type: Private</br>Residence_type: Rural</br>bmi: 27.6</br>smoking_status: formerly smoked</br>_original_yhat_: 0.12539441442207006</br>"
          ],
          [
           "</br>id: 3256</br>prediction: 0.14</br>avg_glucose_level: 102.7074</br></br>gender: Female</br>age: 71.0</br>hypertension: 0.0</br>heart_disease: 0.0</br>ever_married: Yes</br>work_type: Private</br>Residence_type: Rural</br>bmi: 27.6</br>smoking_status: formerly smoked</br>_original_yhat_: 0.12539441442207006</br>"
          ],
          [
           "</br>id: 3256</br>prediction: 0.143</br>avg_glucose_level: 104.7612</br></br>gender: Female</br>age: 71.0</br>hypertension: 0.0</br>heart_disease: 0.0</br>ever_married: Yes</br>work_type: Private</br>Residence_type: Rural</br>bmi: 27.6</br>smoking_status: formerly smoked</br>_original_yhat_: 0.12539441442207006</br>"
          ],
          [
           "</br>id: 3256</br>prediction: 0.146</br>avg_glucose_level: 106.815</br></br>gender: Female</br>age: 71.0</br>hypertension: 0.0</br>heart_disease: 0.0</br>ever_married: Yes</br>work_type: Private</br>Residence_type: Rural</br>bmi: 27.6</br>smoking_status: formerly smoked</br>_original_yhat_: 0.12539441442207006</br>"
          ],
          [
           "</br>id: 3256</br>prediction: 0.149</br>avg_glucose_level: 108.86880000000001</br></br>gender: Female</br>age: 71.0</br>hypertension: 0.0</br>heart_disease: 0.0</br>ever_married: Yes</br>work_type: Private</br>Residence_type: Rural</br>bmi: 27.6</br>smoking_status: formerly smoked</br>_original_yhat_: 0.12539441442207006</br>"
          ],
          [
           "</br>id: 3256</br>prediction: 0.152</br>avg_glucose_level: 110.92260000000002</br></br>gender: Female</br>age: 71.0</br>hypertension: 0.0</br>heart_disease: 0.0</br>ever_married: Yes</br>work_type: Private</br>Residence_type: Rural</br>bmi: 27.6</br>smoking_status: formerly smoked</br>_original_yhat_: 0.12539441442207006</br>"
          ],
          [
           "</br>id: 3256</br>prediction: 0.155</br>avg_glucose_level: 112.97640000000001</br></br>gender: Female</br>age: 71.0</br>hypertension: 0.0</br>heart_disease: 0.0</br>ever_married: Yes</br>work_type: Private</br>Residence_type: Rural</br>bmi: 27.6</br>smoking_status: formerly smoked</br>_original_yhat_: 0.12539441442207006</br>"
          ],
          [
           "</br>id: 3256</br>prediction: 0.158</br>avg_glucose_level: 115.03020000000001</br></br>gender: Female</br>age: 71.0</br>hypertension: 0.0</br>heart_disease: 0.0</br>ever_married: Yes</br>work_type: Private</br>Residence_type: Rural</br>bmi: 27.6</br>smoking_status: formerly smoked</br>_original_yhat_: 0.12539441442207006</br>"
          ],
          [
           "</br>id: 3256</br>prediction: 0.161</br>avg_glucose_level: 117.084</br></br>gender: Female</br>age: 71.0</br>hypertension: 0.0</br>heart_disease: 0.0</br>ever_married: Yes</br>work_type: Private</br>Residence_type: Rural</br>bmi: 27.6</br>smoking_status: formerly smoked</br>_original_yhat_: 0.12539441442207006</br>"
          ],
          [
           "</br>id: 3256</br>prediction: 0.164</br>avg_glucose_level: 119.1378</br></br>gender: Female</br>age: 71.0</br>hypertension: 0.0</br>heart_disease: 0.0</br>ever_married: Yes</br>work_type: Private</br>Residence_type: Rural</br>bmi: 27.6</br>smoking_status: formerly smoked</br>_original_yhat_: 0.12539441442207006</br>"
          ],
          [
           "</br>id: 3256</br>prediction: 0.168</br>avg_glucose_level: 121.19160000000001</br></br>gender: Female</br>age: 71.0</br>hypertension: 0.0</br>heart_disease: 0.0</br>ever_married: Yes</br>work_type: Private</br>Residence_type: Rural</br>bmi: 27.6</br>smoking_status: formerly smoked</br>_original_yhat_: 0.12539441442207006</br>"
          ],
          [
           "</br>id: 3256</br>prediction: 0.171</br>avg_glucose_level: 123.2454</br></br>gender: Female</br>age: 71.0</br>hypertension: 0.0</br>heart_disease: 0.0</br>ever_married: Yes</br>work_type: Private</br>Residence_type: Rural</br>bmi: 27.6</br>smoking_status: formerly smoked</br>_original_yhat_: 0.12539441442207006</br>"
          ],
          [
           "</br>id: 3256</br>prediction: 0.175</br>avg_glucose_level: 125.29920000000001</br></br>gender: Female</br>age: 71.0</br>hypertension: 0.0</br>heart_disease: 0.0</br>ever_married: Yes</br>work_type: Private</br>Residence_type: Rural</br>bmi: 27.6</br>smoking_status: formerly smoked</br>_original_yhat_: 0.12539441442207006</br>"
          ],
          [
           "</br>id: 3256</br>prediction: 0.178</br>avg_glucose_level: 127.35300000000001</br></br>gender: Female</br>age: 71.0</br>hypertension: 0.0</br>heart_disease: 0.0</br>ever_married: Yes</br>work_type: Private</br>Residence_type: Rural</br>bmi: 27.6</br>smoking_status: formerly smoked</br>_original_yhat_: 0.12539441442207006</br>"
          ],
          [
           "</br>id: 3256</br>prediction: 0.182</br>avg_glucose_level: 129.4068</br></br>gender: Female</br>age: 71.0</br>hypertension: 0.0</br>heart_disease: 0.0</br>ever_married: Yes</br>work_type: Private</br>Residence_type: Rural</br>bmi: 27.6</br>smoking_status: formerly smoked</br>_original_yhat_: 0.12539441442207006</br>"
          ],
          [
           "</br>id: 3256</br>prediction: 0.185</br>avg_glucose_level: 131.4606</br></br>gender: Female</br>age: 71.0</br>hypertension: 0.0</br>heart_disease: 0.0</br>ever_married: Yes</br>work_type: Private</br>Residence_type: Rural</br>bmi: 27.6</br>smoking_status: formerly smoked</br>_original_yhat_: 0.12539441442207006</br>"
          ],
          [
           "</br>id: 3256</br>prediction: 0.189</br>avg_glucose_level: 133.51440000000002</br></br>gender: Female</br>age: 71.0</br>hypertension: 0.0</br>heart_disease: 0.0</br>ever_married: Yes</br>work_type: Private</br>Residence_type: Rural</br>bmi: 27.6</br>smoking_status: formerly smoked</br>_original_yhat_: 0.12539441442207006</br>"
          ],
          [
           "</br>id: 3256</br>prediction: 0.192</br>avg_glucose_level: 135.5682</br></br>gender: Female</br>age: 71.0</br>hypertension: 0.0</br>heart_disease: 0.0</br>ever_married: Yes</br>work_type: Private</br>Residence_type: Rural</br>bmi: 27.6</br>smoking_status: formerly smoked</br>_original_yhat_: 0.12539441442207006</br>"
          ],
          [
           "</br>id: 3256</br>prediction: 0.196</br>avg_glucose_level: 137.622</br></br>gender: Female</br>age: 71.0</br>hypertension: 0.0</br>heart_disease: 0.0</br>ever_married: Yes</br>work_type: Private</br>Residence_type: Rural</br>bmi: 27.6</br>smoking_status: formerly smoked</br>_original_yhat_: 0.12539441442207006</br>"
          ],
          [
           "</br>id: 3256</br>prediction: 0.2</br>avg_glucose_level: 139.6758</br></br>gender: Female</br>age: 71.0</br>hypertension: 0.0</br>heart_disease: 0.0</br>ever_married: Yes</br>work_type: Private</br>Residence_type: Rural</br>bmi: 27.6</br>smoking_status: formerly smoked</br>_original_yhat_: 0.12539441442207006</br>"
          ],
          [
           "</br>id: 3256</br>prediction: 0.204</br>avg_glucose_level: 141.7296</br></br>gender: Female</br>age: 71.0</br>hypertension: 0.0</br>heart_disease: 0.0</br>ever_married: Yes</br>work_type: Private</br>Residence_type: Rural</br>bmi: 27.6</br>smoking_status: formerly smoked</br>_original_yhat_: 0.12539441442207006</br>"
          ],
          [
           "</br>id: 3256</br>prediction: 0.208</br>avg_glucose_level: 143.78340000000003</br></br>gender: Female</br>age: 71.0</br>hypertension: 0.0</br>heart_disease: 0.0</br>ever_married: Yes</br>work_type: Private</br>Residence_type: Rural</br>bmi: 27.6</br>smoking_status: formerly smoked</br>_original_yhat_: 0.12539441442207006</br>"
          ],
          [
           "</br>id: 3256</br>prediction: 0.212</br>avg_glucose_level: 145.8372</br></br>gender: Female</br>age: 71.0</br>hypertension: 0.0</br>heart_disease: 0.0</br>ever_married: Yes</br>work_type: Private</br>Residence_type: Rural</br>bmi: 27.6</br>smoking_status: formerly smoked</br>_original_yhat_: 0.12539441442207006</br>"
          ],
          [
           "</br>id: 3256</br>prediction: 0.216</br>avg_glucose_level: 147.89100000000002</br></br>gender: Female</br>age: 71.0</br>hypertension: 0.0</br>heart_disease: 0.0</br>ever_married: Yes</br>work_type: Private</br>Residence_type: Rural</br>bmi: 27.6</br>smoking_status: formerly smoked</br>_original_yhat_: 0.12539441442207006</br>"
          ],
          [
           "</br>id: 3256</br>prediction: 0.22</br>avg_glucose_level: 149.94480000000001</br></br>gender: Female</br>age: 71.0</br>hypertension: 0.0</br>heart_disease: 0.0</br>ever_married: Yes</br>work_type: Private</br>Residence_type: Rural</br>bmi: 27.6</br>smoking_status: formerly smoked</br>_original_yhat_: 0.12539441442207006</br>"
          ],
          [
           "</br>id: 3256</br>prediction: 0.224</br>avg_glucose_level: 151.9986</br></br>gender: Female</br>age: 71.0</br>hypertension: 0.0</br>heart_disease: 0.0</br>ever_married: Yes</br>work_type: Private</br>Residence_type: Rural</br>bmi: 27.6</br>smoking_status: formerly smoked</br>_original_yhat_: 0.12539441442207006</br>"
          ],
          [
           "</br>id: 3256</br>prediction: 0.228</br>avg_glucose_level: 154.0524</br></br>gender: Female</br>age: 71.0</br>hypertension: 0.0</br>heart_disease: 0.0</br>ever_married: Yes</br>work_type: Private</br>Residence_type: Rural</br>bmi: 27.6</br>smoking_status: formerly smoked</br>_original_yhat_: 0.12539441442207006</br>"
          ],
          [
           "</br>id: 3256</br>prediction: 0.232</br>avg_glucose_level: 156.1062</br></br>gender: Female</br>age: 71.0</br>hypertension: 0.0</br>heart_disease: 0.0</br>ever_married: Yes</br>work_type: Private</br>Residence_type: Rural</br>bmi: 27.6</br>smoking_status: formerly smoked</br>_original_yhat_: 0.12539441442207006</br>"
          ],
          [
           "</br>id: 3256</br>prediction: 0.236</br>avg_glucose_level: 158.16000000000003</br></br>gender: Female</br>age: 71.0</br>hypertension: 0.0</br>heart_disease: 0.0</br>ever_married: Yes</br>work_type: Private</br>Residence_type: Rural</br>bmi: 27.6</br>smoking_status: formerly smoked</br>_original_yhat_: 0.12539441442207006</br>"
          ],
          [
           "</br>id: 3256</br>prediction: 0.241</br>avg_glucose_level: 160.21380000000002</br></br>gender: Female</br>age: 71.0</br>hypertension: 0.0</br>heart_disease: 0.0</br>ever_married: Yes</br>work_type: Private</br>Residence_type: Rural</br>bmi: 27.6</br>smoking_status: formerly smoked</br>_original_yhat_: 0.12539441442207006</br>"
          ],
          [
           "</br>id: 3256</br>prediction: 0.245</br>avg_glucose_level: 162.26760000000002</br></br>gender: Female</br>age: 71.0</br>hypertension: 0.0</br>heart_disease: 0.0</br>ever_married: Yes</br>work_type: Private</br>Residence_type: Rural</br>bmi: 27.6</br>smoking_status: formerly smoked</br>_original_yhat_: 0.12539441442207006</br>"
          ],
          [
           "</br>id: 3256</br>prediction: 0.25</br>avg_glucose_level: 164.3214</br></br>gender: Female</br>age: 71.0</br>hypertension: 0.0</br>heart_disease: 0.0</br>ever_married: Yes</br>work_type: Private</br>Residence_type: Rural</br>bmi: 27.6</br>smoking_status: formerly smoked</br>_original_yhat_: 0.12539441442207006</br>"
          ],
          [
           "</br>id: 3256</br>prediction: 0.254</br>avg_glucose_level: 166.3752</br></br>gender: Female</br>age: 71.0</br>hypertension: 0.0</br>heart_disease: 0.0</br>ever_married: Yes</br>work_type: Private</br>Residence_type: Rural</br>bmi: 27.6</br>smoking_status: formerly smoked</br>_original_yhat_: 0.12539441442207006</br>"
          ],
          [
           "</br>id: 3256</br>prediction: 0.259</br>avg_glucose_level: 168.42900000000003</br></br>gender: Female</br>age: 71.0</br>hypertension: 0.0</br>heart_disease: 0.0</br>ever_married: Yes</br>work_type: Private</br>Residence_type: Rural</br>bmi: 27.6</br>smoking_status: formerly smoked</br>_original_yhat_: 0.12539441442207006</br>"
          ],
          [
           "</br>id: 3256</br>prediction: 0.263</br>avg_glucose_level: 170.4828</br></br>gender: Female</br>age: 71.0</br>hypertension: 0.0</br>heart_disease: 0.0</br>ever_married: Yes</br>work_type: Private</br>Residence_type: Rural</br>bmi: 27.6</br>smoking_status: formerly smoked</br>_original_yhat_: 0.12539441442207006</br>"
          ],
          [
           "</br>id: 3256</br>prediction: 0.268</br>avg_glucose_level: 172.53660000000002</br></br>gender: Female</br>age: 71.0</br>hypertension: 0.0</br>heart_disease: 0.0</br>ever_married: Yes</br>work_type: Private</br>Residence_type: Rural</br>bmi: 27.6</br>smoking_status: formerly smoked</br>_original_yhat_: 0.12539441442207006</br>"
          ],
          [
           "</br>id: 3256</br>prediction: 0.273</br>avg_glucose_level: 174.59040000000002</br></br>gender: Female</br>age: 71.0</br>hypertension: 0.0</br>heart_disease: 0.0</br>ever_married: Yes</br>work_type: Private</br>Residence_type: Rural</br>bmi: 27.6</br>smoking_status: formerly smoked</br>_original_yhat_: 0.12539441442207006</br>"
          ],
          [
           "</br>id: 3256</br>prediction: 0.277</br>avg_glucose_level: 176.6442</br></br>gender: Female</br>age: 71.0</br>hypertension: 0.0</br>heart_disease: 0.0</br>ever_married: Yes</br>work_type: Private</br>Residence_type: Rural</br>bmi: 27.6</br>smoking_status: formerly smoked</br>_original_yhat_: 0.12539441442207006</br>"
          ],
          [
           "</br>id: 3256</br>prediction: 0.282</br>avg_glucose_level: 178.69800000000004</br></br>gender: Female</br>age: 71.0</br>hypertension: 0.0</br>heart_disease: 0.0</br>ever_married: Yes</br>work_type: Private</br>Residence_type: Rural</br>bmi: 27.6</br>smoking_status: formerly smoked</br>_original_yhat_: 0.12539441442207006</br>"
          ],
          [
           "</br>id: 3256</br>prediction: 0.287</br>avg_glucose_level: 180.7518</br></br>gender: Female</br>age: 71.0</br>hypertension: 0.0</br>heart_disease: 0.0</br>ever_married: Yes</br>work_type: Private</br>Residence_type: Rural</br>bmi: 27.6</br>smoking_status: formerly smoked</br>_original_yhat_: 0.12539441442207006</br>"
          ],
          [
           "</br>id: 3256</br>prediction: 0.292</br>avg_glucose_level: 182.80560000000003</br></br>gender: Female</br>age: 71.0</br>hypertension: 0.0</br>heart_disease: 0.0</br>ever_married: Yes</br>work_type: Private</br>Residence_type: Rural</br>bmi: 27.6</br>smoking_status: formerly smoked</br>_original_yhat_: 0.12539441442207006</br>"
          ],
          [
           "</br>id: 3256</br>prediction: 0.297</br>avg_glucose_level: 184.85940000000002</br></br>gender: Female</br>age: 71.0</br>hypertension: 0.0</br>heart_disease: 0.0</br>ever_married: Yes</br>work_type: Private</br>Residence_type: Rural</br>bmi: 27.6</br>smoking_status: formerly smoked</br>_original_yhat_: 0.12539441442207006</br>"
          ],
          [
           "</br>id: 3256</br>prediction: 0.302</br>avg_glucose_level: 186.91320000000002</br></br>gender: Female</br>age: 71.0</br>hypertension: 0.0</br>heart_disease: 0.0</br>ever_married: Yes</br>work_type: Private</br>Residence_type: Rural</br>bmi: 27.6</br>smoking_status: formerly smoked</br>_original_yhat_: 0.12539441442207006</br>"
          ],
          [
           "</br>id: 3256</br>prediction: 0.307</br>avg_glucose_level: 188.967</br></br>gender: Female</br>age: 71.0</br>hypertension: 0.0</br>heart_disease: 0.0</br>ever_married: Yes</br>work_type: Private</br>Residence_type: Rural</br>bmi: 27.6</br>smoking_status: formerly smoked</br>_original_yhat_: 0.12539441442207006</br>"
          ],
          [
           "</br>id: 3256</br>prediction: 0.312</br>avg_glucose_level: 191.0208</br></br>gender: Female</br>age: 71.0</br>hypertension: 0.0</br>heart_disease: 0.0</br>ever_married: Yes</br>work_type: Private</br>Residence_type: Rural</br>bmi: 27.6</br>smoking_status: formerly smoked</br>_original_yhat_: 0.12539441442207006</br>"
          ],
          [
           "</br>id: 3256</br>prediction: 0.317</br>avg_glucose_level: 193.07460000000003</br></br>gender: Female</br>age: 71.0</br>hypertension: 0.0</br>heart_disease: 0.0</br>ever_married: Yes</br>work_type: Private</br>Residence_type: Rural</br>bmi: 27.6</br>smoking_status: formerly smoked</br>_original_yhat_: 0.12539441442207006</br>"
          ],
          [
           "</br>id: 3256</br>prediction: 0.322</br>avg_glucose_level: 195.12840000000003</br></br>gender: Female</br>age: 71.0</br>hypertension: 0.0</br>heart_disease: 0.0</br>ever_married: Yes</br>work_type: Private</br>Residence_type: Rural</br>bmi: 27.6</br>smoking_status: formerly smoked</br>_original_yhat_: 0.12539441442207006</br>"
          ],
          [
           "</br>id: 3256</br>prediction: 0.328</br>avg_glucose_level: 197.18220000000002</br></br>gender: Female</br>age: 71.0</br>hypertension: 0.0</br>heart_disease: 0.0</br>ever_married: Yes</br>work_type: Private</br>Residence_type: Rural</br>bmi: 27.6</br>smoking_status: formerly smoked</br>_original_yhat_: 0.12539441442207006</br>"
          ],
          [
           "</br>id: 3256</br>prediction: 0.333</br>avg_glucose_level: 199.23600000000002</br></br>gender: Female</br>age: 71.0</br>hypertension: 0.0</br>heart_disease: 0.0</br>ever_married: Yes</br>work_type: Private</br>Residence_type: Rural</br>bmi: 27.6</br>smoking_status: formerly smoked</br>_original_yhat_: 0.12539441442207006</br>"
          ],
          [
           "</br>id: 3256</br>prediction: 0.338</br>avg_glucose_level: 201.2898</br></br>gender: Female</br>age: 71.0</br>hypertension: 0.0</br>heart_disease: 0.0</br>ever_married: Yes</br>work_type: Private</br>Residence_type: Rural</br>bmi: 27.6</br>smoking_status: formerly smoked</br>_original_yhat_: 0.12539441442207006</br>"
          ],
          [
           "</br>id: 3256</br>prediction: 0.344</br>avg_glucose_level: 203.3436</br></br>gender: Female</br>age: 71.0</br>hypertension: 0.0</br>heart_disease: 0.0</br>ever_married: Yes</br>work_type: Private</br>Residence_type: Rural</br>bmi: 27.6</br>smoking_status: formerly smoked</br>_original_yhat_: 0.12539441442207006</br>"
          ],
          [
           "</br>id: 3256</br>prediction: 0.349</br>avg_glucose_level: 205.39740000000003</br></br>gender: Female</br>age: 71.0</br>hypertension: 0.0</br>heart_disease: 0.0</br>ever_married: Yes</br>work_type: Private</br>Residence_type: Rural</br>bmi: 27.6</br>smoking_status: formerly smoked</br>_original_yhat_: 0.12539441442207006</br>"
          ],
          [
           "</br>id: 3256</br>prediction: 0.354</br>avg_glucose_level: 207.45120000000003</br></br>gender: Female</br>age: 71.0</br>hypertension: 0.0</br>heart_disease: 0.0</br>ever_married: Yes</br>work_type: Private</br>Residence_type: Rural</br>bmi: 27.6</br>smoking_status: formerly smoked</br>_original_yhat_: 0.12539441442207006</br>"
          ],
          [
           "</br>id: 3256</br>prediction: 0.36</br>avg_glucose_level: 209.50500000000002</br></br>gender: Female</br>age: 71.0</br>hypertension: 0.0</br>heart_disease: 0.0</br>ever_married: Yes</br>work_type: Private</br>Residence_type: Rural</br>bmi: 27.6</br>smoking_status: formerly smoked</br>_original_yhat_: 0.12539441442207006</br>"
          ],
          [
           "</br>id: 3256</br>prediction: 0.365</br>avg_glucose_level: 211.55880000000002</br></br>gender: Female</br>age: 71.0</br>hypertension: 0.0</br>heart_disease: 0.0</br>ever_married: Yes</br>work_type: Private</br>Residence_type: Rural</br>bmi: 27.6</br>smoking_status: formerly smoked</br>_original_yhat_: 0.12539441442207006</br>"
          ],
          [
           "</br>id: 3256</br>prediction: 0.371</br>avg_glucose_level: 213.61260000000001</br></br>gender: Female</br>age: 71.0</br>hypertension: 0.0</br>heart_disease: 0.0</br>ever_married: Yes</br>work_type: Private</br>Residence_type: Rural</br>bmi: 27.6</br>smoking_status: formerly smoked</br>_original_yhat_: 0.12539441442207006</br>"
          ],
          [
           "</br>id: 3256</br>prediction: 0.376</br>avg_glucose_level: 215.6664</br></br>gender: Female</br>age: 71.0</br>hypertension: 0.0</br>heart_disease: 0.0</br>ever_married: Yes</br>work_type: Private</br>Residence_type: Rural</br>bmi: 27.6</br>smoking_status: formerly smoked</br>_original_yhat_: 0.12539441442207006</br>"
          ],
          [
           "</br>id: 3256</br>prediction: 0.382</br>avg_glucose_level: 217.72020000000003</br></br>gender: Female</br>age: 71.0</br>hypertension: 0.0</br>heart_disease: 0.0</br>ever_married: Yes</br>work_type: Private</br>Residence_type: Rural</br>bmi: 27.6</br>smoking_status: formerly smoked</br>_original_yhat_: 0.12539441442207006</br>"
          ],
          [
           "</br>id: 3256</br>prediction: 0.388</br>avg_glucose_level: 219.77400000000003</br></br>gender: Female</br>age: 71.0</br>hypertension: 0.0</br>heart_disease: 0.0</br>ever_married: Yes</br>work_type: Private</br>Residence_type: Rural</br>bmi: 27.6</br>smoking_status: formerly smoked</br>_original_yhat_: 0.12539441442207006</br>"
          ],
          [
           "</br>id: 3256</br>prediction: 0.393</br>avg_glucose_level: 221.82780000000002</br></br>gender: Female</br>age: 71.0</br>hypertension: 0.0</br>heart_disease: 0.0</br>ever_married: Yes</br>work_type: Private</br>Residence_type: Rural</br>bmi: 27.6</br>smoking_status: formerly smoked</br>_original_yhat_: 0.12539441442207006</br>"
          ],
          [
           "</br>id: 3256</br>prediction: 0.399</br>avg_glucose_level: 223.88160000000002</br></br>gender: Female</br>age: 71.0</br>hypertension: 0.0</br>heart_disease: 0.0</br>ever_married: Yes</br>work_type: Private</br>Residence_type: Rural</br>bmi: 27.6</br>smoking_status: formerly smoked</br>_original_yhat_: 0.12539441442207006</br>"
          ],
          [
           "</br>id: 3256</br>prediction: 0.405</br>avg_glucose_level: 225.93540000000002</br></br>gender: Female</br>age: 71.0</br>hypertension: 0.0</br>heart_disease: 0.0</br>ever_married: Yes</br>work_type: Private</br>Residence_type: Rural</br>bmi: 27.6</br>smoking_status: formerly smoked</br>_original_yhat_: 0.12539441442207006</br>"
          ],
          [
           "</br>id: 3256</br>prediction: 0.411</br>avg_glucose_level: 227.9892</br></br>gender: Female</br>age: 71.0</br>hypertension: 0.0</br>heart_disease: 0.0</br>ever_married: Yes</br>work_type: Private</br>Residence_type: Rural</br>bmi: 27.6</br>smoking_status: formerly smoked</br>_original_yhat_: 0.12539441442207006</br>"
          ],
          [
           "</br>id: 3256</br>prediction: 0.416</br>avg_glucose_level: 230.04300000000003</br></br>gender: Female</br>age: 71.0</br>hypertension: 0.0</br>heart_disease: 0.0</br>ever_married: Yes</br>work_type: Private</br>Residence_type: Rural</br>bmi: 27.6</br>smoking_status: formerly smoked</br>_original_yhat_: 0.12539441442207006</br>"
          ],
          [
           "</br>id: 3256</br>prediction: 0.422</br>avg_glucose_level: 232.09680000000003</br></br>gender: Female</br>age: 71.0</br>hypertension: 0.0</br>heart_disease: 0.0</br>ever_married: Yes</br>work_type: Private</br>Residence_type: Rural</br>bmi: 27.6</br>smoking_status: formerly smoked</br>_original_yhat_: 0.12539441442207006</br>"
          ],
          [
           "</br>id: 3256</br>prediction: 0.428</br>avg_glucose_level: 234.15060000000003</br></br>gender: Female</br>age: 71.0</br>hypertension: 0.0</br>heart_disease: 0.0</br>ever_married: Yes</br>work_type: Private</br>Residence_type: Rural</br>bmi: 27.6</br>smoking_status: formerly smoked</br>_original_yhat_: 0.12539441442207006</br>"
          ],
          [
           "</br>id: 3256</br>prediction: 0.434</br>avg_glucose_level: 236.20440000000002</br></br>gender: Female</br>age: 71.0</br>hypertension: 0.0</br>heart_disease: 0.0</br>ever_married: Yes</br>work_type: Private</br>Residence_type: Rural</br>bmi: 27.6</br>smoking_status: formerly smoked</br>_original_yhat_: 0.12539441442207006</br>"
          ],
          [
           "</br>id: 3256</br>prediction: 0.44</br>avg_glucose_level: 238.25820000000002</br></br>gender: Female</br>age: 71.0</br>hypertension: 0.0</br>heart_disease: 0.0</br>ever_married: Yes</br>work_type: Private</br>Residence_type: Rural</br>bmi: 27.6</br>smoking_status: formerly smoked</br>_original_yhat_: 0.12539441442207006</br>"
          ],
          [
           "</br>id: 3256</br>prediction: 0.446</br>avg_glucose_level: 240.312</br></br>gender: Female</br>age: 71.0</br>hypertension: 0.0</br>heart_disease: 0.0</br>ever_married: Yes</br>work_type: Private</br>Residence_type: Rural</br>bmi: 27.6</br>smoking_status: formerly smoked</br>_original_yhat_: 0.12539441442207006</br>"
          ],
          [
           "</br>id: 3256</br>prediction: 0.452</br>avg_glucose_level: 242.36580000000004</br></br>gender: Female</br>age: 71.0</br>hypertension: 0.0</br>heart_disease: 0.0</br>ever_married: Yes</br>work_type: Private</br>Residence_type: Rural</br>bmi: 27.6</br>smoking_status: formerly smoked</br>_original_yhat_: 0.12539441442207006</br>"
          ],
          [
           "</br>id: 3256</br>prediction: 0.457</br>avg_glucose_level: 244.41960000000003</br></br>gender: Female</br>age: 71.0</br>hypertension: 0.0</br>heart_disease: 0.0</br>ever_married: Yes</br>work_type: Private</br>Residence_type: Rural</br>bmi: 27.6</br>smoking_status: formerly smoked</br>_original_yhat_: 0.12539441442207006</br>"
          ],
          [
           "</br>id: 3256</br>prediction: 0.463</br>avg_glucose_level: 246.47340000000003</br></br>gender: Female</br>age: 71.0</br>hypertension: 0.0</br>heart_disease: 0.0</br>ever_married: Yes</br>work_type: Private</br>Residence_type: Rural</br>bmi: 27.6</br>smoking_status: formerly smoked</br>_original_yhat_: 0.12539441442207006</br>"
          ],
          [
           "</br>id: 3256</br>prediction: 0.469</br>avg_glucose_level: 248.52720000000002</br></br>gender: Female</br>age: 71.0</br>hypertension: 0.0</br>heart_disease: 0.0</br>ever_married: Yes</br>work_type: Private</br>Residence_type: Rural</br>bmi: 27.6</br>smoking_status: formerly smoked</br>_original_yhat_: 0.12539441442207006</br>"
          ],
          [
           "</br>id: 3256</br>prediction: 0.475</br>avg_glucose_level: 250.58100000000002</br></br>gender: Female</br>age: 71.0</br>hypertension: 0.0</br>heart_disease: 0.0</br>ever_married: Yes</br>work_type: Private</br>Residence_type: Rural</br>bmi: 27.6</br>smoking_status: formerly smoked</br>_original_yhat_: 0.12539441442207006</br>"
          ],
          [
           "</br>id: 3256</br>prediction: 0.481</br>avg_glucose_level: 252.6348</br></br>gender: Female</br>age: 71.0</br>hypertension: 0.0</br>heart_disease: 0.0</br>ever_married: Yes</br>work_type: Private</br>Residence_type: Rural</br>bmi: 27.6</br>smoking_status: formerly smoked</br>_original_yhat_: 0.12539441442207006</br>"
          ],
          [
           "</br>id: 3256</br>prediction: 0.487</br>avg_glucose_level: 254.68860000000004</br></br>gender: Female</br>age: 71.0</br>hypertension: 0.0</br>heart_disease: 0.0</br>ever_married: Yes</br>work_type: Private</br>Residence_type: Rural</br>bmi: 27.6</br>smoking_status: formerly smoked</br>_original_yhat_: 0.12539441442207006</br>"
          ],
          [
           "</br>id: 3256</br>prediction: 0.493</br>avg_glucose_level: 256.74240000000003</br></br>gender: Female</br>age: 71.0</br>hypertension: 0.0</br>heart_disease: 0.0</br>ever_married: Yes</br>work_type: Private</br>Residence_type: Rural</br>bmi: 27.6</br>smoking_status: formerly smoked</br>_original_yhat_: 0.12539441442207006</br>"
          ],
          [
           "</br>id: 3256</br>prediction: 0.499</br>avg_glucose_level: 258.7962</br></br>gender: Female</br>age: 71.0</br>hypertension: 0.0</br>heart_disease: 0.0</br>ever_married: Yes</br>work_type: Private</br>Residence_type: Rural</br>bmi: 27.6</br>smoking_status: formerly smoked</br>_original_yhat_: 0.12539441442207006</br>"
          ],
          [
           "</br>id: 3256</br>prediction: 0.505</br>avg_glucose_level: 260.85</br></br>gender: Female</br>age: 71.0</br>hypertension: 0.0</br>heart_disease: 0.0</br>ever_married: Yes</br>work_type: Private</br>Residence_type: Rural</br>bmi: 27.6</br>smoking_status: formerly smoked</br>_original_yhat_: 0.12539441442207006</br>"
          ]
         ],
         "hovertemplate": "%{customdata[0]}<extra></extra>",
         "legendgroup": "Logistic Regression",
         "line": {
          "color": "#46bac2",
          "dash": "solid",
          "width": 2
         },
         "marker": {
          "symbol": "circle"
         },
         "mode": "lines",
         "name": "Logistic Regression",
         "opacity": 1,
         "orientation": "v",
         "showlegend": false,
         "type": "scatter",
         "x": [
          55.47,
          57.5238,
          59.5776,
          61.6314,
          63.6852,
          65.739,
          67.7928,
          69.8466,
          71.9004,
          73.9542,
          76.00800000000001,
          78.0618,
          80.1156,
          82.1694,
          84.2232,
          86.277,
          88.33080000000001,
          90.3846,
          91.85,
          92.4384,
          94.4922,
          96.546,
          98.5998,
          100.65360000000001,
          102.7074,
          104.7612,
          106.815,
          108.86880000000001,
          110.92260000000002,
          112.97640000000001,
          115.03020000000001,
          117.084,
          119.1378,
          121.19160000000001,
          123.2454,
          125.29920000000001,
          127.35300000000001,
          129.4068,
          131.4606,
          133.51440000000002,
          135.5682,
          137.622,
          139.6758,
          141.7296,
          143.78340000000003,
          145.8372,
          147.89100000000002,
          149.94480000000001,
          151.9986,
          154.0524,
          156.1062,
          158.16000000000003,
          160.21380000000002,
          162.26760000000002,
          164.3214,
          166.3752,
          168.42900000000003,
          170.4828,
          172.53660000000002,
          174.59040000000002,
          176.6442,
          178.69800000000004,
          180.7518,
          182.80560000000003,
          184.85940000000002,
          186.91320000000002,
          188.967,
          191.0208,
          193.07460000000003,
          195.12840000000003,
          197.18220000000002,
          199.23600000000002,
          201.2898,
          203.3436,
          205.39740000000003,
          207.45120000000003,
          209.50500000000002,
          211.55880000000002,
          213.61260000000001,
          215.6664,
          217.72020000000003,
          219.77400000000003,
          221.82780000000002,
          223.88160000000002,
          225.93540000000002,
          227.9892,
          230.04300000000003,
          232.09680000000003,
          234.15060000000003,
          236.20440000000002,
          238.25820000000002,
          240.312,
          242.36580000000004,
          244.41960000000003,
          246.47340000000003,
          248.52720000000002,
          250.58100000000002,
          252.6348,
          254.68860000000004,
          256.74240000000003,
          258.7962,
          260.85
         ],
         "xaxis": "x4",
         "y": [
          0.08589850595188547,
          0.08778979208625584,
          0.08971863284328273,
          0.09168559294395838,
          0.09369123753919545,
          0.09573613179103355,
          0.097820840435077,
          0.09994592732390116,
          0.10211195495119117,
          0.10431948395640528,
          0.10656907260978545,
          0.10886127627757254,
          0.11119664686731756,
          0.11357573225322164,
          0.11599907568147665,
          0.11846721515562457,
          0.12098068280199972,
          0.12354000421536812,
          0.12539441442207006,
          0.12614569778493245,
          0.12879827400092442,
          0.1314982347420675,
          0.13424607254425333,
          0.13704226985083898,
          0.1398872982450409,
          0.14278161766496922,
          0.14572567560192132,
          0.14871990628262394,
          0.15176472983619652,
          0.15486055144668223,
          0.1580077604920784,
          0.16120672967087976,
          0.16445781411723437,
          0.16776135050589663,
          0.17111765614825133,
          0.17452702808077072,
          0.17798974214735397,
          0.18150605207709003,
          0.18507618855907235,
          0.18870035831598234,
          0.1923787431782463,
          0.19611149916065768,
          0.199898755543437,
          0.2037406139597886,
          0.2076371474920878,
          0.21158839977891025,
          0.21559438413518558,
          0.219655082687825,
          0.2237704455292344,
          0.22794038989118234,
          0.2321647993415383,
          0.2364435230064476,
          0.24077637482053849,
          0.24516313280778887,
          0.24960353839570193,
          0.2540972957654459,
          0.2586440712406224,
          0.26324349271731073,
          0.2678951491380278,
          0.2725985900122028,
          0.277353324985736,
          0.28215882346215204,
          0.28701451427779656,
          0.29191978543345387,
          0.29687398388466696,
          0.30187641539295196,
          0.30692634443997796,
          0.3120229942066652,
          0.3171655466190152,
          0.32235314246233837,
          0.3275848815653879,
          0.3328598230557312,
          0.3381769856875172,
          0.343535348242595,
          0.3489338500057493,
          0.3543713913145933,
          0.3598468341844552,
          0.3653590030083552,
          0.37090668533194304,
          0.37648863270302774,
          0.3821035615950834,
          0.38775015440387445,
          0.39342706051608983,
          0.3991328974486275,
          0.404866252056923,
          0.4106256818104649,
          0.41640971613339844,
          0.42221685780787266,
          0.4280455844375571,
          0.43389434996852255,
          0.4397615862644555,
          0.4456457047329781,
          0.45154509799962556,
          0.4574581416258665,
          0.4633831958673539,
          0.46931860746845283,
          0.4752627114889293,
          0.48121383315856,
          0.48717028975531246,
          0.49313039250263774,
          0.4990924484813513,
          0.5050547625515068
         ],
         "yaxis": "y4"
        },
        {
         "customdata": [
          [
           "</br>id: 3256</br>prediction: 0.145</br>bmi: 10.3</br></br>gender: Female</br>age: 71.0</br>hypertension: 0.0</br>heart_disease: 0.0</br>ever_married: Yes</br>work_type: Private</br>Residence_type: Rural</br>avg_glucose_level: 91.85</br>smoking_status: formerly smoked</br>_original_yhat_: 0.12539441442207006</br>"
          ],
          [
           "</br>id: 3256</br>prediction: 0.144</br>bmi: 10.977</br></br>gender: Female</br>age: 71.0</br>hypertension: 0.0</br>heart_disease: 0.0</br>ever_married: Yes</br>work_type: Private</br>Residence_type: Rural</br>avg_glucose_level: 91.85</br>smoking_status: formerly smoked</br>_original_yhat_: 0.12539441442207006</br>"
          ],
          [
           "</br>id: 3256</br>prediction: 0.144</br>bmi: 11.654</br></br>gender: Female</br>age: 71.0</br>hypertension: 0.0</br>heart_disease: 0.0</br>ever_married: Yes</br>work_type: Private</br>Residence_type: Rural</br>avg_glucose_level: 91.85</br>smoking_status: formerly smoked</br>_original_yhat_: 0.12539441442207006</br>"
          ],
          [
           "</br>id: 3256</br>prediction: 0.143</br>bmi: 12.331000000000001</br></br>gender: Female</br>age: 71.0</br>hypertension: 0.0</br>heart_disease: 0.0</br>ever_married: Yes</br>work_type: Private</br>Residence_type: Rural</br>avg_glucose_level: 91.85</br>smoking_status: formerly smoked</br>_original_yhat_: 0.12539441442207006</br>"
          ],
          [
           "</br>id: 3256</br>prediction: 0.142</br>bmi: 13.008000000000001</br></br>gender: Female</br>age: 71.0</br>hypertension: 0.0</br>heart_disease: 0.0</br>ever_married: Yes</br>work_type: Private</br>Residence_type: Rural</br>avg_glucose_level: 91.85</br>smoking_status: formerly smoked</br>_original_yhat_: 0.12539441442207006</br>"
          ],
          [
           "</br>id: 3256</br>prediction: 0.141</br>bmi: 13.685</br></br>gender: Female</br>age: 71.0</br>hypertension: 0.0</br>heart_disease: 0.0</br>ever_married: Yes</br>work_type: Private</br>Residence_type: Rural</br>avg_glucose_level: 91.85</br>smoking_status: formerly smoked</br>_original_yhat_: 0.12539441442207006</br>"
          ],
          [
           "</br>id: 3256</br>prediction: 0.14</br>bmi: 14.362000000000002</br></br>gender: Female</br>age: 71.0</br>hypertension: 0.0</br>heart_disease: 0.0</br>ever_married: Yes</br>work_type: Private</br>Residence_type: Rural</br>avg_glucose_level: 91.85</br>smoking_status: formerly smoked</br>_original_yhat_: 0.12539441442207006</br>"
          ],
          [
           "</br>id: 3256</br>prediction: 0.14</br>bmi: 15.039000000000001</br></br>gender: Female</br>age: 71.0</br>hypertension: 0.0</br>heart_disease: 0.0</br>ever_married: Yes</br>work_type: Private</br>Residence_type: Rural</br>avg_glucose_level: 91.85</br>smoking_status: formerly smoked</br>_original_yhat_: 0.12539441442207006</br>"
          ],
          [
           "</br>id: 3256</br>prediction: 0.139</br>bmi: 15.716000000000001</br></br>gender: Female</br>age: 71.0</br>hypertension: 0.0</br>heart_disease: 0.0</br>ever_married: Yes</br>work_type: Private</br>Residence_type: Rural</br>avg_glucose_level: 91.85</br>smoking_status: formerly smoked</br>_original_yhat_: 0.12539441442207006</br>"
          ],
          [
           "</br>id: 3256</br>prediction: 0.138</br>bmi: 16.393</br></br>gender: Female</br>age: 71.0</br>hypertension: 0.0</br>heart_disease: 0.0</br>ever_married: Yes</br>work_type: Private</br>Residence_type: Rural</br>avg_glucose_level: 91.85</br>smoking_status: formerly smoked</br>_original_yhat_: 0.12539441442207006</br>"
          ],
          [
           "</br>id: 3256</br>prediction: 0.137</br>bmi: 17.07</br></br>gender: Female</br>age: 71.0</br>hypertension: 0.0</br>heart_disease: 0.0</br>ever_married: Yes</br>work_type: Private</br>Residence_type: Rural</br>avg_glucose_level: 91.85</br>smoking_status: formerly smoked</br>_original_yhat_: 0.12539441442207006</br>"
          ],
          [
           "</br>id: 3256</br>prediction: 0.136</br>bmi: 17.747</br></br>gender: Female</br>age: 71.0</br>hypertension: 0.0</br>heart_disease: 0.0</br>ever_married: Yes</br>work_type: Private</br>Residence_type: Rural</br>avg_glucose_level: 91.85</br>smoking_status: formerly smoked</br>_original_yhat_: 0.12539441442207006</br>"
          ],
          [
           "</br>id: 3256</br>prediction: 0.136</br>bmi: 18.424</br></br>gender: Female</br>age: 71.0</br>hypertension: 0.0</br>heart_disease: 0.0</br>ever_married: Yes</br>work_type: Private</br>Residence_type: Rural</br>avg_glucose_level: 91.85</br>smoking_status: formerly smoked</br>_original_yhat_: 0.12539441442207006</br>"
          ],
          [
           "</br>id: 3256</br>prediction: 0.135</br>bmi: 19.101</br></br>gender: Female</br>age: 71.0</br>hypertension: 0.0</br>heart_disease: 0.0</br>ever_married: Yes</br>work_type: Private</br>Residence_type: Rural</br>avg_glucose_level: 91.85</br>smoking_status: formerly smoked</br>_original_yhat_: 0.12539441442207006</br>"
          ],
          [
           "</br>id: 3256</br>prediction: 0.134</br>bmi: 19.778000000000002</br></br>gender: Female</br>age: 71.0</br>hypertension: 0.0</br>heart_disease: 0.0</br>ever_married: Yes</br>work_type: Private</br>Residence_type: Rural</br>avg_glucose_level: 91.85</br>smoking_status: formerly smoked</br>_original_yhat_: 0.12539441442207006</br>"
          ],
          [
           "</br>id: 3256</br>prediction: 0.133</br>bmi: 20.455000000000002</br></br>gender: Female</br>age: 71.0</br>hypertension: 0.0</br>heart_disease: 0.0</br>ever_married: Yes</br>work_type: Private</br>Residence_type: Rural</br>avg_glucose_level: 91.85</br>smoking_status: formerly smoked</br>_original_yhat_: 0.12539441442207006</br>"
          ],
          [
           "</br>id: 3256</br>prediction: 0.133</br>bmi: 21.132</br></br>gender: Female</br>age: 71.0</br>hypertension: 0.0</br>heart_disease: 0.0</br>ever_married: Yes</br>work_type: Private</br>Residence_type: Rural</br>avg_glucose_level: 91.85</br>smoking_status: formerly smoked</br>_original_yhat_: 0.12539441442207006</br>"
          ],
          [
           "</br>id: 3256</br>prediction: 0.132</br>bmi: 21.809</br></br>gender: Female</br>age: 71.0</br>hypertension: 0.0</br>heart_disease: 0.0</br>ever_married: Yes</br>work_type: Private</br>Residence_type: Rural</br>avg_glucose_level: 91.85</br>smoking_status: formerly smoked</br>_original_yhat_: 0.12539441442207006</br>"
          ],
          [
           "</br>id: 3256</br>prediction: 0.131</br>bmi: 22.486</br></br>gender: Female</br>age: 71.0</br>hypertension: 0.0</br>heart_disease: 0.0</br>ever_married: Yes</br>work_type: Private</br>Residence_type: Rural</br>avg_glucose_level: 91.85</br>smoking_status: formerly smoked</br>_original_yhat_: 0.12539441442207006</br>"
          ],
          [
           "</br>id: 3256</br>prediction: 0.13</br>bmi: 23.163000000000004</br></br>gender: Female</br>age: 71.0</br>hypertension: 0.0</br>heart_disease: 0.0</br>ever_married: Yes</br>work_type: Private</br>Residence_type: Rural</br>avg_glucose_level: 91.85</br>smoking_status: formerly smoked</br>_original_yhat_: 0.12539441442207006</br>"
          ],
          [
           "</br>id: 3256</br>prediction: 0.129</br>bmi: 23.840000000000003</br></br>gender: Female</br>age: 71.0</br>hypertension: 0.0</br>heart_disease: 0.0</br>ever_married: Yes</br>work_type: Private</br>Residence_type: Rural</br>avg_glucose_level: 91.85</br>smoking_status: formerly smoked</br>_original_yhat_: 0.12539441442207006</br>"
          ],
          [
           "</br>id: 3256</br>prediction: 0.129</br>bmi: 24.517000000000003</br></br>gender: Female</br>age: 71.0</br>hypertension: 0.0</br>heart_disease: 0.0</br>ever_married: Yes</br>work_type: Private</br>Residence_type: Rural</br>avg_glucose_level: 91.85</br>smoking_status: formerly smoked</br>_original_yhat_: 0.12539441442207006</br>"
          ],
          [
           "</br>id: 3256</br>prediction: 0.128</br>bmi: 25.194000000000003</br></br>gender: Female</br>age: 71.0</br>hypertension: 0.0</br>heart_disease: 0.0</br>ever_married: Yes</br>work_type: Private</br>Residence_type: Rural</br>avg_glucose_level: 91.85</br>smoking_status: formerly smoked</br>_original_yhat_: 0.12539441442207006</br>"
          ],
          [
           "</br>id: 3256</br>prediction: 0.127</br>bmi: 25.871000000000002</br></br>gender: Female</br>age: 71.0</br>hypertension: 0.0</br>heart_disease: 0.0</br>ever_married: Yes</br>work_type: Private</br>Residence_type: Rural</br>avg_glucose_level: 91.85</br>smoking_status: formerly smoked</br>_original_yhat_: 0.12539441442207006</br>"
          ],
          [
           "</br>id: 3256</br>prediction: 0.127</br>bmi: 26.548000000000002</br></br>gender: Female</br>age: 71.0</br>hypertension: 0.0</br>heart_disease: 0.0</br>ever_married: Yes</br>work_type: Private</br>Residence_type: Rural</br>avg_glucose_level: 91.85</br>smoking_status: formerly smoked</br>_original_yhat_: 0.12539441442207006</br>"
          ],
          [
           "</br>id: 3256</br>prediction: 0.126</br>bmi: 27.225</br></br>gender: Female</br>age: 71.0</br>hypertension: 0.0</br>heart_disease: 0.0</br>ever_married: Yes</br>work_type: Private</br>Residence_type: Rural</br>avg_glucose_level: 91.85</br>smoking_status: formerly smoked</br>_original_yhat_: 0.12539441442207006</br>"
          ],
          [
           "</br>id: 3256</br>prediction: 0.125</br>bmi: 27.6</br></br>gender: Female</br>age: 71.0</br>hypertension: 0.0</br>heart_disease: 0.0</br>ever_married: Yes</br>work_type: Private</br>Residence_type: Rural</br>avg_glucose_level: 91.85</br>smoking_status: formerly smoked</br>_original_yhat_: 0.12539441442207006</br>"
          ],
          [
           "</br>id: 3256</br>prediction: 0.125</br>bmi: 27.902</br></br>gender: Female</br>age: 71.0</br>hypertension: 0.0</br>heart_disease: 0.0</br>ever_married: Yes</br>work_type: Private</br>Residence_type: Rural</br>avg_glucose_level: 91.85</br>smoking_status: formerly smoked</br>_original_yhat_: 0.12539441442207006</br>"
          ],
          [
           "</br>id: 3256</br>prediction: 0.124</br>bmi: 28.579</br></br>gender: Female</br>age: 71.0</br>hypertension: 0.0</br>heart_disease: 0.0</br>ever_married: Yes</br>work_type: Private</br>Residence_type: Rural</br>avg_glucose_level: 91.85</br>smoking_status: formerly smoked</br>_original_yhat_: 0.12539441442207006</br>"
          ],
          [
           "</br>id: 3256</br>prediction: 0.124</br>bmi: 29.256000000000004</br></br>gender: Female</br>age: 71.0</br>hypertension: 0.0</br>heart_disease: 0.0</br>ever_married: Yes</br>work_type: Private</br>Residence_type: Rural</br>avg_glucose_level: 91.85</br>smoking_status: formerly smoked</br>_original_yhat_: 0.12539441442207006</br>"
          ],
          [
           "</br>id: 3256</br>prediction: 0.123</br>bmi: 29.933000000000003</br></br>gender: Female</br>age: 71.0</br>hypertension: 0.0</br>heart_disease: 0.0</br>ever_married: Yes</br>work_type: Private</br>Residence_type: Rural</br>avg_glucose_level: 91.85</br>smoking_status: formerly smoked</br>_original_yhat_: 0.12539441442207006</br>"
          ],
          [
           "</br>id: 3256</br>prediction: 0.122</br>bmi: 30.610000000000003</br></br>gender: Female</br>age: 71.0</br>hypertension: 0.0</br>heart_disease: 0.0</br>ever_married: Yes</br>work_type: Private</br>Residence_type: Rural</br>avg_glucose_level: 91.85</br>smoking_status: formerly smoked</br>_original_yhat_: 0.12539441442207006</br>"
          ],
          [
           "</br>id: 3256</br>prediction: 0.121</br>bmi: 31.287000000000003</br></br>gender: Female</br>age: 71.0</br>hypertension: 0.0</br>heart_disease: 0.0</br>ever_married: Yes</br>work_type: Private</br>Residence_type: Rural</br>avg_glucose_level: 91.85</br>smoking_status: formerly smoked</br>_original_yhat_: 0.12539441442207006</br>"
          ],
          [
           "</br>id: 3256</br>prediction: 0.121</br>bmi: 31.964000000000002</br></br>gender: Female</br>age: 71.0</br>hypertension: 0.0</br>heart_disease: 0.0</br>ever_married: Yes</br>work_type: Private</br>Residence_type: Rural</br>avg_glucose_level: 91.85</br>smoking_status: formerly smoked</br>_original_yhat_: 0.12539441442207006</br>"
          ],
          [
           "</br>id: 3256</br>prediction: 0.12</br>bmi: 32.641000000000005</br></br>gender: Female</br>age: 71.0</br>hypertension: 0.0</br>heart_disease: 0.0</br>ever_married: Yes</br>work_type: Private</br>Residence_type: Rural</br>avg_glucose_level: 91.85</br>smoking_status: formerly smoked</br>_original_yhat_: 0.12539441442207006</br>"
          ],
          [
           "</br>id: 3256</br>prediction: 0.119</br>bmi: 33.318</br></br>gender: Female</br>age: 71.0</br>hypertension: 0.0</br>heart_disease: 0.0</br>ever_married: Yes</br>work_type: Private</br>Residence_type: Rural</br>avg_glucose_level: 91.85</br>smoking_status: formerly smoked</br>_original_yhat_: 0.12539441442207006</br>"
          ],
          [
           "</br>id: 3256</br>prediction: 0.119</br>bmi: 33.995000000000005</br></br>gender: Female</br>age: 71.0</br>hypertension: 0.0</br>heart_disease: 0.0</br>ever_married: Yes</br>work_type: Private</br>Residence_type: Rural</br>avg_glucose_level: 91.85</br>smoking_status: formerly smoked</br>_original_yhat_: 0.12539441442207006</br>"
          ],
          [
           "</br>id: 3256</br>prediction: 0.118</br>bmi: 34.672</br></br>gender: Female</br>age: 71.0</br>hypertension: 0.0</br>heart_disease: 0.0</br>ever_married: Yes</br>work_type: Private</br>Residence_type: Rural</br>avg_glucose_level: 91.85</br>smoking_status: formerly smoked</br>_original_yhat_: 0.12539441442207006</br>"
          ],
          [
           "</br>id: 3256</br>prediction: 0.117</br>bmi: 35.349000000000004</br></br>gender: Female</br>age: 71.0</br>hypertension: 0.0</br>heart_disease: 0.0</br>ever_married: Yes</br>work_type: Private</br>Residence_type: Rural</br>avg_glucose_level: 91.85</br>smoking_status: formerly smoked</br>_original_yhat_: 0.12539441442207006</br>"
          ],
          [
           "</br>id: 3256</br>prediction: 0.117</br>bmi: 36.026</br></br>gender: Female</br>age: 71.0</br>hypertension: 0.0</br>heart_disease: 0.0</br>ever_married: Yes</br>work_type: Private</br>Residence_type: Rural</br>avg_glucose_level: 91.85</br>smoking_status: formerly smoked</br>_original_yhat_: 0.12539441442207006</br>"
          ],
          [
           "</br>id: 3256</br>prediction: 0.116</br>bmi: 36.703</br></br>gender: Female</br>age: 71.0</br>hypertension: 0.0</br>heart_disease: 0.0</br>ever_married: Yes</br>work_type: Private</br>Residence_type: Rural</br>avg_glucose_level: 91.85</br>smoking_status: formerly smoked</br>_original_yhat_: 0.12539441442207006</br>"
          ],
          [
           "</br>id: 3256</br>prediction: 0.115</br>bmi: 37.38</br></br>gender: Female</br>age: 71.0</br>hypertension: 0.0</br>heart_disease: 0.0</br>ever_married: Yes</br>work_type: Private</br>Residence_type: Rural</br>avg_glucose_level: 91.85</br>smoking_status: formerly smoked</br>_original_yhat_: 0.12539441442207006</br>"
          ],
          [
           "</br>id: 3256</br>prediction: 0.115</br>bmi: 38.057</br></br>gender: Female</br>age: 71.0</br>hypertension: 0.0</br>heart_disease: 0.0</br>ever_married: Yes</br>work_type: Private</br>Residence_type: Rural</br>avg_glucose_level: 91.85</br>smoking_status: formerly smoked</br>_original_yhat_: 0.12539441442207006</br>"
          ],
          [
           "</br>id: 3256</br>prediction: 0.114</br>bmi: 38.734</br></br>gender: Female</br>age: 71.0</br>hypertension: 0.0</br>heart_disease: 0.0</br>ever_married: Yes</br>work_type: Private</br>Residence_type: Rural</br>avg_glucose_level: 91.85</br>smoking_status: formerly smoked</br>_original_yhat_: 0.12539441442207006</br>"
          ],
          [
           "</br>id: 3256</br>prediction: 0.113</br>bmi: 39.411</br></br>gender: Female</br>age: 71.0</br>hypertension: 0.0</br>heart_disease: 0.0</br>ever_married: Yes</br>work_type: Private</br>Residence_type: Rural</br>avg_glucose_level: 91.85</br>smoking_status: formerly smoked</br>_original_yhat_: 0.12539441442207006</br>"
          ],
          [
           "</br>id: 3256</br>prediction: 0.113</br>bmi: 40.08800000000001</br></br>gender: Female</br>age: 71.0</br>hypertension: 0.0</br>heart_disease: 0.0</br>ever_married: Yes</br>work_type: Private</br>Residence_type: Rural</br>avg_glucose_level: 91.85</br>smoking_status: formerly smoked</br>_original_yhat_: 0.12539441442207006</br>"
          ],
          [
           "</br>id: 3256</br>prediction: 0.112</br>bmi: 40.765</br></br>gender: Female</br>age: 71.0</br>hypertension: 0.0</br>heart_disease: 0.0</br>ever_married: Yes</br>work_type: Private</br>Residence_type: Rural</br>avg_glucose_level: 91.85</br>smoking_status: formerly smoked</br>_original_yhat_: 0.12539441442207006</br>"
          ],
          [
           "</br>id: 3256</br>prediction: 0.111</br>bmi: 41.44200000000001</br></br>gender: Female</br>age: 71.0</br>hypertension: 0.0</br>heart_disease: 0.0</br>ever_married: Yes</br>work_type: Private</br>Residence_type: Rural</br>avg_glucose_level: 91.85</br>smoking_status: formerly smoked</br>_original_yhat_: 0.12539441442207006</br>"
          ],
          [
           "</br>id: 3256</br>prediction: 0.111</br>bmi: 42.119</br></br>gender: Female</br>age: 71.0</br>hypertension: 0.0</br>heart_disease: 0.0</br>ever_married: Yes</br>work_type: Private</br>Residence_type: Rural</br>avg_glucose_level: 91.85</br>smoking_status: formerly smoked</br>_original_yhat_: 0.12539441442207006</br>"
          ],
          [
           "</br>id: 3256</br>prediction: 0.11</br>bmi: 42.79600000000001</br></br>gender: Female</br>age: 71.0</br>hypertension: 0.0</br>heart_disease: 0.0</br>ever_married: Yes</br>work_type: Private</br>Residence_type: Rural</br>avg_glucose_level: 91.85</br>smoking_status: formerly smoked</br>_original_yhat_: 0.12539441442207006</br>"
          ],
          [
           "</br>id: 3256</br>prediction: 0.109</br>bmi: 43.473</br></br>gender: Female</br>age: 71.0</br>hypertension: 0.0</br>heart_disease: 0.0</br>ever_married: Yes</br>work_type: Private</br>Residence_type: Rural</br>avg_glucose_level: 91.85</br>smoking_status: formerly smoked</br>_original_yhat_: 0.12539441442207006</br>"
          ],
          [
           "</br>id: 3256</br>prediction: 0.109</br>bmi: 44.150000000000006</br></br>gender: Female</br>age: 71.0</br>hypertension: 0.0</br>heart_disease: 0.0</br>ever_married: Yes</br>work_type: Private</br>Residence_type: Rural</br>avg_glucose_level: 91.85</br>smoking_status: formerly smoked</br>_original_yhat_: 0.12539441442207006</br>"
          ],
          [
           "</br>id: 3256</br>prediction: 0.108</br>bmi: 44.827</br></br>gender: Female</br>age: 71.0</br>hypertension: 0.0</br>heart_disease: 0.0</br>ever_married: Yes</br>work_type: Private</br>Residence_type: Rural</br>avg_glucose_level: 91.85</br>smoking_status: formerly smoked</br>_original_yhat_: 0.12539441442207006</br>"
          ],
          [
           "</br>id: 3256</br>prediction: 0.107</br>bmi: 45.504000000000005</br></br>gender: Female</br>age: 71.0</br>hypertension: 0.0</br>heart_disease: 0.0</br>ever_married: Yes</br>work_type: Private</br>Residence_type: Rural</br>avg_glucose_level: 91.85</br>smoking_status: formerly smoked</br>_original_yhat_: 0.12539441442207006</br>"
          ],
          [
           "</br>id: 3256</br>prediction: 0.107</br>bmi: 46.181</br></br>gender: Female</br>age: 71.0</br>hypertension: 0.0</br>heart_disease: 0.0</br>ever_married: Yes</br>work_type: Private</br>Residence_type: Rural</br>avg_glucose_level: 91.85</br>smoking_status: formerly smoked</br>_original_yhat_: 0.12539441442207006</br>"
          ],
          [
           "</br>id: 3256</br>prediction: 0.106</br>bmi: 46.858000000000004</br></br>gender: Female</br>age: 71.0</br>hypertension: 0.0</br>heart_disease: 0.0</br>ever_married: Yes</br>work_type: Private</br>Residence_type: Rural</br>avg_glucose_level: 91.85</br>smoking_status: formerly smoked</br>_original_yhat_: 0.12539441442207006</br>"
          ],
          [
           "</br>id: 3256</br>prediction: 0.105</br>bmi: 47.535</br></br>gender: Female</br>age: 71.0</br>hypertension: 0.0</br>heart_disease: 0.0</br>ever_married: Yes</br>work_type: Private</br>Residence_type: Rural</br>avg_glucose_level: 91.85</br>smoking_status: formerly smoked</br>_original_yhat_: 0.12539441442207006</br>"
          ],
          [
           "</br>id: 3256</br>prediction: 0.105</br>bmi: 48.212</br></br>gender: Female</br>age: 71.0</br>hypertension: 0.0</br>heart_disease: 0.0</br>ever_married: Yes</br>work_type: Private</br>Residence_type: Rural</br>avg_glucose_level: 91.85</br>smoking_status: formerly smoked</br>_original_yhat_: 0.12539441442207006</br>"
          ],
          [
           "</br>id: 3256</br>prediction: 0.104</br>bmi: 48.88900000000001</br></br>gender: Female</br>age: 71.0</br>hypertension: 0.0</br>heart_disease: 0.0</br>ever_married: Yes</br>work_type: Private</br>Residence_type: Rural</br>avg_glucose_level: 91.85</br>smoking_status: formerly smoked</br>_original_yhat_: 0.12539441442207006</br>"
          ],
          [
           "</br>id: 3256</br>prediction: 0.104</br>bmi: 49.566</br></br>gender: Female</br>age: 71.0</br>hypertension: 0.0</br>heart_disease: 0.0</br>ever_married: Yes</br>work_type: Private</br>Residence_type: Rural</br>avg_glucose_level: 91.85</br>smoking_status: formerly smoked</br>_original_yhat_: 0.12539441442207006</br>"
          ],
          [
           "</br>id: 3256</br>prediction: 0.103</br>bmi: 50.24300000000001</br></br>gender: Female</br>age: 71.0</br>hypertension: 0.0</br>heart_disease: 0.0</br>ever_married: Yes</br>work_type: Private</br>Residence_type: Rural</br>avg_glucose_level: 91.85</br>smoking_status: formerly smoked</br>_original_yhat_: 0.12539441442207006</br>"
          ],
          [
           "</br>id: 3256</br>prediction: 0.102</br>bmi: 50.92</br></br>gender: Female</br>age: 71.0</br>hypertension: 0.0</br>heart_disease: 0.0</br>ever_married: Yes</br>work_type: Private</br>Residence_type: Rural</br>avg_glucose_level: 91.85</br>smoking_status: formerly smoked</br>_original_yhat_: 0.12539441442207006</br>"
          ],
          [
           "</br>id: 3256</br>prediction: 0.102</br>bmi: 51.59700000000001</br></br>gender: Female</br>age: 71.0</br>hypertension: 0.0</br>heart_disease: 0.0</br>ever_married: Yes</br>work_type: Private</br>Residence_type: Rural</br>avg_glucose_level: 91.85</br>smoking_status: formerly smoked</br>_original_yhat_: 0.12539441442207006</br>"
          ],
          [
           "</br>id: 3256</br>prediction: 0.101</br>bmi: 52.274</br></br>gender: Female</br>age: 71.0</br>hypertension: 0.0</br>heart_disease: 0.0</br>ever_married: Yes</br>work_type: Private</br>Residence_type: Rural</br>avg_glucose_level: 91.85</br>smoking_status: formerly smoked</br>_original_yhat_: 0.12539441442207006</br>"
          ],
          [
           "</br>id: 3256</br>prediction: 0.101</br>bmi: 52.95100000000001</br></br>gender: Female</br>age: 71.0</br>hypertension: 0.0</br>heart_disease: 0.0</br>ever_married: Yes</br>work_type: Private</br>Residence_type: Rural</br>avg_glucose_level: 91.85</br>smoking_status: formerly smoked</br>_original_yhat_: 0.12539441442207006</br>"
          ],
          [
           "</br>id: 3256</br>prediction: 0.1</br>bmi: 53.628</br></br>gender: Female</br>age: 71.0</br>hypertension: 0.0</br>heart_disease: 0.0</br>ever_married: Yes</br>work_type: Private</br>Residence_type: Rural</br>avg_glucose_level: 91.85</br>smoking_status: formerly smoked</br>_original_yhat_: 0.12539441442207006</br>"
          ],
          [
           "</br>id: 3256</br>prediction: 0.099</br>bmi: 54.30500000000001</br></br>gender: Female</br>age: 71.0</br>hypertension: 0.0</br>heart_disease: 0.0</br>ever_married: Yes</br>work_type: Private</br>Residence_type: Rural</br>avg_glucose_level: 91.85</br>smoking_status: formerly smoked</br>_original_yhat_: 0.12539441442207006</br>"
          ],
          [
           "</br>id: 3256</br>prediction: 0.099</br>bmi: 54.982</br></br>gender: Female</br>age: 71.0</br>hypertension: 0.0</br>heart_disease: 0.0</br>ever_married: Yes</br>work_type: Private</br>Residence_type: Rural</br>avg_glucose_level: 91.85</br>smoking_status: formerly smoked</br>_original_yhat_: 0.12539441442207006</br>"
          ],
          [
           "</br>id: 3256</br>prediction: 0.098</br>bmi: 55.659000000000006</br></br>gender: Female</br>age: 71.0</br>hypertension: 0.0</br>heart_disease: 0.0</br>ever_married: Yes</br>work_type: Private</br>Residence_type: Rural</br>avg_glucose_level: 91.85</br>smoking_status: formerly smoked</br>_original_yhat_: 0.12539441442207006</br>"
          ],
          [
           "</br>id: 3256</br>prediction: 0.098</br>bmi: 56.336</br></br>gender: Female</br>age: 71.0</br>hypertension: 0.0</br>heart_disease: 0.0</br>ever_married: Yes</br>work_type: Private</br>Residence_type: Rural</br>avg_glucose_level: 91.85</br>smoking_status: formerly smoked</br>_original_yhat_: 0.12539441442207006</br>"
          ],
          [
           "</br>id: 3256</br>prediction: 0.097</br>bmi: 57.013000000000005</br></br>gender: Female</br>age: 71.0</br>hypertension: 0.0</br>heart_disease: 0.0</br>ever_married: Yes</br>work_type: Private</br>Residence_type: Rural</br>avg_glucose_level: 91.85</br>smoking_status: formerly smoked</br>_original_yhat_: 0.12539441442207006</br>"
          ],
          [
           "</br>id: 3256</br>prediction: 0.096</br>bmi: 57.69</br></br>gender: Female</br>age: 71.0</br>hypertension: 0.0</br>heart_disease: 0.0</br>ever_married: Yes</br>work_type: Private</br>Residence_type: Rural</br>avg_glucose_level: 91.85</br>smoking_status: formerly smoked</br>_original_yhat_: 0.12539441442207006</br>"
          ],
          [
           "</br>id: 3256</br>prediction: 0.096</br>bmi: 58.367000000000004</br></br>gender: Female</br>age: 71.0</br>hypertension: 0.0</br>heart_disease: 0.0</br>ever_married: Yes</br>work_type: Private</br>Residence_type: Rural</br>avg_glucose_level: 91.85</br>smoking_status: formerly smoked</br>_original_yhat_: 0.12539441442207006</br>"
          ],
          [
           "</br>id: 3256</br>prediction: 0.095</br>bmi: 59.044</br></br>gender: Female</br>age: 71.0</br>hypertension: 0.0</br>heart_disease: 0.0</br>ever_married: Yes</br>work_type: Private</br>Residence_type: Rural</br>avg_glucose_level: 91.85</br>smoking_status: formerly smoked</br>_original_yhat_: 0.12539441442207006</br>"
          ],
          [
           "</br>id: 3256</br>prediction: 0.095</br>bmi: 59.721000000000004</br></br>gender: Female</br>age: 71.0</br>hypertension: 0.0</br>heart_disease: 0.0</br>ever_married: Yes</br>work_type: Private</br>Residence_type: Rural</br>avg_glucose_level: 91.85</br>smoking_status: formerly smoked</br>_original_yhat_: 0.12539441442207006</br>"
          ],
          [
           "</br>id: 3256</br>prediction: 0.094</br>bmi: 60.39800000000001</br></br>gender: Female</br>age: 71.0</br>hypertension: 0.0</br>heart_disease: 0.0</br>ever_married: Yes</br>work_type: Private</br>Residence_type: Rural</br>avg_glucose_level: 91.85</br>smoking_status: formerly smoked</br>_original_yhat_: 0.12539441442207006</br>"
          ],
          [
           "</br>id: 3256</br>prediction: 0.094</br>bmi: 61.075</br></br>gender: Female</br>age: 71.0</br>hypertension: 0.0</br>heart_disease: 0.0</br>ever_married: Yes</br>work_type: Private</br>Residence_type: Rural</br>avg_glucose_level: 91.85</br>smoking_status: formerly smoked</br>_original_yhat_: 0.12539441442207006</br>"
          ],
          [
           "</br>id: 3256</br>prediction: 0.093</br>bmi: 61.75200000000001</br></br>gender: Female</br>age: 71.0</br>hypertension: 0.0</br>heart_disease: 0.0</br>ever_married: Yes</br>work_type: Private</br>Residence_type: Rural</br>avg_glucose_level: 91.85</br>smoking_status: formerly smoked</br>_original_yhat_: 0.12539441442207006</br>"
          ],
          [
           "</br>id: 3256</br>prediction: 0.092</br>bmi: 62.429</br></br>gender: Female</br>age: 71.0</br>hypertension: 0.0</br>heart_disease: 0.0</br>ever_married: Yes</br>work_type: Private</br>Residence_type: Rural</br>avg_glucose_level: 91.85</br>smoking_status: formerly smoked</br>_original_yhat_: 0.12539441442207006</br>"
          ],
          [
           "</br>id: 3256</br>prediction: 0.092</br>bmi: 63.10600000000001</br></br>gender: Female</br>age: 71.0</br>hypertension: 0.0</br>heart_disease: 0.0</br>ever_married: Yes</br>work_type: Private</br>Residence_type: Rural</br>avg_glucose_level: 91.85</br>smoking_status: formerly smoked</br>_original_yhat_: 0.12539441442207006</br>"
          ],
          [
           "</br>id: 3256</br>prediction: 0.091</br>bmi: 63.783</br></br>gender: Female</br>age: 71.0</br>hypertension: 0.0</br>heart_disease: 0.0</br>ever_married: Yes</br>work_type: Private</br>Residence_type: Rural</br>avg_glucose_level: 91.85</br>smoking_status: formerly smoked</br>_original_yhat_: 0.12539441442207006</br>"
          ],
          [
           "</br>id: 3256</br>prediction: 0.091</br>bmi: 64.46000000000001</br></br>gender: Female</br>age: 71.0</br>hypertension: 0.0</br>heart_disease: 0.0</br>ever_married: Yes</br>work_type: Private</br>Residence_type: Rural</br>avg_glucose_level: 91.85</br>smoking_status: formerly smoked</br>_original_yhat_: 0.12539441442207006</br>"
          ],
          [
           "</br>id: 3256</br>prediction: 0.09</br>bmi: 65.137</br></br>gender: Female</br>age: 71.0</br>hypertension: 0.0</br>heart_disease: 0.0</br>ever_married: Yes</br>work_type: Private</br>Residence_type: Rural</br>avg_glucose_level: 91.85</br>smoking_status: formerly smoked</br>_original_yhat_: 0.12539441442207006</br>"
          ],
          [
           "</br>id: 3256</br>prediction: 0.09</br>bmi: 65.81400000000001</br></br>gender: Female</br>age: 71.0</br>hypertension: 0.0</br>heart_disease: 0.0</br>ever_married: Yes</br>work_type: Private</br>Residence_type: Rural</br>avg_glucose_level: 91.85</br>smoking_status: formerly smoked</br>_original_yhat_: 0.12539441442207006</br>"
          ],
          [
           "</br>id: 3256</br>prediction: 0.089</br>bmi: 66.491</br></br>gender: Female</br>age: 71.0</br>hypertension: 0.0</br>heart_disease: 0.0</br>ever_married: Yes</br>work_type: Private</br>Residence_type: Rural</br>avg_glucose_level: 91.85</br>smoking_status: formerly smoked</br>_original_yhat_: 0.12539441442207006</br>"
          ],
          [
           "</br>id: 3256</br>prediction: 0.089</br>bmi: 67.168</br></br>gender: Female</br>age: 71.0</br>hypertension: 0.0</br>heart_disease: 0.0</br>ever_married: Yes</br>work_type: Private</br>Residence_type: Rural</br>avg_glucose_level: 91.85</br>smoking_status: formerly smoked</br>_original_yhat_: 0.12539441442207006</br>"
          ],
          [
           "</br>id: 3256</br>prediction: 0.088</br>bmi: 67.845</br></br>gender: Female</br>age: 71.0</br>hypertension: 0.0</br>heart_disease: 0.0</br>ever_married: Yes</br>work_type: Private</br>Residence_type: Rural</br>avg_glucose_level: 91.85</br>smoking_status: formerly smoked</br>_original_yhat_: 0.12539441442207006</br>"
          ],
          [
           "</br>id: 3256</br>prediction: 0.088</br>bmi: 68.522</br></br>gender: Female</br>age: 71.0</br>hypertension: 0.0</br>heart_disease: 0.0</br>ever_married: Yes</br>work_type: Private</br>Residence_type: Rural</br>avg_glucose_level: 91.85</br>smoking_status: formerly smoked</br>_original_yhat_: 0.12539441442207006</br>"
          ],
          [
           "</br>id: 3256</br>prediction: 0.087</br>bmi: 69.199</br></br>gender: Female</br>age: 71.0</br>hypertension: 0.0</br>heart_disease: 0.0</br>ever_married: Yes</br>work_type: Private</br>Residence_type: Rural</br>avg_glucose_level: 91.85</br>smoking_status: formerly smoked</br>_original_yhat_: 0.12539441442207006</br>"
          ],
          [
           "</br>id: 3256</br>prediction: 0.087</br>bmi: 69.876</br></br>gender: Female</br>age: 71.0</br>hypertension: 0.0</br>heart_disease: 0.0</br>ever_married: Yes</br>work_type: Private</br>Residence_type: Rural</br>avg_glucose_level: 91.85</br>smoking_status: formerly smoked</br>_original_yhat_: 0.12539441442207006</br>"
          ],
          [
           "</br>id: 3256</br>prediction: 0.086</br>bmi: 70.55300000000001</br></br>gender: Female</br>age: 71.0</br>hypertension: 0.0</br>heart_disease: 0.0</br>ever_married: Yes</br>work_type: Private</br>Residence_type: Rural</br>avg_glucose_level: 91.85</br>smoking_status: formerly smoked</br>_original_yhat_: 0.12539441442207006</br>"
          ],
          [
           "</br>id: 3256</br>prediction: 0.085</br>bmi: 71.23</br></br>gender: Female</br>age: 71.0</br>hypertension: 0.0</br>heart_disease: 0.0</br>ever_married: Yes</br>work_type: Private</br>Residence_type: Rural</br>avg_glucose_level: 91.85</br>smoking_status: formerly smoked</br>_original_yhat_: 0.12539441442207006</br>"
          ],
          [
           "</br>id: 3256</br>prediction: 0.085</br>bmi: 71.90700000000001</br></br>gender: Female</br>age: 71.0</br>hypertension: 0.0</br>heart_disease: 0.0</br>ever_married: Yes</br>work_type: Private</br>Residence_type: Rural</br>avg_glucose_level: 91.85</br>smoking_status: formerly smoked</br>_original_yhat_: 0.12539441442207006</br>"
          ],
          [
           "</br>id: 3256</br>prediction: 0.084</br>bmi: 72.584</br></br>gender: Female</br>age: 71.0</br>hypertension: 0.0</br>heart_disease: 0.0</br>ever_married: Yes</br>work_type: Private</br>Residence_type: Rural</br>avg_glucose_level: 91.85</br>smoking_status: formerly smoked</br>_original_yhat_: 0.12539441442207006</br>"
          ],
          [
           "</br>id: 3256</br>prediction: 0.084</br>bmi: 73.26100000000001</br></br>gender: Female</br>age: 71.0</br>hypertension: 0.0</br>heart_disease: 0.0</br>ever_married: Yes</br>work_type: Private</br>Residence_type: Rural</br>avg_glucose_level: 91.85</br>smoking_status: formerly smoked</br>_original_yhat_: 0.12539441442207006</br>"
          ],
          [
           "</br>id: 3256</br>prediction: 0.083</br>bmi: 73.938</br></br>gender: Female</br>age: 71.0</br>hypertension: 0.0</br>heart_disease: 0.0</br>ever_married: Yes</br>work_type: Private</br>Residence_type: Rural</br>avg_glucose_level: 91.85</br>smoking_status: formerly smoked</br>_original_yhat_: 0.12539441442207006</br>"
          ],
          [
           "</br>id: 3256</br>prediction: 0.083</br>bmi: 74.615</br></br>gender: Female</br>age: 71.0</br>hypertension: 0.0</br>heart_disease: 0.0</br>ever_married: Yes</br>work_type: Private</br>Residence_type: Rural</br>avg_glucose_level: 91.85</br>smoking_status: formerly smoked</br>_original_yhat_: 0.12539441442207006</br>"
          ],
          [
           "</br>id: 3256</br>prediction: 0.082</br>bmi: 75.292</br></br>gender: Female</br>age: 71.0</br>hypertension: 0.0</br>heart_disease: 0.0</br>ever_married: Yes</br>work_type: Private</br>Residence_type: Rural</br>avg_glucose_level: 91.85</br>smoking_status: formerly smoked</br>_original_yhat_: 0.12539441442207006</br>"
          ],
          [
           "</br>id: 3256</br>prediction: 0.082</br>bmi: 75.96900000000001</br></br>gender: Female</br>age: 71.0</br>hypertension: 0.0</br>heart_disease: 0.0</br>ever_married: Yes</br>work_type: Private</br>Residence_type: Rural</br>avg_glucose_level: 91.85</br>smoking_status: formerly smoked</br>_original_yhat_: 0.12539441442207006</br>"
          ],
          [
           "</br>id: 3256</br>prediction: 0.081</br>bmi: 76.646</br></br>gender: Female</br>age: 71.0</br>hypertension: 0.0</br>heart_disease: 0.0</br>ever_married: Yes</br>work_type: Private</br>Residence_type: Rural</br>avg_glucose_level: 91.85</br>smoking_status: formerly smoked</br>_original_yhat_: 0.12539441442207006</br>"
          ],
          [
           "</br>id: 3256</br>prediction: 0.081</br>bmi: 77.32300000000001</br></br>gender: Female</br>age: 71.0</br>hypertension: 0.0</br>heart_disease: 0.0</br>ever_married: Yes</br>work_type: Private</br>Residence_type: Rural</br>avg_glucose_level: 91.85</br>smoking_status: formerly smoked</br>_original_yhat_: 0.12539441442207006</br>"
          ],
          [
           "</br>id: 3256</br>prediction: 0.08</br>bmi: 78.0</br></br>gender: Female</br>age: 71.0</br>hypertension: 0.0</br>heart_disease: 0.0</br>ever_married: Yes</br>work_type: Private</br>Residence_type: Rural</br>avg_glucose_level: 91.85</br>smoking_status: formerly smoked</br>_original_yhat_: 0.12539441442207006</br>"
          ]
         ],
         "hovertemplate": "%{customdata[0]}<extra></extra>",
         "legendgroup": "Logistic Regression",
         "line": {
          "color": "#46bac2",
          "dash": "solid",
          "width": 2
         },
         "marker": {
          "symbol": "circle"
         },
         "mode": "lines",
         "name": "Logistic Regression",
         "opacity": 1,
         "orientation": "v",
         "showlegend": false,
         "type": "scatter",
         "x": [
          10.3,
          10.977,
          11.654,
          12.331000000000001,
          13.008000000000001,
          13.685,
          14.362000000000002,
          15.039000000000001,
          15.716000000000001,
          16.393,
          17.07,
          17.747,
          18.424,
          19.101,
          19.778000000000002,
          20.455000000000002,
          21.132,
          21.809,
          22.486,
          23.163000000000004,
          23.840000000000003,
          24.517000000000003,
          25.194000000000003,
          25.871000000000002,
          26.548000000000002,
          27.225,
          27.6,
          27.902,
          28.579,
          29.256000000000004,
          29.933000000000003,
          30.610000000000003,
          31.287000000000003,
          31.964000000000002,
          32.641000000000005,
          33.318,
          33.995000000000005,
          34.672,
          35.349000000000004,
          36.026,
          36.703,
          37.38,
          38.057,
          38.734,
          39.411,
          40.08800000000001,
          40.765,
          41.44200000000001,
          42.119,
          42.79600000000001,
          43.473,
          44.150000000000006,
          44.827,
          45.504000000000005,
          46.181,
          46.858000000000004,
          47.535,
          48.212,
          48.88900000000001,
          49.566,
          50.24300000000001,
          50.92,
          51.59700000000001,
          52.274,
          52.95100000000001,
          53.628,
          54.30500000000001,
          54.982,
          55.659000000000006,
          56.336,
          57.013000000000005,
          57.69,
          58.367000000000004,
          59.044,
          59.721000000000004,
          60.39800000000001,
          61.075,
          61.75200000000001,
          62.429,
          63.10600000000001,
          63.783,
          64.46000000000001,
          65.137,
          65.81400000000001,
          66.491,
          67.168,
          67.845,
          68.522,
          69.199,
          69.876,
          70.55300000000001,
          71.23,
          71.90700000000001,
          72.584,
          73.26100000000001,
          73.938,
          74.615,
          75.292,
          75.96900000000001,
          76.646,
          77.32300000000001,
          78
         ],
         "xaxis": "x",
         "y": [
          0.1451995135039465,
          0.14437793986041114,
          0.1435602341539699,
          0.14274638700557463,
          0.14193638895542082,
          0.14113023046432657,
          0.14032790191510436,
          0.13952939361392575,
          0.13873469579167913,
          0.13794379860531952,
          0.13715669213921125,
          0.13637336640646264,
          0.13559381135025375,
          0.13481801684515557,
          0.13404597269844196,
          0.13327766865139312,
          0.13251309438059183,
          0.13175223949921067,
          0.13099509355829203,
          0.13024164604801902,
          0.1294918863989789,
          0.12874580398341773,
          0.1280033881164863,
          0.12726462805747846,
          0.12652951301106014,
          0.12579803212849008,
          0.12539441442207006,
          0.125070174508832,
          0.1243459292001578,
          0.12362528520074231,
          0.12290823146024929,
          0.12219475688090813,
          0.12148485031868228,
          0.12077850058442834,
          0.12007569644504654,
          0.11937642662462174,
          0.11868067980555612,
          0.11798844462969227,
          0.11729970969942721,
          0.11661446357881776,
          0.11593269479467641,
          0.11525439183765797,
          0.11457954316333743,
          0.11390813719327841,
          0.1132401623160922,
          0.11257560688848803,
          0.11191445923631388,
          0.11125670765558769,
          0.11060234041352016,
          0.1099513457495274,
          0.10930371187623499,
          0.10865942698047228,
          0.10801847922425771,
          0.10738085674577483,
          0.10674654766033889,
          0.10611554006135411,
          0.10548782202126225,
          0.10486338159248094,
          0.10424220680833375,
          0.10362428568397032,
          0.10300960621727752,
          0.1023981563897814,
          0.10178992416753982,
          0.10118489750202594,
          0.10058306433100248,
          0.09998441257938694,
          0.09938893016010737,
          0.09879660497494948,
          0.09820742491539407,
          0.09762137786344585,
          0.09703845169245286,
          0.09645863426791704,
          0.09588191344829569,
          0.09530827708579384,
          0.09473771302714803,
          0.09417020911440063,
          0.09360575318566558,
          0.09304433307588518,
          0.092485936617578,
          0.09193055164157785,
          0.09137816597776441,
          0.09082876745578436,
          0.09028234390576464,
          0.08973888315901635,
          0.08919837304873028,
          0.08866080141066392,
          0.08812615608381971,
          0.08759442491111476,
          0.08706559574004236,
          0.0865396564233246,
          0.086016594819557,
          0.08549639879384445,
          0.08497905621842898,
          0.0844645549733092,
          0.08395288294685155,
          0.0834440280363933,
          0.08293797814883731,
          0.0824347212012389,
          0.08193424512138452,
          0.08143653784836233,
          0.08094158733312506,
          0.08044938153904461
         ],
         "yaxis": "y"
        },
        {
         "customdata": [
          [
           "</br>id: 3256</br>prediction: 0.125</br>age: 71.0</br></br>gender: Female</br>hypertension: 0.0</br>heart_disease: 0.0</br>ever_married: Yes</br>work_type: Private</br>Residence_type: Rural</br>avg_glucose_level: 91.85</br>bmi: 27.6</br>smoking_status: formerly smoked</br>_original_yhat_: 0.12539441442207006</br>"
          ]
         ],
         "hovertemplate": "%{customdata[0]}<extra></extra>",
         "legendgroup": "",
         "marker": {
          "color": "#371ea3",
          "size": 10,
          "symbol": "circle"
         },
         "mode": "markers",
         "name": "",
         "opacity": 1,
         "orientation": "v",
         "showlegend": false,
         "type": "scatter",
         "x": [
          71
         ],
         "xaxis": "x3",
         "y": [
          0.12539441442207006
         ],
         "yaxis": "y3"
        },
        {
         "customdata": [
          [
           "</br>id: 3256</br>prediction: 0.125</br>avg_glucose_level: 91.85</br></br>gender: Female</br>age: 71.0</br>hypertension: 0.0</br>heart_disease: 0.0</br>ever_married: Yes</br>work_type: Private</br>Residence_type: Rural</br>bmi: 27.6</br>smoking_status: formerly smoked</br>_original_yhat_: 0.12539441442207006</br>"
          ]
         ],
         "hovertemplate": "%{customdata[0]}<extra></extra>",
         "legendgroup": "",
         "marker": {
          "color": "#371ea3",
          "size": 10,
          "symbol": "circle"
         },
         "mode": "markers",
         "name": "",
         "opacity": 1,
         "orientation": "v",
         "showlegend": false,
         "type": "scatter",
         "x": [
          91.85
         ],
         "xaxis": "x4",
         "y": [
          0.12539441442207006
         ],
         "yaxis": "y4"
        },
        {
         "customdata": [
          [
           "</br>id: 3256</br>prediction: 0.125</br>bmi: 27.6</br></br>gender: Female</br>age: 71.0</br>hypertension: 0.0</br>heart_disease: 0.0</br>ever_married: Yes</br>work_type: Private</br>Residence_type: Rural</br>avg_glucose_level: 91.85</br>smoking_status: formerly smoked</br>_original_yhat_: 0.12539441442207006</br>"
          ]
         ],
         "hovertemplate": "%{customdata[0]}<extra></extra>",
         "legendgroup": "",
         "marker": {
          "color": "#371ea3",
          "size": 10,
          "symbol": "circle"
         },
         "mode": "markers",
         "name": "",
         "opacity": 1,
         "orientation": "v",
         "showlegend": false,
         "type": "scatter",
         "x": [
          27.6
         ],
         "xaxis": "x",
         "y": [
          0.12539441442207006
         ],
         "yaxis": "y"
        }
       ],
       "layout": {
        "annotations": [
         {
          "font": {
           "size": 13
          },
          "showarrow": false,
          "text": "bmi",
          "x": 0.2375,
          "xanchor": "center",
          "xref": "paper",
          "y": 0.425,
          "yanchor": "bottom",
          "yref": "paper"
         },
         {
          "font": {
           "size": 13
          },
          "showarrow": false,
          "text": "age",
          "x": 0.2375,
          "xanchor": "center",
          "xref": "paper",
          "y": 1,
          "yanchor": "bottom",
          "yref": "paper"
         },
         {
          "font": {
           "size": 13
          },
          "showarrow": false,
          "text": "avg_glucose_level",
          "x": 0.7625,
          "xanchor": "center",
          "xref": "paper",
          "y": 1,
          "yanchor": "bottom",
          "yref": "paper"
         },
         {
          "font": {
           "size": 13
          },
          "showarrow": false,
          "text": "prediction",
          "textangle": -90,
          "x": -0.07,
          "xref": "paper",
          "y": 0.5,
          "yref": "paper"
         }
        ],
        "font": {
         "color": "#371ea3"
        },
        "height": 829,
        "hoverlabel": {
         "bgcolor": "rgba(0,0,0,0.8)"
        },
        "hovermode": "closest",
        "legend": {
         "font": {
          "size": 11
         },
         "itemsizing": "constant",
         "orientation": "h",
         "title": {
          "font": {
           "size": 12
          },
          "text": "label"
         },
         "tracegroupgap": 0,
         "x": 1,
         "xanchor": "right",
         "y": 1.0361881785283473,
         "yanchor": "bottom"
        },
        "margin": {
         "b": 71,
         "r": 30,
         "t": 78
        },
        "template": {
         "data": {
          "scatter": [
           {
            "type": "scatter"
           }
          ]
         }
        },
        "title": {
         "font": {
          "size": 16
         },
         "text": "Ceteris Paribus Profiles",
         "x": 0.15
        },
        "xaxis": {
         "anchor": "y",
         "automargin": true,
         "domain": [
          0,
          0.475
         ],
         "fixedrange": true,
         "gridwidth": 2,
         "showticklabels": true,
         "tickcolor": "white",
         "ticklen": 3,
         "ticks": "outside",
         "title": {
          "text": ""
         },
         "type": "linear",
         "zeroline": false
        },
        "xaxis2": {
         "anchor": "y2",
         "automargin": true,
         "domain": [
          0.525,
          1
         ],
         "fixedrange": true,
         "gridwidth": 2,
         "showticklabels": true,
         "tickcolor": "white",
         "ticklen": 3,
         "ticks": "outside",
         "title": {
          "text": ""
         },
         "type": "linear",
         "zeroline": false
        },
        "xaxis3": {
         "anchor": "y3",
         "automargin": true,
         "domain": [
          0,
          0.475
         ],
         "fixedrange": true,
         "gridwidth": 2,
         "showticklabels": true,
         "tickcolor": "white",
         "ticklen": 3,
         "ticks": "outside",
         "title": {
          "text": ""
         },
         "type": "linear",
         "zeroline": false
        },
        "xaxis4": {
         "anchor": "y4",
         "automargin": true,
         "domain": [
          0.525,
          1
         ],
         "fixedrange": true,
         "gridwidth": 2,
         "showticklabels": true,
         "tickcolor": "white",
         "ticklen": 3,
         "ticks": "outside",
         "title": {
          "text": ""
         },
         "type": "linear",
         "zeroline": false
        },
        "yaxis": {
         "anchor": "x",
         "automargin": true,
         "domain": [
          0,
          0.425
         ],
         "fixedrange": true,
         "gridwidth": 2,
         "range": [
          -0.046919313091455334,
          0.5552342239735943
         ],
         "tickcolor": "white",
         "ticklen": 3,
         "ticks": "outside",
         "title": {
          "text": ""
         },
         "type": "linear",
         "zeroline": false
        },
        "yaxis2": {
         "anchor": "x2",
         "automargin": true,
         "domain": [
          0,
          0.425
         ],
         "fixedrange": true,
         "gridwidth": 2,
         "matches": "y",
         "range": [
          -0.046919313091455334,
          0.5552342239735943
         ],
         "showticklabels": false,
         "tickcolor": "white",
         "ticklen": 3,
         "ticks": "outside",
         "title": {
          "text": ""
         },
         "type": "linear",
         "zeroline": false
        },
        "yaxis3": {
         "anchor": "x3",
         "automargin": true,
         "domain": [
          0.575,
          1
         ],
         "fixedrange": true,
         "gridwidth": 2,
         "matches": "y",
         "range": [
          -0.046919313091455334,
          0.5552342239735943
         ],
         "tickcolor": "white",
         "ticklen": 3,
         "ticks": "outside",
         "title": {
          "text": ""
         },
         "type": "linear",
         "zeroline": false
        },
        "yaxis4": {
         "anchor": "x4",
         "automargin": true,
         "domain": [
          0.575,
          1
         ],
         "fixedrange": true,
         "gridwidth": 2,
         "matches": "y",
         "range": [
          -0.046919313091455334,
          0.5552342239735943
         ],
         "showticklabels": false,
         "tickcolor": "white",
         "ticklen": 3,
         "ticks": "outside",
         "title": {
          "text": ""
         },
         "type": "linear",
         "zeroline": false
        }
       }
      }
     },
     "metadata": {},
     "output_type": "display_data"
    },
    {
     "data": {
      "application/vnd.plotly.v1+json": {
       "config": {
        "displaylogo": false,
        "modeBarButtonsToRemove": [
         "sendDataToCloud",
         "lasso2d",
         "autoScale2d",
         "select2d",
         "zoom2d",
         "pan2d",
         "zoomIn2d",
         "zoomOut2d",
         "resetScale2d",
         "toggleSpikelines",
         "hoverCompareCartesian",
         "hoverClosestCartesian"
        ],
        "plotlyServerURL": "https://plot.ly",
        "staticPlot": false,
        "toImageButtonOptions": {
         "height": null,
         "width": null
        }
       },
       "data": [
        {
         "alignmentgroup": "True",
         "base": [
          0.12539441442207006,
          0.12539441442207006
         ],
         "customdata": [
          [
           "</br>id: 3256</br>prediction: 0.125</br>Residence_type: Rural</br></br>gender: Female</br>age: 71.0</br>hypertension: 0.0</br>heart_disease: 0.0</br>ever_married: Yes</br>work_type: Private</br>avg_glucose_level: 91.85</br>bmi: 27.6</br>smoking_status: formerly smoked</br>_original_yhat_: 0.12539441442207006</br>"
          ],
          [
           "</br>id: 3256</br>prediction: 0.148</br>Residence_type: Urban</br></br>gender: Female</br>age: 71.0</br>hypertension: 0.0</br>heart_disease: 0.0</br>ever_married: Yes</br>work_type: Private</br>avg_glucose_level: 91.85</br>bmi: 27.6</br>smoking_status: formerly smoked</br>_original_yhat_: 0.12539441442207006</br>"
          ]
         ],
         "hovertemplate": "%{customdata[0]}<extra></extra>",
         "legendgroup": "Logistic Regression",
         "marker": {
          "color": "#46bac2",
          "pattern": {
           "shape": ""
          }
         },
         "name": "Logistic Regression",
         "offsetgroup": "Logistic Regression",
         "opacity": 1,
         "orientation": "h",
         "showlegend": true,
         "textposition": "auto",
         "type": "bar",
         "x": [
          0,
          0.022421942712917697
         ],
         "xaxis": "x",
         "y": [
          "Rural",
          "Urban"
         ],
         "yaxis": "y"
        },
        {
         "alignmentgroup": "True",
         "base": [
          0.12539441442207006,
          0.12539441442207006,
          0.12539441442207006,
          0.12539441442207006,
          0.12539441442207006
         ],
         "customdata": [
          [
           "</br>id: 3256</br>prediction: 0.125</br>work_type: Private</br></br>gender: Female</br>age: 71.0</br>hypertension: 0.0</br>heart_disease: 0.0</br>ever_married: Yes</br>Residence_type: Rural</br>avg_glucose_level: 91.85</br>bmi: 27.6</br>smoking_status: formerly smoked</br>_original_yhat_: 0.12539441442207006</br>"
          ],
          [
           "</br>id: 3256</br>prediction: 0.183</br>work_type: children</br></br>gender: Female</br>age: 71.0</br>hypertension: 0.0</br>heart_disease: 0.0</br>ever_married: Yes</br>Residence_type: Rural</br>avg_glucose_level: 91.85</br>bmi: 27.6</br>smoking_status: formerly smoked</br>_original_yhat_: 0.12539441442207006</br>"
          ],
          [
           "</br>id: 3256</br>prediction: 0.055</br>work_type: Self-employed</br></br>gender: Female</br>age: 71.0</br>hypertension: 0.0</br>heart_disease: 0.0</br>ever_married: Yes</br>Residence_type: Rural</br>avg_glucose_level: 91.85</br>bmi: 27.6</br>smoking_status: formerly smoked</br>_original_yhat_: 0.12539441442207006</br>"
          ],
          [
           "</br>id: 3256</br>prediction: 0.075</br>work_type: Govt_job</br></br>gender: Female</br>age: 71.0</br>hypertension: 0.0</br>heart_disease: 0.0</br>ever_married: Yes</br>Residence_type: Rural</br>avg_glucose_level: 91.85</br>bmi: 27.6</br>smoking_status: formerly smoked</br>_original_yhat_: 0.12539441442207006</br>"
          ],
          [
           "</br>id: 3256</br>prediction: 0.099</br>work_type: Never_worked</br></br>gender: Female</br>age: 71.0</br>hypertension: 0.0</br>heart_disease: 0.0</br>ever_married: Yes</br>Residence_type: Rural</br>avg_glucose_level: 91.85</br>bmi: 27.6</br>smoking_status: formerly smoked</br>_original_yhat_: 0.12539441442207006</br>"
          ]
         ],
         "hovertemplate": "%{customdata[0]}<extra></extra>",
         "legendgroup": "Logistic Regression",
         "marker": {
          "color": "#46bac2",
          "pattern": {
           "shape": ""
          }
         },
         "name": "Logistic Regression",
         "offsetgroup": "Logistic Regression",
         "opacity": 1,
         "orientation": "h",
         "showlegend": false,
         "textposition": "auto",
         "type": "bar",
         "x": [
          0,
          0.05716700784152101,
          -0.07068776519252107,
          -0.04997023817917959,
          -0.026838663790302947
         ],
         "xaxis": "x2",
         "y": [
          "Private",
          "children",
          "Self-employed",
          "Govt_job",
          "Never_worked"
         ],
         "yaxis": "y2"
        },
        {
         "customdata": [
          [
           "</br>id: 3256</br>prediction: 0.125</br>Residence_type: Rural</br></br>gender: Female</br>age: 71.0</br>hypertension: 0.0</br>heart_disease: 0.0</br>ever_married: Yes</br>work_type: Private</br>avg_glucose_level: 91.85</br>bmi: 27.6</br>smoking_status: formerly smoked</br>_original_yhat_: 0.12539441442207006</br>"
          ]
         ],
         "hovertemplate": "%{customdata[0]}<extra></extra>",
         "legendgroup": "",
         "marker": {
          "color": "#371ea3",
          "size": 10,
          "symbol": "circle"
         },
         "mode": "markers",
         "name": "",
         "opacity": 1,
         "orientation": "h",
         "showlegend": false,
         "type": "scatter",
         "x": [
          0.12539441442207006
         ],
         "xaxis": "x",
         "y": [
          "Rural"
         ],
         "yaxis": "y"
        },
        {
         "customdata": [
          [
           "</br>id: 3256</br>prediction: 0.125</br>work_type: Private</br></br>gender: Female</br>age: 71.0</br>hypertension: 0.0</br>heart_disease: 0.0</br>ever_married: Yes</br>Residence_type: Rural</br>avg_glucose_level: 91.85</br>bmi: 27.6</br>smoking_status: formerly smoked</br>_original_yhat_: 0.12539441442207006</br>"
          ]
         ],
         "hovertemplate": "%{customdata[0]}<extra></extra>",
         "legendgroup": "",
         "marker": {
          "color": "#371ea3",
          "size": 10,
          "symbol": "circle"
         },
         "mode": "markers",
         "name": "",
         "opacity": 1,
         "orientation": "h",
         "showlegend": false,
         "type": "scatter",
         "x": [
          0.12539441442207006
         ],
         "xaxis": "x2",
         "y": [
          "Private"
         ],
         "yaxis": "y2"
        }
       ],
       "layout": {
        "annotations": [
         {
          "font": {
           "size": 13
          },
          "showarrow": false,
          "text": "Residence_type",
          "x": 0.225,
          "xanchor": "center",
          "xref": "paper",
          "y": 1,
          "yanchor": "bottom",
          "yref": "paper"
         },
         {
          "font": {
           "size": 13
          },
          "showarrow": false,
          "text": "work_type",
          "x": 0.775,
          "xanchor": "center",
          "xref": "paper",
          "y": 1,
          "yanchor": "bottom",
          "yref": "paper"
         },
         {
          "font": {
           "size": 13
          },
          "showarrow": false,
          "text": "prediction",
          "textangle": 0,
          "x": 0.5,
          "xref": "paper",
          "y": -0.12269938650306748,
          "yref": "paper"
         }
        ],
        "barmode": "group",
        "font": {
         "color": "#371ea3"
        },
        "height": 489,
        "hoverlabel": {
         "bgcolor": "rgba(0,0,0,0.8)"
        },
        "hovermode": "closest",
        "legend": {
         "font": {
          "size": 11
         },
         "itemsizing": "constant",
         "orientation": "h",
         "title": {
          "font": {
           "size": 12
          },
          "text": "label"
         },
         "tracegroupgap": 0,
         "x": 1,
         "xanchor": "right",
         "y": 1.0613496932515338,
         "yanchor": "bottom"
        },
        "margin": {
         "b": 71,
         "r": 30,
         "t": 78
        },
        "shapes": [
         {
          "layer": "below",
          "line": {
           "color": "#371ea3",
           "dash": "dot",
           "width": 1.5
          },
          "type": "line",
          "x0": 0.12539441442207006,
          "x1": 0.12539441442207006,
          "xref": "x",
          "y0": 0,
          "y1": 1,
          "yref": "y domain"
         },
         {
          "layer": "below",
          "line": {
           "color": "#371ea3",
           "dash": "dot",
           "width": 1.5
          },
          "type": "line",
          "x0": 0.12539441442207006,
          "x1": 0.12539441442207006,
          "xref": "x2",
          "y0": 0,
          "y1": 1,
          "yref": "y2 domain"
         },
         {
          "layer": "below",
          "line": {
           "color": "#371ea3",
           "dash": "dot",
           "width": 1.5
          },
          "type": "line",
          "x0": 0.12539441442207006,
          "x1": 0.12539441442207006,
          "xref": "x",
          "y0": 0,
          "y1": 1,
          "yref": "y domain"
         },
         {
          "layer": "below",
          "line": {
           "color": "#371ea3",
           "dash": "dot",
           "width": 1.5
          },
          "type": "line",
          "x0": 0.12539441442207006,
          "x1": 0.12539441442207006,
          "xref": "x2",
          "y0": 0,
          "y1": 1,
          "yref": "y2 domain"
         }
        ],
        "template": {
         "data": {
          "scatter": [
           {
            "type": "scatter"
           }
          ]
         }
        },
        "title": {
         "font": {
          "size": 16
         },
         "text": "Ceteris Paribus Profiles",
         "x": 0.15
        },
        "xaxis": {
         "anchor": "y",
         "automargin": true,
         "domain": [
          0,
          0.45
         ],
         "fixedrange": true,
         "gridwidth": 2,
         "range": [
          0.04192117192614478,
          0.19534689956699527
         ],
         "tickcolor": "white",
         "ticklen": 3,
         "ticks": "outside",
         "title": {
          "text": ""
         },
         "type": "linear",
         "zeroline": false
        },
        "xaxis2": {
         "anchor": "y2",
         "automargin": true,
         "domain": [
          0.55,
          1
         ],
         "fixedrange": true,
         "gridwidth": 2,
         "matches": "x",
         "range": [
          0.04192117192614478,
          0.19534689956699527
         ],
         "tickcolor": "white",
         "ticklen": 3,
         "ticks": "outside",
         "title": {
          "text": ""
         },
         "type": "linear",
         "zeroline": false
        },
        "yaxis": {
         "anchor": "x",
         "automargin": true,
         "domain": [
          0,
          1
         ],
         "fixedrange": true,
         "gridwidth": 2,
         "showticklabels": true,
         "tickcolor": "white",
         "ticklen": 10,
         "ticks": "outside",
         "title": {
          "text": ""
         },
         "type": "category"
        },
        "yaxis2": {
         "anchor": "x2",
         "automargin": true,
         "domain": [
          0,
          1
         ],
         "fixedrange": true,
         "gridwidth": 2,
         "showticklabels": true,
         "tickcolor": "white",
         "ticklen": 10,
         "ticks": "outside",
         "title": {
          "text": ""
         },
         "type": "category"
        }
       }
      }
     },
     "metadata": {},
     "output_type": "display_data"
    }
   ],
   "source": [
    "exp = dx.Explainer(model, X_train, y_train, label=\"Logistic Regression\")\n",
    "\n",
    "# Wybór obserwacji do analizy\n",
    "obs = X_train.iloc[10]\n",
    "\n",
    "# Przewidywanie i analiza profilu\n",
    "pcp = exp.predict_profile(obs)\n",
    "\n",
    "# Wyświetlanie wyników\n",
    "pcp.plot(variables=[\"age\", \"avg_glucose_level\", \"bmi\"])  # Przykładowe zmienne numeryczne\n",
    "\n",
    "# Analiza dla zmiennych kategorycznych\n",
    "pcp.plot(variables=[\"Residence_type\", \"work_type\"], variable_type=\"categorical\")"
   ]
  },
  {
   "cell_type": "code",
   "execution_count": 232,
   "metadata": {},
   "outputs": [
    {
     "name": "stdout",
     "output_type": "stream",
     "text": [
      "{'Female': 0, 'Male': 1}\n"
     ]
    }
   ],
   "source": [
    "gender_encoder = LabelEncoder().fit(df['gender'])\n",
    "print(dict(zip(gender_encoder.classes_, gender_encoder.transform(gender_encoder.classes_))))"
   ]
  },
  {
   "cell_type": "code",
   "execution_count": 233,
   "metadata": {},
   "outputs": [
    {
     "name": "stdout",
     "output_type": "stream",
     "text": [
      "{'Rural': 0, 'Urban': 1}\n"
     ]
    }
   ],
   "source": [
    "residence_encoder = LabelEncoder().fit(df['Residence_type'])\n",
    "print(dict(zip(residence_encoder.classes_, residence_encoder.transform(residence_encoder.classes_))))"
   ]
  },
  {
   "cell_type": "code",
   "execution_count": 234,
   "metadata": {},
   "outputs": [
    {
     "name": "stdout",
     "output_type": "stream",
     "text": [
      "{'Unknown': 0, 'formerly smoked': 1, 'never smoked': 2, 'smokes': 3}\n"
     ]
    }
   ],
   "source": [
    "smoke_encoder = LabelEncoder().fit(df['smoking_status'])\n",
    "print(dict(zip(smoke_encoder.classes_, smoke_encoder.transform(smoke_encoder.classes_))))"
   ]
  },
  {
   "cell_type": "markdown",
   "metadata": {},
   "source": [
    "Wykresy częściowej zależności (PDP)"
   ]
  },
  {
   "cell_type": "markdown",
   "metadata": {},
   "source": [
    "Zmienne ilościowe:"
   ]
  },
  {
   "cell_type": "code",
   "execution_count": 235,
   "metadata": {},
   "outputs": [
    {
     "name": "stderr",
     "output_type": "stream",
     "text": [
      "Calculating ceteris paribus: 100%|██████████| 1/1 [00:00<00:00, 20.00it/s]\n"
     ]
    },
    {
     "data": {
      "application/vnd.plotly.v1+json": {
       "config": {
        "displaylogo": false,
        "modeBarButtonsToRemove": [
         "sendDataToCloud",
         "lasso2d",
         "autoScale2d",
         "select2d",
         "zoom2d",
         "pan2d",
         "zoomIn2d",
         "zoomOut2d",
         "resetScale2d",
         "toggleSpikelines",
         "hoverCompareCartesian",
         "hoverClosestCartesian"
        ],
        "plotlyServerURL": "https://plot.ly",
        "staticPlot": false,
        "toImageButtonOptions": {
         "height": null,
         "width": null
        }
       },
       "data": [
        {
         "customdata": [
          [
           0.047177863921267375,
           "Logistic Regression",
           "age"
          ],
          [
           0.047177863921267375,
           "Logistic Regression",
           "age"
          ],
          [
           0.047177863921267375,
           "Logistic Regression",
           "age"
          ],
          [
           0.047177863921267375,
           "Logistic Regression",
           "age"
          ],
          [
           0.047177863921267375,
           "Logistic Regression",
           "age"
          ],
          [
           0.047177863921267375,
           "Logistic Regression",
           "age"
          ],
          [
           0.047177863921267375,
           "Logistic Regression",
           "age"
          ],
          [
           0.047177863921267375,
           "Logistic Regression",
           "age"
          ],
          [
           0.047177863921267375,
           "Logistic Regression",
           "age"
          ],
          [
           0.047177863921267375,
           "Logistic Regression",
           "age"
          ],
          [
           0.047177863921267375,
           "Logistic Regression",
           "age"
          ],
          [
           0.047177863921267375,
           "Logistic Regression",
           "age"
          ],
          [
           0.047177863921267375,
           "Logistic Regression",
           "age"
          ],
          [
           0.047177863921267375,
           "Logistic Regression",
           "age"
          ],
          [
           0.047177863921267375,
           "Logistic Regression",
           "age"
          ],
          [
           0.047177863921267375,
           "Logistic Regression",
           "age"
          ],
          [
           0.047177863921267375,
           "Logistic Regression",
           "age"
          ],
          [
           0.047177863921267375,
           "Logistic Regression",
           "age"
          ],
          [
           0.047177863921267375,
           "Logistic Regression",
           "age"
          ],
          [
           0.047177863921267375,
           "Logistic Regression",
           "age"
          ],
          [
           0.047177863921267375,
           "Logistic Regression",
           "age"
          ],
          [
           0.047177863921267375,
           "Logistic Regression",
           "age"
          ],
          [
           0.047177863921267375,
           "Logistic Regression",
           "age"
          ],
          [
           0.047177863921267375,
           "Logistic Regression",
           "age"
          ],
          [
           0.047177863921267375,
           "Logistic Regression",
           "age"
          ],
          [
           0.047177863921267375,
           "Logistic Regression",
           "age"
          ],
          [
           0.047177863921267375,
           "Logistic Regression",
           "age"
          ],
          [
           0.047177863921267375,
           "Logistic Regression",
           "age"
          ],
          [
           0.047177863921267375,
           "Logistic Regression",
           "age"
          ],
          [
           0.047177863921267375,
           "Logistic Regression",
           "age"
          ],
          [
           0.047177863921267375,
           "Logistic Regression",
           "age"
          ],
          [
           0.047177863921267375,
           "Logistic Regression",
           "age"
          ],
          [
           0.047177863921267375,
           "Logistic Regression",
           "age"
          ],
          [
           0.047177863921267375,
           "Logistic Regression",
           "age"
          ],
          [
           0.047177863921267375,
           "Logistic Regression",
           "age"
          ],
          [
           0.047177863921267375,
           "Logistic Regression",
           "age"
          ],
          [
           0.047177863921267375,
           "Logistic Regression",
           "age"
          ],
          [
           0.047177863921267375,
           "Logistic Regression",
           "age"
          ],
          [
           0.047177863921267375,
           "Logistic Regression",
           "age"
          ],
          [
           0.047177863921267375,
           "Logistic Regression",
           "age"
          ],
          [
           0.047177863921267375,
           "Logistic Regression",
           "age"
          ],
          [
           0.047177863921267375,
           "Logistic Regression",
           "age"
          ],
          [
           0.047177863921267375,
           "Logistic Regression",
           "age"
          ],
          [
           0.047177863921267375,
           "Logistic Regression",
           "age"
          ],
          [
           0.047177863921267375,
           "Logistic Regression",
           "age"
          ],
          [
           0.047177863921267375,
           "Logistic Regression",
           "age"
          ],
          [
           0.047177863921267375,
           "Logistic Regression",
           "age"
          ],
          [
           0.047177863921267375,
           "Logistic Regression",
           "age"
          ],
          [
           0.047177863921267375,
           "Logistic Regression",
           "age"
          ],
          [
           0.047177863921267375,
           "Logistic Regression",
           "age"
          ],
          [
           0.047177863921267375,
           "Logistic Regression",
           "age"
          ],
          [
           0.047177863921267375,
           "Logistic Regression",
           "age"
          ],
          [
           0.047177863921267375,
           "Logistic Regression",
           "age"
          ],
          [
           0.047177863921267375,
           "Logistic Regression",
           "age"
          ],
          [
           0.047177863921267375,
           "Logistic Regression",
           "age"
          ],
          [
           0.047177863921267375,
           "Logistic Regression",
           "age"
          ],
          [
           0.047177863921267375,
           "Logistic Regression",
           "age"
          ],
          [
           0.047177863921267375,
           "Logistic Regression",
           "age"
          ],
          [
           0.047177863921267375,
           "Logistic Regression",
           "age"
          ],
          [
           0.047177863921267375,
           "Logistic Regression",
           "age"
          ],
          [
           0.047177863921267375,
           "Logistic Regression",
           "age"
          ],
          [
           0.047177863921267375,
           "Logistic Regression",
           "age"
          ],
          [
           0.047177863921267375,
           "Logistic Regression",
           "age"
          ],
          [
           0.047177863921267375,
           "Logistic Regression",
           "age"
          ],
          [
           0.047177863921267375,
           "Logistic Regression",
           "age"
          ],
          [
           0.047177863921267375,
           "Logistic Regression",
           "age"
          ],
          [
           0.047177863921267375,
           "Logistic Regression",
           "age"
          ],
          [
           0.047177863921267375,
           "Logistic Regression",
           "age"
          ],
          [
           0.047177863921267375,
           "Logistic Regression",
           "age"
          ],
          [
           0.047177863921267375,
           "Logistic Regression",
           "age"
          ],
          [
           0.047177863921267375,
           "Logistic Regression",
           "age"
          ],
          [
           0.047177863921267375,
           "Logistic Regression",
           "age"
          ],
          [
           0.047177863921267375,
           "Logistic Regression",
           "age"
          ],
          [
           0.047177863921267375,
           "Logistic Regression",
           "age"
          ],
          [
           0.047177863921267375,
           "Logistic Regression",
           "age"
          ],
          [
           0.047177863921267375,
           "Logistic Regression",
           "age"
          ],
          [
           0.047177863921267375,
           "Logistic Regression",
           "age"
          ],
          [
           0.047177863921267375,
           "Logistic Regression",
           "age"
          ],
          [
           0.047177863921267375,
           "Logistic Regression",
           "age"
          ],
          [
           0.047177863921267375,
           "Logistic Regression",
           "age"
          ],
          [
           0.047177863921267375,
           "Logistic Regression",
           "age"
          ],
          [
           0.047177863921267375,
           "Logistic Regression",
           "age"
          ],
          [
           0.047177863921267375,
           "Logistic Regression",
           "age"
          ],
          [
           0.047177863921267375,
           "Logistic Regression",
           "age"
          ],
          [
           0.047177863921267375,
           "Logistic Regression",
           "age"
          ],
          [
           0.047177863921267375,
           "Logistic Regression",
           "age"
          ],
          [
           0.047177863921267375,
           "Logistic Regression",
           "age"
          ],
          [
           0.047177863921267375,
           "Logistic Regression",
           "age"
          ],
          [
           0.047177863921267375,
           "Logistic Regression",
           "age"
          ],
          [
           0.047177863921267375,
           "Logistic Regression",
           "age"
          ],
          [
           0.047177863921267375,
           "Logistic Regression",
           "age"
          ],
          [
           0.047177863921267375,
           "Logistic Regression",
           "age"
          ],
          [
           0.047177863921267375,
           "Logistic Regression",
           "age"
          ],
          [
           0.047177863921267375,
           "Logistic Regression",
           "age"
          ],
          [
           0.047177863921267375,
           "Logistic Regression",
           "age"
          ],
          [
           0.047177863921267375,
           "Logistic Regression",
           "age"
          ],
          [
           0.047177863921267375,
           "Logistic Regression",
           "age"
          ],
          [
           0.047177863921267375,
           "Logistic Regression",
           "age"
          ],
          [
           0.047177863921267375,
           "Logistic Regression",
           "age"
          ],
          [
           0.047177863921267375,
           "Logistic Regression",
           "age"
          ],
          [
           0.047177863921267375,
           "Logistic Regression",
           "age"
          ]
         ],
         "hovertemplate": "<b>%{hovertext}</b><br><br>prediction=%{y:.3f}<br>mean_prediction=%{customdata[0]:.3f}<extra></extra>",
         "hovertext": [
          "Logistic Regression",
          "Logistic Regression",
          "Logistic Regression",
          "Logistic Regression",
          "Logistic Regression",
          "Logistic Regression",
          "Logistic Regression",
          "Logistic Regression",
          "Logistic Regression",
          "Logistic Regression",
          "Logistic Regression",
          "Logistic Regression",
          "Logistic Regression",
          "Logistic Regression",
          "Logistic Regression",
          "Logistic Regression",
          "Logistic Regression",
          "Logistic Regression",
          "Logistic Regression",
          "Logistic Regression",
          "Logistic Regression",
          "Logistic Regression",
          "Logistic Regression",
          "Logistic Regression",
          "Logistic Regression",
          "Logistic Regression",
          "Logistic Regression",
          "Logistic Regression",
          "Logistic Regression",
          "Logistic Regression",
          "Logistic Regression",
          "Logistic Regression",
          "Logistic Regression",
          "Logistic Regression",
          "Logistic Regression",
          "Logistic Regression",
          "Logistic Regression",
          "Logistic Regression",
          "Logistic Regression",
          "Logistic Regression",
          "Logistic Regression",
          "Logistic Regression",
          "Logistic Regression",
          "Logistic Regression",
          "Logistic Regression",
          "Logistic Regression",
          "Logistic Regression",
          "Logistic Regression",
          "Logistic Regression",
          "Logistic Regression",
          "Logistic Regression",
          "Logistic Regression",
          "Logistic Regression",
          "Logistic Regression",
          "Logistic Regression",
          "Logistic Regression",
          "Logistic Regression",
          "Logistic Regression",
          "Logistic Regression",
          "Logistic Regression",
          "Logistic Regression",
          "Logistic Regression",
          "Logistic Regression",
          "Logistic Regression",
          "Logistic Regression",
          "Logistic Regression",
          "Logistic Regression",
          "Logistic Regression",
          "Logistic Regression",
          "Logistic Regression",
          "Logistic Regression",
          "Logistic Regression",
          "Logistic Regression",
          "Logistic Regression",
          "Logistic Regression",
          "Logistic Regression",
          "Logistic Regression",
          "Logistic Regression",
          "Logistic Regression",
          "Logistic Regression",
          "Logistic Regression",
          "Logistic Regression",
          "Logistic Regression",
          "Logistic Regression",
          "Logistic Regression",
          "Logistic Regression",
          "Logistic Regression",
          "Logistic Regression",
          "Logistic Regression",
          "Logistic Regression",
          "Logistic Regression",
          "Logistic Regression",
          "Logistic Regression",
          "Logistic Regression",
          "Logistic Regression",
          "Logistic Regression",
          "Logistic Regression",
          "Logistic Regression",
          "Logistic Regression",
          "Logistic Regression",
          "Logistic Regression"
         ],
         "legendgroup": "Logistic Regression",
         "line": {
          "color": "#46bac2",
          "dash": "solid",
          "width": 2
         },
         "marker": {
          "symbol": "circle"
         },
         "mode": "lines",
         "name": "Logistic Regression",
         "opacity": 1,
         "orientation": "v",
         "showlegend": true,
         "type": "scatter",
         "x": [
          0.24,
          1.0576,
          1.8752000000000002,
          2.6928,
          3.5104000000000006,
          4.328000000000001,
          5.145600000000001,
          5.9632000000000005,
          6.780800000000001,
          7.598400000000002,
          8.416000000000002,
          9.233600000000001,
          10.051200000000001,
          10.868800000000002,
          11.6864,
          12.504000000000001,
          13.321600000000002,
          14.139200000000002,
          14.956800000000003,
          15.774400000000002,
          16.592000000000002,
          17.4096,
          18.2272,
          19.044800000000002,
          19.8624,
          20.68,
          21.497600000000002,
          22.3152,
          23.1328,
          23.950400000000002,
          24.768,
          25.585600000000003,
          26.403200000000002,
          27.2208,
          28.038400000000003,
          28.856,
          29.673600000000004,
          30.491200000000003,
          31.3088,
          32.126400000000004,
          32.94400000000001,
          33.76160000000001,
          34.57920000000001,
          35.396800000000006,
          36.214400000000005,
          37.032000000000004,
          37.84960000000001,
          38.66720000000001,
          39.48480000000001,
          40.302400000000006,
          41.120000000000005,
          41.93760000000001,
          42.75520000000001,
          43.57280000000001,
          44.39040000000001,
          45.208000000000006,
          46.025600000000004,
          46.84320000000001,
          47.66080000000001,
          48.47840000000001,
          49.29600000000001,
          50.113600000000005,
          50.93120000000001,
          51.74880000000001,
          52.56640000000001,
          53.38400000000001,
          54.201600000000006,
          55.01920000000001,
          55.83680000000001,
          56.65440000000001,
          57.47200000000001,
          58.28960000000001,
          59.10720000000001,
          59.92480000000001,
          60.74240000000001,
          61.56000000000001,
          62.37760000000001,
          63.19520000000001,
          64.01280000000001,
          64.8304,
          65.64800000000001,
          66.46560000000001,
          67.28320000000001,
          68.1008,
          68.9184,
          69.736,
          70.5536,
          71.3712,
          72.1888,
          73.0064,
          73.824,
          74.64160000000001,
          75.45920000000001,
          76.27680000000001,
          77.09440000000001,
          77.912,
          78.7296,
          79.5472,
          80.3648,
          81.1824,
          82
         ],
         "xaxis": "x",
         "y": [
          0.0028122035159165934,
          0.002937087069475561,
          0.003067485208215507,
          0.0032036386358538192,
          0.003345798311006268,
          0.003494225861668159,
          0.003649194014450238,
          0.003810987038913612,
          0.0039799012073383,
          0.004156245270248132,
          0.004340340948000265,
          0.004532523438730562,
          0.004733141942926128,
          0.004942560204873064,
          0.005161157071201018,
          0.005389327066715809,
          0.005627480987677158,
          0.0058760465126400435,
          0.006135468830935099,
          0.006406211288815444,
          0.006688756053244086,
          0.006983604793237273,
          0.007291279378614372,
          0.007612322595933943,
          0.007947298881318043,
          0.008296795069782282,
          0.0086614211605973,
          0.009041811098107855,
          0.009438623567328266,
          0.00985254280351723,
          0.010284279414810707,
          0.01073457121685848,
          0.011204184078267614,
          0.011693912775504717,
          0.012204581855747708,
          0.012737046506007328,
          0.013292193426658508,
          0.013870941707331703,
          0.014474243702915095,
          0.015103085907209645,
          0.015758489821561087,
          0.016441512815566092,
          0.017153248976714653,
          0.01789482994558741,
          0.018667425732976535,
          0.019472245515041512,
          0.02031053840234896,
          0.021183594178378073,
          0.022092744002802932,
          0.02303936107458948,
          0.024024861249671334,
          0.025050703607694985,
          0.026118390962053654,
          0.027229470307161576,
          0.02838553319665829,
          0.029588216045978145,
          0.03083920035247466,
          0.03214021282605534,
          0.033493025423061575,
          0.034899455275922704,
          0.036361364510923984,
          0.037880659946259526,
          0.03945929266239177,
          0.041099257436613336,
          0.04280259203360585,
          0.04457137634371438,
          0.046407731360608634,
          0.048313817989983326,
          0.050291835680961634,
          0.05234402087190943,
          0.054472645242444016,
          0.05668001376353201,
          0.05896846253771704,
          0.061340356421700847,
          0.06379808642372252,
          0.06634406686844153,
          0.06898073232233355,
          0.07171053427295436,
          0.07453593755582157,
          0.07745941652310676,
          0.08048345094882882,
          0.08361052166579176,
          0.08684310593013178,
          0.09018367251001967,
          0.09363467649582859,
          0.09719855382991599,
          0.10087771555510101,
          0.10467454178194371,
          0.10859137537606531,
          0.11263051536799397,
          0.11679421008938756,
          0.12108465004098344,
          0.12550396049926024,
          0.13005419387058,
          0.13473732180350922,
          0.13955522707210843,
          0.14450969524522453,
          0.14960240615922607,
          0.1548349252141827,
          0.1602086945161994,
          0.16572502389146906
         ],
         "yaxis": "y"
        }
       ],
       "layout": {
        "annotations": [
         {
          "font": {
           "size": 13
          },
          "showarrow": false,
          "text": "age",
          "x": 0.5,
          "xanchor": "center",
          "xref": "paper",
          "y": 1,
          "yanchor": "bottom",
          "yref": "paper"
         },
         {
          "font": {
           "size": 13
          },
          "showarrow": false,
          "text": "prediction",
          "textangle": -90,
          "x": -0.07,
          "xref": "paper",
          "y": 0.5,
          "yref": "paper"
         }
        ],
        "font": {
         "color": "#371ea3"
        },
        "height": 489,
        "hovermode": "x unified",
        "legend": {
         "font": {
          "size": 11
         },
         "itemsizing": "constant",
         "orientation": "h",
         "title": {
          "font": {
           "size": 12
          },
          "text": "label"
         },
         "tracegroupgap": 0,
         "x": 1,
         "xanchor": "right",
         "y": 1.0613496932515338,
         "yanchor": "bottom"
        },
        "margin": {
         "b": 71,
         "r": 30,
         "t": 78
        },
        "template": {
         "data": {
          "scatter": [
           {
            "type": "scatter"
           }
          ]
         }
        },
        "title": {
         "font": {
          "size": 16
         },
         "text": "Aggregated Profiles",
         "x": 0.15
        },
        "xaxis": {
         "anchor": "y",
         "automargin": true,
         "domain": [
          0,
          1
         ],
         "fixedrange": true,
         "gridwidth": 2,
         "showticklabels": true,
         "tickcolor": "white",
         "ticklen": 3,
         "ticks": "outside",
         "title": {
          "text": ""
         },
         "type": "linear",
         "zeroline": false
        },
        "yaxis": {
         "anchor": "x",
         "automargin": true,
         "domain": [
          0,
          1
         ],
         "fixedrange": true,
         "gridwidth": 2,
         "range": [
          -0.013479078521638654,
          0.18201630592902432
         ],
         "tickcolor": "white",
         "ticklen": 3,
         "ticks": "outside",
         "title": {
          "text": ""
         },
         "type": "linear",
         "zeroline": false
        }
       }
      }
     },
     "metadata": {},
     "output_type": "display_data"
    }
   ],
   "source": [
    "pdp_age = exp.model_profile(variables=\"age\")\n",
    "pdp_age.plot()"
   ]
  },
  {
   "cell_type": "code",
   "execution_count": 236,
   "metadata": {},
   "outputs": [
    {
     "name": "stderr",
     "output_type": "stream",
     "text": [
      "Calculating ceteris paribus: 100%|██████████| 1/1 [00:00<00:00, 20.41it/s]\n"
     ]
    },
    {
     "data": {
      "application/vnd.plotly.v1+json": {
       "config": {
        "displaylogo": false,
        "modeBarButtonsToRemove": [
         "sendDataToCloud",
         "lasso2d",
         "autoScale2d",
         "select2d",
         "zoom2d",
         "pan2d",
         "zoomIn2d",
         "zoomOut2d",
         "resetScale2d",
         "toggleSpikelines",
         "hoverCompareCartesian",
         "hoverClosestCartesian"
        ],
        "plotlyServerURL": "https://plot.ly",
        "staticPlot": false,
        "toImageButtonOptions": {
         "height": null,
         "width": null
        }
       },
       "data": [
        {
         "customdata": [
          [
           0.04489429703335647,
           "Logistic Regression_Male",
           "age"
          ],
          [
           0.04489429703335647,
           "Logistic Regression_Male",
           "age"
          ],
          [
           0.04489429703335647,
           "Logistic Regression_Male",
           "age"
          ],
          [
           0.04489429703335647,
           "Logistic Regression_Male",
           "age"
          ],
          [
           0.04489429703335647,
           "Logistic Regression_Male",
           "age"
          ],
          [
           0.04489429703335647,
           "Logistic Regression_Male",
           "age"
          ],
          [
           0.04489429703335647,
           "Logistic Regression_Male",
           "age"
          ],
          [
           0.04489429703335647,
           "Logistic Regression_Male",
           "age"
          ],
          [
           0.04489429703335647,
           "Logistic Regression_Male",
           "age"
          ],
          [
           0.04489429703335647,
           "Logistic Regression_Male",
           "age"
          ],
          [
           0.04489429703335647,
           "Logistic Regression_Male",
           "age"
          ],
          [
           0.04489429703335647,
           "Logistic Regression_Male",
           "age"
          ],
          [
           0.04489429703335647,
           "Logistic Regression_Male",
           "age"
          ],
          [
           0.04489429703335647,
           "Logistic Regression_Male",
           "age"
          ],
          [
           0.04489429703335647,
           "Logistic Regression_Male",
           "age"
          ],
          [
           0.04489429703335647,
           "Logistic Regression_Male",
           "age"
          ],
          [
           0.04489429703335647,
           "Logistic Regression_Male",
           "age"
          ],
          [
           0.04489429703335647,
           "Logistic Regression_Male",
           "age"
          ],
          [
           0.04489429703335647,
           "Logistic Regression_Male",
           "age"
          ],
          [
           0.04489429703335647,
           "Logistic Regression_Male",
           "age"
          ],
          [
           0.04489429703335647,
           "Logistic Regression_Male",
           "age"
          ],
          [
           0.04489429703335647,
           "Logistic Regression_Male",
           "age"
          ],
          [
           0.04489429703335647,
           "Logistic Regression_Male",
           "age"
          ],
          [
           0.04489429703335647,
           "Logistic Regression_Male",
           "age"
          ],
          [
           0.04489429703335647,
           "Logistic Regression_Male",
           "age"
          ],
          [
           0.04489429703335647,
           "Logistic Regression_Male",
           "age"
          ],
          [
           0.04489429703335647,
           "Logistic Regression_Male",
           "age"
          ],
          [
           0.04489429703335647,
           "Logistic Regression_Male",
           "age"
          ],
          [
           0.04489429703335647,
           "Logistic Regression_Male",
           "age"
          ],
          [
           0.04489429703335647,
           "Logistic Regression_Male",
           "age"
          ],
          [
           0.04489429703335647,
           "Logistic Regression_Male",
           "age"
          ],
          [
           0.04489429703335647,
           "Logistic Regression_Male",
           "age"
          ],
          [
           0.04489429703335647,
           "Logistic Regression_Male",
           "age"
          ],
          [
           0.04489429703335647,
           "Logistic Regression_Male",
           "age"
          ],
          [
           0.04489429703335647,
           "Logistic Regression_Male",
           "age"
          ],
          [
           0.04489429703335647,
           "Logistic Regression_Male",
           "age"
          ],
          [
           0.04489429703335647,
           "Logistic Regression_Male",
           "age"
          ],
          [
           0.04489429703335647,
           "Logistic Regression_Male",
           "age"
          ],
          [
           0.04489429703335647,
           "Logistic Regression_Male",
           "age"
          ],
          [
           0.04489429703335647,
           "Logistic Regression_Male",
           "age"
          ],
          [
           0.04489429703335647,
           "Logistic Regression_Male",
           "age"
          ],
          [
           0.04489429703335647,
           "Logistic Regression_Male",
           "age"
          ],
          [
           0.04489429703335647,
           "Logistic Regression_Male",
           "age"
          ],
          [
           0.04489429703335647,
           "Logistic Regression_Male",
           "age"
          ],
          [
           0.04489429703335647,
           "Logistic Regression_Male",
           "age"
          ],
          [
           0.04489429703335647,
           "Logistic Regression_Male",
           "age"
          ],
          [
           0.04489429703335647,
           "Logistic Regression_Male",
           "age"
          ],
          [
           0.04489429703335647,
           "Logistic Regression_Male",
           "age"
          ],
          [
           0.04489429703335647,
           "Logistic Regression_Male",
           "age"
          ],
          [
           0.04489429703335647,
           "Logistic Regression_Male",
           "age"
          ],
          [
           0.04489429703335647,
           "Logistic Regression_Male",
           "age"
          ],
          [
           0.04489429703335647,
           "Logistic Regression_Male",
           "age"
          ],
          [
           0.04489429703335647,
           "Logistic Regression_Male",
           "age"
          ],
          [
           0.04489429703335647,
           "Logistic Regression_Male",
           "age"
          ],
          [
           0.04489429703335647,
           "Logistic Regression_Male",
           "age"
          ],
          [
           0.04489429703335647,
           "Logistic Regression_Male",
           "age"
          ],
          [
           0.04489429703335647,
           "Logistic Regression_Male",
           "age"
          ],
          [
           0.04489429703335647,
           "Logistic Regression_Male",
           "age"
          ],
          [
           0.04489429703335647,
           "Logistic Regression_Male",
           "age"
          ],
          [
           0.04489429703335647,
           "Logistic Regression_Male",
           "age"
          ],
          [
           0.04489429703335647,
           "Logistic Regression_Male",
           "age"
          ],
          [
           0.04489429703335647,
           "Logistic Regression_Male",
           "age"
          ],
          [
           0.04489429703335647,
           "Logistic Regression_Male",
           "age"
          ],
          [
           0.04489429703335647,
           "Logistic Regression_Male",
           "age"
          ],
          [
           0.04489429703335647,
           "Logistic Regression_Male",
           "age"
          ],
          [
           0.04489429703335647,
           "Logistic Regression_Male",
           "age"
          ],
          [
           0.04489429703335647,
           "Logistic Regression_Male",
           "age"
          ],
          [
           0.04489429703335647,
           "Logistic Regression_Male",
           "age"
          ],
          [
           0.04489429703335647,
           "Logistic Regression_Male",
           "age"
          ],
          [
           0.04489429703335647,
           "Logistic Regression_Male",
           "age"
          ],
          [
           0.04489429703335647,
           "Logistic Regression_Male",
           "age"
          ],
          [
           0.04489429703335647,
           "Logistic Regression_Male",
           "age"
          ],
          [
           0.04489429703335647,
           "Logistic Regression_Male",
           "age"
          ],
          [
           0.04489429703335647,
           "Logistic Regression_Male",
           "age"
          ],
          [
           0.04489429703335647,
           "Logistic Regression_Male",
           "age"
          ],
          [
           0.04489429703335647,
           "Logistic Regression_Male",
           "age"
          ],
          [
           0.04489429703335647,
           "Logistic Regression_Male",
           "age"
          ],
          [
           0.04489429703335647,
           "Logistic Regression_Male",
           "age"
          ],
          [
           0.04489429703335647,
           "Logistic Regression_Male",
           "age"
          ],
          [
           0.04489429703335647,
           "Logistic Regression_Male",
           "age"
          ],
          [
           0.04489429703335647,
           "Logistic Regression_Male",
           "age"
          ],
          [
           0.04489429703335647,
           "Logistic Regression_Male",
           "age"
          ],
          [
           0.04489429703335647,
           "Logistic Regression_Male",
           "age"
          ],
          [
           0.04489429703335647,
           "Logistic Regression_Male",
           "age"
          ],
          [
           0.04489429703335647,
           "Logistic Regression_Male",
           "age"
          ],
          [
           0.04489429703335647,
           "Logistic Regression_Male",
           "age"
          ],
          [
           0.04489429703335647,
           "Logistic Regression_Male",
           "age"
          ],
          [
           0.04489429703335647,
           "Logistic Regression_Male",
           "age"
          ],
          [
           0.04489429703335647,
           "Logistic Regression_Male",
           "age"
          ],
          [
           0.04489429703335647,
           "Logistic Regression_Male",
           "age"
          ],
          [
           0.04489429703335647,
           "Logistic Regression_Male",
           "age"
          ],
          [
           0.04489429703335647,
           "Logistic Regression_Male",
           "age"
          ],
          [
           0.04489429703335647,
           "Logistic Regression_Male",
           "age"
          ],
          [
           0.04489429703335647,
           "Logistic Regression_Male",
           "age"
          ],
          [
           0.04489429703335647,
           "Logistic Regression_Male",
           "age"
          ],
          [
           0.04489429703335647,
           "Logistic Regression_Male",
           "age"
          ],
          [
           0.04489429703335647,
           "Logistic Regression_Male",
           "age"
          ],
          [
           0.04489429703335647,
           "Logistic Regression_Male",
           "age"
          ],
          [
           0.04489429703335647,
           "Logistic Regression_Male",
           "age"
          ],
          [
           0.04489429703335647,
           "Logistic Regression_Male",
           "age"
          ],
          [
           0.04489429703335647,
           "Logistic Regression_Male",
           "age"
          ]
         ],
         "hovertemplate": "<b>%{hovertext}</b><br><br>prediction=%{y:.3f}<br>mean_prediction=%{customdata[0]:.3f}<extra></extra>",
         "hovertext": [
          "Logistic Regression_Male",
          "Logistic Regression_Male",
          "Logistic Regression_Male",
          "Logistic Regression_Male",
          "Logistic Regression_Male",
          "Logistic Regression_Male",
          "Logistic Regression_Male",
          "Logistic Regression_Male",
          "Logistic Regression_Male",
          "Logistic Regression_Male",
          "Logistic Regression_Male",
          "Logistic Regression_Male",
          "Logistic Regression_Male",
          "Logistic Regression_Male",
          "Logistic Regression_Male",
          "Logistic Regression_Male",
          "Logistic Regression_Male",
          "Logistic Regression_Male",
          "Logistic Regression_Male",
          "Logistic Regression_Male",
          "Logistic Regression_Male",
          "Logistic Regression_Male",
          "Logistic Regression_Male",
          "Logistic Regression_Male",
          "Logistic Regression_Male",
          "Logistic Regression_Male",
          "Logistic Regression_Male",
          "Logistic Regression_Male",
          "Logistic Regression_Male",
          "Logistic Regression_Male",
          "Logistic Regression_Male",
          "Logistic Regression_Male",
          "Logistic Regression_Male",
          "Logistic Regression_Male",
          "Logistic Regression_Male",
          "Logistic Regression_Male",
          "Logistic Regression_Male",
          "Logistic Regression_Male",
          "Logistic Regression_Male",
          "Logistic Regression_Male",
          "Logistic Regression_Male",
          "Logistic Regression_Male",
          "Logistic Regression_Male",
          "Logistic Regression_Male",
          "Logistic Regression_Male",
          "Logistic Regression_Male",
          "Logistic Regression_Male",
          "Logistic Regression_Male",
          "Logistic Regression_Male",
          "Logistic Regression_Male",
          "Logistic Regression_Male",
          "Logistic Regression_Male",
          "Logistic Regression_Male",
          "Logistic Regression_Male",
          "Logistic Regression_Male",
          "Logistic Regression_Male",
          "Logistic Regression_Male",
          "Logistic Regression_Male",
          "Logistic Regression_Male",
          "Logistic Regression_Male",
          "Logistic Regression_Male",
          "Logistic Regression_Male",
          "Logistic Regression_Male",
          "Logistic Regression_Male",
          "Logistic Regression_Male",
          "Logistic Regression_Male",
          "Logistic Regression_Male",
          "Logistic Regression_Male",
          "Logistic Regression_Male",
          "Logistic Regression_Male",
          "Logistic Regression_Male",
          "Logistic Regression_Male",
          "Logistic Regression_Male",
          "Logistic Regression_Male",
          "Logistic Regression_Male",
          "Logistic Regression_Male",
          "Logistic Regression_Male",
          "Logistic Regression_Male",
          "Logistic Regression_Male",
          "Logistic Regression_Male",
          "Logistic Regression_Male",
          "Logistic Regression_Male",
          "Logistic Regression_Male",
          "Logistic Regression_Male",
          "Logistic Regression_Male",
          "Logistic Regression_Male",
          "Logistic Regression_Male",
          "Logistic Regression_Male",
          "Logistic Regression_Male",
          "Logistic Regression_Male",
          "Logistic Regression_Male",
          "Logistic Regression_Male",
          "Logistic Regression_Male",
          "Logistic Regression_Male",
          "Logistic Regression_Male",
          "Logistic Regression_Male",
          "Logistic Regression_Male",
          "Logistic Regression_Male",
          "Logistic Regression_Male",
          "Logistic Regression_Male",
          "Logistic Regression_Male"
         ],
         "legendgroup": "Logistic Regression_Male",
         "line": {
          "color": "#8bdcbe",
          "dash": "solid",
          "width": 2
         },
         "marker": {
          "symbol": "circle"
         },
         "mode": "lines",
         "name": "Logistic Regression_Male",
         "opacity": 1,
         "orientation": "v",
         "showlegend": true,
         "type": "scatter",
         "x": [
          0.24,
          1.0576,
          1.8752000000000002,
          2.6928,
          3.5104000000000006,
          4.328000000000001,
          5.145600000000001,
          5.9632000000000005,
          6.780800000000001,
          7.598400000000002,
          8.416000000000002,
          9.233600000000001,
          10.051200000000001,
          10.868800000000002,
          11.6864,
          12.504000000000001,
          13.321600000000002,
          14.139200000000002,
          14.956800000000003,
          15.774400000000002,
          16.592000000000002,
          17.4096,
          18.2272,
          19.044800000000002,
          19.8624,
          20.68,
          21.497600000000002,
          22.3152,
          23.1328,
          23.950400000000002,
          24.768,
          25.585600000000003,
          26.403200000000002,
          27.2208,
          28.038400000000003,
          28.856,
          29.673600000000004,
          30.491200000000003,
          31.3088,
          32.126400000000004,
          32.94400000000001,
          33.76160000000001,
          34.57920000000001,
          35.396800000000006,
          36.214400000000005,
          37.032000000000004,
          37.84960000000001,
          38.66720000000001,
          39.48480000000001,
          40.302400000000006,
          41.120000000000005,
          41.93760000000001,
          42.75520000000001,
          43.57280000000001,
          44.39040000000001,
          45.208000000000006,
          46.025600000000004,
          46.84320000000001,
          47.66080000000001,
          48.47840000000001,
          49.29600000000001,
          50.113600000000005,
          50.93120000000001,
          51.74880000000001,
          52.56640000000001,
          53.38400000000001,
          54.201600000000006,
          55.01920000000001,
          55.83680000000001,
          56.65440000000001,
          57.47200000000001,
          58.28960000000001,
          59.10720000000001,
          59.92480000000001,
          60.74240000000001,
          61.56000000000001,
          62.37760000000001,
          63.19520000000001,
          64.01280000000001,
          64.8304,
          65.64800000000001,
          66.46560000000001,
          67.28320000000001,
          68.1008,
          68.9184,
          69.736,
          70.5536,
          71.3712,
          72.1888,
          73.0064,
          73.824,
          74.64160000000001,
          75.45920000000001,
          76.27680000000001,
          77.09440000000001,
          77.912,
          78.7296,
          79.5472,
          80.3648,
          81.1824,
          82
         ],
         "xaxis": "x",
         "y": [
          0.00254631126968566,
          0.0026594458324550848,
          0.0027775814661374553,
          0.00290093693659873,
          0.0030297403727167767,
          0.0031642296486639773,
          0.003304652780152539,
          0.0034512683350036897,
          0.003604345858396995,
          0.003764166313149197,
          0.003931022535363226,
          0.0041052197057771045,
          0.0042870758371292075,
          0.0044769222778404056,
          0.0046751042322950445,
          0.004881981297980908,
          0.00509792801972339,
          0.005323334461220462,
          0.005558606794052688,
          0.005804167904305963,
          0.006060458016903723,
          0.006327935337699709,
          0.006607076713331648,
          0.006898378308780054,
          0.007202356302514604,
          0.007519547599042675,
          0.007850510558600303,
          0.008195825743644953,
          0.008556096681721345,
          0.008931950644176187,
          0.009324039440094406,
          0.009733040224718383,
          0.010159656321491897,
          0.01060461805674259,
          0.01106868360587949,
          0.011552639849836127,
          0.01205730324033441,
          0.012583520672379644,
          0.01313217036222282,
          0.013704162728842584,
          0.014300441276806073,
          0.014921983478165163,
          0.015569801650832969,
          0.016244943830664525,
          0.016948494634236467,
          0.017681576109082744,
          0.018445348567898538,
          0.019241011402972224,
          0.020069803876846985,
          0.020933005884949698,
          0.021831938685656752,
          0.022767965592994533,
          0.02374249262689856,
          0.024756969115680597,
          0.02581288824507811,
          0.026911787547988415,
          0.02805524932872014,
          0.029244901015330574,
          0.030482415433359486,
          0.03176951099402108,
          0.03310795178967573,
          0.034499547589176074,
          0.035946153725467854,
          0.03744967086762706,
          0.039012044669333605,
          0.04063526528561868,
          0.04232136674958094,
          0.04407242620064658,
          0.04589056295585236,
          0.04777793741556063,
          0.04973674979497196,
          0.05176923867278774,
          0.053877679348392236,
          0.05606438199897376,
          0.05833168962809011,
          0.060681975797305755,
          0.06311764213269126,
          0.06564111559817984,
          0.06825484552802755,
          0.07096130041092308,
          0.07376296441864753,
          0.0766623336725929,
          0.07966191224192493,
          0.08276420786771246,
          0.08597172740796233,
          0.0892869719991903,
          0.09271243193093931,
          0.09625058123052632,
          0.09990387195627327,
          0.10367472819855439,
          0.10756553978918694,
          0.11157865572100598,
          0.11571637728090624,
          0.11998095090121157,
          0.12437456073594637,
          0.12889932097044532,
          0.1335572678747423,
          0.1383503516133361,
          0.14328042782623227,
          0.1483492489986121,
          0.15355845563906775
         ],
         "yaxis": "y"
        },
        {
         "customdata": [
          [
           0.04489429703335647,
           "Logistic Regression_Female",
           "age"
          ],
          [
           0.04489429703335647,
           "Logistic Regression_Female",
           "age"
          ],
          [
           0.04489429703335647,
           "Logistic Regression_Female",
           "age"
          ],
          [
           0.04489429703335647,
           "Logistic Regression_Female",
           "age"
          ],
          [
           0.04489429703335647,
           "Logistic Regression_Female",
           "age"
          ],
          [
           0.04489429703335647,
           "Logistic Regression_Female",
           "age"
          ],
          [
           0.04489429703335647,
           "Logistic Regression_Female",
           "age"
          ],
          [
           0.04489429703335647,
           "Logistic Regression_Female",
           "age"
          ],
          [
           0.04489429703335647,
           "Logistic Regression_Female",
           "age"
          ],
          [
           0.04489429703335647,
           "Logistic Regression_Female",
           "age"
          ],
          [
           0.04489429703335647,
           "Logistic Regression_Female",
           "age"
          ],
          [
           0.04489429703335647,
           "Logistic Regression_Female",
           "age"
          ],
          [
           0.04489429703335647,
           "Logistic Regression_Female",
           "age"
          ],
          [
           0.04489429703335647,
           "Logistic Regression_Female",
           "age"
          ],
          [
           0.04489429703335647,
           "Logistic Regression_Female",
           "age"
          ],
          [
           0.04489429703335647,
           "Logistic Regression_Female",
           "age"
          ],
          [
           0.04489429703335647,
           "Logistic Regression_Female",
           "age"
          ],
          [
           0.04489429703335647,
           "Logistic Regression_Female",
           "age"
          ],
          [
           0.04489429703335647,
           "Logistic Regression_Female",
           "age"
          ],
          [
           0.04489429703335647,
           "Logistic Regression_Female",
           "age"
          ],
          [
           0.04489429703335647,
           "Logistic Regression_Female",
           "age"
          ],
          [
           0.04489429703335647,
           "Logistic Regression_Female",
           "age"
          ],
          [
           0.04489429703335647,
           "Logistic Regression_Female",
           "age"
          ],
          [
           0.04489429703335647,
           "Logistic Regression_Female",
           "age"
          ],
          [
           0.04489429703335647,
           "Logistic Regression_Female",
           "age"
          ],
          [
           0.04489429703335647,
           "Logistic Regression_Female",
           "age"
          ],
          [
           0.04489429703335647,
           "Logistic Regression_Female",
           "age"
          ],
          [
           0.04489429703335647,
           "Logistic Regression_Female",
           "age"
          ],
          [
           0.04489429703335647,
           "Logistic Regression_Female",
           "age"
          ],
          [
           0.04489429703335647,
           "Logistic Regression_Female",
           "age"
          ],
          [
           0.04489429703335647,
           "Logistic Regression_Female",
           "age"
          ],
          [
           0.04489429703335647,
           "Logistic Regression_Female",
           "age"
          ],
          [
           0.04489429703335647,
           "Logistic Regression_Female",
           "age"
          ],
          [
           0.04489429703335647,
           "Logistic Regression_Female",
           "age"
          ],
          [
           0.04489429703335647,
           "Logistic Regression_Female",
           "age"
          ],
          [
           0.04489429703335647,
           "Logistic Regression_Female",
           "age"
          ],
          [
           0.04489429703335647,
           "Logistic Regression_Female",
           "age"
          ],
          [
           0.04489429703335647,
           "Logistic Regression_Female",
           "age"
          ],
          [
           0.04489429703335647,
           "Logistic Regression_Female",
           "age"
          ],
          [
           0.04489429703335647,
           "Logistic Regression_Female",
           "age"
          ],
          [
           0.04489429703335647,
           "Logistic Regression_Female",
           "age"
          ],
          [
           0.04489429703335647,
           "Logistic Regression_Female",
           "age"
          ],
          [
           0.04489429703335647,
           "Logistic Regression_Female",
           "age"
          ],
          [
           0.04489429703335647,
           "Logistic Regression_Female",
           "age"
          ],
          [
           0.04489429703335647,
           "Logistic Regression_Female",
           "age"
          ],
          [
           0.04489429703335647,
           "Logistic Regression_Female",
           "age"
          ],
          [
           0.04489429703335647,
           "Logistic Regression_Female",
           "age"
          ],
          [
           0.04489429703335647,
           "Logistic Regression_Female",
           "age"
          ],
          [
           0.04489429703335647,
           "Logistic Regression_Female",
           "age"
          ],
          [
           0.04489429703335647,
           "Logistic Regression_Female",
           "age"
          ],
          [
           0.04489429703335647,
           "Logistic Regression_Female",
           "age"
          ],
          [
           0.04489429703335647,
           "Logistic Regression_Female",
           "age"
          ],
          [
           0.04489429703335647,
           "Logistic Regression_Female",
           "age"
          ],
          [
           0.04489429703335647,
           "Logistic Regression_Female",
           "age"
          ],
          [
           0.04489429703335647,
           "Logistic Regression_Female",
           "age"
          ],
          [
           0.04489429703335647,
           "Logistic Regression_Female",
           "age"
          ],
          [
           0.04489429703335647,
           "Logistic Regression_Female",
           "age"
          ],
          [
           0.04489429703335647,
           "Logistic Regression_Female",
           "age"
          ],
          [
           0.04489429703335647,
           "Logistic Regression_Female",
           "age"
          ],
          [
           0.04489429703335647,
           "Logistic Regression_Female",
           "age"
          ],
          [
           0.04489429703335647,
           "Logistic Regression_Female",
           "age"
          ],
          [
           0.04489429703335647,
           "Logistic Regression_Female",
           "age"
          ],
          [
           0.04489429703335647,
           "Logistic Regression_Female",
           "age"
          ],
          [
           0.04489429703335647,
           "Logistic Regression_Female",
           "age"
          ],
          [
           0.04489429703335647,
           "Logistic Regression_Female",
           "age"
          ],
          [
           0.04489429703335647,
           "Logistic Regression_Female",
           "age"
          ],
          [
           0.04489429703335647,
           "Logistic Regression_Female",
           "age"
          ],
          [
           0.04489429703335647,
           "Logistic Regression_Female",
           "age"
          ],
          [
           0.04489429703335647,
           "Logistic Regression_Female",
           "age"
          ],
          [
           0.04489429703335647,
           "Logistic Regression_Female",
           "age"
          ],
          [
           0.04489429703335647,
           "Logistic Regression_Female",
           "age"
          ],
          [
           0.04489429703335647,
           "Logistic Regression_Female",
           "age"
          ],
          [
           0.04489429703335647,
           "Logistic Regression_Female",
           "age"
          ],
          [
           0.04489429703335647,
           "Logistic Regression_Female",
           "age"
          ],
          [
           0.04489429703335647,
           "Logistic Regression_Female",
           "age"
          ],
          [
           0.04489429703335647,
           "Logistic Regression_Female",
           "age"
          ],
          [
           0.04489429703335647,
           "Logistic Regression_Female",
           "age"
          ],
          [
           0.04489429703335647,
           "Logistic Regression_Female",
           "age"
          ],
          [
           0.04489429703335647,
           "Logistic Regression_Female",
           "age"
          ],
          [
           0.04489429703335647,
           "Logistic Regression_Female",
           "age"
          ],
          [
           0.04489429703335647,
           "Logistic Regression_Female",
           "age"
          ],
          [
           0.04489429703335647,
           "Logistic Regression_Female",
           "age"
          ],
          [
           0.04489429703335647,
           "Logistic Regression_Female",
           "age"
          ],
          [
           0.04489429703335647,
           "Logistic Regression_Female",
           "age"
          ],
          [
           0.04489429703335647,
           "Logistic Regression_Female",
           "age"
          ],
          [
           0.04489429703335647,
           "Logistic Regression_Female",
           "age"
          ],
          [
           0.04489429703335647,
           "Logistic Regression_Female",
           "age"
          ],
          [
           0.04489429703335647,
           "Logistic Regression_Female",
           "age"
          ],
          [
           0.04489429703335647,
           "Logistic Regression_Female",
           "age"
          ],
          [
           0.04489429703335647,
           "Logistic Regression_Female",
           "age"
          ],
          [
           0.04489429703335647,
           "Logistic Regression_Female",
           "age"
          ],
          [
           0.04489429703335647,
           "Logistic Regression_Female",
           "age"
          ],
          [
           0.04489429703335647,
           "Logistic Regression_Female",
           "age"
          ],
          [
           0.04489429703335647,
           "Logistic Regression_Female",
           "age"
          ],
          [
           0.04489429703335647,
           "Logistic Regression_Female",
           "age"
          ],
          [
           0.04489429703335647,
           "Logistic Regression_Female",
           "age"
          ],
          [
           0.04489429703335647,
           "Logistic Regression_Female",
           "age"
          ],
          [
           0.04489429703335647,
           "Logistic Regression_Female",
           "age"
          ],
          [
           0.04489429703335647,
           "Logistic Regression_Female",
           "age"
          ],
          [
           0.04489429703335647,
           "Logistic Regression_Female",
           "age"
          ],
          [
           0.04489429703335647,
           "Logistic Regression_Female",
           "age"
          ]
         ],
         "hovertemplate": "<b>%{hovertext}</b><br><br>prediction=%{y:.3f}<br>mean_prediction=%{customdata[0]:.3f}<extra></extra>",
         "hovertext": [
          "Logistic Regression_Female",
          "Logistic Regression_Female",
          "Logistic Regression_Female",
          "Logistic Regression_Female",
          "Logistic Regression_Female",
          "Logistic Regression_Female",
          "Logistic Regression_Female",
          "Logistic Regression_Female",
          "Logistic Regression_Female",
          "Logistic Regression_Female",
          "Logistic Regression_Female",
          "Logistic Regression_Female",
          "Logistic Regression_Female",
          "Logistic Regression_Female",
          "Logistic Regression_Female",
          "Logistic Regression_Female",
          "Logistic Regression_Female",
          "Logistic Regression_Female",
          "Logistic Regression_Female",
          "Logistic Regression_Female",
          "Logistic Regression_Female",
          "Logistic Regression_Female",
          "Logistic Regression_Female",
          "Logistic Regression_Female",
          "Logistic Regression_Female",
          "Logistic Regression_Female",
          "Logistic Regression_Female",
          "Logistic Regression_Female",
          "Logistic Regression_Female",
          "Logistic Regression_Female",
          "Logistic Regression_Female",
          "Logistic Regression_Female",
          "Logistic Regression_Female",
          "Logistic Regression_Female",
          "Logistic Regression_Female",
          "Logistic Regression_Female",
          "Logistic Regression_Female",
          "Logistic Regression_Female",
          "Logistic Regression_Female",
          "Logistic Regression_Female",
          "Logistic Regression_Female",
          "Logistic Regression_Female",
          "Logistic Regression_Female",
          "Logistic Regression_Female",
          "Logistic Regression_Female",
          "Logistic Regression_Female",
          "Logistic Regression_Female",
          "Logistic Regression_Female",
          "Logistic Regression_Female",
          "Logistic Regression_Female",
          "Logistic Regression_Female",
          "Logistic Regression_Female",
          "Logistic Regression_Female",
          "Logistic Regression_Female",
          "Logistic Regression_Female",
          "Logistic Regression_Female",
          "Logistic Regression_Female",
          "Logistic Regression_Female",
          "Logistic Regression_Female",
          "Logistic Regression_Female",
          "Logistic Regression_Female",
          "Logistic Regression_Female",
          "Logistic Regression_Female",
          "Logistic Regression_Female",
          "Logistic Regression_Female",
          "Logistic Regression_Female",
          "Logistic Regression_Female",
          "Logistic Regression_Female",
          "Logistic Regression_Female",
          "Logistic Regression_Female",
          "Logistic Regression_Female",
          "Logistic Regression_Female",
          "Logistic Regression_Female",
          "Logistic Regression_Female",
          "Logistic Regression_Female",
          "Logistic Regression_Female",
          "Logistic Regression_Female",
          "Logistic Regression_Female",
          "Logistic Regression_Female",
          "Logistic Regression_Female",
          "Logistic Regression_Female",
          "Logistic Regression_Female",
          "Logistic Regression_Female",
          "Logistic Regression_Female",
          "Logistic Regression_Female",
          "Logistic Regression_Female",
          "Logistic Regression_Female",
          "Logistic Regression_Female",
          "Logistic Regression_Female",
          "Logistic Regression_Female",
          "Logistic Regression_Female",
          "Logistic Regression_Female",
          "Logistic Regression_Female",
          "Logistic Regression_Female",
          "Logistic Regression_Female",
          "Logistic Regression_Female",
          "Logistic Regression_Female",
          "Logistic Regression_Female",
          "Logistic Regression_Female",
          "Logistic Regression_Female",
          "Logistic Regression_Female"
         ],
         "legendgroup": "Logistic Regression_Female",
         "line": {
          "color": "#4378bf",
          "dash": "solid",
          "width": 2
         },
         "marker": {
          "symbol": "circle"
         },
         "mode": "lines",
         "name": "Logistic Regression_Female",
         "opacity": 1,
         "orientation": "v",
         "showlegend": true,
         "type": "scatter",
         "x": [
          0.24,
          1.0576,
          1.8752000000000002,
          2.6928,
          3.5104000000000006,
          4.328000000000001,
          5.145600000000001,
          5.9632000000000005,
          6.780800000000001,
          7.598400000000002,
          8.416000000000002,
          9.233600000000001,
          10.051200000000001,
          10.868800000000002,
          11.6864,
          12.504000000000001,
          13.321600000000002,
          14.139200000000002,
          14.956800000000003,
          15.774400000000002,
          16.592000000000002,
          17.4096,
          18.2272,
          19.044800000000002,
          19.8624,
          20.68,
          21.497600000000002,
          22.3152,
          23.1328,
          23.950400000000002,
          24.768,
          25.585600000000003,
          26.403200000000002,
          27.2208,
          28.038400000000003,
          28.856,
          29.673600000000004,
          30.491200000000003,
          31.3088,
          32.126400000000004,
          32.94400000000001,
          33.76160000000001,
          34.57920000000001,
          35.396800000000006,
          36.214400000000005,
          37.032000000000004,
          37.84960000000001,
          38.66720000000001,
          39.48480000000001,
          40.302400000000006,
          41.120000000000005,
          41.93760000000001,
          42.75520000000001,
          43.57280000000001,
          44.39040000000001,
          45.208000000000006,
          46.025600000000004,
          46.84320000000001,
          47.66080000000001,
          48.47840000000001,
          49.29600000000001,
          50.113600000000005,
          50.93120000000001,
          51.74880000000001,
          52.56640000000001,
          53.38400000000001,
          54.201600000000006,
          55.01920000000001,
          55.83680000000001,
          56.65440000000001,
          57.47200000000001,
          58.28960000000001,
          59.10720000000001,
          59.92480000000001,
          60.74240000000001,
          61.56000000000001,
          62.37760000000001,
          63.19520000000001,
          64.01280000000001,
          64.8304,
          65.64800000000001,
          66.46560000000001,
          67.28320000000001,
          68.1008,
          68.9184,
          69.736,
          70.5536,
          71.3712,
          72.1888,
          73.0064,
          73.824,
          74.64160000000001,
          75.45920000000001,
          76.27680000000001,
          77.09440000000001,
          77.912,
          78.7296,
          79.5472,
          80.3648,
          81.1824,
          82
         ],
         "xaxis": "x",
         "y": [
          0.0027192421537761053,
          0.002840066401178103,
          0.002966232188899452,
          0.0030979732238977523,
          0.003235533219636187,
          0.0033791663049662617,
          0.0035291374479697805,
          0.0036857228951487574,
          0.0038492106263467757,
          0.004019900825778095,
          0.004198106369531487,
          0.004384153329904156,
          0.004578381496906943,
          0.004781144917264958,
          0.0049928124512178445,
          0.005213768347400527,
          0.005444412836058401,
          0.005685162740820156,
          0.005936452109216482,
          0.006198732862093453,
          0.006472475462025077,
          0.006758169600780075,
          0.007056324905842878,
          0.007367471665927966,
          0.0076921615753593455,
          0.008030968497113178,
          0.008384489244240446,
          0.008753344379298133,
          0.009138179031321046,
          0.009539663729761717,
          0.009958495254712546,
          0.010395397502601999,
          0.010851122366424796,
          0.011326450629424584,
          0.011822192870995762,
          0.012339190383409127,
          0.01287831609779323,
          0.013440475517619588,
          0.014026607657745275,
          0.0146376859868603,
          0.015274719370970137,
          0.015938753015315117,
          0.016630869401888994,
          0.017352189219467982,
          0.01810387228280064,
          0.018887118437336693,
          0.019703168445591616,
          0.02055330485095233,
          0.02143885281443002,
          0.02236118091955797,
          0.0233217019403182,
          0.024321873566659855,
          0.025363199081847237,
          0.026447227985546773,
          0.027575556556231322,
          0.02874982834614935,
          0.02997173460177633,
          0.03124301460233887,
          0.03256545590867957,
          0.033940894514415565,
          0.03537121489103659,
          0.03685834991829292,
          0.03840428069094096,
          0.040011036192647016,
          0.04168069282760035,
          0.04341537380015751,
          0.04521724833263325,
          0.04708853071117224,
          0.049031479149482235,
          0.051048394460087174,
          0.05314161852266926,
          0.055313532539017475,
          0.05756655506408825,
          0.0599031398027153,
          0.0623257731615865,
          0.06483697154623615,
          0.0674392783929905,
          0.07013526092605463,
          0.0729275066302465,
          0.07581861943027628,
          0.07881121556794282,
          0.08190791916917722,
          0.08511135749352539,
          0.088424155859419,
          0.09184893223946412,
          0.09538829152097514,
          0.09904481942811635,
          0.1028210761032907,
          0.10671958934684715,
          0.11074284751577304,
          0.11489329208380679,
          0.11917330986735507,
          0.12358522492373772,
          0.12813129013061725,
          0.13281367845799838,
          0.1376344739469161,
          0.14259566241185648,
          0.14769912188707626,
          0.15294661284029215,
          0.15833976818068665,
          0.16388008309180813
         ],
         "yaxis": "y"
        }
       ],
       "layout": {
        "annotations": [
         {
          "font": {
           "size": 13
          },
          "showarrow": false,
          "text": "age",
          "x": 0.5,
          "xanchor": "center",
          "xref": "paper",
          "y": 1,
          "yanchor": "bottom",
          "yref": "paper"
         },
         {
          "font": {
           "size": 13
          },
          "showarrow": false,
          "text": "prediction",
          "textangle": -90,
          "x": -0.07,
          "xref": "paper",
          "y": 0.5,
          "yref": "paper"
         }
        ],
        "font": {
         "color": "#371ea3"
        },
        "height": 489,
        "hovermode": "x unified",
        "legend": {
         "font": {
          "size": 11
         },
         "itemsizing": "constant",
         "orientation": "h",
         "title": {
          "font": {
           "size": 12
          },
          "text": "label"
         },
         "tracegroupgap": 0,
         "x": 1,
         "xanchor": "right",
         "y": 1.0613496932515338,
         "yanchor": "bottom"
        },
        "margin": {
         "b": 71,
         "r": 30,
         "t": 78
        },
        "template": {
         "data": {
          "scatter": [
           {
            "type": "scatter"
           }
          ]
         }
        },
        "title": {
         "font": {
          "size": 16
         },
         "text": "PDP for age with gender groups",
         "x": 0.15
        },
        "xaxis": {
         "anchor": "y",
         "automargin": true,
         "domain": [
          0,
          1
         ],
         "fixedrange": true,
         "gridwidth": 2,
         "showticklabels": true,
         "tickcolor": "white",
         "ticklen": 3,
         "ticks": "outside",
         "title": {
          "text": ""
         },
         "type": "linear",
         "zeroline": false
        },
        "yaxis": {
         "anchor": "x",
         "automargin": true,
         "domain": [
          0,
          1
         ],
         "fixedrange": true,
         "gridwidth": 2,
         "range": [
          -0.013587065912526586,
          0.18001346027402038
         ],
         "tickcolor": "white",
         "ticklen": 3,
         "ticks": "outside",
         "title": {
          "text": ""
         },
         "type": "linear",
         "zeroline": false
        }
       }
      }
     },
     "metadata": {},
     "output_type": "display_data"
    }
   ],
   "source": [
    "X_train['gender_text'] = X_train['gender'].map({0: 'Female', 1: 'Male'})\n",
    "\n",
    "# Użycie tej kolumny do grupowania\n",
    "pdp_age_gender = exp.model_profile(variables=['age'], groups='gender')\n",
    "pdp_age_gender.plot(title=\"PDP for age with gender groups\")"
   ]
  },
  {
   "cell_type": "code",
   "execution_count": 237,
   "metadata": {},
   "outputs": [
    {
     "name": "stderr",
     "output_type": "stream",
     "text": [
      "Calculating ceteris paribus: 100%|██████████| 1/1 [00:00<00:00, 19.62it/s]\n"
     ]
    },
    {
     "data": {
      "application/vnd.plotly.v1+json": {
       "config": {
        "displaylogo": false,
        "modeBarButtonsToRemove": [
         "sendDataToCloud",
         "lasso2d",
         "autoScale2d",
         "select2d",
         "zoom2d",
         "pan2d",
         "zoomIn2d",
         "zoomOut2d",
         "resetScale2d",
         "toggleSpikelines",
         "hoverCompareCartesian",
         "hoverClosestCartesian"
        ],
        "plotlyServerURL": "https://plot.ly",
        "staticPlot": false,
        "toImageButtonOptions": {
         "height": null,
         "width": null
        }
       },
       "data": [
        {
         "customdata": [
          [
           0.04654638285139218,
           "Logistic Regression_Rural",
           "age"
          ],
          [
           0.04654638285139218,
           "Logistic Regression_Rural",
           "age"
          ],
          [
           0.04654638285139218,
           "Logistic Regression_Rural",
           "age"
          ],
          [
           0.04654638285139218,
           "Logistic Regression_Rural",
           "age"
          ],
          [
           0.04654638285139218,
           "Logistic Regression_Rural",
           "age"
          ],
          [
           0.04654638285139218,
           "Logistic Regression_Rural",
           "age"
          ],
          [
           0.04654638285139218,
           "Logistic Regression_Rural",
           "age"
          ],
          [
           0.04654638285139218,
           "Logistic Regression_Rural",
           "age"
          ],
          [
           0.04654638285139218,
           "Logistic Regression_Rural",
           "age"
          ],
          [
           0.04654638285139218,
           "Logistic Regression_Rural",
           "age"
          ],
          [
           0.04654638285139218,
           "Logistic Regression_Rural",
           "age"
          ],
          [
           0.04654638285139218,
           "Logistic Regression_Rural",
           "age"
          ],
          [
           0.04654638285139218,
           "Logistic Regression_Rural",
           "age"
          ],
          [
           0.04654638285139218,
           "Logistic Regression_Rural",
           "age"
          ],
          [
           0.04654638285139218,
           "Logistic Regression_Rural",
           "age"
          ],
          [
           0.04654638285139218,
           "Logistic Regression_Rural",
           "age"
          ],
          [
           0.04654638285139218,
           "Logistic Regression_Rural",
           "age"
          ],
          [
           0.04654638285139218,
           "Logistic Regression_Rural",
           "age"
          ],
          [
           0.04654638285139218,
           "Logistic Regression_Rural",
           "age"
          ],
          [
           0.04654638285139218,
           "Logistic Regression_Rural",
           "age"
          ],
          [
           0.04654638285139218,
           "Logistic Regression_Rural",
           "age"
          ],
          [
           0.04654638285139218,
           "Logistic Regression_Rural",
           "age"
          ],
          [
           0.04654638285139218,
           "Logistic Regression_Rural",
           "age"
          ],
          [
           0.04654638285139218,
           "Logistic Regression_Rural",
           "age"
          ],
          [
           0.04654638285139218,
           "Logistic Regression_Rural",
           "age"
          ],
          [
           0.04654638285139218,
           "Logistic Regression_Rural",
           "age"
          ],
          [
           0.04654638285139218,
           "Logistic Regression_Rural",
           "age"
          ],
          [
           0.04654638285139218,
           "Logistic Regression_Rural",
           "age"
          ],
          [
           0.04654638285139218,
           "Logistic Regression_Rural",
           "age"
          ],
          [
           0.04654638285139218,
           "Logistic Regression_Rural",
           "age"
          ],
          [
           0.04654638285139218,
           "Logistic Regression_Rural",
           "age"
          ],
          [
           0.04654638285139218,
           "Logistic Regression_Rural",
           "age"
          ],
          [
           0.04654638285139218,
           "Logistic Regression_Rural",
           "age"
          ],
          [
           0.04654638285139218,
           "Logistic Regression_Rural",
           "age"
          ],
          [
           0.04654638285139218,
           "Logistic Regression_Rural",
           "age"
          ],
          [
           0.04654638285139218,
           "Logistic Regression_Rural",
           "age"
          ],
          [
           0.04654638285139218,
           "Logistic Regression_Rural",
           "age"
          ],
          [
           0.04654638285139218,
           "Logistic Regression_Rural",
           "age"
          ],
          [
           0.04654638285139218,
           "Logistic Regression_Rural",
           "age"
          ],
          [
           0.04654638285139218,
           "Logistic Regression_Rural",
           "age"
          ],
          [
           0.04654638285139218,
           "Logistic Regression_Rural",
           "age"
          ],
          [
           0.04654638285139218,
           "Logistic Regression_Rural",
           "age"
          ],
          [
           0.04654638285139218,
           "Logistic Regression_Rural",
           "age"
          ],
          [
           0.04654638285139218,
           "Logistic Regression_Rural",
           "age"
          ],
          [
           0.04654638285139218,
           "Logistic Regression_Rural",
           "age"
          ],
          [
           0.04654638285139218,
           "Logistic Regression_Rural",
           "age"
          ],
          [
           0.04654638285139218,
           "Logistic Regression_Rural",
           "age"
          ],
          [
           0.04654638285139218,
           "Logistic Regression_Rural",
           "age"
          ],
          [
           0.04654638285139218,
           "Logistic Regression_Rural",
           "age"
          ],
          [
           0.04654638285139218,
           "Logistic Regression_Rural",
           "age"
          ],
          [
           0.04654638285139218,
           "Logistic Regression_Rural",
           "age"
          ],
          [
           0.04654638285139218,
           "Logistic Regression_Rural",
           "age"
          ],
          [
           0.04654638285139218,
           "Logistic Regression_Rural",
           "age"
          ],
          [
           0.04654638285139218,
           "Logistic Regression_Rural",
           "age"
          ],
          [
           0.04654638285139218,
           "Logistic Regression_Rural",
           "age"
          ],
          [
           0.04654638285139218,
           "Logistic Regression_Rural",
           "age"
          ],
          [
           0.04654638285139218,
           "Logistic Regression_Rural",
           "age"
          ],
          [
           0.04654638285139218,
           "Logistic Regression_Rural",
           "age"
          ],
          [
           0.04654638285139218,
           "Logistic Regression_Rural",
           "age"
          ],
          [
           0.04654638285139218,
           "Logistic Regression_Rural",
           "age"
          ],
          [
           0.04654638285139218,
           "Logistic Regression_Rural",
           "age"
          ],
          [
           0.04654638285139218,
           "Logistic Regression_Rural",
           "age"
          ],
          [
           0.04654638285139218,
           "Logistic Regression_Rural",
           "age"
          ],
          [
           0.04654638285139218,
           "Logistic Regression_Rural",
           "age"
          ],
          [
           0.04654638285139218,
           "Logistic Regression_Rural",
           "age"
          ],
          [
           0.04654638285139218,
           "Logistic Regression_Rural",
           "age"
          ],
          [
           0.04654638285139218,
           "Logistic Regression_Rural",
           "age"
          ],
          [
           0.04654638285139218,
           "Logistic Regression_Rural",
           "age"
          ],
          [
           0.04654638285139218,
           "Logistic Regression_Rural",
           "age"
          ],
          [
           0.04654638285139218,
           "Logistic Regression_Rural",
           "age"
          ],
          [
           0.04654638285139218,
           "Logistic Regression_Rural",
           "age"
          ],
          [
           0.04654638285139218,
           "Logistic Regression_Rural",
           "age"
          ],
          [
           0.04654638285139218,
           "Logistic Regression_Rural",
           "age"
          ],
          [
           0.04654638285139218,
           "Logistic Regression_Rural",
           "age"
          ],
          [
           0.04654638285139218,
           "Logistic Regression_Rural",
           "age"
          ],
          [
           0.04654638285139218,
           "Logistic Regression_Rural",
           "age"
          ],
          [
           0.04654638285139218,
           "Logistic Regression_Rural",
           "age"
          ],
          [
           0.04654638285139218,
           "Logistic Regression_Rural",
           "age"
          ],
          [
           0.04654638285139218,
           "Logistic Regression_Rural",
           "age"
          ],
          [
           0.04654638285139218,
           "Logistic Regression_Rural",
           "age"
          ],
          [
           0.04654638285139218,
           "Logistic Regression_Rural",
           "age"
          ],
          [
           0.04654638285139218,
           "Logistic Regression_Rural",
           "age"
          ],
          [
           0.04654638285139218,
           "Logistic Regression_Rural",
           "age"
          ],
          [
           0.04654638285139218,
           "Logistic Regression_Rural",
           "age"
          ],
          [
           0.04654638285139218,
           "Logistic Regression_Rural",
           "age"
          ],
          [
           0.04654638285139218,
           "Logistic Regression_Rural",
           "age"
          ],
          [
           0.04654638285139218,
           "Logistic Regression_Rural",
           "age"
          ],
          [
           0.04654638285139218,
           "Logistic Regression_Rural",
           "age"
          ],
          [
           0.04654638285139218,
           "Logistic Regression_Rural",
           "age"
          ],
          [
           0.04654638285139218,
           "Logistic Regression_Rural",
           "age"
          ],
          [
           0.04654638285139218,
           "Logistic Regression_Rural",
           "age"
          ],
          [
           0.04654638285139218,
           "Logistic Regression_Rural",
           "age"
          ],
          [
           0.04654638285139218,
           "Logistic Regression_Rural",
           "age"
          ],
          [
           0.04654638285139218,
           "Logistic Regression_Rural",
           "age"
          ],
          [
           0.04654638285139218,
           "Logistic Regression_Rural",
           "age"
          ],
          [
           0.04654638285139218,
           "Logistic Regression_Rural",
           "age"
          ],
          [
           0.04654638285139218,
           "Logistic Regression_Rural",
           "age"
          ],
          [
           0.04654638285139218,
           "Logistic Regression_Rural",
           "age"
          ],
          [
           0.04654638285139218,
           "Logistic Regression_Rural",
           "age"
          ],
          [
           0.04654638285139218,
           "Logistic Regression_Rural",
           "age"
          ],
          [
           0.04654638285139218,
           "Logistic Regression_Rural",
           "age"
          ]
         ],
         "hovertemplate": "<b>%{hovertext}</b><br><br>prediction=%{y:.3f}<br>mean_prediction=%{customdata[0]:.3f}<extra></extra>",
         "hovertext": [
          "Logistic Regression_Rural",
          "Logistic Regression_Rural",
          "Logistic Regression_Rural",
          "Logistic Regression_Rural",
          "Logistic Regression_Rural",
          "Logistic Regression_Rural",
          "Logistic Regression_Rural",
          "Logistic Regression_Rural",
          "Logistic Regression_Rural",
          "Logistic Regression_Rural",
          "Logistic Regression_Rural",
          "Logistic Regression_Rural",
          "Logistic Regression_Rural",
          "Logistic Regression_Rural",
          "Logistic Regression_Rural",
          "Logistic Regression_Rural",
          "Logistic Regression_Rural",
          "Logistic Regression_Rural",
          "Logistic Regression_Rural",
          "Logistic Regression_Rural",
          "Logistic Regression_Rural",
          "Logistic Regression_Rural",
          "Logistic Regression_Rural",
          "Logistic Regression_Rural",
          "Logistic Regression_Rural",
          "Logistic Regression_Rural",
          "Logistic Regression_Rural",
          "Logistic Regression_Rural",
          "Logistic Regression_Rural",
          "Logistic Regression_Rural",
          "Logistic Regression_Rural",
          "Logistic Regression_Rural",
          "Logistic Regression_Rural",
          "Logistic Regression_Rural",
          "Logistic Regression_Rural",
          "Logistic Regression_Rural",
          "Logistic Regression_Rural",
          "Logistic Regression_Rural",
          "Logistic Regression_Rural",
          "Logistic Regression_Rural",
          "Logistic Regression_Rural",
          "Logistic Regression_Rural",
          "Logistic Regression_Rural",
          "Logistic Regression_Rural",
          "Logistic Regression_Rural",
          "Logistic Regression_Rural",
          "Logistic Regression_Rural",
          "Logistic Regression_Rural",
          "Logistic Regression_Rural",
          "Logistic Regression_Rural",
          "Logistic Regression_Rural",
          "Logistic Regression_Rural",
          "Logistic Regression_Rural",
          "Logistic Regression_Rural",
          "Logistic Regression_Rural",
          "Logistic Regression_Rural",
          "Logistic Regression_Rural",
          "Logistic Regression_Rural",
          "Logistic Regression_Rural",
          "Logistic Regression_Rural",
          "Logistic Regression_Rural",
          "Logistic Regression_Rural",
          "Logistic Regression_Rural",
          "Logistic Regression_Rural",
          "Logistic Regression_Rural",
          "Logistic Regression_Rural",
          "Logistic Regression_Rural",
          "Logistic Regression_Rural",
          "Logistic Regression_Rural",
          "Logistic Regression_Rural",
          "Logistic Regression_Rural",
          "Logistic Regression_Rural",
          "Logistic Regression_Rural",
          "Logistic Regression_Rural",
          "Logistic Regression_Rural",
          "Logistic Regression_Rural",
          "Logistic Regression_Rural",
          "Logistic Regression_Rural",
          "Logistic Regression_Rural",
          "Logistic Regression_Rural",
          "Logistic Regression_Rural",
          "Logistic Regression_Rural",
          "Logistic Regression_Rural",
          "Logistic Regression_Rural",
          "Logistic Regression_Rural",
          "Logistic Regression_Rural",
          "Logistic Regression_Rural",
          "Logistic Regression_Rural",
          "Logistic Regression_Rural",
          "Logistic Regression_Rural",
          "Logistic Regression_Rural",
          "Logistic Regression_Rural",
          "Logistic Regression_Rural",
          "Logistic Regression_Rural",
          "Logistic Regression_Rural",
          "Logistic Regression_Rural",
          "Logistic Regression_Rural",
          "Logistic Regression_Rural",
          "Logistic Regression_Rural",
          "Logistic Regression_Rural",
          "Logistic Regression_Rural"
         ],
         "legendgroup": "Logistic Regression_Rural",
         "line": {
          "color": "#8bdcbe",
          "dash": "solid",
          "width": 2
         },
         "marker": {
          "symbol": "circle"
         },
         "mode": "lines",
         "name": "Logistic Regression_Rural",
         "opacity": 1,
         "orientation": "v",
         "showlegend": true,
         "type": "scatter",
         "x": [
          0.24,
          1.0576,
          1.8752000000000002,
          2.6928,
          3.5104000000000006,
          4.328000000000001,
          5.145600000000001,
          5.9632000000000005,
          6.780800000000001,
          7.598400000000002,
          8.416000000000002,
          9.233600000000001,
          10.051200000000001,
          10.868800000000002,
          11.6864,
          12.504000000000001,
          13.321600000000002,
          14.139200000000002,
          14.956800000000003,
          15.774400000000002,
          16.592000000000002,
          17.4096,
          18.2272,
          19.044800000000002,
          19.8624,
          20.68,
          21.497600000000002,
          22.3152,
          23.1328,
          23.950400000000002,
          24.768,
          25.585600000000003,
          26.403200000000002,
          27.2208,
          28.038400000000003,
          28.856,
          29.673600000000004,
          30.491200000000003,
          31.3088,
          32.126400000000004,
          32.94400000000001,
          33.76160000000001,
          34.57920000000001,
          35.396800000000006,
          36.214400000000005,
          37.032000000000004,
          37.84960000000001,
          38.66720000000001,
          39.48480000000001,
          40.302400000000006,
          41.120000000000005,
          41.93760000000001,
          42.75520000000001,
          43.57280000000001,
          44.39040000000001,
          45.208000000000006,
          46.025600000000004,
          46.84320000000001,
          47.66080000000001,
          48.47840000000001,
          49.29600000000001,
          50.113600000000005,
          50.93120000000001,
          51.74880000000001,
          52.56640000000001,
          53.38400000000001,
          54.201600000000006,
          55.01920000000001,
          55.83680000000001,
          56.65440000000001,
          57.47200000000001,
          58.28960000000001,
          59.10720000000001,
          59.92480000000001,
          60.74240000000001,
          61.56000000000001,
          62.37760000000001,
          63.19520000000001,
          64.01280000000001,
          64.8304,
          65.64800000000001,
          66.46560000000001,
          67.28320000000001,
          68.1008,
          68.9184,
          69.736,
          70.5536,
          71.3712,
          72.1888,
          73.0064,
          73.824,
          74.64160000000001,
          75.45920000000001,
          76.27680000000001,
          77.09440000000001,
          77.912,
          78.7296,
          79.5472,
          80.3648,
          81.1824,
          82
         ],
         "xaxis": "x",
         "y": [
          0.0024577913191022854,
          0.0025670463625434227,
          0.002681135807936544,
          0.0028002715636551486,
          0.0029246746463604915,
          0.0030545755563545947,
          0.0031902146669580966,
          0.003331842628306291,
          0.0034797207859553056,
          0.003634121614687332,
          0.0037953291678992094,
          0.003963639542952071,
          0.004139361362851322,
          0.004322816274615257,
          0.004514339464677495,
          0.004714280191652394,
          0.004923002336773707,
          0.005140884972294758,
          0.0053683229481128105,
          0.0056057274968511215,
          0.005853526857598824,
          0.006112166918471229,
          0.006382111878110765,
          0.006663844926201496,
          0.006957868943017509,
          0.007264707217967061,
          0.007584904187029882,
          0.00791902618891416,
          0.00826766223968186,
          0.00863142482550607,
          0.009010950713131311,
          0.009406901777507167,
          0.009819965845956333,
          0.010250857558120404,
          0.010700319240799588,
          0.01116912179666585,
          0.011658065605682765,
          0.01216798143790846,
          0.01269973137619118,
          0.01325420974708911,
          0.013832344058157529,
          0.014435095939546613,
          0.01506346208764242,
          0.01571847520826143,
          0.016401204956676012,
          0.017112758871503753,
          0.017854283299238594,
          0.018626964305935922,
          0.01943202857228785,
          0.020270744268039074,
          0.021144421901398928,
          0.02205441513880146,
          0.023002121590054367,
          0.023988983553599328,
          0.025016488716282193,
          0.02608617080170297,
          0.027199610160883056,
          0.028358434298652934,
          0.029564318328828387,
          0.03081898535090933,
          0.03212420674070333,
          0.03348180234694926,
          0.03489364058569513,
          0.03636163842387163,
          0.037887761243200736,
          0.039474022575288634,
          0.04112248369847743,
          0.042835253086772614,
          0.04461448570092473,
          0.046462382111529046,
          0.048381187443815935,
          0.05037319013364307,
          0.05244072048407018,
          0.05458614901180077,
          0.05681188457271858,
          0.05912037225573168,
          0.06151409103416956,
          0.06399555116406254,
          0.06656729131877413,
          0.06923187544966035,
          0.07199188936270404,
          0.0748499370014183,
          0.07780863642674915,
          0.08087061548522705,
          0.08403850715724359,
          0.08731494457806084,
          0.09070255572501418,
          0.0942039577653505,
          0.09782175106026561,
          0.10155851282197652,
          0.1054167904220985,
          0.10939909435120146,
          0.11350789083120716,
          0.11774559408426714,
          0.12211455826393493,
          0.12661706905682843,
          0.1312553349655651,
          0.13603147828655215,
          0.14094752579922004,
          0.14600539918649877,
          0.15120690520974045
         ],
         "yaxis": "y"
        },
        {
         "customdata": [
          [
           0.04654638285139218,
           "Logistic Regression_Urban",
           "age"
          ],
          [
           0.04654638285139218,
           "Logistic Regression_Urban",
           "age"
          ],
          [
           0.04654638285139218,
           "Logistic Regression_Urban",
           "age"
          ],
          [
           0.04654638285139218,
           "Logistic Regression_Urban",
           "age"
          ],
          [
           0.04654638285139218,
           "Logistic Regression_Urban",
           "age"
          ],
          [
           0.04654638285139218,
           "Logistic Regression_Urban",
           "age"
          ],
          [
           0.04654638285139218,
           "Logistic Regression_Urban",
           "age"
          ],
          [
           0.04654638285139218,
           "Logistic Regression_Urban",
           "age"
          ],
          [
           0.04654638285139218,
           "Logistic Regression_Urban",
           "age"
          ],
          [
           0.04654638285139218,
           "Logistic Regression_Urban",
           "age"
          ],
          [
           0.04654638285139218,
           "Logistic Regression_Urban",
           "age"
          ],
          [
           0.04654638285139218,
           "Logistic Regression_Urban",
           "age"
          ],
          [
           0.04654638285139218,
           "Logistic Regression_Urban",
           "age"
          ],
          [
           0.04654638285139218,
           "Logistic Regression_Urban",
           "age"
          ],
          [
           0.04654638285139218,
           "Logistic Regression_Urban",
           "age"
          ],
          [
           0.04654638285139218,
           "Logistic Regression_Urban",
           "age"
          ],
          [
           0.04654638285139218,
           "Logistic Regression_Urban",
           "age"
          ],
          [
           0.04654638285139218,
           "Logistic Regression_Urban",
           "age"
          ],
          [
           0.04654638285139218,
           "Logistic Regression_Urban",
           "age"
          ],
          [
           0.04654638285139218,
           "Logistic Regression_Urban",
           "age"
          ],
          [
           0.04654638285139218,
           "Logistic Regression_Urban",
           "age"
          ],
          [
           0.04654638285139218,
           "Logistic Regression_Urban",
           "age"
          ],
          [
           0.04654638285139218,
           "Logistic Regression_Urban",
           "age"
          ],
          [
           0.04654638285139218,
           "Logistic Regression_Urban",
           "age"
          ],
          [
           0.04654638285139218,
           "Logistic Regression_Urban",
           "age"
          ],
          [
           0.04654638285139218,
           "Logistic Regression_Urban",
           "age"
          ],
          [
           0.04654638285139218,
           "Logistic Regression_Urban",
           "age"
          ],
          [
           0.04654638285139218,
           "Logistic Regression_Urban",
           "age"
          ],
          [
           0.04654638285139218,
           "Logistic Regression_Urban",
           "age"
          ],
          [
           0.04654638285139218,
           "Logistic Regression_Urban",
           "age"
          ],
          [
           0.04654638285139218,
           "Logistic Regression_Urban",
           "age"
          ],
          [
           0.04654638285139218,
           "Logistic Regression_Urban",
           "age"
          ],
          [
           0.04654638285139218,
           "Logistic Regression_Urban",
           "age"
          ],
          [
           0.04654638285139218,
           "Logistic Regression_Urban",
           "age"
          ],
          [
           0.04654638285139218,
           "Logistic Regression_Urban",
           "age"
          ],
          [
           0.04654638285139218,
           "Logistic Regression_Urban",
           "age"
          ],
          [
           0.04654638285139218,
           "Logistic Regression_Urban",
           "age"
          ],
          [
           0.04654638285139218,
           "Logistic Regression_Urban",
           "age"
          ],
          [
           0.04654638285139218,
           "Logistic Regression_Urban",
           "age"
          ],
          [
           0.04654638285139218,
           "Logistic Regression_Urban",
           "age"
          ],
          [
           0.04654638285139218,
           "Logistic Regression_Urban",
           "age"
          ],
          [
           0.04654638285139218,
           "Logistic Regression_Urban",
           "age"
          ],
          [
           0.04654638285139218,
           "Logistic Regression_Urban",
           "age"
          ],
          [
           0.04654638285139218,
           "Logistic Regression_Urban",
           "age"
          ],
          [
           0.04654638285139218,
           "Logistic Regression_Urban",
           "age"
          ],
          [
           0.04654638285139218,
           "Logistic Regression_Urban",
           "age"
          ],
          [
           0.04654638285139218,
           "Logistic Regression_Urban",
           "age"
          ],
          [
           0.04654638285139218,
           "Logistic Regression_Urban",
           "age"
          ],
          [
           0.04654638285139218,
           "Logistic Regression_Urban",
           "age"
          ],
          [
           0.04654638285139218,
           "Logistic Regression_Urban",
           "age"
          ],
          [
           0.04654638285139218,
           "Logistic Regression_Urban",
           "age"
          ],
          [
           0.04654638285139218,
           "Logistic Regression_Urban",
           "age"
          ],
          [
           0.04654638285139218,
           "Logistic Regression_Urban",
           "age"
          ],
          [
           0.04654638285139218,
           "Logistic Regression_Urban",
           "age"
          ],
          [
           0.04654638285139218,
           "Logistic Regression_Urban",
           "age"
          ],
          [
           0.04654638285139218,
           "Logistic Regression_Urban",
           "age"
          ],
          [
           0.04654638285139218,
           "Logistic Regression_Urban",
           "age"
          ],
          [
           0.04654638285139218,
           "Logistic Regression_Urban",
           "age"
          ],
          [
           0.04654638285139218,
           "Logistic Regression_Urban",
           "age"
          ],
          [
           0.04654638285139218,
           "Logistic Regression_Urban",
           "age"
          ],
          [
           0.04654638285139218,
           "Logistic Regression_Urban",
           "age"
          ],
          [
           0.04654638285139218,
           "Logistic Regression_Urban",
           "age"
          ],
          [
           0.04654638285139218,
           "Logistic Regression_Urban",
           "age"
          ],
          [
           0.04654638285139218,
           "Logistic Regression_Urban",
           "age"
          ],
          [
           0.04654638285139218,
           "Logistic Regression_Urban",
           "age"
          ],
          [
           0.04654638285139218,
           "Logistic Regression_Urban",
           "age"
          ],
          [
           0.04654638285139218,
           "Logistic Regression_Urban",
           "age"
          ],
          [
           0.04654638285139218,
           "Logistic Regression_Urban",
           "age"
          ],
          [
           0.04654638285139218,
           "Logistic Regression_Urban",
           "age"
          ],
          [
           0.04654638285139218,
           "Logistic Regression_Urban",
           "age"
          ],
          [
           0.04654638285139218,
           "Logistic Regression_Urban",
           "age"
          ],
          [
           0.04654638285139218,
           "Logistic Regression_Urban",
           "age"
          ],
          [
           0.04654638285139218,
           "Logistic Regression_Urban",
           "age"
          ],
          [
           0.04654638285139218,
           "Logistic Regression_Urban",
           "age"
          ],
          [
           0.04654638285139218,
           "Logistic Regression_Urban",
           "age"
          ],
          [
           0.04654638285139218,
           "Logistic Regression_Urban",
           "age"
          ],
          [
           0.04654638285139218,
           "Logistic Regression_Urban",
           "age"
          ],
          [
           0.04654638285139218,
           "Logistic Regression_Urban",
           "age"
          ],
          [
           0.04654638285139218,
           "Logistic Regression_Urban",
           "age"
          ],
          [
           0.04654638285139218,
           "Logistic Regression_Urban",
           "age"
          ],
          [
           0.04654638285139218,
           "Logistic Regression_Urban",
           "age"
          ],
          [
           0.04654638285139218,
           "Logistic Regression_Urban",
           "age"
          ],
          [
           0.04654638285139218,
           "Logistic Regression_Urban",
           "age"
          ],
          [
           0.04654638285139218,
           "Logistic Regression_Urban",
           "age"
          ],
          [
           0.04654638285139218,
           "Logistic Regression_Urban",
           "age"
          ],
          [
           0.04654638285139218,
           "Logistic Regression_Urban",
           "age"
          ],
          [
           0.04654638285139218,
           "Logistic Regression_Urban",
           "age"
          ],
          [
           0.04654638285139218,
           "Logistic Regression_Urban",
           "age"
          ],
          [
           0.04654638285139218,
           "Logistic Regression_Urban",
           "age"
          ],
          [
           0.04654638285139218,
           "Logistic Regression_Urban",
           "age"
          ],
          [
           0.04654638285139218,
           "Logistic Regression_Urban",
           "age"
          ],
          [
           0.04654638285139218,
           "Logistic Regression_Urban",
           "age"
          ],
          [
           0.04654638285139218,
           "Logistic Regression_Urban",
           "age"
          ],
          [
           0.04654638285139218,
           "Logistic Regression_Urban",
           "age"
          ],
          [
           0.04654638285139218,
           "Logistic Regression_Urban",
           "age"
          ],
          [
           0.04654638285139218,
           "Logistic Regression_Urban",
           "age"
          ],
          [
           0.04654638285139218,
           "Logistic Regression_Urban",
           "age"
          ],
          [
           0.04654638285139218,
           "Logistic Regression_Urban",
           "age"
          ],
          [
           0.04654638285139218,
           "Logistic Regression_Urban",
           "age"
          ],
          [
           0.04654638285139218,
           "Logistic Regression_Urban",
           "age"
          ],
          [
           0.04654638285139218,
           "Logistic Regression_Urban",
           "age"
          ]
         ],
         "hovertemplate": "<b>%{hovertext}</b><br><br>prediction=%{y:.3f}<br>mean_prediction=%{customdata[0]:.3f}<extra></extra>",
         "hovertext": [
          "Logistic Regression_Urban",
          "Logistic Regression_Urban",
          "Logistic Regression_Urban",
          "Logistic Regression_Urban",
          "Logistic Regression_Urban",
          "Logistic Regression_Urban",
          "Logistic Regression_Urban",
          "Logistic Regression_Urban",
          "Logistic Regression_Urban",
          "Logistic Regression_Urban",
          "Logistic Regression_Urban",
          "Logistic Regression_Urban",
          "Logistic Regression_Urban",
          "Logistic Regression_Urban",
          "Logistic Regression_Urban",
          "Logistic Regression_Urban",
          "Logistic Regression_Urban",
          "Logistic Regression_Urban",
          "Logistic Regression_Urban",
          "Logistic Regression_Urban",
          "Logistic Regression_Urban",
          "Logistic Regression_Urban",
          "Logistic Regression_Urban",
          "Logistic Regression_Urban",
          "Logistic Regression_Urban",
          "Logistic Regression_Urban",
          "Logistic Regression_Urban",
          "Logistic Regression_Urban",
          "Logistic Regression_Urban",
          "Logistic Regression_Urban",
          "Logistic Regression_Urban",
          "Logistic Regression_Urban",
          "Logistic Regression_Urban",
          "Logistic Regression_Urban",
          "Logistic Regression_Urban",
          "Logistic Regression_Urban",
          "Logistic Regression_Urban",
          "Logistic Regression_Urban",
          "Logistic Regression_Urban",
          "Logistic Regression_Urban",
          "Logistic Regression_Urban",
          "Logistic Regression_Urban",
          "Logistic Regression_Urban",
          "Logistic Regression_Urban",
          "Logistic Regression_Urban",
          "Logistic Regression_Urban",
          "Logistic Regression_Urban",
          "Logistic Regression_Urban",
          "Logistic Regression_Urban",
          "Logistic Regression_Urban",
          "Logistic Regression_Urban",
          "Logistic Regression_Urban",
          "Logistic Regression_Urban",
          "Logistic Regression_Urban",
          "Logistic Regression_Urban",
          "Logistic Regression_Urban",
          "Logistic Regression_Urban",
          "Logistic Regression_Urban",
          "Logistic Regression_Urban",
          "Logistic Regression_Urban",
          "Logistic Regression_Urban",
          "Logistic Regression_Urban",
          "Logistic Regression_Urban",
          "Logistic Regression_Urban",
          "Logistic Regression_Urban",
          "Logistic Regression_Urban",
          "Logistic Regression_Urban",
          "Logistic Regression_Urban",
          "Logistic Regression_Urban",
          "Logistic Regression_Urban",
          "Logistic Regression_Urban",
          "Logistic Regression_Urban",
          "Logistic Regression_Urban",
          "Logistic Regression_Urban",
          "Logistic Regression_Urban",
          "Logistic Regression_Urban",
          "Logistic Regression_Urban",
          "Logistic Regression_Urban",
          "Logistic Regression_Urban",
          "Logistic Regression_Urban",
          "Logistic Regression_Urban",
          "Logistic Regression_Urban",
          "Logistic Regression_Urban",
          "Logistic Regression_Urban",
          "Logistic Regression_Urban",
          "Logistic Regression_Urban",
          "Logistic Regression_Urban",
          "Logistic Regression_Urban",
          "Logistic Regression_Urban",
          "Logistic Regression_Urban",
          "Logistic Regression_Urban",
          "Logistic Regression_Urban",
          "Logistic Regression_Urban",
          "Logistic Regression_Urban",
          "Logistic Regression_Urban",
          "Logistic Regression_Urban",
          "Logistic Regression_Urban",
          "Logistic Regression_Urban",
          "Logistic Regression_Urban",
          "Logistic Regression_Urban",
          "Logistic Regression_Urban"
         ],
         "legendgroup": "Logistic Regression_Urban",
         "line": {
          "color": "#4378bf",
          "dash": "solid",
          "width": 2
         },
         "marker": {
          "symbol": "circle"
         },
         "mode": "lines",
         "name": "Logistic Regression_Urban",
         "opacity": 1,
         "orientation": "v",
         "showlegend": true,
         "type": "scatter",
         "x": [
          0.24,
          1.0576,
          1.8752000000000002,
          2.6928,
          3.5104000000000006,
          4.328000000000001,
          5.145600000000001,
          5.9632000000000005,
          6.780800000000001,
          7.598400000000002,
          8.416000000000002,
          9.233600000000001,
          10.051200000000001,
          10.868800000000002,
          11.6864,
          12.504000000000001,
          13.321600000000002,
          14.139200000000002,
          14.956800000000003,
          15.774400000000002,
          16.592000000000002,
          17.4096,
          18.2272,
          19.044800000000002,
          19.8624,
          20.68,
          21.497600000000002,
          22.3152,
          23.1328,
          23.950400000000002,
          24.768,
          25.585600000000003,
          26.403200000000002,
          27.2208,
          28.038400000000003,
          28.856,
          29.673600000000004,
          30.491200000000003,
          31.3088,
          32.126400000000004,
          32.94400000000001,
          33.76160000000001,
          34.57920000000001,
          35.396800000000006,
          36.214400000000005,
          37.032000000000004,
          37.84960000000001,
          38.66720000000001,
          39.48480000000001,
          40.302400000000006,
          41.120000000000005,
          41.93760000000001,
          42.75520000000001,
          43.57280000000001,
          44.39040000000001,
          45.208000000000006,
          46.025600000000004,
          46.84320000000001,
          47.66080000000001,
          48.47840000000001,
          49.29600000000001,
          50.113600000000005,
          50.93120000000001,
          51.74880000000001,
          52.56640000000001,
          53.38400000000001,
          54.201600000000006,
          55.01920000000001,
          55.83680000000001,
          56.65440000000001,
          57.47200000000001,
          58.28960000000001,
          59.10720000000001,
          59.92480000000001,
          60.74240000000001,
          61.56000000000001,
          62.37760000000001,
          63.19520000000001,
          64.01280000000001,
          64.8304,
          65.64800000000001,
          66.46560000000001,
          67.28320000000001,
          68.1008,
          68.9184,
          69.736,
          70.5536,
          71.3712,
          72.1888,
          73.0064,
          73.824,
          74.64160000000001,
          75.45920000000001,
          76.27680000000001,
          77.09440000000001,
          77.912,
          78.7296,
          79.5472,
          80.3648,
          81.1824,
          82
         ],
         "xaxis": "x",
         "y": [
          0.0029541301586726004,
          0.0030853142392930216,
          0.003222290961368631,
          0.003365313154885329,
          0.0035146444209578206,
          0.003670559567213995,
          0.003833345058691602,
          0.004003299484611837,
          0.004180734041384779,
          0.00436597303218965,
          0.004559354383458359,
          0.0047612301785735335,
          0.004971967209072136,
          0.0051919475436221834,
          0.0054215691150133315,
          0.0056612463253713045,
          0.005911410669771478,
          0.006172511378387858,
          0.006445016077269964,
          0.006729411467791446,
          0.007026204024760222,
          0.00733592071312037,
          0.007659109723110283,
          0.007996341223669705,
          0.008348208133809615,
          0.008715326911573253,
          0.009098338360123533,
          0.009497908450391326,
          0.00991472915961029,
          0.010349519324946719,
          0.010803025511306973,
          0.011276022892270374,
          0.011769316142951158,
          0.012283740343439875,
          0.012820161891311311,
          0.013379479421513124,
          0.013962624731766753,
          0.014570563711419189,
          0.015204297271481731,
          0.01586486227337917,
          0.016553332453710583,
          0.017270819342091057,
          0.018018473168902663,
          0.01879748375953262,
          0.019609081411418563,
          0.020454537749953778,
          0.021335166559031813,
          0.02225232458172888,
          0.0232074122863363,
          0.024201874592663028,
          0.02523720155323284,
          0.026314928983701125,
          0.027436639036515005,
          0.028603960711537646,
          0.029818570297054845,
          0.031082191734280284,
          0.03239659689817622,
          0.033763605787110185,
          0.03518508661357669,
          0.036662955787926985,
          0.038199177786770906,
          0.03979576489744397,
          0.04145477682967152,
          0.04317832018531038,
          0.04496854777680983,
          0.046827657784807346,
          0.04875789274506368,
          0.05076153835474705,
          0.052840922087899506,
          0.05499841160976285,
          0.05723641297950824,
          0.05955736863080658,
          0.06196375511960005,
          0.06445808062839108,
          0.06704288221636122,
          0.06972072280467177,
          0.07249418788639082,
          0.07536588195064119,
          0.07833842461078415,
          0.08141444642675053,
          0.08459658441201935,
          0.08788747721623046,
          0.0912897599750268,
          0.09480605881945148,
          0.0984389850381088,
          0.10219112888633669,
          0.10606505303785943,
          0.11006328567580051,
          0.11418831322156094,
          0.11844257270191617,
          0.12282844375677479,
          0.12734824029238323,
          0.1320042017873635,
          0.1367984842618443,
          0.14173315092308741,
          0.1468101625044281,
          0.15203136731802502,
          0.1573984910458469,
          0.162913126297488,
          0.16857672196777823,
          0.17439057243170655
         ],
         "yaxis": "y"
        }
       ],
       "layout": {
        "annotations": [
         {
          "font": {
           "size": 13
          },
          "showarrow": false,
          "text": "age",
          "x": 0.5,
          "xanchor": "center",
          "xref": "paper",
          "y": 1,
          "yanchor": "bottom",
          "yref": "paper"
         },
         {
          "font": {
           "size": 13
          },
          "showarrow": false,
          "text": "prediction",
          "textangle": -90,
          "x": -0.07,
          "xref": "paper",
          "y": 0.5,
          "yref": "paper"
         }
        ],
        "font": {
         "color": "#371ea3"
        },
        "height": 489,
        "hovermode": "x unified",
        "legend": {
         "font": {
          "size": 11
         },
         "itemsizing": "constant",
         "orientation": "h",
         "title": {
          "font": {
           "size": 12
          },
          "text": "label"
         },
         "tracegroupgap": 0,
         "x": 1,
         "xanchor": "right",
         "y": 1.0613496932515338,
         "yanchor": "bottom"
        },
        "margin": {
         "b": 71,
         "r": 30,
         "t": 78
        },
        "template": {
         "data": {
          "scatter": [
           {
            "type": "scatter"
           }
          ]
         }
        },
        "title": {
         "font": {
          "size": 16
         },
         "text": "PDP for age with Residence_type groups",
         "x": 0.15
        },
        "xaxis": {
         "anchor": "y",
         "automargin": true,
         "domain": [
          0,
          1
         ],
         "fixedrange": true,
         "gridwidth": 2,
         "showticklabels": true,
         "tickcolor": "white",
         "ticklen": 3,
         "ticks": "outside",
         "title": {
          "text": ""
         },
         "type": "linear",
         "zeroline": false
        },
        "yaxis": {
         "anchor": "x",
         "automargin": true,
         "domain": [
          0,
          1
         ],
         "fixedrange": true,
         "gridwidth": 2,
         "range": [
          -0.014735486792158142,
          0.19158385054296698
         ],
         "tickcolor": "white",
         "ticklen": 3,
         "ticks": "outside",
         "title": {
          "text": ""
         },
         "type": "linear",
         "zeroline": false
        }
       }
      }
     },
     "metadata": {},
     "output_type": "display_data"
    }
   ],
   "source": [
    "X_train['Residence_type_text'] = X_train['Residence_type'].map({0: 'Rural', 1: 'Urban'})\n",
    "\n",
    "# Użycie tej kolumny do grupowania\n",
    "pdp_age_gender = exp.model_profile(variables=['age'], groups='Residence_type')\n",
    "pdp_age_gender.plot(title=\"PDP for age with Residence_type groups\")"
   ]
  },
  {
   "cell_type": "code",
   "execution_count": 238,
   "metadata": {},
   "outputs": [
    {
     "name": "stderr",
     "output_type": "stream",
     "text": [
      "Calculating ceteris paribus: 100%|██████████| 1/1 [00:00<00:00, 20.40it/s]\n"
     ]
    },
    {
     "data": {
      "application/vnd.plotly.v1+json": {
       "config": {
        "displaylogo": false,
        "modeBarButtonsToRemove": [
         "sendDataToCloud",
         "lasso2d",
         "autoScale2d",
         "select2d",
         "zoom2d",
         "pan2d",
         "zoomIn2d",
         "zoomOut2d",
         "resetScale2d",
         "toggleSpikelines",
         "hoverCompareCartesian",
         "hoverClosestCartesian"
        ],
        "plotlyServerURL": "https://plot.ly",
        "staticPlot": false,
        "toImageButtonOptions": {
         "height": null,
         "width": null
        }
       },
       "data": [
        {
         "customdata": [
          [
           0.051021894898111764,
           "Logistic Regression_formerly smoked",
           "age"
          ],
          [
           0.051021894898111764,
           "Logistic Regression_formerly smoked",
           "age"
          ],
          [
           0.051021894898111764,
           "Logistic Regression_formerly smoked",
           "age"
          ],
          [
           0.051021894898111764,
           "Logistic Regression_formerly smoked",
           "age"
          ],
          [
           0.051021894898111764,
           "Logistic Regression_formerly smoked",
           "age"
          ],
          [
           0.051021894898111764,
           "Logistic Regression_formerly smoked",
           "age"
          ],
          [
           0.051021894898111764,
           "Logistic Regression_formerly smoked",
           "age"
          ],
          [
           0.051021894898111764,
           "Logistic Regression_formerly smoked",
           "age"
          ],
          [
           0.051021894898111764,
           "Logistic Regression_formerly smoked",
           "age"
          ],
          [
           0.051021894898111764,
           "Logistic Regression_formerly smoked",
           "age"
          ],
          [
           0.051021894898111764,
           "Logistic Regression_formerly smoked",
           "age"
          ],
          [
           0.051021894898111764,
           "Logistic Regression_formerly smoked",
           "age"
          ],
          [
           0.051021894898111764,
           "Logistic Regression_formerly smoked",
           "age"
          ],
          [
           0.051021894898111764,
           "Logistic Regression_formerly smoked",
           "age"
          ],
          [
           0.051021894898111764,
           "Logistic Regression_formerly smoked",
           "age"
          ],
          [
           0.051021894898111764,
           "Logistic Regression_formerly smoked",
           "age"
          ],
          [
           0.051021894898111764,
           "Logistic Regression_formerly smoked",
           "age"
          ],
          [
           0.051021894898111764,
           "Logistic Regression_formerly smoked",
           "age"
          ],
          [
           0.051021894898111764,
           "Logistic Regression_formerly smoked",
           "age"
          ],
          [
           0.051021894898111764,
           "Logistic Regression_formerly smoked",
           "age"
          ],
          [
           0.051021894898111764,
           "Logistic Regression_formerly smoked",
           "age"
          ],
          [
           0.051021894898111764,
           "Logistic Regression_formerly smoked",
           "age"
          ],
          [
           0.051021894898111764,
           "Logistic Regression_formerly smoked",
           "age"
          ],
          [
           0.051021894898111764,
           "Logistic Regression_formerly smoked",
           "age"
          ],
          [
           0.051021894898111764,
           "Logistic Regression_formerly smoked",
           "age"
          ],
          [
           0.051021894898111764,
           "Logistic Regression_formerly smoked",
           "age"
          ],
          [
           0.051021894898111764,
           "Logistic Regression_formerly smoked",
           "age"
          ],
          [
           0.051021894898111764,
           "Logistic Regression_formerly smoked",
           "age"
          ],
          [
           0.051021894898111764,
           "Logistic Regression_formerly smoked",
           "age"
          ],
          [
           0.051021894898111764,
           "Logistic Regression_formerly smoked",
           "age"
          ],
          [
           0.051021894898111764,
           "Logistic Regression_formerly smoked",
           "age"
          ],
          [
           0.051021894898111764,
           "Logistic Regression_formerly smoked",
           "age"
          ],
          [
           0.051021894898111764,
           "Logistic Regression_formerly smoked",
           "age"
          ],
          [
           0.051021894898111764,
           "Logistic Regression_formerly smoked",
           "age"
          ],
          [
           0.051021894898111764,
           "Logistic Regression_formerly smoked",
           "age"
          ],
          [
           0.051021894898111764,
           "Logistic Regression_formerly smoked",
           "age"
          ],
          [
           0.051021894898111764,
           "Logistic Regression_formerly smoked",
           "age"
          ],
          [
           0.051021894898111764,
           "Logistic Regression_formerly smoked",
           "age"
          ],
          [
           0.051021894898111764,
           "Logistic Regression_formerly smoked",
           "age"
          ],
          [
           0.051021894898111764,
           "Logistic Regression_formerly smoked",
           "age"
          ],
          [
           0.051021894898111764,
           "Logistic Regression_formerly smoked",
           "age"
          ],
          [
           0.051021894898111764,
           "Logistic Regression_formerly smoked",
           "age"
          ],
          [
           0.051021894898111764,
           "Logistic Regression_formerly smoked",
           "age"
          ],
          [
           0.051021894898111764,
           "Logistic Regression_formerly smoked",
           "age"
          ],
          [
           0.051021894898111764,
           "Logistic Regression_formerly smoked",
           "age"
          ],
          [
           0.051021894898111764,
           "Logistic Regression_formerly smoked",
           "age"
          ],
          [
           0.051021894898111764,
           "Logistic Regression_formerly smoked",
           "age"
          ],
          [
           0.051021894898111764,
           "Logistic Regression_formerly smoked",
           "age"
          ],
          [
           0.051021894898111764,
           "Logistic Regression_formerly smoked",
           "age"
          ],
          [
           0.051021894898111764,
           "Logistic Regression_formerly smoked",
           "age"
          ],
          [
           0.051021894898111764,
           "Logistic Regression_formerly smoked",
           "age"
          ],
          [
           0.051021894898111764,
           "Logistic Regression_formerly smoked",
           "age"
          ],
          [
           0.051021894898111764,
           "Logistic Regression_formerly smoked",
           "age"
          ],
          [
           0.051021894898111764,
           "Logistic Regression_formerly smoked",
           "age"
          ],
          [
           0.051021894898111764,
           "Logistic Regression_formerly smoked",
           "age"
          ],
          [
           0.051021894898111764,
           "Logistic Regression_formerly smoked",
           "age"
          ],
          [
           0.051021894898111764,
           "Logistic Regression_formerly smoked",
           "age"
          ],
          [
           0.051021894898111764,
           "Logistic Regression_formerly smoked",
           "age"
          ],
          [
           0.051021894898111764,
           "Logistic Regression_formerly smoked",
           "age"
          ],
          [
           0.051021894898111764,
           "Logistic Regression_formerly smoked",
           "age"
          ],
          [
           0.051021894898111764,
           "Logistic Regression_formerly smoked",
           "age"
          ],
          [
           0.051021894898111764,
           "Logistic Regression_formerly smoked",
           "age"
          ],
          [
           0.051021894898111764,
           "Logistic Regression_formerly smoked",
           "age"
          ],
          [
           0.051021894898111764,
           "Logistic Regression_formerly smoked",
           "age"
          ],
          [
           0.051021894898111764,
           "Logistic Regression_formerly smoked",
           "age"
          ],
          [
           0.051021894898111764,
           "Logistic Regression_formerly smoked",
           "age"
          ],
          [
           0.051021894898111764,
           "Logistic Regression_formerly smoked",
           "age"
          ],
          [
           0.051021894898111764,
           "Logistic Regression_formerly smoked",
           "age"
          ],
          [
           0.051021894898111764,
           "Logistic Regression_formerly smoked",
           "age"
          ],
          [
           0.051021894898111764,
           "Logistic Regression_formerly smoked",
           "age"
          ],
          [
           0.051021894898111764,
           "Logistic Regression_formerly smoked",
           "age"
          ],
          [
           0.051021894898111764,
           "Logistic Regression_formerly smoked",
           "age"
          ],
          [
           0.051021894898111764,
           "Logistic Regression_formerly smoked",
           "age"
          ],
          [
           0.051021894898111764,
           "Logistic Regression_formerly smoked",
           "age"
          ],
          [
           0.051021894898111764,
           "Logistic Regression_formerly smoked",
           "age"
          ],
          [
           0.051021894898111764,
           "Logistic Regression_formerly smoked",
           "age"
          ],
          [
           0.051021894898111764,
           "Logistic Regression_formerly smoked",
           "age"
          ],
          [
           0.051021894898111764,
           "Logistic Regression_formerly smoked",
           "age"
          ],
          [
           0.051021894898111764,
           "Logistic Regression_formerly smoked",
           "age"
          ],
          [
           0.051021894898111764,
           "Logistic Regression_formerly smoked",
           "age"
          ],
          [
           0.051021894898111764,
           "Logistic Regression_formerly smoked",
           "age"
          ],
          [
           0.051021894898111764,
           "Logistic Regression_formerly smoked",
           "age"
          ],
          [
           0.051021894898111764,
           "Logistic Regression_formerly smoked",
           "age"
          ],
          [
           0.051021894898111764,
           "Logistic Regression_formerly smoked",
           "age"
          ],
          [
           0.051021894898111764,
           "Logistic Regression_formerly smoked",
           "age"
          ],
          [
           0.051021894898111764,
           "Logistic Regression_formerly smoked",
           "age"
          ],
          [
           0.051021894898111764,
           "Logistic Regression_formerly smoked",
           "age"
          ],
          [
           0.051021894898111764,
           "Logistic Regression_formerly smoked",
           "age"
          ],
          [
           0.051021894898111764,
           "Logistic Regression_formerly smoked",
           "age"
          ],
          [
           0.051021894898111764,
           "Logistic Regression_formerly smoked",
           "age"
          ],
          [
           0.051021894898111764,
           "Logistic Regression_formerly smoked",
           "age"
          ],
          [
           0.051021894898111764,
           "Logistic Regression_formerly smoked",
           "age"
          ],
          [
           0.051021894898111764,
           "Logistic Regression_formerly smoked",
           "age"
          ],
          [
           0.051021894898111764,
           "Logistic Regression_formerly smoked",
           "age"
          ],
          [
           0.051021894898111764,
           "Logistic Regression_formerly smoked",
           "age"
          ],
          [
           0.051021894898111764,
           "Logistic Regression_formerly smoked",
           "age"
          ],
          [
           0.051021894898111764,
           "Logistic Regression_formerly smoked",
           "age"
          ],
          [
           0.051021894898111764,
           "Logistic Regression_formerly smoked",
           "age"
          ],
          [
           0.051021894898111764,
           "Logistic Regression_formerly smoked",
           "age"
          ],
          [
           0.051021894898111764,
           "Logistic Regression_formerly smoked",
           "age"
          ],
          [
           0.051021894898111764,
           "Logistic Regression_formerly smoked",
           "age"
          ]
         ],
         "hovertemplate": "<b>%{hovertext}</b><br><br>prediction=%{y:.3f}<br>mean_prediction=%{customdata[0]:.3f}<extra></extra>",
         "hovertext": [
          "Logistic Regression_formerly smoked",
          "Logistic Regression_formerly smoked",
          "Logistic Regression_formerly smoked",
          "Logistic Regression_formerly smoked",
          "Logistic Regression_formerly smoked",
          "Logistic Regression_formerly smoked",
          "Logistic Regression_formerly smoked",
          "Logistic Regression_formerly smoked",
          "Logistic Regression_formerly smoked",
          "Logistic Regression_formerly smoked",
          "Logistic Regression_formerly smoked",
          "Logistic Regression_formerly smoked",
          "Logistic Regression_formerly smoked",
          "Logistic Regression_formerly smoked",
          "Logistic Regression_formerly smoked",
          "Logistic Regression_formerly smoked",
          "Logistic Regression_formerly smoked",
          "Logistic Regression_formerly smoked",
          "Logistic Regression_formerly smoked",
          "Logistic Regression_formerly smoked",
          "Logistic Regression_formerly smoked",
          "Logistic Regression_formerly smoked",
          "Logistic Regression_formerly smoked",
          "Logistic Regression_formerly smoked",
          "Logistic Regression_formerly smoked",
          "Logistic Regression_formerly smoked",
          "Logistic Regression_formerly smoked",
          "Logistic Regression_formerly smoked",
          "Logistic Regression_formerly smoked",
          "Logistic Regression_formerly smoked",
          "Logistic Regression_formerly smoked",
          "Logistic Regression_formerly smoked",
          "Logistic Regression_formerly smoked",
          "Logistic Regression_formerly smoked",
          "Logistic Regression_formerly smoked",
          "Logistic Regression_formerly smoked",
          "Logistic Regression_formerly smoked",
          "Logistic Regression_formerly smoked",
          "Logistic Regression_formerly smoked",
          "Logistic Regression_formerly smoked",
          "Logistic Regression_formerly smoked",
          "Logistic Regression_formerly smoked",
          "Logistic Regression_formerly smoked",
          "Logistic Regression_formerly smoked",
          "Logistic Regression_formerly smoked",
          "Logistic Regression_formerly smoked",
          "Logistic Regression_formerly smoked",
          "Logistic Regression_formerly smoked",
          "Logistic Regression_formerly smoked",
          "Logistic Regression_formerly smoked",
          "Logistic Regression_formerly smoked",
          "Logistic Regression_formerly smoked",
          "Logistic Regression_formerly smoked",
          "Logistic Regression_formerly smoked",
          "Logistic Regression_formerly smoked",
          "Logistic Regression_formerly smoked",
          "Logistic Regression_formerly smoked",
          "Logistic Regression_formerly smoked",
          "Logistic Regression_formerly smoked",
          "Logistic Regression_formerly smoked",
          "Logistic Regression_formerly smoked",
          "Logistic Regression_formerly smoked",
          "Logistic Regression_formerly smoked",
          "Logistic Regression_formerly smoked",
          "Logistic Regression_formerly smoked",
          "Logistic Regression_formerly smoked",
          "Logistic Regression_formerly smoked",
          "Logistic Regression_formerly smoked",
          "Logistic Regression_formerly smoked",
          "Logistic Regression_formerly smoked",
          "Logistic Regression_formerly smoked",
          "Logistic Regression_formerly smoked",
          "Logistic Regression_formerly smoked",
          "Logistic Regression_formerly smoked",
          "Logistic Regression_formerly smoked",
          "Logistic Regression_formerly smoked",
          "Logistic Regression_formerly smoked",
          "Logistic Regression_formerly smoked",
          "Logistic Regression_formerly smoked",
          "Logistic Regression_formerly smoked",
          "Logistic Regression_formerly smoked",
          "Logistic Regression_formerly smoked",
          "Logistic Regression_formerly smoked",
          "Logistic Regression_formerly smoked",
          "Logistic Regression_formerly smoked",
          "Logistic Regression_formerly smoked",
          "Logistic Regression_formerly smoked",
          "Logistic Regression_formerly smoked",
          "Logistic Regression_formerly smoked",
          "Logistic Regression_formerly smoked",
          "Logistic Regression_formerly smoked",
          "Logistic Regression_formerly smoked",
          "Logistic Regression_formerly smoked",
          "Logistic Regression_formerly smoked",
          "Logistic Regression_formerly smoked",
          "Logistic Regression_formerly smoked",
          "Logistic Regression_formerly smoked",
          "Logistic Regression_formerly smoked",
          "Logistic Regression_formerly smoked",
          "Logistic Regression_formerly smoked",
          "Logistic Regression_formerly smoked"
         ],
         "legendgroup": "Logistic Regression_formerly smoked",
         "line": {
          "color": "#8bdcbe",
          "dash": "solid",
          "width": 2
         },
         "marker": {
          "symbol": "circle"
         },
         "mode": "lines",
         "name": "Logistic Regression_formerly smoked",
         "opacity": 1,
         "orientation": "v",
         "showlegend": true,
         "type": "scatter",
         "x": [
          0.24,
          1.0576,
          1.8752000000000002,
          2.6928,
          3.5104000000000006,
          4.328000000000001,
          5.145600000000001,
          5.9632000000000005,
          6.780800000000001,
          7.598400000000002,
          8.416000000000002,
          9.233600000000001,
          10.051200000000001,
          10.868800000000002,
          11.6864,
          12.504000000000001,
          13.321600000000002,
          14.139200000000002,
          14.956800000000003,
          15.774400000000002,
          16.592000000000002,
          17.4096,
          18.2272,
          19.044800000000002,
          19.8624,
          20.68,
          21.497600000000002,
          22.3152,
          23.1328,
          23.950400000000002,
          24.768,
          25.585600000000003,
          26.403200000000002,
          27.2208,
          28.038400000000003,
          28.856,
          29.673600000000004,
          30.491200000000003,
          31.3088,
          32.126400000000004,
          32.94400000000001,
          33.76160000000001,
          34.57920000000001,
          35.396800000000006,
          36.214400000000005,
          37.032000000000004,
          37.84960000000001,
          38.66720000000001,
          39.48480000000001,
          40.302400000000006,
          41.120000000000005,
          41.93760000000001,
          42.75520000000001,
          43.57280000000001,
          44.39040000000001,
          45.208000000000006,
          46.025600000000004,
          46.84320000000001,
          47.66080000000001,
          48.47840000000001,
          49.29600000000001,
          50.113600000000005,
          50.93120000000001,
          51.74880000000001,
          52.56640000000001,
          53.38400000000001,
          54.201600000000006,
          55.01920000000001,
          55.83680000000001,
          56.65440000000001,
          57.47200000000001,
          58.28960000000001,
          59.10720000000001,
          59.92480000000001,
          60.74240000000001,
          61.56000000000001,
          62.37760000000001,
          63.19520000000001,
          64.01280000000001,
          64.8304,
          65.64800000000001,
          66.46560000000001,
          67.28320000000001,
          68.1008,
          68.9184,
          69.736,
          70.5536,
          71.3712,
          72.1888,
          73.0064,
          73.824,
          74.64160000000001,
          75.45920000000001,
          76.27680000000001,
          77.09440000000001,
          77.912,
          78.7296,
          79.5472,
          80.3648,
          81.1824,
          82
         ],
         "xaxis": "x",
         "y": [
          0.0037337679018689366,
          0.003899281361648538,
          0.004072077043463393,
          0.004252470437123795,
          0.0044407902628453375,
          0.004637378987288392,
          0.0048425933562831,
          0.005056804944465775,
          0.005280400722023235,
          0.005513783638708219,
          0.005757373225251474,
          0.006011606212253904,
          0.006276937166595292,
          0.006553839145343799,
          0.006842804367092784,
          0.0071443449005878555,
          0.007458993370437271,
          0.007787303679622284,
          0.008129851748440818,
          0.008487236269427042,
          0.008860079477691267,
          0.009249027936018289,
          0.009654753333947793,
          0.010077953299937359,
          0.010519352225576638,
          0.010979702100680324,
          0.011459783357937195,
          0.011960405725632811,
          0.012482409086794223,
          0.013026664342926203,
          0.013594074280320228,
          0.014185574436719653,
          0.014802133965917529,
          0.015444756497647693,
          0.016114480989905304,
          0.0168123825706005,
          0.017539573365209313,
          0.01829720330683922,
          0.019086460924874957,
          0.01990857410811325,
          0.02076481083803483,
          0.0216564798875999,
          0.02258493148068985,
          0.023551557907055917,
          0.024557794087375975,
          0.025605118082765558,
          0.026695051542840617,
          0.027829160086189627,
          0.029009053606883356,
          0.030236386500434143,
          0.031512857802415285,
          0.03284021123276733,
          0.03422023513865317,
          0.035654762328581606,
          0.03714566979039877,
          0.03869487828565345,
          0.040304351812774974,
          0.04197609693146348,
          0.04371216194068306,
          0.04551463590266971,
          0.04738564750541694,
          0.0493273637561858,
          0.05134198849869897,
          0.05343176074682331,
          0.055598952827719546,
          0.05784586832764004,
          0.06017483983378718,
          0.06258822646590204,
          0.06508841119153559,
          0.06767779791926268,
          0.07035880836442868,
          0.07313387868237396,
          0.07600545586445732,
          0.07897599389260128,
          0.08204794964850866,
          0.08522377857415477,
          0.08850593008064624,
          0.09189684270306088,
          0.09539893899944962,
          0.0990146201927977,
          0.10274626055541942,
          0.10659620153600267,
          0.1105667456303493,
          0.11466014999777024,
          0.11887861982612018,
          0.12322430144959606,
          0.12769927522469735,
          0.13230554817116177,
          0.1370450463862655,
          0.14191960724261496,
          0.14693097138147596,
          0.1520807745157822,
          0.15737053905924805,
          0.1628016656004798,
          0.1683754242436231,
          0.17409294583990542,
          0.17995521313740223,
          0.18596305187946668,
          0.1921171218854826,
          0.19841790815089846,
          0.2048657120068427
         ],
         "yaxis": "y"
        },
        {
         "customdata": [
          [
           0.051021894898111764,
           "Logistic Regression_smokes",
           "age"
          ],
          [
           0.051021894898111764,
           "Logistic Regression_smokes",
           "age"
          ],
          [
           0.051021894898111764,
           "Logistic Regression_smokes",
           "age"
          ],
          [
           0.051021894898111764,
           "Logistic Regression_smokes",
           "age"
          ],
          [
           0.051021894898111764,
           "Logistic Regression_smokes",
           "age"
          ],
          [
           0.051021894898111764,
           "Logistic Regression_smokes",
           "age"
          ],
          [
           0.051021894898111764,
           "Logistic Regression_smokes",
           "age"
          ],
          [
           0.051021894898111764,
           "Logistic Regression_smokes",
           "age"
          ],
          [
           0.051021894898111764,
           "Logistic Regression_smokes",
           "age"
          ],
          [
           0.051021894898111764,
           "Logistic Regression_smokes",
           "age"
          ],
          [
           0.051021894898111764,
           "Logistic Regression_smokes",
           "age"
          ],
          [
           0.051021894898111764,
           "Logistic Regression_smokes",
           "age"
          ],
          [
           0.051021894898111764,
           "Logistic Regression_smokes",
           "age"
          ],
          [
           0.051021894898111764,
           "Logistic Regression_smokes",
           "age"
          ],
          [
           0.051021894898111764,
           "Logistic Regression_smokes",
           "age"
          ],
          [
           0.051021894898111764,
           "Logistic Regression_smokes",
           "age"
          ],
          [
           0.051021894898111764,
           "Logistic Regression_smokes",
           "age"
          ],
          [
           0.051021894898111764,
           "Logistic Regression_smokes",
           "age"
          ],
          [
           0.051021894898111764,
           "Logistic Regression_smokes",
           "age"
          ],
          [
           0.051021894898111764,
           "Logistic Regression_smokes",
           "age"
          ],
          [
           0.051021894898111764,
           "Logistic Regression_smokes",
           "age"
          ],
          [
           0.051021894898111764,
           "Logistic Regression_smokes",
           "age"
          ],
          [
           0.051021894898111764,
           "Logistic Regression_smokes",
           "age"
          ],
          [
           0.051021894898111764,
           "Logistic Regression_smokes",
           "age"
          ],
          [
           0.051021894898111764,
           "Logistic Regression_smokes",
           "age"
          ],
          [
           0.051021894898111764,
           "Logistic Regression_smokes",
           "age"
          ],
          [
           0.051021894898111764,
           "Logistic Regression_smokes",
           "age"
          ],
          [
           0.051021894898111764,
           "Logistic Regression_smokes",
           "age"
          ],
          [
           0.051021894898111764,
           "Logistic Regression_smokes",
           "age"
          ],
          [
           0.051021894898111764,
           "Logistic Regression_smokes",
           "age"
          ],
          [
           0.051021894898111764,
           "Logistic Regression_smokes",
           "age"
          ],
          [
           0.051021894898111764,
           "Logistic Regression_smokes",
           "age"
          ],
          [
           0.051021894898111764,
           "Logistic Regression_smokes",
           "age"
          ],
          [
           0.051021894898111764,
           "Logistic Regression_smokes",
           "age"
          ],
          [
           0.051021894898111764,
           "Logistic Regression_smokes",
           "age"
          ],
          [
           0.051021894898111764,
           "Logistic Regression_smokes",
           "age"
          ],
          [
           0.051021894898111764,
           "Logistic Regression_smokes",
           "age"
          ],
          [
           0.051021894898111764,
           "Logistic Regression_smokes",
           "age"
          ],
          [
           0.051021894898111764,
           "Logistic Regression_smokes",
           "age"
          ],
          [
           0.051021894898111764,
           "Logistic Regression_smokes",
           "age"
          ],
          [
           0.051021894898111764,
           "Logistic Regression_smokes",
           "age"
          ],
          [
           0.051021894898111764,
           "Logistic Regression_smokes",
           "age"
          ],
          [
           0.051021894898111764,
           "Logistic Regression_smokes",
           "age"
          ],
          [
           0.051021894898111764,
           "Logistic Regression_smokes",
           "age"
          ],
          [
           0.051021894898111764,
           "Logistic Regression_smokes",
           "age"
          ],
          [
           0.051021894898111764,
           "Logistic Regression_smokes",
           "age"
          ],
          [
           0.051021894898111764,
           "Logistic Regression_smokes",
           "age"
          ],
          [
           0.051021894898111764,
           "Logistic Regression_smokes",
           "age"
          ],
          [
           0.051021894898111764,
           "Logistic Regression_smokes",
           "age"
          ],
          [
           0.051021894898111764,
           "Logistic Regression_smokes",
           "age"
          ],
          [
           0.051021894898111764,
           "Logistic Regression_smokes",
           "age"
          ],
          [
           0.051021894898111764,
           "Logistic Regression_smokes",
           "age"
          ],
          [
           0.051021894898111764,
           "Logistic Regression_smokes",
           "age"
          ],
          [
           0.051021894898111764,
           "Logistic Regression_smokes",
           "age"
          ],
          [
           0.051021894898111764,
           "Logistic Regression_smokes",
           "age"
          ],
          [
           0.051021894898111764,
           "Logistic Regression_smokes",
           "age"
          ],
          [
           0.051021894898111764,
           "Logistic Regression_smokes",
           "age"
          ],
          [
           0.051021894898111764,
           "Logistic Regression_smokes",
           "age"
          ],
          [
           0.051021894898111764,
           "Logistic Regression_smokes",
           "age"
          ],
          [
           0.051021894898111764,
           "Logistic Regression_smokes",
           "age"
          ],
          [
           0.051021894898111764,
           "Logistic Regression_smokes",
           "age"
          ],
          [
           0.051021894898111764,
           "Logistic Regression_smokes",
           "age"
          ],
          [
           0.051021894898111764,
           "Logistic Regression_smokes",
           "age"
          ],
          [
           0.051021894898111764,
           "Logistic Regression_smokes",
           "age"
          ],
          [
           0.051021894898111764,
           "Logistic Regression_smokes",
           "age"
          ],
          [
           0.051021894898111764,
           "Logistic Regression_smokes",
           "age"
          ],
          [
           0.051021894898111764,
           "Logistic Regression_smokes",
           "age"
          ],
          [
           0.051021894898111764,
           "Logistic Regression_smokes",
           "age"
          ],
          [
           0.051021894898111764,
           "Logistic Regression_smokes",
           "age"
          ],
          [
           0.051021894898111764,
           "Logistic Regression_smokes",
           "age"
          ],
          [
           0.051021894898111764,
           "Logistic Regression_smokes",
           "age"
          ],
          [
           0.051021894898111764,
           "Logistic Regression_smokes",
           "age"
          ],
          [
           0.051021894898111764,
           "Logistic Regression_smokes",
           "age"
          ],
          [
           0.051021894898111764,
           "Logistic Regression_smokes",
           "age"
          ],
          [
           0.051021894898111764,
           "Logistic Regression_smokes",
           "age"
          ],
          [
           0.051021894898111764,
           "Logistic Regression_smokes",
           "age"
          ],
          [
           0.051021894898111764,
           "Logistic Regression_smokes",
           "age"
          ],
          [
           0.051021894898111764,
           "Logistic Regression_smokes",
           "age"
          ],
          [
           0.051021894898111764,
           "Logistic Regression_smokes",
           "age"
          ],
          [
           0.051021894898111764,
           "Logistic Regression_smokes",
           "age"
          ],
          [
           0.051021894898111764,
           "Logistic Regression_smokes",
           "age"
          ],
          [
           0.051021894898111764,
           "Logistic Regression_smokes",
           "age"
          ],
          [
           0.051021894898111764,
           "Logistic Regression_smokes",
           "age"
          ],
          [
           0.051021894898111764,
           "Logistic Regression_smokes",
           "age"
          ],
          [
           0.051021894898111764,
           "Logistic Regression_smokes",
           "age"
          ],
          [
           0.051021894898111764,
           "Logistic Regression_smokes",
           "age"
          ],
          [
           0.051021894898111764,
           "Logistic Regression_smokes",
           "age"
          ],
          [
           0.051021894898111764,
           "Logistic Regression_smokes",
           "age"
          ],
          [
           0.051021894898111764,
           "Logistic Regression_smokes",
           "age"
          ],
          [
           0.051021894898111764,
           "Logistic Regression_smokes",
           "age"
          ],
          [
           0.051021894898111764,
           "Logistic Regression_smokes",
           "age"
          ],
          [
           0.051021894898111764,
           "Logistic Regression_smokes",
           "age"
          ],
          [
           0.051021894898111764,
           "Logistic Regression_smokes",
           "age"
          ],
          [
           0.051021894898111764,
           "Logistic Regression_smokes",
           "age"
          ],
          [
           0.051021894898111764,
           "Logistic Regression_smokes",
           "age"
          ],
          [
           0.051021894898111764,
           "Logistic Regression_smokes",
           "age"
          ],
          [
           0.051021894898111764,
           "Logistic Regression_smokes",
           "age"
          ],
          [
           0.051021894898111764,
           "Logistic Regression_smokes",
           "age"
          ],
          [
           0.051021894898111764,
           "Logistic Regression_smokes",
           "age"
          ],
          [
           0.051021894898111764,
           "Logistic Regression_smokes",
           "age"
          ],
          [
           0.051021894898111764,
           "Logistic Regression_smokes",
           "age"
          ]
         ],
         "hovertemplate": "<b>%{hovertext}</b><br><br>prediction=%{y:.3f}<br>mean_prediction=%{customdata[0]:.3f}<extra></extra>",
         "hovertext": [
          "Logistic Regression_smokes",
          "Logistic Regression_smokes",
          "Logistic Regression_smokes",
          "Logistic Regression_smokes",
          "Logistic Regression_smokes",
          "Logistic Regression_smokes",
          "Logistic Regression_smokes",
          "Logistic Regression_smokes",
          "Logistic Regression_smokes",
          "Logistic Regression_smokes",
          "Logistic Regression_smokes",
          "Logistic Regression_smokes",
          "Logistic Regression_smokes",
          "Logistic Regression_smokes",
          "Logistic Regression_smokes",
          "Logistic Regression_smokes",
          "Logistic Regression_smokes",
          "Logistic Regression_smokes",
          "Logistic Regression_smokes",
          "Logistic Regression_smokes",
          "Logistic Regression_smokes",
          "Logistic Regression_smokes",
          "Logistic Regression_smokes",
          "Logistic Regression_smokes",
          "Logistic Regression_smokes",
          "Logistic Regression_smokes",
          "Logistic Regression_smokes",
          "Logistic Regression_smokes",
          "Logistic Regression_smokes",
          "Logistic Regression_smokes",
          "Logistic Regression_smokes",
          "Logistic Regression_smokes",
          "Logistic Regression_smokes",
          "Logistic Regression_smokes",
          "Logistic Regression_smokes",
          "Logistic Regression_smokes",
          "Logistic Regression_smokes",
          "Logistic Regression_smokes",
          "Logistic Regression_smokes",
          "Logistic Regression_smokes",
          "Logistic Regression_smokes",
          "Logistic Regression_smokes",
          "Logistic Regression_smokes",
          "Logistic Regression_smokes",
          "Logistic Regression_smokes",
          "Logistic Regression_smokes",
          "Logistic Regression_smokes",
          "Logistic Regression_smokes",
          "Logistic Regression_smokes",
          "Logistic Regression_smokes",
          "Logistic Regression_smokes",
          "Logistic Regression_smokes",
          "Logistic Regression_smokes",
          "Logistic Regression_smokes",
          "Logistic Regression_smokes",
          "Logistic Regression_smokes",
          "Logistic Regression_smokes",
          "Logistic Regression_smokes",
          "Logistic Regression_smokes",
          "Logistic Regression_smokes",
          "Logistic Regression_smokes",
          "Logistic Regression_smokes",
          "Logistic Regression_smokes",
          "Logistic Regression_smokes",
          "Logistic Regression_smokes",
          "Logistic Regression_smokes",
          "Logistic Regression_smokes",
          "Logistic Regression_smokes",
          "Logistic Regression_smokes",
          "Logistic Regression_smokes",
          "Logistic Regression_smokes",
          "Logistic Regression_smokes",
          "Logistic Regression_smokes",
          "Logistic Regression_smokes",
          "Logistic Regression_smokes",
          "Logistic Regression_smokes",
          "Logistic Regression_smokes",
          "Logistic Regression_smokes",
          "Logistic Regression_smokes",
          "Logistic Regression_smokes",
          "Logistic Regression_smokes",
          "Logistic Regression_smokes",
          "Logistic Regression_smokes",
          "Logistic Regression_smokes",
          "Logistic Regression_smokes",
          "Logistic Regression_smokes",
          "Logistic Regression_smokes",
          "Logistic Regression_smokes",
          "Logistic Regression_smokes",
          "Logistic Regression_smokes",
          "Logistic Regression_smokes",
          "Logistic Regression_smokes",
          "Logistic Regression_smokes",
          "Logistic Regression_smokes",
          "Logistic Regression_smokes",
          "Logistic Regression_smokes",
          "Logistic Regression_smokes",
          "Logistic Regression_smokes",
          "Logistic Regression_smokes",
          "Logistic Regression_smokes",
          "Logistic Regression_smokes"
         ],
         "legendgroup": "Logistic Regression_smokes",
         "line": {
          "color": "#f05a71",
          "dash": "solid",
          "width": 2
         },
         "marker": {
          "symbol": "circle"
         },
         "mode": "lines",
         "name": "Logistic Regression_smokes",
         "opacity": 1,
         "orientation": "v",
         "showlegend": true,
         "type": "scatter",
         "x": [
          0.24,
          1.0576,
          1.8752000000000002,
          2.6928,
          3.5104000000000006,
          4.328000000000001,
          5.145600000000001,
          5.9632000000000005,
          6.780800000000001,
          7.598400000000002,
          8.416000000000002,
          9.233600000000001,
          10.051200000000001,
          10.868800000000002,
          11.6864,
          12.504000000000001,
          13.321600000000002,
          14.139200000000002,
          14.956800000000003,
          15.774400000000002,
          16.592000000000002,
          17.4096,
          18.2272,
          19.044800000000002,
          19.8624,
          20.68,
          21.497600000000002,
          22.3152,
          23.1328,
          23.950400000000002,
          24.768,
          25.585600000000003,
          26.403200000000002,
          27.2208,
          28.038400000000003,
          28.856,
          29.673600000000004,
          30.491200000000003,
          31.3088,
          32.126400000000004,
          32.94400000000001,
          33.76160000000001,
          34.57920000000001,
          35.396800000000006,
          36.214400000000005,
          37.032000000000004,
          37.84960000000001,
          38.66720000000001,
          39.48480000000001,
          40.302400000000006,
          41.120000000000005,
          41.93760000000001,
          42.75520000000001,
          43.57280000000001,
          44.39040000000001,
          45.208000000000006,
          46.025600000000004,
          46.84320000000001,
          47.66080000000001,
          48.47840000000001,
          49.29600000000001,
          50.113600000000005,
          50.93120000000001,
          51.74880000000001,
          52.56640000000001,
          53.38400000000001,
          54.201600000000006,
          55.01920000000001,
          55.83680000000001,
          56.65440000000001,
          57.47200000000001,
          58.28960000000001,
          59.10720000000001,
          59.92480000000001,
          60.74240000000001,
          61.56000000000001,
          62.37760000000001,
          63.19520000000001,
          64.01280000000001,
          64.8304,
          65.64800000000001,
          66.46560000000001,
          67.28320000000001,
          68.1008,
          68.9184,
          69.736,
          70.5536,
          71.3712,
          72.1888,
          73.0064,
          73.824,
          74.64160000000001,
          75.45920000000001,
          76.27680000000001,
          77.09440000000001,
          77.912,
          78.7296,
          79.5472,
          80.3648,
          81.1824,
          82
         ],
         "xaxis": "x",
         "y": [
          0.003650697374564248,
          0.0038124969045740063,
          0.003981412290646992,
          0.004157751532509954,
          0.0043418355185950355,
          0.004533998525956356,
          0.00473458873604912,
          0.0049439687665483924,
          0.005162516219351823,
          0.005390624244873368,
          0.005628702122693457,
          0.005877175858584377,
          0.006136488797877984,
          0.006407102255085298,
          0.006689496159614388,
          0.006984169717363162,
          0.007291642087887422,
          0.00761245307676107,
          0.00794716384265449,
          0.008296357618558436,
          0.008660640446473803,
          0.009040641924772299,
          0.009437015967308672,
          0.009850441573231708,
          0.0102816236062983,
          0.010731293582342379,
          0.01120021046338811,
          0.011689161456724455,
          0.012198962817076053,
          0.012730460649813098,
          0.013284531712941135,
          0.013862084215400278,
          0.014464058608982783,
          0.015091428370949065,
          0.015745200774185144,
          0.01642641764150054,
          0.017136156080415813,
          0.017875529194534064,
          0.018645686767332706,
          0.019447815913952147,
          0.020283141696298652,
          0.02115292769652164,
          0.022058476543673634,
          0.023001130388116242,
          0.02398227131800181,
          0.02500332171193929,
          0.026065744521749618,
          0.027171043479032493,
          0.02832076321910818,
          0.029516489315766743,
          0.03075984822015967,
          0.03205250709710629,
          0.0333961735520661,
          0.03479259524205071,
          0.03624355936381962,
          0.03775089201282612,
          0.03931645740655595,
          0.040942156966134804,
          0.04262992825037269,
          0.0443817437367654,
          0.04619960944438509,
          0.04808556339406348,
          0.050041673901799755,
          0.05207003770190749,
          0.05417277789704734,
          0.05635204173296699,
          0.05860999819648205,
          0.06094883543596897,
          0.06337075800439705,
          0.06587798392568651,
          0.06847274158593174,
          0.07115726645176051,
          0.07393379761879422,
          0.07680457419381866,
          0.07977183151485323,
          0.08283779721380431,
          0.08600468712679403,
          0.08927470105755435,
          0.09265001839946208,
          0.09613279362185173,
          0.09972515162618245,
          0.10342918297744291,
          0.10724693901587513,
          0.1111804268536714,
          0.115231604260787,
          0.11940237444341434,
          0.12369458071802118,
          0.12811000108318998,
          0.13265034269084333,
          0.13731723621784725,
          0.14211223013848331,
          0.14703678489793007,
          0.15209226698673015,
          0.15727994291630001,
          0.16260097309589888,
          0.1680564056121686,
          0.17364716991341217,
          0.17937407040223569,
          0.18523777994205817,
          0.19123883328530572,
          0.19737762043386015
         ],
         "yaxis": "y"
        },
        {
         "customdata": [
          [
           0.051021894898111764,
           "Logistic Regression_never smoked",
           "age"
          ],
          [
           0.051021894898111764,
           "Logistic Regression_never smoked",
           "age"
          ],
          [
           0.051021894898111764,
           "Logistic Regression_never smoked",
           "age"
          ],
          [
           0.051021894898111764,
           "Logistic Regression_never smoked",
           "age"
          ],
          [
           0.051021894898111764,
           "Logistic Regression_never smoked",
           "age"
          ],
          [
           0.051021894898111764,
           "Logistic Regression_never smoked",
           "age"
          ],
          [
           0.051021894898111764,
           "Logistic Regression_never smoked",
           "age"
          ],
          [
           0.051021894898111764,
           "Logistic Regression_never smoked",
           "age"
          ],
          [
           0.051021894898111764,
           "Logistic Regression_never smoked",
           "age"
          ],
          [
           0.051021894898111764,
           "Logistic Regression_never smoked",
           "age"
          ],
          [
           0.051021894898111764,
           "Logistic Regression_never smoked",
           "age"
          ],
          [
           0.051021894898111764,
           "Logistic Regression_never smoked",
           "age"
          ],
          [
           0.051021894898111764,
           "Logistic Regression_never smoked",
           "age"
          ],
          [
           0.051021894898111764,
           "Logistic Regression_never smoked",
           "age"
          ],
          [
           0.051021894898111764,
           "Logistic Regression_never smoked",
           "age"
          ],
          [
           0.051021894898111764,
           "Logistic Regression_never smoked",
           "age"
          ],
          [
           0.051021894898111764,
           "Logistic Regression_never smoked",
           "age"
          ],
          [
           0.051021894898111764,
           "Logistic Regression_never smoked",
           "age"
          ],
          [
           0.051021894898111764,
           "Logistic Regression_never smoked",
           "age"
          ],
          [
           0.051021894898111764,
           "Logistic Regression_never smoked",
           "age"
          ],
          [
           0.051021894898111764,
           "Logistic Regression_never smoked",
           "age"
          ],
          [
           0.051021894898111764,
           "Logistic Regression_never smoked",
           "age"
          ],
          [
           0.051021894898111764,
           "Logistic Regression_never smoked",
           "age"
          ],
          [
           0.051021894898111764,
           "Logistic Regression_never smoked",
           "age"
          ],
          [
           0.051021894898111764,
           "Logistic Regression_never smoked",
           "age"
          ],
          [
           0.051021894898111764,
           "Logistic Regression_never smoked",
           "age"
          ],
          [
           0.051021894898111764,
           "Logistic Regression_never smoked",
           "age"
          ],
          [
           0.051021894898111764,
           "Logistic Regression_never smoked",
           "age"
          ],
          [
           0.051021894898111764,
           "Logistic Regression_never smoked",
           "age"
          ],
          [
           0.051021894898111764,
           "Logistic Regression_never smoked",
           "age"
          ],
          [
           0.051021894898111764,
           "Logistic Regression_never smoked",
           "age"
          ],
          [
           0.051021894898111764,
           "Logistic Regression_never smoked",
           "age"
          ],
          [
           0.051021894898111764,
           "Logistic Regression_never smoked",
           "age"
          ],
          [
           0.051021894898111764,
           "Logistic Regression_never smoked",
           "age"
          ],
          [
           0.051021894898111764,
           "Logistic Regression_never smoked",
           "age"
          ],
          [
           0.051021894898111764,
           "Logistic Regression_never smoked",
           "age"
          ],
          [
           0.051021894898111764,
           "Logistic Regression_never smoked",
           "age"
          ],
          [
           0.051021894898111764,
           "Logistic Regression_never smoked",
           "age"
          ],
          [
           0.051021894898111764,
           "Logistic Regression_never smoked",
           "age"
          ],
          [
           0.051021894898111764,
           "Logistic Regression_never smoked",
           "age"
          ],
          [
           0.051021894898111764,
           "Logistic Regression_never smoked",
           "age"
          ],
          [
           0.051021894898111764,
           "Logistic Regression_never smoked",
           "age"
          ],
          [
           0.051021894898111764,
           "Logistic Regression_never smoked",
           "age"
          ],
          [
           0.051021894898111764,
           "Logistic Regression_never smoked",
           "age"
          ],
          [
           0.051021894898111764,
           "Logistic Regression_never smoked",
           "age"
          ],
          [
           0.051021894898111764,
           "Logistic Regression_never smoked",
           "age"
          ],
          [
           0.051021894898111764,
           "Logistic Regression_never smoked",
           "age"
          ],
          [
           0.051021894898111764,
           "Logistic Regression_never smoked",
           "age"
          ],
          [
           0.051021894898111764,
           "Logistic Regression_never smoked",
           "age"
          ],
          [
           0.051021894898111764,
           "Logistic Regression_never smoked",
           "age"
          ],
          [
           0.051021894898111764,
           "Logistic Regression_never smoked",
           "age"
          ],
          [
           0.051021894898111764,
           "Logistic Regression_never smoked",
           "age"
          ],
          [
           0.051021894898111764,
           "Logistic Regression_never smoked",
           "age"
          ],
          [
           0.051021894898111764,
           "Logistic Regression_never smoked",
           "age"
          ],
          [
           0.051021894898111764,
           "Logistic Regression_never smoked",
           "age"
          ],
          [
           0.051021894898111764,
           "Logistic Regression_never smoked",
           "age"
          ],
          [
           0.051021894898111764,
           "Logistic Regression_never smoked",
           "age"
          ],
          [
           0.051021894898111764,
           "Logistic Regression_never smoked",
           "age"
          ],
          [
           0.051021894898111764,
           "Logistic Regression_never smoked",
           "age"
          ],
          [
           0.051021894898111764,
           "Logistic Regression_never smoked",
           "age"
          ],
          [
           0.051021894898111764,
           "Logistic Regression_never smoked",
           "age"
          ],
          [
           0.051021894898111764,
           "Logistic Regression_never smoked",
           "age"
          ],
          [
           0.051021894898111764,
           "Logistic Regression_never smoked",
           "age"
          ],
          [
           0.051021894898111764,
           "Logistic Regression_never smoked",
           "age"
          ],
          [
           0.051021894898111764,
           "Logistic Regression_never smoked",
           "age"
          ],
          [
           0.051021894898111764,
           "Logistic Regression_never smoked",
           "age"
          ],
          [
           0.051021894898111764,
           "Logistic Regression_never smoked",
           "age"
          ],
          [
           0.051021894898111764,
           "Logistic Regression_never smoked",
           "age"
          ],
          [
           0.051021894898111764,
           "Logistic Regression_never smoked",
           "age"
          ],
          [
           0.051021894898111764,
           "Logistic Regression_never smoked",
           "age"
          ],
          [
           0.051021894898111764,
           "Logistic Regression_never smoked",
           "age"
          ],
          [
           0.051021894898111764,
           "Logistic Regression_never smoked",
           "age"
          ],
          [
           0.051021894898111764,
           "Logistic Regression_never smoked",
           "age"
          ],
          [
           0.051021894898111764,
           "Logistic Regression_never smoked",
           "age"
          ],
          [
           0.051021894898111764,
           "Logistic Regression_never smoked",
           "age"
          ],
          [
           0.051021894898111764,
           "Logistic Regression_never smoked",
           "age"
          ],
          [
           0.051021894898111764,
           "Logistic Regression_never smoked",
           "age"
          ],
          [
           0.051021894898111764,
           "Logistic Regression_never smoked",
           "age"
          ],
          [
           0.051021894898111764,
           "Logistic Regression_never smoked",
           "age"
          ],
          [
           0.051021894898111764,
           "Logistic Regression_never smoked",
           "age"
          ],
          [
           0.051021894898111764,
           "Logistic Regression_never smoked",
           "age"
          ],
          [
           0.051021894898111764,
           "Logistic Regression_never smoked",
           "age"
          ],
          [
           0.051021894898111764,
           "Logistic Regression_never smoked",
           "age"
          ],
          [
           0.051021894898111764,
           "Logistic Regression_never smoked",
           "age"
          ],
          [
           0.051021894898111764,
           "Logistic Regression_never smoked",
           "age"
          ],
          [
           0.051021894898111764,
           "Logistic Regression_never smoked",
           "age"
          ],
          [
           0.051021894898111764,
           "Logistic Regression_never smoked",
           "age"
          ],
          [
           0.051021894898111764,
           "Logistic Regression_never smoked",
           "age"
          ],
          [
           0.051021894898111764,
           "Logistic Regression_never smoked",
           "age"
          ],
          [
           0.051021894898111764,
           "Logistic Regression_never smoked",
           "age"
          ],
          [
           0.051021894898111764,
           "Logistic Regression_never smoked",
           "age"
          ],
          [
           0.051021894898111764,
           "Logistic Regression_never smoked",
           "age"
          ],
          [
           0.051021894898111764,
           "Logistic Regression_never smoked",
           "age"
          ],
          [
           0.051021894898111764,
           "Logistic Regression_never smoked",
           "age"
          ],
          [
           0.051021894898111764,
           "Logistic Regression_never smoked",
           "age"
          ],
          [
           0.051021894898111764,
           "Logistic Regression_never smoked",
           "age"
          ],
          [
           0.051021894898111764,
           "Logistic Regression_never smoked",
           "age"
          ],
          [
           0.051021894898111764,
           "Logistic Regression_never smoked",
           "age"
          ],
          [
           0.051021894898111764,
           "Logistic Regression_never smoked",
           "age"
          ],
          [
           0.051021894898111764,
           "Logistic Regression_never smoked",
           "age"
          ],
          [
           0.051021894898111764,
           "Logistic Regression_never smoked",
           "age"
          ]
         ],
         "hovertemplate": "<b>%{hovertext}</b><br><br>prediction=%{y:.3f}<br>mean_prediction=%{customdata[0]:.3f}<extra></extra>",
         "hovertext": [
          "Logistic Regression_never smoked",
          "Logistic Regression_never smoked",
          "Logistic Regression_never smoked",
          "Logistic Regression_never smoked",
          "Logistic Regression_never smoked",
          "Logistic Regression_never smoked",
          "Logistic Regression_never smoked",
          "Logistic Regression_never smoked",
          "Logistic Regression_never smoked",
          "Logistic Regression_never smoked",
          "Logistic Regression_never smoked",
          "Logistic Regression_never smoked",
          "Logistic Regression_never smoked",
          "Logistic Regression_never smoked",
          "Logistic Regression_never smoked",
          "Logistic Regression_never smoked",
          "Logistic Regression_never smoked",
          "Logistic Regression_never smoked",
          "Logistic Regression_never smoked",
          "Logistic Regression_never smoked",
          "Logistic Regression_never smoked",
          "Logistic Regression_never smoked",
          "Logistic Regression_never smoked",
          "Logistic Regression_never smoked",
          "Logistic Regression_never smoked",
          "Logistic Regression_never smoked",
          "Logistic Regression_never smoked",
          "Logistic Regression_never smoked",
          "Logistic Regression_never smoked",
          "Logistic Regression_never smoked",
          "Logistic Regression_never smoked",
          "Logistic Regression_never smoked",
          "Logistic Regression_never smoked",
          "Logistic Regression_never smoked",
          "Logistic Regression_never smoked",
          "Logistic Regression_never smoked",
          "Logistic Regression_never smoked",
          "Logistic Regression_never smoked",
          "Logistic Regression_never smoked",
          "Logistic Regression_never smoked",
          "Logistic Regression_never smoked",
          "Logistic Regression_never smoked",
          "Logistic Regression_never smoked",
          "Logistic Regression_never smoked",
          "Logistic Regression_never smoked",
          "Logistic Regression_never smoked",
          "Logistic Regression_never smoked",
          "Logistic Regression_never smoked",
          "Logistic Regression_never smoked",
          "Logistic Regression_never smoked",
          "Logistic Regression_never smoked",
          "Logistic Regression_never smoked",
          "Logistic Regression_never smoked",
          "Logistic Regression_never smoked",
          "Logistic Regression_never smoked",
          "Logistic Regression_never smoked",
          "Logistic Regression_never smoked",
          "Logistic Regression_never smoked",
          "Logistic Regression_never smoked",
          "Logistic Regression_never smoked",
          "Logistic Regression_never smoked",
          "Logistic Regression_never smoked",
          "Logistic Regression_never smoked",
          "Logistic Regression_never smoked",
          "Logistic Regression_never smoked",
          "Logistic Regression_never smoked",
          "Logistic Regression_never smoked",
          "Logistic Regression_never smoked",
          "Logistic Regression_never smoked",
          "Logistic Regression_never smoked",
          "Logistic Regression_never smoked",
          "Logistic Regression_never smoked",
          "Logistic Regression_never smoked",
          "Logistic Regression_never smoked",
          "Logistic Regression_never smoked",
          "Logistic Regression_never smoked",
          "Logistic Regression_never smoked",
          "Logistic Regression_never smoked",
          "Logistic Regression_never smoked",
          "Logistic Regression_never smoked",
          "Logistic Regression_never smoked",
          "Logistic Regression_never smoked",
          "Logistic Regression_never smoked",
          "Logistic Regression_never smoked",
          "Logistic Regression_never smoked",
          "Logistic Regression_never smoked",
          "Logistic Regression_never smoked",
          "Logistic Regression_never smoked",
          "Logistic Regression_never smoked",
          "Logistic Regression_never smoked",
          "Logistic Regression_never smoked",
          "Logistic Regression_never smoked",
          "Logistic Regression_never smoked",
          "Logistic Regression_never smoked",
          "Logistic Regression_never smoked",
          "Logistic Regression_never smoked",
          "Logistic Regression_never smoked",
          "Logistic Regression_never smoked",
          "Logistic Regression_never smoked",
          "Logistic Regression_never smoked",
          "Logistic Regression_never smoked"
         ],
         "legendgroup": "Logistic Regression_never smoked",
         "line": {
          "color": "#4378bf",
          "dash": "solid",
          "width": 2
         },
         "marker": {
          "symbol": "circle"
         },
         "mode": "lines",
         "name": "Logistic Regression_never smoked",
         "opacity": 1,
         "orientation": "v",
         "showlegend": true,
         "type": "scatter",
         "x": [
          0.24,
          1.0576,
          1.8752000000000002,
          2.6928,
          3.5104000000000006,
          4.328000000000001,
          5.145600000000001,
          5.9632000000000005,
          6.780800000000001,
          7.598400000000002,
          8.416000000000002,
          9.233600000000001,
          10.051200000000001,
          10.868800000000002,
          11.6864,
          12.504000000000001,
          13.321600000000002,
          14.139200000000002,
          14.956800000000003,
          15.774400000000002,
          16.592000000000002,
          17.4096,
          18.2272,
          19.044800000000002,
          19.8624,
          20.68,
          21.497600000000002,
          22.3152,
          23.1328,
          23.950400000000002,
          24.768,
          25.585600000000003,
          26.403200000000002,
          27.2208,
          28.038400000000003,
          28.856,
          29.673600000000004,
          30.491200000000003,
          31.3088,
          32.126400000000004,
          32.94400000000001,
          33.76160000000001,
          34.57920000000001,
          35.396800000000006,
          36.214400000000005,
          37.032000000000004,
          37.84960000000001,
          38.66720000000001,
          39.48480000000001,
          40.302400000000006,
          41.120000000000005,
          41.93760000000001,
          42.75520000000001,
          43.57280000000001,
          44.39040000000001,
          45.208000000000006,
          46.025600000000004,
          46.84320000000001,
          47.66080000000001,
          48.47840000000001,
          49.29600000000001,
          50.113600000000005,
          50.93120000000001,
          51.74880000000001,
          52.56640000000001,
          53.38400000000001,
          54.201600000000006,
          55.01920000000001,
          55.83680000000001,
          56.65440000000001,
          57.47200000000001,
          58.28960000000001,
          59.10720000000001,
          59.92480000000001,
          60.74240000000001,
          61.56000000000001,
          62.37760000000001,
          63.19520000000001,
          64.01280000000001,
          64.8304,
          65.64800000000001,
          66.46560000000001,
          67.28320000000001,
          68.1008,
          68.9184,
          69.736,
          70.5536,
          71.3712,
          72.1888,
          73.0064,
          73.824,
          74.64160000000001,
          75.45920000000001,
          76.27680000000001,
          77.09440000000001,
          77.912,
          78.7296,
          79.5472,
          80.3648,
          81.1824,
          82
         ],
         "xaxis": "x",
         "y": [
          0.002584398923059676,
          0.002699154847417008,
          0.0028189771146561516,
          0.002944086770338147,
          0.0030747142689998667,
          0.003211099853681498,
          0.003353493948893915,
          0.0035021575673324775,
          0.0036573627306342553,
          0.003819392904463927,
          0.003988543448199553,
          0.004165122079472926,
          0.004349449353799982,
          0.0045418591595144595,
          0.004742699228192766,
          0.004952331660729105,
          0.0051711334691874914,
          0.0053994971345208516,
          0.005637831180206743,
          0.005886560761804104,
          0.006146128272385454,
          0.0064169939637440014,
          0.0066996365832146625,
          0.006994554025881959,
          0.007302264001875694,
          0.007623304718377056,
          0.007958235575872954,
          0.00830763787810484,
          0.008672115555059562,
          0.009052295898244012,
          0.009448830307371826,
          0.009862395047469616,
          0.010293692015281275,
          0.010743449513712566,
          0.011212423032913702,
          0.01170139603644539,
          0.0122111807508141,
          0.012742618956494669,
          0.013296582778383817,
          0.013873975473446591,
          0.014475732213129635,
          0.01510282085792143,
          0.01575624272124062,
          0.016437033319629996,
          0.01714626310602704,
          0.01788503818267261,
          0.018654500990009044,
          0.0194558309677087,
          0.020290245183765442,
          0.021158998927376056,
          0.022063386261138407,
          0.02300474052789907,
          0.02398443480739833,
          0.025003882317685897,
          0.026064536756118525,
          0.027167892574603777,
          0.028315485183623243,
          0.029508891079456638,
          0.030749727888936425,
          0.032039654325993504,
          0.033380370054208366,
          0.034773615449561854,
          0.03622117125758483,
          0.037724858139138014,
          0.03928653609911255,
          0.04090810379242754,
          0.04259149770181305,
          0.04433869118200418,
          0.0461516933651326,
          0.048032547922284285,
          0.04998333167639237,
          0.05200615306185059,
          0.05410315042646099,
          0.05627649017156513,
          0.05852836472644801,
          0.060860990353342276,
          0.06327660477959382,
          0.06577746465377356,
          0.06836584282272976,
          0.07104402542676776,
          0.07381430881031692,
          0.07667899624559248,
          0.07964039446689058,
          0.08270081001325613,
          0.08586254537735027,
          0.08912789495841192,
          0.09249914081726707,
          0.09597854823139607,
          0.09956836104813394,
          0.10327079683416449,
          0.10708804181958963,
          0.11102224563502777,
          0.11507551584043697,
          0.11924991224469281,
          0.12354744101539208,
          0.12797004857893327,
          0.13251961531165518,
          0.13719794902372662,
          0.1420067782385882,
          0.14694774527207424,
          0.15202239911690435
         ],
         "yaxis": "y"
        },
        {
         "customdata": [
          [
           0.051021894898111764,
           "Logistic Regression_Unknown",
           "age"
          ],
          [
           0.051021894898111764,
           "Logistic Regression_Unknown",
           "age"
          ],
          [
           0.051021894898111764,
           "Logistic Regression_Unknown",
           "age"
          ],
          [
           0.051021894898111764,
           "Logistic Regression_Unknown",
           "age"
          ],
          [
           0.051021894898111764,
           "Logistic Regression_Unknown",
           "age"
          ],
          [
           0.051021894898111764,
           "Logistic Regression_Unknown",
           "age"
          ],
          [
           0.051021894898111764,
           "Logistic Regression_Unknown",
           "age"
          ],
          [
           0.051021894898111764,
           "Logistic Regression_Unknown",
           "age"
          ],
          [
           0.051021894898111764,
           "Logistic Regression_Unknown",
           "age"
          ],
          [
           0.051021894898111764,
           "Logistic Regression_Unknown",
           "age"
          ],
          [
           0.051021894898111764,
           "Logistic Regression_Unknown",
           "age"
          ],
          [
           0.051021894898111764,
           "Logistic Regression_Unknown",
           "age"
          ],
          [
           0.051021894898111764,
           "Logistic Regression_Unknown",
           "age"
          ],
          [
           0.051021894898111764,
           "Logistic Regression_Unknown",
           "age"
          ],
          [
           0.051021894898111764,
           "Logistic Regression_Unknown",
           "age"
          ],
          [
           0.051021894898111764,
           "Logistic Regression_Unknown",
           "age"
          ],
          [
           0.051021894898111764,
           "Logistic Regression_Unknown",
           "age"
          ],
          [
           0.051021894898111764,
           "Logistic Regression_Unknown",
           "age"
          ],
          [
           0.051021894898111764,
           "Logistic Regression_Unknown",
           "age"
          ],
          [
           0.051021894898111764,
           "Logistic Regression_Unknown",
           "age"
          ],
          [
           0.051021894898111764,
           "Logistic Regression_Unknown",
           "age"
          ],
          [
           0.051021894898111764,
           "Logistic Regression_Unknown",
           "age"
          ],
          [
           0.051021894898111764,
           "Logistic Regression_Unknown",
           "age"
          ],
          [
           0.051021894898111764,
           "Logistic Regression_Unknown",
           "age"
          ],
          [
           0.051021894898111764,
           "Logistic Regression_Unknown",
           "age"
          ],
          [
           0.051021894898111764,
           "Logistic Regression_Unknown",
           "age"
          ],
          [
           0.051021894898111764,
           "Logistic Regression_Unknown",
           "age"
          ],
          [
           0.051021894898111764,
           "Logistic Regression_Unknown",
           "age"
          ],
          [
           0.051021894898111764,
           "Logistic Regression_Unknown",
           "age"
          ],
          [
           0.051021894898111764,
           "Logistic Regression_Unknown",
           "age"
          ],
          [
           0.051021894898111764,
           "Logistic Regression_Unknown",
           "age"
          ],
          [
           0.051021894898111764,
           "Logistic Regression_Unknown",
           "age"
          ],
          [
           0.051021894898111764,
           "Logistic Regression_Unknown",
           "age"
          ],
          [
           0.051021894898111764,
           "Logistic Regression_Unknown",
           "age"
          ],
          [
           0.051021894898111764,
           "Logistic Regression_Unknown",
           "age"
          ],
          [
           0.051021894898111764,
           "Logistic Regression_Unknown",
           "age"
          ],
          [
           0.051021894898111764,
           "Logistic Regression_Unknown",
           "age"
          ],
          [
           0.051021894898111764,
           "Logistic Regression_Unknown",
           "age"
          ],
          [
           0.051021894898111764,
           "Logistic Regression_Unknown",
           "age"
          ],
          [
           0.051021894898111764,
           "Logistic Regression_Unknown",
           "age"
          ],
          [
           0.051021894898111764,
           "Logistic Regression_Unknown",
           "age"
          ],
          [
           0.051021894898111764,
           "Logistic Regression_Unknown",
           "age"
          ],
          [
           0.051021894898111764,
           "Logistic Regression_Unknown",
           "age"
          ],
          [
           0.051021894898111764,
           "Logistic Regression_Unknown",
           "age"
          ],
          [
           0.051021894898111764,
           "Logistic Regression_Unknown",
           "age"
          ],
          [
           0.051021894898111764,
           "Logistic Regression_Unknown",
           "age"
          ],
          [
           0.051021894898111764,
           "Logistic Regression_Unknown",
           "age"
          ],
          [
           0.051021894898111764,
           "Logistic Regression_Unknown",
           "age"
          ],
          [
           0.051021894898111764,
           "Logistic Regression_Unknown",
           "age"
          ],
          [
           0.051021894898111764,
           "Logistic Regression_Unknown",
           "age"
          ],
          [
           0.051021894898111764,
           "Logistic Regression_Unknown",
           "age"
          ],
          [
           0.051021894898111764,
           "Logistic Regression_Unknown",
           "age"
          ],
          [
           0.051021894898111764,
           "Logistic Regression_Unknown",
           "age"
          ],
          [
           0.051021894898111764,
           "Logistic Regression_Unknown",
           "age"
          ],
          [
           0.051021894898111764,
           "Logistic Regression_Unknown",
           "age"
          ],
          [
           0.051021894898111764,
           "Logistic Regression_Unknown",
           "age"
          ],
          [
           0.051021894898111764,
           "Logistic Regression_Unknown",
           "age"
          ],
          [
           0.051021894898111764,
           "Logistic Regression_Unknown",
           "age"
          ],
          [
           0.051021894898111764,
           "Logistic Regression_Unknown",
           "age"
          ],
          [
           0.051021894898111764,
           "Logistic Regression_Unknown",
           "age"
          ],
          [
           0.051021894898111764,
           "Logistic Regression_Unknown",
           "age"
          ],
          [
           0.051021894898111764,
           "Logistic Regression_Unknown",
           "age"
          ],
          [
           0.051021894898111764,
           "Logistic Regression_Unknown",
           "age"
          ],
          [
           0.051021894898111764,
           "Logistic Regression_Unknown",
           "age"
          ],
          [
           0.051021894898111764,
           "Logistic Regression_Unknown",
           "age"
          ],
          [
           0.051021894898111764,
           "Logistic Regression_Unknown",
           "age"
          ],
          [
           0.051021894898111764,
           "Logistic Regression_Unknown",
           "age"
          ],
          [
           0.051021894898111764,
           "Logistic Regression_Unknown",
           "age"
          ],
          [
           0.051021894898111764,
           "Logistic Regression_Unknown",
           "age"
          ],
          [
           0.051021894898111764,
           "Logistic Regression_Unknown",
           "age"
          ],
          [
           0.051021894898111764,
           "Logistic Regression_Unknown",
           "age"
          ],
          [
           0.051021894898111764,
           "Logistic Regression_Unknown",
           "age"
          ],
          [
           0.051021894898111764,
           "Logistic Regression_Unknown",
           "age"
          ],
          [
           0.051021894898111764,
           "Logistic Regression_Unknown",
           "age"
          ],
          [
           0.051021894898111764,
           "Logistic Regression_Unknown",
           "age"
          ],
          [
           0.051021894898111764,
           "Logistic Regression_Unknown",
           "age"
          ],
          [
           0.051021894898111764,
           "Logistic Regression_Unknown",
           "age"
          ],
          [
           0.051021894898111764,
           "Logistic Regression_Unknown",
           "age"
          ],
          [
           0.051021894898111764,
           "Logistic Regression_Unknown",
           "age"
          ],
          [
           0.051021894898111764,
           "Logistic Regression_Unknown",
           "age"
          ],
          [
           0.051021894898111764,
           "Logistic Regression_Unknown",
           "age"
          ],
          [
           0.051021894898111764,
           "Logistic Regression_Unknown",
           "age"
          ],
          [
           0.051021894898111764,
           "Logistic Regression_Unknown",
           "age"
          ],
          [
           0.051021894898111764,
           "Logistic Regression_Unknown",
           "age"
          ],
          [
           0.051021894898111764,
           "Logistic Regression_Unknown",
           "age"
          ],
          [
           0.051021894898111764,
           "Logistic Regression_Unknown",
           "age"
          ],
          [
           0.051021894898111764,
           "Logistic Regression_Unknown",
           "age"
          ],
          [
           0.051021894898111764,
           "Logistic Regression_Unknown",
           "age"
          ],
          [
           0.051021894898111764,
           "Logistic Regression_Unknown",
           "age"
          ],
          [
           0.051021894898111764,
           "Logistic Regression_Unknown",
           "age"
          ],
          [
           0.051021894898111764,
           "Logistic Regression_Unknown",
           "age"
          ],
          [
           0.051021894898111764,
           "Logistic Regression_Unknown",
           "age"
          ],
          [
           0.051021894898111764,
           "Logistic Regression_Unknown",
           "age"
          ],
          [
           0.051021894898111764,
           "Logistic Regression_Unknown",
           "age"
          ],
          [
           0.051021894898111764,
           "Logistic Regression_Unknown",
           "age"
          ],
          [
           0.051021894898111764,
           "Logistic Regression_Unknown",
           "age"
          ],
          [
           0.051021894898111764,
           "Logistic Regression_Unknown",
           "age"
          ],
          [
           0.051021894898111764,
           "Logistic Regression_Unknown",
           "age"
          ],
          [
           0.051021894898111764,
           "Logistic Regression_Unknown",
           "age"
          ],
          [
           0.051021894898111764,
           "Logistic Regression_Unknown",
           "age"
          ],
          [
           0.051021894898111764,
           "Logistic Regression_Unknown",
           "age"
          ]
         ],
         "hovertemplate": "<b>%{hovertext}</b><br><br>prediction=%{y:.3f}<br>mean_prediction=%{customdata[0]:.3f}<extra></extra>",
         "hovertext": [
          "Logistic Regression_Unknown",
          "Logistic Regression_Unknown",
          "Logistic Regression_Unknown",
          "Logistic Regression_Unknown",
          "Logistic Regression_Unknown",
          "Logistic Regression_Unknown",
          "Logistic Regression_Unknown",
          "Logistic Regression_Unknown",
          "Logistic Regression_Unknown",
          "Logistic Regression_Unknown",
          "Logistic Regression_Unknown",
          "Logistic Regression_Unknown",
          "Logistic Regression_Unknown",
          "Logistic Regression_Unknown",
          "Logistic Regression_Unknown",
          "Logistic Regression_Unknown",
          "Logistic Regression_Unknown",
          "Logistic Regression_Unknown",
          "Logistic Regression_Unknown",
          "Logistic Regression_Unknown",
          "Logistic Regression_Unknown",
          "Logistic Regression_Unknown",
          "Logistic Regression_Unknown",
          "Logistic Regression_Unknown",
          "Logistic Regression_Unknown",
          "Logistic Regression_Unknown",
          "Logistic Regression_Unknown",
          "Logistic Regression_Unknown",
          "Logistic Regression_Unknown",
          "Logistic Regression_Unknown",
          "Logistic Regression_Unknown",
          "Logistic Regression_Unknown",
          "Logistic Regression_Unknown",
          "Logistic Regression_Unknown",
          "Logistic Regression_Unknown",
          "Logistic Regression_Unknown",
          "Logistic Regression_Unknown",
          "Logistic Regression_Unknown",
          "Logistic Regression_Unknown",
          "Logistic Regression_Unknown",
          "Logistic Regression_Unknown",
          "Logistic Regression_Unknown",
          "Logistic Regression_Unknown",
          "Logistic Regression_Unknown",
          "Logistic Regression_Unknown",
          "Logistic Regression_Unknown",
          "Logistic Regression_Unknown",
          "Logistic Regression_Unknown",
          "Logistic Regression_Unknown",
          "Logistic Regression_Unknown",
          "Logistic Regression_Unknown",
          "Logistic Regression_Unknown",
          "Logistic Regression_Unknown",
          "Logistic Regression_Unknown",
          "Logistic Regression_Unknown",
          "Logistic Regression_Unknown",
          "Logistic Regression_Unknown",
          "Logistic Regression_Unknown",
          "Logistic Regression_Unknown",
          "Logistic Regression_Unknown",
          "Logistic Regression_Unknown",
          "Logistic Regression_Unknown",
          "Logistic Regression_Unknown",
          "Logistic Regression_Unknown",
          "Logistic Regression_Unknown",
          "Logistic Regression_Unknown",
          "Logistic Regression_Unknown",
          "Logistic Regression_Unknown",
          "Logistic Regression_Unknown",
          "Logistic Regression_Unknown",
          "Logistic Regression_Unknown",
          "Logistic Regression_Unknown",
          "Logistic Regression_Unknown",
          "Logistic Regression_Unknown",
          "Logistic Regression_Unknown",
          "Logistic Regression_Unknown",
          "Logistic Regression_Unknown",
          "Logistic Regression_Unknown",
          "Logistic Regression_Unknown",
          "Logistic Regression_Unknown",
          "Logistic Regression_Unknown",
          "Logistic Regression_Unknown",
          "Logistic Regression_Unknown",
          "Logistic Regression_Unknown",
          "Logistic Regression_Unknown",
          "Logistic Regression_Unknown",
          "Logistic Regression_Unknown",
          "Logistic Regression_Unknown",
          "Logistic Regression_Unknown",
          "Logistic Regression_Unknown",
          "Logistic Regression_Unknown",
          "Logistic Regression_Unknown",
          "Logistic Regression_Unknown",
          "Logistic Regression_Unknown",
          "Logistic Regression_Unknown",
          "Logistic Regression_Unknown",
          "Logistic Regression_Unknown",
          "Logistic Regression_Unknown",
          "Logistic Regression_Unknown",
          "Logistic Regression_Unknown",
          "Logistic Regression_Unknown"
         ],
         "legendgroup": "Logistic Regression_Unknown",
         "line": {
          "color": "#ffa58c",
          "dash": "solid",
          "width": 2
         },
         "marker": {
          "symbol": "circle"
         },
         "mode": "lines",
         "name": "Logistic Regression_Unknown",
         "opacity": 1,
         "orientation": "v",
         "showlegend": true,
         "type": "scatter",
         "x": [
          0.24,
          1.0576,
          1.8752000000000002,
          2.6928,
          3.5104000000000006,
          4.328000000000001,
          5.145600000000001,
          5.9632000000000005,
          6.780800000000001,
          7.598400000000002,
          8.416000000000002,
          9.233600000000001,
          10.051200000000001,
          10.868800000000002,
          11.6864,
          12.504000000000001,
          13.321600000000002,
          14.139200000000002,
          14.956800000000003,
          15.774400000000002,
          16.592000000000002,
          17.4096,
          18.2272,
          19.044800000000002,
          19.8624,
          20.68,
          21.497600000000002,
          22.3152,
          23.1328,
          23.950400000000002,
          24.768,
          25.585600000000003,
          26.403200000000002,
          27.2208,
          28.038400000000003,
          28.856,
          29.673600000000004,
          30.491200000000003,
          31.3088,
          32.126400000000004,
          32.94400000000001,
          33.76160000000001,
          34.57920000000001,
          35.396800000000006,
          36.214400000000005,
          37.032000000000004,
          37.84960000000001,
          38.66720000000001,
          39.48480000000001,
          40.302400000000006,
          41.120000000000005,
          41.93760000000001,
          42.75520000000001,
          43.57280000000001,
          44.39040000000001,
          45.208000000000006,
          46.025600000000004,
          46.84320000000001,
          47.66080000000001,
          48.47840000000001,
          49.29600000000001,
          50.113600000000005,
          50.93120000000001,
          51.74880000000001,
          52.56640000000001,
          53.38400000000001,
          54.201600000000006,
          55.01920000000001,
          55.83680000000001,
          56.65440000000001,
          57.47200000000001,
          58.28960000000001,
          59.10720000000001,
          59.92480000000001,
          60.74240000000001,
          61.56000000000001,
          62.37760000000001,
          63.19520000000001,
          64.01280000000001,
          64.8304,
          65.64800000000001,
          66.46560000000001,
          67.28320000000001,
          68.1008,
          68.9184,
          69.736,
          70.5536,
          71.3712,
          72.1888,
          73.0064,
          73.824,
          74.64160000000001,
          75.45920000000001,
          76.27680000000001,
          77.09440000000001,
          77.912,
          78.7296,
          79.5472,
          80.3648,
          81.1824,
          82
         ],
         "xaxis": "x",
         "y": [
          0.002414004746920745,
          0.0025213299919885196,
          0.002633405773818043,
          0.0027504404654110494,
          0.0028726514091932274,
          0.0030002652878845766,
          0.003133518509348791,
          0.0032726576058266757,
          0.003417939647958915,
          0.003569632674002374,
          0.0037280161346415278,
          0.0038933813537923843,
          0.004066032005790246,
          0.004246284609344512,
          0.004434469038633573,
          0.00463092905190011,
          0.004836022837891889,
          0.00505012358047497,
          0.005273620041725065,
          0.005506917163778159,
          0.005750436689693305,
          0.0060046178035484425,
          0.006269917789953673,
          0.006546812713125707,
          0.006835798115621453,
          0.007137389736777983,
          0.007452124250849714,
          0.007780560024771562,
          0.008123277895408463,
          0.008480881966076674,
          0.00885400042204052,
          0.009243286364599042,
          0.009649418663280224,
          0.010073102825555671,
          0.010515071883375348,
          0.010976087295700026,
          0.01145693986607808,
          0.011958450674172701,
          0.012481472019995471,
          0.01302688837944187,
          0.01359561736955388,
          0.014188610721753488,
          0.014806855261099334,
          0.015451373889415403,
          0.016123226569927138,
          0.01682351131081472,
          0.01755336514485693,
          0.0183139651020908,
          0.019106529172153216,
          0.01993231725269963,
          0.020792632080013192,
          0.021688820137624555,
          0.022622272538458242,
          0.02359442587570669,
          0.024606763037307248,
          0.02566081397856164,
          0.026758156447091272,
          0.027900416653965924,
          0.02908926988447835,
          0.030326441041662797,
          0.031613705115273026,
          0.032952887568544156,
          0.0343458646346645,
          0.035794563514477976,
          0.03730096246652655,
          0.03886709078012473,
          0.040495028621737976,
          0.04218690674451241,
          0.043944906050378436,
          0.04577125699372657,
          0.04766823881523205,
          0.04963817859399,
          0.05168345010571707,
          0.05380647247438337,
          0.056009708604266156,
          0.05829566337906847,
          0.06066688161443013,
          0.0631259457498835,
          0.06567547326608054,
          0.06831811381295291,
          0.071056546034376,
          0.07389347407490027,
          0.07683162375421385,
          0.07987373839521074,
          0.08302257429189375,
          0.0862808958038446,
          0.08965147006467634,
          0.09313706129275827,
          0.09674042469359745,
          0.10046429994459077,
          0.10431140425445054,
          0.1082844249914721,
          0.11238601187697345,
          0.11661876874271111,
          0.12098524485387084,
          0.12548792580236465,
          0.1301292239786336,
          0.1349114686339636,
          0.13983689554946233,
          0.14490763633230766,
          0.1501257073646417
         ],
         "yaxis": "y"
        }
       ],
       "layout": {
        "annotations": [
         {
          "font": {
           "size": 13
          },
          "showarrow": false,
          "text": "age",
          "x": 0.5,
          "xanchor": "center",
          "xref": "paper",
          "y": 1,
          "yanchor": "bottom",
          "yref": "paper"
         },
         {
          "font": {
           "size": 13
          },
          "showarrow": false,
          "text": "prediction",
          "textangle": -90,
          "x": -0.07,
          "xref": "paper",
          "y": 0.5,
          "yref": "paper"
         }
        ],
        "font": {
         "color": "#371ea3"
        },
        "height": 489,
        "hovermode": "x unified",
        "legend": {
         "font": {
          "size": 11
         },
         "itemsizing": "constant",
         "orientation": "h",
         "title": {
          "font": {
           "size": 12
          },
          "text": "label"
         },
         "tracegroupgap": 0,
         "x": 1,
         "xanchor": "right",
         "y": 1.0613496932515338,
         "yanchor": "bottom"
        },
        "margin": {
         "b": 71,
         "r": 30,
         "t": 78
        },
        "template": {
         "data": {
          "scatter": [
           {
            "type": "scatter"
           }
          ]
         }
        },
        "title": {
         "font": {
          "size": 16
         },
         "text": "PDP for age with gender groups",
         "x": 0.15
        },
        "xaxis": {
         "anchor": "y",
         "automargin": true,
         "domain": [
          0,
          1
         ],
         "fixedrange": true,
         "gridwidth": 2,
         "showticklabels": true,
         "tickcolor": "white",
         "ticklen": 3,
         "ticks": "outside",
         "title": {
          "text": ""
         },
         "type": "linear",
         "zeroline": false
        },
        "yaxis": {
         "anchor": "x",
         "automargin": true,
         "domain": [
          0,
          1
         ],
         "fixedrange": true,
         "gridwidth": 2,
         "range": [
          -0.017831165979071452,
          0.2251108827328349
         ],
         "tickcolor": "white",
         "ticklen": 3,
         "ticks": "outside",
         "title": {
          "text": ""
         },
         "type": "linear",
         "zeroline": false
        }
       }
      }
     },
     "metadata": {},
     "output_type": "display_data"
    }
   ],
   "source": [
    "X_train['smoke_text'] = X_train['smoking_status'].map({'Unknown': 0, 'formerly smoked': 1, 'never smoked': 2, 'smokes': 3})\n",
    "\n",
    "# Użycie tej kolumny do grupowania\n",
    "pdp_age_gender = exp.model_profile(variables=['age'], groups='smoking_status')\n",
    "pdp_age_gender.plot(title=\"PDP for age with gender groups\")"
   ]
  },
  {
   "cell_type": "markdown",
   "metadata": {},
   "source": [
    "Zmienne kategoryczne:"
   ]
  },
  {
   "cell_type": "code",
   "execution_count": 239,
   "metadata": {},
   "outputs": [
    {
     "name": "stderr",
     "output_type": "stream",
     "text": [
      "Calculating ceteris paribus: 100%|██████████| 1/1 [00:00<00:00, 71.49it/s]\n"
     ]
    },
    {
     "data": {
      "application/vnd.plotly.v1+json": {
       "config": {
        "displaylogo": false,
        "modeBarButtonsToRemove": [
         "sendDataToCloud",
         "lasso2d",
         "autoScale2d",
         "select2d",
         "zoom2d",
         "pan2d",
         "zoomIn2d",
         "zoomOut2d",
         "resetScale2d",
         "toggleSpikelines",
         "hoverCompareCartesian",
         "hoverClosestCartesian"
        ],
        "plotlyServerURL": "https://plot.ly",
        "staticPlot": false,
        "toImageButtonOptions": {
         "height": null,
         "width": null
        }
       },
       "data": [
        {
         "alignmentgroup": "True",
         "base": [
          0.05386225703685516,
          0.05386225703685516
         ],
         "customdata": [
          [
           0.0579949220954117,
           "Logistic Regression",
           "gender"
          ],
          [
           0.049652545004096306,
           "Logistic Regression",
           "gender"
          ]
         ],
         "hovertemplate": "<b>%{hovertext}</b><br><br>mean_prediction=%{base:.3f}<br>prediction=%{customdata[0]:.3f}<extra></extra>",
         "hovertext": [
          "Logistic Regression",
          "Logistic Regression"
         ],
         "legendgroup": "Logistic Regression",
         "marker": {
          "color": "#46bac2",
          "pattern": {
           "shape": ""
          }
         },
         "name": "Logistic Regression",
         "offsetgroup": "Logistic Regression",
         "orientation": "v",
         "showlegend": true,
         "textposition": "auto",
         "type": "bar",
         "x": [
          "Female",
          "Male"
         ],
         "xaxis": "x",
         "y": [
          0.004132665058556535,
          -0.0042097120327588555
         ],
         "yaxis": "y"
        }
       ],
       "layout": {
        "annotations": [
         {
          "font": {
           "size": 13
          },
          "showarrow": false,
          "text": "gender",
          "x": 0.5,
          "xanchor": "center",
          "xref": "paper",
          "y": 1,
          "yanchor": "bottom",
          "yref": "paper"
         },
         {
          "font": {
           "size": 13
          },
          "showarrow": false,
          "text": "prediction",
          "textangle": -90,
          "x": -0.07,
          "xref": "paper",
          "y": 0.5,
          "yref": "paper"
         }
        ],
        "barmode": "group",
        "font": {
         "color": "#371ea3"
        },
        "height": 489,
        "hovermode": "x unified",
        "legend": {
         "font": {
          "size": 11
         },
         "itemsizing": "constant",
         "orientation": "h",
         "title": {
          "font": {
           "size": 12
          },
          "text": "label"
         },
         "tracegroupgap": 0,
         "x": 1,
         "xanchor": "right",
         "y": 1.0613496932515338,
         "yanchor": "bottom"
        },
        "margin": {
         "b": 71,
         "r": 30,
         "t": 78
        },
        "shapes": [
         {
          "layer": "below",
          "line": {
           "color": "#371ea3",
           "dash": "dot",
           "width": 1.5
          },
          "type": "line",
          "x0": 0,
          "x1": 1,
          "xref": "x domain",
          "y0": 0.05386225703685516,
          "y1": 0.05386225703685516,
          "yref": "y"
         }
        ],
        "template": {
         "data": {
          "scatter": [
           {
            "type": "scatter"
           }
          ]
         }
        },
        "title": {
         "font": {
          "size": 16
         },
         "text": "PDP for gender",
         "x": 0.15
        },
        "xaxis": {
         "anchor": "y",
         "automargin": true,
         "domain": [
          0,
          1
         ],
         "fixedrange": true,
         "gridwidth": 2,
         "showticklabels": true,
         "tickcolor": "white",
         "ticklen": 10,
         "ticks": "outside",
         "title": {
          "text": ""
         },
         "type": "category"
        },
        "yaxis": {
         "anchor": "x",
         "automargin": true,
         "domain": [
          0,
          1
         ],
         "fixedrange": true,
         "gridwidth": 2,
         "range": [
          0.048818307294964766,
          0.058829159804543237
         ],
         "tickcolor": "white",
         "ticklen": 3,
         "ticks": "outside",
         "title": {
          "text": ""
         },
         "type": "linear",
         "zeroline": false
        }
       }
      }
     },
     "metadata": {},
     "output_type": "display_data"
    }
   ],
   "source": [
    "pdp_gender = exp.model_profile(variables=['gender'], variable_type='categorical')\n",
    "pdp_gender.plot(title=\"PDP for gender\")"
   ]
  },
  {
   "cell_type": "code",
   "execution_count": 240,
   "metadata": {},
   "outputs": [
    {
     "name": "stderr",
     "output_type": "stream",
     "text": [
      "Calculating ceteris paribus: 100%|██████████| 1/1 [00:00<00:00, 99.99it/s]\n"
     ]
    },
    {
     "data": {
      "application/vnd.plotly.v1+json": {
       "config": {
        "displaylogo": false,
        "modeBarButtonsToRemove": [
         "sendDataToCloud",
         "lasso2d",
         "autoScale2d",
         "select2d",
         "zoom2d",
         "pan2d",
         "zoomIn2d",
         "zoomOut2d",
         "resetScale2d",
         "toggleSpikelines",
         "hoverCompareCartesian",
         "hoverClosestCartesian"
        ],
        "plotlyServerURL": "https://plot.ly",
        "staticPlot": false,
        "toImageButtonOptions": {
         "height": null,
         "width": null
        }
       },
       "data": [
        {
         "alignmentgroup": "True",
         "base": [
          0.050927809208537574,
          0.050927809208537574
         ],
         "customdata": [
          [
           0.04702079684155645,
           "Logistic Regression",
           "Residence_type"
          ],
          [
           0.05513705683719438,
           "Logistic Regression",
           "Residence_type"
          ]
         ],
         "hovertemplate": "<b>%{hovertext}</b><br><br>mean_prediction=%{base:.3f}<br>prediction=%{customdata[0]:.3f}<extra></extra>",
         "hovertext": [
          "Logistic Regression",
          "Logistic Regression"
         ],
         "legendgroup": "Logistic Regression",
         "marker": {
          "color": "#46bac2",
          "pattern": {
           "shape": ""
          }
         },
         "name": "Logistic Regression",
         "offsetgroup": "Logistic Regression",
         "orientation": "v",
         "showlegend": true,
         "textposition": "auto",
         "type": "bar",
         "x": [
          "Rural",
          "Urban"
         ],
         "xaxis": "x",
         "y": [
          -0.0039070123669811205,
          0.0042092476286568065
         ],
         "yaxis": "y"
        }
       ],
       "layout": {
        "annotations": [
         {
          "font": {
           "size": 13
          },
          "showarrow": false,
          "text": "Residence_type",
          "x": 0.5,
          "xanchor": "center",
          "xref": "paper",
          "y": 1,
          "yanchor": "bottom",
          "yref": "paper"
         },
         {
          "font": {
           "size": 13
          },
          "showarrow": false,
          "text": "prediction",
          "textangle": -90,
          "x": -0.07,
          "xref": "paper",
          "y": 0.5,
          "yref": "paper"
         }
        ],
        "barmode": "group",
        "font": {
         "color": "#371ea3"
        },
        "height": 489,
        "hovermode": "x unified",
        "legend": {
         "font": {
          "size": 11
         },
         "itemsizing": "constant",
         "orientation": "h",
         "title": {
          "font": {
           "size": 12
          },
          "text": "label"
         },
         "tracegroupgap": 0,
         "x": 1,
         "xanchor": "right",
         "y": 1.0613496932515338,
         "yanchor": "bottom"
        },
        "margin": {
         "b": 71,
         "r": 30,
         "t": 78
        },
        "shapes": [
         {
          "layer": "below",
          "line": {
           "color": "#371ea3",
           "dash": "dot",
           "width": 1.5
          },
          "type": "line",
          "x0": 0,
          "x1": 1,
          "xref": "x domain",
          "y0": 0.050927809208537574,
          "y1": 0.050927809208537574,
          "yref": "y"
         }
        ],
        "template": {
         "data": {
          "scatter": [
           {
            "type": "scatter"
           }
          ]
         }
        },
        "title": {
         "font": {
          "size": 16
         },
         "text": "PDP for Residence_type",
         "x": 0.15
        },
        "xaxis": {
         "anchor": "y",
         "automargin": true,
         "domain": [
          0,
          1
         ],
         "fixedrange": true,
         "gridwidth": 2,
         "showticklabels": true,
         "tickcolor": "white",
         "ticklen": 10,
         "ticks": "outside",
         "title": {
          "text": ""
         },
         "type": "category"
        },
        "yaxis": {
         "anchor": "x",
         "automargin": true,
         "domain": [
          0,
          1
         ],
         "fixedrange": true,
         "gridwidth": 2,
         "range": [
          0.046209170841992664,
          0.055948682836758176
         ],
         "tickcolor": "white",
         "ticklen": 3,
         "ticks": "outside",
         "title": {
          "text": ""
         },
         "type": "linear",
         "zeroline": false
        }
       }
      }
     },
     "metadata": {},
     "output_type": "display_data"
    }
   ],
   "source": [
    "pdp_residence_type = exp.model_profile(variables=['Residence_type'], variable_type='categorical')\n",
    "pdp_residence_type.plot(title=\"PDP for Residence_type\")\n"
   ]
  },
  {
   "cell_type": "code",
   "execution_count": 241,
   "metadata": {},
   "outputs": [
    {
     "name": "stderr",
     "output_type": "stream",
     "text": [
      "Calculating ceteris paribus: 100%|██████████| 1/1 [00:00<00:00, 90.92it/s]\n"
     ]
    },
    {
     "data": {
      "application/vnd.plotly.v1+json": {
       "config": {
        "displaylogo": false,
        "modeBarButtonsToRemove": [
         "sendDataToCloud",
         "lasso2d",
         "autoScale2d",
         "select2d",
         "zoom2d",
         "pan2d",
         "zoomIn2d",
         "zoomOut2d",
         "resetScale2d",
         "toggleSpikelines",
         "hoverCompareCartesian",
         "hoverClosestCartesian"
        ],
        "plotlyServerURL": "https://plot.ly",
        "staticPlot": false,
        "toImageButtonOptions": {
         "height": null,
         "width": null
        }
       },
       "data": [
        {
         "alignmentgroup": "True",
         "base": [
          0.049258797016270145,
          0.049258797016270145,
          0.049258797016270145,
          0.049258797016270145
         ],
         "customdata": [
          [
           0.045444475812223654,
           "Logistic Regression",
           "smoking_status"
          ],
          [
           0.043818230107429655,
           "Logistic Regression",
           "smoking_status"
          ],
          [
           0.06353173221584184,
           "Logistic Regression",
           "smoking_status"
          ],
          [
           0.05114452158948465,
           "Logistic Regression",
           "smoking_status"
          ]
         ],
         "hovertemplate": "<b>%{hovertext}</b><br><br>mean_prediction=%{base:.3f}<br>prediction=%{customdata[0]:.3f}<extra></extra>",
         "hovertext": [
          "Logistic Regression",
          "Logistic Regression",
          "Logistic Regression",
          "Logistic Regression"
         ],
         "legendgroup": "Logistic Regression",
         "marker": {
          "color": "#46bac2",
          "pattern": {
           "shape": ""
          }
         },
         "name": "Logistic Regression",
         "offsetgroup": "Logistic Regression",
         "orientation": "v",
         "showlegend": true,
         "textposition": "auto",
         "type": "bar",
         "x": [
          "never smoked",
          "Unknown",
          "formerly smoked",
          "smokes"
         ],
         "xaxis": "x",
         "y": [
          -0.0038143212040464905,
          -0.00544056690884049,
          0.014272935199571693,
          0.001885724573214502
         ],
         "yaxis": "y"
        }
       ],
       "layout": {
        "annotations": [
         {
          "font": {
           "size": 13
          },
          "showarrow": false,
          "text": "smoking_status",
          "x": 0.5,
          "xanchor": "center",
          "xref": "paper",
          "y": 1,
          "yanchor": "bottom",
          "yref": "paper"
         },
         {
          "font": {
           "size": 13
          },
          "showarrow": false,
          "text": "prediction",
          "textangle": -90,
          "x": -0.07,
          "xref": "paper",
          "y": 0.5,
          "yref": "paper"
         }
        ],
        "barmode": "group",
        "font": {
         "color": "#371ea3"
        },
        "height": 489,
        "hovermode": "x unified",
        "legend": {
         "font": {
          "size": 11
         },
         "itemsizing": "constant",
         "orientation": "h",
         "title": {
          "font": {
           "size": 12
          },
          "text": "label"
         },
         "tracegroupgap": 0,
         "x": 1,
         "xanchor": "right",
         "y": 1.0613496932515338,
         "yanchor": "bottom"
        },
        "margin": {
         "b": 71,
         "r": 30,
         "t": 78
        },
        "shapes": [
         {
          "layer": "below",
          "line": {
           "color": "#371ea3",
           "dash": "dot",
           "width": 1.5
          },
          "type": "line",
          "x0": 0,
          "x1": 1,
          "xref": "x domain",
          "y0": 0.049258797016270145,
          "y1": 0.049258797016270145,
          "yref": "y"
         }
        ],
        "template": {
         "data": {
          "scatter": [
           {
            "type": "scatter"
           }
          ]
         }
        },
        "title": {
         "font": {
          "size": 16
         },
         "text": "PDP for smoking_status",
         "x": 0.15
        },
        "xaxis": {
         "anchor": "y",
         "automargin": true,
         "domain": [
          0,
          1
         ],
         "fixedrange": true,
         "gridwidth": 2,
         "showticklabels": true,
         "tickcolor": "white",
         "ticklen": 10,
         "ticks": "outside",
         "title": {
          "text": ""
         },
         "type": "category"
        },
        "yaxis": {
         "anchor": "x",
         "automargin": true,
         "domain": [
          0,
          1
         ],
         "fixedrange": true,
         "gridwidth": 2,
         "range": [
          0.04184687989658844,
          0.06550308242668305
         ],
         "tickcolor": "white",
         "ticklen": 3,
         "ticks": "outside",
         "title": {
          "text": ""
         },
         "type": "linear",
         "zeroline": false
        }
       }
      }
     },
     "metadata": {},
     "output_type": "display_data"
    }
   ],
   "source": [
    "pdp_smoking_status_type = exp.model_profile(variables=['smoking_status'], variable_type='categorical')\n",
    "pdp_smoking_status_type.plot(title=\"PDP for smoking_status\")"
   ]
  },
  {
   "cell_type": "markdown",
   "metadata": {},
   "source": [
    "Wartości SHAP"
   ]
  },
  {
   "cell_type": "markdown",
   "metadata": {},
   "source": [
    "Wykresy BD (Break-down Plots for Interactions)"
   ]
  },
  {
   "cell_type": "code",
   "execution_count": 242,
   "metadata": {},
   "outputs": [],
   "source": [
    "obs = X_train.iloc[10]"
   ]
  },
  {
   "cell_type": "code",
   "execution_count": 243,
   "metadata": {},
   "outputs": [
    {
     "name": "stdout",
     "output_type": "stream",
     "text": [
      "[[0.87460559 0.12539441]]\n"
     ]
    }
   ],
   "source": [
    "prediction = model.predict_proba(obs.to_frame().T)\n",
    "print(prediction)"
   ]
  },
  {
   "cell_type": "code",
   "execution_count": 244,
   "metadata": {},
   "outputs": [],
   "source": [
    "bd1 = exp.predict_parts(obs, type='break_down_interactions', order=['age', 'gender', 'smoking_status'])\n",
    "bd2 = exp.predict_parts(obs, type='break_down_interactions', order=['gender', 'smoking_status', 'age'])\n",
    "bd3 = exp.predict_parts(obs, type='break_down_interactions', order=['smoking_status', 'age', 'gender'])"
   ]
  },
  {
   "cell_type": "markdown",
   "metadata": {},
   "source": [
    "Wartości SHAP"
   ]
  },
  {
   "cell_type": "code",
   "execution_count": 245,
   "metadata": {},
   "outputs": [
    {
     "data": {
      "application/vnd.plotly.v1+json": {
       "config": {
        "displaylogo": false,
        "modeBarButtonsToRemove": [
         "sendDataToCloud",
         "lasso2d",
         "autoScale2d",
         "select2d",
         "zoom2d",
         "pan2d",
         "zoomIn2d",
         "zoomOut2d",
         "resetScale2d",
         "toggleSpikelines",
         "hoverCompareCartesian",
         "hoverClosestCartesian"
        ],
        "plotlyServerURL": "https://plot.ly",
        "staticPlot": false,
        "toImageButtonOptions": {
         "height": null,
         "width": null
        }
       },
       "data": [
        {
         "base": 0.04833333575881596,
         "connector": {
          "line": {
           "color": "#371ea3",
           "dash": "solid",
           "width": 1
          },
          "mode": "spanning"
         },
         "decreasing": {
          "marker": {
           "color": "#f05a71"
          }
         },
         "hoverinfo": "text+delta",
         "hoverlabel": {
          "bgcolor": "rgba(0,0,0,0.8)"
         },
         "hovertext": [
          "Average response: 0.048<br>Prediction: 0.125",
          "age = 71.0<br>increases average response by",
          "gender = Female<br>increases average response by",
          "smoking_status = formerly smoked<br>increases average response by",
          "Average response: 0.048<br>Prediction: 0.125"
         ],
         "increasing": {
          "marker": {
           "color": "#8bdcbe"
          }
         },
         "measure": [
          "relative",
          "relative",
          "relative",
          "relative",
          "total"
         ],
         "orientation": "h",
         "showlegend": false,
         "text": [
          "0.048",
          "+0.054",
          "+0.007",
          "+0.033",
          "0.125"
         ],
         "textposition": "outside",
         "totals": {
          "marker": {
           "color": "#371ea3"
          }
         },
         "type": "waterfall",
         "x": [
          0,
          0.054,
          0.007,
          0.033,
          0.077
         ],
         "xaxis": "x",
         "y": [
          "intercept",
          "age = 71.0",
          "gender = Female",
          "smoking_status = formerly smoked",
          "prediction"
         ],
         "yaxis": "y"
        }
       ],
       "layout": {
        "annotations": [
         {
          "font": {
           "size": 16
          },
          "showarrow": false,
          "text": "Logistic Regression",
          "x": 0.5,
          "xanchor": "center",
          "xref": "paper",
          "y": 1,
          "yanchor": "bottom",
          "yref": "paper"
         },
         {
          "font": {
           "size": 16
          },
          "showarrow": false,
          "text": "contribution",
          "x": 0.5,
          "xanchor": "center",
          "xref": "paper",
          "y": 0,
          "yanchor": "top",
          "yref": "paper",
          "yshift": -30
         }
        ],
        "font": {
         "color": "#371ea3"
        },
        "height": 253,
        "margin": {
         "b": 71,
         "r": 30,
         "t": 78
        },
        "shapes": [
         {
          "line": {
           "color": "#371ea3",
           "dash": "dot",
           "width": 1.5
          },
          "type": "line",
          "x0": 0.04833333575881596,
          "x1": 0.04833333575881596,
          "xref": "x",
          "y0": -1,
          "y1": 5,
          "yref": "y"
         }
        ],
        "template": {
         "data": {
          "scatter": [
           {
            "type": "scatter"
           }
          ]
         }
        },
        "title": {
         "text": "Break Down",
         "x": 0.15
        },
        "xaxis": {
         "anchor": "y",
         "automargin": true,
         "domain": [
          0,
          1
         ],
         "fixedrange": true,
         "gridwidth": 2,
         "range": [
          0.0339,
          0.1561
         ],
         "tickcolor": "white",
         "ticklen": 3,
         "ticks": "outside",
         "type": "linear",
         "zeroline": false
        },
        "yaxis": {
         "anchor": "x",
         "automargin": true,
         "autorange": "reversed",
         "domain": [
          0,
          1
         ],
         "fixedrange": true,
         "gridwidth": 2,
         "tickcolor": "white",
         "ticklen": 10,
         "ticks": "outside",
         "type": "category"
        }
       }
      }
     },
     "metadata": {},
     "output_type": "display_data"
    },
    {
     "data": {
      "application/vnd.plotly.v1+json": {
       "config": {
        "displaylogo": false,
        "modeBarButtonsToRemove": [
         "sendDataToCloud",
         "lasso2d",
         "autoScale2d",
         "select2d",
         "zoom2d",
         "pan2d",
         "zoomIn2d",
         "zoomOut2d",
         "resetScale2d",
         "toggleSpikelines",
         "hoverCompareCartesian",
         "hoverClosestCartesian"
        ],
        "plotlyServerURL": "https://plot.ly",
        "staticPlot": false,
        "toImageButtonOptions": {
         "height": null,
         "width": null
        }
       },
       "data": [
        {
         "base": 0.04833333575881596,
         "connector": {
          "line": {
           "color": "#371ea3",
           "dash": "solid",
           "width": 1
          },
          "mode": "spanning"
         },
         "decreasing": {
          "marker": {
           "color": "#f05a71"
          }
         },
         "hoverinfo": "text+delta",
         "hoverlabel": {
          "bgcolor": "rgba(0,0,0,0.8)"
         },
         "hovertext": [
          "Average response: 0.048<br>Prediction: 0.125",
          "gender = Female<br>increases average response by",
          "smoking_status = formerly smoked<br>increases average response by",
          "age = 71.0<br>increases average response by",
          "Average response: 0.048<br>Prediction: 0.125"
         ],
         "increasing": {
          "marker": {
           "color": "#8bdcbe"
          }
         },
         "measure": [
          "relative",
          "relative",
          "relative",
          "relative",
          "total"
         ],
         "orientation": "h",
         "showlegend": false,
         "text": [
          "0.048",
          "+0.003",
          "+0.014",
          "+0.076",
          "0.125"
         ],
         "textposition": "outside",
         "totals": {
          "marker": {
           "color": "#371ea3"
          }
         },
         "type": "waterfall",
         "x": [
          0,
          0.003,
          0.014,
          0.076,
          0.077
         ],
         "xaxis": "x",
         "y": [
          "intercept",
          "gender = Female",
          "smoking_status = formerly smoked",
          "age = 71.0",
          "prediction"
         ],
         "yaxis": "y"
        }
       ],
       "layout": {
        "annotations": [
         {
          "font": {
           "size": 16
          },
          "showarrow": false,
          "text": "Logistic Regression",
          "x": 0.5,
          "xanchor": "center",
          "xref": "paper",
          "y": 1,
          "yanchor": "bottom",
          "yref": "paper"
         },
         {
          "font": {
           "size": 16
          },
          "showarrow": false,
          "text": "contribution",
          "x": 0.5,
          "xanchor": "center",
          "xref": "paper",
          "y": 0,
          "yanchor": "top",
          "yref": "paper",
          "yshift": -30
         }
        ],
        "font": {
         "color": "#371ea3"
        },
        "height": 253,
        "margin": {
         "b": 71,
         "r": 30,
         "t": 78
        },
        "shapes": [
         {
          "line": {
           "color": "#371ea3",
           "dash": "dot",
           "width": 1.5
          },
          "type": "line",
          "x0": 0.04833333575881596,
          "x1": 0.04833333575881596,
          "xref": "x",
          "y0": -1,
          "y1": 5,
          "yref": "y"
         }
        ],
        "template": {
         "data": {
          "scatter": [
           {
            "type": "scatter"
           }
          ]
         }
        },
        "title": {
         "text": "Break Down",
         "x": 0.15
        },
        "xaxis": {
         "anchor": "y",
         "automargin": true,
         "domain": [
          0,
          1
         ],
         "fixedrange": true,
         "gridwidth": 2,
         "range": [
          0.0339,
          0.1561
         ],
         "tickcolor": "white",
         "ticklen": 3,
         "ticks": "outside",
         "type": "linear",
         "zeroline": false
        },
        "yaxis": {
         "anchor": "x",
         "automargin": true,
         "autorange": "reversed",
         "domain": [
          0,
          1
         ],
         "fixedrange": true,
         "gridwidth": 2,
         "tickcolor": "white",
         "ticklen": 10,
         "ticks": "outside",
         "type": "category"
        }
       }
      }
     },
     "metadata": {},
     "output_type": "display_data"
    },
    {
     "data": {
      "application/vnd.plotly.v1+json": {
       "config": {
        "displaylogo": false,
        "modeBarButtonsToRemove": [
         "sendDataToCloud",
         "lasso2d",
         "autoScale2d",
         "select2d",
         "zoom2d",
         "pan2d",
         "zoomIn2d",
         "zoomOut2d",
         "resetScale2d",
         "toggleSpikelines",
         "hoverCompareCartesian",
         "hoverClosestCartesian"
        ],
        "plotlyServerURL": "https://plot.ly",
        "staticPlot": false,
        "toImageButtonOptions": {
         "height": null,
         "width": null
        }
       },
       "data": [
        {
         "base": 0.04833333575881596,
         "connector": {
          "line": {
           "color": "#371ea3",
           "dash": "solid",
           "width": 1
          },
          "mode": "spanning"
         },
         "decreasing": {
          "marker": {
           "color": "#f05a71"
          }
         },
         "hoverinfo": "text+delta",
         "hoverlabel": {
          "bgcolor": "rgba(0,0,0,0.8)"
         },
         "hovertext": [
          "Average response: 0.048<br>Prediction: 0.125",
          "smoking_status = formerly smoked<br>increases average response by",
          "age = 71.0<br>increases average response by",
          "gender = Female<br>increases average response by",
          "Average response: 0.048<br>Prediction: 0.125"
         ],
         "increasing": {
          "marker": {
           "color": "#8bdcbe"
          }
         },
         "measure": [
          "relative",
          "relative",
          "relative",
          "relative",
          "total"
         ],
         "orientation": "h",
         "showlegend": false,
         "text": [
          "0.048",
          "+0.014",
          "+0.071",
          "+0.008",
          "0.125"
         ],
         "textposition": "outside",
         "totals": {
          "marker": {
           "color": "#371ea3"
          }
         },
         "type": "waterfall",
         "x": [
          0,
          0.014,
          0.071,
          0.008,
          0.077
         ],
         "xaxis": "x",
         "y": [
          "intercept",
          "smoking_status = formerly smoked",
          "age = 71.0",
          "gender = Female",
          "prediction"
         ],
         "yaxis": "y"
        }
       ],
       "layout": {
        "annotations": [
         {
          "font": {
           "size": 16
          },
          "showarrow": false,
          "text": "Logistic Regression",
          "x": 0.5,
          "xanchor": "center",
          "xref": "paper",
          "y": 1,
          "yanchor": "bottom",
          "yref": "paper"
         },
         {
          "font": {
           "size": 16
          },
          "showarrow": false,
          "text": "contribution",
          "x": 0.5,
          "xanchor": "center",
          "xref": "paper",
          "y": 0,
          "yanchor": "top",
          "yref": "paper",
          "yshift": -30
         }
        ],
        "font": {
         "color": "#371ea3"
        },
        "height": 253,
        "margin": {
         "b": 71,
         "r": 30,
         "t": 78
        },
        "shapes": [
         {
          "line": {
           "color": "#371ea3",
           "dash": "dot",
           "width": 1.5
          },
          "type": "line",
          "x0": 0.04833333575881596,
          "x1": 0.04833333575881596,
          "xref": "x",
          "y0": -1,
          "y1": 5,
          "yref": "y"
         }
        ],
        "template": {
         "data": {
          "scatter": [
           {
            "type": "scatter"
           }
          ]
         }
        },
        "title": {
         "text": "Break Down",
         "x": 0.15
        },
        "xaxis": {
         "anchor": "y",
         "automargin": true,
         "domain": [
          0,
          1
         ],
         "fixedrange": true,
         "gridwidth": 2,
         "range": [
          0.0339,
          0.1561
         ],
         "tickcolor": "white",
         "ticklen": 3,
         "ticks": "outside",
         "type": "linear",
         "zeroline": false
        },
        "yaxis": {
         "anchor": "x",
         "automargin": true,
         "autorange": "reversed",
         "domain": [
          0,
          1
         ],
         "fixedrange": true,
         "gridwidth": 2,
         "tickcolor": "white",
         "ticklen": 10,
         "ticks": "outside",
         "type": "category"
        }
       }
      }
     },
     "metadata": {},
     "output_type": "display_data"
    },
    {
     "data": {
      "text/plain": [
       "<Figure size 1500x500 with 0 Axes>"
      ]
     },
     "metadata": {},
     "output_type": "display_data"
    }
   ],
   "source": [
    "plt.figure(figsize=(15, 5))\n",
    "bd1.plot()\n",
    "bd2.plot()\n",
    "bd3.plot()\n",
    "plt.tight_layout()\n",
    "plt.show()"
   ]
  },
  {
   "cell_type": "code",
   "execution_count": 246,
   "metadata": {},
   "outputs": [],
   "source": [
    "shap = exp.predict_parts(obs, type='shap')"
   ]
  },
  {
   "cell_type": "code",
   "execution_count": 247,
   "metadata": {},
   "outputs": [
    {
     "data": {
      "application/vnd.plotly.v1+json": {
       "config": {
        "displaylogo": false,
        "modeBarButtonsToRemove": [
         "sendDataToCloud",
         "lasso2d",
         "autoScale2d",
         "select2d",
         "zoom2d",
         "pan2d",
         "zoomIn2d",
         "zoomOut2d",
         "resetScale2d",
         "toggleSpikelines",
         "hoverCompareCartesian",
         "hoverClosestCartesian"
        ],
        "plotlyServerURL": "https://plot.ly",
        "staticPlot": false,
        "toImageButtonOptions": {
         "height": null,
         "width": null
        }
       },
       "data": [
        {
         "base": 0.04833333575881596,
         "hoverinfo": "text",
         "hoverlabel": {
          "bgcolor": "rgba(0,0,0,0.8)"
         },
         "hovertext": [
          "Average response: 0.048<br>Prediction: 0.125<br>age = 71.0<br>increases average response <br>by 0.06",
          "Average response: 0.048<br>Prediction: 0.125<br>smoking_status = formerly smoked<br>increases average response <br>by 0.024",
          "Average response: 0.048<br>Prediction: 0.125<br>avg_glucose_level = 91.85<br>decreases average response <br>by 0.023",
          "Average response: 0.048<br>Prediction: 0.125<br>work_type = Private<br>increases average response <br>by 0.013",
          "Average response: 0.048<br>Prediction: 0.125<br>Residence_type = Rural<br>decreases average response <br>by 0.007",
          "Average response: 0.048<br>Prediction: 0.125<br>ever_married = Yes<br>increases average response <br>by 0.006",
          "Average response: 0.048<br>Prediction: 0.125<br>gender = Female<br>increases average response <br>by 0.005",
          "Average response: 0.048<br>Prediction: 0.125<br>heart_disease = 0.0<br>decreases average response <br>by 0.002",
          "Average response: 0.048<br>Prediction: 0.125<br>bmi = 27.6<br>increases average response <br>by 0.001",
          "Average response: 0.048<br>Prediction: 0.125<br>+ all other factors<br>decreases average response <br>by 0.0"
         ],
         "marker": {
          "color": [
           "#8bdcbe",
           "#8bdcbe",
           "#f05a71",
           "#8bdcbe",
           "#f05a71",
           "#8bdcbe",
           "#8bdcbe",
           "#f05a71",
           "#8bdcbe",
           "#f05a71"
          ]
         },
         "orientation": "h",
         "showlegend": false,
         "text": [
          "+0.06",
          "+0.024",
          "-0.023",
          "+0.013",
          "-0.007",
          "+0.006",
          "+0.005",
          "-0.002",
          "+0.001",
          "-0.0"
         ],
         "textposition": "outside",
         "type": "bar",
         "x": [
          0.06,
          0.024,
          -0.023,
          0.013,
          -0.007,
          0.006,
          0.005,
          -0.002,
          0.001,
          0
         ],
         "xaxis": "x",
         "y": [
          "age = 71.0",
          "smoking_status = formerly smoked",
          "avg_glucose_level = 91.85",
          "work_type = Private",
          "Residence_type = Rural",
          "ever_married = Yes",
          "gender = Female",
          "heart_disease = 0.0",
          "bmi = 27.6",
          "+ all other factors"
         ],
         "yaxis": "y"
        }
       ],
       "layout": {
        "annotations": [
         {
          "font": {
           "size": 16
          },
          "showarrow": false,
          "text": "Logistic Regression",
          "x": 0.5,
          "xanchor": "center",
          "xref": "paper",
          "y": 1,
          "yanchor": "bottom",
          "yref": "paper"
         },
         {
          "font": {
           "size": 16
          },
          "showarrow": false,
          "text": "contribution",
          "x": 0.5,
          "xanchor": "center",
          "xref": "paper",
          "y": 0,
          "yanchor": "top",
          "yref": "paper",
          "yshift": -30
         }
        ],
        "font": {
         "color": "#371ea3"
        },
        "height": 373,
        "margin": {
         "b": 71,
         "r": 30,
         "t": 78
        },
        "shapes": [
         {
          "line": {
           "color": "#371ea3",
           "dash": "dot",
           "width": 1.5
          },
          "type": "line",
          "x0": 0.04833333575881596,
          "x1": 0.04833333575881596,
          "xref": "x",
          "y0": -1,
          "y1": 11,
          "yref": "y"
         }
        ],
        "template": {
         "data": {
          "scatter": [
           {
            "type": "scatter"
           }
          ]
         }
        },
        "title": {
         "text": "Shapley Values",
         "x": 0.15
        },
        "xaxis": {
         "anchor": "y",
         "automargin": true,
         "domain": [
          0,
          1
         ],
         "fixedrange": true,
         "gridwidth": 2,
         "range": [
          0.012883335758815962,
          0.12078333575881596
         ],
         "tickcolor": "white",
         "ticklen": 3,
         "ticks": "outside",
         "type": "linear",
         "zeroline": false
        },
        "yaxis": {
         "anchor": "x",
         "automargin": true,
         "autorange": "reversed",
         "domain": [
          0,
          1
         ],
         "fixedrange": true,
         "gridwidth": 2,
         "tickcolor": "white",
         "ticklen": 10,
         "ticks": "outside",
         "type": "category"
        }
       }
      }
     },
     "metadata": {},
     "output_type": "display_data"
    },
    {
     "data": {
      "application/vnd.plotly.v1+json": {
       "config": {
        "displaylogo": false,
        "modeBarButtonsToRemove": [
         "sendDataToCloud",
         "lasso2d",
         "autoScale2d",
         "select2d",
         "zoom2d",
         "pan2d",
         "zoomIn2d",
         "zoomOut2d",
         "resetScale2d",
         "toggleSpikelines",
         "hoverCompareCartesian",
         "hoverClosestCartesian"
        ],
        "plotlyServerURL": "https://plot.ly",
        "staticPlot": false,
        "toImageButtonOptions": {
         "height": null,
         "width": null
        }
       },
       "data": [
        {
         "base": 0.04833333575881596,
         "hoverinfo": "text",
         "hoverlabel": {
          "bgcolor": "rgba(0,0,0,0.8)"
         },
         "hovertext": [
          "Average response: 0.048<br>Prediction: 0.125<br>age = 71.0<br>increases average response <br>by 0.06",
          "Average response: 0.048<br>Prediction: 0.125<br>smoking_status = formerly smoked<br>increases average response <br>by 0.024",
          "Average response: 0.048<br>Prediction: 0.125<br>avg_glucose_level = 91.85<br>decreases average response <br>by 0.023",
          "Average response: 0.048<br>Prediction: 0.125<br>work_type = Private<br>increases average response <br>by 0.013",
          "Average response: 0.048<br>Prediction: 0.125<br>Residence_type = Rural<br>decreases average response <br>by 0.007",
          "Average response: 0.048<br>Prediction: 0.125<br>ever_married = Yes<br>increases average response <br>by 0.006",
          "Average response: 0.048<br>Prediction: 0.125<br>gender = Female<br>increases average response <br>by 0.005",
          "Average response: 0.048<br>Prediction: 0.125<br>heart_disease = 0.0<br>decreases average response <br>by 0.002",
          "Average response: 0.048<br>Prediction: 0.125<br>bmi = 27.6<br>increases average response <br>by 0.001",
          "Average response: 0.048<br>Prediction: 0.125<br>+ all other factors<br>decreases average response <br>by 0.0"
         ],
         "marker": {
          "color": [
           "#8bdcbe",
           "#8bdcbe",
           "#f05a71",
           "#8bdcbe",
           "#f05a71",
           "#8bdcbe",
           "#8bdcbe",
           "#f05a71",
           "#8bdcbe",
           "#f05a71"
          ]
         },
         "orientation": "h",
         "showlegend": false,
         "text": [
          "+0.06",
          "+0.024",
          "-0.023",
          "+0.013",
          "-0.007",
          "+0.006",
          "+0.005",
          "-0.002",
          "+0.001",
          "-0.0"
         ],
         "textposition": "outside",
         "type": "bar",
         "x": [
          0.06,
          0.024,
          -0.023,
          0.013,
          -0.007,
          0.006,
          0.005,
          -0.002,
          0.001,
          0
         ],
         "xaxis": "x",
         "y": [
          "age = 71.0",
          "smoking_status = formerly smoked",
          "avg_glucose_level = 91.85",
          "work_type = Private",
          "Residence_type = Rural",
          "ever_married = Yes",
          "gender = Female",
          "heart_disease = 0.0",
          "bmi = 27.6",
          "+ all other factors"
         ],
         "yaxis": "y"
        }
       ],
       "layout": {
        "annotations": [
         {
          "font": {
           "size": 16
          },
          "showarrow": false,
          "text": "Logistic Regression",
          "x": 0.5,
          "xanchor": "center",
          "xref": "paper",
          "y": 1,
          "yanchor": "bottom",
          "yref": "paper"
         },
         {
          "font": {
           "size": 16
          },
          "showarrow": false,
          "text": "contribution",
          "x": 0.5,
          "xanchor": "center",
          "xref": "paper",
          "y": 0,
          "yanchor": "top",
          "yref": "paper",
          "yshift": -30
         }
        ],
        "font": {
         "color": "#371ea3"
        },
        "height": 373,
        "margin": {
         "b": 71,
         "r": 30,
         "t": 78
        },
        "shapes": [
         {
          "line": {
           "color": "#371ea3",
           "dash": "dot",
           "width": 1.5
          },
          "type": "line",
          "x0": 0.04833333575881596,
          "x1": 0.04833333575881596,
          "xref": "x",
          "y0": -1,
          "y1": 11,
          "yref": "y"
         }
        ],
        "template": {
         "data": {
          "scatter": [
           {
            "type": "scatter"
           }
          ]
         }
        },
        "title": {
         "text": "Shapley Values",
         "x": 0.15
        },
        "xaxis": {
         "anchor": "y",
         "automargin": true,
         "domain": [
          0,
          1
         ],
         "fixedrange": true,
         "gridwidth": 2,
         "range": [
          0.012883335758815962,
          0.12078333575881596
         ],
         "tickcolor": "white",
         "ticklen": 3,
         "ticks": "outside",
         "type": "linear",
         "zeroline": false
        },
        "yaxis": {
         "anchor": "x",
         "automargin": true,
         "autorange": "reversed",
         "domain": [
          0,
          1
         ],
         "fixedrange": true,
         "gridwidth": 2,
         "tickcolor": "white",
         "ticklen": 10,
         "ticks": "outside",
         "type": "category"
        }
       }
      }
     },
     "metadata": {},
     "output_type": "display_data"
    },
    {
     "data": {
      "text/plain": [
       "<Figure size 1000x400 with 0 Axes>"
      ]
     },
     "metadata": {},
     "output_type": "display_data"
    }
   ],
   "source": [
    "plt.figure(figsize=(10, 4))\n",
    "shap.plot()\n",
    "shap.plot(max_vars=10)\n",
    "plt.tight_layout()\n",
    "plt.show()"
   ]
  },
  {
   "cell_type": "code",
   "execution_count": null,
   "metadata": {},
   "outputs": [],
   "source": []
  }
 ],
 "metadata": {
  "kernelspec": {
   "display_name": "py10",
   "language": "python",
   "name": "python3"
  },
  "language_info": {
   "codemirror_mode": {
    "name": "ipython",
    "version": 3
   },
   "file_extension": ".py",
   "mimetype": "text/x-python",
   "name": "python",
   "nbconvert_exporter": "python",
   "pygments_lexer": "ipython3",
   "version": "3.10.6"
  }
 },
 "nbformat": 4,
 "nbformat_minor": 2
}
